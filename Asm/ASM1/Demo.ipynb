{
 "cells": [
  {
   "cell_type": "code",
   "execution_count": 1,
   "id": "fossil-payday",
   "metadata": {
    "ExecuteTime": {
     "end_time": "2021-04-04T09:00:53.439742Z",
     "start_time": "2021-04-04T09:00:51.575663Z"
    }
   },
   "outputs": [],
   "source": [
    "import numpy as np\n",
    "import pandas as pd \n",
    "import matplotlib.pyplot as plt \n",
    "import seaborn as sns \n",
    "import sklearn as sk \n",
    "\n",
    "from matplotlib import style\n",
    "style.use('dark_background')"
   ]
  },
  {
   "cell_type": "code",
   "execution_count": 2,
   "id": "micro-apparel",
   "metadata": {
    "ExecuteTime": {
     "end_time": "2021-04-04T09:00:53.578040Z",
     "start_time": "2021-04-04T09:00:53.444728Z"
    }
   },
   "outputs": [
    {
     "data": {
      "text/html": [
       "<div>\n",
       "<style scoped>\n",
       "    .dataframe tbody tr th:only-of-type {\n",
       "        vertical-align: middle;\n",
       "    }\n",
       "\n",
       "    .dataframe tbody tr th {\n",
       "        vertical-align: top;\n",
       "    }\n",
       "\n",
       "    .dataframe thead th {\n",
       "        text-align: right;\n",
       "    }\n",
       "</style>\n",
       "<table border=\"1\" class=\"dataframe\">\n",
       "  <thead>\n",
       "    <tr style=\"text-align: right;\">\n",
       "      <th></th>\n",
       "      <th>Gender</th>\n",
       "      <th>Race</th>\n",
       "      <th>TypeOfAdmission</th>\n",
       "      <th>CCSProcedureCode</th>\n",
       "      <th>APRSeverityOfIllnessCode</th>\n",
       "      <th>PaymentTypology</th>\n",
       "      <th>BirthWeight</th>\n",
       "      <th>EmergencyDepartmentIndicator</th>\n",
       "      <th>AverageCostInCounty</th>\n",
       "      <th>AverageChargesInCounty</th>\n",
       "      <th>AverageCostInFacility</th>\n",
       "      <th>AverageChargesInFacility</th>\n",
       "      <th>AverageIncomeInZipCode</th>\n",
       "      <th>LengthOfStay</th>\n",
       "    </tr>\n",
       "  </thead>\n",
       "  <tbody>\n",
       "    <tr>\n",
       "      <th>0</th>\n",
       "      <td>F</td>\n",
       "      <td>Other Race</td>\n",
       "      <td>Newborn</td>\n",
       "      <td>228</td>\n",
       "      <td>1</td>\n",
       "      <td>Medicaid</td>\n",
       "      <td>3700</td>\n",
       "      <td>N</td>\n",
       "      <td>2611</td>\n",
       "      <td>9227</td>\n",
       "      <td>1751</td>\n",
       "      <td>8951</td>\n",
       "      <td>45</td>\n",
       "      <td>1</td>\n",
       "    </tr>\n",
       "    <tr>\n",
       "      <th>1</th>\n",
       "      <td>M</td>\n",
       "      <td>Black/African American</td>\n",
       "      <td>Newborn</td>\n",
       "      <td>228</td>\n",
       "      <td>1</td>\n",
       "      <td>Medicaid</td>\n",
       "      <td>2900</td>\n",
       "      <td>N</td>\n",
       "      <td>3242</td>\n",
       "      <td>8966</td>\n",
       "      <td>3338</td>\n",
       "      <td>6409</td>\n",
       "      <td>34</td>\n",
       "      <td>1</td>\n",
       "    </tr>\n",
       "    <tr>\n",
       "      <th>2</th>\n",
       "      <td>M</td>\n",
       "      <td>Other Race</td>\n",
       "      <td>Newborn</td>\n",
       "      <td>220</td>\n",
       "      <td>1</td>\n",
       "      <td>Private Health Insurance</td>\n",
       "      <td>3200</td>\n",
       "      <td>N</td>\n",
       "      <td>3155</td>\n",
       "      <td>11381</td>\n",
       "      <td>4980</td>\n",
       "      <td>9323</td>\n",
       "      <td>45</td>\n",
       "      <td>1</td>\n",
       "    </tr>\n",
       "    <tr>\n",
       "      <th>3</th>\n",
       "      <td>F</td>\n",
       "      <td>Other Race</td>\n",
       "      <td>Newborn</td>\n",
       "      <td>0</td>\n",
       "      <td>1</td>\n",
       "      <td>Private Health Insurance</td>\n",
       "      <td>3300</td>\n",
       "      <td>N</td>\n",
       "      <td>3155</td>\n",
       "      <td>11381</td>\n",
       "      <td>5826</td>\n",
       "      <td>15680</td>\n",
       "      <td>59</td>\n",
       "      <td>1</td>\n",
       "    </tr>\n",
       "    <tr>\n",
       "      <th>4</th>\n",
       "      <td>F</td>\n",
       "      <td>Other Race</td>\n",
       "      <td>Newborn</td>\n",
       "      <td>228</td>\n",
       "      <td>1</td>\n",
       "      <td>Medicaid</td>\n",
       "      <td>2600</td>\n",
       "      <td>N</td>\n",
       "      <td>2611</td>\n",
       "      <td>9227</td>\n",
       "      <td>6000</td>\n",
       "      <td>14344</td>\n",
       "      <td>59</td>\n",
       "      <td>1</td>\n",
       "    </tr>\n",
       "  </tbody>\n",
       "</table>\n",
       "</div>"
      ],
      "text/plain": [
       "  Gender                    Race TypeOfAdmission  CCSProcedureCode  \\\n",
       "0      F              Other Race         Newborn               228   \n",
       "1      M  Black/African American         Newborn               228   \n",
       "2      M              Other Race         Newborn               220   \n",
       "3      F              Other Race         Newborn                 0   \n",
       "4      F              Other Race         Newborn               228   \n",
       "\n",
       "   APRSeverityOfIllnessCode           PaymentTypology  BirthWeight  \\\n",
       "0                         1                  Medicaid         3700   \n",
       "1                         1                  Medicaid         2900   \n",
       "2                         1  Private Health Insurance         3200   \n",
       "3                         1  Private Health Insurance         3300   \n",
       "4                         1                  Medicaid         2600   \n",
       "\n",
       "  EmergencyDepartmentIndicator  AverageCostInCounty  AverageChargesInCounty  \\\n",
       "0                            N                 2611                    9227   \n",
       "1                            N                 3242                    8966   \n",
       "2                            N                 3155                   11381   \n",
       "3                            N                 3155                   11381   \n",
       "4                            N                 2611                    9227   \n",
       "\n",
       "   AverageCostInFacility  AverageChargesInFacility  AverageIncomeInZipCode  \\\n",
       "0                   1751                      8951                      45   \n",
       "1                   3338                      6409                      34   \n",
       "2                   4980                      9323                      45   \n",
       "3                   5826                     15680                      59   \n",
       "4                   6000                     14344                      59   \n",
       "\n",
       "   LengthOfStay  \n",
       "0             1  \n",
       "1             1  \n",
       "2             1  \n",
       "3             1  \n",
       "4             1  "
      ]
     },
     "execution_count": 2,
     "metadata": {},
     "output_type": "execute_result"
    }
   ],
   "source": [
    "train_data = pd.read_csv('train_data.csv')\n",
    "train_data = train_data.drop(['ID','HealthServiceArea'], axis = 1)\n",
    "train_data.head()"
   ]
  },
  {
   "cell_type": "code",
   "execution_count": 3,
   "id": "organizational-money",
   "metadata": {
    "ExecuteTime": {
     "end_time": "2021-04-04T09:00:53.609037Z",
     "start_time": "2021-04-04T09:00:53.579016Z"
    }
   },
   "outputs": [
    {
     "name": "stdout",
     "output_type": "stream",
     "text": [
      "<class 'pandas.core.frame.DataFrame'>\n",
      "RangeIndex: 59966 entries, 0 to 59965\n",
      "Data columns (total 14 columns):\n",
      " #   Column                        Non-Null Count  Dtype \n",
      "---  ------                        --------------  ----- \n",
      " 0   Gender                        59966 non-null  object\n",
      " 1   Race                          59966 non-null  object\n",
      " 2   TypeOfAdmission               59966 non-null  object\n",
      " 3   CCSProcedureCode              59966 non-null  int64 \n",
      " 4   APRSeverityOfIllnessCode      59966 non-null  int64 \n",
      " 5   PaymentTypology               59966 non-null  object\n",
      " 6   BirthWeight                   59966 non-null  int64 \n",
      " 7   EmergencyDepartmentIndicator  59966 non-null  object\n",
      " 8   AverageCostInCounty           59966 non-null  int64 \n",
      " 9   AverageChargesInCounty        59966 non-null  int64 \n",
      " 10  AverageCostInFacility         59966 non-null  int64 \n",
      " 11  AverageChargesInFacility      59966 non-null  int64 \n",
      " 12  AverageIncomeInZipCode        59966 non-null  int64 \n",
      " 13  LengthOfStay                  59966 non-null  int64 \n",
      "dtypes: int64(9), object(5)\n",
      "memory usage: 6.4+ MB\n"
     ]
    }
   ],
   "source": [
    "train_data.info()"
   ]
  },
  {
   "cell_type": "code",
   "execution_count": 4,
   "id": "sophisticated-luxembourg",
   "metadata": {
    "ExecuteTime": {
     "end_time": "2021-04-04T09:00:53.654912Z",
     "start_time": "2021-04-04T09:00:53.610032Z"
    }
   },
   "outputs": [
    {
     "data": {
      "text/html": [
       "<div>\n",
       "<style scoped>\n",
       "    .dataframe tbody tr th:only-of-type {\n",
       "        vertical-align: middle;\n",
       "    }\n",
       "\n",
       "    .dataframe tbody tr th {\n",
       "        vertical-align: top;\n",
       "    }\n",
       "\n",
       "    .dataframe thead th {\n",
       "        text-align: right;\n",
       "    }\n",
       "</style>\n",
       "<table border=\"1\" class=\"dataframe\">\n",
       "  <thead>\n",
       "    <tr style=\"text-align: right;\">\n",
       "      <th></th>\n",
       "      <th>CCSProcedureCode</th>\n",
       "      <th>APRSeverityOfIllnessCode</th>\n",
       "      <th>BirthWeight</th>\n",
       "      <th>AverageCostInCounty</th>\n",
       "      <th>AverageChargesInCounty</th>\n",
       "      <th>AverageCostInFacility</th>\n",
       "      <th>AverageChargesInFacility</th>\n",
       "      <th>AverageIncomeInZipCode</th>\n",
       "      <th>LengthOfStay</th>\n",
       "    </tr>\n",
       "  </thead>\n",
       "  <tbody>\n",
       "    <tr>\n",
       "      <th>count</th>\n",
       "      <td>59966.000000</td>\n",
       "      <td>59966.000000</td>\n",
       "      <td>59966.000000</td>\n",
       "      <td>59966.000000</td>\n",
       "      <td>59966.000000</td>\n",
       "      <td>59966.000000</td>\n",
       "      <td>59966.000000</td>\n",
       "      <td>59966.000000</td>\n",
       "      <td>59966.000000</td>\n",
       "    </tr>\n",
       "    <tr>\n",
       "      <th>mean</th>\n",
       "      <td>155.404229</td>\n",
       "      <td>1.254594</td>\n",
       "      <td>3336.298903</td>\n",
       "      <td>2372.806690</td>\n",
       "      <td>7979.126922</td>\n",
       "      <td>2396.414318</td>\n",
       "      <td>7958.472668</td>\n",
       "      <td>59.811143</td>\n",
       "      <td>2.538405</td>\n",
       "    </tr>\n",
       "    <tr>\n",
       "      <th>std</th>\n",
       "      <td>89.541978</td>\n",
       "      <td>0.546207</td>\n",
       "      <td>446.244475</td>\n",
       "      <td>639.755096</td>\n",
       "      <td>3220.291347</td>\n",
       "      <td>1248.501189</td>\n",
       "      <td>3859.294711</td>\n",
       "      <td>21.470170</td>\n",
       "      <td>1.171246</td>\n",
       "    </tr>\n",
       "    <tr>\n",
       "      <th>min</th>\n",
       "      <td>-1.000000</td>\n",
       "      <td>1.000000</td>\n",
       "      <td>2500.000000</td>\n",
       "      <td>712.000000</td>\n",
       "      <td>1243.000000</td>\n",
       "      <td>457.000000</td>\n",
       "      <td>1120.000000</td>\n",
       "      <td>28.000000</td>\n",
       "      <td>1.000000</td>\n",
       "    </tr>\n",
       "    <tr>\n",
       "      <th>25%</th>\n",
       "      <td>115.000000</td>\n",
       "      <td>1.000000</td>\n",
       "      <td>3000.000000</td>\n",
       "      <td>2041.000000</td>\n",
       "      <td>4620.000000</td>\n",
       "      <td>1551.000000</td>\n",
       "      <td>4438.000000</td>\n",
       "      <td>45.000000</td>\n",
       "      <td>2.000000</td>\n",
       "    </tr>\n",
       "    <tr>\n",
       "      <th>50%</th>\n",
       "      <td>220.000000</td>\n",
       "      <td>1.000000</td>\n",
       "      <td>3300.000000</td>\n",
       "      <td>2533.000000</td>\n",
       "      <td>9227.000000</td>\n",
       "      <td>1967.000000</td>\n",
       "      <td>7945.000000</td>\n",
       "      <td>55.000000</td>\n",
       "      <td>2.000000</td>\n",
       "    </tr>\n",
       "    <tr>\n",
       "      <th>75%</th>\n",
       "      <td>228.000000</td>\n",
       "      <td>1.000000</td>\n",
       "      <td>3600.000000</td>\n",
       "      <td>2785.000000</td>\n",
       "      <td>10644.000000</td>\n",
       "      <td>2895.000000</td>\n",
       "      <td>11619.000000</td>\n",
       "      <td>74.000000</td>\n",
       "      <td>3.000000</td>\n",
       "    </tr>\n",
       "    <tr>\n",
       "      <th>max</th>\n",
       "      <td>231.000000</td>\n",
       "      <td>4.000000</td>\n",
       "      <td>7500.000000</td>\n",
       "      <td>3242.000000</td>\n",
       "      <td>11381.000000</td>\n",
       "      <td>8114.000000</td>\n",
       "      <td>18466.000000</td>\n",
       "      <td>115.000000</td>\n",
       "      <td>10.000000</td>\n",
       "    </tr>\n",
       "  </tbody>\n",
       "</table>\n",
       "</div>"
      ],
      "text/plain": [
       "       CCSProcedureCode  APRSeverityOfIllnessCode   BirthWeight  \\\n",
       "count      59966.000000              59966.000000  59966.000000   \n",
       "mean         155.404229                  1.254594   3336.298903   \n",
       "std           89.541978                  0.546207    446.244475   \n",
       "min           -1.000000                  1.000000   2500.000000   \n",
       "25%          115.000000                  1.000000   3000.000000   \n",
       "50%          220.000000                  1.000000   3300.000000   \n",
       "75%          228.000000                  1.000000   3600.000000   \n",
       "max          231.000000                  4.000000   7500.000000   \n",
       "\n",
       "       AverageCostInCounty  AverageChargesInCounty  AverageCostInFacility  \\\n",
       "count         59966.000000            59966.000000           59966.000000   \n",
       "mean           2372.806690             7979.126922            2396.414318   \n",
       "std             639.755096             3220.291347            1248.501189   \n",
       "min             712.000000             1243.000000             457.000000   \n",
       "25%            2041.000000             4620.000000            1551.000000   \n",
       "50%            2533.000000             9227.000000            1967.000000   \n",
       "75%            2785.000000            10644.000000            2895.000000   \n",
       "max            3242.000000            11381.000000            8114.000000   \n",
       "\n",
       "       AverageChargesInFacility  AverageIncomeInZipCode  LengthOfStay  \n",
       "count              59966.000000            59966.000000  59966.000000  \n",
       "mean                7958.472668               59.811143      2.538405  \n",
       "std                 3859.294711               21.470170      1.171246  \n",
       "min                 1120.000000               28.000000      1.000000  \n",
       "25%                 4438.000000               45.000000      2.000000  \n",
       "50%                 7945.000000               55.000000      2.000000  \n",
       "75%                11619.000000               74.000000      3.000000  \n",
       "max                18466.000000              115.000000     10.000000  "
      ]
     },
     "execution_count": 4,
     "metadata": {},
     "output_type": "execute_result"
    }
   ],
   "source": [
    "train_data.describe()"
   ]
  },
  {
   "cell_type": "code",
   "execution_count": 5,
   "id": "monthly-premiere",
   "metadata": {
    "ExecuteTime": {
     "end_time": "2021-04-04T09:00:53.686960Z",
     "start_time": "2021-04-04T09:00:53.655911Z"
    }
   },
   "outputs": [],
   "source": [
    "X = train_data.drop('LengthOfStay', axis = 1)\n",
    "Y = train_data['LengthOfStay']\n",
    "Y_convert = Y.apply(lambda x: 0 if int(x) <= 3 else 1)"
   ]
  },
  {
   "cell_type": "code",
   "execution_count": 6,
   "id": "rotary-taste",
   "metadata": {
    "ExecuteTime": {
     "end_time": "2021-04-04T09:00:53.702788Z",
     "start_time": "2021-04-04T09:00:53.691137Z"
    }
   },
   "outputs": [
    {
     "data": {
      "text/plain": [
       "2     25000\n",
       "3     16000\n",
       "1      8895\n",
       "4      7504\n",
       "5      1342\n",
       "6       557\n",
       "7       346\n",
       "8       145\n",
       "9        97\n",
       "10       80\n",
       "Name: LengthOfStay, dtype: int64"
      ]
     },
     "execution_count": 6,
     "metadata": {},
     "output_type": "execute_result"
    }
   ],
   "source": [
    "Y.value_counts()"
   ]
  },
  {
   "cell_type": "code",
   "execution_count": 7,
   "id": "million-recognition",
   "metadata": {
    "ExecuteTime": {
     "end_time": "2021-04-04T09:00:53.718741Z",
     "start_time": "2021-04-04T09:00:53.704779Z"
    }
   },
   "outputs": [
    {
     "data": {
      "text/plain": [
       "0    49895\n",
       "1    10071\n",
       "Name: LengthOfStay, dtype: int64"
      ]
     },
     "execution_count": 7,
     "metadata": {},
     "output_type": "execute_result"
    }
   ],
   "source": [
    "Y_convert.value_counts()"
   ]
  },
  {
   "cell_type": "code",
   "execution_count": 8,
   "id": "absolute-constant",
   "metadata": {
    "ExecuteTime": {
     "end_time": "2021-04-04T09:00:53.764622Z",
     "start_time": "2021-04-04T09:00:53.719740Z"
    },
    "scrolled": false
   },
   "outputs": [
    {
     "name": "stdout",
     "output_type": "stream",
     "text": [
      "M    30978\n",
      "F    28987\n",
      "U        1\n",
      "Name: Gender, dtype: int64\n",
      "---------------------------\n",
      "White                     32943\n",
      "Other Race                18314\n",
      "Black/African American     8183\n",
      "Multi-racial                526\n",
      "Name: Race, dtype: int64\n",
      "---------------------------\n",
      "Newborn      58741\n",
      "Emergency      659\n",
      "Urgent         412\n",
      "Elective       154\n",
      "Name: TypeOfAdmission, dtype: int64\n",
      "---------------------------\n",
      " 228    19886\n",
      " 115    13628\n",
      " 0      11189\n",
      " 220    10773\n",
      " 231     2981\n",
      "-1        769\n",
      " 216      740\n",
      "Name: CCSProcedureCode, dtype: int64\n",
      "---------------------------\n",
      "1    47953\n",
      "2     8760\n",
      "3     3252\n",
      "4        1\n",
      "Name: APRSeverityOfIllnessCode, dtype: int64\n",
      "---------------------------\n",
      "Medicaid                     28723\n",
      "Private Health Insurance     15608\n",
      "Blue Cross/Blue Shield       12073\n",
      "Self-Pay                      1984\n",
      "Federal/State/Local/VA         849\n",
      "Managed Care, Unspecified      545\n",
      "Miscellaneous/Other            118\n",
      "Medicare                        44\n",
      "Unknown                         22\n",
      "Name: PaymentTypology, dtype: int64\n",
      "---------------------------\n",
      "3200    5321\n",
      "3300    5316\n",
      "3400    5135\n",
      "3100    4836\n",
      "3500    4743\n",
      "3000    4485\n",
      "3600    4174\n",
      "2900    3630\n",
      "3700    3503\n",
      "2800    3057\n",
      "3800    2757\n",
      "2700    2250\n",
      "3900    2224\n",
      "2600    1758\n",
      "4000    1658\n",
      "2500    1407\n",
      "4100    1170\n",
      "4200     847\n",
      "4300     614\n",
      "4400     373\n",
      "4500     237\n",
      "4600     169\n",
      "4700     110\n",
      "4800      65\n",
      "4900      41\n",
      "5000      31\n",
      "5100      17\n",
      "5200      10\n",
      "5500       5\n",
      "5600       3\n",
      "5300       3\n",
      "6000       3\n",
      "6100       2\n",
      "6400       2\n",
      "5400       2\n",
      "6500       2\n",
      "5800       2\n",
      "6900       1\n",
      "6200       1\n",
      "7500       1\n",
      "6300       1\n",
      "Name: BirthWeight, dtype: int64\n",
      "---------------------------\n",
      "N    59453\n",
      "Y      513\n",
      "Name: EmergencyDepartmentIndicator, dtype: int64\n",
      "---------------------------\n",
      "3155    10362\n",
      "2611     6786\n",
      "2208     6091\n",
      "2785     6011\n",
      "2041     5732\n",
      "1826     4750\n",
      "3242     3412\n",
      "2158     2846\n",
      "1371     1981\n",
      "2533     1458\n",
      "1445     1033\n",
      "994       976\n",
      "2756      943\n",
      "1304      913\n",
      "2834      574\n",
      "746       539\n",
      "2653      495\n",
      "2018      483\n",
      "712       461\n",
      "2209      458\n",
      "1732      389\n",
      "1439      385\n",
      "1446      296\n",
      "854       277\n",
      "1018      260\n",
      "1607      218\n",
      "1742      212\n",
      "1665      210\n",
      "1860      208\n",
      "1562      200\n",
      "1511      195\n",
      "1091      192\n",
      "2508      179\n",
      "2318      151\n",
      "1352      123\n",
      "2777       84\n",
      "1996       83\n",
      "Name: AverageCostInCounty, dtype: int64\n",
      "---------------------------\n",
      "11381    10362\n",
      "9227      6786\n",
      "10134     6091\n",
      "10644     6011\n",
      "9917      5732\n",
      "4190      4750\n",
      "8966      3412\n",
      "4620      2846\n",
      "5463      1981\n",
      "3320      1458\n",
      "3419      1033\n",
      "2141       976\n",
      "6179       943\n",
      "3264       913\n",
      "8172       574\n",
      "1243       539\n",
      "2630       495\n",
      "3610       483\n",
      "1775       461\n",
      "3482       458\n",
      "5057       389\n",
      "1734       385\n",
      "5491       296\n",
      "1516       277\n",
      "2685       260\n",
      "2907       218\n",
      "2179       212\n",
      "2096       210\n",
      "2846       208\n",
      "3635       200\n",
      "3519       195\n",
      "2795       192\n",
      "2140       179\n",
      "1857       151\n",
      "2910       123\n",
      "1587        84\n",
      "2611        83\n",
      "Name: AverageChargesInCounty, dtype: int64\n",
      "---------------------------\n",
      "1686    3752\n",
      "1751    2083\n",
      "2562    1970\n",
      "1374    1784\n",
      "3032    1730\n",
      "        ... \n",
      "2777      84\n",
      "1996      83\n",
      "3280      28\n",
      "4071      26\n",
      "8114       1\n",
      "Name: AverageCostInFacility, Length: 99, dtype: int64\n",
      "---------------------------\n",
      "7945     2279\n",
      "8951     2083\n",
      "13341    1970\n",
      "13345    1784\n",
      "10135    1730\n",
      "         ... \n",
      "1587       84\n",
      "2611       83\n",
      "8913       28\n",
      "13043      26\n",
      "18466       1\n",
      "Name: AverageChargesInFacility, Length: 100, dtype: int64\n",
      "---------------------------\n",
      "45     10961\n",
      "96      6538\n",
      "59      6355\n",
      "34      4552\n",
      "74      4375\n",
      "36      3278\n",
      "104     3027\n",
      "58      2675\n",
      "43      1944\n",
      "41      1884\n",
      "55      1690\n",
      "56      1597\n",
      "52      1568\n",
      "48      1148\n",
      "77      1102\n",
      "57      1090\n",
      "68       957\n",
      "44       768\n",
      "99       731\n",
      "47       718\n",
      "53       689\n",
      "64       477\n",
      "46       427\n",
      "28       272\n",
      "83       264\n",
      "103      234\n",
      "84       158\n",
      "115      145\n",
      "50       109\n",
      "81       100\n",
      "54        91\n",
      "95        37\n",
      "49         5\n",
      "Name: AverageIncomeInZipCode, dtype: int64\n",
      "---------------------------\n"
     ]
    }
   ],
   "source": [
    "for col in X.columns:\n",
    "    print(X[col].value_counts())\n",
    "    print('---------------------------')"
   ]
  },
  {
   "cell_type": "markdown",
   "id": "false-gathering",
   "metadata": {},
   "source": [
    "## Dummy Encode"
   ]
  },
  {
   "cell_type": "code",
   "execution_count": 15,
   "id": "designing-coalition",
   "metadata": {
    "ExecuteTime": {
     "end_time": "2021-04-04T09:09:47.497749Z",
     "start_time": "2021-04-04T09:09:47.391951Z"
    },
    "scrolled": true
   },
   "outputs": [
    {
     "data": {
      "text/plain": [
       "Index(['CCSProcedureCode', 'APRSeverityOfIllnessCode', 'BirthWeight',\n",
       "       'AverageCostInCounty', 'AverageChargesInCounty',\n",
       "       'AverageCostInFacility', 'AverageChargesInFacility',\n",
       "       'AverageIncomeInZipCode', 'F', 'M', 'Black/African American',\n",
       "       'Multi-racial', 'Other Race', 'White', 'Elective', 'Emergency',\n",
       "       'Newborn', 'Urgent', 'Blue Cross/Blue Shield', 'Federal/State/Local/VA',\n",
       "       'Managed Care, Unspecified', 'Medicaid', 'Medicare',\n",
       "       'Miscellaneous/Other', 'Private Health Insurance', 'Self-Pay',\n",
       "       'Unknown', 'N', 'Y'],\n",
       "      dtype='object')"
      ]
     },
     "execution_count": 15,
     "metadata": {},
     "output_type": "execute_result"
    }
   ],
   "source": [
    "# Select columns for one-hot encoding\n",
    "# CSS Procedure Code not sure\n",
    "encode_col = ['Gender','Race','TypeOfAdmission','PaymentTypology','EmergencyDepartmentIndicator']\n",
    "X_copy = X.copy()\n",
    "\n",
    "\n",
    "for col in encode_col:\n",
    "    # create new dataframe for each type of encode_column\n",
    "    dummiesDF = pd.get_dummies(X_copy[col])\n",
    "    # merge the new dataframe into the orginal\n",
    "    X_copy = pd.concat([X_copy, dummiesDF], axis='columns')\n",
    "    # Drop the original column after encoding\n",
    "    if col == 'Gender':\n",
    "        X_copy = X_copy.drop([col,'U'], axis = 1)\n",
    "    else:\n",
    "        X_copy = X_copy.drop(col, axis = 1)\n",
    "\n",
    "X_copy.columns\n"
   ]
  },
  {
   "cell_type": "code",
   "execution_count": 17,
   "id": "skilled-prize",
   "metadata": {
    "ExecuteTime": {
     "end_time": "2021-04-04T09:13:36.084747Z",
     "start_time": "2021-04-04T09:13:36.023794Z"
    },
    "scrolled": true
   },
   "outputs": [
    {
     "name": "stdout",
     "output_type": "stream",
     "text": [
      "(41976, 29)\n",
      "(17990, 29)\n",
      "(41976,)\n",
      "(17990,)\n"
     ]
    }
   ],
   "source": [
    "from sklearn.model_selection import train_test_split\n",
    "\n",
    "train_X, test_X, train_Y, test_Y = train_test_split(X_copy,Y,test_size = 0.3, stratify = Y)\n",
    "\n",
    "print(train_X.shape)\n",
    "print(test_X.shape)\n",
    "print(train_Y.shape)\n",
    "print(test_Y.shape)"
   ]
  },
  {
   "cell_type": "code",
   "execution_count": 19,
   "id": "unsigned-memory",
   "metadata": {
    "ExecuteTime": {
     "end_time": "2021-04-04T09:16:15.763895Z",
     "start_time": "2021-04-04T09:16:15.710079Z"
    }
   },
   "outputs": [],
   "source": [
    "# Reset index after spliting\n",
    "\n",
    "def df_reset_index(x):\n",
    "    return x.reset_index().drop('index', axis = 1)\n",
    "\n",
    "train_X = df_reset_index(train_X)\n",
    "test_X = df_reset_index(test_X)\n",
    "train_Y = df_reset_index(train_Y)\n",
    "test_Y = df_reset_index(test_Y)"
   ]
  },
  {
   "cell_type": "code",
   "execution_count": 24,
   "id": "radical-nashville",
   "metadata": {
    "ExecuteTime": {
     "end_time": "2021-04-04T09:27:59.376108Z",
     "start_time": "2021-04-04T09:27:59.281362Z"
    }
   },
   "outputs": [],
   "source": [
    "from sklearn.preprocessing import StandardScaler\n",
    "scaler = StandardScaler()\n",
    "scaler.fit(train_X)\n",
    "train_X_scale = scaler.transform(train_X)\n",
    "test_X_scale = scaler.transform(test_X)\n",
    "train_Y_ravel = train_Y.values.ravel()"
   ]
  },
  {
   "cell_type": "markdown",
   "id": "connected-joining",
   "metadata": {},
   "source": [
    "# Không transform data"
   ]
  },
  {
   "cell_type": "code",
   "execution_count": 25,
   "id": "raised-attraction",
   "metadata": {
    "ExecuteTime": {
     "end_time": "2021-04-04T09:28:04.104646Z",
     "start_time": "2021-04-04T09:28:01.286725Z"
    }
   },
   "outputs": [
    {
     "name": "stderr",
     "output_type": "stream",
     "text": [
      "C:\\Users\\luong\\anaconda3\\envs\\Basic Tensorflow\\lib\\site-packages\\sklearn\\linear_model\\_logistic.py:763: ConvergenceWarning: lbfgs failed to converge (status=1):\n",
      "STOP: TOTAL NO. of ITERATIONS REACHED LIMIT.\n",
      "\n",
      "Increase the number of iterations (max_iter) or scale the data as shown in:\n",
      "    https://scikit-learn.org/stable/modules/preprocessing.html\n",
      "Please also refer to the documentation for alternative solver options:\n",
      "    https://scikit-learn.org/stable/modules/linear_model.html#logistic-regression\n",
      "  n_iter_i = _check_optimize_result(\n"
     ]
    },
    {
     "data": {
      "text/plain": [
       "LogisticRegression(random_state=0)"
      ]
     },
     "execution_count": 25,
     "metadata": {},
     "output_type": "execute_result"
    }
   ],
   "source": [
    "from sklearn.linear_model import LogisticRegression\n",
    "\n",
    "log_reg = LogisticRegression(random_state = 0)\n",
    "log_reg.fit(train_X_scale, train_Y_ravel)\n"
   ]
  }
 ],
 "metadata": {
  "kernelspec": {
   "display_name": "Python 3",
   "language": "python",
   "name": "python3"
  },
  "language_info": {
   "codemirror_mode": {
    "name": "ipython",
    "version": 3
   },
   "file_extension": ".py",
   "mimetype": "text/x-python",
   "name": "python",
   "nbconvert_exporter": "python",
   "pygments_lexer": "ipython3",
   "version": "3.8.8"
  },
  "toc": {
   "base_numbering": 1,
   "nav_menu": {},
   "number_sections": true,
   "sideBar": true,
   "skip_h1_title": false,
   "title_cell": "Table of Contents",
   "title_sidebar": "Contents",
   "toc_cell": false,
   "toc_position": {},
   "toc_section_display": true,
   "toc_window_display": false
  }
 },
 "nbformat": 4,
 "nbformat_minor": 5
}
