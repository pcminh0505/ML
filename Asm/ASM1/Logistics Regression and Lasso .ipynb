{
 "cells": [
  {
   "cell_type": "code",
   "execution_count": 1,
   "metadata": {
    "ExecuteTime": {
     "end_time": "2021-04-05T16:43:04.252035Z",
     "start_time": "2021-04-05T16:42:59.717158Z"
    }
   },
   "outputs": [],
   "source": [
    "import numpy as np\n",
    "import pandas as pd \n",
    "import matplotlib.pyplot as plt \n",
    "import seaborn as sns \n",
    "import sklearn as sk \n",
    "\n",
    "from matplotlib import style\n",
    "style.use('dark_background')"
   ]
  },
  {
   "cell_type": "code",
   "execution_count": 2,
   "metadata": {
    "ExecuteTime": {
     "end_time": "2021-04-05T16:43:04.431444Z",
     "start_time": "2021-04-05T16:43:04.253521Z"
    }
   },
   "outputs": [
    {
     "data": {
      "text/html": [
       "<div>\n",
       "<style scoped>\n",
       "    .dataframe tbody tr th:only-of-type {\n",
       "        vertical-align: middle;\n",
       "    }\n",
       "\n",
       "    .dataframe tbody tr th {\n",
       "        vertical-align: top;\n",
       "    }\n",
       "\n",
       "    .dataframe thead th {\n",
       "        text-align: right;\n",
       "    }\n",
       "</style>\n",
       "<table border=\"1\" class=\"dataframe\">\n",
       "  <thead>\n",
       "    <tr style=\"text-align: right;\">\n",
       "      <th></th>\n",
       "      <th>Gender</th>\n",
       "      <th>Race</th>\n",
       "      <th>TypeOfAdmission</th>\n",
       "      <th>CCSProcedureCode</th>\n",
       "      <th>APRSeverityOfIllnessCode</th>\n",
       "      <th>PaymentTypology</th>\n",
       "      <th>BirthWeight</th>\n",
       "      <th>EmergencyDepartmentIndicator</th>\n",
       "      <th>AverageCostInCounty</th>\n",
       "      <th>AverageChargesInCounty</th>\n",
       "      <th>AverageCostInFacility</th>\n",
       "      <th>AverageChargesInFacility</th>\n",
       "      <th>AverageIncomeInZipCode</th>\n",
       "      <th>LengthOfStay</th>\n",
       "    </tr>\n",
       "  </thead>\n",
       "  <tbody>\n",
       "    <tr>\n",
       "      <th>0</th>\n",
       "      <td>F</td>\n",
       "      <td>Other Race</td>\n",
       "      <td>Newborn</td>\n",
       "      <td>228</td>\n",
       "      <td>1</td>\n",
       "      <td>Medicaid</td>\n",
       "      <td>3700</td>\n",
       "      <td>N</td>\n",
       "      <td>2611</td>\n",
       "      <td>9227</td>\n",
       "      <td>1751</td>\n",
       "      <td>8951</td>\n",
       "      <td>45</td>\n",
       "      <td>1</td>\n",
       "    </tr>\n",
       "    <tr>\n",
       "      <th>1</th>\n",
       "      <td>M</td>\n",
       "      <td>Black/African American</td>\n",
       "      <td>Newborn</td>\n",
       "      <td>228</td>\n",
       "      <td>1</td>\n",
       "      <td>Medicaid</td>\n",
       "      <td>2900</td>\n",
       "      <td>N</td>\n",
       "      <td>3242</td>\n",
       "      <td>8966</td>\n",
       "      <td>3338</td>\n",
       "      <td>6409</td>\n",
       "      <td>34</td>\n",
       "      <td>1</td>\n",
       "    </tr>\n",
       "    <tr>\n",
       "      <th>2</th>\n",
       "      <td>M</td>\n",
       "      <td>Other Race</td>\n",
       "      <td>Newborn</td>\n",
       "      <td>220</td>\n",
       "      <td>1</td>\n",
       "      <td>Private Health Insurance</td>\n",
       "      <td>3200</td>\n",
       "      <td>N</td>\n",
       "      <td>3155</td>\n",
       "      <td>11381</td>\n",
       "      <td>4980</td>\n",
       "      <td>9323</td>\n",
       "      <td>45</td>\n",
       "      <td>1</td>\n",
       "    </tr>\n",
       "    <tr>\n",
       "      <th>3</th>\n",
       "      <td>F</td>\n",
       "      <td>Other Race</td>\n",
       "      <td>Newborn</td>\n",
       "      <td>0</td>\n",
       "      <td>1</td>\n",
       "      <td>Private Health Insurance</td>\n",
       "      <td>3300</td>\n",
       "      <td>N</td>\n",
       "      <td>3155</td>\n",
       "      <td>11381</td>\n",
       "      <td>5826</td>\n",
       "      <td>15680</td>\n",
       "      <td>59</td>\n",
       "      <td>1</td>\n",
       "    </tr>\n",
       "    <tr>\n",
       "      <th>4</th>\n",
       "      <td>F</td>\n",
       "      <td>Other Race</td>\n",
       "      <td>Newborn</td>\n",
       "      <td>228</td>\n",
       "      <td>1</td>\n",
       "      <td>Medicaid</td>\n",
       "      <td>2600</td>\n",
       "      <td>N</td>\n",
       "      <td>2611</td>\n",
       "      <td>9227</td>\n",
       "      <td>6000</td>\n",
       "      <td>14344</td>\n",
       "      <td>59</td>\n",
       "      <td>1</td>\n",
       "    </tr>\n",
       "  </tbody>\n",
       "</table>\n",
       "</div>"
      ],
      "text/plain": [
       "  Gender                    Race TypeOfAdmission  CCSProcedureCode  \\\n",
       "0      F              Other Race         Newborn               228   \n",
       "1      M  Black/African American         Newborn               228   \n",
       "2      M              Other Race         Newborn               220   \n",
       "3      F              Other Race         Newborn                 0   \n",
       "4      F              Other Race         Newborn               228   \n",
       "\n",
       "   APRSeverityOfIllnessCode           PaymentTypology  BirthWeight  \\\n",
       "0                         1                  Medicaid         3700   \n",
       "1                         1                  Medicaid         2900   \n",
       "2                         1  Private Health Insurance         3200   \n",
       "3                         1  Private Health Insurance         3300   \n",
       "4                         1                  Medicaid         2600   \n",
       "\n",
       "  EmergencyDepartmentIndicator  AverageCostInCounty  AverageChargesInCounty  \\\n",
       "0                            N                 2611                    9227   \n",
       "1                            N                 3242                    8966   \n",
       "2                            N                 3155                   11381   \n",
       "3                            N                 3155                   11381   \n",
       "4                            N                 2611                    9227   \n",
       "\n",
       "   AverageCostInFacility  AverageChargesInFacility  AverageIncomeInZipCode  \\\n",
       "0                   1751                      8951                      45   \n",
       "1                   3338                      6409                      34   \n",
       "2                   4980                      9323                      45   \n",
       "3                   5826                     15680                      59   \n",
       "4                   6000                     14344                      59   \n",
       "\n",
       "   LengthOfStay  \n",
       "0             1  \n",
       "1             1  \n",
       "2             1  \n",
       "3             1  \n",
       "4             1  "
      ]
     },
     "execution_count": 2,
     "metadata": {},
     "output_type": "execute_result"
    }
   ],
   "source": [
    "train_data = pd.read_csv('train_data.csv')\n",
    "train_data = train_data.drop(['ID','HealthServiceArea'], axis = 1)\n",
    "train_data.head()"
   ]
  },
  {
   "cell_type": "code",
   "execution_count": 3,
   "metadata": {
    "ExecuteTime": {
     "end_time": "2021-04-05T16:43:04.485620Z",
     "start_time": "2021-04-05T16:43:04.435505Z"
    }
   },
   "outputs": [
    {
     "name": "stdout",
     "output_type": "stream",
     "text": [
      "<class 'pandas.core.frame.DataFrame'>\n",
      "RangeIndex: 59966 entries, 0 to 59965\n",
      "Data columns (total 14 columns):\n",
      " #   Column                        Non-Null Count  Dtype \n",
      "---  ------                        --------------  ----- \n",
      " 0   Gender                        59966 non-null  object\n",
      " 1   Race                          59966 non-null  object\n",
      " 2   TypeOfAdmission               59966 non-null  object\n",
      " 3   CCSProcedureCode              59966 non-null  int64 \n",
      " 4   APRSeverityOfIllnessCode      59966 non-null  int64 \n",
      " 5   PaymentTypology               59966 non-null  object\n",
      " 6   BirthWeight                   59966 non-null  int64 \n",
      " 7   EmergencyDepartmentIndicator  59966 non-null  object\n",
      " 8   AverageCostInCounty           59966 non-null  int64 \n",
      " 9   AverageChargesInCounty        59966 non-null  int64 \n",
      " 10  AverageCostInFacility         59966 non-null  int64 \n",
      " 11  AverageChargesInFacility      59966 non-null  int64 \n",
      " 12  AverageIncomeInZipCode        59966 non-null  int64 \n",
      " 13  LengthOfStay                  59966 non-null  int64 \n",
      "dtypes: int64(9), object(5)\n",
      "memory usage: 6.4+ MB\n"
     ]
    }
   ],
   "source": [
    "train_data.info()"
   ]
  },
  {
   "cell_type": "code",
   "execution_count": 4,
   "metadata": {
    "ExecuteTime": {
     "end_time": "2021-04-05T16:43:04.576096Z",
     "start_time": "2021-04-05T16:43:04.488618Z"
    }
   },
   "outputs": [
    {
     "data": {
      "text/html": [
       "<div>\n",
       "<style scoped>\n",
       "    .dataframe tbody tr th:only-of-type {\n",
       "        vertical-align: middle;\n",
       "    }\n",
       "\n",
       "    .dataframe tbody tr th {\n",
       "        vertical-align: top;\n",
       "    }\n",
       "\n",
       "    .dataframe thead th {\n",
       "        text-align: right;\n",
       "    }\n",
       "</style>\n",
       "<table border=\"1\" class=\"dataframe\">\n",
       "  <thead>\n",
       "    <tr style=\"text-align: right;\">\n",
       "      <th></th>\n",
       "      <th>CCSProcedureCode</th>\n",
       "      <th>APRSeverityOfIllnessCode</th>\n",
       "      <th>BirthWeight</th>\n",
       "      <th>AverageCostInCounty</th>\n",
       "      <th>AverageChargesInCounty</th>\n",
       "      <th>AverageCostInFacility</th>\n",
       "      <th>AverageChargesInFacility</th>\n",
       "      <th>AverageIncomeInZipCode</th>\n",
       "      <th>LengthOfStay</th>\n",
       "    </tr>\n",
       "  </thead>\n",
       "  <tbody>\n",
       "    <tr>\n",
       "      <th>count</th>\n",
       "      <td>59966.000000</td>\n",
       "      <td>59966.000000</td>\n",
       "      <td>59966.000000</td>\n",
       "      <td>59966.000000</td>\n",
       "      <td>59966.000000</td>\n",
       "      <td>59966.000000</td>\n",
       "      <td>59966.000000</td>\n",
       "      <td>59966.000000</td>\n",
       "      <td>59966.000000</td>\n",
       "    </tr>\n",
       "    <tr>\n",
       "      <th>mean</th>\n",
       "      <td>155.404229</td>\n",
       "      <td>1.254594</td>\n",
       "      <td>3336.298903</td>\n",
       "      <td>2372.806690</td>\n",
       "      <td>7979.126922</td>\n",
       "      <td>2396.414318</td>\n",
       "      <td>7958.472668</td>\n",
       "      <td>59.811143</td>\n",
       "      <td>2.538405</td>\n",
       "    </tr>\n",
       "    <tr>\n",
       "      <th>std</th>\n",
       "      <td>89.541978</td>\n",
       "      <td>0.546207</td>\n",
       "      <td>446.244475</td>\n",
       "      <td>639.755096</td>\n",
       "      <td>3220.291347</td>\n",
       "      <td>1248.501189</td>\n",
       "      <td>3859.294711</td>\n",
       "      <td>21.470170</td>\n",
       "      <td>1.171246</td>\n",
       "    </tr>\n",
       "    <tr>\n",
       "      <th>min</th>\n",
       "      <td>-1.000000</td>\n",
       "      <td>1.000000</td>\n",
       "      <td>2500.000000</td>\n",
       "      <td>712.000000</td>\n",
       "      <td>1243.000000</td>\n",
       "      <td>457.000000</td>\n",
       "      <td>1120.000000</td>\n",
       "      <td>28.000000</td>\n",
       "      <td>1.000000</td>\n",
       "    </tr>\n",
       "    <tr>\n",
       "      <th>25%</th>\n",
       "      <td>115.000000</td>\n",
       "      <td>1.000000</td>\n",
       "      <td>3000.000000</td>\n",
       "      <td>2041.000000</td>\n",
       "      <td>4620.000000</td>\n",
       "      <td>1551.000000</td>\n",
       "      <td>4438.000000</td>\n",
       "      <td>45.000000</td>\n",
       "      <td>2.000000</td>\n",
       "    </tr>\n",
       "    <tr>\n",
       "      <th>50%</th>\n",
       "      <td>220.000000</td>\n",
       "      <td>1.000000</td>\n",
       "      <td>3300.000000</td>\n",
       "      <td>2533.000000</td>\n",
       "      <td>9227.000000</td>\n",
       "      <td>1967.000000</td>\n",
       "      <td>7945.000000</td>\n",
       "      <td>55.000000</td>\n",
       "      <td>2.000000</td>\n",
       "    </tr>\n",
       "    <tr>\n",
       "      <th>75%</th>\n",
       "      <td>228.000000</td>\n",
       "      <td>1.000000</td>\n",
       "      <td>3600.000000</td>\n",
       "      <td>2785.000000</td>\n",
       "      <td>10644.000000</td>\n",
       "      <td>2895.000000</td>\n",
       "      <td>11619.000000</td>\n",
       "      <td>74.000000</td>\n",
       "      <td>3.000000</td>\n",
       "    </tr>\n",
       "    <tr>\n",
       "      <th>max</th>\n",
       "      <td>231.000000</td>\n",
       "      <td>4.000000</td>\n",
       "      <td>7500.000000</td>\n",
       "      <td>3242.000000</td>\n",
       "      <td>11381.000000</td>\n",
       "      <td>8114.000000</td>\n",
       "      <td>18466.000000</td>\n",
       "      <td>115.000000</td>\n",
       "      <td>10.000000</td>\n",
       "    </tr>\n",
       "  </tbody>\n",
       "</table>\n",
       "</div>"
      ],
      "text/plain": [
       "       CCSProcedureCode  APRSeverityOfIllnessCode   BirthWeight  \\\n",
       "count      59966.000000              59966.000000  59966.000000   \n",
       "mean         155.404229                  1.254594   3336.298903   \n",
       "std           89.541978                  0.546207    446.244475   \n",
       "min           -1.000000                  1.000000   2500.000000   \n",
       "25%          115.000000                  1.000000   3000.000000   \n",
       "50%          220.000000                  1.000000   3300.000000   \n",
       "75%          228.000000                  1.000000   3600.000000   \n",
       "max          231.000000                  4.000000   7500.000000   \n",
       "\n",
       "       AverageCostInCounty  AverageChargesInCounty  AverageCostInFacility  \\\n",
       "count         59966.000000            59966.000000           59966.000000   \n",
       "mean           2372.806690             7979.126922            2396.414318   \n",
       "std             639.755096             3220.291347            1248.501189   \n",
       "min             712.000000             1243.000000             457.000000   \n",
       "25%            2041.000000             4620.000000            1551.000000   \n",
       "50%            2533.000000             9227.000000            1967.000000   \n",
       "75%            2785.000000            10644.000000            2895.000000   \n",
       "max            3242.000000            11381.000000            8114.000000   \n",
       "\n",
       "       AverageChargesInFacility  AverageIncomeInZipCode  LengthOfStay  \n",
       "count              59966.000000            59966.000000  59966.000000  \n",
       "mean                7958.472668               59.811143      2.538405  \n",
       "std                 3859.294711               21.470170      1.171246  \n",
       "min                 1120.000000               28.000000      1.000000  \n",
       "25%                 4438.000000               45.000000      2.000000  \n",
       "50%                 7945.000000               55.000000      2.000000  \n",
       "75%                11619.000000               74.000000      3.000000  \n",
       "max                18466.000000              115.000000     10.000000  "
      ]
     },
     "execution_count": 4,
     "metadata": {},
     "output_type": "execute_result"
    }
   ],
   "source": [
    "train_data.describe()"
   ]
  },
  {
   "cell_type": "code",
   "execution_count": 5,
   "metadata": {
    "ExecuteTime": {
     "end_time": "2021-04-05T16:43:04.645717Z",
     "start_time": "2021-04-05T16:43:04.579922Z"
    }
   },
   "outputs": [],
   "source": [
    "X = train_data.drop('LengthOfStay', axis = 1)\n",
    "Y = train_data['LengthOfStay'].apply(lambda x: 0 if int(x) <= 3 else 1)"
   ]
  },
  {
   "cell_type": "code",
   "execution_count": 6,
   "metadata": {
    "ExecuteTime": {
     "end_time": "2021-04-05T16:43:04.661349Z",
     "start_time": "2021-04-05T16:43:04.651432Z"
    }
   },
   "outputs": [
    {
     "data": {
      "text/plain": [
       "0    49895\n",
       "1    10071\n",
       "Name: LengthOfStay, dtype: int64"
      ]
     },
     "execution_count": 6,
     "metadata": {},
     "output_type": "execute_result"
    }
   ],
   "source": [
    "Y.value_counts()"
   ]
  },
  {
   "cell_type": "code",
   "execution_count": 7,
   "metadata": {
    "ExecuteTime": {
     "end_time": "2021-04-05T16:43:04.764461Z",
     "start_time": "2021-04-05T16:43:04.666332Z"
    },
    "scrolled": false
   },
   "outputs": [
    {
     "name": "stdout",
     "output_type": "stream",
     "text": [
      "M    30978\n",
      "F    28987\n",
      "U        1\n",
      "Name: Gender, dtype: int64\n",
      "---------------------------\n",
      "White                     32943\n",
      "Other Race                18314\n",
      "Black/African American     8183\n",
      "Multi-racial                526\n",
      "Name: Race, dtype: int64\n",
      "---------------------------\n",
      "Newborn      58741\n",
      "Emergency      659\n",
      "Urgent         412\n",
      "Elective       154\n",
      "Name: TypeOfAdmission, dtype: int64\n",
      "---------------------------\n",
      " 228    19886\n",
      " 115    13628\n",
      " 0      11189\n",
      " 220    10773\n",
      " 231     2981\n",
      "-1        769\n",
      " 216      740\n",
      "Name: CCSProcedureCode, dtype: int64\n",
      "---------------------------\n",
      "1    47953\n",
      "2     8760\n",
      "3     3252\n",
      "4        1\n",
      "Name: APRSeverityOfIllnessCode, dtype: int64\n",
      "---------------------------\n",
      "Medicaid                     28723\n",
      "Private Health Insurance     15608\n",
      "Blue Cross/Blue Shield       12073\n",
      "Self-Pay                      1984\n",
      "Federal/State/Local/VA         849\n",
      "Managed Care, Unspecified      545\n",
      "Miscellaneous/Other            118\n",
      "Medicare                        44\n",
      "Unknown                         22\n",
      "Name: PaymentTypology, dtype: int64\n",
      "---------------------------\n",
      "3200    5321\n",
      "3300    5316\n",
      "3400    5135\n",
      "3100    4836\n",
      "3500    4743\n",
      "3000    4485\n",
      "3600    4174\n",
      "2900    3630\n",
      "3700    3503\n",
      "2800    3057\n",
      "3800    2757\n",
      "2700    2250\n",
      "3900    2224\n",
      "2600    1758\n",
      "4000    1658\n",
      "2500    1407\n",
      "4100    1170\n",
      "4200     847\n",
      "4300     614\n",
      "4400     373\n",
      "4500     237\n",
      "4600     169\n",
      "4700     110\n",
      "4800      65\n",
      "4900      41\n",
      "5000      31\n",
      "5100      17\n",
      "5200      10\n",
      "5500       5\n",
      "5600       3\n",
      "5300       3\n",
      "6000       3\n",
      "6100       2\n",
      "6400       2\n",
      "5400       2\n",
      "6500       2\n",
      "5800       2\n",
      "6900       1\n",
      "6200       1\n",
      "7500       1\n",
      "6300       1\n",
      "Name: BirthWeight, dtype: int64\n",
      "---------------------------\n",
      "N    59453\n",
      "Y      513\n",
      "Name: EmergencyDepartmentIndicator, dtype: int64\n",
      "---------------------------\n",
      "3155    10362\n",
      "2611     6786\n",
      "2208     6091\n",
      "2785     6011\n",
      "2041     5732\n",
      "1826     4750\n",
      "3242     3412\n",
      "2158     2846\n",
      "1371     1981\n",
      "2533     1458\n",
      "1445     1033\n",
      "994       976\n",
      "2756      943\n",
      "1304      913\n",
      "2834      574\n",
      "746       539\n",
      "2653      495\n",
      "2018      483\n",
      "712       461\n",
      "2209      458\n",
      "1732      389\n",
      "1439      385\n",
      "1446      296\n",
      "854       277\n",
      "1018      260\n",
      "1607      218\n",
      "1742      212\n",
      "1665      210\n",
      "1860      208\n",
      "1562      200\n",
      "1511      195\n",
      "1091      192\n",
      "2508      179\n",
      "2318      151\n",
      "1352      123\n",
      "2777       84\n",
      "1996       83\n",
      "Name: AverageCostInCounty, dtype: int64\n",
      "---------------------------\n",
      "11381    10362\n",
      "9227      6786\n",
      "10134     6091\n",
      "10644     6011\n",
      "9917      5732\n",
      "4190      4750\n",
      "8966      3412\n",
      "4620      2846\n",
      "5463      1981\n",
      "3320      1458\n",
      "3419      1033\n",
      "2141       976\n",
      "6179       943\n",
      "3264       913\n",
      "8172       574\n",
      "1243       539\n",
      "2630       495\n",
      "3610       483\n",
      "1775       461\n",
      "3482       458\n",
      "5057       389\n",
      "1734       385\n",
      "5491       296\n",
      "1516       277\n",
      "2685       260\n",
      "2907       218\n",
      "2179       212\n",
      "2096       210\n",
      "2846       208\n",
      "3635       200\n",
      "3519       195\n",
      "2795       192\n",
      "2140       179\n",
      "1857       151\n",
      "2910       123\n",
      "1587        84\n",
      "2611        83\n",
      "Name: AverageChargesInCounty, dtype: int64\n",
      "---------------------------\n",
      "1686    3752\n",
      "1751    2083\n",
      "2562    1970\n",
      "1374    1784\n",
      "3032    1730\n",
      "        ... \n",
      "2777      84\n",
      "1996      83\n",
      "3280      28\n",
      "4071      26\n",
      "8114       1\n",
      "Name: AverageCostInFacility, Length: 99, dtype: int64\n",
      "---------------------------\n",
      "7945     2279\n",
      "8951     2083\n",
      "13341    1970\n",
      "13345    1784\n",
      "10135    1730\n",
      "         ... \n",
      "1587       84\n",
      "2611       83\n",
      "8913       28\n",
      "13043      26\n",
      "18466       1\n",
      "Name: AverageChargesInFacility, Length: 100, dtype: int64\n",
      "---------------------------\n",
      "45     10961\n",
      "96      6538\n",
      "59      6355\n",
      "34      4552\n",
      "74      4375\n",
      "36      3278\n",
      "104     3027\n",
      "58      2675\n",
      "43      1944\n",
      "41      1884\n",
      "55      1690\n",
      "56      1597\n",
      "52      1568\n",
      "48      1148\n",
      "77      1102\n",
      "57      1090\n",
      "68       957\n",
      "44       768\n",
      "99       731\n",
      "47       718\n",
      "53       689\n",
      "64       477\n",
      "46       427\n",
      "28       272\n",
      "83       264\n",
      "103      234\n",
      "84       158\n",
      "115      145\n",
      "50       109\n",
      "81       100\n",
      "54        91\n",
      "95        37\n",
      "49         5\n",
      "Name: AverageIncomeInZipCode, dtype: int64\n",
      "---------------------------\n"
     ]
    }
   ],
   "source": [
    "for col in X.columns:\n",
    "    print(X[col].value_counts())\n",
    "    print('---------------------------')"
   ]
  },
  {
   "cell_type": "markdown",
   "metadata": {},
   "source": [
    "## Dummy Encode"
   ]
  },
  {
   "cell_type": "code",
   "execution_count": 8,
   "metadata": {
    "ExecuteTime": {
     "end_time": "2021-04-05T16:43:04.977066Z",
     "start_time": "2021-04-05T16:43:04.767642Z"
    },
    "scrolled": true
   },
   "outputs": [
    {
     "data": {
      "text/plain": [
       "Index([ 'APRSeverityOfIllnessCode',               'BirthWeight',\n",
       "             'AverageCostInCounty',    'AverageChargesInCounty',\n",
       "           'AverageCostInFacility',  'AverageChargesInFacility',\n",
       "          'AverageIncomeInZipCode',                         'F',\n",
       "                               'M',                         'U',\n",
       "          'Black/African American',              'Multi-racial',\n",
       "                      'Other Race',                     'White',\n",
       "                        'Elective',                 'Emergency',\n",
       "                         'Newborn',                    'Urgent',\n",
       "                                -1,                           0,\n",
       "                               115,                         216,\n",
       "                               220,                         228,\n",
       "                               231,    'Blue Cross/Blue Shield',\n",
       "          'Federal/State/Local/VA', 'Managed Care, Unspecified',\n",
       "                        'Medicaid',                  'Medicare',\n",
       "             'Miscellaneous/Other',  'Private Health Insurance',\n",
       "                        'Self-Pay',                   'Unknown',\n",
       "                               'N',                         'Y'],\n",
       "      dtype='object')"
      ]
     },
     "execution_count": 8,
     "metadata": {},
     "output_type": "execute_result"
    }
   ],
   "source": [
    "# Select columns for one-hot encoding\n",
    "# CSS Procedure Code not sure\n",
    "encode_col = ['Gender','Race','TypeOfAdmission','CCSProcedureCode','PaymentTypology','EmergencyDepartmentIndicator']\n",
    "X_copy = X.copy()\n",
    "\n",
    "\n",
    "for col in encode_col:\n",
    "    # create new dataframe for each type of encode_column\n",
    "    dummiesDF = pd.get_dummies(X_copy[col])\n",
    "    # merge the new dataframe into the orginal\n",
    "    X_copy = pd.concat([X_copy, dummiesDF], axis='columns')\n",
    "    # Drop the original column after encoding\n",
    "#     if col == 'Gender':\n",
    "#         X_copy = X_copy.drop([col,'U'], axis = 1)\n",
    "#     else:\n",
    "    X_copy = X_copy.drop(col, axis = 1)\n",
    "\n",
    "X_copy.columns\n"
   ]
  },
  {
   "cell_type": "markdown",
   "metadata": {},
   "source": [
    "## Test the data in training dataset"
   ]
  },
  {
   "cell_type": "code",
   "execution_count": 9,
   "metadata": {
    "ExecuteTime": {
     "end_time": "2021-04-05T16:43:05.169705Z",
     "start_time": "2021-04-05T16:43:04.979061Z"
    },
    "scrolled": true
   },
   "outputs": [
    {
     "name": "stdout",
     "output_type": "stream",
     "text": [
      "(41976, 36)\n",
      "(17990, 36)\n",
      "(41976,)\n",
      "(17990,)\n"
     ]
    }
   ],
   "source": [
    "from sklearn.model_selection import train_test_split\n",
    "\n",
    "train_X, test_X, train_Y, test_Y = train_test_split(X_copy,Y,test_size = 0.3, stratify = Y)\n",
    "\n",
    "print(train_X.shape)\n",
    "print(test_X.shape)\n",
    "print(train_Y.shape)\n",
    "print(test_Y.shape)"
   ]
  },
  {
   "cell_type": "code",
   "execution_count": 10,
   "metadata": {
    "ExecuteTime": {
     "end_time": "2021-04-05T16:43:05.208941Z",
     "start_time": "2021-04-05T16:43:05.172587Z"
    }
   },
   "outputs": [],
   "source": [
    "# Reset index after spliting\n",
    "\n",
    "def df_reset_index(x):\n",
    "    return x.reset_index().drop('index', axis = 1)\n",
    "\n",
    "train_X = df_reset_index(train_X)\n",
    "test_X = df_reset_index(test_X)\n",
    "train_Y = df_reset_index(train_Y)\n",
    "test_Y = df_reset_index(test_Y)"
   ]
  },
  {
   "cell_type": "code",
   "execution_count": 11,
   "metadata": {
    "ExecuteTime": {
     "end_time": "2021-04-05T16:43:05.326001Z",
     "start_time": "2021-04-05T16:43:05.210861Z"
    }
   },
   "outputs": [],
   "source": [
    "from sklearn.preprocessing import StandardScaler\n",
    "scaler = StandardScaler()\n",
    "scaler.fit(train_X)\n",
    "train_X_scale = scaler.transform(train_X)\n",
    "test_X_scale = scaler.transform(test_X)\n",
    "train_Y_ravel = train_Y.values.ravel()"
   ]
  },
  {
   "cell_type": "code",
   "execution_count": 12,
   "metadata": {
    "ExecuteTime": {
     "end_time": "2021-04-05T16:43:05.671540Z",
     "start_time": "2021-04-05T16:43:05.329326Z"
    }
   },
   "outputs": [
    {
     "name": "stdout",
     "output_type": "stream",
     "text": [
      "Intercept: [-1.78694187]\n",
      "Coefficient/Theta [[ 0.54004582 -0.04993377  0.00247297  0.00105276  0.14880485  0.02725258\n",
      "   0.26222462 -0.00176042  0.00176042  0.          0.08234723 -0.0289812\n",
      "  -0.00428196 -0.04728965 -0.14196499 -0.19732407  0.19460002 -0.00171847\n",
      "   0.07103552 -0.12743938  0.06426986  0.01493929 -0.05756913 -0.04053465\n",
      "   0.24773956  0.02551469 -0.01571466  0.02561137 -0.04843849 -0.01746438\n",
      "   0.02099648  0.0495193  -0.05104636  0.02114076 -0.01101062  0.01101062]]\n"
     ]
    }
   ],
   "source": [
    "from sklearn.linear_model import LogisticRegression\n",
    "\n",
    "log_reg = LogisticRegression(random_state = 0, max_iter = 1000)\n",
    "log_reg.fit(train_X_scale, train_Y_ravel)\n",
    "print('Intercept:', log_reg.intercept_)\n",
    "print('Coefficient/Theta', log_reg.coef_)"
   ]
  },
  {
   "cell_type": "code",
   "execution_count": 13,
   "metadata": {
    "ExecuteTime": {
     "end_time": "2021-04-05T16:43:05.713082Z",
     "start_time": "2021-04-05T16:43:05.676199Z"
    }
   },
   "outputs": [
    {
     "name": "stdout",
     "output_type": "stream",
     "text": [
      "Accuracy: 0.8392996108949417\n",
      "Mean squared error  0.16070038910505838\n"
     ]
    }
   ],
   "source": [
    "from sklearn.metrics import accuracy_score, mean_squared_error\n",
    "\n",
    "log_pred = log_reg.predict(test_X_scale)\n",
    "print('Accuracy:',accuracy_score(test_Y,log_pred))\n",
    "print('Mean squared error ', mean_squared_error(test_Y, log_pred))"
   ]
  },
  {
   "cell_type": "code",
   "execution_count": 14,
   "metadata": {
    "ExecuteTime": {
     "end_time": "2021-04-05T16:43:05.737910Z",
     "start_time": "2021-04-05T16:43:05.718141Z"
    }
   },
   "outputs": [
    {
     "name": "stdout",
     "output_type": "stream",
     "text": [
      "Prediction: {0: 17272, 1: 718}\n",
      "Test_Y: {0: 14969, 1: 3021}\n"
     ]
    }
   ],
   "source": [
    "unique, counts = np.unique(log_pred, return_counts=True)\n",
    "unique_Y, counts_Y = np.unique(test_Y, return_counts=True)\n",
    "print('Prediction:',dict(zip(unique, counts)))\n",
    "print('Test_Y:',dict(zip(unique_Y, counts_Y)))"
   ]
  },
  {
   "cell_type": "markdown",
   "metadata": {
    "ExecuteTime": {
     "end_time": "2021-04-04T10:15:32.024210Z",
     "start_time": "2021-04-04T10:15:31.992775Z"
    }
   },
   "source": [
    "## Lasso"
   ]
  },
  {
   "cell_type": "code",
   "execution_count": 15,
   "metadata": {
    "ExecuteTime": {
     "end_time": "2021-04-05T16:43:06.036818Z",
     "start_time": "2021-04-05T16:43:05.743419Z"
    }
   },
   "outputs": [
    {
     "name": "stdout",
     "output_type": "stream",
     "text": [
      "Alpha MSE 0.01 : 0.12595430617147\n",
      "---------------------------\n",
      "Alpha MSE 0.05 : 0.13176542723754156\n",
      "---------------------------\n",
      "Alpha MSE 0.1 : 0.13909573365442382\n",
      "---------------------------\n",
      "Alpha MSE 0.25 : 0.13972727491774828\n",
      "---------------------------\n",
      "Alpha MSE 0.5 : 0.13972727491774828\n",
      "---------------------------\n",
      "Alpha MSE 0.75 : 0.13972727491774828\n",
      "---------------------------\n",
      "Alpha MSE 1 : 0.13972727491774828\n",
      "---------------------------\n"
     ]
    }
   ],
   "source": [
    "from sklearn.linear_model import Lasso \n",
    "\n",
    "# A list to hold different values of alpha\n",
    "Log_Reg_Para = [0.01,0.05,0.1,0.25,0.5,0.75,1]\n",
    "\n",
    "for para in Log_Reg_Para:\n",
    "    # Create the logistic regression object\n",
    "    lasso = Lasso(alpha = para, max_iter=1000)\n",
    "    \n",
    "    # Fit the model\n",
    "    lasso.fit(train_X_scale, train_Y_ravel)\n",
    "    \n",
    "    # Predict\n",
    "    preds = lasso.predict(test_X_scale)\n",
    "    \n",
    "    # MSE & Accuracy\n",
    "    mse = mean_squared_error(test_Y, preds)\n",
    "    print(\"Alpha MSE\",para,\":\",mse)\n",
    "    print('---------------------------')"
   ]
  },
  {
   "cell_type": "code",
   "execution_count": 16,
   "metadata": {
    "ExecuteTime": {
     "end_time": "2021-04-05T16:43:06.121971Z",
     "start_time": "2021-04-05T16:43:06.038892Z"
    }
   },
   "outputs": [
    {
     "data": {
      "text/plain": [
       "array([0.09649393, 0.11607457, 0.18764098, ..., 0.17087706, 0.15336643,\n",
       "       0.11101855])"
      ]
     },
     "execution_count": 16,
     "metadata": {},
     "output_type": "execute_result"
    }
   ],
   "source": [
    "lasso = Lasso(alpha = 0.01, max_iter=1000)\n",
    "# Fit the model\n",
    "lasso.fit(train_X_scale, train_Y_ravel)\n",
    "# Predict\n",
    "preds = lasso.predict(test_X_scale)\n",
    "preds"
   ]
  },
  {
   "cell_type": "markdown",
   "metadata": {},
   "source": [
    "## Apply model with test dataset"
   ]
  },
  {
   "cell_type": "code",
   "execution_count": 44,
   "metadata": {
    "ExecuteTime": {
     "end_time": "2021-04-05T17:04:37.046986Z",
     "start_time": "2021-04-05T17:04:36.805738Z"
    }
   },
   "outputs": [
    {
     "data": {
      "text/html": [
       "<div>\n",
       "<style scoped>\n",
       "    .dataframe tbody tr th:only-of-type {\n",
       "        vertical-align: middle;\n",
       "    }\n",
       "\n",
       "    .dataframe tbody tr th {\n",
       "        vertical-align: top;\n",
       "    }\n",
       "\n",
       "    .dataframe thead th {\n",
       "        text-align: right;\n",
       "    }\n",
       "</style>\n",
       "<table border=\"1\" class=\"dataframe\">\n",
       "  <thead>\n",
       "    <tr style=\"text-align: right;\">\n",
       "      <th></th>\n",
       "      <th>Gender</th>\n",
       "      <th>Race</th>\n",
       "      <th>TypeOfAdmission</th>\n",
       "      <th>CCSProcedureCode</th>\n",
       "      <th>APRSeverityOfIllnessCode</th>\n",
       "      <th>PaymentTypology</th>\n",
       "      <th>BirthWeight</th>\n",
       "      <th>EmergencyDepartmentIndicator</th>\n",
       "      <th>AverageCostInCounty</th>\n",
       "      <th>AverageChargesInCounty</th>\n",
       "      <th>AverageCostInFacility</th>\n",
       "      <th>AverageChargesInFacility</th>\n",
       "      <th>AverageIncomeInZipCode</th>\n",
       "    </tr>\n",
       "  </thead>\n",
       "  <tbody>\n",
       "    <tr>\n",
       "      <th>0</th>\n",
       "      <td>F</td>\n",
       "      <td>Other Race</td>\n",
       "      <td>Newborn</td>\n",
       "      <td>216</td>\n",
       "      <td>3</td>\n",
       "      <td>Medicaid</td>\n",
       "      <td>4900</td>\n",
       "      <td>N</td>\n",
       "      <td>3242</td>\n",
       "      <td>8966</td>\n",
       "      <td>2448</td>\n",
       "      <td>13196</td>\n",
       "      <td>34</td>\n",
       "    </tr>\n",
       "    <tr>\n",
       "      <th>1</th>\n",
       "      <td>F</td>\n",
       "      <td>White</td>\n",
       "      <td>Newborn</td>\n",
       "      <td>220</td>\n",
       "      <td>1</td>\n",
       "      <td>Medicaid</td>\n",
       "      <td>3100</td>\n",
       "      <td>N</td>\n",
       "      <td>2611</td>\n",
       "      <td>9227</td>\n",
       "      <td>1751</td>\n",
       "      <td>8951</td>\n",
       "      <td>45</td>\n",
       "    </tr>\n",
       "    <tr>\n",
       "      <th>2</th>\n",
       "      <td>M</td>\n",
       "      <td>Multi-racial</td>\n",
       "      <td>Newborn</td>\n",
       "      <td>115</td>\n",
       "      <td>1</td>\n",
       "      <td>Medicaid</td>\n",
       "      <td>3300</td>\n",
       "      <td>N</td>\n",
       "      <td>3155</td>\n",
       "      <td>11381</td>\n",
       "      <td>1052</td>\n",
       "      <td>11314</td>\n",
       "      <td>74</td>\n",
       "    </tr>\n",
       "    <tr>\n",
       "      <th>3</th>\n",
       "      <td>M</td>\n",
       "      <td>Other Race</td>\n",
       "      <td>Newborn</td>\n",
       "      <td>228</td>\n",
       "      <td>1</td>\n",
       "      <td>Medicaid</td>\n",
       "      <td>3300</td>\n",
       "      <td>N</td>\n",
       "      <td>2611</td>\n",
       "      <td>9227</td>\n",
       "      <td>3790</td>\n",
       "      <td>6250</td>\n",
       "      <td>45</td>\n",
       "    </tr>\n",
       "    <tr>\n",
       "      <th>4</th>\n",
       "      <td>F</td>\n",
       "      <td>Other Race</td>\n",
       "      <td>Newborn</td>\n",
       "      <td>220</td>\n",
       "      <td>2</td>\n",
       "      <td>Medicaid</td>\n",
       "      <td>3800</td>\n",
       "      <td>N</td>\n",
       "      <td>3155</td>\n",
       "      <td>11381</td>\n",
       "      <td>3032</td>\n",
       "      <td>10135</td>\n",
       "      <td>59</td>\n",
       "    </tr>\n",
       "  </tbody>\n",
       "</table>\n",
       "</div>"
      ],
      "text/plain": [
       "  Gender          Race TypeOfAdmission  CCSProcedureCode  \\\n",
       "0      F    Other Race         Newborn               216   \n",
       "1      F         White         Newborn               220   \n",
       "2      M  Multi-racial         Newborn               115   \n",
       "3      M    Other Race         Newborn               228   \n",
       "4      F    Other Race         Newborn               220   \n",
       "\n",
       "   APRSeverityOfIllnessCode PaymentTypology  BirthWeight  \\\n",
       "0                         3        Medicaid         4900   \n",
       "1                         1        Medicaid         3100   \n",
       "2                         1        Medicaid         3300   \n",
       "3                         1        Medicaid         3300   \n",
       "4                         2        Medicaid         3800   \n",
       "\n",
       "  EmergencyDepartmentIndicator  AverageCostInCounty  AverageChargesInCounty  \\\n",
       "0                            N                 3242                    8966   \n",
       "1                            N                 2611                    9227   \n",
       "2                            N                 3155                   11381   \n",
       "3                            N                 2611                    9227   \n",
       "4                            N                 3155                   11381   \n",
       "\n",
       "   AverageCostInFacility  AverageChargesInFacility  AverageIncomeInZipCode  \n",
       "0                   2448                     13196                      34  \n",
       "1                   1751                      8951                      45  \n",
       "2                   1052                     11314                      74  \n",
       "3                   3790                      6250                      45  \n",
       "4                   3032                     10135                      59  "
      ]
     },
     "execution_count": 44,
     "metadata": {},
     "output_type": "execute_result"
    }
   ],
   "source": [
    "test_data = pd.read_csv('test_data.csv')\n",
    "submission = pd.DataFrame(columns=['ID','LengthOfStay'])\n",
    "submission['ID'] = test_data['ID']\n",
    "test_data = test_data.drop(['ID','HealthServiceArea'], axis = 1)\n",
    "test_data.head()"
   ]
  },
  {
   "cell_type": "code",
   "execution_count": 45,
   "metadata": {
    "ExecuteTime": {
     "end_time": "2021-04-05T17:04:37.095672Z",
     "start_time": "2021-04-05T17:04:37.048950Z"
    }
   },
   "outputs": [
    {
     "name": "stdout",
     "output_type": "stream",
     "text": [
      "<class 'pandas.core.frame.DataFrame'>\n",
      "RangeIndex: 69177 entries, 0 to 69176\n",
      "Data columns (total 13 columns):\n",
      " #   Column                        Non-Null Count  Dtype \n",
      "---  ------                        --------------  ----- \n",
      " 0   Gender                        69177 non-null  object\n",
      " 1   Race                          69177 non-null  object\n",
      " 2   TypeOfAdmission               69177 non-null  object\n",
      " 3   CCSProcedureCode              69177 non-null  int64 \n",
      " 4   APRSeverityOfIllnessCode      69177 non-null  int64 \n",
      " 5   PaymentTypology               69177 non-null  object\n",
      " 6   BirthWeight                   69177 non-null  int64 \n",
      " 7   EmergencyDepartmentIndicator  69177 non-null  object\n",
      " 8   AverageCostInCounty           69177 non-null  int64 \n",
      " 9   AverageChargesInCounty        69177 non-null  int64 \n",
      " 10  AverageCostInFacility         69177 non-null  int64 \n",
      " 11  AverageChargesInFacility      69177 non-null  int64 \n",
      " 12  AverageIncomeInZipCode        69177 non-null  int64 \n",
      "dtypes: int64(8), object(5)\n",
      "memory usage: 6.9+ MB\n"
     ]
    }
   ],
   "source": [
    "test_data.info()"
   ]
  },
  {
   "cell_type": "code",
   "execution_count": 46,
   "metadata": {
    "ExecuteTime": {
     "end_time": "2021-04-05T17:04:37.231817Z",
     "start_time": "2021-04-05T17:04:37.151412Z"
    }
   },
   "outputs": [
    {
     "name": "stdout",
     "output_type": "stream",
     "text": [
      "M    35471\n",
      "F    33704\n",
      "U        2\n",
      "Name: Gender, dtype: int64\n",
      "---------------------------\n",
      "White                     30432\n",
      "Other Race                27043\n",
      "Black/African American    10780\n",
      "Multi-racial                922\n",
      "Name: Race, dtype: int64\n",
      "---------------------------\n",
      "Newborn      68125\n",
      "Emergency      495\n",
      "Urgent         362\n",
      "Elective       194\n",
      "Trauma           1\n",
      "Name: TypeOfAdmission, dtype: int64\n",
      "---------------------------\n",
      " 228    24212\n",
      " 0      15120\n",
      " 220    13108\n",
      " 115    12819\n",
      " 231     2535\n",
      " 216      764\n",
      "-1        619\n",
      "Name: CCSProcedureCode, dtype: int64\n",
      "---------------------------\n",
      "1    55243\n",
      "2    10935\n",
      "3     2998\n",
      "4        1\n",
      "Name: APRSeverityOfIllnessCode, dtype: int64\n",
      "---------------------------\n",
      "Medicaid                     37037\n",
      "Private Health Insurance     14871\n",
      "Blue Cross/Blue Shield       12795\n",
      "Self-Pay                      2508\n",
      "Managed Care, Unspecified     1539\n",
      "Federal/State/Local/VA         320\n",
      "Medicare                        43\n",
      "Miscellaneous/Other             27\n",
      "Unknown                         25\n",
      "Department of Corrections       12\n",
      "Name: PaymentTypology, dtype: int64\n",
      "---------------------------\n",
      "3200    6355\n",
      "3300    6320\n",
      "3400    6049\n",
      "3100    5735\n",
      "3500    5454\n",
      "3000    5218\n",
      "3600    4799\n",
      "2900    4318\n",
      "3700    4006\n",
      "2800    3529\n",
      "3800    3256\n",
      "2700    2654\n",
      "3900    2479\n",
      "2600    1988\n",
      "4000    1785\n",
      "2500    1338\n",
      "4100    1257\n",
      "4200     871\n",
      "4300     617\n",
      "4400     418\n",
      "4500     255\n",
      "4600     151\n",
      "4700     123\n",
      "4800      70\n",
      "4900      56\n",
      "5000      24\n",
      "5100      17\n",
      "5200      13\n",
      "5300       8\n",
      "6100       3\n",
      "5700       2\n",
      "7800       1\n",
      "6600       1\n",
      "8500       1\n",
      "6700       1\n",
      "5400       1\n",
      "9000       1\n",
      "5800       1\n",
      "8600       1\n",
      "5500       1\n",
      "Name: BirthWeight, dtype: int64\n",
      "---------------------------\n",
      "N    68829\n",
      "Y      348\n",
      "Name: EmergencyDepartmentIndicator, dtype: int64\n",
      "---------------------------\n",
      "3155    13906\n",
      "2611     9648\n",
      "2041     8773\n",
      "1719     8352\n",
      "3623     8218\n",
      "3242     4955\n",
      "2377     4124\n",
      "1944     2960\n",
      "1531     2692\n",
      "2756     1360\n",
      "1482     1025\n",
      "1116      635\n",
      "631       563\n",
      "1980      523\n",
      "738       483\n",
      "1303      343\n",
      "1630      321\n",
      "3427      296\n",
      "Name: AverageCostInCounty, dtype: int64\n",
      "---------------------------\n",
      "11381    13906\n",
      "9227      9648\n",
      "9917      8773\n",
      "3028      8352\n",
      "7197      8218\n",
      "8966      4955\n",
      "7224      4124\n",
      "5076      2960\n",
      "6546      2692\n",
      "6179      1360\n",
      "3493      1025\n",
      "4109       635\n",
      "1491       563\n",
      "5992       523\n",
      "1816       483\n",
      "4386       343\n",
      "2991       321\n",
      "3912       296\n",
      "Name: AverageChargesInCounty, dtype: int64\n",
      "---------------------------\n",
      "1751    2985\n",
      "1374    2823\n",
      "828     2785\n",
      "3032    2493\n",
      "2618    2484\n",
      "        ... \n",
      "4404     266\n",
      "4255     248\n",
      "6007     212\n",
      "1129      29\n",
      "4071      26\n",
      "Name: AverageCostInFacility, Length: 68, dtype: int64\n",
      "---------------------------\n",
      "8951     2985\n",
      "13345    2823\n",
      "1876     2785\n",
      "10135    2493\n",
      "5977     2484\n",
      "         ... \n",
      "6670      266\n",
      "7101      248\n",
      "7983      212\n",
      "3136       29\n",
      "13043      26\n",
      "Name: AverageChargesInFacility, Length: 68, dtype: int64\n",
      "---------------------------\n",
      "45     13589\n",
      "59      7968\n",
      "34      7538\n",
      "83      6615\n",
      "74      5705\n",
      "68      5124\n",
      "41      4942\n",
      "115     4229\n",
      "53      2384\n",
      "54      2270\n",
      "81      1944\n",
      "57      1279\n",
      "46      1202\n",
      "50       881\n",
      "49       805\n",
      "104      574\n",
      "95       554\n",
      "36       500\n",
      "96       342\n",
      "99       304\n",
      "84       275\n",
      "103       49\n",
      "55        49\n",
      "58        17\n",
      "52        16\n",
      "56         7\n",
      "43         4\n",
      "77         4\n",
      "64         4\n",
      "47         2\n",
      "28         1\n",
      "Name: AverageIncomeInZipCode, dtype: int64\n",
      "---------------------------\n"
     ]
    }
   ],
   "source": [
    "for col in test_data.columns:\n",
    "    print(test_data[col].value_counts())\n",
    "    print('---------------------------')"
   ]
  },
  {
   "cell_type": "code",
   "execution_count": 47,
   "metadata": {
    "ExecuteTime": {
     "end_time": "2021-04-05T17:04:37.590906Z",
     "start_time": "2021-04-05T17:04:37.332324Z"
    },
    "scrolled": true
   },
   "outputs": [
    {
     "data": {
      "text/plain": [
       "Index([ 'APRSeverityOfIllnessCode',               'BirthWeight',\n",
       "             'AverageCostInCounty',    'AverageChargesInCounty',\n",
       "           'AverageCostInFacility',  'AverageChargesInFacility',\n",
       "          'AverageIncomeInZipCode',                         'F',\n",
       "                               'M',                         'U',\n",
       "          'Black/African American',              'Multi-racial',\n",
       "                      'Other Race',                     'White',\n",
       "                        'Elective',                 'Emergency',\n",
       "                         'Newborn',                    'Trauma',\n",
       "                          'Urgent',                          -1,\n",
       "                                 0,                         115,\n",
       "                               216,                         220,\n",
       "                               228,                         231,\n",
       "          'Blue Cross/Blue Shield', 'Department of Corrections',\n",
       "          'Federal/State/Local/VA', 'Managed Care, Unspecified',\n",
       "                        'Medicaid',                  'Medicare',\n",
       "             'Miscellaneous/Other',  'Private Health Insurance',\n",
       "                        'Self-Pay',                   'Unknown',\n",
       "                               'N',                         'Y'],\n",
       "      dtype='object')"
      ]
     },
     "execution_count": 47,
     "metadata": {},
     "output_type": "execute_result"
    }
   ],
   "source": [
    "for col in encode_col:\n",
    "    # create new dataframe for each type of encode_column\n",
    "    dummiesDF = pd.get_dummies(test_data[col])\n",
    "    # merge the new dataframe into the orginal\n",
    "    test_data = pd.concat([test_data, dummiesDF], axis='columns')\n",
    "    # Drop the original column after encoding\n",
    "    test_data = test_data.drop(col, axis = 1)\n",
    "\n",
    "test_data.columns"
   ]
  },
  {
   "cell_type": "code",
   "execution_count": 48,
   "metadata": {
    "ExecuteTime": {
     "end_time": "2021-04-05T17:04:37.620111Z",
     "start_time": "2021-04-05T17:04:37.593898Z"
    }
   },
   "outputs": [],
   "source": [
    "test_data = test_data.drop(['Trauma','Department of Corrections'], axis = 1)"
   ]
  },
  {
   "cell_type": "code",
   "execution_count": 49,
   "metadata": {
    "ExecuteTime": {
     "end_time": "2021-04-05T17:04:37.772175Z",
     "start_time": "2021-04-05T17:04:37.626913Z"
    }
   },
   "outputs": [],
   "source": [
    "scaler_test = StandardScaler()\n",
    "scaler_test.fit(test_data)\n",
    "test_data_scale = scaler_test.transform(test_data)"
   ]
  },
  {
   "cell_type": "code",
   "execution_count": 50,
   "metadata": {
    "ExecuteTime": {
     "end_time": "2021-04-05T17:04:37.830002Z",
     "start_time": "2021-04-05T17:04:37.808464Z"
    }
   },
   "outputs": [
    {
     "data": {
      "text/plain": [
       "array([0, 0, 0, ..., 0, 0, 0], dtype=int64)"
      ]
     },
     "execution_count": 50,
     "metadata": {},
     "output_type": "execute_result"
    }
   ],
   "source": [
    "prediction = log_reg.predict(test_data_scale)\n",
    "prediction"
   ]
  },
  {
   "cell_type": "code",
   "execution_count": 51,
   "metadata": {
    "ExecuteTime": {
     "end_time": "2021-04-05T17:04:38.035526Z",
     "start_time": "2021-04-05T17:04:38.027207Z"
    },
    "scrolled": true
   },
   "outputs": [
    {
     "name": "stdout",
     "output_type": "stream",
     "text": [
      "Prediction: {0: 66444, 1: 2733}\n"
     ]
    }
   ],
   "source": [
    "u, c = np.unique(prediction, return_counts=True)\n",
    "print('Prediction:',dict(zip(u, c)))"
   ]
  },
  {
   "cell_type": "code",
   "execution_count": 52,
   "metadata": {
    "ExecuteTime": {
     "end_time": "2021-04-05T17:04:38.662490Z",
     "start_time": "2021-04-05T17:04:38.626039Z"
    }
   },
   "outputs": [
    {
     "data": {
      "text/html": [
       "<div>\n",
       "<style scoped>\n",
       "    .dataframe tbody tr th:only-of-type {\n",
       "        vertical-align: middle;\n",
       "    }\n",
       "\n",
       "    .dataframe tbody tr th {\n",
       "        vertical-align: top;\n",
       "    }\n",
       "\n",
       "    .dataframe thead th {\n",
       "        text-align: right;\n",
       "    }\n",
       "</style>\n",
       "<table border=\"1\" class=\"dataframe\">\n",
       "  <thead>\n",
       "    <tr style=\"text-align: right;\">\n",
       "      <th></th>\n",
       "      <th>ID</th>\n",
       "      <th>LengthOfStay</th>\n",
       "    </tr>\n",
       "  </thead>\n",
       "  <tbody>\n",
       "    <tr>\n",
       "      <th>0</th>\n",
       "      <td>1</td>\n",
       "      <td>0</td>\n",
       "    </tr>\n",
       "    <tr>\n",
       "      <th>1</th>\n",
       "      <td>2</td>\n",
       "      <td>0</td>\n",
       "    </tr>\n",
       "    <tr>\n",
       "      <th>2</th>\n",
       "      <td>3</td>\n",
       "      <td>0</td>\n",
       "    </tr>\n",
       "    <tr>\n",
       "      <th>3</th>\n",
       "      <td>4</td>\n",
       "      <td>0</td>\n",
       "    </tr>\n",
       "    <tr>\n",
       "      <th>4</th>\n",
       "      <td>5</td>\n",
       "      <td>0</td>\n",
       "    </tr>\n",
       "    <tr>\n",
       "      <th>...</th>\n",
       "      <td>...</td>\n",
       "      <td>...</td>\n",
       "    </tr>\n",
       "    <tr>\n",
       "      <th>69172</th>\n",
       "      <td>69173</td>\n",
       "      <td>0</td>\n",
       "    </tr>\n",
       "    <tr>\n",
       "      <th>69173</th>\n",
       "      <td>69174</td>\n",
       "      <td>0</td>\n",
       "    </tr>\n",
       "    <tr>\n",
       "      <th>69174</th>\n",
       "      <td>69175</td>\n",
       "      <td>0</td>\n",
       "    </tr>\n",
       "    <tr>\n",
       "      <th>69175</th>\n",
       "      <td>69176</td>\n",
       "      <td>0</td>\n",
       "    </tr>\n",
       "    <tr>\n",
       "      <th>69176</th>\n",
       "      <td>69177</td>\n",
       "      <td>0</td>\n",
       "    </tr>\n",
       "  </tbody>\n",
       "</table>\n",
       "<p>69177 rows × 2 columns</p>\n",
       "</div>"
      ],
      "text/plain": [
       "          ID  LengthOfStay\n",
       "0          1             0\n",
       "1          2             0\n",
       "2          3             0\n",
       "3          4             0\n",
       "4          5             0\n",
       "...      ...           ...\n",
       "69172  69173             0\n",
       "69173  69174             0\n",
       "69174  69175             0\n",
       "69175  69176             0\n",
       "69176  69177             0\n",
       "\n",
       "[69177 rows x 2 columns]"
      ]
     },
     "execution_count": 52,
     "metadata": {},
     "output_type": "execute_result"
    }
   ],
   "source": [
    "submission['LengthOfStay'] = pd.Series(prediction)\n",
    "submission"
   ]
  },
  {
   "cell_type": "code",
   "execution_count": 55,
   "metadata": {
    "ExecuteTime": {
     "end_time": "2021-04-05T17:09:31.950270Z",
     "start_time": "2021-04-05T17:09:31.820017Z"
    }
   },
   "outputs": [],
   "source": [
    "submission.to_csv('test1.csv',index=False)"
   ]
  },
  {
   "cell_type": "code",
   "execution_count": null,
   "metadata": {},
   "outputs": [],
   "source": []
  }
 ],
 "metadata": {
  "kernelspec": {
   "display_name": "Python 3",
   "language": "python",
   "name": "python3"
  },
  "language_info": {
   "codemirror_mode": {
    "name": "ipython",
    "version": 3
   },
   "file_extension": ".py",
   "mimetype": "text/x-python",
   "name": "python",
   "nbconvert_exporter": "python",
   "pygments_lexer": "ipython3",
   "version": "3.8.5"
  },
  "toc": {
   "base_numbering": 1,
   "nav_menu": {},
   "number_sections": true,
   "sideBar": true,
   "skip_h1_title": false,
   "title_cell": "Table of Contents",
   "title_sidebar": "Contents",
   "toc_cell": false,
   "toc_position": {},
   "toc_section_display": true,
   "toc_window_display": false
  }
 },
 "nbformat": 4,
 "nbformat_minor": 5
}
