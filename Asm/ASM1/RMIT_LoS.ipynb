{
 "cells": [
  {
   "cell_type": "markdown",
   "metadata": {},
   "source": [
    "# COSC2753 - Assignment 1 - Length of Stay Prediction "
   ]
  },
  {
   "cell_type": "markdown",
   "metadata": {},
   "source": [
    "**RMIT University Vietnam**\n",
    "\n",
    "**Course:** COSC2753\n",
    "\n",
    "**Name:** Pham Cong Minh\n",
    "\n",
    "**ID:** s3818102\n",
    "\n",
    "**Lecturer:** Dr. Duy Dang Pham Thien\n",
    "\n",
    "**Submission Due Date:** 16 April 2021"
   ]
  },
  {
   "cell_type": "markdown",
   "metadata": {},
   "source": [
    "Predict a patient will stay more than 3 days (class 1) or less (class 0)"
   ]
  },
  {
   "cell_type": "markdown",
   "metadata": {},
   "source": [
    "## 1. Import libraries"
   ]
  },
  {
   "cell_type": "code",
   "execution_count": 1,
   "metadata": {
    "ExecuteTime": {
     "end_time": "2021-04-11T14:41:25.002774Z",
     "start_time": "2021-04-11T14:41:23.453028Z"
    }
   },
   "outputs": [],
   "source": [
    "import numpy as np\n",
    "import pandas as pd\n",
    "from matplotlib import pyplot as plt\n",
    "import seaborn as sns\n",
    "\n",
    "from matplotlib import style\n",
    "style.use('dark_background')"
   ]
  },
  {
   "cell_type": "markdown",
   "metadata": {},
   "source": [
    "## 2. Read train data & inspect"
   ]
  },
  {
   "cell_type": "markdown",
   "metadata": {},
   "source": [
    "### 2.1 Read data"
   ]
  },
  {
   "cell_type": "code",
   "execution_count": 2,
   "metadata": {
    "ExecuteTime": {
     "end_time": "2021-04-11T14:41:25.189766Z",
     "start_time": "2021-04-11T14:41:25.004274Z"
    }
   },
   "outputs": [
    {
     "data": {
      "text/html": [
       "<div>\n",
       "<style scoped>\n",
       "    .dataframe tbody tr th:only-of-type {\n",
       "        vertical-align: middle;\n",
       "    }\n",
       "\n",
       "    .dataframe tbody tr th {\n",
       "        vertical-align: top;\n",
       "    }\n",
       "\n",
       "    .dataframe thead th {\n",
       "        text-align: right;\n",
       "    }\n",
       "</style>\n",
       "<table border=\"1\" class=\"dataframe\">\n",
       "  <thead>\n",
       "    <tr style=\"text-align: right;\">\n",
       "      <th></th>\n",
       "      <th>Gender</th>\n",
       "      <th>Race</th>\n",
       "      <th>TypeOfAdmission</th>\n",
       "      <th>CCSProcedureCode</th>\n",
       "      <th>APRSeverityOfIllnessCode</th>\n",
       "      <th>PaymentTypology</th>\n",
       "      <th>BirthWeight</th>\n",
       "      <th>EmergencyDepartmentIndicator</th>\n",
       "      <th>AverageCostInCounty</th>\n",
       "      <th>AverageChargesInCounty</th>\n",
       "      <th>AverageCostInFacility</th>\n",
       "      <th>AverageChargesInFacility</th>\n",
       "      <th>AverageIncomeInZipCode</th>\n",
       "      <th>LengthOfStay</th>\n",
       "    </tr>\n",
       "  </thead>\n",
       "  <tbody>\n",
       "    <tr>\n",
       "      <th>0</th>\n",
       "      <td>F</td>\n",
       "      <td>Other Race</td>\n",
       "      <td>Newborn</td>\n",
       "      <td>228</td>\n",
       "      <td>1</td>\n",
       "      <td>Medicaid</td>\n",
       "      <td>3700</td>\n",
       "      <td>N</td>\n",
       "      <td>2611</td>\n",
       "      <td>9227</td>\n",
       "      <td>1751</td>\n",
       "      <td>8951</td>\n",
       "      <td>45</td>\n",
       "      <td>1</td>\n",
       "    </tr>\n",
       "    <tr>\n",
       "      <th>1</th>\n",
       "      <td>M</td>\n",
       "      <td>Black/African American</td>\n",
       "      <td>Newborn</td>\n",
       "      <td>228</td>\n",
       "      <td>1</td>\n",
       "      <td>Medicaid</td>\n",
       "      <td>2900</td>\n",
       "      <td>N</td>\n",
       "      <td>3242</td>\n",
       "      <td>8966</td>\n",
       "      <td>3338</td>\n",
       "      <td>6409</td>\n",
       "      <td>34</td>\n",
       "      <td>1</td>\n",
       "    </tr>\n",
       "    <tr>\n",
       "      <th>2</th>\n",
       "      <td>M</td>\n",
       "      <td>Other Race</td>\n",
       "      <td>Newborn</td>\n",
       "      <td>220</td>\n",
       "      <td>1</td>\n",
       "      <td>Private Health Insurance</td>\n",
       "      <td>3200</td>\n",
       "      <td>N</td>\n",
       "      <td>3155</td>\n",
       "      <td>11381</td>\n",
       "      <td>4980</td>\n",
       "      <td>9323</td>\n",
       "      <td>45</td>\n",
       "      <td>1</td>\n",
       "    </tr>\n",
       "    <tr>\n",
       "      <th>3</th>\n",
       "      <td>F</td>\n",
       "      <td>Other Race</td>\n",
       "      <td>Newborn</td>\n",
       "      <td>0</td>\n",
       "      <td>1</td>\n",
       "      <td>Private Health Insurance</td>\n",
       "      <td>3300</td>\n",
       "      <td>N</td>\n",
       "      <td>3155</td>\n",
       "      <td>11381</td>\n",
       "      <td>5826</td>\n",
       "      <td>15680</td>\n",
       "      <td>59</td>\n",
       "      <td>1</td>\n",
       "    </tr>\n",
       "    <tr>\n",
       "      <th>4</th>\n",
       "      <td>F</td>\n",
       "      <td>Other Race</td>\n",
       "      <td>Newborn</td>\n",
       "      <td>228</td>\n",
       "      <td>1</td>\n",
       "      <td>Medicaid</td>\n",
       "      <td>2600</td>\n",
       "      <td>N</td>\n",
       "      <td>2611</td>\n",
       "      <td>9227</td>\n",
       "      <td>6000</td>\n",
       "      <td>14344</td>\n",
       "      <td>59</td>\n",
       "      <td>1</td>\n",
       "    </tr>\n",
       "  </tbody>\n",
       "</table>\n",
       "</div>"
      ],
      "text/plain": [
       "  Gender                    Race TypeOfAdmission  CCSProcedureCode  \\\n",
       "0      F              Other Race         Newborn               228   \n",
       "1      M  Black/African American         Newborn               228   \n",
       "2      M              Other Race         Newborn               220   \n",
       "3      F              Other Race         Newborn                 0   \n",
       "4      F              Other Race         Newborn               228   \n",
       "\n",
       "   APRSeverityOfIllnessCode           PaymentTypology  BirthWeight  \\\n",
       "0                         1                  Medicaid         3700   \n",
       "1                         1                  Medicaid         2900   \n",
       "2                         1  Private Health Insurance         3200   \n",
       "3                         1  Private Health Insurance         3300   \n",
       "4                         1                  Medicaid         2600   \n",
       "\n",
       "  EmergencyDepartmentIndicator  AverageCostInCounty  AverageChargesInCounty  \\\n",
       "0                            N                 2611                    9227   \n",
       "1                            N                 3242                    8966   \n",
       "2                            N                 3155                   11381   \n",
       "3                            N                 3155                   11381   \n",
       "4                            N                 2611                    9227   \n",
       "\n",
       "   AverageCostInFacility  AverageChargesInFacility  AverageIncomeInZipCode  \\\n",
       "0                   1751                      8951                      45   \n",
       "1                   3338                      6409                      34   \n",
       "2                   4980                      9323                      45   \n",
       "3                   5826                     15680                      59   \n",
       "4                   6000                     14344                      59   \n",
       "\n",
       "   LengthOfStay  \n",
       "0             1  \n",
       "1             1  \n",
       "2             1  \n",
       "3             1  \n",
       "4             1  "
      ]
     },
     "execution_count": 2,
     "metadata": {},
     "output_type": "execute_result"
    }
   ],
   "source": [
    "train_data = pd.read_csv('train_data.csv').drop(['ID', 'HealthServiceArea'], axis=1)\n",
    "\n",
    "train_data.head()"
   ]
  },
  {
   "cell_type": "markdown",
   "metadata": {},
   "source": [
    "### 2.2 Inspect data"
   ]
  },
  {
   "cell_type": "code",
   "execution_count": 3,
   "metadata": {
    "ExecuteTime": {
     "end_time": "2021-04-11T14:41:25.250605Z",
     "start_time": "2021-04-11T14:41:25.191761Z"
    },
    "scrolled": true
   },
   "outputs": [
    {
     "data": {
      "text/html": [
       "<div>\n",
       "<style scoped>\n",
       "    .dataframe tbody tr th:only-of-type {\n",
       "        vertical-align: middle;\n",
       "    }\n",
       "\n",
       "    .dataframe tbody tr th {\n",
       "        vertical-align: top;\n",
       "    }\n",
       "\n",
       "    .dataframe thead th {\n",
       "        text-align: right;\n",
       "    }\n",
       "</style>\n",
       "<table border=\"1\" class=\"dataframe\">\n",
       "  <thead>\n",
       "    <tr style=\"text-align: right;\">\n",
       "      <th></th>\n",
       "      <th>CCSProcedureCode</th>\n",
       "      <th>APRSeverityOfIllnessCode</th>\n",
       "      <th>BirthWeight</th>\n",
       "      <th>AverageCostInCounty</th>\n",
       "      <th>AverageChargesInCounty</th>\n",
       "      <th>AverageCostInFacility</th>\n",
       "      <th>AverageChargesInFacility</th>\n",
       "      <th>AverageIncomeInZipCode</th>\n",
       "      <th>LengthOfStay</th>\n",
       "    </tr>\n",
       "  </thead>\n",
       "  <tbody>\n",
       "    <tr>\n",
       "      <th>count</th>\n",
       "      <td>59966.000000</td>\n",
       "      <td>59966.000000</td>\n",
       "      <td>59966.000000</td>\n",
       "      <td>59966.000000</td>\n",
       "      <td>59966.000000</td>\n",
       "      <td>59966.000000</td>\n",
       "      <td>59966.000000</td>\n",
       "      <td>59966.000000</td>\n",
       "      <td>59966.000000</td>\n",
       "    </tr>\n",
       "    <tr>\n",
       "      <th>mean</th>\n",
       "      <td>155.404229</td>\n",
       "      <td>1.254594</td>\n",
       "      <td>3336.298903</td>\n",
       "      <td>2372.806690</td>\n",
       "      <td>7979.126922</td>\n",
       "      <td>2396.414318</td>\n",
       "      <td>7958.472668</td>\n",
       "      <td>59.811143</td>\n",
       "      <td>2.538405</td>\n",
       "    </tr>\n",
       "    <tr>\n",
       "      <th>std</th>\n",
       "      <td>89.541978</td>\n",
       "      <td>0.546207</td>\n",
       "      <td>446.244475</td>\n",
       "      <td>639.755096</td>\n",
       "      <td>3220.291347</td>\n",
       "      <td>1248.501189</td>\n",
       "      <td>3859.294711</td>\n",
       "      <td>21.470170</td>\n",
       "      <td>1.171246</td>\n",
       "    </tr>\n",
       "    <tr>\n",
       "      <th>min</th>\n",
       "      <td>-1.000000</td>\n",
       "      <td>1.000000</td>\n",
       "      <td>2500.000000</td>\n",
       "      <td>712.000000</td>\n",
       "      <td>1243.000000</td>\n",
       "      <td>457.000000</td>\n",
       "      <td>1120.000000</td>\n",
       "      <td>28.000000</td>\n",
       "      <td>1.000000</td>\n",
       "    </tr>\n",
       "    <tr>\n",
       "      <th>25%</th>\n",
       "      <td>115.000000</td>\n",
       "      <td>1.000000</td>\n",
       "      <td>3000.000000</td>\n",
       "      <td>2041.000000</td>\n",
       "      <td>4620.000000</td>\n",
       "      <td>1551.000000</td>\n",
       "      <td>4438.000000</td>\n",
       "      <td>45.000000</td>\n",
       "      <td>2.000000</td>\n",
       "    </tr>\n",
       "    <tr>\n",
       "      <th>50%</th>\n",
       "      <td>220.000000</td>\n",
       "      <td>1.000000</td>\n",
       "      <td>3300.000000</td>\n",
       "      <td>2533.000000</td>\n",
       "      <td>9227.000000</td>\n",
       "      <td>1967.000000</td>\n",
       "      <td>7945.000000</td>\n",
       "      <td>55.000000</td>\n",
       "      <td>2.000000</td>\n",
       "    </tr>\n",
       "    <tr>\n",
       "      <th>75%</th>\n",
       "      <td>228.000000</td>\n",
       "      <td>1.000000</td>\n",
       "      <td>3600.000000</td>\n",
       "      <td>2785.000000</td>\n",
       "      <td>10644.000000</td>\n",
       "      <td>2895.000000</td>\n",
       "      <td>11619.000000</td>\n",
       "      <td>74.000000</td>\n",
       "      <td>3.000000</td>\n",
       "    </tr>\n",
       "    <tr>\n",
       "      <th>max</th>\n",
       "      <td>231.000000</td>\n",
       "      <td>4.000000</td>\n",
       "      <td>7500.000000</td>\n",
       "      <td>3242.000000</td>\n",
       "      <td>11381.000000</td>\n",
       "      <td>8114.000000</td>\n",
       "      <td>18466.000000</td>\n",
       "      <td>115.000000</td>\n",
       "      <td>10.000000</td>\n",
       "    </tr>\n",
       "  </tbody>\n",
       "</table>\n",
       "</div>"
      ],
      "text/plain": [
       "       CCSProcedureCode  APRSeverityOfIllnessCode   BirthWeight  \\\n",
       "count      59966.000000              59966.000000  59966.000000   \n",
       "mean         155.404229                  1.254594   3336.298903   \n",
       "std           89.541978                  0.546207    446.244475   \n",
       "min           -1.000000                  1.000000   2500.000000   \n",
       "25%          115.000000                  1.000000   3000.000000   \n",
       "50%          220.000000                  1.000000   3300.000000   \n",
       "75%          228.000000                  1.000000   3600.000000   \n",
       "max          231.000000                  4.000000   7500.000000   \n",
       "\n",
       "       AverageCostInCounty  AverageChargesInCounty  AverageCostInFacility  \\\n",
       "count         59966.000000            59966.000000           59966.000000   \n",
       "mean           2372.806690             7979.126922            2396.414318   \n",
       "std             639.755096             3220.291347            1248.501189   \n",
       "min             712.000000             1243.000000             457.000000   \n",
       "25%            2041.000000             4620.000000            1551.000000   \n",
       "50%            2533.000000             9227.000000            1967.000000   \n",
       "75%            2785.000000            10644.000000            2895.000000   \n",
       "max            3242.000000            11381.000000            8114.000000   \n",
       "\n",
       "       AverageChargesInFacility  AverageIncomeInZipCode  LengthOfStay  \n",
       "count              59966.000000            59966.000000  59966.000000  \n",
       "mean                7958.472668               59.811143      2.538405  \n",
       "std                 3859.294711               21.470170      1.171246  \n",
       "min                 1120.000000               28.000000      1.000000  \n",
       "25%                 4438.000000               45.000000      2.000000  \n",
       "50%                 7945.000000               55.000000      2.000000  \n",
       "75%                11619.000000               74.000000      3.000000  \n",
       "max                18466.000000              115.000000     10.000000  "
      ]
     },
     "execution_count": 3,
     "metadata": {},
     "output_type": "execute_result"
    }
   ],
   "source": [
    "train_data.describe()"
   ]
  },
  {
   "cell_type": "code",
   "execution_count": 4,
   "metadata": {
    "ExecuteTime": {
     "end_time": "2021-04-11T14:41:25.281522Z",
     "start_time": "2021-04-11T14:41:25.252599Z"
    },
    "scrolled": true
   },
   "outputs": [
    {
     "name": "stdout",
     "output_type": "stream",
     "text": [
      "<class 'pandas.core.frame.DataFrame'>\n",
      "RangeIndex: 59966 entries, 0 to 59965\n",
      "Data columns (total 14 columns):\n",
      " #   Column                        Non-Null Count  Dtype \n",
      "---  ------                        --------------  ----- \n",
      " 0   Gender                        59966 non-null  object\n",
      " 1   Race                          59966 non-null  object\n",
      " 2   TypeOfAdmission               59966 non-null  object\n",
      " 3   CCSProcedureCode              59966 non-null  int64 \n",
      " 4   APRSeverityOfIllnessCode      59966 non-null  int64 \n",
      " 5   PaymentTypology               59966 non-null  object\n",
      " 6   BirthWeight                   59966 non-null  int64 \n",
      " 7   EmergencyDepartmentIndicator  59966 non-null  object\n",
      " 8   AverageCostInCounty           59966 non-null  int64 \n",
      " 9   AverageChargesInCounty        59966 non-null  int64 \n",
      " 10  AverageCostInFacility         59966 non-null  int64 \n",
      " 11  AverageChargesInFacility      59966 non-null  int64 \n",
      " 12  AverageIncomeInZipCode        59966 non-null  int64 \n",
      " 13  LengthOfStay                  59966 non-null  int64 \n",
      "dtypes: int64(9), object(5)\n",
      "memory usage: 6.4+ MB\n"
     ]
    }
   ],
   "source": [
    "train_data.info()"
   ]
  },
  {
   "cell_type": "code",
   "execution_count": 5,
   "metadata": {
    "ExecuteTime": {
     "end_time": "2021-04-11T14:41:25.296481Z",
     "start_time": "2021-04-11T14:41:25.282518Z"
    },
    "scrolled": true
   },
   "outputs": [
    {
     "data": {
      "text/plain": [
       "(59966, 14)"
      ]
     },
     "execution_count": 5,
     "metadata": {},
     "output_type": "execute_result"
    }
   ],
   "source": [
    "train_data.shape"
   ]
  },
  {
   "cell_type": "markdown",
   "metadata": {},
   "source": [
    "## 3. Data preprocessing and visualization"
   ]
  },
  {
   "cell_type": "markdown",
   "metadata": {},
   "source": [
    "### 3.1 Convert LoS to binary targets"
   ]
  },
  {
   "cell_type": "code",
   "execution_count": 6,
   "metadata": {
    "ExecuteTime": {
     "end_time": "2021-04-11T14:41:25.342380Z",
     "start_time": "2021-04-11T14:41:25.299474Z"
    },
    "scrolled": true
   },
   "outputs": [
    {
     "data": {
      "text/plain": [
       "0    49895\n",
       "1    10071\n",
       "Name: LengthOfStay, dtype: int64"
      ]
     },
     "execution_count": 6,
     "metadata": {},
     "output_type": "execute_result"
    }
   ],
   "source": [
    "train_data['LengthOfStay'] = train_data['LengthOfStay'].apply(lambda x: 0 if int(x) <= 3 else 1)\n",
    "train_data['LengthOfStay'].value_counts()"
   ]
  },
  {
   "cell_type": "markdown",
   "metadata": {},
   "source": [
    "### 3.2 Deep inspection to consider anomaly data point(s)"
   ]
  },
  {
   "cell_type": "code",
   "execution_count": 7,
   "metadata": {
    "ExecuteTime": {
     "end_time": "2021-04-11T14:41:25.468050Z",
     "start_time": "2021-04-11T14:41:25.346374Z"
    }
   },
   "outputs": [
    {
     "name": "stdout",
     "output_type": "stream",
     "text": [
      "Gender\n",
      "   Counts Percent\n",
      "M   30978  51.66%\n",
      "F   28987  48.34%\n",
      "U       1    0.0%\n",
      "--------------------------------\n",
      "Race\n",
      "                        Counts Percent\n",
      "White                    32943  54.94%\n",
      "Other Race               18314  30.54%\n",
      "Black/African American    8183  13.65%\n",
      "Multi-racial               526   0.88%\n",
      "--------------------------------\n",
      "TypeOfAdmission\n",
      "           Counts Percent\n",
      "Newborn     58741  97.96%\n",
      "Emergency     659    1.1%\n",
      "Urgent        412   0.69%\n",
      "Elective      154   0.26%\n",
      "--------------------------------\n",
      "CCSProcedureCode\n",
      "      Counts Percent\n",
      " 228   19886  33.16%\n",
      " 115   13628  22.73%\n",
      " 0     11189  18.66%\n",
      " 220   10773  17.97%\n",
      " 231    2981   4.97%\n",
      "-1       769   1.28%\n",
      " 216     740   1.23%\n",
      "--------------------------------\n",
      "APRSeverityOfIllnessCode\n",
      "   Counts Percent\n",
      "1   47953  79.97%\n",
      "2    8760  14.61%\n",
      "3    3252   5.42%\n",
      "4       1    0.0%\n",
      "--------------------------------\n",
      "PaymentTypology\n",
      "                           Counts Percent\n",
      "Medicaid                    28723   47.9%\n",
      "Private Health Insurance    15608  26.03%\n",
      "Blue Cross/Blue Shield      12073  20.13%\n",
      "Self-Pay                     1984   3.31%\n",
      "Federal/State/Local/VA        849   1.42%\n",
      "Managed Care, Unspecified     545   0.91%\n",
      "Miscellaneous/Other           118    0.2%\n",
      "Medicare                       44   0.07%\n",
      "Unknown                        22   0.04%\n",
      "--------------------------------\n",
      "BirthWeight\n",
      "      Counts Percent\n",
      "3200    5321   8.87%\n",
      "3300    5316   8.87%\n",
      "3400    5135   8.56%\n",
      "3100    4836   8.06%\n",
      "3500    4743   7.91%\n",
      "3000    4485   7.48%\n",
      "3600    4174   6.96%\n",
      "2900    3630   6.05%\n",
      "3700    3503   5.84%\n",
      "2800    3057    5.1%\n",
      "3800    2757    4.6%\n",
      "2700    2250   3.75%\n",
      "3900    2224   3.71%\n",
      "2600    1758   2.93%\n",
      "4000    1658   2.76%\n",
      "2500    1407   2.35%\n",
      "4100    1170   1.95%\n",
      "4200     847   1.41%\n",
      "4300     614   1.02%\n",
      "4400     373   0.62%\n",
      "4500     237    0.4%\n",
      "4600     169   0.28%\n",
      "4700     110   0.18%\n",
      "4800      65   0.11%\n",
      "4900      41   0.07%\n",
      "5000      31   0.05%\n",
      "5100      17   0.03%\n",
      "5200      10   0.02%\n",
      "5500       5   0.01%\n",
      "5600       3   0.01%\n",
      "5300       3   0.01%\n",
      "6000       3   0.01%\n",
      "6100       2    0.0%\n",
      "6400       2    0.0%\n",
      "5400       2    0.0%\n",
      "6500       2    0.0%\n",
      "5800       2    0.0%\n",
      "6900       1    0.0%\n",
      "6200       1    0.0%\n",
      "7500       1    0.0%\n",
      "6300       1    0.0%\n",
      "--------------------------------\n",
      "EmergencyDepartmentIndicator\n",
      "   Counts Percent\n",
      "N   59453  99.14%\n",
      "Y     513   0.86%\n",
      "--------------------------------\n",
      "AverageCostInCounty\n",
      "      Counts Percent\n",
      "3155   10362  17.28%\n",
      "2611    6786  11.32%\n",
      "2208    6091  10.16%\n",
      "2785    6011  10.02%\n",
      "2041    5732   9.56%\n",
      "1826    4750   7.92%\n",
      "3242    3412   5.69%\n",
      "2158    2846   4.75%\n",
      "1371    1981    3.3%\n",
      "2533    1458   2.43%\n",
      "1445    1033   1.72%\n",
      "994      976   1.63%\n",
      "2756     943   1.57%\n",
      "1304     913   1.52%\n",
      "2834     574   0.96%\n",
      "746      539    0.9%\n",
      "2653     495   0.83%\n",
      "2018     483   0.81%\n",
      "712      461   0.77%\n",
      "2209     458   0.76%\n",
      "1732     389   0.65%\n",
      "1439     385   0.64%\n",
      "1446     296   0.49%\n",
      "854      277   0.46%\n",
      "1018     260   0.43%\n",
      "1607     218   0.36%\n",
      "1742     212   0.35%\n",
      "1665     210   0.35%\n",
      "1860     208   0.35%\n",
      "1562     200   0.33%\n",
      "1511     195   0.33%\n",
      "1091     192   0.32%\n",
      "2508     179    0.3%\n",
      "2318     151   0.25%\n",
      "1352     123   0.21%\n",
      "2777      84   0.14%\n",
      "1996      83   0.14%\n",
      "--------------------------------\n",
      "AverageChargesInCounty\n",
      "       Counts Percent\n",
      "11381   10362  17.28%\n",
      "9227     6786  11.32%\n",
      "10134    6091  10.16%\n",
      "10644    6011  10.02%\n",
      "9917     5732   9.56%\n",
      "4190     4750   7.92%\n",
      "8966     3412   5.69%\n",
      "4620     2846   4.75%\n",
      "5463     1981    3.3%\n",
      "3320     1458   2.43%\n",
      "3419     1033   1.72%\n",
      "2141      976   1.63%\n",
      "6179      943   1.57%\n",
      "3264      913   1.52%\n",
      "8172      574   0.96%\n",
      "1243      539    0.9%\n",
      "2630      495   0.83%\n",
      "3610      483   0.81%\n",
      "1775      461   0.77%\n",
      "3482      458   0.76%\n",
      "5057      389   0.65%\n",
      "1734      385   0.64%\n",
      "5491      296   0.49%\n",
      "1516      277   0.46%\n",
      "2685      260   0.43%\n",
      "2907      218   0.36%\n",
      "2179      212   0.35%\n",
      "2096      210   0.35%\n",
      "2846      208   0.35%\n",
      "3635      200   0.33%\n",
      "3519      195   0.33%\n",
      "2795      192   0.32%\n",
      "2140      179    0.3%\n",
      "1857      151   0.25%\n",
      "2910      123   0.21%\n",
      "1587       84   0.14%\n",
      "2611       83   0.14%\n",
      "--------------------------------\n",
      "AverageCostInFacility\n",
      "      Counts Percent\n",
      "1686    3752   6.26%\n",
      "1751    2083   3.47%\n",
      "2562    1970   3.29%\n",
      "1374    1784   2.98%\n",
      "3032    1730   2.88%\n",
      "...      ...     ...\n",
      "2777      84   0.14%\n",
      "1996      83   0.14%\n",
      "3280      28   0.05%\n",
      "4071      26   0.04%\n",
      "8114       1    0.0%\n",
      "\n",
      "[99 rows x 2 columns]\n",
      "--------------------------------\n",
      "AverageChargesInFacility\n",
      "       Counts Percent\n",
      "7945     2279    3.8%\n",
      "8951     2083   3.47%\n",
      "13341    1970   3.29%\n",
      "13345    1784   2.98%\n",
      "10135    1730   2.88%\n",
      "...       ...     ...\n",
      "1587       84   0.14%\n",
      "2611       83   0.14%\n",
      "8913       28   0.05%\n",
      "13043      26   0.04%\n",
      "18466       1    0.0%\n",
      "\n",
      "[100 rows x 2 columns]\n",
      "--------------------------------\n",
      "AverageIncomeInZipCode\n",
      "     Counts Percent\n",
      "45    10961  18.28%\n",
      "96     6538   10.9%\n",
      "59     6355   10.6%\n",
      "34     4552   7.59%\n",
      "74     4375    7.3%\n",
      "36     3278   5.47%\n",
      "104    3027   5.05%\n",
      "58     2675   4.46%\n",
      "43     1944   3.24%\n",
      "41     1884   3.14%\n",
      "55     1690   2.82%\n",
      "56     1597   2.66%\n",
      "52     1568   2.61%\n",
      "48     1148   1.91%\n",
      "77     1102   1.84%\n",
      "57     1090   1.82%\n",
      "68      957    1.6%\n",
      "44      768   1.28%\n",
      "99      731   1.22%\n",
      "47      718    1.2%\n",
      "53      689   1.15%\n",
      "64      477    0.8%\n",
      "46      427   0.71%\n",
      "28      272   0.45%\n",
      "83      264   0.44%\n",
      "103     234   0.39%\n",
      "84      158   0.26%\n",
      "115     145   0.24%\n",
      "50      109   0.18%\n",
      "81      100   0.17%\n",
      "54       91   0.15%\n",
      "95       37   0.06%\n",
      "49        5   0.01%\n",
      "--------------------------------\n",
      "LengthOfStay\n",
      "   Counts Percent\n",
      "0   49895  83.21%\n",
      "1   10071  16.79%\n",
      "--------------------------------\n"
     ]
    }
   ],
   "source": [
    "for col in train_data.columns:\n",
    "    print(col)\n",
    "    count = train_data[col].value_counts()\n",
    "    percent = train_data[col].value_counts(normalize=True).mul(100).round(2).astype(str) + '%'\n",
    "    print(pd.DataFrame({'Counts': count, 'Percent': percent}))\n",
    "    print('--------------------------------')"
   ]
  },
  {
   "cell_type": "markdown",
   "metadata": {},
   "source": [
    "### 3.3 Plot the attributes of class 0 and 1"
   ]
  },
  {
   "cell_type": "code",
   "execution_count": 8,
   "metadata": {
    "ExecuteTime": {
     "end_time": "2021-04-11T14:41:25.484005Z",
     "start_time": "2021-04-11T14:41:25.470046Z"
    }
   },
   "outputs": [],
   "source": [
    "def Facet_Grid_sns(df):\n",
    "    for c in df.columns:\n",
    "        g = sns.FacetGrid(df, col='LengthOfStay',height =4, aspect = 2)\n",
    "        g.map(plt.hist, str(c) ,bins=20)\n",
    "        g.set_axis_labels(c, \"Count\")"
   ]
  },
  {
   "cell_type": "code",
   "execution_count": 9,
   "metadata": {
    "ExecuteTime": {
     "end_time": "2021-04-11T14:41:31.658339Z",
     "start_time": "2021-04-11T14:41:25.486000Z"
    },
    "scrolled": false
   },
   "outputs": [
    {
     "data": {
      "image/png": "[encoded data removed]",
      "text/plain": [
       "<Figure size 1152x288 with 2 Axes>"
      ]
     },
     "metadata": {},
     "output_type": "display_data"
    },
    {
     "data": {
      "image/png": "[encoded data removed]",
      "text/plain": [
       "<Figure size 1152x288 with 2 Axes>"
      ]
     },
     "metadata": {},
     "output_type": "display_data"
    },
    {
     "data": {
      "image/png": "[encoded data removed]",
      "text/plain": [
       "<Figure size 1152x288 with 2 Axes>"
      ]
     },
     "metadata": {},
     "output_type": "display_data"
    },
    {
     "data": {
      "image/png": "[encoded data removed]",
      "text/plain": [
       "<Figure size 1152x288 with 2 Axes>"
      ]
     },
     "metadata": {},
     "output_type": "display_data"
    },
    {
     "data": {
      "image/png": "[encoded data removed]",
      "text/plain": [
       "<Figure size 1152x288 with 2 Axes>"
      ]
     },
     "metadata": {},
     "output_type": "display_data"
    },
    {
     "data": {
      "image/png": "[encoded data removed]",
      "text/plain": [
       "<Figure size 1152x288 with 2 Axes>"
      ]
     },
     "metadata": {},
     "output_type": "display_data"
    },
    {
     "data": {
      "image/png": "[encoded data removed]",
      "text/plain": [
       "<Figure size 1152x288 with 2 Axes>"
      ]
     },
     "metadata": {},
     "output_type": "display_data"
    },
    {
     "data": {
      "image/png": "[encoded data removed]",
      "text/plain": [
       "<Figure size 1152x288 with 2 Axes>"
      ]
     },
     "metadata": {},
     "output_type": "display_data"
    },
    {
     "data": {
      "image/png": "[encoded data removed]",
      "text/plain": [
       "<Figure size 1152x288 with 2 Axes>"
      ]
     },
     "metadata": {},
     "output_type": "display_data"
    },
    {
     "data": {
      "image/png": "[encoded data removed]",
      "text/plain": [
       "<Figure size 1152x288 with 2 Axes>"
      ]
     },
     "metadata": {},
     "output_type": "display_data"
    },
    {
     "data": {
      "image/png": "[encoded data removed]",
      "text/plain": [
       "<Figure size 1152x288 with 2 Axes>"
      ]
     },
     "metadata": {},
     "output_type": "display_data"
    },
    {
     "data": {
      "image/png": "[encoded data removed]",
      "text/plain": [
       "<Figure size 1152x288 with 2 Axes>"
      ]
     },
     "metadata": {},
     "output_type": "display_data"
    },
    {
     "data": {
      "image/png": "[encoded data removed]",
      "text/plain": [
       "<Figure size 1152x288 with 2 Axes>"
      ]
     },
     "metadata": {},
     "output_type": "display_data"
    },
    {
     "data": {
      "image/png": "[encoded data removed]",
      "text/plain": [
       "<Figure size 1152x288 with 2 Axes>"
      ]
     },
     "metadata": {},
     "output_type": "display_data"
    }
   ],
   "source": [
    "Facet_Grid_sns(train_data)"
   ]
  },
  {
   "cell_type": "markdown",
   "metadata": {},
   "source": [
    "### 3.2 Split into X and y"
   ]
  },
  {
   "cell_type": "code",
   "execution_count": 10,
   "metadata": {
    "ExecuteTime": {
     "end_time": "2021-04-11T14:41:31.674189Z",
     "start_time": "2021-04-11T14:41:31.660200Z"
    }
   },
   "outputs": [],
   "source": [
    "X = train_data.drop('LengthOfStay', axis=1)\n",
    "y = train_data['LengthOfStay']"
   ]
  },
  {
   "cell_type": "code",
   "execution_count": 11,
   "metadata": {
    "ExecuteTime": {
     "end_time": "2021-04-11T14:41:31.801023Z",
     "start_time": "2021-04-11T14:41:31.676164Z"
    },
    "scrolled": true
   },
   "outputs": [
    {
     "name": "stderr",
     "output_type": "stream",
     "text": [
      "C:\\Users\\Dell\\anaconda3\\lib\\site-packages\\seaborn\\_decorators.py:36: FutureWarning: Pass the following variable as a keyword arg: x. From version 0.12, the only valid positional argument will be `data`, and passing other arguments without an explicit keyword will result in an error or misinterpretation.\n",
      "  warnings.warn(\n"
     ]
    },
    {
     "data": {
      "image/png": "[encoded data removed]",
      "text/plain": [
       "<Figure size 432x288 with 1 Axes>"
      ]
     },
     "metadata": {},
     "output_type": "display_data"
    }
   ],
   "source": [
    "sns.countplot(y, palette='Set1')\n",
    "plt.xlabel('Class')\n",
    "plt.ylabel('Number of records')\n",
    "plt.show()"
   ]
  },
  {
   "cell_type": "markdown",
   "metadata": {},
   "source": [
    "## 4. Encode norminal data"
   ]
  },
  {
   "cell_type": "markdown",
   "metadata": {},
   "source": [
    "### 4.1.  Using pd.get_dummies()"
   ]
  },
  {
   "cell_type": "code",
   "execution_count": 12,
   "metadata": {
    "ExecuteTime": {
     "end_time": "2021-04-11T14:41:31.940577Z",
     "start_time": "2021-04-11T14:41:31.802975Z"
    },
    "scrolled": true
   },
   "outputs": [
    {
     "data": {
      "text/plain": [
       "Index([ 'APRSeverityOfIllnessCode',               'BirthWeight',\n",
       "             'AverageCostInCounty',    'AverageChargesInCounty',\n",
       "           'AverageCostInFacility',  'AverageChargesInFacility',\n",
       "          'AverageIncomeInZipCode',                         'F',\n",
       "                               'M',                         'U',\n",
       "          'Black/African American',              'Multi-racial',\n",
       "                      'Other Race',                     'White',\n",
       "                        'Elective',                 'Emergency',\n",
       "                         'Newborn',                    'Urgent',\n",
       "                                -1,                           0,\n",
       "                               115,                         216,\n",
       "                               220,                         228,\n",
       "                               231,    'Blue Cross/Blue Shield',\n",
       "          'Federal/State/Local/VA', 'Managed Care, Unspecified',\n",
       "                        'Medicaid',                  'Medicare',\n",
       "             'Miscellaneous/Other',  'Private Health Insurance',\n",
       "                        'Self-Pay',                   'Unknown',\n",
       "                               'N',                         'Y'],\n",
       "      dtype='object')"
      ]
     },
     "execution_count": 12,
     "metadata": {},
     "output_type": "execute_result"
    }
   ],
   "source": [
    "X_copy = X.copy()\n",
    "encode_col = ['Gender', \n",
    "              'Race', \n",
    "              'TypeOfAdmission', \n",
    "              'CCSProcedureCode',\n",
    "              'PaymentTypology', \n",
    "              'EmergencyDepartmentIndicator']\n",
    "\n",
    "for col in encode_col:\n",
    "    dummy = pd.get_dummies(X_copy[col])\n",
    "    X_copy = pd.concat([X_copy, dummy], axis=1)\n",
    "    X_copy = X_copy.drop(col, axis=1)\n",
    "\n",
    "# Check X_copy\n",
    "X_copy.columns"
   ]
  },
  {
   "cell_type": "markdown",
   "metadata": {},
   "source": [
    "### 4.2. Drop outliner encoded-columns"
   ]
  },
  {
   "cell_type": "markdown",
   "metadata": {},
   "source": [
    "### 4.1 Plot heatmap for correlations (encoded data)"
   ]
  },
  {
   "cell_type": "code",
   "execution_count": 13,
   "metadata": {
    "ExecuteTime": {
     "end_time": "2021-04-11T14:41:33.489394Z",
     "start_time": "2021-04-11T14:41:31.941580Z"
    }
   },
   "outputs": [
    {
     "data": {
      "text/plain": [
       "<AxesSubplot:>"
      ]
     },
     "execution_count": 13,
     "metadata": {},
     "output_type": "execute_result"
    },
    {
     "data": {
      "image/png": "[encoded data removed]",
      "text/plain": [
       "<Figure size 1080x1080 with 2 Axes>"
      ]
     },
     "metadata": {},
     "output_type": "display_data"
    }
   ],
   "source": [
    "tmp = pd.concat([X_copy, y], axis=1)\n",
    "correlations = tmp.corr()\n",
    "fig, ax = plt.subplots(figsize=(15,15)) \n",
    "\n",
    "sns.heatmap(correlations, ax = ax, cmap ='mako')"
   ]
  },
  {
   "cell_type": "markdown",
   "metadata": {},
   "source": [
    "## 5. Split data into training and testing set"
   ]
  },
  {
   "cell_type": "markdown",
   "metadata": {},
   "source": [
    "### 5.1 Split dataset"
   ]
  },
  {
   "cell_type": "code",
   "execution_count": 14,
   "metadata": {
    "ExecuteTime": {
     "end_time": "2021-04-11T14:41:34.019857Z",
     "start_time": "2021-04-11T14:41:33.491390Z"
    }
   },
   "outputs": [],
   "source": [
    "from sklearn.model_selection import train_test_split\n",
    "\n",
    "X_train, X_test, y_train, y_test = train_test_split(X_copy, y, test_size=0.25, random_state = 2, stratify = y)"
   ]
  },
  {
   "cell_type": "code",
   "execution_count": 15,
   "metadata": {
    "ExecuteTime": {
     "end_time": "2021-04-11T14:41:34.050807Z",
     "start_time": "2021-04-11T14:41:34.020860Z"
    }
   },
   "outputs": [
    {
     "data": {
      "text/html": [
       "<div>\n",
       "<style scoped>\n",
       "    .dataframe tbody tr th:only-of-type {\n",
       "        vertical-align: middle;\n",
       "    }\n",
       "\n",
       "    .dataframe tbody tr th {\n",
       "        vertical-align: top;\n",
       "    }\n",
       "\n",
       "    .dataframe thead th {\n",
       "        text-align: right;\n",
       "    }\n",
       "</style>\n",
       "<table border=\"1\" class=\"dataframe\">\n",
       "  <thead>\n",
       "    <tr style=\"text-align: right;\">\n",
       "      <th></th>\n",
       "      <th>APRSeverityOfIllnessCode</th>\n",
       "      <th>BirthWeight</th>\n",
       "      <th>AverageCostInCounty</th>\n",
       "      <th>AverageChargesInCounty</th>\n",
       "      <th>AverageCostInFacility</th>\n",
       "      <th>AverageChargesInFacility</th>\n",
       "      <th>AverageIncomeInZipCode</th>\n",
       "      <th>F</th>\n",
       "      <th>M</th>\n",
       "      <th>U</th>\n",
       "      <th>...</th>\n",
       "      <th>Federal/State/Local/VA</th>\n",
       "      <th>Managed Care, Unspecified</th>\n",
       "      <th>Medicaid</th>\n",
       "      <th>Medicare</th>\n",
       "      <th>Miscellaneous/Other</th>\n",
       "      <th>Private Health Insurance</th>\n",
       "      <th>Self-Pay</th>\n",
       "      <th>Unknown</th>\n",
       "      <th>N</th>\n",
       "      <th>Y</th>\n",
       "    </tr>\n",
       "  </thead>\n",
       "  <tbody>\n",
       "    <tr>\n",
       "      <th>30691</th>\n",
       "      <td>3</td>\n",
       "      <td>2600</td>\n",
       "      <td>3155</td>\n",
       "      <td>11381</td>\n",
       "      <td>2895</td>\n",
       "      <td>13394</td>\n",
       "      <td>45</td>\n",
       "      <td>1</td>\n",
       "      <td>0</td>\n",
       "      <td>0</td>\n",
       "      <td>...</td>\n",
       "      <td>0</td>\n",
       "      <td>0</td>\n",
       "      <td>1</td>\n",
       "      <td>0</td>\n",
       "      <td>0</td>\n",
       "      <td>0</td>\n",
       "      <td>0</td>\n",
       "      <td>0</td>\n",
       "      <td>1</td>\n",
       "      <td>0</td>\n",
       "    </tr>\n",
       "    <tr>\n",
       "      <th>50762</th>\n",
       "      <td>1</td>\n",
       "      <td>3900</td>\n",
       "      <td>2611</td>\n",
       "      <td>9227</td>\n",
       "      <td>3790</td>\n",
       "      <td>6250</td>\n",
       "      <td>45</td>\n",
       "      <td>1</td>\n",
       "      <td>0</td>\n",
       "      <td>0</td>\n",
       "      <td>...</td>\n",
       "      <td>0</td>\n",
       "      <td>0</td>\n",
       "      <td>1</td>\n",
       "      <td>0</td>\n",
       "      <td>0</td>\n",
       "      <td>0</td>\n",
       "      <td>0</td>\n",
       "      <td>0</td>\n",
       "      <td>1</td>\n",
       "      <td>0</td>\n",
       "    </tr>\n",
       "    <tr>\n",
       "      <th>29845</th>\n",
       "      <td>2</td>\n",
       "      <td>2700</td>\n",
       "      <td>1860</td>\n",
       "      <td>2846</td>\n",
       "      <td>1860</td>\n",
       "      <td>2846</td>\n",
       "      <td>53</td>\n",
       "      <td>1</td>\n",
       "      <td>0</td>\n",
       "      <td>0</td>\n",
       "      <td>...</td>\n",
       "      <td>0</td>\n",
       "      <td>0</td>\n",
       "      <td>0</td>\n",
       "      <td>0</td>\n",
       "      <td>0</td>\n",
       "      <td>0</td>\n",
       "      <td>0</td>\n",
       "      <td>0</td>\n",
       "      <td>1</td>\n",
       "      <td>0</td>\n",
       "    </tr>\n",
       "    <tr>\n",
       "      <th>21852</th>\n",
       "      <td>1</td>\n",
       "      <td>2600</td>\n",
       "      <td>2018</td>\n",
       "      <td>3610</td>\n",
       "      <td>2018</td>\n",
       "      <td>3610</td>\n",
       "      <td>52</td>\n",
       "      <td>0</td>\n",
       "      <td>1</td>\n",
       "      <td>0</td>\n",
       "      <td>...</td>\n",
       "      <td>0</td>\n",
       "      <td>0</td>\n",
       "      <td>0</td>\n",
       "      <td>0</td>\n",
       "      <td>0</td>\n",
       "      <td>0</td>\n",
       "      <td>0</td>\n",
       "      <td>0</td>\n",
       "      <td>1</td>\n",
       "      <td>0</td>\n",
       "    </tr>\n",
       "    <tr>\n",
       "      <th>8701</th>\n",
       "      <td>1</td>\n",
       "      <td>3400</td>\n",
       "      <td>2777</td>\n",
       "      <td>1587</td>\n",
       "      <td>2777</td>\n",
       "      <td>1587</td>\n",
       "      <td>54</td>\n",
       "      <td>0</td>\n",
       "      <td>1</td>\n",
       "      <td>0</td>\n",
       "      <td>...</td>\n",
       "      <td>0</td>\n",
       "      <td>0</td>\n",
       "      <td>1</td>\n",
       "      <td>0</td>\n",
       "      <td>0</td>\n",
       "      <td>0</td>\n",
       "      <td>0</td>\n",
       "      <td>0</td>\n",
       "      <td>1</td>\n",
       "      <td>0</td>\n",
       "    </tr>\n",
       "    <tr>\n",
       "      <th>...</th>\n",
       "      <td>...</td>\n",
       "      <td>...</td>\n",
       "      <td>...</td>\n",
       "      <td>...</td>\n",
       "      <td>...</td>\n",
       "      <td>...</td>\n",
       "      <td>...</td>\n",
       "      <td>...</td>\n",
       "      <td>...</td>\n",
       "      <td>...</td>\n",
       "      <td>...</td>\n",
       "      <td>...</td>\n",
       "      <td>...</td>\n",
       "      <td>...</td>\n",
       "      <td>...</td>\n",
       "      <td>...</td>\n",
       "      <td>...</td>\n",
       "      <td>...</td>\n",
       "      <td>...</td>\n",
       "      <td>...</td>\n",
       "      <td>...</td>\n",
       "    </tr>\n",
       "    <tr>\n",
       "      <th>11936</th>\n",
       "      <td>1</td>\n",
       "      <td>2600</td>\n",
       "      <td>3155</td>\n",
       "      <td>11381</td>\n",
       "      <td>3032</td>\n",
       "      <td>10135</td>\n",
       "      <td>115</td>\n",
       "      <td>1</td>\n",
       "      <td>0</td>\n",
       "      <td>0</td>\n",
       "      <td>...</td>\n",
       "      <td>0</td>\n",
       "      <td>0</td>\n",
       "      <td>0</td>\n",
       "      <td>0</td>\n",
       "      <td>0</td>\n",
       "      <td>1</td>\n",
       "      <td>0</td>\n",
       "      <td>0</td>\n",
       "      <td>1</td>\n",
       "      <td>0</td>\n",
       "    </tr>\n",
       "    <tr>\n",
       "      <th>34101</th>\n",
       "      <td>1</td>\n",
       "      <td>3500</td>\n",
       "      <td>1445</td>\n",
       "      <td>3419</td>\n",
       "      <td>1691</td>\n",
       "      <td>3761</td>\n",
       "      <td>36</td>\n",
       "      <td>0</td>\n",
       "      <td>1</td>\n",
       "      <td>0</td>\n",
       "      <td>...</td>\n",
       "      <td>0</td>\n",
       "      <td>0</td>\n",
       "      <td>1</td>\n",
       "      <td>0</td>\n",
       "      <td>0</td>\n",
       "      <td>0</td>\n",
       "      <td>0</td>\n",
       "      <td>0</td>\n",
       "      <td>1</td>\n",
       "      <td>0</td>\n",
       "    </tr>\n",
       "    <tr>\n",
       "      <th>11723</th>\n",
       "      <td>1</td>\n",
       "      <td>3600</td>\n",
       "      <td>1826</td>\n",
       "      <td>4190</td>\n",
       "      <td>1459</td>\n",
       "      <td>3505</td>\n",
       "      <td>55</td>\n",
       "      <td>0</td>\n",
       "      <td>1</td>\n",
       "      <td>0</td>\n",
       "      <td>...</td>\n",
       "      <td>0</td>\n",
       "      <td>0</td>\n",
       "      <td>1</td>\n",
       "      <td>0</td>\n",
       "      <td>0</td>\n",
       "      <td>0</td>\n",
       "      <td>0</td>\n",
       "      <td>0</td>\n",
       "      <td>1</td>\n",
       "      <td>0</td>\n",
       "    </tr>\n",
       "    <tr>\n",
       "      <th>1274</th>\n",
       "      <td>1</td>\n",
       "      <td>3000</td>\n",
       "      <td>3155</td>\n",
       "      <td>11381</td>\n",
       "      <td>3032</td>\n",
       "      <td>10135</td>\n",
       "      <td>84</td>\n",
       "      <td>0</td>\n",
       "      <td>1</td>\n",
       "      <td>0</td>\n",
       "      <td>...</td>\n",
       "      <td>0</td>\n",
       "      <td>0</td>\n",
       "      <td>0</td>\n",
       "      <td>0</td>\n",
       "      <td>0</td>\n",
       "      <td>0</td>\n",
       "      <td>0</td>\n",
       "      <td>0</td>\n",
       "      <td>1</td>\n",
       "      <td>0</td>\n",
       "    </tr>\n",
       "    <tr>\n",
       "      <th>43632</th>\n",
       "      <td>2</td>\n",
       "      <td>4000</td>\n",
       "      <td>2041</td>\n",
       "      <td>9917</td>\n",
       "      <td>1605</td>\n",
       "      <td>12083</td>\n",
       "      <td>59</td>\n",
       "      <td>0</td>\n",
       "      <td>1</td>\n",
       "      <td>0</td>\n",
       "      <td>...</td>\n",
       "      <td>0</td>\n",
       "      <td>0</td>\n",
       "      <td>1</td>\n",
       "      <td>0</td>\n",
       "      <td>0</td>\n",
       "      <td>0</td>\n",
       "      <td>0</td>\n",
       "      <td>0</td>\n",
       "      <td>1</td>\n",
       "      <td>0</td>\n",
       "    </tr>\n",
       "  </tbody>\n",
       "</table>\n",
       "<p>44974 rows × 36 columns</p>\n",
       "</div>"
      ],
      "text/plain": [
       "       APRSeverityOfIllnessCode  BirthWeight  AverageCostInCounty  \\\n",
       "30691                         3         2600                 3155   \n",
       "50762                         1         3900                 2611   \n",
       "29845                         2         2700                 1860   \n",
       "21852                         1         2600                 2018   \n",
       "8701                          1         3400                 2777   \n",
       "...                         ...          ...                  ...   \n",
       "11936                         1         2600                 3155   \n",
       "34101                         1         3500                 1445   \n",
       "11723                         1         3600                 1826   \n",
       "1274                          1         3000                 3155   \n",
       "43632                         2         4000                 2041   \n",
       "\n",
       "       AverageChargesInCounty  AverageCostInFacility  \\\n",
       "30691                   11381                   2895   \n",
       "50762                    9227                   3790   \n",
       "29845                    2846                   1860   \n",
       "21852                    3610                   2018   \n",
       "8701                     1587                   2777   \n",
       "...                       ...                    ...   \n",
       "11936                   11381                   3032   \n",
       "34101                    3419                   1691   \n",
       "11723                    4190                   1459   \n",
       "1274                    11381                   3032   \n",
       "43632                    9917                   1605   \n",
       "\n",
       "       AverageChargesInFacility  AverageIncomeInZipCode  F  M  U  ...  \\\n",
       "30691                     13394                      45  1  0  0  ...   \n",
       "50762                      6250                      45  1  0  0  ...   \n",
       "29845                      2846                      53  1  0  0  ...   \n",
       "21852                      3610                      52  0  1  0  ...   \n",
       "8701                       1587                      54  0  1  0  ...   \n",
       "...                         ...                     ... .. .. ..  ...   \n",
       "11936                     10135                     115  1  0  0  ...   \n",
       "34101                      3761                      36  0  1  0  ...   \n",
       "11723                      3505                      55  0  1  0  ...   \n",
       "1274                      10135                      84  0  1  0  ...   \n",
       "43632                     12083                      59  0  1  0  ...   \n",
       "\n",
       "       Federal/State/Local/VA  Managed Care, Unspecified  Medicaid  Medicare  \\\n",
       "30691                       0                          0         1         0   \n",
       "50762                       0                          0         1         0   \n",
       "29845                       0                          0         0         0   \n",
       "21852                       0                          0         0         0   \n",
       "8701                        0                          0         1         0   \n",
       "...                       ...                        ...       ...       ...   \n",
       "11936                       0                          0         0         0   \n",
       "34101                       0                          0         1         0   \n",
       "11723                       0                          0         1         0   \n",
       "1274                        0                          0         0         0   \n",
       "43632                       0                          0         1         0   \n",
       "\n",
       "       Miscellaneous/Other  Private Health Insurance  Self-Pay  Unknown  N  Y  \n",
       "30691                    0                         0         0        0  1  0  \n",
       "50762                    0                         0         0        0  1  0  \n",
       "29845                    0                         0         0        0  1  0  \n",
       "21852                    0                         0         0        0  1  0  \n",
       "8701                     0                         0         0        0  1  0  \n",
       "...                    ...                       ...       ...      ... .. ..  \n",
       "11936                    0                         1         0        0  1  0  \n",
       "34101                    0                         0         0        0  1  0  \n",
       "11723                    0                         0         0        0  1  0  \n",
       "1274                     0                         0         0        0  1  0  \n",
       "43632                    0                         0         0        0  1  0  \n",
       "\n",
       "[44974 rows x 36 columns]"
      ]
     },
     "execution_count": 15,
     "metadata": {},
     "output_type": "execute_result"
    }
   ],
   "source": [
    "X_train"
   ]
  },
  {
   "cell_type": "markdown",
   "metadata": {},
   "source": [
    "### 5.2 Reset index"
   ]
  },
  {
   "cell_type": "code",
   "execution_count": 16,
   "metadata": {
    "ExecuteTime": {
     "end_time": "2021-04-11T14:41:34.080699Z",
     "start_time": "2021-04-11T14:41:34.051777Z"
    }
   },
   "outputs": [],
   "source": [
    "def df_reset_index(x):\n",
    "    return x.reset_index().drop('index', axis = 1)\n",
    "\n",
    "X_train = df_reset_index(X_train)\n",
    "X_test = df_reset_index(X_test)\n",
    "y_train = df_reset_index(y_train)\n",
    "y_test = df_reset_index(y_test)"
   ]
  },
  {
   "cell_type": "code",
   "execution_count": 17,
   "metadata": {
    "ExecuteTime": {
     "end_time": "2021-04-11T14:41:34.111644Z",
     "start_time": "2021-04-11T14:41:34.082693Z"
    }
   },
   "outputs": [
    {
     "data": {
      "text/html": [
       "<div>\n",
       "<style scoped>\n",
       "    .dataframe tbody tr th:only-of-type {\n",
       "        vertical-align: middle;\n",
       "    }\n",
       "\n",
       "    .dataframe tbody tr th {\n",
       "        vertical-align: top;\n",
       "    }\n",
       "\n",
       "    .dataframe thead th {\n",
       "        text-align: right;\n",
       "    }\n",
       "</style>\n",
       "<table border=\"1\" class=\"dataframe\">\n",
       "  <thead>\n",
       "    <tr style=\"text-align: right;\">\n",
       "      <th></th>\n",
       "      <th>APRSeverityOfIllnessCode</th>\n",
       "      <th>BirthWeight</th>\n",
       "      <th>AverageCostInCounty</th>\n",
       "      <th>AverageChargesInCounty</th>\n",
       "      <th>AverageCostInFacility</th>\n",
       "      <th>AverageChargesInFacility</th>\n",
       "      <th>AverageIncomeInZipCode</th>\n",
       "      <th>F</th>\n",
       "      <th>M</th>\n",
       "      <th>U</th>\n",
       "      <th>...</th>\n",
       "      <th>Federal/State/Local/VA</th>\n",
       "      <th>Managed Care, Unspecified</th>\n",
       "      <th>Medicaid</th>\n",
       "      <th>Medicare</th>\n",
       "      <th>Miscellaneous/Other</th>\n",
       "      <th>Private Health Insurance</th>\n",
       "      <th>Self-Pay</th>\n",
       "      <th>Unknown</th>\n",
       "      <th>N</th>\n",
       "      <th>Y</th>\n",
       "    </tr>\n",
       "  </thead>\n",
       "  <tbody>\n",
       "    <tr>\n",
       "      <th>0</th>\n",
       "      <td>3</td>\n",
       "      <td>2600</td>\n",
       "      <td>3155</td>\n",
       "      <td>11381</td>\n",
       "      <td>2895</td>\n",
       "      <td>13394</td>\n",
       "      <td>45</td>\n",
       "      <td>1</td>\n",
       "      <td>0</td>\n",
       "      <td>0</td>\n",
       "      <td>...</td>\n",
       "      <td>0</td>\n",
       "      <td>0</td>\n",
       "      <td>1</td>\n",
       "      <td>0</td>\n",
       "      <td>0</td>\n",
       "      <td>0</td>\n",
       "      <td>0</td>\n",
       "      <td>0</td>\n",
       "      <td>1</td>\n",
       "      <td>0</td>\n",
       "    </tr>\n",
       "    <tr>\n",
       "      <th>1</th>\n",
       "      <td>1</td>\n",
       "      <td>3900</td>\n",
       "      <td>2611</td>\n",
       "      <td>9227</td>\n",
       "      <td>3790</td>\n",
       "      <td>6250</td>\n",
       "      <td>45</td>\n",
       "      <td>1</td>\n",
       "      <td>0</td>\n",
       "      <td>0</td>\n",
       "      <td>...</td>\n",
       "      <td>0</td>\n",
       "      <td>0</td>\n",
       "      <td>1</td>\n",
       "      <td>0</td>\n",
       "      <td>0</td>\n",
       "      <td>0</td>\n",
       "      <td>0</td>\n",
       "      <td>0</td>\n",
       "      <td>1</td>\n",
       "      <td>0</td>\n",
       "    </tr>\n",
       "    <tr>\n",
       "      <th>2</th>\n",
       "      <td>2</td>\n",
       "      <td>2700</td>\n",
       "      <td>1860</td>\n",
       "      <td>2846</td>\n",
       "      <td>1860</td>\n",
       "      <td>2846</td>\n",
       "      <td>53</td>\n",
       "      <td>1</td>\n",
       "      <td>0</td>\n",
       "      <td>0</td>\n",
       "      <td>...</td>\n",
       "      <td>0</td>\n",
       "      <td>0</td>\n",
       "      <td>0</td>\n",
       "      <td>0</td>\n",
       "      <td>0</td>\n",
       "      <td>0</td>\n",
       "      <td>0</td>\n",
       "      <td>0</td>\n",
       "      <td>1</td>\n",
       "      <td>0</td>\n",
       "    </tr>\n",
       "    <tr>\n",
       "      <th>3</th>\n",
       "      <td>1</td>\n",
       "      <td>2600</td>\n",
       "      <td>2018</td>\n",
       "      <td>3610</td>\n",
       "      <td>2018</td>\n",
       "      <td>3610</td>\n",
       "      <td>52</td>\n",
       "      <td>0</td>\n",
       "      <td>1</td>\n",
       "      <td>0</td>\n",
       "      <td>...</td>\n",
       "      <td>0</td>\n",
       "      <td>0</td>\n",
       "      <td>0</td>\n",
       "      <td>0</td>\n",
       "      <td>0</td>\n",
       "      <td>0</td>\n",
       "      <td>0</td>\n",
       "      <td>0</td>\n",
       "      <td>1</td>\n",
       "      <td>0</td>\n",
       "    </tr>\n",
       "    <tr>\n",
       "      <th>4</th>\n",
       "      <td>1</td>\n",
       "      <td>3400</td>\n",
       "      <td>2777</td>\n",
       "      <td>1587</td>\n",
       "      <td>2777</td>\n",
       "      <td>1587</td>\n",
       "      <td>54</td>\n",
       "      <td>0</td>\n",
       "      <td>1</td>\n",
       "      <td>0</td>\n",
       "      <td>...</td>\n",
       "      <td>0</td>\n",
       "      <td>0</td>\n",
       "      <td>1</td>\n",
       "      <td>0</td>\n",
       "      <td>0</td>\n",
       "      <td>0</td>\n",
       "      <td>0</td>\n",
       "      <td>0</td>\n",
       "      <td>1</td>\n",
       "      <td>0</td>\n",
       "    </tr>\n",
       "    <tr>\n",
       "      <th>...</th>\n",
       "      <td>...</td>\n",
       "      <td>...</td>\n",
       "      <td>...</td>\n",
       "      <td>...</td>\n",
       "      <td>...</td>\n",
       "      <td>...</td>\n",
       "      <td>...</td>\n",
       "      <td>...</td>\n",
       "      <td>...</td>\n",
       "      <td>...</td>\n",
       "      <td>...</td>\n",
       "      <td>...</td>\n",
       "      <td>...</td>\n",
       "      <td>...</td>\n",
       "      <td>...</td>\n",
       "      <td>...</td>\n",
       "      <td>...</td>\n",
       "      <td>...</td>\n",
       "      <td>...</td>\n",
       "      <td>...</td>\n",
       "      <td>...</td>\n",
       "    </tr>\n",
       "    <tr>\n",
       "      <th>44969</th>\n",
       "      <td>1</td>\n",
       "      <td>2600</td>\n",
       "      <td>3155</td>\n",
       "      <td>11381</td>\n",
       "      <td>3032</td>\n",
       "      <td>10135</td>\n",
       "      <td>115</td>\n",
       "      <td>1</td>\n",
       "      <td>0</td>\n",
       "      <td>0</td>\n",
       "      <td>...</td>\n",
       "      <td>0</td>\n",
       "      <td>0</td>\n",
       "      <td>0</td>\n",
       "      <td>0</td>\n",
       "      <td>0</td>\n",
       "      <td>1</td>\n",
       "      <td>0</td>\n",
       "      <td>0</td>\n",
       "      <td>1</td>\n",
       "      <td>0</td>\n",
       "    </tr>\n",
       "    <tr>\n",
       "      <th>44970</th>\n",
       "      <td>1</td>\n",
       "      <td>3500</td>\n",
       "      <td>1445</td>\n",
       "      <td>3419</td>\n",
       "      <td>1691</td>\n",
       "      <td>3761</td>\n",
       "      <td>36</td>\n",
       "      <td>0</td>\n",
       "      <td>1</td>\n",
       "      <td>0</td>\n",
       "      <td>...</td>\n",
       "      <td>0</td>\n",
       "      <td>0</td>\n",
       "      <td>1</td>\n",
       "      <td>0</td>\n",
       "      <td>0</td>\n",
       "      <td>0</td>\n",
       "      <td>0</td>\n",
       "      <td>0</td>\n",
       "      <td>1</td>\n",
       "      <td>0</td>\n",
       "    </tr>\n",
       "    <tr>\n",
       "      <th>44971</th>\n",
       "      <td>1</td>\n",
       "      <td>3600</td>\n",
       "      <td>1826</td>\n",
       "      <td>4190</td>\n",
       "      <td>1459</td>\n",
       "      <td>3505</td>\n",
       "      <td>55</td>\n",
       "      <td>0</td>\n",
       "      <td>1</td>\n",
       "      <td>0</td>\n",
       "      <td>...</td>\n",
       "      <td>0</td>\n",
       "      <td>0</td>\n",
       "      <td>1</td>\n",
       "      <td>0</td>\n",
       "      <td>0</td>\n",
       "      <td>0</td>\n",
       "      <td>0</td>\n",
       "      <td>0</td>\n",
       "      <td>1</td>\n",
       "      <td>0</td>\n",
       "    </tr>\n",
       "    <tr>\n",
       "      <th>44972</th>\n",
       "      <td>1</td>\n",
       "      <td>3000</td>\n",
       "      <td>3155</td>\n",
       "      <td>11381</td>\n",
       "      <td>3032</td>\n",
       "      <td>10135</td>\n",
       "      <td>84</td>\n",
       "      <td>0</td>\n",
       "      <td>1</td>\n",
       "      <td>0</td>\n",
       "      <td>...</td>\n",
       "      <td>0</td>\n",
       "      <td>0</td>\n",
       "      <td>0</td>\n",
       "      <td>0</td>\n",
       "      <td>0</td>\n",
       "      <td>0</td>\n",
       "      <td>0</td>\n",
       "      <td>0</td>\n",
       "      <td>1</td>\n",
       "      <td>0</td>\n",
       "    </tr>\n",
       "    <tr>\n",
       "      <th>44973</th>\n",
       "      <td>2</td>\n",
       "      <td>4000</td>\n",
       "      <td>2041</td>\n",
       "      <td>9917</td>\n",
       "      <td>1605</td>\n",
       "      <td>12083</td>\n",
       "      <td>59</td>\n",
       "      <td>0</td>\n",
       "      <td>1</td>\n",
       "      <td>0</td>\n",
       "      <td>...</td>\n",
       "      <td>0</td>\n",
       "      <td>0</td>\n",
       "      <td>1</td>\n",
       "      <td>0</td>\n",
       "      <td>0</td>\n",
       "      <td>0</td>\n",
       "      <td>0</td>\n",
       "      <td>0</td>\n",
       "      <td>1</td>\n",
       "      <td>0</td>\n",
       "    </tr>\n",
       "  </tbody>\n",
       "</table>\n",
       "<p>44974 rows × 36 columns</p>\n",
       "</div>"
      ],
      "text/plain": [
       "       APRSeverityOfIllnessCode  BirthWeight  AverageCostInCounty  \\\n",
       "0                             3         2600                 3155   \n",
       "1                             1         3900                 2611   \n",
       "2                             2         2700                 1860   \n",
       "3                             1         2600                 2018   \n",
       "4                             1         3400                 2777   \n",
       "...                         ...          ...                  ...   \n",
       "44969                         1         2600                 3155   \n",
       "44970                         1         3500                 1445   \n",
       "44971                         1         3600                 1826   \n",
       "44972                         1         3000                 3155   \n",
       "44973                         2         4000                 2041   \n",
       "\n",
       "       AverageChargesInCounty  AverageCostInFacility  \\\n",
       "0                       11381                   2895   \n",
       "1                        9227                   3790   \n",
       "2                        2846                   1860   \n",
       "3                        3610                   2018   \n",
       "4                        1587                   2777   \n",
       "...                       ...                    ...   \n",
       "44969                   11381                   3032   \n",
       "44970                    3419                   1691   \n",
       "44971                    4190                   1459   \n",
       "44972                   11381                   3032   \n",
       "44973                    9917                   1605   \n",
       "\n",
       "       AverageChargesInFacility  AverageIncomeInZipCode  F  M  U  ...  \\\n",
       "0                         13394                      45  1  0  0  ...   \n",
       "1                          6250                      45  1  0  0  ...   \n",
       "2                          2846                      53  1  0  0  ...   \n",
       "3                          3610                      52  0  1  0  ...   \n",
       "4                          1587                      54  0  1  0  ...   \n",
       "...                         ...                     ... .. .. ..  ...   \n",
       "44969                     10135                     115  1  0  0  ...   \n",
       "44970                      3761                      36  0  1  0  ...   \n",
       "44971                      3505                      55  0  1  0  ...   \n",
       "44972                     10135                      84  0  1  0  ...   \n",
       "44973                     12083                      59  0  1  0  ...   \n",
       "\n",
       "       Federal/State/Local/VA  Managed Care, Unspecified  Medicaid  Medicare  \\\n",
       "0                           0                          0         1         0   \n",
       "1                           0                          0         1         0   \n",
       "2                           0                          0         0         0   \n",
       "3                           0                          0         0         0   \n",
       "4                           0                          0         1         0   \n",
       "...                       ...                        ...       ...       ...   \n",
       "44969                       0                          0         0         0   \n",
       "44970                       0                          0         1         0   \n",
       "44971                       0                          0         1         0   \n",
       "44972                       0                          0         0         0   \n",
       "44973                       0                          0         1         0   \n",
       "\n",
       "       Miscellaneous/Other  Private Health Insurance  Self-Pay  Unknown  N  Y  \n",
       "0                        0                         0         0        0  1  0  \n",
       "1                        0                         0         0        0  1  0  \n",
       "2                        0                         0         0        0  1  0  \n",
       "3                        0                         0         0        0  1  0  \n",
       "4                        0                         0         0        0  1  0  \n",
       "...                    ...                       ...       ...      ... .. ..  \n",
       "44969                    0                         1         0        0  1  0  \n",
       "44970                    0                         0         0        0  1  0  \n",
       "44971                    0                         0         0        0  1  0  \n",
       "44972                    0                         0         0        0  1  0  \n",
       "44973                    0                         0         0        0  1  0  \n",
       "\n",
       "[44974 rows x 36 columns]"
      ]
     },
     "execution_count": 17,
     "metadata": {},
     "output_type": "execute_result"
    }
   ],
   "source": [
    "X_train"
   ]
  },
  {
   "cell_type": "markdown",
   "metadata": {},
   "source": [
    "## 6. Scale data"
   ]
  },
  {
   "cell_type": "markdown",
   "metadata": {},
   "source": [
    "### 6.1 StandardScaler"
   ]
  },
  {
   "cell_type": "code",
   "execution_count": 18,
   "metadata": {
    "ExecuteTime": {
     "end_time": "2021-04-11T14:41:34.189546Z",
     "start_time": "2021-04-11T14:41:34.113633Z"
    }
   },
   "outputs": [],
   "source": [
    "from sklearn.preprocessing import StandardScaler\n",
    "\n",
    "scaler = StandardScaler()\n",
    "scaler.fit(X_train)\n",
    "\n",
    "X_train_transform = scaler.transform(X_train)\n",
    "X_test_transform = scaler.transform(X_test)\n",
    "y_train_ravel = y_train.values.ravel()"
   ]
  },
  {
   "cell_type": "markdown",
   "metadata": {},
   "source": [
    "## 7. Logistic Regression"
   ]
  },
  {
   "cell_type": "code",
   "execution_count": 44,
   "metadata": {
    "ExecuteTime": {
     "end_time": "2021-04-11T14:55:54.531473Z",
     "start_time": "2021-04-11T14:55:54.524495Z"
    }
   },
   "outputs": [],
   "source": [
    "from sklearn.linear_model import LogisticRegression\n",
    "from sklearn.model_selection import GridSearchCV\n",
    "from sklearn import metrics "
   ]
  },
  {
   "cell_type": "markdown",
   "metadata": {},
   "source": [
    "### 7.1. Train model without optimization"
   ]
  },
  {
   "cell_type": "code",
   "execution_count": 64,
   "metadata": {
    "ExecuteTime": {
     "end_time": "2021-04-11T15:20:23.279927Z",
     "start_time": "2021-04-11T15:20:22.868029Z"
    }
   },
   "outputs": [
    {
     "data": {
      "text/plain": [
       "LogisticRegression(C=1, solver='liblinear')"
      ]
     },
     "execution_count": 64,
     "metadata": {},
     "output_type": "execute_result"
    }
   ],
   "source": [
    "logistic = LogisticRegression()\n",
    "logistic.fit(X_train_transform, y_train_ravel)"
   ]
  },
  {
   "cell_type": "markdown",
   "metadata": {},
   "source": [
    "### 7.2. Classification report"
   ]
  },
  {
   "cell_type": "code",
   "execution_count": 66,
   "metadata": {
    "ExecuteTime": {
     "end_time": "2021-04-11T15:20:33.642683Z",
     "start_time": "2021-04-11T15:20:33.600769Z"
    }
   },
   "outputs": [
    {
     "name": "stdout",
     "output_type": "stream",
     "text": [
      "Logistic Regression\n",
      "Accuracy: 84.17%\n",
      "              precision    recall  f1-score   support\n",
      "\n",
      "           0       0.85      0.98      0.91     12474\n",
      "           1       0.61      0.15      0.25      2518\n",
      "\n",
      "    accuracy                           0.84     14992\n",
      "   macro avg       0.73      0.57      0.58     14992\n",
      "weighted avg       0.81      0.84      0.80     14992\n",
      "\n"
     ]
    }
   ],
   "source": [
    "y_pred_logistic = logistic.predict(X_test_transform)\n",
    "\n",
    "print('Logistic Regression')\n",
    "print('Accuracy: {facc}%'.format(facc=round(metrics.accuracy_score(y_test, y_pred_logistic) * 100, 2)))\n",
    "print(metrics.classification_report(y_test, y_pred_logistic))"
   ]
  },
  {
   "cell_type": "markdown",
   "metadata": {},
   "source": [
    "### 7.3. Hyper-parameter tunning"
   ]
  },
  {
   "cell_type": "markdown",
   "metadata": {},
   "source": [
    "#### 7.3.1. Global hyper-paremeter tunning"
   ]
  },
  {
   "cell_type": "code",
   "execution_count": 71,
   "metadata": {
    "ExecuteTime": {
     "end_time": "2021-04-11T15:39:55.390859Z",
     "start_time": "2021-04-11T15:39:55.373874Z"
    }
   },
   "outputs": [],
   "source": [
    "# Global hyper-parameter tunning function\n",
    "def hyper_parameter_tunning(X_train, y_train, model, param_tuning):\n",
    "    gsearch = GridSearchCV(estimator = model,\n",
    "                           param_grid = param_tuning,                        \n",
    "                           scoring = metrics.make_scorer(metrics.f1_score),  \n",
    "                           cv = 5,\n",
    "                           n_jobs = -1,\n",
    "                           verbose = 1)\n",
    "\n",
    "    gsearch.fit(X_train,y_train)\n",
    "\n",
    "    return gsearch.best_params_"
   ]
  },
  {
   "cell_type": "markdown",
   "metadata": {},
   "source": [
    "#### 7.3.2 Find best parameters for optimization"
   ]
  },
  {
   "cell_type": "code",
   "execution_count": 72,
   "metadata": {
    "ExecuteTime": {
     "end_time": "2021-04-11T15:46:12.104091Z",
     "start_time": "2021-04-11T15:39:57.022599Z"
    }
   },
   "outputs": [
    {
     "name": "stdout",
     "output_type": "stream",
     "text": [
      "Fitting 5 folds for each of 252 candidates, totalling 1260 fits\n"
     ]
    },
    {
     "name": "stderr",
     "output_type": "stream",
     "text": [
      "C:\\Users\\Dell\\anaconda3\\lib\\site-packages\\sklearn\\model_selection\\_search.py:918: UserWarning: One or more of the test scores are non-finite: [0.0005291  0.                nan 0.21660018 0.17550021 0.17550021\n",
      "        nan        nan        nan 0.0005291  0.                nan\n",
      " 0.21660018 0.17550021 0.17550021        nan        nan        nan\n",
      " 0.0005291  0.                nan 0.21660018 0.17550021 0.17550021\n",
      "        nan        nan        nan 0.0005291  0.                nan\n",
      " 0.21660018 0.17550021 0.17550021        nan        nan        nan\n",
      " 0.20472049 0.20128869        nan 0.21962075 0.21539374 0.21496474\n",
      "        nan        nan        nan 0.20472049 0.20109202        nan\n",
      " 0.21962075 0.2151788  0.21496474        nan        nan        nan\n",
      " 0.20472049 0.20109202        nan 0.21962075 0.2151788  0.21496474\n",
      "        nan        nan        nan 0.20472049 0.20109202        nan\n",
      " 0.21962075 0.2151788  0.21496474        nan        nan        nan\n",
      " 0.21741868 0.21729912        nan 0.21987013 0.21915676 0.21918143\n",
      "        nan        nan        nan 0.21741868 0.21725134        nan\n",
      " 0.21987013 0.21918143 0.21918143        nan        nan        nan\n",
      " 0.21741868 0.21746232        nan 0.21987013 0.21918143 0.21918143\n",
      "        nan        nan        nan 0.21741868 0.21746232        nan\n",
      " 0.21987013 0.21918143 0.21918143        nan        nan        nan\n",
      " 0.21985278 0.21949493        nan 0.22025301 0.22001525 0.22025301\n",
      "        nan        nan        nan 0.21985278 0.21987327        nan\n",
      " 0.22025301 0.22025301 0.22025301        nan        nan        nan\n",
      " 0.21985278 0.21987327        nan 0.22025301 0.22025301 0.22025301\n",
      "        nan        nan        nan 0.21985278 0.21987327        nan\n",
      " 0.22025301 0.22025301 0.22025301        nan        nan        nan\n",
      " 0.22006435 0.22001525        nan 0.22006435 0.22001525 0.22023252\n",
      "        nan        nan        nan 0.22006435 0.22006435        nan\n",
      " 0.22006435 0.22025301 0.22023252        nan        nan        nan\n",
      " 0.22006435 0.22006435        nan 0.22006435 0.22025301 0.22023252\n",
      "        nan        nan        nan 0.22006435 0.22006435        nan\n",
      " 0.22006435 0.22025301 0.22023252        nan        nan        nan\n",
      " 0.22006435 0.22001525        nan 0.22006435 0.22001525 0.22023252\n",
      "        nan        nan        nan 0.22006435 0.22025301        nan\n",
      " 0.22006435 0.22025301 0.22023252        nan        nan        nan\n",
      " 0.22004386 0.22025301        nan 0.22006435 0.22025301 0.22023252\n",
      "        nan        nan        nan 0.22004386 0.22025301        nan\n",
      " 0.22006435 0.22025301 0.22023252        nan        nan        nan\n",
      " 0.22025301 0.22001525        nan 0.22006435 0.22001525 0.22023252\n",
      "        nan        nan        nan 0.22006435 0.22025301        nan\n",
      " 0.22006435 0.22025301 0.22023252        nan        nan        nan\n",
      " 0.22004386 0.22025301        nan 0.22006435 0.22025301 0.22023252\n",
      "        nan        nan        nan 0.22004386 0.22025301        nan\n",
      " 0.22006435 0.22025301 0.22023252        nan        nan        nan]\n",
      "  warnings.warn(\n"
     ]
    },
    {
     "data": {
      "text/plain": [
       "{'C': 1, 'max_iter': 100, 'penalty': 'l2', 'solver': 'liblinear'}"
      ]
     },
     "execution_count": 72,
     "metadata": {},
     "output_type": "execute_result"
    }
   ],
   "source": [
    "# Only run once for best parameters\n",
    "log__reg_params = {'penalty': ['l1', 'l2', 'elasticnet'], \n",
    "               'C': [0.001,0.01,0.1,1,10,100,1000],\n",
    "                'max_iter': [100,250,500,1000],\n",
    "               'solver': ['liblinear', 'saga','lbfgs']}\n",
    "\n",
    "log_reg_model = LogisticRegression()\n",
    "\n",
    "hyper_parameter_tunning(X_train_transform, y_train_ravel,log_reg_model, log__reg_params)"
   ]
  },
  {
   "cell_type": "markdown",
   "metadata": {},
   "source": [
    "#### 7.3.3. Train model with best parameters"
   ]
  },
  {
   "cell_type": "code",
   "execution_count": null,
   "metadata": {},
   "outputs": [],
   "source": [
    "logistic_op = LogisticRegression(C= 1, max_iter= 100, penalty= 'l2', solver= 'liblinear')\n",
    "logistic_op.fit(X_train_transform, y_train_ravel)"
   ]
  },
  {
   "cell_type": "markdown",
   "metadata": {},
   "source": [
    "#### 7.3.4. Classification report with optimization"
   ]
  },
  {
   "cell_type": "code",
   "execution_count": null,
   "metadata": {},
   "outputs": [],
   "source": [
    "y_pred_logistic_op = logistic_op.predict(X_test_transform)\n",
    "\n",
    "print('Logistic Regression')\n",
    "print('Accuracy: {facc}%'.format(facc=round(metrics.accuracy_score(y_test, y_pred_logistic_op) * 100, 2)))\n",
    "print(metrics.classification_report(y_test, y_pred_logistic_op))"
   ]
  },
  {
   "cell_type": "markdown",
   "metadata": {},
   "source": [
    "## 8. Naive Bayes"
   ]
  },
  {
   "cell_type": "code",
   "execution_count": 21,
   "metadata": {
    "ExecuteTime": {
     "end_time": "2021-04-11T14:41:34.485730Z",
     "start_time": "2021-04-11T14:41:34.426598Z"
    }
   },
   "outputs": [
    {
     "data": {
      "text/plain": [
       "GaussianNB()"
      ]
     },
     "execution_count": 21,
     "metadata": {},
     "output_type": "execute_result"
    }
   ],
   "source": [
    "from sklearn.naive_bayes import GaussianNB\n",
    "\n",
    "gnb = GaussianNB()\n",
    "gnb.fit(X_train, y_train_ravel)"
   ]
  },
  {
   "cell_type": "code",
   "execution_count": 22,
   "metadata": {
    "ExecuteTime": {
     "end_time": "2021-04-11T14:41:34.531643Z",
     "start_time": "2021-04-11T14:41:34.487758Z"
    }
   },
   "outputs": [
    {
     "name": "stdout",
     "output_type": "stream",
     "text": [
      "Naive Bayes\n",
      "Accuracy: 82.28%\n",
      "              precision    recall  f1-score   support\n",
      "\n",
      "           0       0.87      0.92      0.90     12474\n",
      "           1       0.46      0.33      0.39      2518\n",
      "\n",
      "    accuracy                           0.82     14992\n",
      "   macro avg       0.67      0.63      0.64     14992\n",
      "weighted avg       0.80      0.82      0.81     14992\n",
      "\n"
     ]
    }
   ],
   "source": [
    "y_pred_naive = gnb.predict(X_test)\n",
    "\n",
    "print('Naive Bayes')\n",
    "print('Accuracy: {facc}%'.format(facc=round(metrics.accuracy_score(y_test, y_pred_naive) * 100, 2)))\n",
    "print(metrics.classification_report(y_test, y_pred_naive))"
   ]
  },
  {
   "cell_type": "markdown",
   "metadata": {},
   "source": [
    "## 9. Decision Tree"
   ]
  },
  {
   "cell_type": "code",
   "execution_count": 23,
   "metadata": {
    "ExecuteTime": {
     "end_time": "2021-04-11T14:41:34.921856Z",
     "start_time": "2021-04-11T14:41:34.533608Z"
    }
   },
   "outputs": [
    {
     "data": {
      "text/plain": [
       "DecisionTreeClassifier(criterion='entropy')"
      ]
     },
     "execution_count": 23,
     "metadata": {},
     "output_type": "execute_result"
    }
   ],
   "source": [
    "from sklearn.tree import DecisionTreeClassifier, plot_tree\n",
    "\n",
    "clf = DecisionTreeClassifier(criterion='entropy', max_depth=None)\n",
    "clf.fit(X_train, y_train)"
   ]
  },
  {
   "cell_type": "code",
   "execution_count": 24,
   "metadata": {
    "ExecuteTime": {
     "end_time": "2021-04-11T14:41:34.966728Z",
     "start_time": "2021-04-11T14:41:34.923813Z"
    }
   },
   "outputs": [
    {
     "name": "stdout",
     "output_type": "stream",
     "text": [
      "Decision Tree\n",
      "Accuracy: 78.86%\n",
      "              precision    recall  f1-score   support\n",
      "\n",
      "           0       0.86      0.89      0.87     12474\n",
      "           1       0.35      0.29      0.32      2518\n",
      "\n",
      "    accuracy                           0.79     14992\n",
      "   macro avg       0.60      0.59      0.60     14992\n",
      "weighted avg       0.78      0.79      0.78     14992\n",
      "\n"
     ]
    }
   ],
   "source": [
    "y_pred_tree = clf.predict(X_test)\n",
    "\n",
    "print('Decision Tree')\n",
    "print('Accuracy: {facc}%'.format(facc=round(metrics.accuracy_score(y_test, y_pred_tree) * 100, 2)))\n",
    "print(metrics.classification_report(y_test, y_pred_tree))"
   ]
  },
  {
   "cell_type": "markdown",
   "metadata": {},
   "source": [
    "## 10. Random Forest"
   ]
  },
  {
   "cell_type": "code",
   "execution_count": 25,
   "metadata": {
    "ExecuteTime": {
     "end_time": "2021-04-11T14:41:35.315309Z",
     "start_time": "2021-04-11T14:41:34.967695Z"
    },
    "scrolled": true
   },
   "outputs": [
    {
     "data": {
      "text/plain": [
       "DecisionTreeClassifier(criterion='entropy')"
      ]
     },
     "execution_count": 25,
     "metadata": {},
     "output_type": "execute_result"
    }
   ],
   "source": [
    "from sklearn.ensemble import RandomForestClassifier"
   ]
  },
  {
   "cell_type": "markdown",
   "metadata": {},
   "source": [
    "### 10.1. Hyper-parameter tunning"
   ]
  },
  {
   "cell_type": "code",
   "execution_count": null,
   "metadata": {
    "ExecuteTime": {
     "start_time": "2021-04-11T15:55:40.544Z"
    }
   },
   "outputs": [
    {
     "name": "stdout",
     "output_type": "stream",
     "text": [
      "Fitting 5 folds for each of 2000 candidates, totalling 10000 fits\n"
     ]
    }
   ],
   "source": [
    "# Only run once for best parameters\n",
    "RF_params = {'n_estimators' : [100, 300, 500, 800, 1200],\n",
    "             'max_depth' : [5, 8, 15, 25, 30],\n",
    "             'min_samples_split' : [2, 5, 10, 15, 100],\n",
    "             'min_samples_leaf' : [1, 2, 5, 10],\n",
    "            'criterion': ['gini','entropy'],\n",
    "            'bootstrap': [True, False]}\n",
    "\n",
    "RF_model = RandomForestClassifier()\n",
    "\n",
    "hyper_parameter_tunning(X_train,y_train,RF_model, RF_params)"
   ]
  },
  {
   "cell_type": "markdown",
   "metadata": {},
   "source": [
    "### 10.2. Train the model with best parameters"
   ]
  },
  {
   "cell_type": "code",
   "execution_count": 77,
   "metadata": {
    "ExecuteTime": {
     "end_time": "2021-04-11T15:55:07.449393Z",
     "start_time": "2021-04-11T15:55:00.850058Z"
    }
   },
   "outputs": [
    {
     "data": {
      "text/plain": [
       "RandomForestClassifier(criterion='entropy')"
      ]
     },
     "execution_count": 77,
     "metadata": {},
     "output_type": "execute_result"
    }
   ],
   "source": [
    "RF_clf = RandomForestClassifier(criterion='entropy', max_depth=None)\n",
    "RF_clf.fit(X_train, y_train_ravel)"
   ]
  },
  {
   "cell_type": "code",
   "execution_count": 78,
   "metadata": {
    "ExecuteTime": {
     "end_time": "2021-04-11T15:55:13.427614Z",
     "start_time": "2021-04-11T15:55:12.907820Z"
    }
   },
   "outputs": [
    {
     "name": "stdout",
     "output_type": "stream",
     "text": [
      "Random Forest\n",
      "Accuracy: 81.43%\n",
      "              precision    recall  f1-score   support\n",
      "\n",
      "           0       0.86      0.92      0.89     12474\n",
      "           1       0.42      0.27      0.33      2518\n",
      "\n",
      "    accuracy                           0.81     14992\n",
      "   macro avg       0.64      0.60      0.61     14992\n",
      "weighted avg       0.79      0.81      0.80     14992\n",
      "\n"
     ]
    }
   ],
   "source": [
    "y_pred_forest = RF_clf.predict(X_test)\n",
    "\n",
    "print('Random Forest')\n",
    "print('Accuracy: {facc}%'.format(facc=round(metrics.accuracy_score(y_test, y_pred_forest) * 100, 2)))\n",
    "print(metrics.classification_report(y_test, y_pred_forest))"
   ]
  },
  {
   "cell_type": "markdown",
   "metadata": {},
   "source": [
    "## 11. XGBoost"
   ]
  },
  {
   "cell_type": "code",
   "execution_count": null,
   "metadata": {},
   "outputs": [],
   "source": [
    "# Install xgboost library\n",
    "\n",
    "!pip install xgboost"
   ]
  },
  {
   "cell_type": "code",
   "execution_count": 27,
   "metadata": {
    "ExecuteTime": {
     "end_time": "2021-04-11T14:41:35.392992Z",
     "start_time": "2021-04-11T14:41:35.365384Z"
    }
   },
   "outputs": [],
   "source": [
    "from xgboost import XGBClassifier"
   ]
  },
  {
   "cell_type": "markdown",
   "metadata": {},
   "source": [
    "### 11.1. Hyper-parameter tunning"
   ]
  },
  {
   "cell_type": "code",
   "execution_count": 28,
   "metadata": {
    "ExecuteTime": {
     "end_time": "2021-04-11T14:41:35.408984Z",
     "start_time": "2021-04-11T14:41:35.393992Z"
    }
   },
   "outputs": [],
   "source": [
    "# XGBoost hyper-parameter tuning\n",
    "def hyperParameterTuning(X_train, y_train):\n",
    "    param_tuning = {\"learning_rate\"    : [0.05, 0.10, 0.15, 0.20, 0.25, 0.30 ] ,\n",
    "     \"max_depth\"        : [ 3, 4, 5, 6, 8, 10, 12, 15],\n",
    "     \"min_child_weight\" : [ 1, 3, 5, 7 ],\n",
    "     \"gamma\"            : [ 0.0, 0.1, 0.2 , 0.3, 0.4 ],\n",
    "     \"colsample_bytree\" : [ 0.3, 0.4, 0.5 , 0.7 ], \n",
    "      \"objective\" : [\"binary:logistic\"]}\n",
    "\n",
    "    xgb_model = XGBClassifier()\n",
    "\n",
    "    gsearch = GridSearchCV(estimator = xgb_model,\n",
    "                           param_grid = param_tuning,                        \n",
    "                           scoring = make_scorer(f1_score),  \n",
    "                           cv = 5,\n",
    "                           n_jobs = -1,\n",
    "                           verbose = 1)\n",
    "\n",
    "    gsearch.fit(X_train,y_train)\n",
    "\n",
    "    return gsearch.best_params_"
   ]
  },
  {
   "cell_type": "code",
   "execution_count": 29,
   "metadata": {
    "ExecuteTime": {
     "end_time": "2021-04-11T14:41:35.425121Z",
     "start_time": "2021-04-11T14:41:35.410947Z"
    }
   },
   "outputs": [],
   "source": [
    "# Only run once for best parameters\n",
    "# hyperParameterTuning(X_train,y_train_ravel)"
   ]
  },
  {
   "cell_type": "markdown",
   "metadata": {},
   "source": [
    "### 11.2. Train model with the best parameters"
   ]
  },
  {
   "cell_type": "code",
   "execution_count": 30,
   "metadata": {
    "ExecuteTime": {
     "end_time": "2021-04-11T14:41:37.149444Z",
     "start_time": "2021-04-11T14:41:35.427063Z"
    }
   },
   "outputs": [
    {
     "name": "stdout",
     "output_type": "stream",
     "text": [
      "[21:41:35] WARNING: C:/Users/Administrator/workspace/xgboost-win64_release_1.3.0/src/learner.cc:1061: Starting in XGBoost 1.3.0, the default evaluation metric used with the objective 'binary:logistic' was changed from 'error' to 'logloss'. Explicitly set eval_metric if you'd like to restore the old behavior.\n"
     ]
    },
    {
     "name": "stderr",
     "output_type": "stream",
     "text": [
      "C:\\Users\\Dell\\anaconda3\\lib\\site-packages\\xgboost\\sklearn.py:888: UserWarning: The use of label encoder in XGBClassifier is deprecated and will be removed in a future release. To remove this warning, do the following: 1) Pass option use_label_encoder=False when constructing XGBClassifier object; and 2) Encode your labels (y) as integers starting with 0, i.e. 0, 1, 2, ..., [num_class - 1].\n",
      "  warnings.warn(label_encoder_deprecation_msg, UserWarning)\n"
     ]
    },
    {
     "data": {
      "text/plain": [
       "XGBClassifier(base_score=0.5, booster='gbtree', colsample_bylevel=1,\n",
       "              colsample_bynode=1, colsample_bytree=0.4, gamma=0.2, gpu_id=-1,\n",
       "              importance_type='gain', interaction_constraints='',\n",
       "              learning_rate=0.05, max_delta_step=0, max_depth=8,\n",
       "              min_child_weight=3, missing=nan, monotone_constraints='()',\n",
       "              n_estimators=100, n_jobs=4, num_parallel_tree=1, random_state=0,\n",
       "              reg_alpha=0, reg_lambda=1, scale_pos_weight=1, subsample=1,\n",
       "              tree_method='exact', validate_parameters=1, verbosity=None)"
      ]
     },
     "execution_count": 30,
     "metadata": {},
     "output_type": "execute_result"
    }
   ],
   "source": [
    "from xgboost import XGBClassifier\n",
    "\n",
    "xgb = XGBClassifier(learning_rate = 0.05, max_depth = 8, min_child_weight = 3, gamma=  0.2, colsample_bytree =0.4, objective = 'binary:logistic')\n",
    "# learning_rate = 0.05, max_depth = 8, min_child_weight = 3, gamma=  0.2, colsample_bytree =0.4, objective = 'binary:logistic'\n",
    "# learning_rate = 0.1, max_depth = 7, min_child_weight = 5, gamma=  0.0, colsample_bytree =0.4, objective = 'binary:logistic'\n",
    "xgb.fit(X_train, y_train_ravel)"
   ]
  },
  {
   "cell_type": "markdown",
   "metadata": {},
   "source": [
    "### 11.3. Classification report"
   ]
  },
  {
   "cell_type": "code",
   "execution_count": 31,
   "metadata": {
    "ExecuteTime": {
     "end_time": "2021-04-11T14:41:37.225231Z",
     "start_time": "2021-04-11T14:41:37.151429Z"
    },
    "scrolled": true
   },
   "outputs": [
    {
     "name": "stdout",
     "output_type": "stream",
     "text": [
      "XGBoostClassifier\n",
      "Accuracy: 84.72%\n",
      "              precision    recall  f1-score   support\n",
      "\n",
      "           0       0.85      0.99      0.91     12474\n",
      "           1       0.70      0.16      0.26      2518\n",
      "\n",
      "    accuracy                           0.85     14992\n",
      "   macro avg       0.78      0.57      0.59     14992\n",
      "weighted avg       0.83      0.85      0.80     14992\n",
      "\n"
     ]
    }
   ],
   "source": [
    "y_xgb = xgb.predict(X_test)\n",
    "\n",
    "print('XGBoostClassifier')\n",
    "print('Accuracy: {facc}%'.format(facc=round(metrics.accuracy_score(y_test, y_xgb) * 100, 2)))\n",
    "print(metrics.classification_report(y_test, y_xgb))"
   ]
  },
  {
   "cell_type": "code",
   "execution_count": 32,
   "metadata": {
    "ExecuteTime": {
     "end_time": "2021-04-11T14:41:38.122832Z",
     "start_time": "2021-04-11T14:41:37.226229Z"
    }
   },
   "outputs": [
    {
     "data": {
      "image/png": "[encoded data removed]",
      "text/plain": [
       "<Figure size 432x288 with 1 Axes>"
      ]
     },
     "metadata": {},
     "output_type": "display_data"
    },
    {
     "data": {
      "text/plain": [
       "<Figure size 3600x3600 with 0 Axes>"
      ]
     },
     "metadata": {},
     "output_type": "display_data"
    }
   ],
   "source": [
    "from xgboost import plot_importance\n",
    "\n",
    "plot_importance(xgb, max_num_features = 30)\n",
    "plt.figure(figsize=(50,50))\n",
    "plt.show()"
   ]
  },
  {
   "cell_type": "markdown",
   "metadata": {},
   "source": [
    "## 12 Apply on Test dataset"
   ]
  },
  {
   "cell_type": "code",
   "execution_count": 33,
   "metadata": {
    "ExecuteTime": {
     "end_time": "2021-04-11T14:41:38.306342Z",
     "start_time": "2021-04-11T14:41:38.125829Z"
    }
   },
   "outputs": [
    {
     "data": {
      "text/html": [
       "<div>\n",
       "<style scoped>\n",
       "    .dataframe tbody tr th:only-of-type {\n",
       "        vertical-align: middle;\n",
       "    }\n",
       "\n",
       "    .dataframe tbody tr th {\n",
       "        vertical-align: top;\n",
       "    }\n",
       "\n",
       "    .dataframe thead th {\n",
       "        text-align: right;\n",
       "    }\n",
       "</style>\n",
       "<table border=\"1\" class=\"dataframe\">\n",
       "  <thead>\n",
       "    <tr style=\"text-align: right;\">\n",
       "      <th></th>\n",
       "      <th>Gender</th>\n",
       "      <th>Race</th>\n",
       "      <th>TypeOfAdmission</th>\n",
       "      <th>CCSProcedureCode</th>\n",
       "      <th>APRSeverityOfIllnessCode</th>\n",
       "      <th>PaymentTypology</th>\n",
       "      <th>BirthWeight</th>\n",
       "      <th>EmergencyDepartmentIndicator</th>\n",
       "      <th>AverageCostInCounty</th>\n",
       "      <th>AverageChargesInCounty</th>\n",
       "      <th>AverageCostInFacility</th>\n",
       "      <th>AverageChargesInFacility</th>\n",
       "      <th>AverageIncomeInZipCode</th>\n",
       "    </tr>\n",
       "  </thead>\n",
       "  <tbody>\n",
       "    <tr>\n",
       "      <th>0</th>\n",
       "      <td>F</td>\n",
       "      <td>Other Race</td>\n",
       "      <td>Newborn</td>\n",
       "      <td>216</td>\n",
       "      <td>3</td>\n",
       "      <td>Medicaid</td>\n",
       "      <td>4900</td>\n",
       "      <td>N</td>\n",
       "      <td>3242</td>\n",
       "      <td>8966</td>\n",
       "      <td>2448</td>\n",
       "      <td>13196</td>\n",
       "      <td>34</td>\n",
       "    </tr>\n",
       "    <tr>\n",
       "      <th>1</th>\n",
       "      <td>F</td>\n",
       "      <td>White</td>\n",
       "      <td>Newborn</td>\n",
       "      <td>220</td>\n",
       "      <td>1</td>\n",
       "      <td>Medicaid</td>\n",
       "      <td>3100</td>\n",
       "      <td>N</td>\n",
       "      <td>2611</td>\n",
       "      <td>9227</td>\n",
       "      <td>1751</td>\n",
       "      <td>8951</td>\n",
       "      <td>45</td>\n",
       "    </tr>\n",
       "    <tr>\n",
       "      <th>2</th>\n",
       "      <td>M</td>\n",
       "      <td>Multi-racial</td>\n",
       "      <td>Newborn</td>\n",
       "      <td>115</td>\n",
       "      <td>1</td>\n",
       "      <td>Medicaid</td>\n",
       "      <td>3300</td>\n",
       "      <td>N</td>\n",
       "      <td>3155</td>\n",
       "      <td>11381</td>\n",
       "      <td>1052</td>\n",
       "      <td>11314</td>\n",
       "      <td>74</td>\n",
       "    </tr>\n",
       "    <tr>\n",
       "      <th>3</th>\n",
       "      <td>M</td>\n",
       "      <td>Other Race</td>\n",
       "      <td>Newborn</td>\n",
       "      <td>228</td>\n",
       "      <td>1</td>\n",
       "      <td>Medicaid</td>\n",
       "      <td>3300</td>\n",
       "      <td>N</td>\n",
       "      <td>2611</td>\n",
       "      <td>9227</td>\n",
       "      <td>3790</td>\n",
       "      <td>6250</td>\n",
       "      <td>45</td>\n",
       "    </tr>\n",
       "    <tr>\n",
       "      <th>4</th>\n",
       "      <td>F</td>\n",
       "      <td>Other Race</td>\n",
       "      <td>Newborn</td>\n",
       "      <td>220</td>\n",
       "      <td>2</td>\n",
       "      <td>Medicaid</td>\n",
       "      <td>3800</td>\n",
       "      <td>N</td>\n",
       "      <td>3155</td>\n",
       "      <td>11381</td>\n",
       "      <td>3032</td>\n",
       "      <td>10135</td>\n",
       "      <td>59</td>\n",
       "    </tr>\n",
       "  </tbody>\n",
       "</table>\n",
       "</div>"
      ],
      "text/plain": [
       "  Gender          Race TypeOfAdmission  CCSProcedureCode  \\\n",
       "0      F    Other Race         Newborn               216   \n",
       "1      F         White         Newborn               220   \n",
       "2      M  Multi-racial         Newborn               115   \n",
       "3      M    Other Race         Newborn               228   \n",
       "4      F    Other Race         Newborn               220   \n",
       "\n",
       "   APRSeverityOfIllnessCode PaymentTypology  BirthWeight  \\\n",
       "0                         3        Medicaid         4900   \n",
       "1                         1        Medicaid         3100   \n",
       "2                         1        Medicaid         3300   \n",
       "3                         1        Medicaid         3300   \n",
       "4                         2        Medicaid         3800   \n",
       "\n",
       "  EmergencyDepartmentIndicator  AverageCostInCounty  AverageChargesInCounty  \\\n",
       "0                            N                 3242                    8966   \n",
       "1                            N                 2611                    9227   \n",
       "2                            N                 3155                   11381   \n",
       "3                            N                 2611                    9227   \n",
       "4                            N                 3155                   11381   \n",
       "\n",
       "   AverageCostInFacility  AverageChargesInFacility  AverageIncomeInZipCode  \n",
       "0                   2448                     13196                      34  \n",
       "1                   1751                      8951                      45  \n",
       "2                   1052                     11314                      74  \n",
       "3                   3790                      6250                      45  \n",
       "4                   3032                     10135                      59  "
      ]
     },
     "execution_count": 33,
     "metadata": {},
     "output_type": "execute_result"
    }
   ],
   "source": [
    "test_data = pd.read_csv(\"test_data.csv\")\n",
    "submission = pd.DataFrame(columns=['ID','LengthOfStay'])\n",
    "submission['ID'] = test_data['ID']\n",
    "test_data = test_data.drop(['ID','HealthServiceArea'], axis = 1)\n",
    "\n",
    "test_data.head()"
   ]
  },
  {
   "cell_type": "code",
   "execution_count": 34,
   "metadata": {
    "ExecuteTime": {
     "end_time": "2021-04-11T14:41:38.502817Z",
     "start_time": "2021-04-11T14:41:38.308337Z"
    }
   },
   "outputs": [
    {
     "name": "stdout",
     "output_type": "stream",
     "text": [
      "Gender\n",
      "   Counts Percent\n",
      "M   35471  51.28%\n",
      "F   33704  48.72%\n",
      "U       2    0.0%\n",
      "--------------------------------\n",
      "Race\n",
      "                        Counts Percent\n",
      "White                    30432  43.99%\n",
      "Other Race               27043  39.09%\n",
      "Black/African American   10780  15.58%\n",
      "Multi-racial               922   1.33%\n",
      "--------------------------------\n",
      "TypeOfAdmission\n",
      "           Counts Percent\n",
      "Newborn     68125  98.48%\n",
      "Emergency     495   0.72%\n",
      "Urgent        362   0.52%\n",
      "Elective      194   0.28%\n",
      "Trauma          1    0.0%\n",
      "--------------------------------\n",
      "CCSProcedureCode\n",
      "      Counts Percent\n",
      " 228   24212   35.0%\n",
      " 0     15120  21.86%\n",
      " 220   13108  18.95%\n",
      " 115   12819  18.53%\n",
      " 231    2535   3.66%\n",
      " 216     764    1.1%\n",
      "-1       619   0.89%\n",
      "--------------------------------\n",
      "APRSeverityOfIllnessCode\n",
      "   Counts Percent\n",
      "1   55243  79.86%\n",
      "2   10935  15.81%\n",
      "3    2998   4.33%\n",
      "4       1    0.0%\n",
      "--------------------------------\n",
      "PaymentTypology\n",
      "                           Counts Percent\n",
      "Medicaid                    37037  53.54%\n",
      "Private Health Insurance    14871   21.5%\n",
      "Blue Cross/Blue Shield      12795   18.5%\n",
      "Self-Pay                     2508   3.63%\n",
      "Managed Care, Unspecified    1539   2.22%\n",
      "Federal/State/Local/VA        320   0.46%\n",
      "Medicare                       43   0.06%\n",
      "Miscellaneous/Other            27   0.04%\n",
      "Unknown                        25   0.04%\n",
      "Department of Corrections      12   0.02%\n",
      "--------------------------------\n",
      "BirthWeight\n",
      "      Counts Percent\n",
      "3200    6355   9.19%\n",
      "3300    6320   9.14%\n",
      "3400    6049   8.74%\n",
      "3100    5735   8.29%\n",
      "3500    5454   7.88%\n",
      "3000    5218   7.54%\n",
      "3600    4799   6.94%\n",
      "2900    4318   6.24%\n",
      "3700    4006   5.79%\n",
      "2800    3529    5.1%\n",
      "3800    3256   4.71%\n",
      "2700    2654   3.84%\n",
      "3900    2479   3.58%\n",
      "2600    1988   2.87%\n",
      "4000    1785   2.58%\n",
      "2500    1338   1.93%\n",
      "4100    1257   1.82%\n",
      "4200     871   1.26%\n",
      "4300     617   0.89%\n",
      "4400     418    0.6%\n",
      "4500     255   0.37%\n",
      "4600     151   0.22%\n",
      "4700     123   0.18%\n",
      "4800      70    0.1%\n",
      "4900      56   0.08%\n",
      "5000      24   0.03%\n",
      "5100      17   0.02%\n",
      "5200      13   0.02%\n",
      "5300       8   0.01%\n",
      "6100       3    0.0%\n",
      "5700       2    0.0%\n",
      "7800       1    0.0%\n",
      "6600       1    0.0%\n",
      "8500       1    0.0%\n",
      "6700       1    0.0%\n",
      "5400       1    0.0%\n",
      "9000       1    0.0%\n",
      "5800       1    0.0%\n",
      "8600       1    0.0%\n",
      "5500       1    0.0%\n",
      "--------------------------------\n",
      "EmergencyDepartmentIndicator\n",
      "   Counts Percent\n",
      "N   68829   99.5%\n",
      "Y     348    0.5%\n",
      "--------------------------------\n",
      "AverageCostInCounty\n",
      "      Counts Percent\n",
      "3155   13906   20.1%\n",
      "2611    9648  13.95%\n",
      "2041    8773  12.68%\n",
      "1719    8352  12.07%\n",
      "3623    8218  11.88%\n",
      "3242    4955   7.16%\n",
      "2377    4124   5.96%\n",
      "1944    2960   4.28%\n",
      "1531    2692   3.89%\n",
      "2756    1360   1.97%\n",
      "1482    1025   1.48%\n",
      "1116     635   0.92%\n",
      "631      563   0.81%\n",
      "1980     523   0.76%\n",
      "738      483    0.7%\n",
      "1303     343    0.5%\n",
      "1630     321   0.46%\n",
      "3427     296   0.43%\n",
      "--------------------------------\n",
      "AverageChargesInCounty\n",
      "       Counts Percent\n",
      "11381   13906   20.1%\n",
      "9227     9648  13.95%\n",
      "9917     8773  12.68%\n",
      "3028     8352  12.07%\n",
      "7197     8218  11.88%\n",
      "8966     4955   7.16%\n",
      "7224     4124   5.96%\n",
      "5076     2960   4.28%\n",
      "6546     2692   3.89%\n",
      "6179     1360   1.97%\n",
      "3493     1025   1.48%\n",
      "4109      635   0.92%\n",
      "1491      563   0.81%\n",
      "5992      523   0.76%\n",
      "1816      483    0.7%\n",
      "4386      343    0.5%\n",
      "2991      321   0.46%\n",
      "3912      296   0.43%\n",
      "--------------------------------\n",
      "AverageCostInFacility\n",
      "      Counts Percent\n",
      "1751    2985   4.32%\n",
      "1374    2823   4.08%\n",
      "828     2785   4.03%\n",
      "3032    2493    3.6%\n",
      "2618    2484   3.59%\n",
      "...      ...     ...\n",
      "4404     266   0.38%\n",
      "4255     248   0.36%\n",
      "6007     212   0.31%\n",
      "1129      29   0.04%\n",
      "4071      26   0.04%\n",
      "\n",
      "[68 rows x 2 columns]\n",
      "--------------------------------\n",
      "AverageChargesInFacility\n",
      "       Counts Percent\n",
      "8951     2985   4.32%\n",
      "13345    2823   4.08%\n",
      "1876     2785   4.03%\n",
      "10135    2493    3.6%\n",
      "5977     2484   3.59%\n",
      "...       ...     ...\n",
      "6670      266   0.38%\n",
      "7101      248   0.36%\n",
      "7983      212   0.31%\n",
      "3136       29   0.04%\n",
      "13043      26   0.04%\n",
      "\n",
      "[68 rows x 2 columns]\n",
      "--------------------------------\n",
      "AverageIncomeInZipCode\n",
      "     Counts Percent\n",
      "45    13589  19.64%\n",
      "59     7968  11.52%\n",
      "34     7538   10.9%\n",
      "83     6615   9.56%\n",
      "74     5705   8.25%\n",
      "68     5124   7.41%\n",
      "41     4942   7.14%\n",
      "115    4229   6.11%\n",
      "53     2384   3.45%\n",
      "54     2270   3.28%\n",
      "81     1944   2.81%\n",
      "57     1279   1.85%\n",
      "46     1202   1.74%\n",
      "50      881   1.27%\n",
      "49      805   1.16%\n",
      "104     574   0.83%\n",
      "95      554    0.8%\n",
      "36      500   0.72%\n",
      "96      342   0.49%\n",
      "99      304   0.44%\n",
      "84      275    0.4%\n",
      "103      49   0.07%\n",
      "55       49   0.07%\n",
      "58       17   0.02%\n",
      "52       16   0.02%\n",
      "56        7   0.01%\n",
      "43        4   0.01%\n",
      "77        4   0.01%\n",
      "64        4   0.01%\n",
      "47        2    0.0%\n",
      "28        1    0.0%\n",
      "--------------------------------\n"
     ]
    }
   ],
   "source": [
    "for col in test_data.columns:\n",
    "    print(col)\n",
    "    count = test_data[col].value_counts()\n",
    "    percent = test_data[col].value_counts(normalize=True).mul(100).round(2).astype(str) + '%'\n",
    "    print(pd.DataFrame({'Counts': count, 'Percent': percent}))\n",
    "    print('--------------------------------')"
   ]
  },
  {
   "cell_type": "code",
   "execution_count": 35,
   "metadata": {
    "ExecuteTime": {
     "end_time": "2021-04-11T14:41:38.691313Z",
     "start_time": "2021-04-11T14:41:38.503814Z"
    }
   },
   "outputs": [
    {
     "data": {
      "text/plain": [
       "Index([ 'APRSeverityOfIllnessCode',               'BirthWeight',\n",
       "             'AverageCostInCounty',    'AverageChargesInCounty',\n",
       "           'AverageCostInFacility',  'AverageChargesInFacility',\n",
       "          'AverageIncomeInZipCode',                         'F',\n",
       "                               'M',                         'U',\n",
       "          'Black/African American',              'Multi-racial',\n",
       "                      'Other Race',                     'White',\n",
       "                        'Elective',                 'Emergency',\n",
       "                         'Newborn',                    'Urgent',\n",
       "                                -1,                           0,\n",
       "                               115,                         216,\n",
       "                               220,                         228,\n",
       "                               231,    'Blue Cross/Blue Shield',\n",
       "          'Federal/State/Local/VA', 'Managed Care, Unspecified',\n",
       "                        'Medicaid',                  'Medicare',\n",
       "             'Miscellaneous/Other',  'Private Health Insurance',\n",
       "                        'Self-Pay',                   'Unknown',\n",
       "                               'N',                         'Y'],\n",
       "      dtype='object')"
      ]
     },
     "execution_count": 35,
     "metadata": {},
     "output_type": "execute_result"
    }
   ],
   "source": [
    "test_copy = test_data.copy()\n",
    "# encode_col = ['Gender', \n",
    "#               'Race', \n",
    "#               'TypeOfAdmission', \n",
    "#               'CCSProcedureCode',\n",
    "#               'PaymentTypology', \n",
    "#               'EmergencyDepartmentIndicator']\n",
    "test_copy['PaymentTypology'] = test_copy['PaymentTypology'].replace(to_replace =\"Department of Corrections\", value = \"Unknown\")\n",
    "\n",
    "\n",
    "for col in encode_col:\n",
    "    dummy = pd.get_dummies(test_copy[col])\n",
    "    test_copy = pd.concat([test_copy, dummy], axis=1)\n",
    "#     if col == 'TypeOfAdmission':\n",
    "#         missing_type = [\"Trauma\",\"Not Available\"]\n",
    "#         for t in missing_type:\n",
    "#             if t not in test_copy.columns:\n",
    "#                 test_copy[t] = 0\n",
    "#         test_copy = test_copy.drop(col, axis=1)\n",
    "#     else:\n",
    "    test_copy = test_copy.drop(col, axis=1)\n",
    "\n",
    "test_copy = test_copy.drop(['Trauma'], axis = 1)\n",
    "# Check X_copy\n",
    "test_copy.columns"
   ]
  },
  {
   "cell_type": "code",
   "execution_count": 36,
   "metadata": {
    "ExecuteTime": {
     "end_time": "2021-04-11T14:41:38.910727Z",
     "start_time": "2021-04-11T14:41:38.693308Z"
    },
    "scrolled": true
   },
   "outputs": [
    {
     "data": {
      "text/plain": [
       "array([0, 0, 0, ..., 0, 0, 0], dtype=int64)"
      ]
     },
     "execution_count": 36,
     "metadata": {},
     "output_type": "execute_result"
    }
   ],
   "source": [
    "test_transform = scaler.transform(test_copy)\n",
    "\n",
    "pred_xgb = xgb.predict(test_copy)\n",
    "pred_log = logistic.predict(test_transform)\n",
    "\n",
    "pred_xgb"
   ]
  },
  {
   "cell_type": "code",
   "execution_count": 37,
   "metadata": {
    "ExecuteTime": {
     "end_time": "2021-04-11T14:41:38.925687Z",
     "start_time": "2021-04-11T14:41:38.912723Z"
    }
   },
   "outputs": [
    {
     "name": "stdout",
     "output_type": "stream",
     "text": [
      "{0: 68026, 1: 1151}\n",
      "{0: 66902, 1: 2275}\n"
     ]
    }
   ],
   "source": [
    "u,c = np.unique(pred_xgb, return_counts = True)\n",
    "u1,c1 = np.unique(pred_log, return_counts = True)\n",
    "print(dict(zip(u,c)))\n",
    "print(dict(zip(u1,c1)))"
   ]
  },
  {
   "cell_type": "code",
   "execution_count": 38,
   "metadata": {
    "ExecuteTime": {
     "end_time": "2021-04-11T14:41:38.940647Z",
     "start_time": "2021-04-11T14:41:38.927682Z"
    }
   },
   "outputs": [],
   "source": [
    "# submission['LengthOfStay'] = pd.Series(pred_xgb)\n",
    "\n",
    "# submission.to_csv('test_xgb_3.csv',index=False)"
   ]
  },
  {
   "cell_type": "code",
   "execution_count": null,
   "metadata": {},
   "outputs": [],
   "source": []
  }
 ],
 "metadata": {
  "kernelspec": {
   "display_name": "Python 3",
   "language": "python",
   "name": "python3"
  },
  "language_info": {
   "codemirror_mode": {
    "name": "ipython",
    "version": 3
   },
   "file_extension": ".py",
   "mimetype": "text/x-python",
   "name": "python",
   "nbconvert_exporter": "python",
   "pygments_lexer": "ipython3",
   "version": "3.8.5"
  },
  "toc": {
   "base_numbering": 1,
   "nav_menu": {},
   "number_sections": false,
   "sideBar": true,
   "skip_h1_title": false,
   "title_cell": "Table of Contents",
   "title_sidebar": "Contents",
   "toc_cell": false,
   "toc_position": {
    "height": "calc(100% - 180px)",
    "left": "10px",
    "top": "150px",
    "width": "384px"
   },
   "toc_section_display": true,
   "toc_window_display": true
  }
 },
 "nbformat": 4,
 "nbformat_minor": 5
}
