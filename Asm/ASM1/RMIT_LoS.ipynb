{
 "cells": [
  {
   "cell_type": "markdown",
   "id": "spatial-labor",
   "metadata": {},
   "source": [
    "# COSC2753 - Assignment 1 - Length of Stay Prediction "
   ]
  },
  {
   "cell_type": "markdown",
   "id": "stainless-packaging",
   "metadata": {},
   "source": [
    "**RMIT University Vietnam**\n",
    "\n",
    "**Course:** COSC2753\n",
    "\n",
    "**Name:** Pham Cong Minh\n",
    "\n",
    "**ID:** s3818102\n",
    "\n",
    "**Lecturer:** Dr. Duy Dang Pham Thien\n",
    "\n",
    "**Submission Due Date:** 16 April 2021"
   ]
  },
  {
   "cell_type": "markdown",
   "id": "bigger-sunset",
   "metadata": {},
   "source": [
    "## Main task\n",
    "\n",
    "Predict if a given patient (i.e. a new born child) will be discharged from the hospital within 3 days (class 0) or will stay in hospital beyond that (class 1). The required model are logistic regression or its variant for binary classification"
   ]
  },
  {
   "cell_type": "markdown",
   "id": "bronze-spray",
   "metadata": {},
   "source": [
    "## 1. Import libraries"
   ]
  },
  {
   "cell_type": "code",
   "execution_count": 1,
   "id": "registered-nashville",
   "metadata": {
    "ExecuteTime": {
     "end_time": "2021-04-15T01:14:41.025623Z",
     "start_time": "2021-04-15T01:14:39.385722Z"
    }
   },
   "outputs": [],
   "source": [
    "import numpy as np\n",
    "import pandas as pd\n",
    "from matplotlib import pyplot as plt\n",
    "import seaborn as sns\n",
    "\n",
    "from matplotlib import style\n",
    "style.use('dark_background')\n",
    "\n",
    "pd.set_option('display.max_columns', 70)"
   ]
  },
  {
   "cell_type": "markdown",
   "id": "japanese-gothic",
   "metadata": {},
   "source": [
    "## 2. Read train data & inspect"
   ]
  },
  {
   "cell_type": "markdown",
   "id": "reserved-citizen",
   "metadata": {},
   "source": [
    "### 2.1 Read data"
   ]
  },
  {
   "cell_type": "code",
   "execution_count": 2,
   "id": "skilled-sample",
   "metadata": {
    "ExecuteTime": {
     "end_time": "2021-04-15T01:14:41.180140Z",
     "start_time": "2021-04-15T01:14:41.027548Z"
    }
   },
   "outputs": [
    {
     "data": {
      "text/html": [
       "<div>\n",
       "<style scoped>\n",
       "    .dataframe tbody tr th:only-of-type {\n",
       "        vertical-align: middle;\n",
       "    }\n",
       "\n",
       "    .dataframe tbody tr th {\n",
       "        vertical-align: top;\n",
       "    }\n",
       "\n",
       "    .dataframe thead th {\n",
       "        text-align: right;\n",
       "    }\n",
       "</style>\n",
       "<table border=\"1\" class=\"dataframe\">\n",
       "  <thead>\n",
       "    <tr style=\"text-align: right;\">\n",
       "      <th></th>\n",
       "      <th>Gender</th>\n",
       "      <th>Race</th>\n",
       "      <th>TypeOfAdmission</th>\n",
       "      <th>CCSProcedureCode</th>\n",
       "      <th>APRSeverityOfIllnessCode</th>\n",
       "      <th>PaymentTypology</th>\n",
       "      <th>BirthWeight</th>\n",
       "      <th>EmergencyDepartmentIndicator</th>\n",
       "      <th>AverageCostInCounty</th>\n",
       "      <th>AverageChargesInCounty</th>\n",
       "      <th>AverageCostInFacility</th>\n",
       "      <th>AverageChargesInFacility</th>\n",
       "      <th>AverageIncomeInZipCode</th>\n",
       "      <th>LengthOfStay</th>\n",
       "    </tr>\n",
       "  </thead>\n",
       "  <tbody>\n",
       "    <tr>\n",
       "      <th>0</th>\n",
       "      <td>F</td>\n",
       "      <td>Other Race</td>\n",
       "      <td>Newborn</td>\n",
       "      <td>228</td>\n",
       "      <td>1</td>\n",
       "      <td>Medicaid</td>\n",
       "      <td>3700</td>\n",
       "      <td>N</td>\n",
       "      <td>2611</td>\n",
       "      <td>9227</td>\n",
       "      <td>1751</td>\n",
       "      <td>8951</td>\n",
       "      <td>45</td>\n",
       "      <td>1</td>\n",
       "    </tr>\n",
       "    <tr>\n",
       "      <th>1</th>\n",
       "      <td>M</td>\n",
       "      <td>Black/African American</td>\n",
       "      <td>Newborn</td>\n",
       "      <td>228</td>\n",
       "      <td>1</td>\n",
       "      <td>Medicaid</td>\n",
       "      <td>2900</td>\n",
       "      <td>N</td>\n",
       "      <td>3242</td>\n",
       "      <td>8966</td>\n",
       "      <td>3338</td>\n",
       "      <td>6409</td>\n",
       "      <td>34</td>\n",
       "      <td>1</td>\n",
       "    </tr>\n",
       "    <tr>\n",
       "      <th>2</th>\n",
       "      <td>M</td>\n",
       "      <td>Other Race</td>\n",
       "      <td>Newborn</td>\n",
       "      <td>220</td>\n",
       "      <td>1</td>\n",
       "      <td>Private Health Insurance</td>\n",
       "      <td>3200</td>\n",
       "      <td>N</td>\n",
       "      <td>3155</td>\n",
       "      <td>11381</td>\n",
       "      <td>4980</td>\n",
       "      <td>9323</td>\n",
       "      <td>45</td>\n",
       "      <td>1</td>\n",
       "    </tr>\n",
       "    <tr>\n",
       "      <th>3</th>\n",
       "      <td>F</td>\n",
       "      <td>Other Race</td>\n",
       "      <td>Newborn</td>\n",
       "      <td>0</td>\n",
       "      <td>1</td>\n",
       "      <td>Private Health Insurance</td>\n",
       "      <td>3300</td>\n",
       "      <td>N</td>\n",
       "      <td>3155</td>\n",
       "      <td>11381</td>\n",
       "      <td>5826</td>\n",
       "      <td>15680</td>\n",
       "      <td>59</td>\n",
       "      <td>1</td>\n",
       "    </tr>\n",
       "    <tr>\n",
       "      <th>4</th>\n",
       "      <td>F</td>\n",
       "      <td>Other Race</td>\n",
       "      <td>Newborn</td>\n",
       "      <td>228</td>\n",
       "      <td>1</td>\n",
       "      <td>Medicaid</td>\n",
       "      <td>2600</td>\n",
       "      <td>N</td>\n",
       "      <td>2611</td>\n",
       "      <td>9227</td>\n",
       "      <td>6000</td>\n",
       "      <td>14344</td>\n",
       "      <td>59</td>\n",
       "      <td>1</td>\n",
       "    </tr>\n",
       "  </tbody>\n",
       "</table>\n",
       "</div>"
      ],
      "text/plain": [
       "  Gender                    Race TypeOfAdmission  CCSProcedureCode  \\\n",
       "0      F              Other Race         Newborn               228   \n",
       "1      M  Black/African American         Newborn               228   \n",
       "2      M              Other Race         Newborn               220   \n",
       "3      F              Other Race         Newborn                 0   \n",
       "4      F              Other Race         Newborn               228   \n",
       "\n",
       "   APRSeverityOfIllnessCode           PaymentTypology  BirthWeight  \\\n",
       "0                         1                  Medicaid         3700   \n",
       "1                         1                  Medicaid         2900   \n",
       "2                         1  Private Health Insurance         3200   \n",
       "3                         1  Private Health Insurance         3300   \n",
       "4                         1                  Medicaid         2600   \n",
       "\n",
       "  EmergencyDepartmentIndicator  AverageCostInCounty  AverageChargesInCounty  \\\n",
       "0                            N                 2611                    9227   \n",
       "1                            N                 3242                    8966   \n",
       "2                            N                 3155                   11381   \n",
       "3                            N                 3155                   11381   \n",
       "4                            N                 2611                    9227   \n",
       "\n",
       "   AverageCostInFacility  AverageChargesInFacility  AverageIncomeInZipCode  \\\n",
       "0                   1751                      8951                      45   \n",
       "1                   3338                      6409                      34   \n",
       "2                   4980                      9323                      45   \n",
       "3                   5826                     15680                      59   \n",
       "4                   6000                     14344                      59   \n",
       "\n",
       "   LengthOfStay  \n",
       "0             1  \n",
       "1             1  \n",
       "2             1  \n",
       "3             1  \n",
       "4             1  "
      ]
     },
     "execution_count": 2,
     "metadata": {},
     "output_type": "execute_result"
    }
   ],
   "source": [
    "# Import the train dataset\n",
    "train_data = pd.read_csv('train_data.csv').drop(['ID', 'HealthServiceArea'], axis=1)\n",
    "train_data.head()"
   ]
  },
  {
   "cell_type": "markdown",
   "id": "bored-christopher",
   "metadata": {},
   "source": [
    "### 2.2 Inspect data"
   ]
  },
  {
   "cell_type": "code",
   "execution_count": 3,
   "id": "embedded-queue",
   "metadata": {
    "ExecuteTime": {
     "end_time": "2021-04-15T01:14:41.256232Z",
     "start_time": "2021-04-15T01:14:41.183135Z"
    },
    "scrolled": true
   },
   "outputs": [
    {
     "data": {
      "text/html": [
       "<div>\n",
       "<style scoped>\n",
       "    .dataframe tbody tr th:only-of-type {\n",
       "        vertical-align: middle;\n",
       "    }\n",
       "\n",
       "    .dataframe tbody tr th {\n",
       "        vertical-align: top;\n",
       "    }\n",
       "\n",
       "    .dataframe thead th {\n",
       "        text-align: right;\n",
       "    }\n",
       "</style>\n",
       "<table border=\"1\" class=\"dataframe\">\n",
       "  <thead>\n",
       "    <tr style=\"text-align: right;\">\n",
       "      <th></th>\n",
       "      <th>CCSProcedureCode</th>\n",
       "      <th>APRSeverityOfIllnessCode</th>\n",
       "      <th>BirthWeight</th>\n",
       "      <th>AverageCostInCounty</th>\n",
       "      <th>AverageChargesInCounty</th>\n",
       "      <th>AverageCostInFacility</th>\n",
       "      <th>AverageChargesInFacility</th>\n",
       "      <th>AverageIncomeInZipCode</th>\n",
       "      <th>LengthOfStay</th>\n",
       "    </tr>\n",
       "  </thead>\n",
       "  <tbody>\n",
       "    <tr>\n",
       "      <th>count</th>\n",
       "      <td>59966.000000</td>\n",
       "      <td>59966.000000</td>\n",
       "      <td>59966.000000</td>\n",
       "      <td>59966.000000</td>\n",
       "      <td>59966.000000</td>\n",
       "      <td>59966.000000</td>\n",
       "      <td>59966.000000</td>\n",
       "      <td>59966.000000</td>\n",
       "      <td>59966.000000</td>\n",
       "    </tr>\n",
       "    <tr>\n",
       "      <th>mean</th>\n",
       "      <td>155.404229</td>\n",
       "      <td>1.254594</td>\n",
       "      <td>3336.298903</td>\n",
       "      <td>2372.806690</td>\n",
       "      <td>7979.126922</td>\n",
       "      <td>2396.414318</td>\n",
       "      <td>7958.472668</td>\n",
       "      <td>59.811143</td>\n",
       "      <td>2.538405</td>\n",
       "    </tr>\n",
       "    <tr>\n",
       "      <th>std</th>\n",
       "      <td>89.541978</td>\n",
       "      <td>0.546207</td>\n",
       "      <td>446.244475</td>\n",
       "      <td>639.755096</td>\n",
       "      <td>3220.291347</td>\n",
       "      <td>1248.501189</td>\n",
       "      <td>3859.294711</td>\n",
       "      <td>21.470170</td>\n",
       "      <td>1.171246</td>\n",
       "    </tr>\n",
       "    <tr>\n",
       "      <th>min</th>\n",
       "      <td>-1.000000</td>\n",
       "      <td>1.000000</td>\n",
       "      <td>2500.000000</td>\n",
       "      <td>712.000000</td>\n",
       "      <td>1243.000000</td>\n",
       "      <td>457.000000</td>\n",
       "      <td>1120.000000</td>\n",
       "      <td>28.000000</td>\n",
       "      <td>1.000000</td>\n",
       "    </tr>\n",
       "    <tr>\n",
       "      <th>25%</th>\n",
       "      <td>115.000000</td>\n",
       "      <td>1.000000</td>\n",
       "      <td>3000.000000</td>\n",
       "      <td>2041.000000</td>\n",
       "      <td>4620.000000</td>\n",
       "      <td>1551.000000</td>\n",
       "      <td>4438.000000</td>\n",
       "      <td>45.000000</td>\n",
       "      <td>2.000000</td>\n",
       "    </tr>\n",
       "    <tr>\n",
       "      <th>50%</th>\n",
       "      <td>220.000000</td>\n",
       "      <td>1.000000</td>\n",
       "      <td>3300.000000</td>\n",
       "      <td>2533.000000</td>\n",
       "      <td>9227.000000</td>\n",
       "      <td>1967.000000</td>\n",
       "      <td>7945.000000</td>\n",
       "      <td>55.000000</td>\n",
       "      <td>2.000000</td>\n",
       "    </tr>\n",
       "    <tr>\n",
       "      <th>75%</th>\n",
       "      <td>228.000000</td>\n",
       "      <td>1.000000</td>\n",
       "      <td>3600.000000</td>\n",
       "      <td>2785.000000</td>\n",
       "      <td>10644.000000</td>\n",
       "      <td>2895.000000</td>\n",
       "      <td>11619.000000</td>\n",
       "      <td>74.000000</td>\n",
       "      <td>3.000000</td>\n",
       "    </tr>\n",
       "    <tr>\n",
       "      <th>max</th>\n",
       "      <td>231.000000</td>\n",
       "      <td>4.000000</td>\n",
       "      <td>7500.000000</td>\n",
       "      <td>3242.000000</td>\n",
       "      <td>11381.000000</td>\n",
       "      <td>8114.000000</td>\n",
       "      <td>18466.000000</td>\n",
       "      <td>115.000000</td>\n",
       "      <td>10.000000</td>\n",
       "    </tr>\n",
       "  </tbody>\n",
       "</table>\n",
       "</div>"
      ],
      "text/plain": [
       "       CCSProcedureCode  APRSeverityOfIllnessCode   BirthWeight  \\\n",
       "count      59966.000000              59966.000000  59966.000000   \n",
       "mean         155.404229                  1.254594   3336.298903   \n",
       "std           89.541978                  0.546207    446.244475   \n",
       "min           -1.000000                  1.000000   2500.000000   \n",
       "25%          115.000000                  1.000000   3000.000000   \n",
       "50%          220.000000                  1.000000   3300.000000   \n",
       "75%          228.000000                  1.000000   3600.000000   \n",
       "max          231.000000                  4.000000   7500.000000   \n",
       "\n",
       "       AverageCostInCounty  AverageChargesInCounty  AverageCostInFacility  \\\n",
       "count         59966.000000            59966.000000           59966.000000   \n",
       "mean           2372.806690             7979.126922            2396.414318   \n",
       "std             639.755096             3220.291347            1248.501189   \n",
       "min             712.000000             1243.000000             457.000000   \n",
       "25%            2041.000000             4620.000000            1551.000000   \n",
       "50%            2533.000000             9227.000000            1967.000000   \n",
       "75%            2785.000000            10644.000000            2895.000000   \n",
       "max            3242.000000            11381.000000            8114.000000   \n",
       "\n",
       "       AverageChargesInFacility  AverageIncomeInZipCode  LengthOfStay  \n",
       "count              59966.000000            59966.000000  59966.000000  \n",
       "mean                7958.472668               59.811143      2.538405  \n",
       "std                 3859.294711               21.470170      1.171246  \n",
       "min                 1120.000000               28.000000      1.000000  \n",
       "25%                 4438.000000               45.000000      2.000000  \n",
       "50%                 7945.000000               55.000000      2.000000  \n",
       "75%                11619.000000               74.000000      3.000000  \n",
       "max                18466.000000              115.000000     10.000000  "
      ]
     },
     "execution_count": 3,
     "metadata": {},
     "output_type": "execute_result"
    }
   ],
   "source": [
    "# Analyze descriptive statistics\n",
    "train_data.describe()"
   ]
  },
  {
   "cell_type": "code",
   "execution_count": 4,
   "id": "seeing-chicago",
   "metadata": {
    "ExecuteTime": {
     "end_time": "2021-04-15T01:14:41.271895Z",
     "start_time": "2021-04-15T01:14:41.257993Z"
    },
    "scrolled": true
   },
   "outputs": [
    {
     "data": {
      "text/plain": [
       "(59966, 14)"
      ]
     },
     "execution_count": 4,
     "metadata": {},
     "output_type": "execute_result"
    }
   ],
   "source": [
    "# Number of columns and rows\n",
    "train_data.shape"
   ]
  },
  {
   "cell_type": "code",
   "execution_count": 5,
   "id": "japanese-purchase",
   "metadata": {
    "ExecuteTime": {
     "end_time": "2021-04-15T01:14:41.287852Z",
     "start_time": "2021-04-15T01:14:41.273899Z"
    },
    "scrolled": true
   },
   "outputs": [
    {
     "data": {
      "text/plain": [
       "Gender                          object\n",
       "Race                            object\n",
       "TypeOfAdmission                 object\n",
       "CCSProcedureCode                 int64\n",
       "APRSeverityOfIllnessCode         int64\n",
       "PaymentTypology                 object\n",
       "BirthWeight                      int64\n",
       "EmergencyDepartmentIndicator    object\n",
       "AverageCostInCounty              int64\n",
       "AverageChargesInCounty           int64\n",
       "AverageCostInFacility            int64\n",
       "AverageChargesInFacility         int64\n",
       "AverageIncomeInZipCode           int64\n",
       "LengthOfStay                     int64\n",
       "dtype: object"
      ]
     },
     "execution_count": 5,
     "metadata": {},
     "output_type": "execute_result"
    }
   ],
   "source": [
    "# Analyze dtypes\n",
    "train_data.dtypes"
   ]
  },
  {
   "cell_type": "code",
   "execution_count": 6,
   "id": "personalized-dining",
   "metadata": {
    "ExecuteTime": {
     "end_time": "2021-04-15T01:14:41.303810Z",
     "start_time": "2021-04-15T01:14:41.290844Z"
    }
   },
   "outputs": [],
   "source": [
    "# Check missing value and percentage\n",
    "def missing_value_of_data(data):\n",
    "    total = data.isnull().sum().sort_values(ascending=False)\n",
    "    percentage = round(total/data.shape[0]*100,2)\n",
    "    return pd.concat([total,percentage], axis=1, keys=['Total','Percentage'])"
   ]
  },
  {
   "cell_type": "code",
   "execution_count": 7,
   "id": "close-browser",
   "metadata": {
    "ExecuteTime": {
     "end_time": "2021-04-15T01:14:41.349433Z",
     "start_time": "2021-04-15T01:14:41.305842Z"
    }
   },
   "outputs": [
    {
     "data": {
      "text/html": [
       "<div>\n",
       "<style scoped>\n",
       "    .dataframe tbody tr th:only-of-type {\n",
       "        vertical-align: middle;\n",
       "    }\n",
       "\n",
       "    .dataframe tbody tr th {\n",
       "        vertical-align: top;\n",
       "    }\n",
       "\n",
       "    .dataframe thead th {\n",
       "        text-align: right;\n",
       "    }\n",
       "</style>\n",
       "<table border=\"1\" class=\"dataframe\">\n",
       "  <thead>\n",
       "    <tr style=\"text-align: right;\">\n",
       "      <th></th>\n",
       "      <th>Total</th>\n",
       "      <th>Percentage</th>\n",
       "    </tr>\n",
       "  </thead>\n",
       "  <tbody>\n",
       "    <tr>\n",
       "      <th>Gender</th>\n",
       "      <td>0</td>\n",
       "      <td>0.0</td>\n",
       "    </tr>\n",
       "    <tr>\n",
       "      <th>Race</th>\n",
       "      <td>0</td>\n",
       "      <td>0.0</td>\n",
       "    </tr>\n",
       "    <tr>\n",
       "      <th>TypeOfAdmission</th>\n",
       "      <td>0</td>\n",
       "      <td>0.0</td>\n",
       "    </tr>\n",
       "    <tr>\n",
       "      <th>CCSProcedureCode</th>\n",
       "      <td>0</td>\n",
       "      <td>0.0</td>\n",
       "    </tr>\n",
       "    <tr>\n",
       "      <th>APRSeverityOfIllnessCode</th>\n",
       "      <td>0</td>\n",
       "      <td>0.0</td>\n",
       "    </tr>\n",
       "    <tr>\n",
       "      <th>PaymentTypology</th>\n",
       "      <td>0</td>\n",
       "      <td>0.0</td>\n",
       "    </tr>\n",
       "    <tr>\n",
       "      <th>BirthWeight</th>\n",
       "      <td>0</td>\n",
       "      <td>0.0</td>\n",
       "    </tr>\n",
       "    <tr>\n",
       "      <th>EmergencyDepartmentIndicator</th>\n",
       "      <td>0</td>\n",
       "      <td>0.0</td>\n",
       "    </tr>\n",
       "    <tr>\n",
       "      <th>AverageCostInCounty</th>\n",
       "      <td>0</td>\n",
       "      <td>0.0</td>\n",
       "    </tr>\n",
       "    <tr>\n",
       "      <th>AverageChargesInCounty</th>\n",
       "      <td>0</td>\n",
       "      <td>0.0</td>\n",
       "    </tr>\n",
       "    <tr>\n",
       "      <th>AverageCostInFacility</th>\n",
       "      <td>0</td>\n",
       "      <td>0.0</td>\n",
       "    </tr>\n",
       "    <tr>\n",
       "      <th>AverageChargesInFacility</th>\n",
       "      <td>0</td>\n",
       "      <td>0.0</td>\n",
       "    </tr>\n",
       "    <tr>\n",
       "      <th>AverageIncomeInZipCode</th>\n",
       "      <td>0</td>\n",
       "      <td>0.0</td>\n",
       "    </tr>\n",
       "    <tr>\n",
       "      <th>LengthOfStay</th>\n",
       "      <td>0</td>\n",
       "      <td>0.0</td>\n",
       "    </tr>\n",
       "  </tbody>\n",
       "</table>\n",
       "</div>"
      ],
      "text/plain": [
       "                              Total  Percentage\n",
       "Gender                            0         0.0\n",
       "Race                              0         0.0\n",
       "TypeOfAdmission                   0         0.0\n",
       "CCSProcedureCode                  0         0.0\n",
       "APRSeverityOfIllnessCode          0         0.0\n",
       "PaymentTypology                   0         0.0\n",
       "BirthWeight                       0         0.0\n",
       "EmergencyDepartmentIndicator      0         0.0\n",
       "AverageCostInCounty               0         0.0\n",
       "AverageChargesInCounty            0         0.0\n",
       "AverageCostInFacility             0         0.0\n",
       "AverageChargesInFacility          0         0.0\n",
       "AverageIncomeInZipCode            0         0.0\n",
       "LengthOfStay                      0         0.0"
      ]
     },
     "execution_count": 7,
     "metadata": {},
     "output_type": "execute_result"
    }
   ],
   "source": [
    "missing_value_of_data(train_data)"
   ]
  },
  {
   "cell_type": "markdown",
   "id": "intimate-member",
   "metadata": {},
   "source": [
    "In general, there is no missing data and the data types are object (categorical data) and integer (numerical measurement data)"
   ]
  },
  {
   "cell_type": "markdown",
   "id": "institutional-radio",
   "metadata": {},
   "source": [
    "## 3. Data transformation and visualization"
   ]
  },
  {
   "cell_type": "markdown",
   "id": "certified-label",
   "metadata": {},
   "source": [
    "### 3.1. Displot train dataset"
   ]
  },
  {
   "cell_type": "code",
   "execution_count": 8,
   "id": "separate-concentration",
   "metadata": {
    "ExecuteTime": {
     "end_time": "2021-04-15T01:14:41.364647Z",
     "start_time": "2021-04-15T01:14:41.351911Z"
    }
   },
   "outputs": [],
   "source": [
    "# Displot number attributes\n",
    "def displotsns(df, ncols):\n",
    "    nrows = len(df.columns) // ncols \n",
    "    \n",
    "    f, axes = plt.subplots(nrows, ncols, figsize=(20,15), sharex=False)\n",
    "    row = 0\n",
    "    plot = 0\n",
    "    for c in df.columns:\n",
    "        sns.distplot(df[c], hist=True, color = 'r', kde = True, ax = axes[row][plot])\n",
    "        plot += 1\n",
    "        if plot == ncols:\n",
    "            plot = 0\n",
    "            row+=1"
   ]
  },
  {
   "cell_type": "code",
   "execution_count": 9,
   "id": "muslim-criticism",
   "metadata": {
    "ExecuteTime": {
     "end_time": "2021-04-15T01:14:46.878907Z",
     "start_time": "2021-04-15T01:14:41.366642Z"
    }
   },
   "outputs": [
    {
     "name": "stderr",
     "output_type": "stream",
     "text": [
      "C:\\Users\\Dell\\anaconda3\\lib\\site-packages\\seaborn\\distributions.py:2557: FutureWarning: `distplot` is a deprecated function and will be removed in a future version. Please adapt your code to use either `displot` (a figure-level function with similar flexibility) or `histplot` (an axes-level function for histograms).\n",
      "  warnings.warn(msg, FutureWarning)\n",
      "C:\\Users\\Dell\\anaconda3\\lib\\site-packages\\seaborn\\distributions.py:2557: FutureWarning: `distplot` is a deprecated function and will be removed in a future version. Please adapt your code to use either `displot` (a figure-level function with similar flexibility) or `histplot` (an axes-level function for histograms).\n",
      "  warnings.warn(msg, FutureWarning)\n",
      "C:\\Users\\Dell\\anaconda3\\lib\\site-packages\\seaborn\\distributions.py:2557: FutureWarning: `distplot` is a deprecated function and will be removed in a future version. Please adapt your code to use either `displot` (a figure-level function with similar flexibility) or `histplot` (an axes-level function for histograms).\n",
      "  warnings.warn(msg, FutureWarning)\n",
      "C:\\Users\\Dell\\anaconda3\\lib\\site-packages\\seaborn\\distributions.py:2557: FutureWarning: `distplot` is a deprecated function and will be removed in a future version. Please adapt your code to use either `displot` (a figure-level function with similar flexibility) or `histplot` (an axes-level function for histograms).\n",
      "  warnings.warn(msg, FutureWarning)\n",
      "C:\\Users\\Dell\\anaconda3\\lib\\site-packages\\seaborn\\distributions.py:2557: FutureWarning: `distplot` is a deprecated function and will be removed in a future version. Please adapt your code to use either `displot` (a figure-level function with similar flexibility) or `histplot` (an axes-level function for histograms).\n",
      "  warnings.warn(msg, FutureWarning)\n",
      "C:\\Users\\Dell\\anaconda3\\lib\\site-packages\\seaborn\\distributions.py:2557: FutureWarning: `distplot` is a deprecated function and will be removed in a future version. Please adapt your code to use either `displot` (a figure-level function with similar flexibility) or `histplot` (an axes-level function for histograms).\n",
      "  warnings.warn(msg, FutureWarning)\n",
      "C:\\Users\\Dell\\anaconda3\\lib\\site-packages\\seaborn\\distributions.py:2557: FutureWarning: `distplot` is a deprecated function and will be removed in a future version. Please adapt your code to use either `displot` (a figure-level function with similar flexibility) or `histplot` (an axes-level function for histograms).\n",
      "  warnings.warn(msg, FutureWarning)\n",
      "C:\\Users\\Dell\\anaconda3\\lib\\site-packages\\seaborn\\distributions.py:2557: FutureWarning: `distplot` is a deprecated function and will be removed in a future version. Please adapt your code to use either `displot` (a figure-level function with similar flexibility) or `histplot` (an axes-level function for histograms).\n",
      "  warnings.warn(msg, FutureWarning)\n",
      "C:\\Users\\Dell\\anaconda3\\lib\\site-packages\\seaborn\\distributions.py:2557: FutureWarning: `distplot` is a deprecated function and will be removed in a future version. Please adapt your code to use either `displot` (a figure-level function with similar flexibility) or `histplot` (an axes-level function for histograms).\n",
      "  warnings.warn(msg, FutureWarning)\n"
     ]
    },
    {
     "data": {
      "image/png": "[encoded data removed]",
      "text/plain": [
       "<Figure size 1440x1080 with 9 Axes>"
      ]
     },
     "metadata": {},
     "output_type": "display_data"
    }
   ],
   "source": [
    "num_cols = ['CCSProcedureCode',\n",
    "            'APRSeverityOfIllnessCode',\n",
    "            'BirthWeight',\n",
    "            'AverageCostInCounty',\n",
    "            'AverageChargesInCounty',\n",
    "            'AverageCostInFacility',\n",
    "            'AverageChargesInFacility',\n",
    "            'AverageIncomeInZipCode',\n",
    "            'LengthOfStay']\n",
    "\n",
    "# Call function\n",
    "displotsns(train_data[num_cols],3)"
   ]
  },
  {
   "cell_type": "markdown",
   "id": "signed-surrey",
   "metadata": {},
   "source": [
    "From the figures above, it can be seen that CSSProcedureCode is categorical and APRSeverityOfIllnessCode is ranked-order. Except for BirthWeight and AverageCostInFacility have the right-skewed shape, other attributes are quite fluctuated and not fully continious. In the LengthOfStay, the number of class 1 (more than 3 days) is expected to be highly lower in comparison with class 0."
   ]
  },
  {
   "cell_type": "markdown",
   "id": "emotional-advisory",
   "metadata": {},
   "source": [
    "### 3.3. Deep inspection to consider anomaly data point(s)"
   ]
  },
  {
   "cell_type": "code",
   "execution_count": 10,
   "id": "little-badge",
   "metadata": {
    "ExecuteTime": {
     "end_time": "2021-04-15T01:14:47.047693Z",
     "start_time": "2021-04-15T01:14:46.881900Z"
    },
    "scrolled": true
   },
   "outputs": [
    {
     "name": "stdout",
     "output_type": "stream",
     "text": [
      "Gender\n",
      "   Counts Percent\n",
      "M   30978  51.66%\n",
      "F   28987  48.34%\n",
      "U       1    0.0%\n",
      "--------------------------------\n",
      "Race\n",
      "                        Counts Percent\n",
      "White                    32943  54.94%\n",
      "Other Race               18314  30.54%\n",
      "Black/African American    8183  13.65%\n",
      "Multi-racial               526   0.88%\n",
      "--------------------------------\n",
      "TypeOfAdmission\n",
      "           Counts Percent\n",
      "Newborn     58741  97.96%\n",
      "Emergency     659    1.1%\n",
      "Urgent        412   0.69%\n",
      "Elective      154   0.26%\n",
      "--------------------------------\n",
      "CCSProcedureCode\n",
      "      Counts Percent\n",
      " 228   19886  33.16%\n",
      " 115   13628  22.73%\n",
      " 0     11189  18.66%\n",
      " 220   10773  17.97%\n",
      " 231    2981   4.97%\n",
      "-1       769   1.28%\n",
      " 216     740   1.23%\n",
      "--------------------------------\n",
      "APRSeverityOfIllnessCode\n",
      "   Counts Percent\n",
      "1   47953  79.97%\n",
      "2    8760  14.61%\n",
      "3    3252   5.42%\n",
      "4       1    0.0%\n",
      "--------------------------------\n",
      "PaymentTypology\n",
      "                           Counts Percent\n",
      "Medicaid                    28723   47.9%\n",
      "Private Health Insurance    15608  26.03%\n",
      "Blue Cross/Blue Shield      12073  20.13%\n",
      "Self-Pay                     1984   3.31%\n",
      "Federal/State/Local/VA        849   1.42%\n",
      "Managed Care, Unspecified     545   0.91%\n",
      "Miscellaneous/Other           118    0.2%\n",
      "Medicare                       44   0.07%\n",
      "Unknown                        22   0.04%\n",
      "--------------------------------\n",
      "BirthWeight\n",
      "      Counts Percent\n",
      "3200    5321   8.87%\n",
      "3300    5316   8.87%\n",
      "3400    5135   8.56%\n",
      "3100    4836   8.06%\n",
      "3500    4743   7.91%\n",
      "3000    4485   7.48%\n",
      "3600    4174   6.96%\n",
      "2900    3630   6.05%\n",
      "3700    3503   5.84%\n",
      "2800    3057    5.1%\n",
      "3800    2757    4.6%\n",
      "2700    2250   3.75%\n",
      "3900    2224   3.71%\n",
      "2600    1758   2.93%\n",
      "4000    1658   2.76%\n",
      "2500    1407   2.35%\n",
      "4100    1170   1.95%\n",
      "4200     847   1.41%\n",
      "4300     614   1.02%\n",
      "4400     373   0.62%\n",
      "4500     237    0.4%\n",
      "4600     169   0.28%\n",
      "4700     110   0.18%\n",
      "4800      65   0.11%\n",
      "4900      41   0.07%\n",
      "5000      31   0.05%\n",
      "5100      17   0.03%\n",
      "5200      10   0.02%\n",
      "5500       5   0.01%\n",
      "5600       3   0.01%\n",
      "5300       3   0.01%\n",
      "6000       3   0.01%\n",
      "6100       2    0.0%\n",
      "6400       2    0.0%\n",
      "5400       2    0.0%\n",
      "6500       2    0.0%\n",
      "5800       2    0.0%\n",
      "6900       1    0.0%\n",
      "6200       1    0.0%\n",
      "7500       1    0.0%\n",
      "6300       1    0.0%\n",
      "--------------------------------\n",
      "EmergencyDepartmentIndicator\n",
      "   Counts Percent\n",
      "N   59453  99.14%\n",
      "Y     513   0.86%\n",
      "--------------------------------\n",
      "AverageCostInCounty\n",
      "      Counts Percent\n",
      "3155   10362  17.28%\n",
      "2611    6786  11.32%\n",
      "2208    6091  10.16%\n",
      "2785    6011  10.02%\n",
      "2041    5732   9.56%\n",
      "1826    4750   7.92%\n",
      "3242    3412   5.69%\n",
      "2158    2846   4.75%\n",
      "1371    1981    3.3%\n",
      "2533    1458   2.43%\n",
      "1445    1033   1.72%\n",
      "994      976   1.63%\n",
      "2756     943   1.57%\n",
      "1304     913   1.52%\n",
      "2834     574   0.96%\n",
      "746      539    0.9%\n",
      "2653     495   0.83%\n",
      "2018     483   0.81%\n",
      "712      461   0.77%\n",
      "2209     458   0.76%\n",
      "1732     389   0.65%\n",
      "1439     385   0.64%\n",
      "1446     296   0.49%\n",
      "854      277   0.46%\n",
      "1018     260   0.43%\n",
      "1607     218   0.36%\n",
      "1742     212   0.35%\n",
      "1665     210   0.35%\n",
      "1860     208   0.35%\n",
      "1562     200   0.33%\n",
      "1511     195   0.33%\n",
      "1091     192   0.32%\n",
      "2508     179    0.3%\n",
      "2318     151   0.25%\n",
      "1352     123   0.21%\n",
      "2777      84   0.14%\n",
      "1996      83   0.14%\n",
      "--------------------------------\n",
      "AverageChargesInCounty\n",
      "       Counts Percent\n",
      "11381   10362  17.28%\n",
      "9227     6786  11.32%\n",
      "10134    6091  10.16%\n",
      "10644    6011  10.02%\n",
      "9917     5732   9.56%\n",
      "4190     4750   7.92%\n",
      "8966     3412   5.69%\n",
      "4620     2846   4.75%\n",
      "5463     1981    3.3%\n",
      "3320     1458   2.43%\n",
      "3419     1033   1.72%\n",
      "2141      976   1.63%\n",
      "6179      943   1.57%\n",
      "3264      913   1.52%\n",
      "8172      574   0.96%\n",
      "1243      539    0.9%\n",
      "2630      495   0.83%\n",
      "3610      483   0.81%\n",
      "1775      461   0.77%\n",
      "3482      458   0.76%\n",
      "5057      389   0.65%\n",
      "1734      385   0.64%\n",
      "5491      296   0.49%\n",
      "1516      277   0.46%\n",
      "2685      260   0.43%\n",
      "2907      218   0.36%\n",
      "2179      212   0.35%\n",
      "2096      210   0.35%\n",
      "2846      208   0.35%\n",
      "3635      200   0.33%\n",
      "3519      195   0.33%\n",
      "2795      192   0.32%\n",
      "2140      179    0.3%\n",
      "1857      151   0.25%\n",
      "2910      123   0.21%\n",
      "1587       84   0.14%\n",
      "2611       83   0.14%\n",
      "--------------------------------\n",
      "AverageCostInFacility\n",
      "      Counts Percent\n",
      "1686    3752   6.26%\n",
      "1751    2083   3.47%\n",
      "2562    1970   3.29%\n",
      "1374    1784   2.98%\n",
      "3032    1730   2.88%\n",
      "...      ...     ...\n",
      "2777      84   0.14%\n",
      "1996      83   0.14%\n",
      "3280      28   0.05%\n",
      "4071      26   0.04%\n",
      "8114       1    0.0%\n",
      "\n",
      "[99 rows x 2 columns]\n",
      "--------------------------------\n",
      "AverageChargesInFacility\n",
      "       Counts Percent\n",
      "7945     2279    3.8%\n",
      "8951     2083   3.47%\n",
      "13341    1970   3.29%\n",
      "13345    1784   2.98%\n",
      "10135    1730   2.88%\n",
      "...       ...     ...\n",
      "1587       84   0.14%\n",
      "2611       83   0.14%\n",
      "8913       28   0.05%\n",
      "13043      26   0.04%\n",
      "18466       1    0.0%\n",
      "\n",
      "[100 rows x 2 columns]\n",
      "--------------------------------\n",
      "AverageIncomeInZipCode\n",
      "     Counts Percent\n",
      "45    10961  18.28%\n",
      "96     6538   10.9%\n",
      "59     6355   10.6%\n",
      "34     4552   7.59%\n",
      "74     4375    7.3%\n",
      "36     3278   5.47%\n",
      "104    3027   5.05%\n",
      "58     2675   4.46%\n",
      "43     1944   3.24%\n",
      "41     1884   3.14%\n",
      "55     1690   2.82%\n",
      "56     1597   2.66%\n",
      "52     1568   2.61%\n",
      "48     1148   1.91%\n",
      "77     1102   1.84%\n",
      "57     1090   1.82%\n",
      "68      957    1.6%\n",
      "44      768   1.28%\n",
      "99      731   1.22%\n",
      "47      718    1.2%\n",
      "53      689   1.15%\n",
      "64      477    0.8%\n",
      "46      427   0.71%\n",
      "28      272   0.45%\n",
      "83      264   0.44%\n",
      "103     234   0.39%\n",
      "84      158   0.26%\n",
      "115     145   0.24%\n",
      "50      109   0.18%\n",
      "81      100   0.17%\n",
      "54       91   0.15%\n",
      "95       37   0.06%\n",
      "49        5   0.01%\n",
      "--------------------------------\n",
      "LengthOfStay\n",
      "    Counts Percent\n",
      "2    25000  41.69%\n",
      "3    16000  26.68%\n",
      "1     8895  14.83%\n",
      "4     7504  12.51%\n",
      "5     1342   2.24%\n",
      "6      557   0.93%\n",
      "7      346   0.58%\n",
      "8      145   0.24%\n",
      "9       97   0.16%\n",
      "10      80   0.13%\n",
      "--------------------------------\n"
     ]
    }
   ],
   "source": [
    "for col in train_data.columns:\n",
    "    print(col)\n",
    "    count = train_data[col].value_counts()\n",
    "    percent = train_data[col].value_counts(normalize=True).mul(100).round(2).astype(str) + '%'\n",
    "    print(pd.DataFrame({'Counts': count, 'Percent': percent}))\n",
    "    print('--------------------------------')"
   ]
  },
  {
   "cell_type": "markdown",
   "id": "provincial-landing",
   "metadata": {},
   "source": [
    "* In Gender, “Unknown” gender can be considered as an outliner (only appears once). Gender is categorical data so we can drop “U” column after encoding.\n",
    "\n",
    "* In TypeOfSubmission, “Trauma” and “Not Available” haven’t been seen.\n",
    "\n",
    "* In CCSProcedureCode, -1 may imply something wrong (missing value), but with 1.28%, we will treat it as categorical data.\n",
    "\n",
    "* In APRSeverityOfIllnessCode, 4 can be considered as an outliner (only appears once). But it’s rank data (from Minor (1) to Extreme (4)), we can’t drop or transform any row."
   ]
  },
  {
   "cell_type": "markdown",
   "id": "formal-graphic",
   "metadata": {},
   "source": [
    "### 3.2. Convert LoS to binary targets"
   ]
  },
  {
   "cell_type": "code",
   "execution_count": 11,
   "id": "raised-instrument",
   "metadata": {
    "ExecuteTime": {
     "end_time": "2021-04-15T01:14:47.108294Z",
     "start_time": "2021-04-15T01:14:47.051528Z"
    }
   },
   "outputs": [
    {
     "data": {
      "text/plain": [
       "0    49895\n",
       "1    10071\n",
       "Name: LengthOfStay, dtype: int64"
      ]
     },
     "execution_count": 11,
     "metadata": {},
     "output_type": "execute_result"
    }
   ],
   "source": [
    "# Class 0 is less than 3 days and 1 otherwise\n",
    "train_data['LengthOfStay'] = train_data['LengthOfStay'].apply(lambda x: 0 if int(x) <= 3 else 1)\n",
    "train_data['LengthOfStay'].value_counts()"
   ]
  },
  {
   "cell_type": "code",
   "execution_count": 12,
   "id": "empty-saudi",
   "metadata": {
    "ExecuteTime": {
     "end_time": "2021-04-15T01:14:47.276929Z",
     "start_time": "2021-04-15T01:14:47.110289Z"
    }
   },
   "outputs": [
    {
     "name": "stderr",
     "output_type": "stream",
     "text": [
      "C:\\Users\\Dell\\anaconda3\\lib\\site-packages\\seaborn\\_decorators.py:36: FutureWarning: Pass the following variable as a keyword arg: x. From version 0.12, the only valid positional argument will be `data`, and passing other arguments without an explicit keyword will result in an error or misinterpretation.\n",
      "  warnings.warn(\n"
     ]
    },
    {
     "data": {
      "image/png": "[encoded data removed]",
      "text/plain": [
       "<Figure size 432x288 with 1 Axes>"
      ]
     },
     "metadata": {},
     "output_type": "display_data"
    }
   ],
   "source": [
    "# Countplot the transform value\n",
    "sns.countplot(train_data['LengthOfStay'], palette='Set1')\n",
    "plt.xlabel('Class')\n",
    "plt.ylabel('Number of records')\n",
    "plt.show()"
   ]
  },
  {
   "cell_type": "markdown",
   "id": "welcome-vinyl",
   "metadata": {},
   "source": [
    "=> The ratio is 1/5 and can be considered as quite unbalance dataset. In-depth metrics (such as precision, recall, and F1 score) should be cover more than just rely on accuracy score"
   ]
  },
  {
   "cell_type": "markdown",
   "id": "other-chassis",
   "metadata": {},
   "source": [
    "### 3.3 Plot the attributes of class 0 and 1"
   ]
  },
  {
   "cell_type": "code",
   "execution_count": 13,
   "id": "victorian-weekend",
   "metadata": {
    "ExecuteTime": {
     "end_time": "2021-04-15T01:14:47.292802Z",
     "start_time": "2021-04-15T01:14:47.277841Z"
    }
   },
   "outputs": [],
   "source": [
    "# Draw the histogram for class 0 and 1\n",
    "def Facet_Grid_sns(df):\n",
    "    for c in df.columns:\n",
    "        g = sns.FacetGrid(df, col='LengthOfStay',height =4, aspect = 2)\n",
    "        g.map(plt.hist, str(c) ,bins=20)\n",
    "        g.set_axis_labels(c, \"Count\")"
   ]
  },
  {
   "cell_type": "code",
   "execution_count": 14,
   "id": "further-chicken",
   "metadata": {
    "ExecuteTime": {
     "end_time": "2021-04-15T01:14:55.031117Z",
     "start_time": "2021-04-15T01:14:47.294796Z"
    },
    "scrolled": false
   },
   "outputs": [
    {
     "data": {
      "image/png": "[encoded data removed]",
      "text/plain": [
       "<Figure size 1152x288 with 2 Axes>"
      ]
     },
     "metadata": {},
     "output_type": "display_data"
    },
    {
     "data": {
      "image/png": "[encoded data removed]",
      "text/plain": [
       "<Figure size 1152x288 with 2 Axes>"
      ]
     },
     "metadata": {},
     "output_type": "display_data"
    },
    {
     "data": {
      "image/png": "[encoded data removed]",
      "text/plain": [
       "<Figure size 1152x288 with 2 Axes>"
      ]
     },
     "metadata": {},
     "output_type": "display_data"
    },
    {
     "data": {
      "image/png": "[encoded data removed]",
      "text/plain": [
       "<Figure size 1152x288 with 2 Axes>"
      ]
     },
     "metadata": {},
     "output_type": "display_data"
    },
    {
     "data": {
      "image/png": "[encoded data removed]",
      "text/plain": [
       "<Figure size 1152x288 with 2 Axes>"
      ]
     },
     "metadata": {},
     "output_type": "display_data"
    },
    {
     "data": {
      "image/png": "[encoded data removed]",
      "text/plain": [
       "<Figure size 1152x288 with 2 Axes>"
      ]
     },
     "metadata": {},
     "output_type": "display_data"
    },
    {
     "data": {
      "image/png": "[encoded data removed]",
      "text/plain": [
       "<Figure size 1152x288 with 2 Axes>"
      ]
     },
     "metadata": {},
     "output_type": "display_data"
    },
    {
     "data": {
      "image/png": "[encoded data removed]",
      "text/plain": [
       "<Figure size 1152x288 with 2 Axes>"
      ]
     },
     "metadata": {},
     "output_type": "display_data"
    },
    {
     "data": {
      "image/png": "[encoded data removed]",
      "text/plain": [
       "<Figure size 1152x288 with 2 Axes>"
      ]
     },
     "metadata": {},
     "output_type": "display_data"
    },
    {
     "data": {
      "image/png": "[encoded data removed]",
      "text/plain": [
       "<Figure size 1152x288 with 2 Axes>"
      ]
     },
     "metadata": {},
     "output_type": "display_data"
    },
    {
     "data": {
      "image/png": "[encoded data removed]",
      "text/plain": [
       "<Figure size 1152x288 with 2 Axes>"
      ]
     },
     "metadata": {},
     "output_type": "display_data"
    },
    {
     "data": {
      "image/png": "[encoded data removed]",
      "text/plain": [
       "<Figure size 1152x288 with 2 Axes>"
      ]
     },
     "metadata": {},
     "output_type": "display_data"
    },
    {
     "data": {
      "image/png": "[encoded data removed]",
      "text/plain": [
       "<Figure size 1152x288 with 2 Axes>"
      ]
     },
     "metadata": {},
     "output_type": "display_data"
    },
    {
     "data": {
      "image/png": "[encoded data removed]",
      "text/plain": [
       "<Figure size 1152x288 with 2 Axes>"
      ]
     },
     "metadata": {},
     "output_type": "display_data"
    }
   ],
   "source": [
    "Facet_Grid_sns(train_data)"
   ]
  },
  {
   "cell_type": "markdown",
   "id": "trying-victor",
   "metadata": {},
   "source": [
    "* Gender ratio is equal in classification\n",
    "* Some attributes such as white race, new born admission type, and 228 CSS code tend to have more chance to be indentified as class 1\n",
    "* The BirthWeight between 3000g and 4000g are the majority in both class 0 and 1\n",
    "* The distribution of numerical value between class 0 and 1 seem to be similar, but in class 1 there are usually less than 2000 count for the highest values. "
   ]
  },
  {
   "cell_type": "markdown",
   "id": "sorted-patio",
   "metadata": {},
   "source": [
    "## 4. Data preparation"
   ]
  },
  {
   "cell_type": "markdown",
   "id": "apparent-synthesis",
   "metadata": {},
   "source": [
    "### 3.2 Split into X and y"
   ]
  },
  {
   "cell_type": "code",
   "execution_count": 15,
   "id": "chronic-soldier",
   "metadata": {
    "ExecuteTime": {
     "end_time": "2021-04-15T01:14:55.045079Z",
     "start_time": "2021-04-15T01:14:55.033142Z"
    }
   },
   "outputs": [],
   "source": [
    "X = train_data.drop('LengthOfStay', axis=1)\n",
    "y = train_data['LengthOfStay']"
   ]
  },
  {
   "cell_type": "markdown",
   "id": "alpha-former",
   "metadata": {},
   "source": [
    "### 4.1.  Encode norminal data"
   ]
  },
  {
   "cell_type": "code",
   "execution_count": 16,
   "id": "adaptive-remedy",
   "metadata": {
    "ExecuteTime": {
     "end_time": "2021-04-15T01:14:55.214626Z",
     "start_time": "2021-04-15T01:14:55.048072Z"
    },
    "scrolled": true
   },
   "outputs": [
    {
     "data": {
      "text/plain": [
       "Index([    'APRSeverityOfIllnessCode',                  'BirthWeight',\n",
       "       'EmergencyDepartmentIndicator',          'AverageCostInCounty',\n",
       "             'AverageChargesInCounty',        'AverageCostInFacility',\n",
       "           'AverageChargesInFacility',       'AverageIncomeInZipCode',\n",
       "                                  'F',                            'M',\n",
       "                                  'U',       'Black/African American',\n",
       "                       'Multi-racial',                   'Other Race',\n",
       "                              'White',                     'Elective',\n",
       "                          'Emergency',                      'Newborn',\n",
       "                             'Urgent',                             -1,\n",
       "                                    0,                            115,\n",
       "                                  216,                            220,\n",
       "                                  228,                            231,\n",
       "             'Blue Cross/Blue Shield',       'Federal/State/Local/VA',\n",
       "          'Managed Care, Unspecified',                     'Medicaid',\n",
       "                           'Medicare',          'Miscellaneous/Other',\n",
       "           'Private Health Insurance',                     'Self-Pay',\n",
       "                            'Unknown'],\n",
       "      dtype='object')"
      ]
     },
     "execution_count": 16,
     "metadata": {},
     "output_type": "execute_result"
    }
   ],
   "source": [
    "# Make a copy of X to prevent data lost if choose the wrong way\n",
    "X_copy = X.copy()\n",
    "\n",
    "# Determine norminal (categorical) data\n",
    "encode_col = ['Gender', \n",
    "              'Race',\n",
    "              'TypeOfAdmission', \n",
    "              'CCSProcedureCode',\n",
    "              'PaymentTypology']\n",
    "\n",
    "# Dummy encode process\n",
    "for col in encode_col:\n",
    "    dummy = pd.get_dummies(X_copy[col])  # Extract the labels\n",
    "    X_copy = pd.concat([X_copy, dummy], axis=1)  # Append the encoded label to X \n",
    "    X_copy = X_copy.drop(col, axis=1)  # Drop the initial column after encode\n",
    "\n",
    "# Check X_copy\n",
    "X_copy.columns"
   ]
  },
  {
   "cell_type": "markdown",
   "id": "exclusive-technical",
   "metadata": {},
   "source": [
    "### 4.2. Drop outliner encoded-columns"
   ]
  },
  {
   "cell_type": "markdown",
   "id": "retained-addiction",
   "metadata": {},
   "source": [
    "The more attributes, the more complexity for our model. The \"EmergencyDepartmentIndicator\" can be converted to binary to minimize 1 column. We can also drop the \"U\" gender as afroidmentioned."
   ]
  },
  {
   "cell_type": "code",
   "execution_count": 17,
   "id": "generic-missouri",
   "metadata": {
    "ExecuteTime": {
     "end_time": "2021-04-15T01:14:55.260598Z",
     "start_time": "2021-04-15T01:14:55.216620Z"
    }
   },
   "outputs": [],
   "source": [
    "# Convert Yes-No to binary 1-0 \n",
    "X_copy['EmergencyDepartmentIndicator'] = X_copy['EmergencyDepartmentIndicator'].apply(lambda x: 1 if x == \"Y\" else 0)\n",
    "\n",
    "# Drop encoded-columns\n",
    "X_copy.drop(columns = ['U'],inplace = True)"
   ]
  },
  {
   "cell_type": "code",
   "execution_count": 18,
   "id": "centered-rochester",
   "metadata": {
    "ExecuteTime": {
     "end_time": "2021-04-15T01:14:55.276545Z",
     "start_time": "2021-04-15T01:14:55.264492Z"
    }
   },
   "outputs": [
    {
     "data": {
      "text/plain": [
       "(59966, 34)"
      ]
     },
     "execution_count": 18,
     "metadata": {},
     "output_type": "execute_result"
    }
   ],
   "source": [
    "X_copy.shape"
   ]
  },
  {
   "cell_type": "markdown",
   "id": "dried-rebecca",
   "metadata": {},
   "source": [
    "### 4.1 Plot heatmap for correlations (encoded data)"
   ]
  },
  {
   "cell_type": "code",
   "execution_count": 19,
   "id": "desirable-affiliation",
   "metadata": {
    "ExecuteTime": {
     "end_time": "2021-04-15T01:14:57.546534Z",
     "start_time": "2021-04-15T01:14:55.280450Z"
    },
    "scrolled": true
   },
   "outputs": [
    {
     "data": {
      "text/plain": [
       "<AxesSubplot:>"
      ]
     },
     "execution_count": 19,
     "metadata": {},
     "output_type": "execute_result"
    },
    {
     "data": {
      "image/png": "[encoded data removed]",
      "text/plain": [
       "<Figure size 1080x1080 with 2 Axes>"
      ]
     },
     "metadata": {},
     "output_type": "display_data"
    }
   ],
   "source": [
    "# Inspect correlation\n",
    "tmp = pd.concat([X_copy, y], axis=1)  # Create a temporary dataframe to join X and y\n",
    "correlations = tmp.corr()  # Compute correlation between attributes\n",
    "fig, ax = plt.subplots(figsize=(15,15))   # Figure size innitialize\n",
    "\n",
    "sns.heatmap(correlations, ax = ax, cmap ='mako')  # Draw heatmap"
   ]
  },
  {
   "cell_type": "markdown",
   "id": "advised-theology",
   "metadata": {},
   "source": [
    "For the \"LengthOfStay\" in the last row, it seems like there are not so much feature attributes that affect the classification. The average cost and income seems to have strong correlations, but in this problem we're not allow to perform feature engineering so just leave it there."
   ]
  },
  {
   "cell_type": "markdown",
   "id": "suspected-algebra",
   "metadata": {},
   "source": [
    "## 5. Split data into training and testing set"
   ]
  },
  {
   "cell_type": "markdown",
   "id": "offshore-democracy",
   "metadata": {},
   "source": [
    "### 5.1 Split dataset"
   ]
  },
  {
   "cell_type": "code",
   "execution_count": 20,
   "id": "naughty-nelson",
   "metadata": {
    "ExecuteTime": {
     "end_time": "2021-04-15T01:14:58.147674Z",
     "start_time": "2021-04-15T01:14:57.576420Z"
    }
   },
   "outputs": [
    {
     "name": "stdout",
     "output_type": "stream",
     "text": [
      "(44974, 34)\n",
      "(14992, 34)\n",
      "(44974,)\n",
      "(14992,)\n"
     ]
    }
   ],
   "source": [
    "from sklearn.model_selection import train_test_split\n",
    "\n",
    "X_train, X_test, y_train, y_test = train_test_split(X_copy, y, \n",
    "                                                    test_size=0.25, \n",
    "                                                    random_state = 2, \n",
    "                                                    stratify = y)\n",
    "\n",
    "print(X_train.shape)\n",
    "print(X_test.shape)\n",
    "print(y_train.shape)\n",
    "print(y_test.shape)"
   ]
  },
  {
   "cell_type": "markdown",
   "id": "excess-sandwich",
   "metadata": {},
   "source": [
    "<font color=red> **Parameters:** </font>\n",
    "\n",
    "<font color=green>test_size </font> = 0.25: Personal preference\n",
    "\n",
    "<font color=green>random_state </font> = 2: Using an int will produce the same results across different calls \n",
    "\n",
    "<font color=green>stratify </font> = y: Ensure the random split ratio of 0 and 1 in train and test "
   ]
  },
  {
   "cell_type": "code",
   "execution_count": 21,
   "id": "automatic-prophet",
   "metadata": {
    "ExecuteTime": {
     "end_time": "2021-04-15T01:14:58.194459Z",
     "start_time": "2021-04-15T01:14:58.150576Z"
    }
   },
   "outputs": [
    {
     "data": {
      "text/html": [
       "<div>\n",
       "<style scoped>\n",
       "    .dataframe tbody tr th:only-of-type {\n",
       "        vertical-align: middle;\n",
       "    }\n",
       "\n",
       "    .dataframe tbody tr th {\n",
       "        vertical-align: top;\n",
       "    }\n",
       "\n",
       "    .dataframe thead th {\n",
       "        text-align: right;\n",
       "    }\n",
       "</style>\n",
       "<table border=\"1\" class=\"dataframe\">\n",
       "  <thead>\n",
       "    <tr style=\"text-align: right;\">\n",
       "      <th></th>\n",
       "      <th>APRSeverityOfIllnessCode</th>\n",
       "      <th>BirthWeight</th>\n",
       "      <th>EmergencyDepartmentIndicator</th>\n",
       "      <th>AverageCostInCounty</th>\n",
       "      <th>AverageChargesInCounty</th>\n",
       "      <th>AverageCostInFacility</th>\n",
       "      <th>AverageChargesInFacility</th>\n",
       "      <th>AverageIncomeInZipCode</th>\n",
       "      <th>F</th>\n",
       "      <th>M</th>\n",
       "      <th>Black/African American</th>\n",
       "      <th>Multi-racial</th>\n",
       "      <th>Other Race</th>\n",
       "      <th>White</th>\n",
       "      <th>Elective</th>\n",
       "      <th>Emergency</th>\n",
       "      <th>Newborn</th>\n",
       "      <th>Urgent</th>\n",
       "      <th>-1</th>\n",
       "      <th>0</th>\n",
       "      <th>115</th>\n",
       "      <th>216</th>\n",
       "      <th>220</th>\n",
       "      <th>228</th>\n",
       "      <th>231</th>\n",
       "      <th>Blue Cross/Blue Shield</th>\n",
       "      <th>Federal/State/Local/VA</th>\n",
       "      <th>Managed Care, Unspecified</th>\n",
       "      <th>Medicaid</th>\n",
       "      <th>Medicare</th>\n",
       "      <th>Miscellaneous/Other</th>\n",
       "      <th>Private Health Insurance</th>\n",
       "      <th>Self-Pay</th>\n",
       "      <th>Unknown</th>\n",
       "    </tr>\n",
       "  </thead>\n",
       "  <tbody>\n",
       "    <tr>\n",
       "      <th>30691</th>\n",
       "      <td>3</td>\n",
       "      <td>2600</td>\n",
       "      <td>0</td>\n",
       "      <td>3155</td>\n",
       "      <td>11381</td>\n",
       "      <td>2895</td>\n",
       "      <td>13394</td>\n",
       "      <td>45</td>\n",
       "      <td>1</td>\n",
       "      <td>0</td>\n",
       "      <td>0</td>\n",
       "      <td>0</td>\n",
       "      <td>0</td>\n",
       "      <td>1</td>\n",
       "      <td>0</td>\n",
       "      <td>0</td>\n",
       "      <td>1</td>\n",
       "      <td>0</td>\n",
       "      <td>0</td>\n",
       "      <td>0</td>\n",
       "      <td>0</td>\n",
       "      <td>0</td>\n",
       "      <td>0</td>\n",
       "      <td>1</td>\n",
       "      <td>0</td>\n",
       "      <td>0</td>\n",
       "      <td>0</td>\n",
       "      <td>0</td>\n",
       "      <td>1</td>\n",
       "      <td>0</td>\n",
       "      <td>0</td>\n",
       "      <td>0</td>\n",
       "      <td>0</td>\n",
       "      <td>0</td>\n",
       "    </tr>\n",
       "    <tr>\n",
       "      <th>50762</th>\n",
       "      <td>1</td>\n",
       "      <td>3900</td>\n",
       "      <td>0</td>\n",
       "      <td>2611</td>\n",
       "      <td>9227</td>\n",
       "      <td>3790</td>\n",
       "      <td>6250</td>\n",
       "      <td>45</td>\n",
       "      <td>1</td>\n",
       "      <td>0</td>\n",
       "      <td>1</td>\n",
       "      <td>0</td>\n",
       "      <td>0</td>\n",
       "      <td>0</td>\n",
       "      <td>0</td>\n",
       "      <td>0</td>\n",
       "      <td>1</td>\n",
       "      <td>0</td>\n",
       "      <td>0</td>\n",
       "      <td>1</td>\n",
       "      <td>0</td>\n",
       "      <td>0</td>\n",
       "      <td>0</td>\n",
       "      <td>0</td>\n",
       "      <td>0</td>\n",
       "      <td>0</td>\n",
       "      <td>0</td>\n",
       "      <td>0</td>\n",
       "      <td>1</td>\n",
       "      <td>0</td>\n",
       "      <td>0</td>\n",
       "      <td>0</td>\n",
       "      <td>0</td>\n",
       "      <td>0</td>\n",
       "    </tr>\n",
       "    <tr>\n",
       "      <th>29845</th>\n",
       "      <td>2</td>\n",
       "      <td>2700</td>\n",
       "      <td>0</td>\n",
       "      <td>1860</td>\n",
       "      <td>2846</td>\n",
       "      <td>1860</td>\n",
       "      <td>2846</td>\n",
       "      <td>53</td>\n",
       "      <td>1</td>\n",
       "      <td>0</td>\n",
       "      <td>0</td>\n",
       "      <td>0</td>\n",
       "      <td>0</td>\n",
       "      <td>1</td>\n",
       "      <td>0</td>\n",
       "      <td>0</td>\n",
       "      <td>1</td>\n",
       "      <td>0</td>\n",
       "      <td>0</td>\n",
       "      <td>0</td>\n",
       "      <td>0</td>\n",
       "      <td>0</td>\n",
       "      <td>0</td>\n",
       "      <td>1</td>\n",
       "      <td>0</td>\n",
       "      <td>1</td>\n",
       "      <td>0</td>\n",
       "      <td>0</td>\n",
       "      <td>0</td>\n",
       "      <td>0</td>\n",
       "      <td>0</td>\n",
       "      <td>0</td>\n",
       "      <td>0</td>\n",
       "      <td>0</td>\n",
       "    </tr>\n",
       "    <tr>\n",
       "      <th>21852</th>\n",
       "      <td>1</td>\n",
       "      <td>2600</td>\n",
       "      <td>0</td>\n",
       "      <td>2018</td>\n",
       "      <td>3610</td>\n",
       "      <td>2018</td>\n",
       "      <td>3610</td>\n",
       "      <td>52</td>\n",
       "      <td>0</td>\n",
       "      <td>1</td>\n",
       "      <td>0</td>\n",
       "      <td>0</td>\n",
       "      <td>1</td>\n",
       "      <td>0</td>\n",
       "      <td>0</td>\n",
       "      <td>0</td>\n",
       "      <td>1</td>\n",
       "      <td>0</td>\n",
       "      <td>0</td>\n",
       "      <td>0</td>\n",
       "      <td>1</td>\n",
       "      <td>0</td>\n",
       "      <td>0</td>\n",
       "      <td>0</td>\n",
       "      <td>0</td>\n",
       "      <td>1</td>\n",
       "      <td>0</td>\n",
       "      <td>0</td>\n",
       "      <td>0</td>\n",
       "      <td>0</td>\n",
       "      <td>0</td>\n",
       "      <td>0</td>\n",
       "      <td>0</td>\n",
       "      <td>0</td>\n",
       "    </tr>\n",
       "    <tr>\n",
       "      <th>8701</th>\n",
       "      <td>1</td>\n",
       "      <td>3400</td>\n",
       "      <td>0</td>\n",
       "      <td>2777</td>\n",
       "      <td>1587</td>\n",
       "      <td>2777</td>\n",
       "      <td>1587</td>\n",
       "      <td>54</td>\n",
       "      <td>0</td>\n",
       "      <td>1</td>\n",
       "      <td>0</td>\n",
       "      <td>0</td>\n",
       "      <td>0</td>\n",
       "      <td>1</td>\n",
       "      <td>0</td>\n",
       "      <td>0</td>\n",
       "      <td>1</td>\n",
       "      <td>0</td>\n",
       "      <td>0</td>\n",
       "      <td>0</td>\n",
       "      <td>1</td>\n",
       "      <td>0</td>\n",
       "      <td>0</td>\n",
       "      <td>0</td>\n",
       "      <td>0</td>\n",
       "      <td>0</td>\n",
       "      <td>0</td>\n",
       "      <td>0</td>\n",
       "      <td>1</td>\n",
       "      <td>0</td>\n",
       "      <td>0</td>\n",
       "      <td>0</td>\n",
       "      <td>0</td>\n",
       "      <td>0</td>\n",
       "    </tr>\n",
       "    <tr>\n",
       "      <th>...</th>\n",
       "      <td>...</td>\n",
       "      <td>...</td>\n",
       "      <td>...</td>\n",
       "      <td>...</td>\n",
       "      <td>...</td>\n",
       "      <td>...</td>\n",
       "      <td>...</td>\n",
       "      <td>...</td>\n",
       "      <td>...</td>\n",
       "      <td>...</td>\n",
       "      <td>...</td>\n",
       "      <td>...</td>\n",
       "      <td>...</td>\n",
       "      <td>...</td>\n",
       "      <td>...</td>\n",
       "      <td>...</td>\n",
       "      <td>...</td>\n",
       "      <td>...</td>\n",
       "      <td>...</td>\n",
       "      <td>...</td>\n",
       "      <td>...</td>\n",
       "      <td>...</td>\n",
       "      <td>...</td>\n",
       "      <td>...</td>\n",
       "      <td>...</td>\n",
       "      <td>...</td>\n",
       "      <td>...</td>\n",
       "      <td>...</td>\n",
       "      <td>...</td>\n",
       "      <td>...</td>\n",
       "      <td>...</td>\n",
       "      <td>...</td>\n",
       "      <td>...</td>\n",
       "      <td>...</td>\n",
       "    </tr>\n",
       "    <tr>\n",
       "      <th>11936</th>\n",
       "      <td>1</td>\n",
       "      <td>2600</td>\n",
       "      <td>0</td>\n",
       "      <td>3155</td>\n",
       "      <td>11381</td>\n",
       "      <td>3032</td>\n",
       "      <td>10135</td>\n",
       "      <td>115</td>\n",
       "      <td>1</td>\n",
       "      <td>0</td>\n",
       "      <td>0</td>\n",
       "      <td>0</td>\n",
       "      <td>0</td>\n",
       "      <td>1</td>\n",
       "      <td>0</td>\n",
       "      <td>0</td>\n",
       "      <td>1</td>\n",
       "      <td>0</td>\n",
       "      <td>0</td>\n",
       "      <td>0</td>\n",
       "      <td>0</td>\n",
       "      <td>0</td>\n",
       "      <td>1</td>\n",
       "      <td>0</td>\n",
       "      <td>0</td>\n",
       "      <td>0</td>\n",
       "      <td>0</td>\n",
       "      <td>0</td>\n",
       "      <td>0</td>\n",
       "      <td>0</td>\n",
       "      <td>0</td>\n",
       "      <td>1</td>\n",
       "      <td>0</td>\n",
       "      <td>0</td>\n",
       "    </tr>\n",
       "    <tr>\n",
       "      <th>34101</th>\n",
       "      <td>1</td>\n",
       "      <td>3500</td>\n",
       "      <td>0</td>\n",
       "      <td>1445</td>\n",
       "      <td>3419</td>\n",
       "      <td>1691</td>\n",
       "      <td>3761</td>\n",
       "      <td>36</td>\n",
       "      <td>0</td>\n",
       "      <td>1</td>\n",
       "      <td>0</td>\n",
       "      <td>0</td>\n",
       "      <td>0</td>\n",
       "      <td>1</td>\n",
       "      <td>0</td>\n",
       "      <td>0</td>\n",
       "      <td>1</td>\n",
       "      <td>0</td>\n",
       "      <td>0</td>\n",
       "      <td>0</td>\n",
       "      <td>1</td>\n",
       "      <td>0</td>\n",
       "      <td>0</td>\n",
       "      <td>0</td>\n",
       "      <td>0</td>\n",
       "      <td>0</td>\n",
       "      <td>0</td>\n",
       "      <td>0</td>\n",
       "      <td>1</td>\n",
       "      <td>0</td>\n",
       "      <td>0</td>\n",
       "      <td>0</td>\n",
       "      <td>0</td>\n",
       "      <td>0</td>\n",
       "    </tr>\n",
       "    <tr>\n",
       "      <th>11723</th>\n",
       "      <td>1</td>\n",
       "      <td>3600</td>\n",
       "      <td>0</td>\n",
       "      <td>1826</td>\n",
       "      <td>4190</td>\n",
       "      <td>1459</td>\n",
       "      <td>3505</td>\n",
       "      <td>55</td>\n",
       "      <td>0</td>\n",
       "      <td>1</td>\n",
       "      <td>0</td>\n",
       "      <td>0</td>\n",
       "      <td>1</td>\n",
       "      <td>0</td>\n",
       "      <td>0</td>\n",
       "      <td>0</td>\n",
       "      <td>1</td>\n",
       "      <td>0</td>\n",
       "      <td>0</td>\n",
       "      <td>0</td>\n",
       "      <td>0</td>\n",
       "      <td>0</td>\n",
       "      <td>0</td>\n",
       "      <td>1</td>\n",
       "      <td>0</td>\n",
       "      <td>0</td>\n",
       "      <td>0</td>\n",
       "      <td>0</td>\n",
       "      <td>1</td>\n",
       "      <td>0</td>\n",
       "      <td>0</td>\n",
       "      <td>0</td>\n",
       "      <td>0</td>\n",
       "      <td>0</td>\n",
       "    </tr>\n",
       "    <tr>\n",
       "      <th>1274</th>\n",
       "      <td>1</td>\n",
       "      <td>3000</td>\n",
       "      <td>0</td>\n",
       "      <td>3155</td>\n",
       "      <td>11381</td>\n",
       "      <td>3032</td>\n",
       "      <td>10135</td>\n",
       "      <td>84</td>\n",
       "      <td>0</td>\n",
       "      <td>1</td>\n",
       "      <td>0</td>\n",
       "      <td>0</td>\n",
       "      <td>0</td>\n",
       "      <td>1</td>\n",
       "      <td>0</td>\n",
       "      <td>0</td>\n",
       "      <td>1</td>\n",
       "      <td>0</td>\n",
       "      <td>0</td>\n",
       "      <td>0</td>\n",
       "      <td>1</td>\n",
       "      <td>0</td>\n",
       "      <td>0</td>\n",
       "      <td>0</td>\n",
       "      <td>0</td>\n",
       "      <td>1</td>\n",
       "      <td>0</td>\n",
       "      <td>0</td>\n",
       "      <td>0</td>\n",
       "      <td>0</td>\n",
       "      <td>0</td>\n",
       "      <td>0</td>\n",
       "      <td>0</td>\n",
       "      <td>0</td>\n",
       "    </tr>\n",
       "    <tr>\n",
       "      <th>43632</th>\n",
       "      <td>2</td>\n",
       "      <td>4000</td>\n",
       "      <td>0</td>\n",
       "      <td>2041</td>\n",
       "      <td>9917</td>\n",
       "      <td>1605</td>\n",
       "      <td>12083</td>\n",
       "      <td>59</td>\n",
       "      <td>0</td>\n",
       "      <td>1</td>\n",
       "      <td>0</td>\n",
       "      <td>0</td>\n",
       "      <td>1</td>\n",
       "      <td>0</td>\n",
       "      <td>0</td>\n",
       "      <td>0</td>\n",
       "      <td>1</td>\n",
       "      <td>0</td>\n",
       "      <td>1</td>\n",
       "      <td>0</td>\n",
       "      <td>0</td>\n",
       "      <td>0</td>\n",
       "      <td>0</td>\n",
       "      <td>0</td>\n",
       "      <td>0</td>\n",
       "      <td>0</td>\n",
       "      <td>0</td>\n",
       "      <td>0</td>\n",
       "      <td>1</td>\n",
       "      <td>0</td>\n",
       "      <td>0</td>\n",
       "      <td>0</td>\n",
       "      <td>0</td>\n",
       "      <td>0</td>\n",
       "    </tr>\n",
       "  </tbody>\n",
       "</table>\n",
       "<p>44974 rows × 34 columns</p>\n",
       "</div>"
      ],
      "text/plain": [
       "       APRSeverityOfIllnessCode  BirthWeight  EmergencyDepartmentIndicator  \\\n",
       "30691                         3         2600                             0   \n",
       "50762                         1         3900                             0   \n",
       "29845                         2         2700                             0   \n",
       "21852                         1         2600                             0   \n",
       "8701                          1         3400                             0   \n",
       "...                         ...          ...                           ...   \n",
       "11936                         1         2600                             0   \n",
       "34101                         1         3500                             0   \n",
       "11723                         1         3600                             0   \n",
       "1274                          1         3000                             0   \n",
       "43632                         2         4000                             0   \n",
       "\n",
       "       AverageCostInCounty  AverageChargesInCounty  AverageCostInFacility  \\\n",
       "30691                 3155                   11381                   2895   \n",
       "50762                 2611                    9227                   3790   \n",
       "29845                 1860                    2846                   1860   \n",
       "21852                 2018                    3610                   2018   \n",
       "8701                  2777                    1587                   2777   \n",
       "...                    ...                     ...                    ...   \n",
       "11936                 3155                   11381                   3032   \n",
       "34101                 1445                    3419                   1691   \n",
       "11723                 1826                    4190                   1459   \n",
       "1274                  3155                   11381                   3032   \n",
       "43632                 2041                    9917                   1605   \n",
       "\n",
       "       AverageChargesInFacility  AverageIncomeInZipCode  F  M  \\\n",
       "30691                     13394                      45  1  0   \n",
       "50762                      6250                      45  1  0   \n",
       "29845                      2846                      53  1  0   \n",
       "21852                      3610                      52  0  1   \n",
       "8701                       1587                      54  0  1   \n",
       "...                         ...                     ... .. ..   \n",
       "11936                     10135                     115  1  0   \n",
       "34101                      3761                      36  0  1   \n",
       "11723                      3505                      55  0  1   \n",
       "1274                      10135                      84  0  1   \n",
       "43632                     12083                      59  0  1   \n",
       "\n",
       "       Black/African American  Multi-racial  Other Race  White  Elective  \\\n",
       "30691                       0             0           0      1         0   \n",
       "50762                       1             0           0      0         0   \n",
       "29845                       0             0           0      1         0   \n",
       "21852                       0             0           1      0         0   \n",
       "8701                        0             0           0      1         0   \n",
       "...                       ...           ...         ...    ...       ...   \n",
       "11936                       0             0           0      1         0   \n",
       "34101                       0             0           0      1         0   \n",
       "11723                       0             0           1      0         0   \n",
       "1274                        0             0           0      1         0   \n",
       "43632                       0             0           1      0         0   \n",
       "\n",
       "       Emergency  Newborn  Urgent  -1  0  115  216  220  228  231  \\\n",
       "30691          0        1       0   0  0    0    0    0    1    0   \n",
       "50762          0        1       0   0  1    0    0    0    0    0   \n",
       "29845          0        1       0   0  0    0    0    0    1    0   \n",
       "21852          0        1       0   0  0    1    0    0    0    0   \n",
       "8701           0        1       0   0  0    1    0    0    0    0   \n",
       "...          ...      ...     ...  .. ..  ...  ...  ...  ...  ...   \n",
       "11936          0        1       0   0  0    0    0    1    0    0   \n",
       "34101          0        1       0   0  0    1    0    0    0    0   \n",
       "11723          0        1       0   0  0    0    0    0    1    0   \n",
       "1274           0        1       0   0  0    1    0    0    0    0   \n",
       "43632          0        1       0   1  0    0    0    0    0    0   \n",
       "\n",
       "       Blue Cross/Blue Shield  Federal/State/Local/VA  \\\n",
       "30691                       0                       0   \n",
       "50762                       0                       0   \n",
       "29845                       1                       0   \n",
       "21852                       1                       0   \n",
       "8701                        0                       0   \n",
       "...                       ...                     ...   \n",
       "11936                       0                       0   \n",
       "34101                       0                       0   \n",
       "11723                       0                       0   \n",
       "1274                        1                       0   \n",
       "43632                       0                       0   \n",
       "\n",
       "       Managed Care, Unspecified  Medicaid  Medicare  Miscellaneous/Other  \\\n",
       "30691                          0         1         0                    0   \n",
       "50762                          0         1         0                    0   \n",
       "29845                          0         0         0                    0   \n",
       "21852                          0         0         0                    0   \n",
       "8701                           0         1         0                    0   \n",
       "...                          ...       ...       ...                  ...   \n",
       "11936                          0         0         0                    0   \n",
       "34101                          0         1         0                    0   \n",
       "11723                          0         1         0                    0   \n",
       "1274                           0         0         0                    0   \n",
       "43632                          0         1         0                    0   \n",
       "\n",
       "       Private Health Insurance  Self-Pay  Unknown  \n",
       "30691                         0         0        0  \n",
       "50762                         0         0        0  \n",
       "29845                         0         0        0  \n",
       "21852                         0         0        0  \n",
       "8701                          0         0        0  \n",
       "...                         ...       ...      ...  \n",
       "11936                         1         0        0  \n",
       "34101                         0         0        0  \n",
       "11723                         0         0        0  \n",
       "1274                          0         0        0  \n",
       "43632                         0         0        0  \n",
       "\n",
       "[44974 rows x 34 columns]"
      ]
     },
     "execution_count": 21,
     "metadata": {},
     "output_type": "execute_result"
    }
   ],
   "source": [
    "# Check X_train\n",
    "X_train"
   ]
  },
  {
   "cell_type": "markdown",
   "id": "material-giving",
   "metadata": {},
   "source": [
    "### 5.2 Reset index"
   ]
  },
  {
   "cell_type": "code",
   "execution_count": 22,
   "id": "emerging-fellowship",
   "metadata": {
    "ExecuteTime": {
     "end_time": "2021-04-15T01:14:58.225376Z",
     "start_time": "2021-04-15T01:14:58.197450Z"
    }
   },
   "outputs": [],
   "source": [
    "def df_reset_index(x):\n",
    "    return x.reset_index().drop('index', axis = 1)\n",
    "\n",
    "X_train = df_reset_index(X_train)\n",
    "X_test = df_reset_index(X_test)\n",
    "y_train = df_reset_index(y_train)\n",
    "y_test = df_reset_index(y_test)"
   ]
  },
  {
   "cell_type": "code",
   "execution_count": 23,
   "id": "premium-glossary",
   "metadata": {
    "ExecuteTime": {
     "end_time": "2021-04-15T01:14:58.256294Z",
     "start_time": "2021-04-15T01:14:58.227380Z"
    }
   },
   "outputs": [
    {
     "data": {
      "text/html": [
       "<div>\n",
       "<style scoped>\n",
       "    .dataframe tbody tr th:only-of-type {\n",
       "        vertical-align: middle;\n",
       "    }\n",
       "\n",
       "    .dataframe tbody tr th {\n",
       "        vertical-align: top;\n",
       "    }\n",
       "\n",
       "    .dataframe thead th {\n",
       "        text-align: right;\n",
       "    }\n",
       "</style>\n",
       "<table border=\"1\" class=\"dataframe\">\n",
       "  <thead>\n",
       "    <tr style=\"text-align: right;\">\n",
       "      <th></th>\n",
       "      <th>APRSeverityOfIllnessCode</th>\n",
       "      <th>BirthWeight</th>\n",
       "      <th>EmergencyDepartmentIndicator</th>\n",
       "      <th>AverageCostInCounty</th>\n",
       "      <th>AverageChargesInCounty</th>\n",
       "      <th>AverageCostInFacility</th>\n",
       "      <th>AverageChargesInFacility</th>\n",
       "      <th>AverageIncomeInZipCode</th>\n",
       "      <th>F</th>\n",
       "      <th>M</th>\n",
       "      <th>Black/African American</th>\n",
       "      <th>Multi-racial</th>\n",
       "      <th>Other Race</th>\n",
       "      <th>White</th>\n",
       "      <th>Elective</th>\n",
       "      <th>Emergency</th>\n",
       "      <th>Newborn</th>\n",
       "      <th>Urgent</th>\n",
       "      <th>-1</th>\n",
       "      <th>0</th>\n",
       "      <th>115</th>\n",
       "      <th>216</th>\n",
       "      <th>220</th>\n",
       "      <th>228</th>\n",
       "      <th>231</th>\n",
       "      <th>Blue Cross/Blue Shield</th>\n",
       "      <th>Federal/State/Local/VA</th>\n",
       "      <th>Managed Care, Unspecified</th>\n",
       "      <th>Medicaid</th>\n",
       "      <th>Medicare</th>\n",
       "      <th>Miscellaneous/Other</th>\n",
       "      <th>Private Health Insurance</th>\n",
       "      <th>Self-Pay</th>\n",
       "      <th>Unknown</th>\n",
       "    </tr>\n",
       "  </thead>\n",
       "  <tbody>\n",
       "    <tr>\n",
       "      <th>0</th>\n",
       "      <td>3</td>\n",
       "      <td>2600</td>\n",
       "      <td>0</td>\n",
       "      <td>3155</td>\n",
       "      <td>11381</td>\n",
       "      <td>2895</td>\n",
       "      <td>13394</td>\n",
       "      <td>45</td>\n",
       "      <td>1</td>\n",
       "      <td>0</td>\n",
       "      <td>0</td>\n",
       "      <td>0</td>\n",
       "      <td>0</td>\n",
       "      <td>1</td>\n",
       "      <td>0</td>\n",
       "      <td>0</td>\n",
       "      <td>1</td>\n",
       "      <td>0</td>\n",
       "      <td>0</td>\n",
       "      <td>0</td>\n",
       "      <td>0</td>\n",
       "      <td>0</td>\n",
       "      <td>0</td>\n",
       "      <td>1</td>\n",
       "      <td>0</td>\n",
       "      <td>0</td>\n",
       "      <td>0</td>\n",
       "      <td>0</td>\n",
       "      <td>1</td>\n",
       "      <td>0</td>\n",
       "      <td>0</td>\n",
       "      <td>0</td>\n",
       "      <td>0</td>\n",
       "      <td>0</td>\n",
       "    </tr>\n",
       "    <tr>\n",
       "      <th>1</th>\n",
       "      <td>1</td>\n",
       "      <td>3900</td>\n",
       "      <td>0</td>\n",
       "      <td>2611</td>\n",
       "      <td>9227</td>\n",
       "      <td>3790</td>\n",
       "      <td>6250</td>\n",
       "      <td>45</td>\n",
       "      <td>1</td>\n",
       "      <td>0</td>\n",
       "      <td>1</td>\n",
       "      <td>0</td>\n",
       "      <td>0</td>\n",
       "      <td>0</td>\n",
       "      <td>0</td>\n",
       "      <td>0</td>\n",
       "      <td>1</td>\n",
       "      <td>0</td>\n",
       "      <td>0</td>\n",
       "      <td>1</td>\n",
       "      <td>0</td>\n",
       "      <td>0</td>\n",
       "      <td>0</td>\n",
       "      <td>0</td>\n",
       "      <td>0</td>\n",
       "      <td>0</td>\n",
       "      <td>0</td>\n",
       "      <td>0</td>\n",
       "      <td>1</td>\n",
       "      <td>0</td>\n",
       "      <td>0</td>\n",
       "      <td>0</td>\n",
       "      <td>0</td>\n",
       "      <td>0</td>\n",
       "    </tr>\n",
       "    <tr>\n",
       "      <th>2</th>\n",
       "      <td>2</td>\n",
       "      <td>2700</td>\n",
       "      <td>0</td>\n",
       "      <td>1860</td>\n",
       "      <td>2846</td>\n",
       "      <td>1860</td>\n",
       "      <td>2846</td>\n",
       "      <td>53</td>\n",
       "      <td>1</td>\n",
       "      <td>0</td>\n",
       "      <td>0</td>\n",
       "      <td>0</td>\n",
       "      <td>0</td>\n",
       "      <td>1</td>\n",
       "      <td>0</td>\n",
       "      <td>0</td>\n",
       "      <td>1</td>\n",
       "      <td>0</td>\n",
       "      <td>0</td>\n",
       "      <td>0</td>\n",
       "      <td>0</td>\n",
       "      <td>0</td>\n",
       "      <td>0</td>\n",
       "      <td>1</td>\n",
       "      <td>0</td>\n",
       "      <td>1</td>\n",
       "      <td>0</td>\n",
       "      <td>0</td>\n",
       "      <td>0</td>\n",
       "      <td>0</td>\n",
       "      <td>0</td>\n",
       "      <td>0</td>\n",
       "      <td>0</td>\n",
       "      <td>0</td>\n",
       "    </tr>\n",
       "    <tr>\n",
       "      <th>3</th>\n",
       "      <td>1</td>\n",
       "      <td>2600</td>\n",
       "      <td>0</td>\n",
       "      <td>2018</td>\n",
       "      <td>3610</td>\n",
       "      <td>2018</td>\n",
       "      <td>3610</td>\n",
       "      <td>52</td>\n",
       "      <td>0</td>\n",
       "      <td>1</td>\n",
       "      <td>0</td>\n",
       "      <td>0</td>\n",
       "      <td>1</td>\n",
       "      <td>0</td>\n",
       "      <td>0</td>\n",
       "      <td>0</td>\n",
       "      <td>1</td>\n",
       "      <td>0</td>\n",
       "      <td>0</td>\n",
       "      <td>0</td>\n",
       "      <td>1</td>\n",
       "      <td>0</td>\n",
       "      <td>0</td>\n",
       "      <td>0</td>\n",
       "      <td>0</td>\n",
       "      <td>1</td>\n",
       "      <td>0</td>\n",
       "      <td>0</td>\n",
       "      <td>0</td>\n",
       "      <td>0</td>\n",
       "      <td>0</td>\n",
       "      <td>0</td>\n",
       "      <td>0</td>\n",
       "      <td>0</td>\n",
       "    </tr>\n",
       "    <tr>\n",
       "      <th>4</th>\n",
       "      <td>1</td>\n",
       "      <td>3400</td>\n",
       "      <td>0</td>\n",
       "      <td>2777</td>\n",
       "      <td>1587</td>\n",
       "      <td>2777</td>\n",
       "      <td>1587</td>\n",
       "      <td>54</td>\n",
       "      <td>0</td>\n",
       "      <td>1</td>\n",
       "      <td>0</td>\n",
       "      <td>0</td>\n",
       "      <td>0</td>\n",
       "      <td>1</td>\n",
       "      <td>0</td>\n",
       "      <td>0</td>\n",
       "      <td>1</td>\n",
       "      <td>0</td>\n",
       "      <td>0</td>\n",
       "      <td>0</td>\n",
       "      <td>1</td>\n",
       "      <td>0</td>\n",
       "      <td>0</td>\n",
       "      <td>0</td>\n",
       "      <td>0</td>\n",
       "      <td>0</td>\n",
       "      <td>0</td>\n",
       "      <td>0</td>\n",
       "      <td>1</td>\n",
       "      <td>0</td>\n",
       "      <td>0</td>\n",
       "      <td>0</td>\n",
       "      <td>0</td>\n",
       "      <td>0</td>\n",
       "    </tr>\n",
       "    <tr>\n",
       "      <th>...</th>\n",
       "      <td>...</td>\n",
       "      <td>...</td>\n",
       "      <td>...</td>\n",
       "      <td>...</td>\n",
       "      <td>...</td>\n",
       "      <td>...</td>\n",
       "      <td>...</td>\n",
       "      <td>...</td>\n",
       "      <td>...</td>\n",
       "      <td>...</td>\n",
       "      <td>...</td>\n",
       "      <td>...</td>\n",
       "      <td>...</td>\n",
       "      <td>...</td>\n",
       "      <td>...</td>\n",
       "      <td>...</td>\n",
       "      <td>...</td>\n",
       "      <td>...</td>\n",
       "      <td>...</td>\n",
       "      <td>...</td>\n",
       "      <td>...</td>\n",
       "      <td>...</td>\n",
       "      <td>...</td>\n",
       "      <td>...</td>\n",
       "      <td>...</td>\n",
       "      <td>...</td>\n",
       "      <td>...</td>\n",
       "      <td>...</td>\n",
       "      <td>...</td>\n",
       "      <td>...</td>\n",
       "      <td>...</td>\n",
       "      <td>...</td>\n",
       "      <td>...</td>\n",
       "      <td>...</td>\n",
       "    </tr>\n",
       "    <tr>\n",
       "      <th>44969</th>\n",
       "      <td>1</td>\n",
       "      <td>2600</td>\n",
       "      <td>0</td>\n",
       "      <td>3155</td>\n",
       "      <td>11381</td>\n",
       "      <td>3032</td>\n",
       "      <td>10135</td>\n",
       "      <td>115</td>\n",
       "      <td>1</td>\n",
       "      <td>0</td>\n",
       "      <td>0</td>\n",
       "      <td>0</td>\n",
       "      <td>0</td>\n",
       "      <td>1</td>\n",
       "      <td>0</td>\n",
       "      <td>0</td>\n",
       "      <td>1</td>\n",
       "      <td>0</td>\n",
       "      <td>0</td>\n",
       "      <td>0</td>\n",
       "      <td>0</td>\n",
       "      <td>0</td>\n",
       "      <td>1</td>\n",
       "      <td>0</td>\n",
       "      <td>0</td>\n",
       "      <td>0</td>\n",
       "      <td>0</td>\n",
       "      <td>0</td>\n",
       "      <td>0</td>\n",
       "      <td>0</td>\n",
       "      <td>0</td>\n",
       "      <td>1</td>\n",
       "      <td>0</td>\n",
       "      <td>0</td>\n",
       "    </tr>\n",
       "    <tr>\n",
       "      <th>44970</th>\n",
       "      <td>1</td>\n",
       "      <td>3500</td>\n",
       "      <td>0</td>\n",
       "      <td>1445</td>\n",
       "      <td>3419</td>\n",
       "      <td>1691</td>\n",
       "      <td>3761</td>\n",
       "      <td>36</td>\n",
       "      <td>0</td>\n",
       "      <td>1</td>\n",
       "      <td>0</td>\n",
       "      <td>0</td>\n",
       "      <td>0</td>\n",
       "      <td>1</td>\n",
       "      <td>0</td>\n",
       "      <td>0</td>\n",
       "      <td>1</td>\n",
       "      <td>0</td>\n",
       "      <td>0</td>\n",
       "      <td>0</td>\n",
       "      <td>1</td>\n",
       "      <td>0</td>\n",
       "      <td>0</td>\n",
       "      <td>0</td>\n",
       "      <td>0</td>\n",
       "      <td>0</td>\n",
       "      <td>0</td>\n",
       "      <td>0</td>\n",
       "      <td>1</td>\n",
       "      <td>0</td>\n",
       "      <td>0</td>\n",
       "      <td>0</td>\n",
       "      <td>0</td>\n",
       "      <td>0</td>\n",
       "    </tr>\n",
       "    <tr>\n",
       "      <th>44971</th>\n",
       "      <td>1</td>\n",
       "      <td>3600</td>\n",
       "      <td>0</td>\n",
       "      <td>1826</td>\n",
       "      <td>4190</td>\n",
       "      <td>1459</td>\n",
       "      <td>3505</td>\n",
       "      <td>55</td>\n",
       "      <td>0</td>\n",
       "      <td>1</td>\n",
       "      <td>0</td>\n",
       "      <td>0</td>\n",
       "      <td>1</td>\n",
       "      <td>0</td>\n",
       "      <td>0</td>\n",
       "      <td>0</td>\n",
       "      <td>1</td>\n",
       "      <td>0</td>\n",
       "      <td>0</td>\n",
       "      <td>0</td>\n",
       "      <td>0</td>\n",
       "      <td>0</td>\n",
       "      <td>0</td>\n",
       "      <td>1</td>\n",
       "      <td>0</td>\n",
       "      <td>0</td>\n",
       "      <td>0</td>\n",
       "      <td>0</td>\n",
       "      <td>1</td>\n",
       "      <td>0</td>\n",
       "      <td>0</td>\n",
       "      <td>0</td>\n",
       "      <td>0</td>\n",
       "      <td>0</td>\n",
       "    </tr>\n",
       "    <tr>\n",
       "      <th>44972</th>\n",
       "      <td>1</td>\n",
       "      <td>3000</td>\n",
       "      <td>0</td>\n",
       "      <td>3155</td>\n",
       "      <td>11381</td>\n",
       "      <td>3032</td>\n",
       "      <td>10135</td>\n",
       "      <td>84</td>\n",
       "      <td>0</td>\n",
       "      <td>1</td>\n",
       "      <td>0</td>\n",
       "      <td>0</td>\n",
       "      <td>0</td>\n",
       "      <td>1</td>\n",
       "      <td>0</td>\n",
       "      <td>0</td>\n",
       "      <td>1</td>\n",
       "      <td>0</td>\n",
       "      <td>0</td>\n",
       "      <td>0</td>\n",
       "      <td>1</td>\n",
       "      <td>0</td>\n",
       "      <td>0</td>\n",
       "      <td>0</td>\n",
       "      <td>0</td>\n",
       "      <td>1</td>\n",
       "      <td>0</td>\n",
       "      <td>0</td>\n",
       "      <td>0</td>\n",
       "      <td>0</td>\n",
       "      <td>0</td>\n",
       "      <td>0</td>\n",
       "      <td>0</td>\n",
       "      <td>0</td>\n",
       "    </tr>\n",
       "    <tr>\n",
       "      <th>44973</th>\n",
       "      <td>2</td>\n",
       "      <td>4000</td>\n",
       "      <td>0</td>\n",
       "      <td>2041</td>\n",
       "      <td>9917</td>\n",
       "      <td>1605</td>\n",
       "      <td>12083</td>\n",
       "      <td>59</td>\n",
       "      <td>0</td>\n",
       "      <td>1</td>\n",
       "      <td>0</td>\n",
       "      <td>0</td>\n",
       "      <td>1</td>\n",
       "      <td>0</td>\n",
       "      <td>0</td>\n",
       "      <td>0</td>\n",
       "      <td>1</td>\n",
       "      <td>0</td>\n",
       "      <td>1</td>\n",
       "      <td>0</td>\n",
       "      <td>0</td>\n",
       "      <td>0</td>\n",
       "      <td>0</td>\n",
       "      <td>0</td>\n",
       "      <td>0</td>\n",
       "      <td>0</td>\n",
       "      <td>0</td>\n",
       "      <td>0</td>\n",
       "      <td>1</td>\n",
       "      <td>0</td>\n",
       "      <td>0</td>\n",
       "      <td>0</td>\n",
       "      <td>0</td>\n",
       "      <td>0</td>\n",
       "    </tr>\n",
       "  </tbody>\n",
       "</table>\n",
       "<p>44974 rows × 34 columns</p>\n",
       "</div>"
      ],
      "text/plain": [
       "       APRSeverityOfIllnessCode  BirthWeight  EmergencyDepartmentIndicator  \\\n",
       "0                             3         2600                             0   \n",
       "1                             1         3900                             0   \n",
       "2                             2         2700                             0   \n",
       "3                             1         2600                             0   \n",
       "4                             1         3400                             0   \n",
       "...                         ...          ...                           ...   \n",
       "44969                         1         2600                             0   \n",
       "44970                         1         3500                             0   \n",
       "44971                         1         3600                             0   \n",
       "44972                         1         3000                             0   \n",
       "44973                         2         4000                             0   \n",
       "\n",
       "       AverageCostInCounty  AverageChargesInCounty  AverageCostInFacility  \\\n",
       "0                     3155                   11381                   2895   \n",
       "1                     2611                    9227                   3790   \n",
       "2                     1860                    2846                   1860   \n",
       "3                     2018                    3610                   2018   \n",
       "4                     2777                    1587                   2777   \n",
       "...                    ...                     ...                    ...   \n",
       "44969                 3155                   11381                   3032   \n",
       "44970                 1445                    3419                   1691   \n",
       "44971                 1826                    4190                   1459   \n",
       "44972                 3155                   11381                   3032   \n",
       "44973                 2041                    9917                   1605   \n",
       "\n",
       "       AverageChargesInFacility  AverageIncomeInZipCode  F  M  \\\n",
       "0                         13394                      45  1  0   \n",
       "1                          6250                      45  1  0   \n",
       "2                          2846                      53  1  0   \n",
       "3                          3610                      52  0  1   \n",
       "4                          1587                      54  0  1   \n",
       "...                         ...                     ... .. ..   \n",
       "44969                     10135                     115  1  0   \n",
       "44970                      3761                      36  0  1   \n",
       "44971                      3505                      55  0  1   \n",
       "44972                     10135                      84  0  1   \n",
       "44973                     12083                      59  0  1   \n",
       "\n",
       "       Black/African American  Multi-racial  Other Race  White  Elective  \\\n",
       "0                           0             0           0      1         0   \n",
       "1                           1             0           0      0         0   \n",
       "2                           0             0           0      1         0   \n",
       "3                           0             0           1      0         0   \n",
       "4                           0             0           0      1         0   \n",
       "...                       ...           ...         ...    ...       ...   \n",
       "44969                       0             0           0      1         0   \n",
       "44970                       0             0           0      1         0   \n",
       "44971                       0             0           1      0         0   \n",
       "44972                       0             0           0      1         0   \n",
       "44973                       0             0           1      0         0   \n",
       "\n",
       "       Emergency  Newborn  Urgent  -1  0  115  216  220  228  231  \\\n",
       "0              0        1       0   0  0    0    0    0    1    0   \n",
       "1              0        1       0   0  1    0    0    0    0    0   \n",
       "2              0        1       0   0  0    0    0    0    1    0   \n",
       "3              0        1       0   0  0    1    0    0    0    0   \n",
       "4              0        1       0   0  0    1    0    0    0    0   \n",
       "...          ...      ...     ...  .. ..  ...  ...  ...  ...  ...   \n",
       "44969          0        1       0   0  0    0    0    1    0    0   \n",
       "44970          0        1       0   0  0    1    0    0    0    0   \n",
       "44971          0        1       0   0  0    0    0    0    1    0   \n",
       "44972          0        1       0   0  0    1    0    0    0    0   \n",
       "44973          0        1       0   1  0    0    0    0    0    0   \n",
       "\n",
       "       Blue Cross/Blue Shield  Federal/State/Local/VA  \\\n",
       "0                           0                       0   \n",
       "1                           0                       0   \n",
       "2                           1                       0   \n",
       "3                           1                       0   \n",
       "4                           0                       0   \n",
       "...                       ...                     ...   \n",
       "44969                       0                       0   \n",
       "44970                       0                       0   \n",
       "44971                       0                       0   \n",
       "44972                       1                       0   \n",
       "44973                       0                       0   \n",
       "\n",
       "       Managed Care, Unspecified  Medicaid  Medicare  Miscellaneous/Other  \\\n",
       "0                              0         1         0                    0   \n",
       "1                              0         1         0                    0   \n",
       "2                              0         0         0                    0   \n",
       "3                              0         0         0                    0   \n",
       "4                              0         1         0                    0   \n",
       "...                          ...       ...       ...                  ...   \n",
       "44969                          0         0         0                    0   \n",
       "44970                          0         1         0                    0   \n",
       "44971                          0         1         0                    0   \n",
       "44972                          0         0         0                    0   \n",
       "44973                          0         1         0                    0   \n",
       "\n",
       "       Private Health Insurance  Self-Pay  Unknown  \n",
       "0                             0         0        0  \n",
       "1                             0         0        0  \n",
       "2                             0         0        0  \n",
       "3                             0         0        0  \n",
       "4                             0         0        0  \n",
       "...                         ...       ...      ...  \n",
       "44969                         1         0        0  \n",
       "44970                         0         0        0  \n",
       "44971                         0         0        0  \n",
       "44972                         0         0        0  \n",
       "44973                         0         0        0  \n",
       "\n",
       "[44974 rows x 34 columns]"
      ]
     },
     "execution_count": 23,
     "metadata": {},
     "output_type": "execute_result"
    }
   ],
   "source": [
    "# Check X_train\n",
    "X_train"
   ]
  },
  {
   "cell_type": "markdown",
   "id": "casual-surrey",
   "metadata": {},
   "source": [
    "## 6. Scale data"
   ]
  },
  {
   "cell_type": "markdown",
   "id": "computational-matthew",
   "metadata": {},
   "source": [
    "The data to fit into some model need to be scale (For example: XGBoost, Logistic Regression with regularization). In our train dataset, there are both categorical and real number value. Applying scaler on categorical attributes will not affect the result of our model but very essential for numerical value with different unit (birthweight in gram and cost/income in dollars)"
   ]
  },
  {
   "cell_type": "code",
   "execution_count": 24,
   "id": "timely-mambo",
   "metadata": {
    "ExecuteTime": {
     "end_time": "2021-04-15T01:14:58.348755Z",
     "start_time": "2021-04-15T01:14:58.258288Z"
    }
   },
   "outputs": [],
   "source": [
    "from sklearn.preprocessing import StandardScaler\n",
    "\n",
    "# Scaler variable and fit with X_train\n",
    "scaler = StandardScaler()\n",
    "scaler.fit(X_train)\n",
    "\n",
    "# Transform X_train and X_test\n",
    "X_train_transform = scaler.transform(X_train)\n",
    "X_test_transform = scaler.transform(X_test)\n",
    "\n",
    "# Ravel (return a contiguous flattened array) y to fit into some model\n",
    "y_train_ravel = y_train.values.ravel()"
   ]
  },
  {
   "cell_type": "markdown",
   "id": "three-mobile",
   "metadata": {},
   "source": [
    "## 7. Logistic Regression"
   ]
  },
  {
   "cell_type": "markdown",
   "id": "young-aberdeen",
   "metadata": {},
   "source": [
    "Logistic Regression is the most basic and common binary classification model with sigmoid function. We will implement this model first and make comparison among differents model later."
   ]
  },
  {
   "cell_type": "code",
   "execution_count": 25,
   "id": "consistent-double",
   "metadata": {
    "ExecuteTime": {
     "end_time": "2021-04-15T01:14:58.424875Z",
     "start_time": "2021-04-15T01:14:58.350047Z"
    }
   },
   "outputs": [],
   "source": [
    "from sklearn.linear_model import LogisticRegression\n",
    "from sklearn.model_selection import GridSearchCV\n",
    "from sklearn import metrics "
   ]
  },
  {
   "cell_type": "markdown",
   "id": "seeing-danish",
   "metadata": {},
   "source": [
    "### 7.1. Train basic logistic regression model "
   ]
  },
  {
   "cell_type": "markdown",
   "id": "indian-credit",
   "metadata": {},
   "source": [
    "First we train model with the no parameters input, then do the optimization (hyper-parameter tunning) later"
   ]
  },
  {
   "cell_type": "code",
   "execution_count": 26,
   "id": "spiritual-omaha",
   "metadata": {
    "ExecuteTime": {
     "end_time": "2021-04-15T01:14:58.995319Z",
     "start_time": "2021-04-15T01:14:58.426947Z"
    }
   },
   "outputs": [
    {
     "data": {
      "text/plain": [
       "LogisticRegression()"
      ]
     },
     "execution_count": 26,
     "metadata": {},
     "output_type": "execute_result"
    }
   ],
   "source": [
    "log = LogisticRegression()\n",
    "log.fit(X_train, y_train_ravel)"
   ]
  },
  {
   "cell_type": "code",
   "execution_count": 27,
   "id": "impossible-possession",
   "metadata": {
    "ExecuteTime": {
     "end_time": "2021-04-15T01:14:59.041195Z",
     "start_time": "2021-04-15T01:14:58.997313Z"
    }
   },
   "outputs": [
    {
     "name": "stdout",
     "output_type": "stream",
     "text": [
      "Logistic Regression\n",
      "Accuracy: 84.06%\n",
      "              precision    recall  f1-score   support\n",
      "\n",
      "           0       0.85      0.99      0.91     12474\n",
      "           1       0.63      0.12      0.21      2518\n",
      "\n",
      "    accuracy                           0.84     14992\n",
      "   macro avg       0.74      0.55      0.56     14992\n",
      "weighted avg       0.81      0.84      0.79     14992\n",
      "\n"
     ]
    }
   ],
   "source": [
    "y_pred_log = log.predict(X_test)\n",
    "\n",
    "print('Logistic Regression')\n",
    "print('Accuracy: {facc}%'.format(facc=round(metrics.accuracy_score(y_test, y_pred_log) * 100, 2)))\n",
    "print(metrics.classification_report(y_test, y_pred_log))"
   ]
  },
  {
   "cell_type": "markdown",
   "id": "extra-negative",
   "metadata": {},
   "source": [
    "<font color=red> **Classification Report:** </font>\n",
    "\n",
    "<font color=green>**Accuracy** </font>: The sum of correct class 0 and 1 divided by all data points.\n",
    "\n",
    "<font color=green>**Precision** </font>: the proportion of positive identifications was actually correct. 85% of its prediction about class 0 are true, and 63% of class 1 are true.\n",
    "\n",
    "<font color=green>**Recall** </font>: the proportion of actual positives was identified correctly. It captured 99% class 0 correctly among all class 0 available and only 12% class 1 among all class 1 available. \n",
    "\n",
    "<font color=green>**F1-score** </font>: the metrics to balance between the precision and the recall 2x((precision x recall) / (precision + recall)). The higher means that our model is balance in quantity and quality."
   ]
  },
  {
   "cell_type": "markdown",
   "id": "applied-business",
   "metadata": {},
   "source": [
    "### 7.2. Train model with scaled data"
   ]
  },
  {
   "cell_type": "code",
   "execution_count": 28,
   "id": "designed-beginning",
   "metadata": {
    "ExecuteTime": {
     "end_time": "2021-04-15T01:14:59.345850Z",
     "start_time": "2021-04-15T01:14:59.043190Z"
    }
   },
   "outputs": [
    {
     "data": {
      "text/plain": [
       "LogisticRegression()"
      ]
     },
     "execution_count": 28,
     "metadata": {},
     "output_type": "execute_result"
    }
   ],
   "source": [
    "log = LogisticRegression()\n",
    "log.fit(X_train_transform, y_train_ravel)"
   ]
  },
  {
   "cell_type": "code",
   "execution_count": 29,
   "id": "solid-search",
   "metadata": {
    "ExecuteTime": {
     "end_time": "2021-04-15T01:14:59.393846Z",
     "start_time": "2021-04-15T01:14:59.347847Z"
    }
   },
   "outputs": [
    {
     "name": "stdout",
     "output_type": "stream",
     "text": [
      "Logistic Regression\n",
      "Accuracy: 84.17%\n",
      "              precision    recall  f1-score   support\n",
      "\n",
      "           0       0.85      0.98      0.91     12474\n",
      "           1       0.61      0.15      0.25      2518\n",
      "\n",
      "    accuracy                           0.84     14992\n",
      "   macro avg       0.73      0.57      0.58     14992\n",
      "weighted avg       0.81      0.84      0.80     14992\n",
      "\n"
     ]
    }
   ],
   "source": [
    "y_pred_log_scale = log.predict(X_test_transform)\n",
    "\n",
    "print('Logistic Regression')\n",
    "print('Accuracy: {facc}%'.format(facc=round(metrics.accuracy_score(y_test, y_pred_log_scale) * 100, 2)))\n",
    "print(metrics.classification_report(y_test, y_pred_log_scale))"
   ]
  },
  {
   "cell_type": "markdown",
   "id": "choice-unknown",
   "metadata": {},
   "source": [
    "The accuracy and the F1-score for class 1 has been improved a little bit."
   ]
  },
  {
   "cell_type": "markdown",
   "id": "statistical-champion",
   "metadata": {},
   "source": [
    "### 7.3. Logistic hyper-parameter tuning"
   ]
  },
  {
   "cell_type": "markdown",
   "id": "rocky-desperate",
   "metadata": {},
   "source": [
    "#### 7.3.1. Global hyper-paremeter tuning"
   ]
  },
  {
   "cell_type": "markdown",
   "id": "worth-latin",
   "metadata": {},
   "source": [
    "Using GridSearchCV library to determine the best parameters for a specific model.\n",
    "\n",
    "<font color=red>**Parameters:** </font>\n",
    "\n",
    "* <font color=green>estimator </font>: the model we want to perform tunning\n",
    "* <font color=green>param_grid </font>: the dictionary with parameters name\n",
    "* <font color=green>scoring </font>: we want to use F1-score for measurement\n",
    "* <font color=green>cv = 5 </font> : 5-fold cross validation\n",
    "* <font color=green>n_jobs and verbose </font>: Tunning setting\n",
    "\n",
    "GridSearchCV (with CV stands for Cross-validation) will split the train data further into train and test to tune the hyper-parameters passed to it"
   ]
  },
  {
   "cell_type": "code",
   "execution_count": 30,
   "id": "sapphire-associate",
   "metadata": {
    "ExecuteTime": {
     "end_time": "2021-04-15T01:14:59.409730Z",
     "start_time": "2021-04-15T01:14:59.396803Z"
    }
   },
   "outputs": [],
   "source": [
    "# Global hyper-parameter tunning function\n",
    "def hyper_parameter_tunning(X_train, y_train, model, param_tuning):\n",
    "    # Determine the tunable engine\n",
    "    gsearch = GridSearchCV(estimator = model,\n",
    "                           param_grid = param_tuning,                        \n",
    "                           scoring = metrics.make_scorer(metrics.f1_score),  \n",
    "                           cv = 5,\n",
    "                           n_jobs = -1,\n",
    "                           verbose = 1)\n",
    "    # Fit the engine and return the best parameters\n",
    "    gsearch.fit(X_train,y_train)\n",
    "    print(\"Best parameters:\",gsearch.best_params_)"
   ]
  },
  {
   "cell_type": "markdown",
   "id": "structured-vietnam",
   "metadata": {},
   "source": [
    "#### 7.3.2 Find best parameters for optimization"
   ]
  },
  {
   "cell_type": "markdown",
   "id": "adjusted-watson",
   "metadata": {},
   "source": [
    "<font color=red>**Parameters:** </font>\n",
    "\n",
    "* <font color=green>C </font>: the inverse of regularization. The smaller the stronger we want the regularize\n",
    "* <font color=green>penalty </font>: type of regularization \n",
    "* <font color=green>solver </font>: algorithm used in optimization\n",
    "* <font color=green>max_iter </font>: The maximum number of iterations by the solver during model fitting"
   ]
  },
  {
   "cell_type": "code",
   "execution_count": 31,
   "id": "finite-cabinet",
   "metadata": {
    "ExecuteTime": {
     "end_time": "2021-04-15T01:14:59.425637Z",
     "start_time": "2021-04-15T01:14:59.413668Z"
    }
   },
   "outputs": [],
   "source": [
    "# Determine parameters for logistic regression \n",
    "log_reg_params = {'penalty': ['l1', 'l2', 'elasticnet'], \n",
    "               'C': [0.001,0.01,0.1,1,10,100,1000],\n",
    "                'max_iter': [100,250,500,1000],\n",
    "               'solver': ['liblinear', 'saga','lbfgs']}\n",
    "\n",
    "log_reg_model = LogisticRegression()"
   ]
  },
  {
   "cell_type": "code",
   "execution_count": 32,
   "id": "demonstrated-refund",
   "metadata": {
    "ExecuteTime": {
     "end_time": "2021-04-15T01:14:59.441625Z",
     "start_time": "2021-04-15T01:14:59.427631Z"
    }
   },
   "outputs": [],
   "source": [
    "# UNCOMMENT TO RUN. ONLY RUN ONCE TO GET THE BEST PARAMETERS\n",
    "\n",
    "# hyper_parameter_tunning(X_train_transform, y_train_ravel,log_reg_model, log_reg_params)"
   ]
  },
  {
   "cell_type": "markdown",
   "id": "promising-plymouth",
   "metadata": {},
   "source": [
    "Best parameters: {'C': 1000, 'max_iter': 100, 'penalty': 'l2', 'solver': 'liblinear'}, which means it couldn't perform much optimization than the original model "
   ]
  },
  {
   "cell_type": "markdown",
   "id": "unlikely-right",
   "metadata": {},
   "source": [
    "#### 7.3.3. Train model with best parameters"
   ]
  },
  {
   "cell_type": "code",
   "execution_count": 33,
   "id": "south-affiliation",
   "metadata": {
    "ExecuteTime": {
     "end_time": "2021-04-15T01:15:00.014174Z",
     "start_time": "2021-04-15T01:14:59.443620Z"
    }
   },
   "outputs": [
    {
     "data": {
      "text/plain": [
       "LogisticRegression(C=1000, solver='liblinear')"
      ]
     },
     "execution_count": 33,
     "metadata": {},
     "output_type": "execute_result"
    }
   ],
   "source": [
    "log_op = LogisticRegression(C= 1000, max_iter= 100, penalty= 'l2', solver= 'liblinear')\n",
    "log_op.fit(X_train_transform, y_train_ravel)"
   ]
  },
  {
   "cell_type": "code",
   "execution_count": 34,
   "id": "pleasant-superintendent",
   "metadata": {
    "ExecuteTime": {
     "end_time": "2021-04-15T01:15:00.059707Z",
     "start_time": "2021-04-15T01:15:00.016058Z"
    }
   },
   "outputs": [
    {
     "name": "stdout",
     "output_type": "stream",
     "text": [
      "Logistic Regression\n",
      "Accuracy: 84.17%\n",
      "              precision    recall  f1-score   support\n",
      "\n",
      "           0       0.85      0.98      0.91     12474\n",
      "           1       0.61      0.15      0.25      2518\n",
      "\n",
      "    accuracy                           0.84     14992\n",
      "   macro avg       0.73      0.57      0.58     14992\n",
      "weighted avg       0.81      0.84      0.80     14992\n",
      "\n"
     ]
    }
   ],
   "source": [
    "y_pred_log_op = log_op.predict(X_test_transform)\n",
    "\n",
    "print('Logistic Regression')\n",
    "print('Accuracy: {facc}%'.format(facc=round(metrics.accuracy_score(y_test, y_pred_log_op) * 100, 2)))\n",
    "print(metrics.classification_report(y_test, y_pred_log_op))"
   ]
  },
  {
   "cell_type": "markdown",
   "id": "rational-color",
   "metadata": {},
   "source": [
    "As predicted, the accuracy and other metrics are the same to the original logistic model. We will try other models with higher efficiency in optimization for this problem."
   ]
  },
  {
   "cell_type": "markdown",
   "id": "delayed-cattle",
   "metadata": {},
   "source": [
    "## 8. Decision Tree"
   ]
  },
  {
   "cell_type": "markdown",
   "id": "surgical-commission",
   "metadata": {},
   "source": [
    "Decision tree can be used for classification because of it conditional structure to determine the target's class. "
   ]
  },
  {
   "cell_type": "markdown",
   "id": "powerful-softball",
   "metadata": {},
   "source": [
    "### 8.1. Train basic decision tree model"
   ]
  },
  {
   "cell_type": "code",
   "execution_count": 35,
   "id": "catholic-electronics",
   "metadata": {
    "ExecuteTime": {
     "end_time": "2021-04-15T01:15:00.654466Z",
     "start_time": "2021-04-15T01:15:00.063930Z"
    }
   },
   "outputs": [],
   "source": [
    "from sklearn.tree import DecisionTreeClassifier, plot_tree\n",
    "\n",
    "Tree_clf = DecisionTreeClassifier(criterion='entropy', max_depth=None)\n",
    "tree_model = Tree_clf.fit(X_train, y_train)"
   ]
  },
  {
   "cell_type": "code",
   "execution_count": 36,
   "id": "suspected-harbor",
   "metadata": {
    "ExecuteTime": {
     "end_time": "2021-04-15T01:15:00.717283Z",
     "start_time": "2021-04-15T01:15:00.656347Z"
    }
   },
   "outputs": [
    {
     "name": "stdout",
     "output_type": "stream",
     "text": [
      "Max depth: 38\n",
      "Decision Tree\n",
      "Accuracy: 78.78%\n",
      "              precision    recall  f1-score   support\n",
      "\n",
      "           0       0.86      0.89      0.87     12474\n",
      "           1       0.35      0.30      0.32      2518\n",
      "\n",
      "    accuracy                           0.79     14992\n",
      "   macro avg       0.60      0.59      0.60     14992\n",
      "weighted avg       0.78      0.79      0.78     14992\n",
      "\n"
     ]
    }
   ],
   "source": [
    "y_pred_tree = Tree_clf.predict(X_test)\n",
    "\n",
    "print('Max depth:',tree_model.tree_.max_depth)\n",
    "print('Decision Tree')\n",
    "print('Accuracy: {facc}%'.format(facc=round(metrics.accuracy_score(y_test, y_pred_tree) * 100, 2)))\n",
    "print(metrics.classification_report(y_test, y_pred_tree))"
   ]
  },
  {
   "cell_type": "markdown",
   "id": "bacterial-ethernet",
   "metadata": {},
   "source": [
    "The overall accuracy was low as we didn't limit the max_depth, which was easily led to overfitting (the tree could be visulized by running the cell below). Parameters tunning should be applied on shaping the tree and choosing different criteria."
   ]
  },
  {
   "cell_type": "code",
   "execution_count": 37,
   "id": "according-spencer",
   "metadata": {
    "ExecuteTime": {
     "end_time": "2021-04-15T01:15:00.732214Z",
     "start_time": "2021-04-15T01:15:00.719189Z"
    },
    "scrolled": true
   },
   "outputs": [],
   "source": [
    "# UNCOMMENT TO RUN: Plot the whole tree (optional as it takes lots of time). \n",
    "\n",
    "# class_labels = ['0','1']\n",
    "\n",
    "# fig = plt.figure(figsize=(25,20))\n",
    "# _ = plot_tree(tree_model, \n",
    "#             feature_names=X_train.columns,  \n",
    "#             class_names=class_labels,\n",
    "#             filled=True)"
   ]
  },
  {
   "cell_type": "markdown",
   "id": "superior-google",
   "metadata": {},
   "source": [
    "### 8.2. Decision tree hyper-parameter tuning"
   ]
  },
  {
   "cell_type": "markdown",
   "id": "nutritional-helen",
   "metadata": {},
   "source": [
    "#### 8.2.1 Find the best parameters for optimization"
   ]
  },
  {
   "cell_type": "markdown",
   "id": "bulgarian-player",
   "metadata": {},
   "source": [
    "<font color=red>**Parameters:** </font>\n",
    "\n",
    "* <font color=green>max_depth </font>: the maximum depth of the tree. If none, the tree will expand the note until all leaves are pure. Having max_depth combine with min_samples_split and min_samples_leaf tuning will reshape the tree to allow overfitting\n",
    "* <font color=green>min_samples_split </font>: The minimum number of samples required to split an internal node. \n",
    "* <font color=green>min_samples_leaf </font>: The minimum number of samples required to be at a leaf node\n",
    "\n",
    "Both min_samples_split and min_samples_leaf are used to control the number of samples in a node (to contain and to split). These are the most responsible for the performance of the final trees from their relative importance analysis, as well as prevent overfitting [1]\n",
    "* <font color=green>criterion </font>: The function to measure the quality of a split (gini for CART and entropy for ID3,C4.5 algorithm)"
   ]
  },
  {
   "cell_type": "code",
   "execution_count": 38,
   "id": "transparent-drama",
   "metadata": {
    "ExecuteTime": {
     "end_time": "2021-04-15T01:15:00.748101Z",
     "start_time": "2021-04-15T01:15:00.735137Z"
    }
   },
   "outputs": [],
   "source": [
    "# Determine parameters for decision tree\n",
    "dt_params = {'criterion': ['gini','entropy'],\n",
    "            'max_depth' : [5, 8, 15, 25, 30,38],\n",
    "            'min_samples_split' : [2, 5, 10, 15, 100],\n",
    "            'min_samples_leaf' : [1, 2, 5, 10]}\n",
    "\n",
    "dt_model = DecisionTreeClassifier()"
   ]
  },
  {
   "cell_type": "code",
   "execution_count": 39,
   "id": "communist-paris",
   "metadata": {
    "ExecuteTime": {
     "end_time": "2021-04-15T01:16:25.823842Z",
     "start_time": "2021-04-15T01:15:00.750096Z"
    }
   },
   "outputs": [
    {
     "name": "stdout",
     "output_type": "stream",
     "text": [
      "Fitting 5 folds for each of 240 candidates, totalling 1200 fits\n",
      "Best parameters: {'criterion': 'gini', 'max_depth': 30, 'min_samples_leaf': 5, 'min_samples_split': 15}\n"
     ]
    }
   ],
   "source": [
    "# UNCOMMENT TO RUN. ONLY RUN ONCE TO GET THE BEST PARAMETERS\n",
    "\n",
    "hyper_parameter_tunning(X_train, y_train, dt_model, dt_params)"
   ]
  },
  {
   "cell_type": "markdown",
   "id": "technological-version",
   "metadata": {},
   "source": [
    "Best parameters: {'criterion': 'gini', 'max_depth': 30, 'min_samples_leaf': 5, 'min_samples_split': 15}"
   ]
  },
  {
   "cell_type": "markdown",
   "id": "dental-bowling",
   "metadata": {},
   "source": [
    "#### 8.2.2. Train model with best parameters"
   ]
  },
  {
   "cell_type": "code",
   "execution_count": 57,
   "id": "centered-shell",
   "metadata": {
    "ExecuteTime": {
     "end_time": "2021-04-15T01:20:57.229048Z",
     "start_time": "2021-04-15T01:20:56.927570Z"
    }
   },
   "outputs": [],
   "source": [
    "Tree_clf_op = DecisionTreeClassifier(criterion='gini', \n",
    "                                     max_depth=30,\n",
    "                                    min_samples_leaf=5,\n",
    "                                    min_samples_split=15)\n",
    "tree_model_op = Tree_clf_op.fit(X_train, y_train)"
   ]
  },
  {
   "cell_type": "code",
   "execution_count": 59,
   "id": "injured-disney",
   "metadata": {
    "ExecuteTime": {
     "end_time": "2021-04-15T01:21:12.249338Z",
     "start_time": "2021-04-15T01:21:12.205426Z"
    }
   },
   "outputs": [
    {
     "name": "stdout",
     "output_type": "stream",
     "text": [
      "Max depth: 30\n",
      "Decision Tree\n",
      "Accuracy: 82.06%\n",
      "              precision    recall  f1-score   support\n",
      "\n",
      "           0       0.86      0.94      0.90     12474\n",
      "           1       0.44      0.25      0.32      2518\n",
      "\n",
      "    accuracy                           0.82     14992\n",
      "   macro avg       0.65      0.59      0.61     14992\n",
      "weighted avg       0.79      0.82      0.80     14992\n",
      "\n"
     ]
    }
   ],
   "source": [
    "y_pred_tree_op = Tree_clf_op.predict(X_test)\n",
    "\n",
    "print('Max depth:',Tree_clf_op.tree_.max_depth)\n",
    "print('Decision Tree')\n",
    "print('Accuracy: {facc}%'.format(facc=round(metrics.accuracy_score(y_test, y_pred_tree_op) * 100, 2)))\n",
    "print(metrics.classification_report(y_test, y_pred_tree_op))"
   ]
  },
  {
   "cell_type": "markdown",
   "id": "extended-sleep",
   "metadata": {},
   "source": [
    "After some parameters tuning, all values in the classification report have been increased significantly and similar to logistic regression model"
   ]
  },
  {
   "cell_type": "markdown",
   "id": "flying-distribution",
   "metadata": {},
   "source": [
    "## 9. Random Forest"
   ]
  },
  {
   "cell_type": "markdown",
   "id": "fourth-honor",
   "metadata": {},
   "source": [
    "Random Forest is a tree-based algorithm (model) comprised of several decision trees, merging their output to enhance the performance of a model. It will produce many weak learners (tree) and vote for the best outcome."
   ]
  },
  {
   "cell_type": "code",
   "execution_count": 40,
   "id": "advisory-forge",
   "metadata": {
    "ExecuteTime": {
     "end_time": "2021-04-15T01:16:25.855757Z",
     "start_time": "2021-04-15T01:16:25.825837Z"
    },
    "scrolled": true
   },
   "outputs": [],
   "source": [
    "from sklearn.ensemble import RandomForestClassifier"
   ]
  },
  {
   "cell_type": "markdown",
   "id": "proprietary-plain",
   "metadata": {},
   "source": [
    "### 9.1. Train basic model with the best decision tree model"
   ]
  },
  {
   "cell_type": "code",
   "execution_count": 75,
   "id": "toxic-sphere",
   "metadata": {
    "ExecuteTime": {
     "end_time": "2021-04-15T01:48:40.524602Z",
     "start_time": "2021-04-15T01:48:23.330564Z"
    }
   },
   "outputs": [
    {
     "data": {
      "text/plain": [
       "RandomForestClassifier(bootstrap=False, max_depth=30, min_samples_leaf=5,\n",
       "                       min_samples_split=15, n_estimators=300)"
      ]
     },
     "execution_count": 75,
     "metadata": {},
     "output_type": "execute_result"
    }
   ],
   "source": [
    "RF_clf = RandomForestClassifier(criterion='gini', \n",
    "                                max_depth=30,\n",
    "                                min_samples_leaf=5,\n",
    "                                min_samples_split=15)\n",
    "#                                 bootstrap= False,\n",
    "#                                 n_estimators= 300)\n",
    "RF_clf.fit(X_train, y_train_ravel)"
   ]
  },
  {
   "cell_type": "code",
   "execution_count": 79,
   "id": "special-immune",
   "metadata": {
    "ExecuteTime": {
     "end_time": "2021-04-15T01:56:56.509784Z",
     "start_time": "2021-04-15T01:56:55.382797Z"
    }
   },
   "outputs": [
    {
     "name": "stdout",
     "output_type": "stream",
     "text": [
      "Random Forest\n",
      "Accuracy: 84.6%\n",
      "              precision    recall  f1-score   support\n",
      "\n",
      "           0       0.85      0.98      0.91     12474\n",
      "           1       0.66      0.17      0.27      2518\n",
      "\n",
      "    accuracy                           0.85     14992\n",
      "   macro avg       0.76      0.58      0.59     14992\n",
      "weighted avg       0.82      0.85      0.81     14992\n",
      "\n"
     ]
    }
   ],
   "source": [
    "y_pred_forest = RF_clf.predict(X_test)\n",
    "\n",
    "print('Random Forest')\n",
    "print('Accuracy: {facc}%'.format(facc=round(metrics.accuracy_score(y_test, y_pred_forest) * 100, 2)))\n",
    "print(metrics.classification_report(y_test, y_pred_forest))"
   ]
  },
  {
   "cell_type": "markdown",
   "id": "abandoned-drinking",
   "metadata": {},
   "source": [
    "### 9.2. Hyper-parameter tunning"
   ]
  },
  {
   "cell_type": "code",
   "execution_count": 73,
   "id": "dimensional-brass",
   "metadata": {
    "ExecuteTime": {
     "end_time": "2021-04-15T01:38:28.415041Z",
     "start_time": "2021-04-15T01:38:28.398056Z"
    }
   },
   "outputs": [
    {
     "data": {
      "text/plain": [
       "RandomForestClassifier(max_depth=30, min_samples_leaf=5, min_samples_split=15)"
      ]
     },
     "execution_count": 73,
     "metadata": {},
     "output_type": "execute_result"
    }
   ],
   "source": [
    "# Only run once for best parameters\n",
    "RF_params = {'n_estimators' : [100, 300, 500, 800, 1200],  # The number of tree in the forest (default is 100)\n",
    "            'bootstrap': [True, False]}  # Using sample (True) or the whole dataset (False) to build the tree\n",
    "\n",
    "RF_clf"
   ]
  },
  {
   "cell_type": "code",
   "execution_count": 74,
   "id": "personal-internship",
   "metadata": {
    "ExecuteTime": {
     "end_time": "2021-04-15T01:45:12.296373Z",
     "start_time": "2021-04-15T01:38:30.357314Z"
    }
   },
   "outputs": [
    {
     "name": "stdout",
     "output_type": "stream",
     "text": [
      "Fitting 5 folds for each of 10 candidates, totalling 50 fits\n",
      "Best parameters: {'bootstrap': False, 'n_estimators': 300}\n"
     ]
    }
   ],
   "source": [
    "# UNCOMMENT TO RUN. ONLY RUN ONCE TO GET THE BEST PARAMETERS\n",
    "\n",
    "hyper_parameter_tunning(X_train, y_train_ravel,RF_clf, RF_params)"
   ]
  },
  {
   "cell_type": "markdown",
   "id": "opposed-apparatus",
   "metadata": {},
   "source": [
    "Best parameters: {'bootstrap': False, 'n_estimators': 300}. After applying 2 more parameters, only the F1-score for class 1 increases 0.1."
   ]
  },
  {
   "cell_type": "markdown",
   "id": "structured-quantity",
   "metadata": {},
   "source": [
    "## 10. XGBoost"
   ]
  },
  {
   "cell_type": "code",
   "execution_count": 44,
   "id": "radio-accused",
   "metadata": {
    "ExecuteTime": {
     "end_time": "2021-04-15T01:16:32.261633Z",
     "start_time": "2021-04-15T01:16:32.247671Z"
    }
   },
   "outputs": [],
   "source": [
    "# Install xgboost library\n",
    "\n",
    "# !pip install xgboost"
   ]
  },
  {
   "cell_type": "code",
   "execution_count": 45,
   "id": "diagnostic-clark",
   "metadata": {
    "ExecuteTime": {
     "end_time": "2021-04-15T01:16:32.292583Z",
     "start_time": "2021-04-15T01:16:32.263628Z"
    }
   },
   "outputs": [],
   "source": [
    "from xgboost import XGBClassifier"
   ]
  },
  {
   "cell_type": "markdown",
   "id": "hazardous-yield",
   "metadata": {},
   "source": [
    "### 10.1. Hyper-parameter tunning"
   ]
  },
  {
   "cell_type": "code",
   "execution_count": 46,
   "id": "dressed-observer",
   "metadata": {
    "ExecuteTime": {
     "end_time": "2021-04-15T01:16:32.308549Z",
     "start_time": "2021-04-15T01:16:32.294546Z"
    }
   },
   "outputs": [],
   "source": [
    "# XGBoost hyper-parameter tuning\n",
    "def hyperParameterTuning(X_train, y_train):\n",
    "    param_tuning = {\"learning_rate\"    : [0.05, 0.10, 0.15, 0.20, 0.25, 0.30 ] ,\n",
    "     \"max_depth\"        : [ 3, 4, 5, 6, 8, 10, 12, 15],\n",
    "     \"min_child_weight\" : [ 1, 3, 5, 7 ],\n",
    "     \"gamma\"            : [ 0.0, 0.1, 0.2 , 0.3, 0.4 ],\n",
    "     \"colsample_bytree\" : [ 0.3, 0.4, 0.5 , 0.7 ], \n",
    "      \"objective\" : [\"binary:logistic\"]}\n",
    "\n",
    "    xgb_model = XGBClassifier()\n",
    "\n",
    "    gsearch = GridSearchCV(estimator = xgb_model,\n",
    "                           param_grid = param_tuning,                        \n",
    "                           scoring = make_scorer(f1_score),  \n",
    "                           cv = 5,\n",
    "                           n_jobs = -1,\n",
    "                           verbose = 1)\n",
    "\n",
    "    gsearch.fit(X_train,y_train)\n",
    "\n",
    "    return gsearch.best_params_"
   ]
  },
  {
   "cell_type": "code",
   "execution_count": 47,
   "id": "sublime-pound",
   "metadata": {
    "ExecuteTime": {
     "end_time": "2021-04-15T01:16:32.324471Z",
     "start_time": "2021-04-15T01:16:32.310503Z"
    }
   },
   "outputs": [],
   "source": [
    "# Only run once for best parameters\n",
    "# hyperParameterTuning(X_train,y_train_ravel)"
   ]
  },
  {
   "cell_type": "markdown",
   "id": "unexpected-future",
   "metadata": {},
   "source": [
    "### 10.2. Train model with the best parameters"
   ]
  },
  {
   "cell_type": "code",
   "execution_count": 48,
   "id": "recovered-short",
   "metadata": {
    "ExecuteTime": {
     "end_time": "2021-04-15T01:16:34.197459Z",
     "start_time": "2021-04-15T01:16:32.327458Z"
    }
   },
   "outputs": [
    {
     "name": "stderr",
     "output_type": "stream",
     "text": [
      "C:\\Users\\Dell\\anaconda3\\lib\\site-packages\\xgboost\\sklearn.py:888: UserWarning: The use of label encoder in XGBClassifier is deprecated and will be removed in a future release. To remove this warning, do the following: 1) Pass option use_label_encoder=False when constructing XGBClassifier object; and 2) Encode your labels (y) as integers starting with 0, i.e. 0, 1, 2, ..., [num_class - 1].\n",
      "  warnings.warn(label_encoder_deprecation_msg, UserWarning)\n"
     ]
    },
    {
     "name": "stdout",
     "output_type": "stream",
     "text": [
      "[08:16:32] WARNING: C:/Users/Administrator/workspace/xgboost-win64_release_1.3.0/src/learner.cc:1061: Starting in XGBoost 1.3.0, the default evaluation metric used with the objective 'binary:logistic' was changed from 'error' to 'logloss'. Explicitly set eval_metric if you'd like to restore the old behavior.\n"
     ]
    },
    {
     "data": {
      "text/plain": [
       "XGBClassifier(base_score=0.5, booster='gbtree', colsample_bylevel=1,\n",
       "              colsample_bynode=1, colsample_bytree=0.4, gamma=0.2, gpu_id=-1,\n",
       "              importance_type='gain', interaction_constraints='',\n",
       "              learning_rate=0.05, max_delta_step=0, max_depth=8,\n",
       "              min_child_weight=3, missing=nan, monotone_constraints='()',\n",
       "              n_estimators=100, n_jobs=4, num_parallel_tree=1, random_state=0,\n",
       "              reg_alpha=0, reg_lambda=1, scale_pos_weight=1, subsample=1,\n",
       "              tree_method='exact', validate_parameters=1, verbosity=None)"
      ]
     },
     "execution_count": 48,
     "metadata": {},
     "output_type": "execute_result"
    }
   ],
   "source": [
    "from xgboost import XGBClassifier\n",
    "\n",
    "xgb = XGBClassifier(learning_rate = 0.05, max_depth = 8, min_child_weight = 3, gamma=  0.2, colsample_bytree =0.4, objective = 'binary:logistic')\n",
    "# learning_rate = 0.05, max_depth = 8, min_child_weight = 3, gamma=  0.2, colsample_bytree =0.4, objective = 'binary:logistic'\n",
    "# learning_rate = 0.1, max_depth = 7, min_child_weight = 5, gamma=  0.0, colsample_bytree =0.4, objective = 'binary:logistic'\n",
    "xgb.fit(X_train, y_train_ravel)"
   ]
  },
  {
   "cell_type": "markdown",
   "id": "expected-revelation",
   "metadata": {},
   "source": [
    "### 10.3. Classification report"
   ]
  },
  {
   "cell_type": "code",
   "execution_count": 49,
   "id": "therapeutic-second",
   "metadata": {
    "ExecuteTime": {
     "end_time": "2021-04-15T01:16:34.291208Z",
     "start_time": "2021-04-15T01:16:34.198457Z"
    },
    "scrolled": true
   },
   "outputs": [
    {
     "name": "stdout",
     "output_type": "stream",
     "text": [
      "XGBoostClassifier\n",
      "Accuracy: 84.74%\n",
      "              precision    recall  f1-score   support\n",
      "\n",
      "           0       0.85      0.99      0.91     12474\n",
      "           1       0.69      0.16      0.26      2518\n",
      "\n",
      "    accuracy                           0.85     14992\n",
      "   macro avg       0.77      0.57      0.59     14992\n",
      "weighted avg       0.83      0.85      0.81     14992\n",
      "\n"
     ]
    }
   ],
   "source": [
    "y_xgb = xgb.predict(X_test)\n",
    "\n",
    "print('XGBoostClassifier')\n",
    "print('Accuracy: {facc}%'.format(facc=round(metrics.accuracy_score(y_test, y_xgb) * 100, 2)))\n",
    "print(metrics.classification_report(y_test, y_xgb))"
   ]
  },
  {
   "cell_type": "code",
   "execution_count": 50,
   "id": "anonymous-preservation",
   "metadata": {
    "ExecuteTime": {
     "end_time": "2021-04-15T01:16:35.105032Z",
     "start_time": "2021-04-15T01:16:34.292205Z"
    }
   },
   "outputs": [
    {
     "data": {
      "image/png": "[encoded data removed]",
      "text/plain": [
       "<Figure size 432x288 with 1 Axes>"
      ]
     },
     "metadata": {},
     "output_type": "display_data"
    },
    {
     "data": {
      "text/plain": [
       "<Figure size 3600x3600 with 0 Axes>"
      ]
     },
     "metadata": {},
     "output_type": "display_data"
    }
   ],
   "source": [
    "from xgboost import plot_importance\n",
    "\n",
    "plot_importance(xgb, max_num_features = 30)\n",
    "plt.figure(figsize=(50,50))\n",
    "plt.show()"
   ]
  },
  {
   "cell_type": "markdown",
   "id": "fifth-kansas",
   "metadata": {},
   "source": [
    "## 11. Apply on Test dataset"
   ]
  },
  {
   "cell_type": "code",
   "execution_count": 51,
   "id": "approximate-large",
   "metadata": {
    "ExecuteTime": {
     "end_time": "2021-04-15T01:16:35.263951Z",
     "start_time": "2021-04-15T01:16:35.107040Z"
    }
   },
   "outputs": [
    {
     "data": {
      "text/html": [
       "<div>\n",
       "<style scoped>\n",
       "    .dataframe tbody tr th:only-of-type {\n",
       "        vertical-align: middle;\n",
       "    }\n",
       "\n",
       "    .dataframe tbody tr th {\n",
       "        vertical-align: top;\n",
       "    }\n",
       "\n",
       "    .dataframe thead th {\n",
       "        text-align: right;\n",
       "    }\n",
       "</style>\n",
       "<table border=\"1\" class=\"dataframe\">\n",
       "  <thead>\n",
       "    <tr style=\"text-align: right;\">\n",
       "      <th></th>\n",
       "      <th>Gender</th>\n",
       "      <th>Race</th>\n",
       "      <th>TypeOfAdmission</th>\n",
       "      <th>CCSProcedureCode</th>\n",
       "      <th>APRSeverityOfIllnessCode</th>\n",
       "      <th>PaymentTypology</th>\n",
       "      <th>BirthWeight</th>\n",
       "      <th>EmergencyDepartmentIndicator</th>\n",
       "      <th>AverageCostInCounty</th>\n",
       "      <th>AverageChargesInCounty</th>\n",
       "      <th>AverageCostInFacility</th>\n",
       "      <th>AverageChargesInFacility</th>\n",
       "      <th>AverageIncomeInZipCode</th>\n",
       "    </tr>\n",
       "  </thead>\n",
       "  <tbody>\n",
       "    <tr>\n",
       "      <th>0</th>\n",
       "      <td>F</td>\n",
       "      <td>Other Race</td>\n",
       "      <td>Newborn</td>\n",
       "      <td>216</td>\n",
       "      <td>3</td>\n",
       "      <td>Medicaid</td>\n",
       "      <td>4900</td>\n",
       "      <td>N</td>\n",
       "      <td>3242</td>\n",
       "      <td>8966</td>\n",
       "      <td>2448</td>\n",
       "      <td>13196</td>\n",
       "      <td>34</td>\n",
       "    </tr>\n",
       "    <tr>\n",
       "      <th>1</th>\n",
       "      <td>F</td>\n",
       "      <td>White</td>\n",
       "      <td>Newborn</td>\n",
       "      <td>220</td>\n",
       "      <td>1</td>\n",
       "      <td>Medicaid</td>\n",
       "      <td>3100</td>\n",
       "      <td>N</td>\n",
       "      <td>2611</td>\n",
       "      <td>9227</td>\n",
       "      <td>1751</td>\n",
       "      <td>8951</td>\n",
       "      <td>45</td>\n",
       "    </tr>\n",
       "    <tr>\n",
       "      <th>2</th>\n",
       "      <td>M</td>\n",
       "      <td>Multi-racial</td>\n",
       "      <td>Newborn</td>\n",
       "      <td>115</td>\n",
       "      <td>1</td>\n",
       "      <td>Medicaid</td>\n",
       "      <td>3300</td>\n",
       "      <td>N</td>\n",
       "      <td>3155</td>\n",
       "      <td>11381</td>\n",
       "      <td>1052</td>\n",
       "      <td>11314</td>\n",
       "      <td>74</td>\n",
       "    </tr>\n",
       "    <tr>\n",
       "      <th>3</th>\n",
       "      <td>M</td>\n",
       "      <td>Other Race</td>\n",
       "      <td>Newborn</td>\n",
       "      <td>228</td>\n",
       "      <td>1</td>\n",
       "      <td>Medicaid</td>\n",
       "      <td>3300</td>\n",
       "      <td>N</td>\n",
       "      <td>2611</td>\n",
       "      <td>9227</td>\n",
       "      <td>3790</td>\n",
       "      <td>6250</td>\n",
       "      <td>45</td>\n",
       "    </tr>\n",
       "    <tr>\n",
       "      <th>4</th>\n",
       "      <td>F</td>\n",
       "      <td>Other Race</td>\n",
       "      <td>Newborn</td>\n",
       "      <td>220</td>\n",
       "      <td>2</td>\n",
       "      <td>Medicaid</td>\n",
       "      <td>3800</td>\n",
       "      <td>N</td>\n",
       "      <td>3155</td>\n",
       "      <td>11381</td>\n",
       "      <td>3032</td>\n",
       "      <td>10135</td>\n",
       "      <td>59</td>\n",
       "    </tr>\n",
       "  </tbody>\n",
       "</table>\n",
       "</div>"
      ],
      "text/plain": [
       "  Gender          Race TypeOfAdmission  CCSProcedureCode  \\\n",
       "0      F    Other Race         Newborn               216   \n",
       "1      F         White         Newborn               220   \n",
       "2      M  Multi-racial         Newborn               115   \n",
       "3      M    Other Race         Newborn               228   \n",
       "4      F    Other Race         Newborn               220   \n",
       "\n",
       "   APRSeverityOfIllnessCode PaymentTypology  BirthWeight  \\\n",
       "0                         3        Medicaid         4900   \n",
       "1                         1        Medicaid         3100   \n",
       "2                         1        Medicaid         3300   \n",
       "3                         1        Medicaid         3300   \n",
       "4                         2        Medicaid         3800   \n",
       "\n",
       "  EmergencyDepartmentIndicator  AverageCostInCounty  AverageChargesInCounty  \\\n",
       "0                            N                 3242                    8966   \n",
       "1                            N                 2611                    9227   \n",
       "2                            N                 3155                   11381   \n",
       "3                            N                 2611                    9227   \n",
       "4                            N                 3155                   11381   \n",
       "\n",
       "   AverageCostInFacility  AverageChargesInFacility  AverageIncomeInZipCode  \n",
       "0                   2448                     13196                      34  \n",
       "1                   1751                      8951                      45  \n",
       "2                   1052                     11314                      74  \n",
       "3                   3790                      6250                      45  \n",
       "4                   3032                     10135                      59  "
      ]
     },
     "execution_count": 51,
     "metadata": {},
     "output_type": "execute_result"
    }
   ],
   "source": [
    "test_data = pd.read_csv(\"test_data.csv\")\n",
    "submission = pd.DataFrame(columns=['ID','LengthOfStay'])\n",
    "submission['ID'] = test_data['ID']\n",
    "test_data = test_data.drop(['ID','HealthServiceArea'], axis = 1)\n",
    "\n",
    "test_data.head()"
   ]
  },
  {
   "cell_type": "code",
   "execution_count": 52,
   "id": "interesting-senator",
   "metadata": {
    "ExecuteTime": {
     "end_time": "2021-04-15T01:16:35.402581Z",
     "start_time": "2021-04-15T01:16:35.265948Z"
    }
   },
   "outputs": [
    {
     "name": "stdout",
     "output_type": "stream",
     "text": [
      "Gender\n",
      "   Counts Percent\n",
      "M   35471  51.28%\n",
      "F   33704  48.72%\n",
      "U       2    0.0%\n",
      "--------------------------------\n",
      "Race\n",
      "                        Counts Percent\n",
      "White                    30432  43.99%\n",
      "Other Race               27043  39.09%\n",
      "Black/African American   10780  15.58%\n",
      "Multi-racial               922   1.33%\n",
      "--------------------------------\n",
      "TypeOfAdmission\n",
      "           Counts Percent\n",
      "Newborn     68125  98.48%\n",
      "Emergency     495   0.72%\n",
      "Urgent        362   0.52%\n",
      "Elective      194   0.28%\n",
      "Trauma          1    0.0%\n",
      "--------------------------------\n",
      "CCSProcedureCode\n",
      "      Counts Percent\n",
      " 228   24212   35.0%\n",
      " 0     15120  21.86%\n",
      " 220   13108  18.95%\n",
      " 115   12819  18.53%\n",
      " 231    2535   3.66%\n",
      " 216     764    1.1%\n",
      "-1       619   0.89%\n",
      "--------------------------------\n",
      "APRSeverityOfIllnessCode\n",
      "   Counts Percent\n",
      "1   55243  79.86%\n",
      "2   10935  15.81%\n",
      "3    2998   4.33%\n",
      "4       1    0.0%\n",
      "--------------------------------\n",
      "PaymentTypology\n",
      "                           Counts Percent\n",
      "Medicaid                    37037  53.54%\n",
      "Private Health Insurance    14871   21.5%\n",
      "Blue Cross/Blue Shield      12795   18.5%\n",
      "Self-Pay                     2508   3.63%\n",
      "Managed Care, Unspecified    1539   2.22%\n",
      "Federal/State/Local/VA        320   0.46%\n",
      "Medicare                       43   0.06%\n",
      "Miscellaneous/Other            27   0.04%\n",
      "Unknown                        25   0.04%\n",
      "Department of Corrections      12   0.02%\n",
      "--------------------------------\n",
      "BirthWeight\n",
      "      Counts Percent\n",
      "3200    6355   9.19%\n",
      "3300    6320   9.14%\n",
      "3400    6049   8.74%\n",
      "3100    5735   8.29%\n",
      "3500    5454   7.88%\n",
      "3000    5218   7.54%\n",
      "3600    4799   6.94%\n",
      "2900    4318   6.24%\n",
      "3700    4006   5.79%\n",
      "2800    3529    5.1%\n",
      "3800    3256   4.71%\n",
      "2700    2654   3.84%\n",
      "3900    2479   3.58%\n",
      "2600    1988   2.87%\n",
      "4000    1785   2.58%\n",
      "2500    1338   1.93%\n",
      "4100    1257   1.82%\n",
      "4200     871   1.26%\n",
      "4300     617   0.89%\n",
      "4400     418    0.6%\n",
      "4500     255   0.37%\n",
      "4600     151   0.22%\n",
      "4700     123   0.18%\n",
      "4800      70    0.1%\n",
      "4900      56   0.08%\n",
      "5000      24   0.03%\n",
      "5100      17   0.02%\n",
      "5200      13   0.02%\n",
      "5300       8   0.01%\n",
      "6100       3    0.0%\n",
      "5700       2    0.0%\n",
      "7800       1    0.0%\n",
      "6600       1    0.0%\n",
      "8500       1    0.0%\n",
      "6700       1    0.0%\n",
      "5400       1    0.0%\n",
      "9000       1    0.0%\n",
      "5800       1    0.0%\n",
      "8600       1    0.0%\n",
      "5500       1    0.0%\n",
      "--------------------------------\n",
      "EmergencyDepartmentIndicator\n",
      "   Counts Percent\n",
      "N   68829   99.5%\n",
      "Y     348    0.5%\n",
      "--------------------------------\n",
      "AverageCostInCounty\n",
      "      Counts Percent\n",
      "3155   13906   20.1%\n",
      "2611    9648  13.95%\n",
      "2041    8773  12.68%\n",
      "1719    8352  12.07%\n",
      "3623    8218  11.88%\n",
      "3242    4955   7.16%\n",
      "2377    4124   5.96%\n",
      "1944    2960   4.28%\n",
      "1531    2692   3.89%\n",
      "2756    1360   1.97%\n",
      "1482    1025   1.48%\n",
      "1116     635   0.92%\n",
      "631      563   0.81%\n",
      "1980     523   0.76%\n",
      "738      483    0.7%\n",
      "1303     343    0.5%\n",
      "1630     321   0.46%\n",
      "3427     296   0.43%\n",
      "--------------------------------\n",
      "AverageChargesInCounty\n",
      "       Counts Percent\n",
      "11381   13906   20.1%\n",
      "9227     9648  13.95%\n",
      "9917     8773  12.68%\n",
      "3028     8352  12.07%\n",
      "7197     8218  11.88%\n",
      "8966     4955   7.16%\n",
      "7224     4124   5.96%\n",
      "5076     2960   4.28%\n",
      "6546     2692   3.89%\n",
      "6179     1360   1.97%\n",
      "3493     1025   1.48%\n",
      "4109      635   0.92%\n",
      "1491      563   0.81%\n",
      "5992      523   0.76%\n",
      "1816      483    0.7%\n",
      "4386      343    0.5%\n",
      "2991      321   0.46%\n",
      "3912      296   0.43%\n",
      "--------------------------------\n",
      "AverageCostInFacility\n",
      "      Counts Percent\n",
      "1751    2985   4.32%\n",
      "1374    2823   4.08%\n",
      "828     2785   4.03%\n",
      "3032    2493    3.6%\n",
      "2618    2484   3.59%\n",
      "...      ...     ...\n",
      "4404     266   0.38%\n",
      "4255     248   0.36%\n",
      "6007     212   0.31%\n",
      "1129      29   0.04%\n",
      "4071      26   0.04%\n",
      "\n",
      "[68 rows x 2 columns]\n",
      "--------------------------------\n",
      "AverageChargesInFacility\n",
      "       Counts Percent\n",
      "8951     2985   4.32%\n",
      "13345    2823   4.08%\n",
      "1876     2785   4.03%\n",
      "10135    2493    3.6%\n",
      "5977     2484   3.59%\n",
      "...       ...     ...\n",
      "6670      266   0.38%\n",
      "7101      248   0.36%\n",
      "7983      212   0.31%\n",
      "3136       29   0.04%\n",
      "13043      26   0.04%\n",
      "\n",
      "[68 rows x 2 columns]\n",
      "--------------------------------\n",
      "AverageIncomeInZipCode\n",
      "     Counts Percent\n",
      "45    13589  19.64%\n",
      "59     7968  11.52%\n",
      "34     7538   10.9%\n",
      "83     6615   9.56%\n",
      "74     5705   8.25%\n",
      "68     5124   7.41%\n",
      "41     4942   7.14%\n",
      "115    4229   6.11%\n",
      "53     2384   3.45%\n",
      "54     2270   3.28%\n",
      "81     1944   2.81%\n",
      "57     1279   1.85%\n",
      "46     1202   1.74%\n",
      "50      881   1.27%\n",
      "49      805   1.16%\n",
      "104     574   0.83%\n",
      "95      554    0.8%\n",
      "36      500   0.72%\n",
      "96      342   0.49%\n",
      "99      304   0.44%\n",
      "84      275    0.4%\n",
      "103      49   0.07%\n",
      "55       49   0.07%\n",
      "58       17   0.02%\n",
      "52       16   0.02%\n",
      "56        7   0.01%\n",
      "43        4   0.01%\n",
      "77        4   0.01%\n",
      "64        4   0.01%\n",
      "47        2    0.0%\n",
      "28        1    0.0%\n",
      "--------------------------------\n"
     ]
    }
   ],
   "source": [
    "for col in test_data.columns:\n",
    "    print(col)\n",
    "    count = test_data[col].value_counts()\n",
    "    percent = test_data[col].value_counts(normalize=True).mul(100).round(2).astype(str) + '%'\n",
    "    print(pd.DataFrame({'Counts': count, 'Percent': percent}))\n",
    "    print('--------------------------------')"
   ]
  },
  {
   "cell_type": "code",
   "execution_count": 53,
   "id": "cross-timer",
   "metadata": {
    "ExecuteTime": {
     "end_time": "2021-04-15T01:16:35.572164Z",
     "start_time": "2021-04-15T01:16:35.404542Z"
    }
   },
   "outputs": [
    {
     "data": {
      "text/plain": [
       "Index([    'APRSeverityOfIllnessCode',                  'BirthWeight',\n",
       "       'EmergencyDepartmentIndicator',          'AverageCostInCounty',\n",
       "             'AverageChargesInCounty',        'AverageCostInFacility',\n",
       "           'AverageChargesInFacility',       'AverageIncomeInZipCode',\n",
       "                                  'F',                            'M',\n",
       "             'Black/African American',                 'Multi-racial',\n",
       "                         'Other Race',                        'White',\n",
       "                           'Elective',                    'Emergency',\n",
       "                            'Newborn',                       'Urgent',\n",
       "                                   -1,                              0,\n",
       "                                  115,                            216,\n",
       "                                  220,                            228,\n",
       "                                  231,       'Blue Cross/Blue Shield',\n",
       "             'Federal/State/Local/VA',    'Managed Care, Unspecified',\n",
       "                           'Medicaid',                     'Medicare',\n",
       "                'Miscellaneous/Other',     'Private Health Insurance',\n",
       "                           'Self-Pay',                      'Unknown'],\n",
       "      dtype='object')"
      ]
     },
     "execution_count": 53,
     "metadata": {},
     "output_type": "execute_result"
    }
   ],
   "source": [
    "test_copy = test_data.copy()\n",
    "\n",
    "test_copy['PaymentTypology'] = test_copy['PaymentTypology'].replace(to_replace =\"Department of Corrections\", value = \"Unknown\")\n",
    "test_copy['EmergencyDepartmentIndicator'] = test_copy['EmergencyDepartmentIndicator'].apply(lambda x: 1 if x == \"Y\" else 0)\n",
    "\n",
    "for col in encode_col:\n",
    "    dummy = pd.get_dummies(test_copy[col])\n",
    "    test_copy = pd.concat([test_copy, dummy], axis=1)\n",
    "    test_copy = test_copy.drop(col, axis=1)\n",
    "\n",
    "# Drop encoded-columns           \n",
    "test_copy.drop(columns = ['U','Trauma'],inplace = True)\n",
    "              \n",
    "# Check test_copy\n",
    "test_copy.columns"
   ]
  },
  {
   "cell_type": "code",
   "execution_count": 77,
   "id": "incredible-garden",
   "metadata": {
    "ExecuteTime": {
     "end_time": "2021-04-15T01:56:23.826810Z",
     "start_time": "2021-04-15T01:56:21.564143Z"
    },
    "scrolled": true
   },
   "outputs": [
    {
     "data": {
      "text/plain": [
       "array([0, 0, 0, ..., 0, 0, 0], dtype=int64)"
      ]
     },
     "execution_count": 77,
     "metadata": {},
     "output_type": "execute_result"
    }
   ],
   "source": [
    "test_transform = scaler.transform(test_copy)\n",
    "\n",
    "pred_xgb = xgb.predict(test_copy)\n",
    "pred_log = RF_clf.predict(test_transform)\n",
    "\n",
    "pred_log"
   ]
  },
  {
   "cell_type": "code",
   "execution_count": 78,
   "id": "fewer-fairy",
   "metadata": {
    "ExecuteTime": {
     "end_time": "2021-04-15T01:56:26.649073Z",
     "start_time": "2021-04-15T01:56:26.641086Z"
    }
   },
   "outputs": [
    {
     "name": "stdout",
     "output_type": "stream",
     "text": [
      "{0: 68005, 1: 1172}\n",
      "{0: 69177}\n"
     ]
    }
   ],
   "source": [
    "u,c = np.unique(pred_xgb, return_counts = True)\n",
    "u1,c1 = np.unique(pred_log, return_counts = True)\n",
    "print(dict(zip(u,c)))\n",
    "print(dict(zip(u1,c1)))"
   ]
  },
  {
   "cell_type": "code",
   "execution_count": 67,
   "id": "maritime-camping",
   "metadata": {
    "ExecuteTime": {
     "end_time": "2021-04-15T01:30:24.745983Z",
     "start_time": "2021-04-15T01:30:24.648960Z"
    }
   },
   "outputs": [],
   "source": [
    "submission['LengthOfStay'] = pd.Series(pred_log)\n",
    "\n",
    "submission.to_csv('DecisionTree.csv',index=False)"
   ]
  },
  {
   "cell_type": "markdown",
   "id": "hawaiian-bearing",
   "metadata": {},
   "source": [
    "Kaggle 30% of test data set and count class 0 and 1\n",
    "\n",
    "* Logistic Regression: 0.91013 with {0: 66902, 1: 2275}\n",
    "\n",
    "* Decision Tree: 0.91871 with {0: 69164, 1: 13}\n",
    "\n",
    "* Random Forest: 0.91871 with {0: 69177, 1: 0}\n",
    "\n"
   ]
  },
  {
   "cell_type": "markdown",
   "id": "failing-organ",
   "metadata": {},
   "source": [
    "## 11. Reference"
   ]
  },
  {
   "cell_type": "markdown",
   "id": "ambient-webmaster",
   "metadata": {},
   "source": [
    "[1] Rafael Gomes Mantovani, Tomáš Horváth, Ricardo Cerri, Sylvio Barbon Junior, Joaquin Vanschoren, André Carlos Ponce de Leon Ferreira de Carvalho, “An empirical study on hyperparameter tuning of decision trees”\n",
    "arXiv:1812.02207. Online: https://arxiv.org/abs/1812.02207"
   ]
  }
 ],
 "metadata": {
  "kernelspec": {
   "display_name": "Python 3",
   "language": "python",
   "name": "python3"
  },
  "language_info": {
   "codemirror_mode": {
    "name": "ipython",
    "version": 3
   },
   "file_extension": ".py",
   "mimetype": "text/x-python",
   "name": "python",
   "nbconvert_exporter": "python",
   "pygments_lexer": "ipython3",
   "version": "3.8.5"
  },
  "toc": {
   "base_numbering": 1,
   "nav_menu": {},
   "number_sections": false,
   "sideBar": true,
   "skip_h1_title": false,
   "title_cell": "Table of Contents",
   "title_sidebar": "Contents",
   "toc_cell": false,
   "toc_position": {
    "height": "calc(100% - 180px)",
    "left": "10px",
    "top": "150px",
    "width": "384px"
   },
   "toc_section_display": true,
   "toc_window_display": true
  }
 },
 "nbformat": 4,
 "nbformat_minor": 5
}
