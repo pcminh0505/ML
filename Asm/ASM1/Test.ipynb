{
 "cells": [
  {
   "cell_type": "code",
   "execution_count": 6,
   "id": "sexual-operator",
   "metadata": {
    "ExecuteTime": {
     "end_time": "2021-04-10T06:33:34.369624Z",
     "start_time": "2021-04-10T06:33:31.923026Z"
    }
   },
   "outputs": [],
   "source": [
    "import pandas as pd \n",
    "import numpy as np\n",
    "import sklearn as sk "
   ]
  },
  {
   "cell_type": "code",
   "execution_count": 8,
   "id": "egyptian-string",
   "metadata": {
    "ExecuteTime": {
     "end_time": "2021-04-10T06:33:39.474569Z",
     "start_time": "2021-04-10T06:33:38.878672Z"
    }
   },
   "outputs": [],
   "source": [
    "train_df = pd.read_csv('train_data.csv')\n",
    "test_df = pd.read_csv('test_data.csv')"
   ]
  },
  {
   "cell_type": "code",
   "execution_count": 9,
   "id": "current-usage",
   "metadata": {
    "ExecuteTime": {
     "end_time": "2021-04-10T06:33:39.660580Z",
     "start_time": "2021-04-10T06:33:39.478065Z"
    }
   },
   "outputs": [
    {
     "name": "stdout",
     "output_type": "stream",
     "text": [
      "['Blue Cross/Blue Shield' 'Federal/State/Local/VA'\n",
      " 'Managed Care, Unspecified' 'Medicaid' 'Medicare' 'Miscellaneous/Other'\n",
      " 'Private Health Insurance' 'Self-Pay' 'Unknown']\n",
      "['Blue Cross/Blue Shield' 'Department of Corrections'\n",
      " 'Federal/State/Local/VA' 'Managed Care, Unspecified' 'Medicaid'\n",
      " 'Medicare' 'Miscellaneous/Other' 'Private Health Insurance' 'Self-Pay'\n",
      " 'Unknown']\n"
     ]
    }
   ],
   "source": [
    "print(train_df['PaymentTypology'].sort_values().unique())\n",
    "print(test_df['PaymentTypology'].sort_values().unique())"
   ]
  },
  {
   "cell_type": "code",
   "execution_count": 10,
   "id": "intelligent-anniversary",
   "metadata": {
    "ExecuteTime": {
     "end_time": "2021-04-10T06:33:39.801203Z",
     "start_time": "2021-04-10T06:33:39.663953Z"
    }
   },
   "outputs": [
    {
     "name": "stdout",
     "output_type": "stream",
     "text": [
      "['Elective' 'Emergency' 'Newborn' 'Urgent']\n",
      "['Elective' 'Emergency' 'Newborn' 'Trauma' 'Urgent']\n"
     ]
    }
   ],
   "source": [
    "print(train_df['TypeOfAdmission'].sort_values().unique())\n",
    "print(test_df['TypeOfAdmission'].sort_values().unique())"
   ]
  },
  {
   "cell_type": "code",
   "execution_count": 11,
   "id": "appreciated-cooler",
   "metadata": {
    "ExecuteTime": {
     "end_time": "2021-04-10T06:33:39.832118Z",
     "start_time": "2021-04-10T06:33:39.807185Z"
    }
   },
   "outputs": [
    {
     "name": "stdout",
     "output_type": "stream",
     "text": [
      "[ -1   0 115 216 220 228 231]\n",
      "[ -1   0 115 216 220 228 231]\n"
     ]
    }
   ],
   "source": [
    "print(train_df['CCSProcedureCode'].sort_values().unique())\n",
    "print(test_df['CCSProcedureCode'].sort_values().unique())"
   ]
  },
  {
   "cell_type": "code",
   "execution_count": null,
   "id": "demanding-aquatic",
   "metadata": {},
   "outputs": [],
   "source": []
  },
  {
   "cell_type": "code",
   "execution_count": null,
   "id": "impressed-decision",
   "metadata": {},
   "outputs": [],
   "source": []
  },
  {
   "cell_type": "code",
   "execution_count": null,
   "id": "lined-milan",
   "metadata": {},
   "outputs": [],
   "source": []
  }
 ],
 "metadata": {
  "kernelspec": {
   "display_name": "Python 3",
   "language": "python",
   "name": "python3"
  },
  "language_info": {
   "codemirror_mode": {
    "name": "ipython",
    "version": 3
   },
   "file_extension": ".py",
   "mimetype": "text/x-python",
   "name": "python",
   "nbconvert_exporter": "python",
   "pygments_lexer": "ipython3",
   "version": "3.8.8"
  }
 },
 "nbformat": 4,
 "nbformat_minor": 5
}
