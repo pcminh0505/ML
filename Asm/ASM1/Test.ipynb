{
 "cells": [
  {
   "cell_type": "code",
   "execution_count": 2,
   "id": "sexual-operator",
   "metadata": {
    "ExecuteTime": {
     "end_time": "2021-04-06T07:24:27.766986Z",
     "start_time": "2021-04-06T07:24:27.326558Z"
    }
   },
   "outputs": [],
   "source": [
    "import pandas as pd \n",
    "train = pd.read_csv('train_data.csv')\n",
    "test = pd.read_csv('test_data.csv')"
   ]
  },
  {
   "cell_type": "code",
   "execution_count": 11,
   "id": "current-usage",
   "metadata": {
    "ExecuteTime": {
     "end_time": "2021-04-06T07:27:49.580154Z",
     "start_time": "2021-04-06T07:27:49.431473Z"
    }
   },
   "outputs": [
    {
     "name": "stdout",
     "output_type": "stream",
     "text": [
      "['Blue Cross/Blue Shield' 'Federal/State/Local/VA'\n",
      " 'Managed Care, Unspecified' 'Medicaid' 'Medicare' 'Miscellaneous/Other'\n",
      " 'Private Health Insurance' 'Self-Pay' 'Unknown']\n",
      "['Blue Cross/Blue Shield' 'Department of Corrections'\n",
      " 'Federal/State/Local/VA' 'Managed Care, Unspecified' 'Medicaid'\n",
      " 'Medicare' 'Miscellaneous/Other' 'Private Health Insurance' 'Self-Pay'\n",
      " 'Unknown']\n"
     ]
    }
   ],
   "source": [
    "print(train['PaymentTypology'].sort_values().unique())\n",
    "print(test['PaymentTypology'].sort_values().unique())"
   ]
  },
  {
   "cell_type": "code",
   "execution_count": 12,
   "id": "intelligent-anniversary",
   "metadata": {
    "ExecuteTime": {
     "end_time": "2021-04-06T07:28:23.837044Z",
     "start_time": "2021-04-06T07:28:23.697505Z"
    }
   },
   "outputs": [
    {
     "name": "stdout",
     "output_type": "stream",
     "text": [
      "['Elective' 'Emergency' 'Newborn' 'Urgent']\n",
      "['Elective' 'Emergency' 'Newborn' 'Trauma' 'Urgent']\n"
     ]
    }
   ],
   "source": [
    "print(train['TypeOfAdmission'].sort_values().unique())\n",
    "print(test['TypeOfAdmission'].sort_values().unique())"
   ]
  }
 ],
 "metadata": {
  "kernelspec": {
   "display_name": "Python 3",
   "language": "python",
   "name": "python3"
  },
  "language_info": {
   "codemirror_mode": {
    "name": "ipython",
    "version": 3
   },
   "file_extension": ".py",
   "mimetype": "text/x-python",
   "name": "python",
   "nbconvert_exporter": "python",
   "pygments_lexer": "ipython3",
   "version": "3.8.8"
  }
 },
 "nbformat": 4,
 "nbformat_minor": 5
}
