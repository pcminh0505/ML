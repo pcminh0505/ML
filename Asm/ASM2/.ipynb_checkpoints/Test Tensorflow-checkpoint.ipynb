{
 "cells": [
  {
   "cell_type": "markdown",
   "id": "7bd294c5",
   "metadata": {},
   "source": [
    "## Installation needed"
   ]
  },
  {
   "cell_type": "code",
   "execution_count": 1,
   "id": "6478fcf0",
   "metadata": {
    "ExecuteTime": {
     "end_time": "2021-05-12T04:18:17.366673Z",
     "start_time": "2021-05-12T04:18:17.351708Z"
    }
   },
   "outputs": [],
   "source": [
    "# !pip install tensorflow\n",
    "# !pip install opencv-python\n",
    "# !pip install keras"
   ]
  },
  {
   "cell_type": "markdown",
   "id": "9dbadcf6",
   "metadata": {},
   "source": [
    "## Import libraries"
   ]
  },
  {
   "cell_type": "code",
   "execution_count": 1,
   "id": "f5d362d0",
   "metadata": {
    "ExecuteTime": {
     "end_time": "2021-05-13T07:00:41.646580Z",
     "start_time": "2021-05-13T07:00:34.589257Z"
    }
   },
   "outputs": [
    {
     "name": "stdout",
     "output_type": "stream",
     "text": [
      "Using Tensorflow version: 2.4.1\n"
     ]
    }
   ],
   "source": [
    "import pandas as pd\n",
    "import numpy as np\n",
    "import matplotlib.pyplot as plt\n",
    "%matplotlib inline \n",
    "plt.style.use('dark_background')\n",
    "import seaborn as sns\n",
    "from tqdm import tqdm\n",
    "\n",
    "import cv2\n",
    "import os\n",
    "import tensorflow as tf\n",
    "import sklearn as sk\n",
    "\n",
    "import warnings\n",
    "warnings.filterwarnings('ignore')\n",
    "\n",
    "print('Using Tensorflow version:', tf.__version__)"
   ]
  },
  {
   "cell_type": "markdown",
   "id": "536d0f3b",
   "metadata": {},
   "source": [
    "## Import files"
   ]
  },
  {
   "cell_type": "code",
   "execution_count": 2,
   "id": "4019fb89",
   "metadata": {
    "ExecuteTime": {
     "end_time": "2021-05-13T07:00:41.723407Z",
     "start_time": "2021-05-13T07:00:41.648568Z"
    }
   },
   "outputs": [],
   "source": [
    "main_data = pd.read_csv('data_labels_mainData.csv')\n",
    "extra_data = pd.read_csv('data_labels_extraData.csv')"
   ]
  },
  {
   "cell_type": "code",
   "execution_count": 3,
   "id": "4862c470",
   "metadata": {
    "ExecuteTime": {
     "end_time": "2021-05-13T07:00:41.769804Z",
     "start_time": "2021-05-13T07:00:41.726405Z"
    }
   },
   "outputs": [
    {
     "data": {
      "text/html": [
       "<div>\n",
       "<style scoped>\n",
       "    .dataframe tbody tr th:only-of-type {\n",
       "        vertical-align: middle;\n",
       "    }\n",
       "\n",
       "    .dataframe tbody tr th {\n",
       "        vertical-align: top;\n",
       "    }\n",
       "\n",
       "    .dataframe thead th {\n",
       "        text-align: right;\n",
       "    }\n",
       "</style>\n",
       "<table border=\"1\" class=\"dataframe\">\n",
       "  <thead>\n",
       "    <tr style=\"text-align: right;\">\n",
       "      <th></th>\n",
       "      <th>InstanceID</th>\n",
       "      <th>patientID</th>\n",
       "      <th>ImageName</th>\n",
       "      <th>cellTypeName</th>\n",
       "      <th>cellType</th>\n",
       "      <th>isCancerous</th>\n",
       "    </tr>\n",
       "  </thead>\n",
       "  <tbody>\n",
       "    <tr>\n",
       "      <th>0</th>\n",
       "      <td>22405</td>\n",
       "      <td>1</td>\n",
       "      <td>22405.png</td>\n",
       "      <td>fibroblast</td>\n",
       "      <td>0</td>\n",
       "      <td>0</td>\n",
       "    </tr>\n",
       "    <tr>\n",
       "      <th>1</th>\n",
       "      <td>22406</td>\n",
       "      <td>1</td>\n",
       "      <td>22406.png</td>\n",
       "      <td>fibroblast</td>\n",
       "      <td>0</td>\n",
       "      <td>0</td>\n",
       "    </tr>\n",
       "    <tr>\n",
       "      <th>2</th>\n",
       "      <td>22407</td>\n",
       "      <td>1</td>\n",
       "      <td>22407.png</td>\n",
       "      <td>fibroblast</td>\n",
       "      <td>0</td>\n",
       "      <td>0</td>\n",
       "    </tr>\n",
       "    <tr>\n",
       "      <th>3</th>\n",
       "      <td>22408</td>\n",
       "      <td>1</td>\n",
       "      <td>22408.png</td>\n",
       "      <td>fibroblast</td>\n",
       "      <td>0</td>\n",
       "      <td>0</td>\n",
       "    </tr>\n",
       "    <tr>\n",
       "      <th>4</th>\n",
       "      <td>22409</td>\n",
       "      <td>1</td>\n",
       "      <td>22409.png</td>\n",
       "      <td>fibroblast</td>\n",
       "      <td>0</td>\n",
       "      <td>0</td>\n",
       "    </tr>\n",
       "    <tr>\n",
       "      <th>...</th>\n",
       "      <td>...</td>\n",
       "      <td>...</td>\n",
       "      <td>...</td>\n",
       "      <td>...</td>\n",
       "      <td>...</td>\n",
       "      <td>...</td>\n",
       "    </tr>\n",
       "    <tr>\n",
       "      <th>9891</th>\n",
       "      <td>1625</td>\n",
       "      <td>60</td>\n",
       "      <td>1625.png</td>\n",
       "      <td>epithelial</td>\n",
       "      <td>2</td>\n",
       "      <td>1</td>\n",
       "    </tr>\n",
       "    <tr>\n",
       "      <th>9892</th>\n",
       "      <td>1626</td>\n",
       "      <td>60</td>\n",
       "      <td>1626.png</td>\n",
       "      <td>epithelial</td>\n",
       "      <td>2</td>\n",
       "      <td>1</td>\n",
       "    </tr>\n",
       "    <tr>\n",
       "      <th>9893</th>\n",
       "      <td>1627</td>\n",
       "      <td>60</td>\n",
       "      <td>1627.png</td>\n",
       "      <td>epithelial</td>\n",
       "      <td>2</td>\n",
       "      <td>1</td>\n",
       "    </tr>\n",
       "    <tr>\n",
       "      <th>9894</th>\n",
       "      <td>1628</td>\n",
       "      <td>60</td>\n",
       "      <td>1628.png</td>\n",
       "      <td>epithelial</td>\n",
       "      <td>2</td>\n",
       "      <td>1</td>\n",
       "    </tr>\n",
       "    <tr>\n",
       "      <th>9895</th>\n",
       "      <td>1629</td>\n",
       "      <td>60</td>\n",
       "      <td>1629.png</td>\n",
       "      <td>epithelial</td>\n",
       "      <td>2</td>\n",
       "      <td>1</td>\n",
       "    </tr>\n",
       "  </tbody>\n",
       "</table>\n",
       "<p>9896 rows × 6 columns</p>\n",
       "</div>"
      ],
      "text/plain": [
       "      InstanceID  patientID  ImageName cellTypeName  cellType  isCancerous\n",
       "0          22405          1  22405.png   fibroblast         0            0\n",
       "1          22406          1  22406.png   fibroblast         0            0\n",
       "2          22407          1  22407.png   fibroblast         0            0\n",
       "3          22408          1  22408.png   fibroblast         0            0\n",
       "4          22409          1  22409.png   fibroblast         0            0\n",
       "...          ...        ...        ...          ...       ...          ...\n",
       "9891        1625         60   1625.png   epithelial         2            1\n",
       "9892        1626         60   1626.png   epithelial         2            1\n",
       "9893        1627         60   1627.png   epithelial         2            1\n",
       "9894        1628         60   1628.png   epithelial         2            1\n",
       "9895        1629         60   1629.png   epithelial         2            1\n",
       "\n",
       "[9896 rows x 6 columns]"
      ]
     },
     "execution_count": 3,
     "metadata": {},
     "output_type": "execute_result"
    }
   ],
   "source": [
    "main_data"
   ]
  },
  {
   "cell_type": "code",
   "execution_count": 4,
   "id": "1163d96e",
   "metadata": {
    "ExecuteTime": {
     "end_time": "2021-05-13T07:00:41.784792Z",
     "start_time": "2021-05-13T07:00:41.771799Z"
    }
   },
   "outputs": [
    {
     "data": {
      "text/html": [
       "<div>\n",
       "<style scoped>\n",
       "    .dataframe tbody tr th:only-of-type {\n",
       "        vertical-align: middle;\n",
       "    }\n",
       "\n",
       "    .dataframe tbody tr th {\n",
       "        vertical-align: top;\n",
       "    }\n",
       "\n",
       "    .dataframe thead th {\n",
       "        text-align: right;\n",
       "    }\n",
       "</style>\n",
       "<table border=\"1\" class=\"dataframe\">\n",
       "  <thead>\n",
       "    <tr style=\"text-align: right;\">\n",
       "      <th></th>\n",
       "      <th>InstanceID</th>\n",
       "      <th>patientID</th>\n",
       "      <th>ImageName</th>\n",
       "      <th>isCancerous</th>\n",
       "    </tr>\n",
       "  </thead>\n",
       "  <tbody>\n",
       "    <tr>\n",
       "      <th>0</th>\n",
       "      <td>12681</td>\n",
       "      <td>61</td>\n",
       "      <td>12681.png</td>\n",
       "      <td>0</td>\n",
       "    </tr>\n",
       "    <tr>\n",
       "      <th>1</th>\n",
       "      <td>12682</td>\n",
       "      <td>61</td>\n",
       "      <td>12682.png</td>\n",
       "      <td>0</td>\n",
       "    </tr>\n",
       "    <tr>\n",
       "      <th>2</th>\n",
       "      <td>12683</td>\n",
       "      <td>61</td>\n",
       "      <td>12683.png</td>\n",
       "      <td>0</td>\n",
       "    </tr>\n",
       "    <tr>\n",
       "      <th>3</th>\n",
       "      <td>12684</td>\n",
       "      <td>61</td>\n",
       "      <td>12684.png</td>\n",
       "      <td>0</td>\n",
       "    </tr>\n",
       "    <tr>\n",
       "      <th>4</th>\n",
       "      <td>12685</td>\n",
       "      <td>61</td>\n",
       "      <td>12685.png</td>\n",
       "      <td>0</td>\n",
       "    </tr>\n",
       "    <tr>\n",
       "      <th>...</th>\n",
       "      <td>...</td>\n",
       "      <td>...</td>\n",
       "      <td>...</td>\n",
       "      <td>...</td>\n",
       "    </tr>\n",
       "    <tr>\n",
       "      <th>10379</th>\n",
       "      <td>20028</td>\n",
       "      <td>99</td>\n",
       "      <td>20028.png</td>\n",
       "      <td>0</td>\n",
       "    </tr>\n",
       "    <tr>\n",
       "      <th>10380</th>\n",
       "      <td>20029</td>\n",
       "      <td>99</td>\n",
       "      <td>20029.png</td>\n",
       "      <td>0</td>\n",
       "    </tr>\n",
       "    <tr>\n",
       "      <th>10381</th>\n",
       "      <td>20030</td>\n",
       "      <td>99</td>\n",
       "      <td>20030.png</td>\n",
       "      <td>0</td>\n",
       "    </tr>\n",
       "    <tr>\n",
       "      <th>10382</th>\n",
       "      <td>20031</td>\n",
       "      <td>99</td>\n",
       "      <td>20031.png</td>\n",
       "      <td>0</td>\n",
       "    </tr>\n",
       "    <tr>\n",
       "      <th>10383</th>\n",
       "      <td>20032</td>\n",
       "      <td>99</td>\n",
       "      <td>20032.png</td>\n",
       "      <td>0</td>\n",
       "    </tr>\n",
       "  </tbody>\n",
       "</table>\n",
       "<p>10384 rows × 4 columns</p>\n",
       "</div>"
      ],
      "text/plain": [
       "       InstanceID  patientID  ImageName  isCancerous\n",
       "0           12681         61  12681.png            0\n",
       "1           12682         61  12682.png            0\n",
       "2           12683         61  12683.png            0\n",
       "3           12684         61  12684.png            0\n",
       "4           12685         61  12685.png            0\n",
       "...           ...        ...        ...          ...\n",
       "10379       20028         99  20028.png            0\n",
       "10380       20029         99  20029.png            0\n",
       "10381       20030         99  20030.png            0\n",
       "10382       20031         99  20031.png            0\n",
       "10383       20032         99  20032.png            0\n",
       "\n",
       "[10384 rows x 4 columns]"
      ]
     },
     "execution_count": 4,
     "metadata": {},
     "output_type": "execute_result"
    }
   ],
   "source": [
    "extra_data"
   ]
  },
  {
   "cell_type": "markdown",
   "id": "0c608840",
   "metadata": {},
   "source": [
    "## Image inspect"
   ]
  },
  {
   "cell_type": "code",
   "execution_count": 24,
   "id": "b6d195e0",
   "metadata": {
    "ExecuteTime": {
     "end_time": "2021-05-13T07:30:34.456990Z",
     "start_time": "2021-05-13T07:30:34.419405Z"
    }
   },
   "outputs": [
    {
     "name": "stdout",
     "output_type": "stream",
     "text": [
      "['22405.png', '22406.png', '22407.png', '22408.png']\n",
      "['22417.png', '22418.png', '22419.png', '22420.png']\n",
      "['276.png', '277.png', '278.png', '279.png']\n",
      "['22423.png', '22424.png', '19061.png', '19062.png']\n"
     ]
    }
   ],
   "source": [
    "# Prepare some image of each class\n",
    "cell0 = main_data['ImageName'].loc[main_data['cellType'] == 0][:4].tolist()\n",
    "cell1 = main_data['ImageName'].loc[main_data['cellType'] == 1][:4].tolist()\n",
    "cell2 = main_data['ImageName'].loc[main_data['cellType'] == 2][:4].tolist()\n",
    "cell3 = main_data['ImageName'].loc[main_data['cellType'] == 3][:4].tolist()\n",
    "\n",
    "print(cell0)\n",
    "print(cell1)\n",
    "print(cell2)\n",
    "print(cell3)"
   ]
  },
  {
   "cell_type": "code",
   "execution_count": 37,
   "id": "0907b8b6",
   "metadata": {
    "ExecuteTime": {
     "end_time": "2021-05-13T07:49:37.278925Z",
     "start_time": "2021-05-13T07:49:35.762241Z"
    }
   },
   "outputs": [
    {
     "data": {
      "image/png": "[encoded data removed]",
      "text/plain": [
       "<Figure size 432x288 with 4 Axes>"
      ]
     },
     "metadata": {},
     "output_type": "display_data"
    },
    {
     "data": {
      "image/png": "[encoded data removed]",
      "text/plain": [
       "<Figure size 432x288 with 4 Axes>"
      ]
     },
     "metadata": {},
     "output_type": "display_data"
    },
    {
     "data": {
      "image/png": "[encoded data removed]",
      "text/plain": [
       "<Figure size 432x288 with 4 Axes>"
      ]
     },
     "metadata": {},
     "output_type": "display_data"
    },
    {
     "data": {
      "image/png": "[encoded data removed]",
      "text/plain": [
       "<Figure size 432x288 with 4 Axes>"
      ]
     },
     "metadata": {},
     "output_type": "display_data"
    }
   ],
   "source": [
    "# CHANGE THE DIRECTORY IN YOUR LOCAL MACHINE\n",
    "directory = r\"C:\\Users\\luong\\Documents\\GitHub\\ML\\Asm\\ASM2\\patch_images\"\n",
    "\n",
    "for i in range (4):\n",
    "    cell_0 = cv2.imread(os.path.join(directory, cell0[i]))\n",
    "    cell_1 = cv2.imread(os.path.join(directory, cell1[i]))\n",
    "    cell_2 = cv2.imread(os.path.join(directory, cell2[i]))\n",
    "    cell_3 = cv2.imread(os.path.join(directory, cell3[i]))\n",
    "\n",
    "    fig, ((ax1, ax2), (ax3, ax4)) = plt.subplots(2, 2)\n",
    "    \n",
    "    ax1.title.set_text(\"Cell 0: Fibroblast \")\n",
    "    ax1.imshow(cell_0)\n",
    "    \n",
    "    ax2.title.set_text(\"Cell 1: Inflammatory\")\n",
    "    ax2.imshow(cell_1)\n",
    "    \n",
    "    ax3.title.set_text(\"Cell 2: Epithelial \")\n",
    "    ax3.imshow(cell_2)\n",
    "    \n",
    "    ax4.title.set_text(\"Cell 3: Others\")\n",
    "    ax4.imshow(cell_3)\n",
    "\n",
    "    for ax in fig.get_axes():\n",
    "        ax.label_outer()"
   ]
  },
  {
   "cell_type": "markdown",
   "id": "616eb388",
   "metadata": {},
   "source": [
    "## Prepare data"
   ]
  },
  {
   "cell_type": "code",
   "execution_count": 38,
   "id": "4896a980",
   "metadata": {
    "ExecuteTime": {
     "end_time": "2021-05-13T07:58:16.712098Z",
     "start_time": "2021-05-13T07:58:16.428189Z"
    }
   },
   "outputs": [
    {
     "name": "stdout",
     "output_type": "stream",
     "text": [
      "Train data : 5304, Val Data: 1326, Test Data: 3266\n"
     ]
    }
   ],
   "source": [
    "from sklearn.model_selection import train_test_split\n",
    "X = main_data['ImageName']\n",
    "y = main_data['cellType']\n",
    "\n",
    "train_X, test_X, train_Y, test_Y = train_test_split(X, y, test_size=0.33)\n",
    "train_X, val_X, train_Y, val_Y = train_test_split(train_X, train_Y, test_size=0.2)\n",
    "\n",
    "print(\"Train data : {}, Val Data: {}, Test Data: {}\".format(train_X.shape[0], val_X.shape[0], test_X.shape[0]))"
   ]
  },
  {
   "cell_type": "code",
   "execution_count": 39,
   "id": "575898ad",
   "metadata": {
    "ExecuteTime": {
     "end_time": "2021-05-13T07:58:19.483947Z",
     "start_time": "2021-05-13T07:58:19.472725Z"
    }
   },
   "outputs": [],
   "source": [
    "train_Y = train_Y.ravel()\n",
    "val_Y = val_Y.ravel()\n",
    "test_Y = test_Y.ravel()"
   ]
  },
  {
   "cell_type": "markdown",
   "id": "9576ba96",
   "metadata": {},
   "source": [
    "## Transfer to image array"
   ]
  },
  {
   "cell_type": "code",
   "execution_count": 40,
   "id": "60469feb",
   "metadata": {
    "ExecuteTime": {
     "end_time": "2021-05-13T07:58:22.440816Z",
     "start_time": "2021-05-13T07:58:22.427286Z"
    }
   },
   "outputs": [],
   "source": [
    "def create_train_data(directory, img_list):\n",
    "    IMAGE_SIZE = 27\n",
    "    train_data = []\n",
    "    for img in tqdm(img_list, desc='Extracting Image Progress'):\n",
    "        path = os.path.join(directory, img)\n",
    "        img = cv2.resize(cv2.imread(path), (IMAGE_SIZE,IMAGE_SIZE))\n",
    "        train_data.append(np.array(img))\n",
    "    print(\"Successfully import images!\")\n",
    "    # Convert to np.array and normalize pixel values to be between 0 and 1 \n",
    "    return np.array(train_data).astype('float32') / 255.0 "
   ]
  },
  {
   "cell_type": "code",
   "execution_count": 42,
   "id": "11efceda",
   "metadata": {
    "ExecuteTime": {
     "end_time": "2021-05-13T07:59:39.045121Z",
     "start_time": "2021-05-13T07:59:37.531238Z"
    }
   },
   "outputs": [
    {
     "name": "stderr",
     "output_type": "stream",
     "text": [
      "Extracting Image Progress: 100%|█████████████████████████████████████████████████| 5304/5304 [00:00<00:00, 6776.30it/s]\n",
      "Extracting Image Progress:  46%|██████████████████████▉                           | 608/1326 [00:00<00:00, 6073.16it/s]"
     ]
    },
    {
     "name": "stdout",
     "output_type": "stream",
     "text": [
      "Successfully import images!\n"
     ]
    },
    {
     "name": "stderr",
     "output_type": "stream",
     "text": [
      "Extracting Image Progress: 100%|█████████████████████████████████████████████████| 1326/1326 [00:00<00:00, 6940.68it/s]\n",
      "Extracting Image Progress:  20%|██████████                                        | 655/3266 [00:00<00:00, 6527.19it/s]"
     ]
    },
    {
     "name": "stdout",
     "output_type": "stream",
     "text": [
      "Successfully import images!\n"
     ]
    },
    {
     "name": "stderr",
     "output_type": "stream",
     "text": [
      "Extracting Image Progress: 100%|█████████████████████████████████████████████████| 3266/3266 [00:00<00:00, 7754.45it/s]"
     ]
    },
    {
     "name": "stdout",
     "output_type": "stream",
     "text": [
      "Successfully import images!\n"
     ]
    },
    {
     "name": "stderr",
     "output_type": "stream",
     "text": [
      "\n"
     ]
    }
   ],
   "source": [
    "# CHANGE THE PATH TO IMAGE FOLDER IN YOUR LOCAL DEVICE!\n",
    "path = r\"C:\\Users\\luong\\Documents\\GitHub\\ML\\Asm\\ASM2\\patch_images\"\n",
    "\n",
    "train_X_img = create_train_data(path, train_X.tolist())\n",
    "val_X_img = create_train_data(path, val_X.tolist())\n",
    "test_X_img = create_train_data(path, test_X.tolist())"
   ]
  },
  {
   "cell_type": "code",
   "execution_count": 46,
   "id": "fe0e4121",
   "metadata": {
    "ExecuteTime": {
     "end_time": "2021-05-13T08:00:42.053580Z",
     "start_time": "2021-05-13T08:00:42.035056Z"
    }
   },
   "outputs": [],
   "source": [
    "# Data augmentation\n",
    "from tensorflow.keras.preprocessing.image import ImageDataGenerator\n",
    "train_datagen = ImageDataGenerator(featurewise_center=True,\n",
    "                                   featurewise_std_normalization=True, \n",
    "                                   rotation_range=20, \n",
    "                                   shear_range=0.2, \n",
    "                                   zoom_range=0.2, \n",
    "                                   horizontal_flip=True, \n",
    "                                   fill_mode='nearest', \n",
    "                                   width_shift_range=0.2, \n",
    "                                   height_shift_range=0.2)"
   ]
  },
  {
   "cell_type": "code",
   "execution_count": 47,
   "id": "22ef69e8",
   "metadata": {
    "ExecuteTime": {
     "end_time": "2021-05-13T08:45:06.043142Z",
     "start_time": "2021-05-13T08:45:05.945354Z"
    }
   },
   "outputs": [],
   "source": [
    "train_it = train_datagen.flow(train_X_img, train_Y)"
   ]
  },
  {
   "cell_type": "code",
   "execution_count": 60,
   "id": "fea66f9b",
   "metadata": {
    "ExecuteTime": {
     "end_time": "2021-05-13T09:12:08.262357Z",
     "start_time": "2021-05-13T09:12:07.717655Z"
    }
   },
   "outputs": [
    {
     "name": "stdout",
     "output_type": "stream",
     "text": [
      "Model: \"sequential_3\"\n",
      "_________________________________________________________________\n",
      "Layer (type)                 Output Shape              Param #   \n",
      "=================================================================\n",
      "conv2d_9 (Conv2D)            (None, 27, 27, 32)        896       \n",
      "_________________________________________________________________\n",
      "batch_normalization_11 (Batc (None, 27, 27, 32)        128       \n",
      "_________________________________________________________________\n",
      "conv2d_10 (Conv2D)           (None, 25, 25, 32)        9248      \n",
      "_________________________________________________________________\n",
      "batch_normalization_12 (Batc (None, 25, 25, 32)        128       \n",
      "_________________________________________________________________\n",
      "max_pooling2d_4 (MaxPooling2 (None, 12, 12, 32)        0         \n",
      "_________________________________________________________________\n",
      "conv2d_11 (Conv2D)           (None, 12, 12, 64)        18496     \n",
      "_________________________________________________________________\n",
      "batch_normalization_13 (Batc (None, 12, 12, 64)        256       \n",
      "_________________________________________________________________\n",
      "conv2d_12 (Conv2D)           (None, 10, 10, 64)        36928     \n",
      "_________________________________________________________________\n",
      "batch_normalization_14 (Batc (None, 10, 10, 64)        256       \n",
      "_________________________________________________________________\n",
      "max_pooling2d_5 (MaxPooling2 (None, 5, 5, 64)          0         \n",
      "_________________________________________________________________\n",
      "flatten_2 (Flatten)          (None, 1600)              0         \n",
      "_________________________________________________________________\n",
      "dense_4 (Dense)              (None, 512)               819712    \n",
      "_________________________________________________________________\n",
      "batch_normalization_15 (Batc (None, 512)               2048      \n",
      "_________________________________________________________________\n",
      "dropout_2 (Dropout)          (None, 512)               0         \n",
      "_________________________________________________________________\n",
      "dense_5 (Dense)              (None, 512)               262656    \n",
      "_________________________________________________________________\n",
      "batch_normalization_16 (Batc (None, 512)               2048      \n",
      "_________________________________________________________________\n",
      "dropout_3 (Dropout)          (None, 512)               0         \n",
      "_________________________________________________________________\n",
      "dense_6 (Dense)              (None, 4)                 2052      \n",
      "=================================================================\n",
      "Total params: 1,154,852\n",
      "Trainable params: 1,152,420\n",
      "Non-trainable params: 2,432\n",
      "_________________________________________________________________\n"
     ]
    }
   ],
   "source": [
    "from tensorflow.keras.models import Sequential\n",
    "from tensorflow.keras.layers import Dense, Conv2D, MaxPooling2D , Flatten, BatchNormalization, Dropout\n",
    "\n",
    "model = Sequential()\n",
    "model.add(Conv2D(32, (3, 3), activation='relu', padding='same', input_shape=(27,27, 3)))\n",
    "model.add(BatchNormalization())\n",
    "model.add(Conv2D(32, (3, 3), activation='relu'))\n",
    "model.add(BatchNormalization())\n",
    "model.add(MaxPooling2D(pool_size=(2, 2)))\n",
    "\n",
    "model.add(Conv2D(64, (3, 3), activation='relu', padding='same'))\n",
    "model.add(BatchNormalization())\n",
    "model.add(Conv2D(64, (3, 3), activation='relu'))\n",
    "model.add(BatchNormalization())\n",
    "model.add(MaxPooling2D(pool_size=(2, 2)))\n",
    "\n",
    "model.add(Flatten())\n",
    "model.add(Dense(512, activation='relu'))\n",
    "model.add(BatchNormalization())\n",
    "model.add(Dropout(0.2))\n",
    "model.add(Dense(512, activation='relu'))\n",
    "model.add(BatchNormalization())\n",
    "model.add(Dropout(0.2))\n",
    "model.add(Dense(4, activation='softmax'))\n",
    "model.summary()"
   ]
  },
  {
   "cell_type": "code",
   "execution_count": 61,
   "id": "cf8c6db3",
   "metadata": {
    "ExecuteTime": {
     "end_time": "2021-05-13T09:12:14.324383Z",
     "start_time": "2021-05-13T09:12:14.301348Z"
    }
   },
   "outputs": [],
   "source": [
    "from tensorflow.keras.optimizers import Adam\n",
    "\n",
    "opt = Adam(lr=0.000001)\n",
    "model.compile(optimizer = opt , \n",
    "              loss = 'sparse_categorical_crossentropy', \n",
    "              metrics = ['accuracy'])"
   ]
  },
  {
   "cell_type": "code",
   "execution_count": 15,
   "id": "12ee78da",
   "metadata": {
    "ExecuteTime": {
     "end_time": "2021-05-11T10:44:37.466000Z",
     "start_time": "2021-05-11T10:44:37.439725Z"
    }
   },
   "outputs": [
    {
     "name": "stdout",
     "output_type": "stream",
     "text": [
      "Model: \"sequential\"\n",
      "_________________________________________________________________\n",
      "Layer (type)                 Output Shape              Param #   \n",
      "=================================================================\n",
      "conv2d (Conv2D)              (None, 27, 27, 64)        1792      \n",
      "_________________________________________________________________\n",
      "conv2d_1 (Conv2D)            (None, 27, 27, 64)        36928     \n",
      "_________________________________________________________________\n",
      "max_pooling2d (MaxPooling2D) (None, 13, 13, 64)        0         \n",
      "_________________________________________________________________\n",
      "conv2d_2 (Conv2D)            (None, 13, 13, 128)       73856     \n",
      "_________________________________________________________________\n",
      "conv2d_3 (Conv2D)            (None, 13, 13, 128)       147584    \n",
      "_________________________________________________________________\n",
      "max_pooling2d_1 (MaxPooling2 (None, 6, 6, 128)         0         \n",
      "_________________________________________________________________\n",
      "conv2d_4 (Conv2D)            (None, 6, 6, 256)         295168    \n",
      "_________________________________________________________________\n",
      "conv2d_5 (Conv2D)            (None, 6, 6, 256)         590080    \n",
      "_________________________________________________________________\n",
      "conv2d_6 (Conv2D)            (None, 6, 6, 256)         590080    \n",
      "_________________________________________________________________\n",
      "max_pooling2d_2 (MaxPooling2 (None, 3, 3, 256)         0         \n",
      "_________________________________________________________________\n",
      "conv2d_7 (Conv2D)            (None, 3, 3, 512)         1180160   \n",
      "_________________________________________________________________\n",
      "conv2d_8 (Conv2D)            (None, 3, 3, 512)         2359808   \n",
      "_________________________________________________________________\n",
      "conv2d_9 (Conv2D)            (None, 3, 3, 512)         2359808   \n",
      "_________________________________________________________________\n",
      "max_pooling2d_3 (MaxPooling2 (None, 1, 1, 512)         0         \n",
      "_________________________________________________________________\n",
      "flatten (Flatten)            (None, 512)               0         \n",
      "_________________________________________________________________\n",
      "dense (Dense)                (None, 4096)              2101248   \n",
      "_________________________________________________________________\n",
      "dense_1 (Dense)              (None, 4096)              16781312  \n",
      "_________________________________________________________________\n",
      "dense_2 (Dense)              (None, 4)                 16388     \n",
      "=================================================================\n",
      "Total params: 26,534,212\n",
      "Trainable params: 26,534,212\n",
      "Non-trainable params: 0\n",
      "_________________________________________________________________\n"
     ]
    }
   ],
   "source": [
    "model.summary()"
   ]
  },
  {
   "cell_type": "code",
   "execution_count": 62,
   "id": "2f9036ac",
   "metadata": {
    "ExecuteTime": {
     "end_time": "2021-05-13T09:18:27.220729Z",
     "start_time": "2021-05-13T09:12:16.757330Z"
    }
   },
   "outputs": [
    {
     "name": "stdout",
     "output_type": "stream",
     "text": [
      "WARNING:tensorflow:`period` argument is deprecated. Please use `save_freq` to specify the frequency in number of batches seen.\n",
      "Epoch 1/15\n",
      "166/166 [==============================] - 30s 155ms/step - loss: 1.9866 - accuracy: 0.2686 - val_loss: 1.3599 - val_accuracy: 0.4179\n",
      "WARNING:tensorflow:Can save best model only with val_acc available, skipping.\n",
      "Epoch 2/15\n",
      "166/166 [==============================] - 25s 151ms/step - loss: 1.8398 - accuracy: 0.3125 - val_loss: 1.5499 - val_accuracy: 0.2814\n",
      "WARNING:tensorflow:Can save best model only with val_acc available, skipping.\n",
      "Epoch 3/15\n",
      "166/166 [==============================] - 25s 150ms/step - loss: 1.8141 - accuracy: 0.3071 - val_loss: 1.3875 - val_accuracy: 0.3974\n",
      "WARNING:tensorflow:Can save best model only with val_acc available, skipping.\n",
      "Epoch 4/15\n",
      "166/166 [==============================] - 25s 152ms/step - loss: 1.7209 - accuracy: 0.3328 - val_loss: 1.3845 - val_accuracy: 0.4265\n",
      "WARNING:tensorflow:Can save best model only with val_acc available, skipping.\n",
      "Epoch 5/15\n",
      "166/166 [==============================] - 25s 152ms/step - loss: 1.6749 - accuracy: 0.3541 - val_loss: 1.4172 - val_accuracy: 0.4311\n",
      "WARNING:tensorflow:Can save best model only with val_acc available, skipping.\n",
      "Epoch 6/15\n",
      "166/166 [==============================] - 24s 143ms/step - loss: 1.6036 - accuracy: 0.3809 - val_loss: 1.4151 - val_accuracy: 0.4391\n",
      "WARNING:tensorflow:Can save best model only with val_acc available, skipping.\n",
      "Epoch 7/15\n",
      "166/166 [==============================] - 25s 151ms/step - loss: 1.5942 - accuracy: 0.3842 - val_loss: 1.3900 - val_accuracy: 0.4476\n",
      "WARNING:tensorflow:Can save best model only with val_acc available, skipping.\n",
      "Epoch 8/15\n",
      "166/166 [==============================] - 25s 149ms/step - loss: 1.5934 - accuracy: 0.3813 - val_loss: 1.3597 - val_accuracy: 0.4623\n",
      "WARNING:tensorflow:Can save best model only with val_acc available, skipping.\n",
      "Epoch 9/15\n",
      "166/166 [==============================] - 23s 140ms/step - loss: 1.5619 - accuracy: 0.4067 - val_loss: 1.3398 - val_accuracy: 0.4697\n",
      "WARNING:tensorflow:Can save best model only with val_acc available, skipping.\n",
      "Epoch 10/15\n",
      "166/166 [==============================] - 23s 140ms/step - loss: 1.5324 - accuracy: 0.4214 - val_loss: 1.3207 - val_accuracy: 0.4743\n",
      "WARNING:tensorflow:Can save best model only with val_acc available, skipping.\n",
      "Epoch 11/15\n",
      "166/166 [==============================] - 23s 140ms/step - loss: 1.4841 - accuracy: 0.4227 - val_loss: 1.3019 - val_accuracy: 0.4822\n",
      "WARNING:tensorflow:Can save best model only with val_acc available, skipping.\n",
      "Epoch 12/15\n",
      "166/166 [==============================] - 24s 145ms/step - loss: 1.4845 - accuracy: 0.4377 - val_loss: 1.2732 - val_accuracy: 0.4988\n",
      "WARNING:tensorflow:Can save best model only with val_acc available, skipping.\n",
      "Epoch 13/15\n",
      "166/166 [==============================] - 24s 147ms/step - loss: 1.4577 - accuracy: 0.4410 - val_loss: 1.2587 - val_accuracy: 0.5092\n",
      "WARNING:tensorflow:Can save best model only with val_acc available, skipping.\n",
      "Epoch 14/15\n",
      "166/166 [==============================] - 24s 143ms/step - loss: 1.3890 - accuracy: 0.4621 - val_loss: 1.2474 - val_accuracy: 0.5156\n",
      "WARNING:tensorflow:Can save best model only with val_acc available, skipping.\n",
      "Epoch 15/15\n",
      "166/166 [==============================] - 23s 139ms/step - loss: 1.3953 - accuracy: 0.4610 - val_loss: 1.2244 - val_accuracy: 0.5269\n",
      "WARNING:tensorflow:Can save best model only with val_acc available, skipping.\n"
     ]
    }
   ],
   "source": [
    "from tensorflow.keras.callbacks import ModelCheckpoint, EarlyStopping\n",
    "checkpoint = ModelCheckpoint(\"RCC\", \n",
    "                             monitor='val_acc',\n",
    "                             verbose=1, \n",
    "                             save_best_only=True, \n",
    "                             save_weights_only=False, \n",
    "                             mode='auto', period=1)\n",
    "\n",
    "early = EarlyStopping(monitor='accuracy', min_delta=0, patience=20, verbose=1, mode='auto')\n",
    "\n",
    "hist = model.fit(train_it, \n",
    "                 validation_data = (test_X_img, test_Y), \n",
    "                 batch_size = 32, \n",
    "                 epochs = 100, \n",
    "                 verbose=1,\n",
    "                 callbacks=[early,checkpoint])"
   ]
  },
  {
   "cell_type": "code",
   "execution_count": 25,
   "id": "1e06e848",
   "metadata": {
    "ExecuteTime": {
     "end_time": "2021-05-11T11:43:13.653355Z",
     "start_time": "2021-05-11T11:43:09.854145Z"
    }
   },
   "outputs": [
    {
     "name": "stdout",
     "output_type": "stream",
     "text": [
      "INFO:tensorflow:Assets written to: Baseline VGG16\\assets\n"
     ]
    }
   ],
   "source": [
    "model.save('Baseline RCCNet')"
   ]
  },
  {
   "cell_type": "code",
   "execution_count": 27,
   "id": "84fc9203",
   "metadata": {
    "ExecuteTime": {
     "end_time": "2021-05-11T11:44:38.253188Z",
     "start_time": "2021-05-11T11:44:38.014652Z"
    }
   },
   "outputs": [
    {
     "data": {
      "image/png": "[encoded data removed]",
      "text/plain": [
       "<Figure size 432x288 with 1 Axes>"
      ]
     },
     "metadata": {},
     "output_type": "display_data"
    },
    {
     "data": {
      "image/png": "[encoded data removed]",
      "text/plain": [
       "<Figure size 432x288 with 1 Axes>"
      ]
     },
     "metadata": {},
     "output_type": "display_data"
    }
   ],
   "source": [
    "# summarize history for accuracy\n",
    "plt.plot(hist.history['accuracy'])\n",
    "plt.plot(hist.history['val_accuracy'])\n",
    "plt.title('model accuracy')\n",
    "plt.ylabel('accuracy')\n",
    "plt.xlabel('epoch')\n",
    "plt.legend(['train', 'test'], loc='upper left')\n",
    "plt.show()\n",
    "# summarize history for loss\n",
    "plt.plot(hist.history['loss'])\n",
    "plt.plot(hist.history['val_loss'])\n",
    "plt.title('model loss')\n",
    "plt.ylabel('loss')\n",
    "plt.xlabel('epoch')\n",
    "plt.legend(['train', 'test'], loc='upper left')\n",
    "plt.show()"
   ]
  },
  {
   "cell_type": "code",
   "execution_count": null,
   "id": "da27e2e0",
   "metadata": {},
   "outputs": [],
   "source": []
  }
 ],
 "metadata": {
  "kernelspec": {
   "display_name": "Python 3",
   "language": "python",
   "name": "python3"
  },
  "language_info": {
   "codemirror_mode": {
    "name": "ipython",
    "version": 3
   },
   "file_extension": ".py",
   "mimetype": "text/x-python",
   "name": "python",
   "nbconvert_exporter": "python",
   "pygments_lexer": "ipython3",
   "version": "3.8.8"
  },
  "toc": {
   "base_numbering": 1,
   "nav_menu": {},
   "number_sections": false,
   "sideBar": true,
   "skip_h1_title": false,
   "title_cell": "Table of Contents",
   "title_sidebar": "Contents",
   "toc_cell": false,
   "toc_position": {},
   "toc_section_display": true,
   "toc_window_display": false
  }
 },
 "nbformat": 4,
 "nbformat_minor": 5
}
