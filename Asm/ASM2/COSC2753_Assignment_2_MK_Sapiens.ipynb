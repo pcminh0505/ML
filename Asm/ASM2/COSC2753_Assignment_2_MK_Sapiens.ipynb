{
 "cells": [
  {
   "cell_type": "markdown",
   "metadata": {
    "id": "F90oqE6OHA09"
   },
   "source": [
    "# COSC2753 - Assignment 2 - Classify Images of Colon Cancer"
   ]
  },
  {
   "cell_type": "markdown",
   "metadata": {
    "id": "-pycIo5gHA1E"
   },
   "source": [
    "**RMIT University Vietnam**\n",
    "\n",
    "**Course:** COSC2753\n",
    "\n",
    "**Group:** MK Sapiens\n",
    "\n",
    "**Student 1:** Pham Cong Minh - s3818102\n",
    "\n",
    "**Student 2:** Nguyen Bao Khang - s3817970\n",
    "\n",
    "**Lecturer:** Dr. Duy Dang Pham Thien\n",
    "\n",
    "**Submission Due Date:** 21 May 2021"
   ]
  },
  {
   "cell_type": "markdown",
   "metadata": {
    "id": "3tUsTdRsHA1F"
   },
   "source": [
    "## Main task\n",
    "* Classify images according to whether given cell image represents a cancerous cells or not (isCancerous).\n",
    "* Classify images according to cell-type, such as: fibroblast, inflammatory, epithelial or others."
   ]
  },
  {
   "cell_type": "markdown",
   "metadata": {
    "id": "ied7uTMMHA1F"
   },
   "source": [
    "## 1. Setup notebook"
   ]
  },
  {
   "cell_type": "code",
   "execution_count": 33,
   "metadata": {
    "id": "JKw6Q6M_HA1F"
   },
   "outputs": [
    {
     "name": "stdout",
     "output_type": "stream",
     "text": [
      "Requirement already satisfied: opencv-python in c:\\users\\user\\anaconda3\\lib\\site-packages (4.5.2.52)\n",
      "Requirement already satisfied: numpy>=1.17.3 in c:\\users\\user\\anaconda3\\lib\\site-packages (from opencv-python) (1.19.2)\n"
     ]
    }
   ],
   "source": [
    "# !pip install tensorflow\n",
    "# !pip install keras\n",
    "!pip install opencv-python"
   ]
  },
  {
   "cell_type": "code",
   "execution_count": 34,
   "metadata": {
    "colab": {
     "base_uri": "https://localhost:8080/"
    },
    "id": "ZKshoOAaHA1G",
    "outputId": "0331264d-4d86-4fef-e0f8-3d77bdafcce6"
   },
   "outputs": [
    {
     "name": "stdout",
     "output_type": "stream",
     "text": [
      "Using Tensorflow version: 2.4.1\n"
     ]
    }
   ],
   "source": [
    "import pandas as pd\n",
    "import numpy as np\n",
    "import matplotlib.pyplot as plt\n",
    "%matplotlib inline \n",
    "import seaborn as sns\n",
    "from tqdm import tqdm\n",
    "\n",
    "import cv2\n",
    "import os\n",
    "import tensorflow as tf\n",
    "import sklearn as sk\n",
    "\n",
    "import warnings\n",
    "warnings.filterwarnings('ignore')\n",
    "\n",
    "print('Using Tensorflow version:', tf.__version__)"
   ]
  },
  {
   "cell_type": "markdown",
   "metadata": {
    "id": "-BbqvDhrHA1H"
   },
   "source": [
    "## 2. Data inspecting"
   ]
  },
  {
   "cell_type": "markdown",
   "metadata": {
    "id": "dcJAWOPvHA1I"
   },
   "source": [
    "### 2.1. Load csv files"
   ]
  },
  {
   "cell_type": "code",
   "execution_count": 35,
   "metadata": {
    "colab": {
     "base_uri": "https://localhost:8080/"
    },
    "id": "t8nlzvALHA1I",
    "outputId": "5264ae53-9033-435b-c066-6c61ed361047"
   },
   "outputs": [],
   "source": [
    "main_data = pd.read_csv('data_labels_mainData.csv')\n",
    "extra_data = pd.read_csv('data_labels_extraData.csv')"
   ]
  },
  {
   "cell_type": "code",
   "execution_count": 36,
   "metadata": {
    "colab": {
     "base_uri": "https://localhost:8080/",
     "height": 197
    },
    "id": "96KG-O1jHA1I",
    "outputId": "85738c36-2171-43a1-9787-cde6805711bd"
   },
   "outputs": [
    {
     "data": {
      "text/html": [
       "<div>\n",
       "<style scoped>\n",
       "    .dataframe tbody tr th:only-of-type {\n",
       "        vertical-align: middle;\n",
       "    }\n",
       "\n",
       "    .dataframe tbody tr th {\n",
       "        vertical-align: top;\n",
       "    }\n",
       "\n",
       "    .dataframe thead th {\n",
       "        text-align: right;\n",
       "    }\n",
       "</style>\n",
       "<table border=\"1\" class=\"dataframe\">\n",
       "  <thead>\n",
       "    <tr style=\"text-align: right;\">\n",
       "      <th></th>\n",
       "      <th>InstanceID</th>\n",
       "      <th>patientID</th>\n",
       "      <th>ImageName</th>\n",
       "      <th>cellTypeName</th>\n",
       "      <th>cellType</th>\n",
       "      <th>isCancerous</th>\n",
       "    </tr>\n",
       "  </thead>\n",
       "  <tbody>\n",
       "    <tr>\n",
       "      <th>0</th>\n",
       "      <td>22405</td>\n",
       "      <td>1</td>\n",
       "      <td>22405.png</td>\n",
       "      <td>fibroblast</td>\n",
       "      <td>0</td>\n",
       "      <td>0</td>\n",
       "    </tr>\n",
       "    <tr>\n",
       "      <th>1</th>\n",
       "      <td>22406</td>\n",
       "      <td>1</td>\n",
       "      <td>22406.png</td>\n",
       "      <td>fibroblast</td>\n",
       "      <td>0</td>\n",
       "      <td>0</td>\n",
       "    </tr>\n",
       "    <tr>\n",
       "      <th>2</th>\n",
       "      <td>22407</td>\n",
       "      <td>1</td>\n",
       "      <td>22407.png</td>\n",
       "      <td>fibroblast</td>\n",
       "      <td>0</td>\n",
       "      <td>0</td>\n",
       "    </tr>\n",
       "    <tr>\n",
       "      <th>3</th>\n",
       "      <td>22408</td>\n",
       "      <td>1</td>\n",
       "      <td>22408.png</td>\n",
       "      <td>fibroblast</td>\n",
       "      <td>0</td>\n",
       "      <td>0</td>\n",
       "    </tr>\n",
       "    <tr>\n",
       "      <th>4</th>\n",
       "      <td>22409</td>\n",
       "      <td>1</td>\n",
       "      <td>22409.png</td>\n",
       "      <td>fibroblast</td>\n",
       "      <td>0</td>\n",
       "      <td>0</td>\n",
       "    </tr>\n",
       "  </tbody>\n",
       "</table>\n",
       "</div>"
      ],
      "text/plain": [
       "   InstanceID  patientID  ImageName cellTypeName  cellType  isCancerous\n",
       "0       22405          1  22405.png   fibroblast         0            0\n",
       "1       22406          1  22406.png   fibroblast         0            0\n",
       "2       22407          1  22407.png   fibroblast         0            0\n",
       "3       22408          1  22408.png   fibroblast         0            0\n",
       "4       22409          1  22409.png   fibroblast         0            0"
      ]
     },
     "execution_count": 36,
     "metadata": {},
     "output_type": "execute_result"
    }
   ],
   "source": [
    "main_data.head()"
   ]
  },
  {
   "cell_type": "code",
   "execution_count": 37,
   "metadata": {
    "colab": {
     "base_uri": "https://localhost:8080/"
    },
    "id": "zE8G_rOnHA1J",
    "outputId": "b49b11f4-f008-455b-cb7e-f06111b2838a"
   },
   "outputs": [
    {
     "data": {
      "text/plain": [
       "(9896, 6)"
      ]
     },
     "execution_count": 37,
     "metadata": {},
     "output_type": "execute_result"
    }
   ],
   "source": [
    "main_data.shape"
   ]
  },
  {
   "cell_type": "code",
   "execution_count": 38,
   "metadata": {
    "colab": {
     "base_uri": "https://localhost:8080/",
     "height": 197
    },
    "id": "E9adpHy6HA1J",
    "outputId": "9e4ea37f-bce9-434f-da58-a42ca8311d82"
   },
   "outputs": [
    {
     "data": {
      "text/html": [
       "<div>\n",
       "<style scoped>\n",
       "    .dataframe tbody tr th:only-of-type {\n",
       "        vertical-align: middle;\n",
       "    }\n",
       "\n",
       "    .dataframe tbody tr th {\n",
       "        vertical-align: top;\n",
       "    }\n",
       "\n",
       "    .dataframe thead th {\n",
       "        text-align: right;\n",
       "    }\n",
       "</style>\n",
       "<table border=\"1\" class=\"dataframe\">\n",
       "  <thead>\n",
       "    <tr style=\"text-align: right;\">\n",
       "      <th></th>\n",
       "      <th>InstanceID</th>\n",
       "      <th>patientID</th>\n",
       "      <th>ImageName</th>\n",
       "      <th>isCancerous</th>\n",
       "    </tr>\n",
       "  </thead>\n",
       "  <tbody>\n",
       "    <tr>\n",
       "      <th>0</th>\n",
       "      <td>12681</td>\n",
       "      <td>61</td>\n",
       "      <td>12681.png</td>\n",
       "      <td>0</td>\n",
       "    </tr>\n",
       "    <tr>\n",
       "      <th>1</th>\n",
       "      <td>12682</td>\n",
       "      <td>61</td>\n",
       "      <td>12682.png</td>\n",
       "      <td>0</td>\n",
       "    </tr>\n",
       "    <tr>\n",
       "      <th>2</th>\n",
       "      <td>12683</td>\n",
       "      <td>61</td>\n",
       "      <td>12683.png</td>\n",
       "      <td>0</td>\n",
       "    </tr>\n",
       "    <tr>\n",
       "      <th>3</th>\n",
       "      <td>12684</td>\n",
       "      <td>61</td>\n",
       "      <td>12684.png</td>\n",
       "      <td>0</td>\n",
       "    </tr>\n",
       "    <tr>\n",
       "      <th>4</th>\n",
       "      <td>12685</td>\n",
       "      <td>61</td>\n",
       "      <td>12685.png</td>\n",
       "      <td>0</td>\n",
       "    </tr>\n",
       "  </tbody>\n",
       "</table>\n",
       "</div>"
      ],
      "text/plain": [
       "   InstanceID  patientID  ImageName  isCancerous\n",
       "0       12681         61  12681.png            0\n",
       "1       12682         61  12682.png            0\n",
       "2       12683         61  12683.png            0\n",
       "3       12684         61  12684.png            0\n",
       "4       12685         61  12685.png            0"
      ]
     },
     "execution_count": 38,
     "metadata": {},
     "output_type": "execute_result"
    }
   ],
   "source": [
    "extra_data.head()"
   ]
  },
  {
   "cell_type": "code",
   "execution_count": 39,
   "metadata": {
    "colab": {
     "base_uri": "https://localhost:8080/"
    },
    "id": "xsefA_peHA1K",
    "outputId": "693adce7-cf9c-4a3d-d9d5-68afa9524985"
   },
   "outputs": [
    {
     "data": {
      "text/plain": [
       "(10384, 4)"
      ]
     },
     "execution_count": 39,
     "metadata": {},
     "output_type": "execute_result"
    }
   ],
   "source": [
    "extra_data.shape"
   ]
  },
  {
   "cell_type": "markdown",
   "metadata": {
    "id": "4WPLvnaAHA1K"
   },
   "source": [
    "### 2.2. Inspect csv files"
   ]
  },
  {
   "cell_type": "markdown",
   "metadata": {
    "id": "Tnd1Tt60HA1K"
   },
   "source": [
    "From the specifications, the main_data contains both cellType (0 to 3) and isCancerous (0 and 1), while extra_data only contains isCancerous."
   ]
  },
  {
   "cell_type": "code",
   "execution_count": 40,
   "metadata": {
    "colab": {
     "base_uri": "https://localhost:8080/",
     "height": 334
    },
    "id": "HiZM3xDoHA1L",
    "outputId": "6759c0ff-f7a4-4f36-a5b8-a4cb0857296a"
   },
   "outputs": [
    {
     "data": {
      "image/png": "[encoded data removed]",
      "text/plain": [
       "<Figure size 720x360 with 2 Axes>"
      ]
     },
     "metadata": {},
     "output_type": "display_data"
    }
   ],
   "source": [
    "plt.style.use('dark_background')\n",
    "\n",
    "# Countplot the cellType and isCancerous\n",
    "fig, ax =plt.subplots(1,2, figsize = (10,5))\n",
    "\n",
    "# 0 = fibroblast, 1 = imflammatory, 2 = epithelial, 3 = others\n",
    "sns.countplot(main_data['cellType'], palette='Set2', ax=ax[0])\n",
    "\n",
    "sns.countplot(main_data['isCancerous'], palette='Set1', ax=ax[1])\n",
    "fig.show()"
   ]
  },
  {
   "cell_type": "code",
   "execution_count": 41,
   "metadata": {
    "colab": {
     "base_uri": "https://localhost:8080/",
     "height": 313
    },
    "id": "95pN_xATHA1L",
    "outputId": "82f0c646-de7c-405b-b155-5281b6fa1679"
   },
   "outputs": [
    {
     "data": {
      "text/plain": [
       "<seaborn.axisgrid.FacetGrid at 0x2141aba99a0>"
      ]
     },
     "execution_count": 41,
     "metadata": {},
     "output_type": "execute_result"
    },
    {
     "data": {
      "image/png": "[encoded data removed]",
      "text/plain": [
       "<Figure size 1152x288 with 2 Axes>"
      ]
     },
     "metadata": {},
     "output_type": "display_data"
    }
   ],
   "source": [
    "# Draw the histogram for cellType respected to isCancerous (class 0 and 1)\n",
    "c = 'cellType'\n",
    "g = sns.FacetGrid(main_data, col='isCancerous', height=4, aspect=2)\n",
    "g.map(plt.hist, str(c), bins=20)\n",
    "g.set_axis_labels(c, \"Count\")"
   ]
  },
  {
   "cell_type": "code",
   "execution_count": 42,
   "metadata": {
    "colab": {
     "base_uri": "https://localhost:8080/",
     "height": 47
    },
    "id": "aK7TEaFPHA1M",
    "outputId": "101d2286-e26b-408c-f191-3e738c615dbe"
   },
   "outputs": [
    {
     "data": {
      "text/html": [
       "<div>\n",
       "<style scoped>\n",
       "    .dataframe tbody tr th:only-of-type {\n",
       "        vertical-align: middle;\n",
       "    }\n",
       "\n",
       "    .dataframe tbody tr th {\n",
       "        vertical-align: top;\n",
       "    }\n",
       "\n",
       "    .dataframe thead th {\n",
       "        text-align: right;\n",
       "    }\n",
       "</style>\n",
       "<table border=\"1\" class=\"dataframe\">\n",
       "  <thead>\n",
       "    <tr style=\"text-align: right;\">\n",
       "      <th></th>\n",
       "      <th>InstanceID</th>\n",
       "      <th>patientID</th>\n",
       "      <th>ImageName</th>\n",
       "      <th>cellTypeName</th>\n",
       "      <th>cellType</th>\n",
       "      <th>isCancerous</th>\n",
       "    </tr>\n",
       "  </thead>\n",
       "  <tbody>\n",
       "  </tbody>\n",
       "</table>\n",
       "</div>"
      ],
      "text/plain": [
       "Empty DataFrame\n",
       "Columns: [InstanceID, patientID, ImageName, cellTypeName, cellType, isCancerous]\n",
       "Index: []"
      ]
     },
     "execution_count": 42,
     "metadata": {},
     "output_type": "execute_result"
    }
   ],
   "source": [
    "# Apply loc to make sure\n",
    "main_data.loc[(main_data['cellType'] != 2) & (main_data['isCancerous'] == 1)]"
   ]
  },
  {
   "cell_type": "markdown",
   "metadata": {
    "id": "FywYktxnHA1M"
   },
   "source": [
    "From the dataset, it can be said that only cellType = 2 (epithelial) leads to cancerous "
   ]
  },
  {
   "cell_type": "markdown",
   "metadata": {
    "id": "sWbjkFpTHA1M"
   },
   "source": [
    "### 2.3. Inspect images"
   ]
  },
  {
   "cell_type": "code",
   "execution_count": 43,
   "metadata": {
    "colab": {
     "base_uri": "https://localhost:8080/"
    },
    "id": "BMXfBe5cHA1N",
    "outputId": "f418712f-3f63-41c3-dc14-308a93250277"
   },
   "outputs": [
    {
     "name": "stdout",
     "output_type": "stream",
     "text": [
      "['22405.png', '22406.png', '22407.png', '22408.png']\n",
      "['22417.png', '22418.png', '22419.png', '22420.png']\n",
      "['276.png', '277.png', '278.png', '279.png']\n",
      "['22423.png', '22424.png', '19061.png', '19062.png']\n"
     ]
    }
   ],
   "source": [
    "# Prepare some image of each class\n",
    "cell0 = main_data['ImageName'].loc[main_data['cellType'] == 0][:4].tolist()\n",
    "cell1 = main_data['ImageName'].loc[main_data['cellType'] == 1][:4].tolist()\n",
    "cell2 = main_data['ImageName'].loc[main_data['cellType'] == 2][:4].tolist()\n",
    "cell3 = main_data['ImageName'].loc[main_data['cellType'] == 3][:4].tolist()\n",
    "\n",
    "print(cell0)\n",
    "print(cell1)\n",
    "print(cell2)\n",
    "print(cell3)"
   ]
  },
  {
   "cell_type": "code",
   "execution_count": 44,
   "metadata": {
    "id": "qinLUYRIHA1N"
   },
   "outputs": [],
   "source": [
    "# CHANGE THE DIRECTORY IN YOUR LOCAL MACHINE\n",
    "PATH = r\"C:\\Users\\User\\Desktop\\RMIT\\Cloud - GitHub\\Minh\\ML\\Asm\\ASM2\\patch_images\""
   ]
  },
  {
   "cell_type": "markdown",
   "metadata": {
    "id": "_2ehN_HaHA1O"
   },
   "source": [
    "## 3. Data preparation"
   ]
  },
  {
   "cell_type": "markdown",
   "metadata": {
    "id": "ThY-OK4s58fv"
   },
   "source": [
    "### 3.1. Split data into train and validation (test) set"
   ]
  },
  {
   "cell_type": "code",
   "execution_count": 45,
   "metadata": {
    "colab": {
     "base_uri": "https://localhost:8080/"
    },
    "id": "K7xx0rdsHA1O",
    "outputId": "22fcad42-f976-499d-8cd9-c605ea973aa4"
   },
   "outputs": [
    {
     "name": "stdout",
     "output_type": "stream",
     "text": [
      "Train shape: (6927, 2) Validation shape: (2969, 2)\n"
     ]
    }
   ],
   "source": [
    "from sklearn.model_selection import train_test_split\n",
    "\n",
    "# Split data into raw train and validation set\n",
    "# Task 1: Predict isCancerous\n",
    "raw_train_task1, val_task1 = train_test_split(main_data[['ImageName', 'isCancerous']], \n",
    "                                              test_size=0.3, \n",
    "                                              random_state=99)\n",
    "\n",
    "# Task 2: Predict cellType\n",
    "raw_train_task2, val_task2 = train_test_split(main_data[['ImageName','cellType']], \n",
    "                                              test_size=0.3, \n",
    "                                              random_state=99)                                        \n",
    "\n",
    "print('Train shape:', raw_train_task2.shape, 'Validation shape:', val_task2.shape)"
   ]
  },
  {
   "cell_type": "code",
   "execution_count": 46,
   "metadata": {
    "id": "G-vKXHq15Tg-"
   },
   "outputs": [],
   "source": [
    "raw_train_task1 = raw_train_task1.sort_values(by=['isCancerous']).reset_index(drop = True)\n",
    "train_X1 = raw_train_task1['ImageName']\n",
    "train_Y1 = raw_train_task1['isCancerous']\n",
    "\n",
    "test_X1 = val_task1['ImageName']\n",
    "test_Y1 = val_task1['isCancerous']"
   ]
  },
  {
   "cell_type": "code",
   "execution_count": 47,
   "metadata": {
    "id": "6f6Ipjxd6MVr"
   },
   "outputs": [],
   "source": [
    "raw_train_task2 = raw_train_task2.sort_values(by=['cellType']).reset_index(drop = True)\n",
    "train_X2 = raw_train_task2['ImageName']\n",
    "train_Y2 = raw_train_task2['cellType']\n",
    "\n",
    "test_X2 = val_task2['ImageName']\n",
    "test_Y2 = val_task2['cellType']"
   ]
  },
  {
   "cell_type": "markdown",
   "metadata": {
    "id": "oa7VxhaSHA1Q"
   },
   "source": [
    "### 3.2. Create sample image to balance among classes"
   ]
  },
  {
   "cell_type": "code",
   "execution_count": 48,
   "metadata": {
    "colab": {
     "base_uri": "https://localhost:8080/"
    },
    "id": "43VP_9oz6y8l",
    "outputId": "b97a9192-a448-4318-c421-54fd415dc1ba"
   },
   "outputs": [
    {
     "data": {
      "text/plain": [
       "0    4067\n",
       "1    2860\n",
       "Name: isCancerous, dtype: int64"
      ]
     },
     "execution_count": 48,
     "metadata": {},
     "output_type": "execute_result"
    }
   ],
   "source": [
    "train_Y1.value_counts()"
   ]
  },
  {
   "cell_type": "code",
   "execution_count": 49,
   "metadata": {
    "colab": {
     "base_uri": "https://localhost:8080/"
    },
    "id": "bVS5MWE460rJ",
    "outputId": "be91d34c-b6b7-4d69-ecaa-fac987631bba"
   },
   "outputs": [
    {
     "data": {
      "text/plain": [
       "2    2860\n",
       "1    1780\n",
       "0    1313\n",
       "3     974\n",
       "Name: cellType, dtype: int64"
      ]
     },
     "execution_count": 49,
     "metadata": {},
     "output_type": "execute_result"
    }
   ],
   "source": [
    "train_Y2.value_counts()"
   ]
  },
  {
   "cell_type": "code",
   "execution_count": 50,
   "metadata": {
    "id": "S2Yg0tj0-NUY"
   },
   "outputs": [],
   "source": [
    "from random import randint, choice\n",
    "\n",
    "item_order1 = train_Y1.value_counts().index.tolist()\n",
    "freq_order1 = train_Y1.value_counts().tolist()\n",
    "\n",
    "count_list1 = [element for _, element in sorted(zip(item_order1, freq_order1))]# List of value_counts in isCancerous\n",
    "\n",
    "sum_range1 = count_list1.copy()\n",
    "for i in range(1, len(sum_range1)):\n",
    "    sum_range1[i] += sum_range1[i - 1]\n",
    "\n",
    "sum_range1.insert(0, 0)\n",
    "\n",
    "MAX1 = max(count_list1)\n",
    "\n",
    "INTERPOLATION = [cv2.INTER_AREA, cv2.INTER_CUBIC, cv2.INTER_LINEAR, cv2.INTER_NEAREST]\n",
    "\n",
    "def create_train_isCancerous(directory, img_list):\n",
    "    train_data = []\n",
    "\n",
    "    # Add original data \n",
    "    for name in tqdm(img_list, desc=\"Adding original images\"):\n",
    "        img_path = os.path.join(directory, name)\n",
    "        img = cv2.resize(cv2.imread(img_path), (27, 27))\n",
    "        train_data.append(np.array(img))\n",
    "\n",
    "    # Add sample data\n",
    "    for i in tqdm(range(MAX1 - count_list1[1]), desc=\"Sampling class 1\"):\n",
    "      img_path = os.path.join(directory, choice(img_list[sum_range1[1]:]))\n",
    "      img = cv2.resize(cv2.imread(img_path), (27, 27), interpolation=INTERPOLATION[randint(0, 3)])\n",
    "      train_data.append(np.array(img))\n",
    "\n",
    "    print(\"\\nSuccessfully sample images!\")\n",
    "    # Convert to np.array and normalize pixel values to be between 0 and 1 \n",
    "    return np.array(train_data).astype('float32') / 255.0 "
   ]
  },
  {
   "cell_type": "code",
   "execution_count": 51,
   "metadata": {
    "id": "_HyrQy2H6lzC"
   },
   "outputs": [],
   "source": [
    "item_order2 = train_Y2.value_counts().index.tolist()\n",
    "freq_order2 = train_Y2.value_counts().tolist()\n",
    "\n",
    "count_list2 = [element for _, element in sorted(zip(item_order2, freq_order2))]# List of value_counts in cellType\n",
    "\n",
    "sum_range2 = count_list2.copy()\n",
    "for i in range(1, len(sum_range2)):\n",
    "    sum_range2[i] += sum_range2[i - 1]\n",
    "\n",
    "sum_range2.insert(0, 0)\n",
    "\n",
    "MAX2 = max(count_list2)\n",
    "\n",
    "def create_train_cellType(directory, img_list):\n",
    "    train_data = []\n",
    "\n",
    "    # Add original data \n",
    "    for name in tqdm(img_list, desc=\"Adding original images\"):\n",
    "        img_path = os.path.join(directory, name)\n",
    "        img = cv2.resize(cv2.imread(img_path), (27, 27))\n",
    "        train_data.append(np.array(img))\n",
    "\n",
    "    for i in range(4):\n",
    "        if i != 2:\n",
    "            for j in tqdm(range(MAX2 - count_list2[i]), desc=\"Sampling class \".format(fc=i)):\n",
    "                img_path = os.path.join(directory, choice(img_list[sum_range2[i]:sum_range2[i + 1]]))\n",
    "                img = cv2.resize(cv2.imread(img_path), (27, 27), interpolation=INTERPOLATION[randint(0, 3)])\n",
    "                train_data.append(np.array(img))\n",
    "\n",
    "    print(\"\\nSuccessfully sample images!\")\n",
    "    # Convert to np.array and normalize pixel values to be between 0 and 1 \n",
    "    return np.array(train_data).astype('float32') / 255.0 "
   ]
  },
  {
   "cell_type": "code",
   "execution_count": 52,
   "metadata": {
    "id": "bgtnUXzq64rz"
   },
   "outputs": [],
   "source": [
    "def create_test_data(directory, img_list):\n",
    "    test_data = []\n",
    "    for name in tqdm(img_list, desc='Extracting Image Progress'):\n",
    "        path = os.path.join(directory, name)\n",
    "        img = cv2.resize(cv2.imread(path), (27, 27))\n",
    "        test_data.append(np.array(img))\n",
    "    print(\"\\nSuccessfully import images!\")\n",
    "    # Convert to np.array and normalize pixel values to be between 0 and 1 \n",
    "    return np.array(test_data).astype('float32') / 255.0 "
   ]
  },
  {
   "cell_type": "markdown",
   "metadata": {
    "id": "qlNALzSZHA1R"
   },
   "source": [
    "### 3.3. Create image array"
   ]
  },
  {
   "cell_type": "code",
   "execution_count": 53,
   "metadata": {
    "colab": {
     "base_uri": "https://localhost:8080/"
    },
    "id": "iUOW9oP1AKu8",
    "outputId": "bae8252b-3cf9-4318-fb17-2c429db695f8"
   },
   "outputs": [
    {
     "name": "stderr",
     "output_type": "stream",
     "text": [
      "Adding original images: 100%|████████████████████████████████████████████████████| 6927/6927 [00:00<00:00, 8142.48it/s]\n",
      "Sampling class 1: 100%|██████████████████████████████████████████████████████████| 1207/1207 [00:00<00:00, 7858.61it/s]\n"
     ]
    },
    {
     "name": "stdout",
     "output_type": "stream",
     "text": [
      "\n",
      "Successfully sample images!\n"
     ]
    },
    {
     "data": {
      "text/plain": [
       "(8134, 27, 27, 3)"
      ]
     },
     "execution_count": 53,
     "metadata": {},
     "output_type": "execute_result"
    }
   ],
   "source": [
    "train_img_X1 = create_train_isCancerous(PATH,train_X1.to_list())\n",
    "\n",
    "train_img_X1.shape"
   ]
  },
  {
   "cell_type": "code",
   "execution_count": 54,
   "metadata": {
    "colab": {
     "base_uri": "https://localhost:8080/"
    },
    "id": "Shs0W9YMAPyG",
    "outputId": "1a1043a3-eb08-427d-f471-08028ddef1aa"
   },
   "outputs": [
    {
     "name": "stderr",
     "output_type": "stream",
     "text": [
      "Adding original images: 100%|████████████████████████████████████████████████████| 6927/6927 [00:00<00:00, 8568.46it/s]\n",
      "Sampling class : 100%|███████████████████████████████████████████████████████████| 1547/1547 [00:00<00:00, 8522.70it/s]\n",
      "Sampling class : 100%|███████████████████████████████████████████████████████████| 1080/1080 [00:00<00:00, 8394.52it/s]\n",
      "Sampling class : 100%|███████████████████████████████████████████████████████████| 1886/1886 [00:00<00:00, 8330.61it/s]"
     ]
    },
    {
     "name": "stdout",
     "output_type": "stream",
     "text": [
      "\n",
      "Successfully sample images!\n"
     ]
    },
    {
     "name": "stderr",
     "output_type": "stream",
     "text": [
      "\n"
     ]
    },
    {
     "data": {
      "text/plain": [
       "(11440, 27, 27, 3)"
      ]
     },
     "execution_count": 54,
     "metadata": {},
     "output_type": "execute_result"
    }
   ],
   "source": [
    "train_img_X2 = create_train_cellType(PATH, train_X2.to_list())\n",
    "\n",
    "train_img_X2.shape"
   ]
  },
  {
   "cell_type": "code",
   "execution_count": 55,
   "metadata": {
    "colab": {
     "base_uri": "https://localhost:8080/"
    },
    "id": "DOcJx6UvAQmS",
    "outputId": "c3bce61c-7ba9-434a-a335-564eb16a052b"
   },
   "outputs": [
    {
     "name": "stderr",
     "output_type": "stream",
     "text": [
      "Extracting Image Progress: 100%|█████████████████████████████████████████████████| 2969/2969 [00:00<00:00, 8133.72it/s]\n",
      "Extracting Image Progress:  32%|████████████████                                  | 954/2969 [00:00<00:00, 9468.11it/s]"
     ]
    },
    {
     "name": "stdout",
     "output_type": "stream",
     "text": [
      "\n",
      "Successfully import images!\n"
     ]
    },
    {
     "name": "stderr",
     "output_type": "stream",
     "text": [
      "Extracting Image Progress: 100%|█████████████████████████████████████████████████| 2969/2969 [00:00<00:00, 9332.08it/s]"
     ]
    },
    {
     "name": "stdout",
     "output_type": "stream",
     "text": [
      "\n",
      "Successfully import images!\n"
     ]
    },
    {
     "name": "stderr",
     "output_type": "stream",
     "text": [
      "\n"
     ]
    },
    {
     "data": {
      "text/plain": [
       "(2969, 27, 27, 3)"
      ]
     },
     "execution_count": 55,
     "metadata": {},
     "output_type": "execute_result"
    }
   ],
   "source": [
    "test_img_X1 = create_test_data(PATH, test_X1.to_list())\n",
    "test_img_X2 = create_test_data(PATH, test_X2.to_list())\n",
    "\n",
    "test_img_X2.shape"
   ]
  },
  {
   "cell_type": "code",
   "execution_count": 56,
   "metadata": {
    "colab": {
     "base_uri": "https://localhost:8080/"
    },
    "id": "ZHTQBmF5xl7o",
    "outputId": "d4ca7aa5-956a-431f-b59a-bbde65c508db"
   },
   "outputs": [
    {
     "data": {
      "text/plain": [
       "(8134,)"
      ]
     },
     "execution_count": 56,
     "metadata": {},
     "output_type": "execute_result"
    }
   ],
   "source": [
    "train_mod_Y1 = train_Y1.values\n",
    "for i in range(2):\n",
    "  train_mod_Y1 = np.concatenate((train_mod_Y1, np.full((MAX1 - count_list1[i],), i, dtype=int)))\n",
    "\n",
    "train_mod_Y1.shape"
   ]
  },
  {
   "cell_type": "code",
   "execution_count": 57,
   "metadata": {
    "colab": {
     "base_uri": "https://localhost:8080/"
    },
    "id": "4CLB2CQZxzZQ",
    "outputId": "2d07cb00-c8ee-4b08-b93b-5a6bc395083f"
   },
   "outputs": [
    {
     "data": {
      "text/plain": [
       "(11440,)"
      ]
     },
     "execution_count": 57,
     "metadata": {},
     "output_type": "execute_result"
    }
   ],
   "source": [
    "train_mod_Y2 = train_Y2.values\n",
    "for i in range(4):\n",
    "  train_mod_Y2 = np.concatenate((train_mod_Y2, np.full((MAX2 - count_list2[i],), i, dtype=int)))\n",
    "\n",
    "train_mod_Y2.shape"
   ]
  },
  {
   "cell_type": "code",
   "execution_count": 58,
   "metadata": {
    "colab": {
     "base_uri": "https://localhost:8080/"
    },
    "id": "ppoBjEtXAIyg",
    "outputId": "7c4826e0-5228-4252-a109-228d4e2d8d92"
   },
   "outputs": [
    {
     "data": {
      "text/plain": [
       "(2969,)"
      ]
     },
     "execution_count": 58,
     "metadata": {},
     "output_type": "execute_result"
    }
   ],
   "source": [
    "test_Y2.shape"
   ]
  },
  {
   "cell_type": "code",
   "execution_count": 59,
   "metadata": {
    "id": "RJmd9qUwyk5s"
   },
   "outputs": [],
   "source": [
    "# Create datagen\n",
    "from tensorflow.keras.preprocessing.image import ImageDataGenerator\n",
    "\n",
    "datagen = ImageDataGenerator()\n",
    "\n",
    "train_datagen1 = datagen.flow(train_img_X1, train_mod_Y1, batch_size=16, shuffle=True)\n",
    "train_datagen2 = datagen.flow(train_img_X2, train_mod_Y2, batch_size=16, shuffle=True)"
   ]
  },
  {
   "cell_type": "markdown",
   "metadata": {
    "id": "Fc4rpFaSmVFu"
   },
   "source": [
    "## 4. Constructing CNN network"
   ]
  },
  {
   "cell_type": "markdown",
   "metadata": {
    "id": "QxfgEIhwnbp3"
   },
   "source": [
    "### 4.1. Model for task 1: isCancerous"
   ]
  },
  {
   "cell_type": "code",
   "execution_count": 60,
   "metadata": {
    "id": "GiJN9sAbmcWw"
   },
   "outputs": [
    {
     "name": "stdout",
     "output_type": "stream",
     "text": [
      "Model: \"sequential_1\"\n",
      "_________________________________________________________________\n",
      "Layer (type)                 Output Shape              Param #   \n",
      "=================================================================\n",
      "conv2d_6 (Conv2D)            (None, 27, 27, 32)        896       \n",
      "_________________________________________________________________\n",
      "batch_normalization_8 (Batch (None, 27, 27, 32)        128       \n",
      "_________________________________________________________________\n",
      "conv2d_7 (Conv2D)            (None, 27, 27, 32)        9248      \n",
      "_________________________________________________________________\n",
      "batch_normalization_9 (Batch (None, 27, 27, 32)        128       \n",
      "_________________________________________________________________\n",
      "max_pooling2d_3 (MaxPooling2 (None, 13, 13, 32)        0         \n",
      "_________________________________________________________________\n",
      "dropout_5 (Dropout)          (None, 13, 13, 32)        0         \n",
      "_________________________________________________________________\n",
      "conv2d_8 (Conv2D)            (None, 13, 13, 64)        18496     \n",
      "_________________________________________________________________\n",
      "batch_normalization_10 (Batc (None, 13, 13, 64)        256       \n",
      "_________________________________________________________________\n",
      "conv2d_9 (Conv2D)            (None, 13, 13, 64)        36928     \n",
      "_________________________________________________________________\n",
      "batch_normalization_11 (Batc (None, 13, 13, 64)        256       \n",
      "_________________________________________________________________\n",
      "max_pooling2d_4 (MaxPooling2 (None, 6, 6, 64)          0         \n",
      "_________________________________________________________________\n",
      "dropout_6 (Dropout)          (None, 6, 6, 64)          0         \n",
      "_________________________________________________________________\n",
      "conv2d_10 (Conv2D)           (None, 6, 6, 128)         73856     \n",
      "_________________________________________________________________\n",
      "batch_normalization_12 (Batc (None, 6, 6, 128)         512       \n",
      "_________________________________________________________________\n",
      "conv2d_11 (Conv2D)           (None, 6, 6, 128)         147584    \n",
      "_________________________________________________________________\n",
      "batch_normalization_13 (Batc (None, 6, 6, 128)         512       \n",
      "_________________________________________________________________\n",
      "max_pooling2d_5 (MaxPooling2 (None, 3, 3, 128)         0         \n",
      "_________________________________________________________________\n",
      "dropout_7 (Dropout)          (None, 3, 3, 128)         0         \n",
      "_________________________________________________________________\n",
      "flatten_1 (Flatten)          (None, 1152)              0         \n",
      "_________________________________________________________________\n",
      "dense_3 (Dense)              (None, 512)               590336    \n",
      "_________________________________________________________________\n",
      "batch_normalization_14 (Batc (None, 512)               2048      \n",
      "_________________________________________________________________\n",
      "dropout_8 (Dropout)          (None, 512)               0         \n",
      "_________________________________________________________________\n",
      "dense_4 (Dense)              (None, 512)               262656    \n",
      "_________________________________________________________________\n",
      "batch_normalization_15 (Batc (None, 512)               2048      \n",
      "_________________________________________________________________\n",
      "dropout_9 (Dropout)          (None, 512)               0         \n",
      "_________________________________________________________________\n",
      "dense_5 (Dense)              (None, 1)                 513       \n",
      "=================================================================\n",
      "Total params: 1,146,401\n",
      "Trainable params: 1,143,457\n",
      "Non-trainable params: 2,944\n",
      "_________________________________________________________________\n"
     ]
    }
   ],
   "source": [
    "from tensorflow.keras.models import Sequential\n",
    "from tensorflow.keras.layers import Dense, Conv2D, MaxPooling2D , Flatten, BatchNormalization, Dropout\n",
    "from tensorflow.keras.regularizers import l2\n",
    "\n",
    "model_isCancerous = Sequential()  # Initiate the model\n",
    "\n",
    "# First convolutional layer(s)\n",
    "model_isCancerous.add(Conv2D(32, (3, 3), activation='relu', kernel_initializer='he_uniform', padding='same', input_shape=(27, 27, 3)))\n",
    "model_isCancerous.add(BatchNormalization())\n",
    "model_isCancerous.add(Conv2D(32, (3, 3), activation='relu', kernel_initializer='he_uniform', padding='same'))\n",
    "model_isCancerous.add(BatchNormalization())\n",
    "model_isCancerous.add(MaxPooling2D((2, 2)))\n",
    "model_isCancerous.add(Dropout(0.2))\n",
    "\n",
    "# Second convolutional layer(s)\n",
    "model_isCancerous.add(Conv2D(64, (3, 3), activation='relu', kernel_initializer='he_uniform', kernel_regularizer=l2(l=0.01), padding='same'))\n",
    "model_isCancerous.add(BatchNormalization())\n",
    "model_isCancerous.add(Conv2D(64, (3, 3), activation='relu', kernel_initializer='he_uniform', kernel_regularizer=l2(l=0.01), padding='same'))\n",
    "model_isCancerous.add(BatchNormalization())\n",
    "model_isCancerous.add(MaxPooling2D((2, 2)))\n",
    "model_isCancerous.add(Dropout(0.3))\n",
    "\n",
    "# Third convolutional layer(s)\n",
    "model_isCancerous.add(Conv2D(128, (3, 3), activation='relu', kernel_initializer='he_uniform', kernel_regularizer=l2(l=0.01), padding='same'))\n",
    "model_isCancerous.add(BatchNormalization())\n",
    "model_isCancerous.add(Conv2D(128, (3, 3), activation='relu', kernel_initializer='he_uniform', kernel_regularizer=l2(l=0.01), padding='same'))\n",
    "model_isCancerous.add(BatchNormalization())\n",
    "model_isCancerous.add(MaxPooling2D((2, 2)))\n",
    "model_isCancerous.add(Dropout(0.4))\n",
    "\n",
    "# Fully connected layer(s)\n",
    "model_isCancerous.add(Flatten())\n",
    "model_isCancerous.add(Dense(512, kernel_regularizer=l2(l=0.01), activation='relu'))\n",
    "model_isCancerous.add(BatchNormalization())\n",
    "model_isCancerous.add(Dropout(0.2))\n",
    "model_isCancerous.add(Dense(512, kernel_regularizer=l2(l=0.01), activation='relu'))\n",
    "model_isCancerous.add(BatchNormalization())\n",
    "model_isCancerous.add(Dropout(0.2))\n",
    "model_isCancerous.add(Dense(2, activation='softmax')) # Output is 0 and 1\n",
    "\n",
    "model_isCancerous.summary()"
   ]
  },
  {
   "cell_type": "markdown",
   "metadata": {
    "id": "O-k5hja0oB4Q"
   },
   "source": [
    "## 5. Compile and training"
   ]
  },
  {
   "cell_type": "code",
   "execution_count": 61,
   "metadata": {
    "id": "gSxJIJ6AHA1V"
   },
   "outputs": [],
   "source": [
    "from tensorflow.keras.optimizers import Adam\n",
    "\n",
    "opt = Adam(lr=0.0005, beta_1=0.4, beta_2=0.444, decay=1.0e-6, amsgrad=True)\n",
    "\n",
    "model_isCancerous.compile(optimizer=opt , loss='sparse_category_crossentropy', metrics=['accuracy'])"
   ]
  },
  {
   "cell_type": "code",
   "execution_count": 62,
   "metadata": {
    "id": "JHF4pcQro1o7"
   },
   "outputs": [],
   "source": [
    "from keras.callbacks import EarlyStopping, ReduceLROnPlateau\n",
    "early = EarlyStopping(monitor='accuracy', min_delta=0.001, patience=10, verbose=1, mode='auto')\n",
    "reduce_lr = ReduceLROnPlateau(monitor='val_loss', factor=np.sqrt(0.1), cooldown=0, patience=6, min_lr=0.5e-15) \n",
    "\n",
    "EPOCHS = 500\n",
    "BATCH_SIZE = 64"
   ]
  },
  {
   "cell_type": "code",
   "execution_count": null,
   "metadata": {
    "id": "8_AqeLg5pCkI"
   },
   "outputs": [
    {
     "name": "stdout",
     "output_type": "stream",
     "text": [
      "Epoch 1/500\n",
      "509/509 [==============================] - 21s 39ms/step - loss: 18.7198 - accuracy: 0.7700 - val_loss: 16.4588 - val_accuracy: 0.5945\n",
      "Epoch 2/500\n",
      "509/509 [==============================] - 19s 38ms/step - loss: 15.0711 - accuracy: 0.8551 - val_loss: 13.7845 - val_accuracy: 0.6787\n",
      "Epoch 3/500\n",
      "509/509 [==============================] - 19s 38ms/step - loss: 12.9321 - accuracy: 0.8548 - val_loss: 12.0976 - val_accuracy: 0.7110\n",
      "Epoch 4/500\n",
      "509/509 [==============================] - 19s 38ms/step - loss: 11.3371 - accuracy: 0.8577 - val_loss: 10.6417 - val_accuracy: 0.6868\n",
      "Epoch 5/500\n",
      "509/509 [==============================] - 20s 38ms/step - loss: 10.0542 - accuracy: 0.8676 - val_loss: 9.5954 - val_accuracy: 0.7221\n",
      "Epoch 6/500\n",
      "509/509 [==============================] - 19s 38ms/step - loss: 9.0136 - accuracy: 0.8676 - val_loss: 8.5478 - val_accuracy: 0.7801\n",
      "Epoch 7/500\n",
      "509/509 [==============================] - 19s 38ms/step - loss: 8.1255 - accuracy: 0.8719 - val_loss: 7.7787 - val_accuracy: 0.7747\n",
      "Epoch 8/500\n",
      "509/509 [==============================] - 20s 38ms/step - loss: 7.3820 - accuracy: 0.8736 - val_loss: 7.0549 - val_accuracy: 0.7915\n",
      "Epoch 9/500\n",
      "509/509 [==============================] - 20s 39ms/step - loss: 6.7126 - accuracy: 0.8815 - val_loss: 6.5234 - val_accuracy: 0.7848\n",
      "Epoch 10/500\n",
      "509/509 [==============================] - 20s 39ms/step - loss: 6.1532 - accuracy: 0.8712 - val_loss: 5.9480 - val_accuracy: 0.8191\n",
      "Epoch 11/500\n",
      "509/509 [==============================] - 20s 39ms/step - loss: 5.6473 - accuracy: 0.8870 - val_loss: 5.5332 - val_accuracy: 0.7865\n",
      "Epoch 12/500\n",
      "509/509 [==============================] - 20s 39ms/step - loss: 5.2069 - accuracy: 0.8880 - val_loss: 5.1845 - val_accuracy: 0.7649\n",
      "Epoch 13/500\n",
      "509/509 [==============================] - 20s 39ms/step - loss: 4.8069 - accuracy: 0.8882 - val_loss: 4.7831 - val_accuracy: 0.7673\n",
      "Epoch 14/500\n",
      "509/509 [==============================] - 21s 42ms/step - loss: 4.4477 - accuracy: 0.8878 - val_loss: 4.5347 - val_accuracy: 0.7471\n",
      "Epoch 15/500\n",
      "509/509 [==============================] - 21s 41ms/step - loss: 4.1306 - accuracy: 0.8929 - val_loss: 4.1987 - val_accuracy: 0.7588\n",
      "Epoch 16/500\n",
      "509/509 [==============================] - 21s 42ms/step - loss: 3.8511 - accuracy: 0.8871 - val_loss: 3.8951 - val_accuracy: 0.7888\n",
      "Epoch 17/500\n",
      "509/509 [==============================] - 21s 42ms/step - loss: 3.5923 - accuracy: 0.8957 - val_loss: 3.6074 - val_accuracy: 0.8100\n",
      "Epoch 18/500\n",
      "509/509 [==============================] - 21s 41ms/step - loss: 3.3572 - accuracy: 0.8926 - val_loss: 3.4976 - val_accuracy: 0.7838\n",
      "Epoch 19/500\n",
      "509/509 [==============================] - 21s 41ms/step - loss: 3.1506 - accuracy: 0.8900 - val_loss: 3.2162 - val_accuracy: 0.7942\n",
      "Epoch 20/500\n",
      "509/509 [==============================] - 21s 41ms/step - loss: 2.9439 - accuracy: 0.9050 - val_loss: 3.1263 - val_accuracy: 0.7979\n",
      "Epoch 21/500\n",
      "509/509 [==============================] - 21s 41ms/step - loss: 2.7803 - accuracy: 0.9027 - val_loss: 3.0274 - val_accuracy: 0.7615\n",
      "Epoch 22/500\n",
      "509/509 [==============================] - 21s 41ms/step - loss: 2.6245 - accuracy: 0.8985 - val_loss: 2.7094 - val_accuracy: 0.8201\n",
      "Epoch 23/500\n",
      "509/509 [==============================] - 21s 41ms/step - loss: 2.4641 - accuracy: 0.9044 - val_loss: 2.6059 - val_accuracy: 0.8208\n",
      "Epoch 24/500\n",
      "509/509 [==============================] - 21s 41ms/step - loss: 2.3298 - accuracy: 0.9042 - val_loss: 2.4317 - val_accuracy: 0.8451\n",
      "Epoch 25/500\n",
      "509/509 [==============================] - 21s 41ms/step - loss: 2.2093 - accuracy: 0.8965 - val_loss: 2.4216 - val_accuracy: 0.7814\n",
      "Epoch 26/500\n",
      "509/509 [==============================] - 21s 41ms/step - loss: 2.0909 - accuracy: 0.9070 - val_loss: 2.2151 - val_accuracy: 0.8262\n",
      "Epoch 27/500\n",
      "509/509 [==============================] - 21s 41ms/step - loss: 1.9760 - accuracy: 0.9102 - val_loss: 2.1649 - val_accuracy: 0.7996\n",
      "Epoch 28/500\n",
      "509/509 [==============================] - 21s 41ms/step - loss: 1.8798 - accuracy: 0.9079 - val_loss: 2.0078 - val_accuracy: 0.8414\n",
      "Epoch 29/500\n",
      "509/509 [==============================] - 21s 41ms/step - loss: 1.7883 - accuracy: 0.9125 - val_loss: 1.9748 - val_accuracy: 0.8225\n",
      "Epoch 30/500\n",
      "509/509 [==============================] - 21s 41ms/step - loss: 1.7078 - accuracy: 0.9082 - val_loss: 1.8459 - val_accuracy: 0.8127\n",
      "Epoch 31/500\n",
      "509/509 [==============================] - 21s 41ms/step - loss: 1.6345 - accuracy: 0.9118 - val_loss: 1.7676 - val_accuracy: 0.8491\n",
      "Epoch 32/500\n",
      "509/509 [==============================] - 21s 41ms/step - loss: 1.5395 - accuracy: 0.9219 - val_loss: 1.7743 - val_accuracy: 0.7966\n",
      "Epoch 33/500\n",
      "509/509 [==============================] - 21s 41ms/step - loss: 1.4829 - accuracy: 0.9156 - val_loss: 1.6048 - val_accuracy: 0.8548\n",
      "Epoch 34/500\n",
      "509/509 [==============================] - 21s 41ms/step - loss: 1.4203 - accuracy: 0.9175 - val_loss: 1.5770 - val_accuracy: 0.8444\n",
      "Epoch 35/500\n",
      "509/509 [==============================] - 21s 41ms/step - loss: 1.3417 - accuracy: 0.9278 - val_loss: 1.6444 - val_accuracy: 0.8043\n",
      "Epoch 36/500\n",
      "509/509 [==============================] - 21s 41ms/step - loss: 1.3083 - accuracy: 0.9194 - val_loss: 1.5328 - val_accuracy: 0.8272\n",
      "Epoch 37/500\n",
      "509/509 [==============================] - 21s 41ms/step - loss: 1.2428 - accuracy: 0.9269 - val_loss: 1.3897 - val_accuracy: 0.8562\n",
      "Epoch 38/500\n",
      "509/509 [==============================] - 21s 41ms/step - loss: 1.1977 - accuracy: 0.9306 - val_loss: 1.3482 - val_accuracy: 0.8606\n",
      "Epoch 39/500\n",
      "509/509 [==============================] - 21s 41ms/step - loss: 1.1636 - accuracy: 0.9222 - val_loss: 1.2629 - val_accuracy: 0.8609\n",
      "Epoch 40/500\n",
      "509/509 [==============================] - 21s 41ms/step - loss: 1.1230 - accuracy: 0.9286 - val_loss: 1.2703 - val_accuracy: 0.8518\n",
      "Epoch 41/500\n",
      "509/509 [==============================] - 21s 41ms/step - loss: 1.0790 - accuracy: 0.9281 - val_loss: 1.2441 - val_accuracy: 0.8680\n",
      "Epoch 42/500\n",
      "509/509 [==============================] - 21s 41ms/step - loss: 1.0266 - accuracy: 0.9308 - val_loss: 1.1604 - val_accuracy: 0.8804\n",
      "Epoch 43/500\n",
      "177/509 [=========>....................] - ETA: 12s - loss: 1.0056 - accuracy: 0.9369"
     ]
    }
   ],
   "source": [
    "import time\n",
    "start_time = time.time()\n",
    "history_1 = model_isCancerous.fit(train_datagen1, \n",
    "                                  validation_data=(test_img_X1, test_Y1), \n",
    "                                  batch_size=BATCH_SIZE, \n",
    "                                  epochs=EPOCHS, \n",
    "                                  verbose=1,\n",
    "                                  callbacks=[reduce_lr, early])\n",
    "\n",
    "print(\"---  Training cellType model in seconds ---%s \" % (time.time() - start_time))"
   ]
  },
  {
   "cell_type": "code",
   "execution_count": null,
   "metadata": {
    "colab": {
     "base_uri": "https://localhost:8080/",
     "height": 641
    },
    "id": "vJArn-uEHA1W",
    "outputId": "c5413c6a-2c78-485b-dd03-7bcf3a523201"
   },
   "outputs": [],
   "source": [
    "scores_isCancerous = model_isCancerous.evaluate(test_img_X1, test_Y1, verbose=1)\n",
    "print('Validation loss:', scores_isCancerous[0])\n",
    "print('Validation accuracy:', scores_isCancerous[1])\n",
    "print('Max Validation accuracy:', max(history_1.history['accuracy']))\n",
    "\n",
    "# summarize history for accuracy\n",
    "plt.plot(history_1.history['accuracy'])\n",
    "plt.plot(history_1.history['val_accuracy'])\n",
    "plt.title('Model accuracy')\n",
    "plt.ylabel('Accuracy')\n",
    "plt.xlabel('Epoch')\n",
    "plt.legend(['Train', 'Validation'], loc='upper left')\n",
    "plt.show()\n",
    "\n",
    "# summarize history for loss\n",
    "plt.plot(history_1.history['loss'])\n",
    "plt.plot(history_1.history['val_loss'])\n",
    "plt.title('Model loss')\n",
    "plt.ylabel('Loss')\n",
    "plt.xlabel('Epoch')\n",
    "plt.legend(['Train', 'Validation'], loc='upper right')\n",
    "plt.show()"
   ]
  },
  {
   "cell_type": "code",
   "execution_count": null,
   "metadata": {},
   "outputs": [],
   "source": []
  },
  {
   "cell_type": "code",
   "execution_count": null,
   "metadata": {},
   "outputs": [],
   "source": []
  }
 ],
 "metadata": {
  "accelerator": "GPU",
  "colab": {
   "collapsed_sections": [
    "ThY-OK4s58fv",
    "oa7VxhaSHA1Q",
    "qlNALzSZHA1R"
   ],
   "name": "COSC2753 - Assignment 2 - MK Sapiens.ipynb",
   "provenance": [],
   "toc_visible": true
  },
  "kernelspec": {
   "display_name": "Python 3",
   "language": "python",
   "name": "python3"
  },
  "language_info": {
   "codemirror_mode": {
    "name": "ipython",
    "version": 3
   },
   "file_extension": ".py",
   "mimetype": "text/x-python",
   "name": "python",
   "nbconvert_exporter": "python",
   "pygments_lexer": "ipython3",
   "version": "3.8.5"
  },
  "toc": {
   "base_numbering": 1,
   "nav_menu": {},
   "number_sections": false,
   "sideBar": true,
   "skip_h1_title": false,
   "title_cell": "Table of Contents",
   "title_sidebar": "Contents",
   "toc_cell": false,
   "toc_position": {},
   "toc_section_display": true,
   "toc_window_display": true
  }
 },
 "nbformat": 4,
 "nbformat_minor": 1
}
