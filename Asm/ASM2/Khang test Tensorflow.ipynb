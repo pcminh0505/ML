{
 "cells": [
  {
   "cell_type": "code",
   "execution_count": 1,
   "metadata": {},
   "outputs": [
    {
     "name": "stdout",
     "output_type": "stream",
     "text": [
      "Using Tensorflow version: 2.4.1\n",
      "Requirement already satisfied: keras in c:\\users\\laptop\\anaconda3\\lib\\site-packages (2.4.3)\n",
      "Requirement already satisfied: numpy>=1.9.1 in c:\\users\\laptop\\anaconda3\\lib\\site-packages (from keras) (1.19.2)\n",
      "Requirement already satisfied: scipy>=0.14 in c:\\users\\laptop\\anaconda3\\lib\\site-packages (from keras) (1.5.2)\n",
      "Requirement already satisfied: h5py in c:\\users\\laptop\\anaconda3\\lib\\site-packages (from keras) (2.10.0)\n",
      "Requirement already satisfied: pyyaml in c:\\users\\laptop\\anaconda3\\lib\\site-packages (from keras) (5.3.1)\n",
      "Requirement already satisfied: six in c:\\users\\laptop\\anaconda3\\lib\\site-packages (from h5py->keras) (1.15.0)\n"
     ]
    }
   ],
   "source": [
    "import pandas as pd\n",
    "import numpy as np\n",
    "import matplotlib.pyplot as plt\n",
    "%matplotlib inline \n",
    "plt.style.use('dark_background')\n",
    "import seaborn as sns\n",
    "from tqdm import tqdm\n",
    "\n",
    "import cv2\n",
    "import os\n",
    "import tensorflow as tf\n",
    "import sklearn as sk\n",
    "\n",
    "import warnings\n",
    "warnings.filterwarnings('ignore')\n",
    "\n",
    "print('Using Tensorflow version:', tf.__version__)\n",
    "\n",
    "!pip install keras\n",
    "from keras.models import Sequential\n",
    "from keras.layers import Dense, Dropout, Flatten, BatchNormalization, Activation\n",
    "from keras.layers.convolutional import Conv2D, MaxPooling2D\n",
    "from keras.constraints import maxnorm\n",
    "from keras.utils import np_utils\n",
    "\n",
    "from sklearn.metrics import classification_report"
   ]
  },
  {
   "cell_type": "code",
   "execution_count": 2,
   "metadata": {},
   "outputs": [],
   "source": [
    "main_data = pd.read_csv('data_labels_mainData.csv')\n",
    "extra_data = pd.read_csv('data_labels_extraData.csv')"
   ]
  },
  {
   "cell_type": "code",
   "execution_count": 3,
   "metadata": {},
   "outputs": [
    {
     "data": {
      "text/html": [
       "<div>\n",
       "<style scoped>\n",
       "    .dataframe tbody tr th:only-of-type {\n",
       "        vertical-align: middle;\n",
       "    }\n",
       "\n",
       "    .dataframe tbody tr th {\n",
       "        vertical-align: top;\n",
       "    }\n",
       "\n",
       "    .dataframe thead th {\n",
       "        text-align: right;\n",
       "    }\n",
       "</style>\n",
       "<table border=\"1\" class=\"dataframe\">\n",
       "  <thead>\n",
       "    <tr style=\"text-align: right;\">\n",
       "      <th></th>\n",
       "      <th>InstanceID</th>\n",
       "      <th>patientID</th>\n",
       "      <th>ImageName</th>\n",
       "      <th>cellTypeName</th>\n",
       "      <th>cellType</th>\n",
       "      <th>isCancerous</th>\n",
       "    </tr>\n",
       "  </thead>\n",
       "  <tbody>\n",
       "    <tr>\n",
       "      <th>0</th>\n",
       "      <td>22405</td>\n",
       "      <td>1</td>\n",
       "      <td>22405.png</td>\n",
       "      <td>fibroblast</td>\n",
       "      <td>0</td>\n",
       "      <td>0</td>\n",
       "    </tr>\n",
       "    <tr>\n",
       "      <th>1</th>\n",
       "      <td>22406</td>\n",
       "      <td>1</td>\n",
       "      <td>22406.png</td>\n",
       "      <td>fibroblast</td>\n",
       "      <td>0</td>\n",
       "      <td>0</td>\n",
       "    </tr>\n",
       "    <tr>\n",
       "      <th>2</th>\n",
       "      <td>22407</td>\n",
       "      <td>1</td>\n",
       "      <td>22407.png</td>\n",
       "      <td>fibroblast</td>\n",
       "      <td>0</td>\n",
       "      <td>0</td>\n",
       "    </tr>\n",
       "    <tr>\n",
       "      <th>3</th>\n",
       "      <td>22408</td>\n",
       "      <td>1</td>\n",
       "      <td>22408.png</td>\n",
       "      <td>fibroblast</td>\n",
       "      <td>0</td>\n",
       "      <td>0</td>\n",
       "    </tr>\n",
       "    <tr>\n",
       "      <th>4</th>\n",
       "      <td>22409</td>\n",
       "      <td>1</td>\n",
       "      <td>22409.png</td>\n",
       "      <td>fibroblast</td>\n",
       "      <td>0</td>\n",
       "      <td>0</td>\n",
       "    </tr>\n",
       "    <tr>\n",
       "      <th>...</th>\n",
       "      <td>...</td>\n",
       "      <td>...</td>\n",
       "      <td>...</td>\n",
       "      <td>...</td>\n",
       "      <td>...</td>\n",
       "      <td>...</td>\n",
       "    </tr>\n",
       "    <tr>\n",
       "      <th>9891</th>\n",
       "      <td>1625</td>\n",
       "      <td>60</td>\n",
       "      <td>1625.png</td>\n",
       "      <td>epithelial</td>\n",
       "      <td>2</td>\n",
       "      <td>1</td>\n",
       "    </tr>\n",
       "    <tr>\n",
       "      <th>9892</th>\n",
       "      <td>1626</td>\n",
       "      <td>60</td>\n",
       "      <td>1626.png</td>\n",
       "      <td>epithelial</td>\n",
       "      <td>2</td>\n",
       "      <td>1</td>\n",
       "    </tr>\n",
       "    <tr>\n",
       "      <th>9893</th>\n",
       "      <td>1627</td>\n",
       "      <td>60</td>\n",
       "      <td>1627.png</td>\n",
       "      <td>epithelial</td>\n",
       "      <td>2</td>\n",
       "      <td>1</td>\n",
       "    </tr>\n",
       "    <tr>\n",
       "      <th>9894</th>\n",
       "      <td>1628</td>\n",
       "      <td>60</td>\n",
       "      <td>1628.png</td>\n",
       "      <td>epithelial</td>\n",
       "      <td>2</td>\n",
       "      <td>1</td>\n",
       "    </tr>\n",
       "    <tr>\n",
       "      <th>9895</th>\n",
       "      <td>1629</td>\n",
       "      <td>60</td>\n",
       "      <td>1629.png</td>\n",
       "      <td>epithelial</td>\n",
       "      <td>2</td>\n",
       "      <td>1</td>\n",
       "    </tr>\n",
       "  </tbody>\n",
       "</table>\n",
       "<p>9896 rows × 6 columns</p>\n",
       "</div>"
      ],
      "text/plain": [
       "      InstanceID  patientID  ImageName cellTypeName  cellType  isCancerous\n",
       "0          22405          1  22405.png   fibroblast         0            0\n",
       "1          22406          1  22406.png   fibroblast         0            0\n",
       "2          22407          1  22407.png   fibroblast         0            0\n",
       "3          22408          1  22408.png   fibroblast         0            0\n",
       "4          22409          1  22409.png   fibroblast         0            0\n",
       "...          ...        ...        ...          ...       ...          ...\n",
       "9891        1625         60   1625.png   epithelial         2            1\n",
       "9892        1626         60   1626.png   epithelial         2            1\n",
       "9893        1627         60   1627.png   epithelial         2            1\n",
       "9894        1628         60   1628.png   epithelial         2            1\n",
       "9895        1629         60   1629.png   epithelial         2            1\n",
       "\n",
       "[9896 rows x 6 columns]"
      ]
     },
     "execution_count": 3,
     "metadata": {},
     "output_type": "execute_result"
    }
   ],
   "source": [
    "main_data"
   ]
  },
  {
   "cell_type": "code",
   "execution_count": 4,
   "metadata": {},
   "outputs": [
    {
     "data": {
      "text/html": [
       "<div>\n",
       "<style scoped>\n",
       "    .dataframe tbody tr th:only-of-type {\n",
       "        vertical-align: middle;\n",
       "    }\n",
       "\n",
       "    .dataframe tbody tr th {\n",
       "        vertical-align: top;\n",
       "    }\n",
       "\n",
       "    .dataframe thead th {\n",
       "        text-align: right;\n",
       "    }\n",
       "</style>\n",
       "<table border=\"1\" class=\"dataframe\">\n",
       "  <thead>\n",
       "    <tr style=\"text-align: right;\">\n",
       "      <th></th>\n",
       "      <th>InstanceID</th>\n",
       "      <th>patientID</th>\n",
       "      <th>ImageName</th>\n",
       "      <th>isCancerous</th>\n",
       "    </tr>\n",
       "  </thead>\n",
       "  <tbody>\n",
       "    <tr>\n",
       "      <th>0</th>\n",
       "      <td>12681</td>\n",
       "      <td>61</td>\n",
       "      <td>12681.png</td>\n",
       "      <td>0</td>\n",
       "    </tr>\n",
       "    <tr>\n",
       "      <th>1</th>\n",
       "      <td>12682</td>\n",
       "      <td>61</td>\n",
       "      <td>12682.png</td>\n",
       "      <td>0</td>\n",
       "    </tr>\n",
       "    <tr>\n",
       "      <th>2</th>\n",
       "      <td>12683</td>\n",
       "      <td>61</td>\n",
       "      <td>12683.png</td>\n",
       "      <td>0</td>\n",
       "    </tr>\n",
       "    <tr>\n",
       "      <th>3</th>\n",
       "      <td>12684</td>\n",
       "      <td>61</td>\n",
       "      <td>12684.png</td>\n",
       "      <td>0</td>\n",
       "    </tr>\n",
       "    <tr>\n",
       "      <th>4</th>\n",
       "      <td>12685</td>\n",
       "      <td>61</td>\n",
       "      <td>12685.png</td>\n",
       "      <td>0</td>\n",
       "    </tr>\n",
       "    <tr>\n",
       "      <th>...</th>\n",
       "      <td>...</td>\n",
       "      <td>...</td>\n",
       "      <td>...</td>\n",
       "      <td>...</td>\n",
       "    </tr>\n",
       "    <tr>\n",
       "      <th>10379</th>\n",
       "      <td>20028</td>\n",
       "      <td>99</td>\n",
       "      <td>20028.png</td>\n",
       "      <td>0</td>\n",
       "    </tr>\n",
       "    <tr>\n",
       "      <th>10380</th>\n",
       "      <td>20029</td>\n",
       "      <td>99</td>\n",
       "      <td>20029.png</td>\n",
       "      <td>0</td>\n",
       "    </tr>\n",
       "    <tr>\n",
       "      <th>10381</th>\n",
       "      <td>20030</td>\n",
       "      <td>99</td>\n",
       "      <td>20030.png</td>\n",
       "      <td>0</td>\n",
       "    </tr>\n",
       "    <tr>\n",
       "      <th>10382</th>\n",
       "      <td>20031</td>\n",
       "      <td>99</td>\n",
       "      <td>20031.png</td>\n",
       "      <td>0</td>\n",
       "    </tr>\n",
       "    <tr>\n",
       "      <th>10383</th>\n",
       "      <td>20032</td>\n",
       "      <td>99</td>\n",
       "      <td>20032.png</td>\n",
       "      <td>0</td>\n",
       "    </tr>\n",
       "  </tbody>\n",
       "</table>\n",
       "<p>10384 rows × 4 columns</p>\n",
       "</div>"
      ],
      "text/plain": [
       "       InstanceID  patientID  ImageName  isCancerous\n",
       "0           12681         61  12681.png            0\n",
       "1           12682         61  12682.png            0\n",
       "2           12683         61  12683.png            0\n",
       "3           12684         61  12684.png            0\n",
       "4           12685         61  12685.png            0\n",
       "...           ...        ...        ...          ...\n",
       "10379       20028         99  20028.png            0\n",
       "10380       20029         99  20029.png            0\n",
       "10381       20030         99  20030.png            0\n",
       "10382       20031         99  20031.png            0\n",
       "10383       20032         99  20032.png            0\n",
       "\n",
       "[10384 rows x 4 columns]"
      ]
     },
     "execution_count": 4,
     "metadata": {},
     "output_type": "execute_result"
    }
   ],
   "source": [
    "extra_data"
   ]
  },
  {
   "cell_type": "markdown",
   "metadata": {},
   "source": [
    "## Predicting cellType"
   ]
  },
  {
   "cell_type": "markdown",
   "metadata": {},
   "source": [
    "### Prepare train, test, validation dataset"
   ]
  },
  {
   "cell_type": "code",
   "execution_count": 11,
   "metadata": {},
   "outputs": [],
   "source": [
    "from sklearn.model_selection import train_test_split\n",
    "X = main_data['ImageName']\n",
    "Y = main_data['cellType']\n",
    "\n",
    "trainX, testX, trainY, testY = train_test_split(X, Y, test_size=0.2, random_state=99)\n",
    "trainX, valX, trainY, valY = train_test_split(trainX, trainY, test_size=0.25, random_state=99)\n",
    "\n",
    "trainY = trainY.ravel()\n",
    "testY = testY.ravel()\n",
    "valY = valY.ravel()"
   ]
  },
  {
   "cell_type": "code",
   "execution_count": 20,
   "metadata": {},
   "outputs": [
    {
     "name": "stdout",
     "output_type": "stream",
     "text": [
      "(5937,)\n",
      "(5937,)\n",
      "(1979,)\n",
      "(1979,)\n",
      "(1980,)\n",
      "(1980,)\n"
     ]
    }
   ],
   "source": [
    "print(trainX.shape)\n",
    "print(trainY.shape)\n",
    "print(valX.shape)\n",
    "print(valY.shape)\n",
    "print(testX.shape)\n",
    "print(testY.shape)"
   ]
  },
  {
   "cell_type": "code",
   "execution_count": 21,
   "metadata": {},
   "outputs": [],
   "source": [
    "trainX_img_list = trainX.tolist()\n",
    "testX_img_list = testX.tolist()\n",
    "valX_img_list = valX.tolist()"
   ]
  },
  {
   "cell_type": "code",
   "execution_count": 22,
   "metadata": {},
   "outputs": [],
   "source": [
    "def create_img_dataset(directory, img_list):\n",
    "    IMAGE_SIZE = 27\n",
    "    train_data = []\n",
    "    for img in tqdm(img_list, desc='Extracting Image Progress'):\n",
    "        path = os.path.join(directory, img)\n",
    "        img = cv2.resize(cv2.imread(path), (IMAGE_SIZE,IMAGE_SIZE))\n",
    "        train_data.append(np.array(img))\n",
    "    print(\"Successfully import images!\")\n",
    "    # Convert to np.array and normalize pixel values to be between 0 and 1 \n",
    "    return np.array(train_data).astype('float32') / 255.0 "
   ]
  },
  {
   "cell_type": "code",
   "execution_count": 23,
   "metadata": {},
   "outputs": [
    {
     "name": "stderr",
     "output_type": "stream",
     "text": [
      "Extracting Image Progress: 100%|██████████| 5937/5937 [00:01<00:00, 5049.08it/s]\n",
      "Extracting Image Progress:  24%|██▍       | 475/1980 [00:00<00:00, 4715.60it/s]"
     ]
    },
    {
     "name": "stdout",
     "output_type": "stream",
     "text": [
      "Successfully import images!\n"
     ]
    },
    {
     "name": "stderr",
     "output_type": "stream",
     "text": [
      "Extracting Image Progress: 100%|██████████| 1980/1980 [00:00<00:00, 4287.88it/s]\n",
      "Extracting Image Progress:  24%|██▍       | 483/1979 [00:00<00:00, 4795.01it/s]"
     ]
    },
    {
     "name": "stdout",
     "output_type": "stream",
     "text": [
      "Successfully import images!\n"
     ]
    },
    {
     "name": "stderr",
     "output_type": "stream",
     "text": [
      "Extracting Image Progress: 100%|██████████| 1979/1979 [00:00<00:00, 4313.70it/s]"
     ]
    },
    {
     "name": "stdout",
     "output_type": "stream",
     "text": [
      "Successfully import images!\n"
     ]
    },
    {
     "name": "stderr",
     "output_type": "stream",
     "text": [
      "\n"
     ]
    }
   ],
   "source": [
    "# CHANGE THE PATH TO IMAGE FOLDER IN YOUR LOCAL DEVICE!\n",
    "# Khang desktop: C:\\Users\\User\\Desktop\\RMIT\\Cloud - GitHub\\Minh\\ML\\Asm\\ASM2\\patch_images\n",
    "# Khang laptop: C:\\Users\\Laptop\\Desktop\\RMIT\\Cloud-GitHub\\Minh\\ML\\Asm\\ASM2\\patch_images\n",
    "path = r\"C:\\Users\\Laptop\\Desktop\\RMIT\\Cloud-GitHub\\Minh\\ML\\Asm\\ASM2\\patch_images\"\n",
    "\n",
    "trainX_img = create_img_dataset(path, trainX_img_list)\n",
    "testX_img = create_img_dataset(path, testX_img_list)\n",
    "valX_img = create_img_dataset(path, valX_img_list)"
   ]
  },
  {
   "cell_type": "code",
   "execution_count": 24,
   "metadata": {},
   "outputs": [
    {
     "data": {
      "text/plain": [
       "<matplotlib.image.AxesImage at 0x23c13ccf820>"
      ]
     },
     "execution_count": 24,
     "metadata": {},
     "output_type": "execute_result"
    },
    {
     "data": {
      "image/png": "[encoded data removed]",
      "text/plain": [
       "<Figure size 432x288 with 1 Axes>"
      ]
     },
     "metadata": {},
     "output_type": "display_data"
    }
   ],
   "source": [
    "plt.imshow(trainX_img[0])"
   ]
  },
  {
   "cell_type": "code",
   "execution_count": 25,
   "metadata": {},
   "outputs": [
    {
     "data": {
      "text/plain": [
       "<matplotlib.image.AxesImage at 0x23c13d34070>"
      ]
     },
     "execution_count": 25,
     "metadata": {},
     "output_type": "execute_result"
    },
    {
     "data": {
      "image/png": "[encoded data removed]",
      "text/plain": [
       "<Figure size 432x288 with 1 Axes>"
      ]
     },
     "metadata": {},
     "output_type": "display_data"
    }
   ],
   "source": [
    "plt.imshow(testX_img[0])"
   ]
  },
  {
   "cell_type": "code",
   "execution_count": 26,
   "metadata": {},
   "outputs": [
    {
     "data": {
      "text/plain": [
       "<matplotlib.image.AxesImage at 0x23c13d84670>"
      ]
     },
     "execution_count": 26,
     "metadata": {},
     "output_type": "execute_result"
    },
    {
     "data": {
      "image/png": "[encoded data removed]",
      "text/plain": [
       "<Figure size 432x288 with 1 Axes>"
      ]
     },
     "metadata": {},
     "output_type": "display_data"
    }
   ],
   "source": [
    "plt.imshow(valX_img[0])"
   ]
  },
  {
   "cell_type": "markdown",
   "metadata": {},
   "source": [
    "### Build model"
   ]
  },
  {
   "cell_type": "markdown",
   "metadata": {},
   "source": [
    "model = Sequential()\n",
    "\n",
    "model.add(Conv2D(32, (3, 3), input_shape=trainX_img.shape[1:], activation='relu', padding='same'))\n",
    "model.add(Dropout(0.2))\n",
    "model.add(BatchNormalization())\n",
    "\n",
    "model.add(Conv2D(64, (3, 3), activation='relu', padding='same'))\n",
    "model.add(MaxPooling2D(pool_size=(2, 2)))\n",
    "model.add(Dropout(0.2))\n",
    "model.add(BatchNormalization())\n",
    "\n",
    "model.add(Conv2D(128, (3, 3), padding='same'))\n",
    "model.add(Activation('relu'))\n",
    "model.add(Dropout(0.2))\n",
    "model.add(BatchNormalization())\n",
    "\n",
    "model.add(Flatten())\n",
    "model.add(Dropout(0.2))"
   ]
  },
  {
   "cell_type": "markdown",
   "metadata": {},
   "source": [
    "## Simple CNN"
   ]
  },
  {
   "cell_type": "code",
   "execution_count": 28,
   "metadata": {},
   "outputs": [
    {
     "name": "stdout",
     "output_type": "stream",
     "text": [
      "Model: \"sequential_1\"\n",
      "_________________________________________________________________\n",
      "Layer (type)                 Output Shape              Param #   \n",
      "=================================================================\n",
      "conv2d_3 (Conv2D)            (None, 27, 27, 32)        896       \n",
      "_________________________________________________________________\n",
      "max_pooling2d_1 (MaxPooling2 (None, 13, 13, 32)        0         \n",
      "_________________________________________________________________\n",
      "conv2d_4 (Conv2D)            (None, 13, 13, 32)        9248      \n",
      "_________________________________________________________________\n",
      "max_pooling2d_2 (MaxPooling2 (None, 6, 6, 32)          0         \n",
      "_________________________________________________________________\n",
      "conv2d_5 (Conv2D)            (None, 6, 6, 64)          18496     \n",
      "_________________________________________________________________\n",
      "max_pooling2d_3 (MaxPooling2 (None, 3, 3, 64)          0         \n",
      "_________________________________________________________________\n",
      "dropout_4 (Dropout)          (None, 3, 3, 64)          0         \n",
      "_________________________________________________________________\n",
      "flatten_1 (Flatten)          (None, 576)               0         \n",
      "_________________________________________________________________\n",
      "dense (Dense)                (None, 128)               73856     \n",
      "_________________________________________________________________\n",
      "dense_1 (Dense)              (None, 4)                 516       \n",
      "=================================================================\n",
      "Total params: 103,012\n",
      "Trainable params: 103,012\n",
      "Non-trainable params: 0\n",
      "_________________________________________________________________\n"
     ]
    }
   ],
   "source": [
    "model = Sequential()\n",
    "model.add(Conv2D(32,3,padding='same', activation='relu', input_shape=trainX_img.shape[1:]))\n",
    "model.add(MaxPooling2D(2, 2))\n",
    "\n",
    "model.add(Conv2D(32, 3, padding='same', activation='relu'))\n",
    "model.add(MaxPooling2D(pool_size=(2, 2)))\n",
    "\n",
    "model.add(Conv2D(64, 3, padding='same', activation='relu'))\n",
    "model.add(MaxPooling2D(pool_size=(2, 2)))\n",
    "model.add(Dropout(0.4))\n",
    "\n",
    "model.add(Flatten())\n",
    "model.add(Dense(128,activation='relu'))\n",
    "model.add(Dense(4, activation=\"softmax\"))\n",
    "\n",
    "model.compile(optimizer = 'adam' , loss = 'sparse_categorical_crossentropy' , metrics = ['accuracy'])\n",
    "\n",
    "model.summary()"
   ]
  },
  {
   "cell_type": "code",
   "execution_count": 29,
   "metadata": {},
   "outputs": [
    {
     "name": "stdout",
     "output_type": "stream",
     "text": [
      "Epoch 1/100\n",
      "186/186 [==============================] - 7s 33ms/step - loss: 1.2815 - accuracy: 0.4220 - val_loss: 0.9374 - val_accuracy: 0.6422\n",
      "Epoch 2/100\n",
      "186/186 [==============================] - 7s 35ms/step - loss: 0.8940 - accuracy: 0.6497 - val_loss: 0.7360 - val_accuracy: 0.7079\n",
      "Epoch 3/100\n",
      "186/186 [==============================] - 5s 28ms/step - loss: 0.7879 - accuracy: 0.6893 - val_loss: 0.7348 - val_accuracy: 0.7009\n",
      "Epoch 4/100\n",
      "186/186 [==============================] - 5s 28ms/step - loss: 0.7208 - accuracy: 0.7208 - val_loss: 0.7752 - val_accuracy: 0.6958\n",
      "Epoch 5/100\n",
      "186/186 [==============================] - 5s 29ms/step - loss: 0.6778 - accuracy: 0.7394 - val_loss: 0.6596 - val_accuracy: 0.7398\n",
      "Epoch 6/100\n",
      "186/186 [==============================] - 5s 28ms/step - loss: 0.6696 - accuracy: 0.7351 - val_loss: 0.6989 - val_accuracy: 0.7246\n",
      "Epoch 7/100\n",
      "186/186 [==============================] - 5s 28ms/step - loss: 0.6695 - accuracy: 0.7357 - val_loss: 0.6899 - val_accuracy: 0.7201\n",
      "Epoch 8/100\n",
      "186/186 [==============================] - 5s 29ms/step - loss: 0.6422 - accuracy: 0.7538 - val_loss: 0.6719 - val_accuracy: 0.7468\n",
      "Epoch 9/100\n",
      "186/186 [==============================] - 5s 28ms/step - loss: 0.6185 - accuracy: 0.7594 - val_loss: 0.6394 - val_accuracy: 0.7549\n",
      "Epoch 10/100\n",
      "186/186 [==============================] - 5s 29ms/step - loss: 0.5967 - accuracy: 0.7667 - val_loss: 0.6557 - val_accuracy: 0.7423\n",
      "Epoch 11/100\n",
      "186/186 [==============================] - 6s 30ms/step - loss: 0.6227 - accuracy: 0.7592 - val_loss: 0.6752 - val_accuracy: 0.7312\n",
      "Epoch 12/100\n",
      "186/186 [==============================] - 5s 29ms/step - loss: 0.5961 - accuracy: 0.7691 - val_loss: 0.6434 - val_accuracy: 0.7529\n",
      "Epoch 13/100\n",
      "186/186 [==============================] - 5s 29ms/step - loss: 0.6148 - accuracy: 0.7596 - val_loss: 0.6345 - val_accuracy: 0.7620\n",
      "Epoch 14/100\n",
      "186/186 [==============================] - 6s 30ms/step - loss: 0.5586 - accuracy: 0.7908 - val_loss: 0.6261 - val_accuracy: 0.7645\n",
      "Epoch 15/100\n",
      "186/186 [==============================] - 5s 29ms/step - loss: 0.5470 - accuracy: 0.7958 - val_loss: 0.6115 - val_accuracy: 0.7731\n",
      "Epoch 16/100\n",
      "186/186 [==============================] - 5s 29ms/step - loss: 0.5254 - accuracy: 0.7991 - val_loss: 0.7344 - val_accuracy: 0.7175\n",
      "Epoch 17/100\n",
      "186/186 [==============================] - 6s 30ms/step - loss: 0.5160 - accuracy: 0.8065 - val_loss: 0.6527 - val_accuracy: 0.7428\n",
      "Epoch 18/100\n",
      "186/186 [==============================] - 5s 29ms/step - loss: 0.5065 - accuracy: 0.8101 - val_loss: 0.6105 - val_accuracy: 0.7691\n",
      "Epoch 19/100\n",
      "186/186 [==============================] - 6s 30ms/step - loss: 0.4767 - accuracy: 0.8210 - val_loss: 0.6512 - val_accuracy: 0.7423\n",
      "Epoch 20/100\n",
      "186/186 [==============================] - 5s 29ms/step - loss: 0.5040 - accuracy: 0.8056 - val_loss: 0.6287 - val_accuracy: 0.7665\n",
      "Epoch 21/100\n",
      "186/186 [==============================] - 5s 29ms/step - loss: 0.4785 - accuracy: 0.8138 - val_loss: 0.6684 - val_accuracy: 0.7559\n",
      "Epoch 22/100\n",
      "186/186 [==============================] - 6s 30ms/step - loss: 0.4436 - accuracy: 0.8317 - val_loss: 0.7043 - val_accuracy: 0.7271\n",
      "Epoch 23/100\n",
      "186/186 [==============================] - 6s 30ms/step - loss: 0.4750 - accuracy: 0.8150 - val_loss: 0.6373 - val_accuracy: 0.7595\n",
      "Epoch 24/100\n",
      "186/186 [==============================] - 6s 31ms/step - loss: 0.4225 - accuracy: 0.8409 - val_loss: 0.6066 - val_accuracy: 0.7630\n",
      "Epoch 25/100\n",
      "186/186 [==============================] - 6s 30ms/step - loss: 0.4398 - accuracy: 0.8328 - val_loss: 0.6467 - val_accuracy: 0.7524\n",
      "Epoch 26/100\n",
      "186/186 [==============================] - 5s 29ms/step - loss: 0.4335 - accuracy: 0.8366 - val_loss: 0.6412 - val_accuracy: 0.7665\n",
      "Epoch 27/100\n",
      "186/186 [==============================] - 5s 29ms/step - loss: 0.4125 - accuracy: 0.8377 - val_loss: 0.6740 - val_accuracy: 0.7559\n",
      "Epoch 28/100\n",
      "186/186 [==============================] - 6s 30ms/step - loss: 0.3959 - accuracy: 0.8510 - val_loss: 0.6907 - val_accuracy: 0.7413\n",
      "Epoch 29/100\n",
      "186/186 [==============================] - 5s 29ms/step - loss: 0.3890 - accuracy: 0.8519 - val_loss: 0.6309 - val_accuracy: 0.7691\n",
      "Epoch 30/100\n",
      "186/186 [==============================] - 5s 29ms/step - loss: 0.3858 - accuracy: 0.8531 - val_loss: 0.6990 - val_accuracy: 0.7489\n",
      "Epoch 31/100\n",
      "186/186 [==============================] - 6s 31ms/step - loss: 0.3782 - accuracy: 0.8527 - val_loss: 0.6425 - val_accuracy: 0.7751\n",
      "Epoch 32/100\n",
      "186/186 [==============================] - 6s 30ms/step - loss: 0.3841 - accuracy: 0.8504 - val_loss: 0.6720 - val_accuracy: 0.7756\n",
      "Epoch 33/100\n",
      "186/186 [==============================] - 5s 29ms/step - loss: 0.3546 - accuracy: 0.8702 - val_loss: 0.6756 - val_accuracy: 0.7706\n",
      "Epoch 34/100\n",
      "186/186 [==============================] - 6s 31ms/step - loss: 0.3252 - accuracy: 0.8797 - val_loss: 0.6741 - val_accuracy: 0.7580\n",
      "Epoch 35/100\n",
      "186/186 [==============================] - 5s 29ms/step - loss: 0.3278 - accuracy: 0.8753 - val_loss: 0.6750 - val_accuracy: 0.7716\n",
      "Epoch 36/100\n",
      "186/186 [==============================] - 5s 29ms/step - loss: 0.3372 - accuracy: 0.8727 - val_loss: 0.7472 - val_accuracy: 0.7549\n",
      "Epoch 37/100\n",
      "186/186 [==============================] - 6s 32ms/step - loss: 0.2926 - accuracy: 0.8963 - val_loss: 0.7066 - val_accuracy: 0.7665\n",
      "Epoch 38/100\n",
      "186/186 [==============================] - 5s 29ms/step - loss: 0.3117 - accuracy: 0.8817 - val_loss: 0.7808 - val_accuracy: 0.7352\n",
      "Epoch 39/100\n",
      "186/186 [==============================] - 6s 30ms/step - loss: 0.2930 - accuracy: 0.8930 - val_loss: 0.7358 - val_accuracy: 0.7716\n",
      "Epoch 40/100\n",
      "186/186 [==============================] - 6s 31ms/step - loss: 0.2866 - accuracy: 0.8865 - val_loss: 0.7651 - val_accuracy: 0.7671\n",
      "Epoch 41/100\n",
      "186/186 [==============================] - 5s 30ms/step - loss: 0.2738 - accuracy: 0.8921 - val_loss: 0.8034 - val_accuracy: 0.7524\n",
      "Epoch 42/100\n",
      "186/186 [==============================] - 6s 31ms/step - loss: 0.2478 - accuracy: 0.9120 - val_loss: 0.7769 - val_accuracy: 0.7554\n",
      "Epoch 43/100\n",
      "186/186 [==============================] - 6s 31ms/step - loss: 0.2575 - accuracy: 0.9023 - val_loss: 0.7955 - val_accuracy: 0.7484\n",
      "Epoch 44/100\n",
      "186/186 [==============================] - 6s 30ms/step - loss: 0.2741 - accuracy: 0.8973 - val_loss: 0.7640 - val_accuracy: 0.7701\n",
      "Epoch 45/100\n",
      "186/186 [==============================] - 6s 35ms/step - loss: 0.2726 - accuracy: 0.8981 - val_loss: 0.7581 - val_accuracy: 0.7580\n",
      "Epoch 46/100\n",
      "186/186 [==============================] - 5s 29ms/step - loss: 0.2493 - accuracy: 0.9089 - val_loss: 0.8994 - val_accuracy: 0.7393\n",
      "Epoch 47/100\n",
      "186/186 [==============================] - 5s 29ms/step - loss: 0.2371 - accuracy: 0.9119 - val_loss: 0.8487 - val_accuracy: 0.7590\n",
      "Epoch 48/100\n",
      "186/186 [==============================] - 6s 31ms/step - loss: 0.2272 - accuracy: 0.9137 - val_loss: 0.8621 - val_accuracy: 0.7347\n",
      "Epoch 49/100\n",
      "186/186 [==============================] - 5s 29ms/step - loss: 0.2151 - accuracy: 0.9215 - val_loss: 0.7912 - val_accuracy: 0.7650\n",
      "Epoch 50/100\n",
      "186/186 [==============================] - 5s 29ms/step - loss: 0.2337 - accuracy: 0.9189 - val_loss: 0.8782 - val_accuracy: 0.7433\n",
      "Epoch 51/100\n",
      "186/186 [==============================] - 6s 31ms/step - loss: 0.2156 - accuracy: 0.9161 - val_loss: 0.8462 - val_accuracy: 0.75292159 - accuracy: \n",
      "Epoch 52/100\n",
      "186/186 [==============================] - 5s 29ms/step - loss: 0.2086 - accuracy: 0.9242 - val_loss: 0.7972 - val_accuracy: 0.7681\n",
      "Epoch 53/100\n",
      "186/186 [==============================] - 5s 29ms/step - loss: 0.2000 - accuracy: 0.9262 - val_loss: 0.9320 - val_accuracy: 0.7221\n",
      "Epoch 54/100\n",
      "186/186 [==============================] - 6s 31ms/step - loss: 0.2171 - accuracy: 0.9134 - val_loss: 0.8198 - val_accuracy: 0.7736\n",
      "Epoch 55/100\n",
      "186/186 [==============================] - 5s 29ms/step - loss: 0.1827 - accuracy: 0.9405 - val_loss: 0.9415 - val_accuracy: 0.7569\n",
      "Epoch 56/100\n",
      "186/186 [==============================] - 5s 29ms/step - loss: 0.1880 - accuracy: 0.9271 - val_loss: 0.8292 - val_accuracy: 0.7580\n",
      "Epoch 57/100\n"
     ]
    },
    {
     "name": "stdout",
     "output_type": "stream",
     "text": [
      "186/186 [==============================] - 5s 29ms/step - loss: 0.1858 - accuracy: 0.9317 - val_loss: 0.9014 - val_accuracy: 0.7514\n",
      "Epoch 58/100\n",
      "186/186 [==============================] - 5s 27ms/step - loss: 0.1861 - accuracy: 0.9296 - val_loss: 0.9542 - val_accuracy: 0.7595\n",
      "Epoch 59/100\n",
      "186/186 [==============================] - 5s 27ms/step - loss: 0.1661 - accuracy: 0.9388 - val_loss: 1.0034 - val_accuracy: 0.7610\n",
      "Epoch 60/100\n",
      "186/186 [==============================] - 5s 30ms/step - loss: 0.1799 - accuracy: 0.9344 - val_loss: 0.8591 - val_accuracy: 0.7605\n",
      "Epoch 61/100\n",
      "186/186 [==============================] - 5s 27ms/step - loss: 0.1662 - accuracy: 0.9415 - val_loss: 0.9021 - val_accuracy: 0.7645\n",
      "Epoch 62/100\n",
      "186/186 [==============================] - 5s 28ms/step - loss: 0.1534 - accuracy: 0.9411 - val_loss: 1.0207 - val_accuracy: 0.7393\n",
      "Epoch 63/100\n",
      "186/186 [==============================] - 5s 30ms/step - loss: 0.1656 - accuracy: 0.9358 - val_loss: 0.9505 - val_accuracy: 0.7549\n",
      "Epoch 64/100\n",
      "186/186 [==============================] - 5s 28ms/step - loss: 0.1735 - accuracy: 0.9364 - val_loss: 0.9821 - val_accuracy: 0.7615\n",
      "Epoch 65/100\n",
      "186/186 [==============================] - 5s 28ms/step - loss: 0.1398 - accuracy: 0.9504 - val_loss: 0.9195 - val_accuracy: 0.7630\n",
      "Epoch 66/100\n",
      "186/186 [==============================] - 6s 30ms/step - loss: 0.1459 - accuracy: 0.9489 - val_loss: 0.9986 - val_accuracy: 0.7610\n",
      "Epoch 67/100\n",
      "186/186 [==============================] - 5s 27ms/step - loss: 0.1437 - accuracy: 0.9481 - val_loss: 0.9318 - val_accuracy: 0.7600\n",
      "Epoch 68/100\n",
      "186/186 [==============================] - 5s 27ms/step - loss: 0.1520 - accuracy: 0.9464 - val_loss: 1.0185 - val_accuracy: 0.7494\n",
      "Epoch 69/100\n",
      "186/186 [==============================] - 6s 30ms/step - loss: 0.1432 - accuracy: 0.9442 - val_loss: 0.9965 - val_accuracy: 0.7625\n",
      "Epoch 70/100\n",
      "186/186 [==============================] - 5s 27ms/step - loss: 0.1449 - accuracy: 0.9476 - val_loss: 0.9559 - val_accuracy: 0.7575\n",
      "Epoch 71/100\n",
      "186/186 [==============================] - 5s 28ms/step - loss: 0.1613 - accuracy: 0.9455 - val_loss: 0.9624 - val_accuracy: 0.7706\n",
      "Epoch 72/100\n",
      "186/186 [==============================] - 6s 30ms/step - loss: 0.1289 - accuracy: 0.9562 - val_loss: 1.1896 - val_accuracy: 0.7246\n",
      "Epoch 73/100\n",
      "186/186 [==============================] - 5s 28ms/step - loss: 0.1689 - accuracy: 0.9388 - val_loss: 1.0357 - val_accuracy: 0.7564\n",
      "Epoch 74/100\n",
      "186/186 [==============================] - 5s 29ms/step - loss: 0.1163 - accuracy: 0.9605 - val_loss: 1.0238 - val_accuracy: 0.7524\n",
      "Epoch 75/100\n",
      "186/186 [==============================] - 6s 30ms/step - loss: 0.1352 - accuracy: 0.9556 - val_loss: 1.0536 - val_accuracy: 0.7625\n",
      "Epoch 76/100\n",
      "186/186 [==============================] - 5s 28ms/step - loss: 0.1537 - accuracy: 0.9444 - val_loss: 1.0502 - val_accuracy: 0.7575\n",
      "Epoch 77/100\n",
      "186/186 [==============================] - 5s 28ms/step - loss: 0.1257 - accuracy: 0.9578 - val_loss: 1.0241 - val_accuracy: 0.7494\n",
      "Epoch 78/100\n",
      "186/186 [==============================] - 6s 30ms/step - loss: 0.1334 - accuracy: 0.9515 - val_loss: 1.0872 - val_accuracy: 0.7600\n",
      "Epoch 79/100\n",
      "186/186 [==============================] - 5s 28ms/step - loss: 0.1403 - accuracy: 0.9498 - val_loss: 0.9545 - val_accuracy: 0.7610\n",
      "Epoch 80/100\n",
      "186/186 [==============================] - 5s 28ms/step - loss: 0.1024 - accuracy: 0.9619 - val_loss: 1.0540 - val_accuracy: 0.7610\n",
      "Epoch 81/100\n",
      "186/186 [==============================] - 6s 30ms/step - loss: 0.1101 - accuracy: 0.9599 - val_loss: 1.1425 - val_accuracy: 0.7519\n",
      "Epoch 82/100\n",
      "186/186 [==============================] - 5s 28ms/step - loss: 0.1067 - accuracy: 0.9590 - val_loss: 1.1076 - val_accuracy: 0.7590\n",
      "Epoch 83/100\n",
      "186/186 [==============================] - 5s 28ms/step - loss: 0.1106 - accuracy: 0.9582 - val_loss: 1.2112 - val_accuracy: 0.7413\n",
      "Epoch 84/100\n",
      "186/186 [==============================] - 6s 30ms/step - loss: 0.1193 - accuracy: 0.9612 - val_loss: 1.0838 - val_accuracy: 0.7625\n",
      "Epoch 85/100\n",
      "186/186 [==============================] - 5s 28ms/step - loss: 0.1025 - accuracy: 0.9630 - val_loss: 1.1367 - val_accuracy: 0.7554\n",
      "Epoch 86/100\n",
      "186/186 [==============================] - 5s 28ms/step - loss: 0.1310 - accuracy: 0.9518 - val_loss: 1.1512 - val_accuracy: 0.7463\n",
      "Epoch 87/100\n",
      "186/186 [==============================] - 6s 31ms/step - loss: 0.1054 - accuracy: 0.9600 - val_loss: 1.1556 - val_accuracy: 0.7499\n",
      "Epoch 88/100\n",
      "186/186 [==============================] - 5s 29ms/step - loss: 0.0968 - accuracy: 0.9648 - val_loss: 1.0959 - val_accuracy: 0.7529\n",
      "Epoch 89/100\n",
      "186/186 [==============================] - 5s 28ms/step - loss: 0.1159 - accuracy: 0.9576 - val_loss: 1.1355 - val_accuracy: 0.7691\n",
      "Epoch 90/100\n",
      "186/186 [==============================] - 6s 30ms/step - loss: 0.0893 - accuracy: 0.9636 - val_loss: 1.2191 - val_accuracy: 0.7580\n",
      "Epoch 91/100\n",
      "186/186 [==============================] - 5s 29ms/step - loss: 0.1152 - accuracy: 0.9592 - val_loss: 1.1561 - val_accuracy: 0.7539\n",
      "Epoch 92/100\n",
      "186/186 [==============================] - 5s 28ms/step - loss: 0.1286 - accuracy: 0.9529 - val_loss: 1.0615 - val_accuracy: 0.7681\n",
      "Epoch 93/100\n",
      "186/186 [==============================] - 6s 30ms/step - loss: 0.0980 - accuracy: 0.9624 - val_loss: 1.1296 - val_accuracy: 0.7600\n",
      "Epoch 94/100\n",
      "186/186 [==============================] - 6s 34ms/step - loss: 0.0965 - accuracy: 0.9632 - val_loss: 1.2239 - val_accuracy: 0.7463\n",
      "Epoch 95/100\n",
      "186/186 [==============================] - 6s 30ms/step - loss: 0.0887 - accuracy: 0.9693 - val_loss: 1.2157 - val_accuracy: 0.7605\n",
      "Epoch 96/100\n",
      "186/186 [==============================] - 6s 30ms/step - loss: 0.1389 - accuracy: 0.9566 - val_loss: 1.1659 - val_accuracy: 0.7569\n",
      "Epoch 97/100\n",
      "186/186 [==============================] - 5s 29ms/step - loss: 0.1174 - accuracy: 0.9593 - val_loss: 1.2050 - val_accuracy: 0.7625\n",
      "Epoch 98/100\n",
      "186/186 [==============================] - 6s 30ms/step - loss: 0.0996 - accuracy: 0.9643 - val_loss: 1.1499 - val_accuracy: 0.7499\n",
      "Epoch 99/100\n",
      "186/186 [==============================] - 6s 30ms/step - loss: 0.0898 - accuracy: 0.9691 - val_loss: 1.2834 - val_accuracy: 0.7413\n",
      "Epoch 100/100\n",
      "186/186 [==============================] - 5s 29ms/step - loss: 0.1355 - accuracy: 0.9510 - val_loss: 1.2046 - val_accuracy: 0.7489\n"
     ]
    }
   ],
   "source": [
    "epochs = 100\n",
    "\n",
    "history = model.fit(trainX_img, trainY,epochs = epochs , validation_data = (valX_img, valY))"
   ]
  },
  {
   "cell_type": "code",
   "execution_count": 30,
   "metadata": {},
   "outputs": [
    {
     "data": {
      "image/png": "[encoded data removed]",
      "text/plain": [
       "<Figure size 1080x1080 with 2 Axes>"
      ]
     },
     "metadata": {},
     "output_type": "display_data"
    }
   ],
   "source": [
    "acc = history.history['accuracy']\n",
    "val_acc = history.history['val_accuracy']\n",
    "loss = history.history['loss']\n",
    "val_loss = history.history['val_loss']\n",
    "\n",
    "epochs_range = range(epochs)\n",
    "\n",
    "plt.figure(figsize=(15, 15))\n",
    "plt.subplot(2, 2, 1)\n",
    "plt.plot(epochs_range, acc, label='Training Accuracy')\n",
    "plt.plot(epochs_range, val_acc, label='Validation Accuracy')\n",
    "plt.legend(loc='lower right')\n",
    "plt.title('Training and Validation Accuracy')\n",
    "\n",
    "plt.subplot(2, 2, 2)\n",
    "plt.plot(epochs_range, loss, label='Training Loss')\n",
    "plt.plot(epochs_range, val_loss, label='Validation Loss')\n",
    "plt.legend(loc='upper right')\n",
    "plt.title('Training and Validation Loss')\n",
    "plt.show()"
   ]
  },
  {
   "cell_type": "code",
   "execution_count": 31,
   "metadata": {},
   "outputs": [
    {
     "name": "stdout",
     "output_type": "stream",
     "text": [
      "              precision    recall  f1-score   support\n",
      "\n",
      "     Class 0       0.80      0.59      0.68       391\n",
      "     Class 1       0.67      0.83      0.74       491\n",
      "     Class 2       0.84      0.91      0.87       802\n",
      "     Class 3       0.61      0.45      0.52       296\n",
      "\n",
      "    accuracy                           0.76      1980\n",
      "   macro avg       0.73      0.69      0.70      1980\n",
      "weighted avg       0.76      0.76      0.75      1980\n",
      "\n"
     ]
    }
   ],
   "source": [
    "predictions = model.predict_classes(testX_img)\n",
    "predictions = predictions.reshape(1,-1)[0]\n",
    "\n",
    "print(classification_report(testY, predictions, target_names = ['Class 0', 'Class 1', 'Class 2', 'Class 3']))"
   ]
  },
  {
   "cell_type": "code",
   "execution_count": null,
   "metadata": {},
   "outputs": [],
   "source": []
  },
  {
   "cell_type": "code",
   "execution_count": null,
   "metadata": {},
   "outputs": [],
   "source": []
  }
 ],
 "metadata": {
  "kernelspec": {
   "display_name": "Python 3",
   "language": "python",
   "name": "python3"
  },
  "language_info": {
   "codemirror_mode": {
    "name": "ipython",
    "version": 3
   },
   "file_extension": ".py",
   "mimetype": "text/x-python",
   "name": "python",
   "nbconvert_exporter": "python",
   "pygments_lexer": "ipython3",
   "version": "3.8.5"
  }
 },
 "nbformat": 4,
 "nbformat_minor": 4
}
