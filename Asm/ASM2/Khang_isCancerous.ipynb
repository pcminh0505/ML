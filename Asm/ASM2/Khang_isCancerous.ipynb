{
 "cells": [
  {
   "cell_type": "markdown",
   "metadata": {
    "id": "F90oqE6OHA09"
   },
   "source": [
    "# COSC2753 - Assignment 2 - Classify Images of Colon Cancer"
   ]
  },
  {
   "cell_type": "markdown",
   "metadata": {
    "id": "-pycIo5gHA1E"
   },
   "source": [
    "**RMIT University Vietnam**\n",
    "\n",
    "**Course:** COSC2753\n",
    "\n",
    "**Group:** MK Sapiens\n",
    "\n",
    "**Student 1:** Pham Cong Minh - s3818102\n",
    "\n",
    "**Student 2:** Nguyen Bao Khang - s3817970\n",
    "\n",
    "**Lecturer:** Dr. Duy Dang Pham Thien\n",
    "\n",
    "**Submission Due Date:** 21 May 2021"
   ]
  },
  {
   "cell_type": "markdown",
   "metadata": {
    "id": "3tUsTdRsHA1F"
   },
   "source": [
    "## Main task\n",
    "* Classify images according to whether given cell image represents a cancerous cells or not (isCancerous).\n",
    "* Classify images according to cell-type, such as: fibroblast, inflammatory, epithelial or others."
   ]
  },
  {
   "cell_type": "markdown",
   "metadata": {
    "id": "ied7uTMMHA1F"
   },
   "source": [
    "## 1. Setup notebook"
   ]
  },
  {
   "cell_type": "code",
   "execution_count": null,
   "metadata": {
    "id": "JKw6Q6M_HA1F"
   },
   "outputs": [],
   "source": [
    "# !pip install tensorflow\n",
    "# !pip install keras\n",
    "# !pip install opencv-python"
   ]
  },
  {
   "cell_type": "code",
   "execution_count": null,
   "metadata": {
    "colab": {
     "base_uri": "https://localhost:8080/"
    },
    "id": "ZKshoOAaHA1G",
    "outputId": "0331264d-4d86-4fef-e0f8-3d77bdafcce6"
   },
   "outputs": [
    {
     "name": "stdout",
     "output_type": "stream",
     "text": [
      "Using Tensorflow version: 2.4.1\n"
     ]
    }
   ],
   "source": [
    "import pandas as pd\n",
    "import numpy as np\n",
    "import matplotlib.pyplot as plt\n",
    "%matplotlib inline \n",
    "import seaborn as sns\n",
    "from tqdm import tqdm\n",
    "\n",
    "import cv2\n",
    "import os\n",
    "import tensorflow as tf\n",
    "import sklearn as sk\n",
    "\n",
    "import warnings\n",
    "warnings.filterwarnings('ignore')\n",
    "\n",
    "print('Using Tensorflow version:', tf.__version__)"
   ]
  },
  {
   "cell_type": "code",
   "execution_count": null,
   "metadata": {
    "colab": {
     "base_uri": "https://localhost:8080/"
    },
    "id": "2E6N_kPG4a5S",
    "outputId": "f41769eb-731f-4efe-9030-94eb69abdd34"
   },
   "outputs": [
    {
     "name": "stdout",
     "output_type": "stream",
     "text": [
      "Mounted at /content/drive\n"
     ]
    }
   ],
   "source": [
    "from google.colab import drive\n",
    "drive.mount('/content/drive')"
   ]
  },
  {
   "cell_type": "code",
   "execution_count": null,
   "metadata": {
    "id": "urDGTF1es_0-"
   },
   "outputs": [],
   "source": [
    "!unzip \"/content/drive/MyDrive/ColabNotebooks/COSC2753/patch_images.zip\""
   ]
  },
  {
   "cell_type": "markdown",
   "metadata": {
    "id": "-BbqvDhrHA1H"
   },
   "source": [
    "## 2. Data inspecting"
   ]
  },
  {
   "cell_type": "markdown",
   "metadata": {
    "id": "dcJAWOPvHA1I"
   },
   "source": [
    "### 2.1. Load csv files"
   ]
  },
  {
   "cell_type": "code",
   "execution_count": null,
   "metadata": {
    "colab": {
     "base_uri": "https://localhost:8080/"
    },
    "id": "t8nlzvALHA1I",
    "outputId": "5264ae53-9033-435b-c066-6c61ed361047"
   },
   "outputs": [
    {
     "name": "stdout",
     "output_type": "stream",
     "text": [
      "/content/drive/MyDrive/ColabNotebooks/COSC2753\n"
     ]
    }
   ],
   "source": [
    "%cd \"/content/drive/MyDrive/ColabNotebooks/COSC2753/\"\n",
    "\n",
    "main_data = pd.read_csv('data_labels_mainData.csv')\n",
    "extra_data = pd.read_csv('data_labels_extraData.csv')"
   ]
  },
  {
   "cell_type": "code",
   "execution_count": null,
   "metadata": {
    "colab": {
     "base_uri": "https://localhost:8080/",
     "height": 197
    },
    "id": "96KG-O1jHA1I",
    "outputId": "85738c36-2171-43a1-9787-cde6805711bd"
   },
   "outputs": [
    {
     "data": {
      "text/html": [
       "<div>\n",
       "<style scoped>\n",
       "    .dataframe tbody tr th:only-of-type {\n",
       "        vertical-align: middle;\n",
       "    }\n",
       "\n",
       "    .dataframe tbody tr th {\n",
       "        vertical-align: top;\n",
       "    }\n",
       "\n",
       "    .dataframe thead th {\n",
       "        text-align: right;\n",
       "    }\n",
       "</style>\n",
       "<table border=\"1\" class=\"dataframe\">\n",
       "  <thead>\n",
       "    <tr style=\"text-align: right;\">\n",
       "      <th></th>\n",
       "      <th>InstanceID</th>\n",
       "      <th>patientID</th>\n",
       "      <th>ImageName</th>\n",
       "      <th>cellTypeName</th>\n",
       "      <th>cellType</th>\n",
       "      <th>isCancerous</th>\n",
       "    </tr>\n",
       "  </thead>\n",
       "  <tbody>\n",
       "    <tr>\n",
       "      <th>0</th>\n",
       "      <td>22405</td>\n",
       "      <td>1</td>\n",
       "      <td>22405.png</td>\n",
       "      <td>fibroblast</td>\n",
       "      <td>0</td>\n",
       "      <td>0</td>\n",
       "    </tr>\n",
       "    <tr>\n",
       "      <th>1</th>\n",
       "      <td>22406</td>\n",
       "      <td>1</td>\n",
       "      <td>22406.png</td>\n",
       "      <td>fibroblast</td>\n",
       "      <td>0</td>\n",
       "      <td>0</td>\n",
       "    </tr>\n",
       "    <tr>\n",
       "      <th>2</th>\n",
       "      <td>22407</td>\n",
       "      <td>1</td>\n",
       "      <td>22407.png</td>\n",
       "      <td>fibroblast</td>\n",
       "      <td>0</td>\n",
       "      <td>0</td>\n",
       "    </tr>\n",
       "    <tr>\n",
       "      <th>3</th>\n",
       "      <td>22408</td>\n",
       "      <td>1</td>\n",
       "      <td>22408.png</td>\n",
       "      <td>fibroblast</td>\n",
       "      <td>0</td>\n",
       "      <td>0</td>\n",
       "    </tr>\n",
       "    <tr>\n",
       "      <th>4</th>\n",
       "      <td>22409</td>\n",
       "      <td>1</td>\n",
       "      <td>22409.png</td>\n",
       "      <td>fibroblast</td>\n",
       "      <td>0</td>\n",
       "      <td>0</td>\n",
       "    </tr>\n",
       "  </tbody>\n",
       "</table>\n",
       "</div>"
      ],
      "text/plain": [
       "   InstanceID  patientID  ImageName cellTypeName  cellType  isCancerous\n",
       "0       22405          1  22405.png   fibroblast         0            0\n",
       "1       22406          1  22406.png   fibroblast         0            0\n",
       "2       22407          1  22407.png   fibroblast         0            0\n",
       "3       22408          1  22408.png   fibroblast         0            0\n",
       "4       22409          1  22409.png   fibroblast         0            0"
      ]
     },
     "execution_count": 6,
     "metadata": {
      "tags": []
     },
     "output_type": "execute_result"
    }
   ],
   "source": [
    "main_data.head()"
   ]
  },
  {
   "cell_type": "code",
   "execution_count": null,
   "metadata": {
    "colab": {
     "base_uri": "https://localhost:8080/"
    },
    "id": "zE8G_rOnHA1J",
    "outputId": "b49b11f4-f008-455b-cb7e-f06111b2838a"
   },
   "outputs": [
    {
     "data": {
      "text/plain": [
       "(9896, 6)"
      ]
     },
     "execution_count": 7,
     "metadata": {
      "tags": []
     },
     "output_type": "execute_result"
    }
   ],
   "source": [
    "main_data.shape"
   ]
  },
  {
   "cell_type": "code",
   "execution_count": null,
   "metadata": {
    "colab": {
     "base_uri": "https://localhost:8080/",
     "height": 197
    },
    "id": "E9adpHy6HA1J",
    "outputId": "9e4ea37f-bce9-434f-da58-a42ca8311d82"
   },
   "outputs": [
    {
     "data": {
      "text/html": [
       "<div>\n",
       "<style scoped>\n",
       "    .dataframe tbody tr th:only-of-type {\n",
       "        vertical-align: middle;\n",
       "    }\n",
       "\n",
       "    .dataframe tbody tr th {\n",
       "        vertical-align: top;\n",
       "    }\n",
       "\n",
       "    .dataframe thead th {\n",
       "        text-align: right;\n",
       "    }\n",
       "</style>\n",
       "<table border=\"1\" class=\"dataframe\">\n",
       "  <thead>\n",
       "    <tr style=\"text-align: right;\">\n",
       "      <th></th>\n",
       "      <th>InstanceID</th>\n",
       "      <th>patientID</th>\n",
       "      <th>ImageName</th>\n",
       "      <th>isCancerous</th>\n",
       "    </tr>\n",
       "  </thead>\n",
       "  <tbody>\n",
       "    <tr>\n",
       "      <th>0</th>\n",
       "      <td>12681</td>\n",
       "      <td>61</td>\n",
       "      <td>12681.png</td>\n",
       "      <td>0</td>\n",
       "    </tr>\n",
       "    <tr>\n",
       "      <th>1</th>\n",
       "      <td>12682</td>\n",
       "      <td>61</td>\n",
       "      <td>12682.png</td>\n",
       "      <td>0</td>\n",
       "    </tr>\n",
       "    <tr>\n",
       "      <th>2</th>\n",
       "      <td>12683</td>\n",
       "      <td>61</td>\n",
       "      <td>12683.png</td>\n",
       "      <td>0</td>\n",
       "    </tr>\n",
       "    <tr>\n",
       "      <th>3</th>\n",
       "      <td>12684</td>\n",
       "      <td>61</td>\n",
       "      <td>12684.png</td>\n",
       "      <td>0</td>\n",
       "    </tr>\n",
       "    <tr>\n",
       "      <th>4</th>\n",
       "      <td>12685</td>\n",
       "      <td>61</td>\n",
       "      <td>12685.png</td>\n",
       "      <td>0</td>\n",
       "    </tr>\n",
       "  </tbody>\n",
       "</table>\n",
       "</div>"
      ],
      "text/plain": [
       "   InstanceID  patientID  ImageName  isCancerous\n",
       "0       12681         61  12681.png            0\n",
       "1       12682         61  12682.png            0\n",
       "2       12683         61  12683.png            0\n",
       "3       12684         61  12684.png            0\n",
       "4       12685         61  12685.png            0"
      ]
     },
     "execution_count": 8,
     "metadata": {
      "tags": []
     },
     "output_type": "execute_result"
    }
   ],
   "source": [
    "extra_data.head()"
   ]
  },
  {
   "cell_type": "code",
   "execution_count": null,
   "metadata": {
    "colab": {
     "base_uri": "https://localhost:8080/"
    },
    "id": "xsefA_peHA1K",
    "outputId": "693adce7-cf9c-4a3d-d9d5-68afa9524985"
   },
   "outputs": [
    {
     "data": {
      "text/plain": [
       "(10384, 4)"
      ]
     },
     "execution_count": 9,
     "metadata": {
      "tags": []
     },
     "output_type": "execute_result"
    }
   ],
   "source": [
    "extra_data.shape"
   ]
  },
  {
   "cell_type": "markdown",
   "metadata": {
    "id": "4WPLvnaAHA1K"
   },
   "source": [
    "### 2.2. Inspect csv files"
   ]
  },
  {
   "cell_type": "markdown",
   "metadata": {
    "id": "Tnd1Tt60HA1K"
   },
   "source": [
    "From the specifications, the main_data contains both cellType (0 to 3) and isCancerous (0 and 1), while extra_data only contains isCancerous."
   ]
  },
  {
   "cell_type": "code",
   "execution_count": null,
   "metadata": {
    "colab": {
     "base_uri": "https://localhost:8080/",
     "height": 334
    },
    "id": "HiZM3xDoHA1L",
    "outputId": "6759c0ff-f7a4-4f36-a5b8-a4cb0857296a"
   },
   "outputs": [
    {
     "data": {
      "image/png": "[encoded data removed]",
      "text/plain": [
       "<Figure size 720x360 with 2 Axes>"
      ]
     },
     "metadata": {
      "tags": []
     },
     "output_type": "display_data"
    }
   ],
   "source": [
    "plt.style.use('dark_background')\n",
    "\n",
    "# Countplot the cellType and isCancerous\n",
    "fig, ax =plt.subplots(1,2, figsize = (10,5))\n",
    "\n",
    "# 0 = fibroblast, 1 = imflammatory, 2 = epithelial, 3 = others\n",
    "sns.countplot(main_data['cellType'], palette='Set2', ax=ax[0])\n",
    "\n",
    "sns.countplot(main_data['isCancerous'], palette='Set1', ax=ax[1])\n",
    "fig.show()"
   ]
  },
  {
   "cell_type": "code",
   "execution_count": null,
   "metadata": {
    "colab": {
     "base_uri": "https://localhost:8080/",
     "height": 313
    },
    "id": "95pN_xATHA1L",
    "outputId": "82f0c646-de7c-405b-b155-5281b6fa1679"
   },
   "outputs": [
    {
     "data": {
      "text/plain": [
       "<seaborn.axisgrid.FacetGrid at 0x7f2b412afdd0>"
      ]
     },
     "execution_count": 11,
     "metadata": {
      "tags": []
     },
     "output_type": "execute_result"
    },
    {
     "data": {
      "image/png": "[encoded data removed]",
      "text/plain": [
       "<Figure size 1152x288 with 2 Axes>"
      ]
     },
     "metadata": {
      "tags": []
     },
     "output_type": "display_data"
    }
   ],
   "source": [
    "# Draw the histogram for cellType respected to isCancerous (class 0 and 1)\n",
    "c = 'cellType'\n",
    "g = sns.FacetGrid(main_data, col='isCancerous', height=4, aspect=2)\n",
    "g.map(plt.hist, str(c), bins=20)\n",
    "g.set_axis_labels(c, \"Count\")"
   ]
  },
  {
   "cell_type": "code",
   "execution_count": null,
   "metadata": {
    "colab": {
     "base_uri": "https://localhost:8080/",
     "height": 47
    },
    "id": "aK7TEaFPHA1M",
    "outputId": "101d2286-e26b-408c-f191-3e738c615dbe"
   },
   "outputs": [
    {
     "data": {
      "text/html": [
       "<div>\n",
       "<style scoped>\n",
       "    .dataframe tbody tr th:only-of-type {\n",
       "        vertical-align: middle;\n",
       "    }\n",
       "\n",
       "    .dataframe tbody tr th {\n",
       "        vertical-align: top;\n",
       "    }\n",
       "\n",
       "    .dataframe thead th {\n",
       "        text-align: right;\n",
       "    }\n",
       "</style>\n",
       "<table border=\"1\" class=\"dataframe\">\n",
       "  <thead>\n",
       "    <tr style=\"text-align: right;\">\n",
       "      <th></th>\n",
       "      <th>InstanceID</th>\n",
       "      <th>patientID</th>\n",
       "      <th>ImageName</th>\n",
       "      <th>cellTypeName</th>\n",
       "      <th>cellType</th>\n",
       "      <th>isCancerous</th>\n",
       "    </tr>\n",
       "  </thead>\n",
       "  <tbody>\n",
       "  </tbody>\n",
       "</table>\n",
       "</div>"
      ],
      "text/plain": [
       "Empty DataFrame\n",
       "Columns: [InstanceID, patientID, ImageName, cellTypeName, cellType, isCancerous]\n",
       "Index: []"
      ]
     },
     "execution_count": 12,
     "metadata": {
      "tags": []
     },
     "output_type": "execute_result"
    }
   ],
   "source": [
    "# Apply loc to make sure\n",
    "main_data.loc[(main_data['cellType'] != 2) & (main_data['isCancerous'] == 1)]"
   ]
  },
  {
   "cell_type": "markdown",
   "metadata": {
    "id": "FywYktxnHA1M"
   },
   "source": [
    "From the dataset, it can be said that only cellType = 2 (epithelial) leads to cancerous "
   ]
  },
  {
   "cell_type": "markdown",
   "metadata": {
    "id": "sWbjkFpTHA1M"
   },
   "source": [
    "### 2.3. Inspect images"
   ]
  },
  {
   "cell_type": "code",
   "execution_count": null,
   "metadata": {
    "colab": {
     "base_uri": "https://localhost:8080/"
    },
    "id": "BMXfBe5cHA1N",
    "outputId": "f418712f-3f63-41c3-dc14-308a93250277"
   },
   "outputs": [
    {
     "name": "stdout",
     "output_type": "stream",
     "text": [
      "['22405.png', '22406.png', '22407.png', '22408.png']\n",
      "['22417.png', '22418.png', '22419.png', '22420.png']\n",
      "['276.png', '277.png', '278.png', '279.png']\n",
      "['22423.png', '22424.png', '19061.png', '19062.png']\n"
     ]
    }
   ],
   "source": [
    "# Prepare some image of each class\n",
    "cell0 = main_data['ImageName'].loc[main_data['cellType'] == 0][:4].tolist()\n",
    "cell1 = main_data['ImageName'].loc[main_data['cellType'] == 1][:4].tolist()\n",
    "cell2 = main_data['ImageName'].loc[main_data['cellType'] == 2][:4].tolist()\n",
    "cell3 = main_data['ImageName'].loc[main_data['cellType'] == 3][:4].tolist()\n",
    "\n",
    "print(cell0)\n",
    "print(cell1)\n",
    "print(cell2)\n",
    "print(cell3)"
   ]
  },
  {
   "cell_type": "code",
   "execution_count": null,
   "metadata": {
    "id": "qinLUYRIHA1N"
   },
   "outputs": [],
   "source": [
    "# CHANGE THE DIRECTORY IN YOUR LOCAL MACHINE\n",
    "PATH = \"/content/patch_images\""
   ]
  },
  {
   "cell_type": "code",
   "execution_count": null,
   "metadata": {
    "colab": {
     "base_uri": "https://localhost:8080/",
     "height": 1000
    },
    "id": "avtXDIuvHA1N",
    "outputId": "dce85393-ac65-4ae6-b518-5501ce4d53a5"
   },
   "outputs": [
    {
     "data": {
      "image/png": "[encoded data removed]",
      "text/plain": [
       "<Figure size 432x288 with 4 Axes>"
      ]
     },
     "metadata": {
      "tags": []
     },
     "output_type": "display_data"
    },
    {
     "data": {
      "image/png": "[encoded data removed]",
      "text/plain": [
       "<Figure size 432x288 with 4 Axes>"
      ]
     },
     "metadata": {
      "tags": []
     },
     "output_type": "display_data"
    },
    {
     "data": {
      "image/png": "[encoded data removed]",
      "text/plain": [
       "<Figure size 432x288 with 4 Axes>"
      ]
     },
     "metadata": {
      "tags": []
     },
     "output_type": "display_data"
    },
    {
     "data": {
      "image/png": "[encoded data removed]",
      "text/plain": [
       "<Figure size 432x288 with 4 Axes>"
      ]
     },
     "metadata": {
      "tags": []
     },
     "output_type": "display_data"
    }
   ],
   "source": [
    "# Plotting 4 cellType\n",
    "for i in range (4):\n",
    "    # Read image\n",
    "    cell_0 = cv2.imread(os.path.join(PATH, cell0[i]))\n",
    "    cell_1 = cv2.imread(os.path.join(PATH, cell1[i]))\n",
    "    cell_2 = cv2.imread(os.path.join(PATH, cell2[i]))\n",
    "    cell_3 = cv2.imread(os.path.join(PATH, cell3[i]))\n",
    "\n",
    "    # Create subplots\n",
    "    fig, ((ax0, ax1), (ax2, ax3)) = plt.subplots(2, 2)\n",
    "    \n",
    "    # Draw cellType 0\n",
    "    ax0.title.set_text(\"Cell 0: Fibroblast \")\n",
    "    ax0.imshow(cell_0)\n",
    "    \n",
    "    # Draw cellType 1\n",
    "    ax1.title.set_text(\"Cell 1: Inflammatory\")\n",
    "    ax1.imshow(cell_1)\n",
    "    \n",
    "    # Draw cellType 2\n",
    "    ax2.title.set_text(\"Cell 2: Epithelial \")\n",
    "    ax2.imshow(cell_2)\n",
    "    \n",
    "    # Draw cellType 3\n",
    "    ax3.title.set_text(\"Cell 3: Others\")\n",
    "    ax3.imshow(cell_3)\n",
    "\n",
    "    for ax in fig.get_axes():\n",
    "        ax.label_outer()"
   ]
  },
  {
   "cell_type": "markdown",
   "metadata": {
    "id": "_2ehN_HaHA1O"
   },
   "source": [
    "## 3. Data preparation"
   ]
  },
  {
   "cell_type": "markdown",
   "metadata": {
    "id": "ThY-OK4s58fv"
   },
   "source": [
    "### 3.1. Split data into train and validation (test) set"
   ]
  },
  {
   "cell_type": "code",
   "execution_count": null,
   "metadata": {
    "colab": {
     "base_uri": "https://localhost:8080/"
    },
    "id": "K7xx0rdsHA1O",
    "outputId": "22fcad42-f976-499d-8cd9-c605ea973aa4"
   },
   "outputs": [
    {
     "name": "stdout",
     "output_type": "stream",
     "text": [
      "Train shape: (6927, 2) Validation shape: (2969, 2)\n"
     ]
    }
   ],
   "source": [
    "from sklearn.model_selection import train_test_split\n",
    "\n",
    "# Split data into raw train and validation set\n",
    "# Task 1: Predict isCancerous\n",
    "raw_train_task1, val_task1 = train_test_split(main_data[['ImageName', 'isCancerous']], \n",
    "                                              test_size=0.3, \n",
    "                                              random_state=99)\n",
    "\n",
    "# Task 2: Predict cellType\n",
    "raw_train_task2, val_task2 = train_test_split(main_data[['ImageName','cellType']], \n",
    "                                              test_size=0.3, \n",
    "                                              random_state=99)                                        \n",
    "\n",
    "print('Train shape:', raw_train_task2.shape, 'Validation shape:', val_task2.shape)"
   ]
  },
  {
   "cell_type": "code",
   "execution_count": null,
   "metadata": {
    "id": "G-vKXHq15Tg-"
   },
   "outputs": [],
   "source": [
    "raw_train_task1 = raw_train_task1.sort_values(by=['isCancerous']).reset_index(drop = True)\n",
    "train_X1 = raw_train_task1['ImageName']\n",
    "train_Y1 = raw_train_task1['isCancerous']\n",
    "\n",
    "test_X1 = val_task1['ImageName']\n",
    "test_Y1 = val_task1['isCancerous']"
   ]
  },
  {
   "cell_type": "code",
   "execution_count": null,
   "metadata": {
    "id": "6f6Ipjxd6MVr"
   },
   "outputs": [],
   "source": [
    "raw_train_task2 = raw_train_task2.sort_values(by=['cellType']).reset_index(drop = True)\n",
    "train_X2 = raw_train_task2['ImageName']\n",
    "train_Y2 = raw_train_task2['cellType']\n",
    "\n",
    "test_X2 = val_task2['ImageName']\n",
    "test_Y2 = val_task2['cellType']"
   ]
  },
  {
   "cell_type": "markdown",
   "metadata": {
    "id": "oa7VxhaSHA1Q"
   },
   "source": [
    "### 3.2. Create sample image to balance among classes"
   ]
  },
  {
   "cell_type": "code",
   "execution_count": null,
   "metadata": {
    "colab": {
     "base_uri": "https://localhost:8080/"
    },
    "id": "43VP_9oz6y8l",
    "outputId": "b97a9192-a448-4318-c421-54fd415dc1ba"
   },
   "outputs": [
    {
     "data": {
      "text/plain": [
       "0    4067\n",
       "1    2860\n",
       "Name: isCancerous, dtype: int64"
      ]
     },
     "execution_count": 19,
     "metadata": {
      "tags": []
     },
     "output_type": "execute_result"
    }
   ],
   "source": [
    "train_Y1.value_counts()"
   ]
  },
  {
   "cell_type": "code",
   "execution_count": null,
   "metadata": {
    "colab": {
     "base_uri": "https://localhost:8080/"
    },
    "id": "bVS5MWE460rJ",
    "outputId": "be91d34c-b6b7-4d69-ecaa-fac987631bba"
   },
   "outputs": [
    {
     "data": {
      "text/plain": [
       "2    2860\n",
       "1    1780\n",
       "0    1313\n",
       "3     974\n",
       "Name: cellType, dtype: int64"
      ]
     },
     "execution_count": 20,
     "metadata": {
      "tags": []
     },
     "output_type": "execute_result"
    }
   ],
   "source": [
    "train_Y2.value_counts()"
   ]
  },
  {
   "cell_type": "code",
   "execution_count": null,
   "metadata": {
    "id": "S2Yg0tj0-NUY"
   },
   "outputs": [],
   "source": [
    "from random import randint, choice\n",
    "\n",
    "item_order1 = train_Y1.value_counts().index.tolist()\n",
    "freq_order1 = train_Y1.value_counts().tolist()\n",
    "\n",
    "count_list1 = [element for _, element in sorted(zip(item_order1, freq_order1))]# List of value_counts in isCancerous\n",
    "\n",
    "sum_range1 = count_list1.copy()\n",
    "for i in range(1, len(sum_range1)):\n",
    "    sum_range1[i] += sum_range1[i - 1]\n",
    "\n",
    "sum_range1.insert(0, 0)\n",
    "\n",
    "MAX1 = max(count_list1)\n",
    "\n",
    "INTERPOLATION = [cv2.INTER_AREA, cv2.INTER_CUBIC, cv2.INTER_LINEAR, cv2.INTER_NEAREST]\n",
    "\n",
    "def create_train_isCancerous(directory, img_list):\n",
    "    train_data = []\n",
    "\n",
    "    # Add original data \n",
    "    for name in tqdm(img_list, desc=\"Adding original images\"):\n",
    "        img_path = os.path.join(directory, name)\n",
    "        img = cv2.resize(cv2.imread(img_path), (27, 27))\n",
    "        train_data.append(np.array(img))\n",
    "\n",
    "    # Add sample data\n",
    "    for i in tqdm(range(MAX1 - count_list1[1]), desc=\"Sampling class 1\"):\n",
    "      img_path = os.path.join(directory, choice(img_list[sum_range1[1]:]))\n",
    "      img = cv2.resize(cv2.imread(img_path), (27, 27), interpolation=INTERPOLATION[randint(0, 3)])\n",
    "      train_data.append(np.array(img))\n",
    "\n",
    "    print(\"\\nSuccessfully sample images!\")\n",
    "    # Convert to np.array and normalize pixel values to be between 0 and 1 \n",
    "    return np.array(train_data).astype('float32') / 255.0 "
   ]
  },
  {
   "cell_type": "code",
   "execution_count": null,
   "metadata": {
    "id": "_HyrQy2H6lzC"
   },
   "outputs": [],
   "source": [
    "item_order2 = train_Y2.value_counts().index.tolist()\n",
    "freq_order2 = train_Y2.value_counts().tolist()\n",
    "\n",
    "count_list2 = [element for _, element in sorted(zip(item_order2, freq_order2))]# List of value_counts in cellType\n",
    "\n",
    "sum_range2 = count_list2.copy()\n",
    "for i in range(1, len(sum_range2)):\n",
    "    sum_range2[i] += sum_range2[i - 1]\n",
    "\n",
    "sum_range2.insert(0, 0)\n",
    "\n",
    "MAX2 = max(count_list2)\n",
    "\n",
    "def create_train_cellType(directory, img_list):\n",
    "    train_data = []\n",
    "\n",
    "    # Add original data \n",
    "    for name in tqdm(img_list, desc=\"Adding original images\"):\n",
    "        img_path = os.path.join(directory, name)\n",
    "        img = cv2.resize(cv2.imread(img_path), (27, 27))\n",
    "        train_data.append(np.array(img))\n",
    "\n",
    "    for i in range(4):\n",
    "        if i != 2:\n",
    "            for j in tqdm(range(MAX2 - count_list2[i]), desc=\"Sampling class \".format(fc=i)):\n",
    "                img_path = os.path.join(directory, choice(img_list[sum_range2[i]:sum_range2[i + 1]]))\n",
    "                img = cv2.resize(cv2.imread(img_path), (27, 27), interpolation=INTERPOLATION[randint(0, 3)])\n",
    "                train_data.append(np.array(img))\n",
    "\n",
    "    print(\"\\nSuccessfully sample images!\")\n",
    "    # Convert to np.array and normalize pixel values to be between 0 and 1 \n",
    "    return np.array(train_data).astype('float32') / 255.0 "
   ]
  },
  {
   "cell_type": "code",
   "execution_count": null,
   "metadata": {
    "id": "bgtnUXzq64rz"
   },
   "outputs": [],
   "source": [
    "def create_test_data(directory, img_list):\n",
    "    test_data = []\n",
    "    for name in tqdm(img_list, desc='Extracting Image Progress'):\n",
    "        path = os.path.join(directory, name)\n",
    "        img = cv2.resize(cv2.imread(path), (27, 27))\n",
    "        test_data.append(np.array(img))\n",
    "    print(\"\\nSuccessfully import images!\")\n",
    "    # Convert to np.array and normalize pixel values to be between 0 and 1 \n",
    "    return np.array(test_data).astype('float32') / 255.0 "
   ]
  },
  {
   "cell_type": "markdown",
   "metadata": {
    "id": "qlNALzSZHA1R"
   },
   "source": [
    "### 3.3. Create image array"
   ]
  },
  {
   "cell_type": "code",
   "execution_count": null,
   "metadata": {
    "colab": {
     "base_uri": "https://localhost:8080/"
    },
    "id": "iUOW9oP1AKu8",
    "outputId": "bae8252b-3cf9-4318-fb17-2c429db695f8"
   },
   "outputs": [
    {
     "name": "stderr",
     "output_type": "stream",
     "text": [
      "Adding original images: 100%|██████████| 6927/6927 [00:00<00:00, 16593.30it/s]\n",
      "Sampling class 1: 100%|██████████| 1207/1207 [00:00<00:00, 13454.29it/s]"
     ]
    },
    {
     "name": "stdout",
     "output_type": "stream",
     "text": [
      "\n",
      "Successfully sample images!\n"
     ]
    },
    {
     "name": "stderr",
     "output_type": "stream",
     "text": [
      "\n"
     ]
    },
    {
     "data": {
      "text/plain": [
       "(8134, 27, 27, 3)"
      ]
     },
     "execution_count": 26,
     "metadata": {
      "tags": []
     },
     "output_type": "execute_result"
    }
   ],
   "source": [
    "train_img_X1 = create_train_isCancerous(PATH,train_X1.to_list())\n",
    "train_img_X1.shape"
   ]
  },
  {
   "cell_type": "code",
   "execution_count": null,
   "metadata": {
    "colab": {
     "base_uri": "https://localhost:8080/"
    },
    "id": "Shs0W9YMAPyG",
    "outputId": "1a1043a3-eb08-427d-f471-08028ddef1aa"
   },
   "outputs": [
    {
     "name": "stderr",
     "output_type": "stream",
     "text": [
      "Adding original images: 100%|██████████| 6927/6927 [00:00<00:00, 16964.19it/s]\n",
      "Sampling class : 100%|██████████| 1547/1547 [00:00<00:00, 12014.97it/s]\n",
      "Sampling class : 100%|██████████| 1080/1080 [00:00<00:00, 12179.99it/s]\n",
      "Sampling class : 100%|██████████| 1886/1886 [00:00<00:00, 15273.36it/s]"
     ]
    },
    {
     "name": "stdout",
     "output_type": "stream",
     "text": [
      "\n",
      "Successfully sample images!\n"
     ]
    },
    {
     "name": "stderr",
     "output_type": "stream",
     "text": [
      "\n"
     ]
    },
    {
     "data": {
      "text/plain": [
       "(11440, 27, 27, 3)"
      ]
     },
     "execution_count": 27,
     "metadata": {
      "tags": []
     },
     "output_type": "execute_result"
    }
   ],
   "source": [
    "train_img_X2 = create_train_cellType(PATH, train_X2.to_list())\n",
    "train_img_X2.shape"
   ]
  },
  {
   "cell_type": "code",
   "execution_count": null,
   "metadata": {
    "colab": {
     "base_uri": "https://localhost:8080/"
    },
    "id": "DOcJx6UvAQmS",
    "outputId": "c3bce61c-7ba9-434a-a335-564eb16a052b"
   },
   "outputs": [
    {
     "name": "stderr",
     "output_type": "stream",
     "text": [
      "Extracting Image Progress: 100%|██████████| 2969/2969 [00:00<00:00, 11974.74it/s]\n",
      "Extracting Image Progress:  38%|███▊      | 1135/2969 [00:00<00:00, 11348.41it/s]"
     ]
    },
    {
     "name": "stdout",
     "output_type": "stream",
     "text": [
      "\n",
      "Successfully import images!\n"
     ]
    },
    {
     "name": "stderr",
     "output_type": "stream",
     "text": [
      "Extracting Image Progress: 100%|██████████| 2969/2969 [00:00<00:00, 14138.49it/s]"
     ]
    },
    {
     "name": "stdout",
     "output_type": "stream",
     "text": [
      "\n",
      "Successfully import images!\n"
     ]
    },
    {
     "name": "stderr",
     "output_type": "stream",
     "text": [
      "\n"
     ]
    },
    {
     "data": {
      "text/plain": [
       "(2969, 27, 27, 3)"
      ]
     },
     "execution_count": 28,
     "metadata": {
      "tags": []
     },
     "output_type": "execute_result"
    }
   ],
   "source": [
    "test_img_X1 = create_test_data(PATH, test_X1.to_list())\n",
    "test_img_X2 = create_test_data(PATH, test_X2.to_list())\n",
    "\n",
    "test_img_X2.shape"
   ]
  },
  {
   "cell_type": "code",
   "execution_count": null,
   "metadata": {
    "colab": {
     "base_uri": "https://localhost:8080/"
    },
    "id": "ZHTQBmF5xl7o",
    "outputId": "d4ca7aa5-956a-431f-b59a-bbde65c508db"
   },
   "outputs": [
    {
     "data": {
      "text/plain": [
       "(8134,)"
      ]
     },
     "execution_count": 29,
     "metadata": {
      "tags": []
     },
     "output_type": "execute_result"
    }
   ],
   "source": [
    "train_mod_Y1 = train_Y1.values\n",
    "for i in range(2):\n",
    "  train_mod_Y1 = np.concatenate((train_mod_Y1, np.full((MAX1 - count_list1[i],), i, dtype=int)))\n",
    "\n",
    "train_mod_Y1.shape"
   ]
  },
  {
   "cell_type": "code",
   "execution_count": null,
   "metadata": {
    "colab": {
     "base_uri": "https://localhost:8080/"
    },
    "id": "4CLB2CQZxzZQ",
    "outputId": "2d07cb00-c8ee-4b08-b93b-5a6bc395083f"
   },
   "outputs": [
    {
     "data": {
      "text/plain": [
       "(11440,)"
      ]
     },
     "execution_count": 30,
     "metadata": {
      "tags": []
     },
     "output_type": "execute_result"
    }
   ],
   "source": [
    "train_mod_Y2 = train_Y2.values\n",
    "for i in range(4):\n",
    "  train_mod_Y2 = np.concatenate((train_mod_Y2, np.full((MAX2 - count_list2[i],), i, dtype=int)))\n",
    "\n",
    "train_mod_Y2.shape"
   ]
  },
  {
   "cell_type": "code",
   "execution_count": null,
   "metadata": {
    "colab": {
     "base_uri": "https://localhost:8080/"
    },
    "id": "ppoBjEtXAIyg",
    "outputId": "7c4826e0-5228-4252-a109-228d4e2d8d92"
   },
   "outputs": [
    {
     "data": {
      "text/plain": [
       "(2969,)"
      ]
     },
     "execution_count": 31,
     "metadata": {
      "tags": []
     },
     "output_type": "execute_result"
    }
   ],
   "source": [
    "test_Y2.shape"
   ]
  },
  {
   "cell_type": "code",
   "execution_count": null,
   "metadata": {
    "id": "RJmd9qUwyk5s"
   },
   "outputs": [],
   "source": [
    "# Create datagen\n",
    "from tensorflow.keras.preprocessing.image import ImageDataGenerator\n",
    "\n",
    "datagen = ImageDataGenerator()\n",
    "\n",
    "# train_datagen1 = datagen.flow(train_img_X1, train_mod_Y1, batch_size=16, shuffle=True)\n",
    "train_datagen2 = datagen.flow(train_img_X2, train_mod_Y2, batch_size=16, shuffle=True)"
   ]
  },
  {
   "cell_type": "markdown",
   "metadata": {
    "id": "Fc4rpFaSmVFu"
   },
   "source": [
    "## 4. Constructing CNN network"
   ]
  },
  {
   "cell_type": "markdown",
   "metadata": {
    "id": "QxfgEIhwnbp3"
   },
   "source": [
    "### 4.1. Model for task 1: isCancerous"
   ]
  },
  {
   "cell_type": "code",
   "execution_count": null,
   "metadata": {
    "id": "GiJN9sAbmcWw"
   },
   "outputs": [],
   "source": [
    "from tensorflow.keras.models import Sequential\n",
    "from tensorflow.keras.layers import Dense, Conv2D, MaxPooling2D , Flatten, BatchNormalization, Dropout\n",
    "from tensorflow.keras.regularizers import l2\n",
    "\n",
    "model_isCancerous = Sequential()  # Initiate the model\n",
    "\n",
    "# First convolutional layer(s)\n",
    "model_isCancerous.add(Conv2D(32, (3, 3), activation='relu', kernel_initializer='he_uniform', padding='same', input_shape=(27, 27, 3)))\n",
    "model_isCancerous.add(BatchNormalization())\n",
    "model_isCancerous.add(Conv2D(32, (3, 3), activation='relu', kernel_initializer='he_uniform', padding='same'))\n",
    "model_isCancerous.add(BatchNormalization())\n",
    "model_isCancerous.add(MaxPooling2D((2, 2)))\n",
    "model_isCancerous.add(Dropout(0.2))\n",
    "\n",
    "# Second convolutional layer(s)\n",
    "model_isCancerous.add(Conv2D(64, (3, 3), activation='relu', kernel_initializer='he_uniform', kernel_regularizer=l2(l=0.01), padding='same'))\n",
    "model_isCancerous.add(BatchNormalization())\n",
    "model_isCancerous.add(Conv2D(64, (3, 3), activation='relu', kernel_initializer='he_uniform', kernel_regularizer=l2(l=0.01), padding='same'))\n",
    "model_isCancerous.add(BatchNormalization())\n",
    "model_isCancerous.add(MaxPooling2D((2, 2)))\n",
    "model_isCancerous.add(Dropout(0.3))\n",
    "\n",
    "# Third convolutional layer(s)\n",
    "model_isCancerous.add(Conv2D(128, (3, 3), activation='relu', kernel_initializer='he_uniform', kernel_regularizer=l2(l=0.01), padding='same'))\n",
    "model_isCancerous.add(BatchNormalization())\n",
    "model_isCancerous.add(Conv2D(128, (3, 3), activation='relu', kernel_initializer='he_uniform', kernel_regularizer=l2(l=0.01), padding='same'))\n",
    "model_isCancerous.add(BatchNormalization())\n",
    "model_isCancerous.add(MaxPooling2D((2, 2)))\n",
    "model_isCancerous.add(Dropout(0.4))\n",
    "\n",
    "# Fully connected layer(s)\n",
    "model_isCancerous.add(Flatten())\n",
    "model_isCancerous.add(Dense(512, kernel_regularizer=l2(l=0.01), activation='relu'))\n",
    "model_isCancerous.add(BatchNormalization())\n",
    "model_isCancerous.add(Dropout(0.2))\n",
    "model_isCancerous.add(Dense(512, kernel_regularizer=l2(l=0.01), activation='relu'))\n",
    "model_isCancerous.add(BatchNormalization())\n",
    "model_isCancerous.add(Dropout(0.2))\n",
    "model_isCancerous.add(Dense(2, activation='softmax')) # Output is 0 and 1\n",
    "\n",
    "model_isCancerous.summary()"
   ]
  },
  {
   "cell_type": "markdown",
   "metadata": {
    "id": "wU8WpqedHA1U"
   },
   "source": [
    "### 4.2. Constructing CNN network for cellType"
   ]
  },
  {
   "cell_type": "code",
   "execution_count": null,
   "metadata": {
    "colab": {
     "base_uri": "https://localhost:8080/"
    },
    "id": "X0WetrcjHA1U",
    "outputId": "dc6f057c-03e6-4c87-8970-0e201cb1d71a"
   },
   "outputs": [
    {
     "name": "stdout",
     "output_type": "stream",
     "text": [
      "Model: \"sequential\"\n",
      "_________________________________________________________________\n",
      "Layer (type)                 Output Shape              Param #   \n",
      "=================================================================\n",
      "conv2d (Conv2D)              (None, 27, 27, 32)        896       \n",
      "_________________________________________________________________\n",
      "batch_normalization (BatchNo (None, 27, 27, 32)        128       \n",
      "_________________________________________________________________\n",
      "conv2d_1 (Conv2D)            (None, 27, 27, 32)        9248      \n",
      "_________________________________________________________________\n",
      "batch_normalization_1 (Batch (None, 27, 27, 32)        128       \n",
      "_________________________________________________________________\n",
      "max_pooling2d (MaxPooling2D) (None, 13, 13, 32)        0         \n",
      "_________________________________________________________________\n",
      "dropout (Dropout)            (None, 13, 13, 32)        0         \n",
      "_________________________________________________________________\n",
      "conv2d_2 (Conv2D)            (None, 13, 13, 64)        18496     \n",
      "_________________________________________________________________\n",
      "batch_normalization_2 (Batch (None, 13, 13, 64)        256       \n",
      "_________________________________________________________________\n",
      "conv2d_3 (Conv2D)            (None, 13, 13, 64)        36928     \n",
      "_________________________________________________________________\n",
      "batch_normalization_3 (Batch (None, 13, 13, 64)        256       \n",
      "_________________________________________________________________\n",
      "max_pooling2d_1 (MaxPooling2 (None, 6, 6, 64)          0         \n",
      "_________________________________________________________________\n",
      "dropout_1 (Dropout)          (None, 6, 6, 64)          0         \n",
      "_________________________________________________________________\n",
      "conv2d_4 (Conv2D)            (None, 6, 6, 128)         73856     \n",
      "_________________________________________________________________\n",
      "batch_normalization_4 (Batch (None, 6, 6, 128)         512       \n",
      "_________________________________________________________________\n",
      "conv2d_5 (Conv2D)            (None, 6, 6, 128)         147584    \n",
      "_________________________________________________________________\n",
      "batch_normalization_5 (Batch (None, 6, 6, 128)         512       \n",
      "_________________________________________________________________\n",
      "max_pooling2d_2 (MaxPooling2 (None, 3, 3, 128)         0         \n",
      "_________________________________________________________________\n",
      "dropout_2 (Dropout)          (None, 3, 3, 128)         0         \n",
      "_________________________________________________________________\n",
      "flatten (Flatten)            (None, 1152)              0         \n",
      "_________________________________________________________________\n",
      "dense (Dense)                (None, 512)               590336    \n",
      "_________________________________________________________________\n",
      "batch_normalization_6 (Batch (None, 512)               2048      \n",
      "_________________________________________________________________\n",
      "dropout_3 (Dropout)          (None, 512)               0         \n",
      "_________________________________________________________________\n",
      "dense_1 (Dense)              (None, 512)               262656    \n",
      "_________________________________________________________________\n",
      "batch_normalization_7 (Batch (None, 512)               2048      \n",
      "_________________________________________________________________\n",
      "dropout_4 (Dropout)          (None, 512)               0         \n",
      "_________________________________________________________________\n",
      "dense_2 (Dense)              (None, 4)                 2052      \n",
      "=================================================================\n",
      "Total params: 1,147,940\n",
      "Trainable params: 1,144,996\n",
      "Non-trainable params: 2,944\n",
      "_________________________________________________________________\n"
     ]
    }
   ],
   "source": [
    "model_cellType = Sequential()  # Initiate the model\n",
    "\n",
    "# First convolutional layer(s)\n",
    "model_cellType.add(Conv2D(32, (3, 3), activation='relu', kernel_initializer='he_uniform', padding='same', input_shape=(27, 27, 3)))\n",
    "model_cellType.add(BatchNormalization())\n",
    "model_cellType.add(Conv2D(32, (3, 3), activation='relu', kernel_initializer='he_uniform', padding='same'))\n",
    "model_cellType.add(BatchNormalization())\n",
    "model_cellType.add(MaxPooling2D((2, 2)))\n",
    "model_cellType.add(Dropout(0.2))\n",
    "\n",
    "# Second convolutional layer(s)\n",
    "model_cellType.add(Conv2D(64, (3, 3), activation='relu', kernel_initializer='he_uniform', kernel_regularizer=l2(l=0.01), padding='same'))\n",
    "model_cellType.add(BatchNormalization())\n",
    "model_cellType.add(Conv2D(64, (3, 3), activation='relu', kernel_initializer='he_uniform', kernel_regularizer=l2(l=0.01), padding='same'))\n",
    "model_cellType.add(BatchNormalization())\n",
    "model_cellType.add(MaxPooling2D((2, 2)))\n",
    "model_cellType.add(Dropout(0.3))\n",
    "\n",
    "# Third convolutional layer(s)\n",
    "model_cellType.add(Conv2D(128, (3, 3), activation='relu', kernel_initializer='he_uniform', kernel_regularizer=l2(l=0.01), padding='same'))\n",
    "model_cellType.add(BatchNormalization())\n",
    "model_cellType.add(Conv2D(128, (3, 3), activation='relu', kernel_initializer='he_uniform', kernel_regularizer=l2(l=0.01), padding='same'))\n",
    "model_cellType.add(BatchNormalization())\n",
    "model_cellType.add(MaxPooling2D((2, 2)))\n",
    "model_cellType.add(Dropout(0.4))\n",
    "\n",
    "# Fully connected layer(s)\n",
    "model_cellType.add(Flatten())\n",
    "model_cellType.add(Dense(512, kernel_regularizer=l2(l=0.01), activation='relu'))\n",
    "model_cellType.add(BatchNormalization())\n",
    "model_cellType.add(Dropout(0.2))\n",
    "model_cellType.add(Dense(512, kernel_regularizer=l2(l=0.01), activation='relu'))\n",
    "model_cellType.add(BatchNormalization())\n",
    "model_cellType.add(Dropout(0.2))\n",
    "model_cellType.add(Dense(4, activation='softmax')) # Output is 0 to 3\n",
    "\n",
    "model_cellType.summary()"
   ]
  },
  {
   "cell_type": "markdown",
   "metadata": {
    "id": "O-k5hja0oB4Q"
   },
   "source": [
    "## 5. Compile and training"
   ]
  },
  {
   "cell_type": "code",
   "execution_count": null,
   "metadata": {
    "id": "gSxJIJ6AHA1V"
   },
   "outputs": [],
   "source": [
    "from tensorflow.keras.optimizers import Adam\n",
    "\n",
    "opt = Adam(lr=0.0005, beta_1=0.4, beta_2=0.444, decay=1.0e-6, amsgrad=True)\n",
    "\n",
    "model_isCancerous.compile(optimizer=opt , loss='binary_crossentropy', metrics=['accuracy'])\n",
    "model_cellType.compile(optimizer=opt , loss='sparse_categorical_crossentropy', metrics=['accuracy'])"
   ]
  },
  {
   "cell_type": "code",
   "execution_count": null,
   "metadata": {
    "id": "JHF4pcQro1o7"
   },
   "outputs": [],
   "source": [
    "from keras.callbacks import EarlyStopping, ReduceLROnPlateau\n",
    "early = EarlyStopping(monitor='accuracy', min_delta=0.001, patience=10, verbose=1, mode='auto')\n",
    "reduce_lr = ReduceLROnPlateau(monitor='val_loss', factor=np.sqrt(0.1), cooldown=0, patience=6, min_lr=0.5e-15) \n",
    "\n",
    "EPOCHS = 500\n",
    "BATCH_SIZE = 32\n"
   ]
  },
  {
   "cell_type": "code",
   "execution_count": null,
   "metadata": {
    "id": "8_AqeLg5pCkI"
   },
   "outputs": [],
   "source": [
    "import time\n",
    "start_time = time.time()\n",
    "history_1 = model_isCancerous.fit(train_datagen1, \n",
    "                                  validation_data=(test_img_X1, test_Y1), \n",
    "                                  batch_size=BATCH_SIZE, \n",
    "                                  epochs=EPOCHS, \n",
    "                                  verbose=1,\n",
    "                                  callbacks=[reduce_lr, early])\n",
    "\n",
    "print(\"---  Training cellType model in seconds ---%s \" % (time.time() - start_time))"
   ]
  },
  {
   "cell_type": "code",
   "execution_count": null,
   "metadata": {
    "colab": {
     "base_uri": "https://localhost:8080/"
    },
    "id": "yqkCTlclHA1V",
    "outputId": "e2a65578-3b78-4acf-880c-330440f98314"
   },
   "outputs": [
    {
     "name": "stdout",
     "output_type": "stream",
     "text": [
      "Epoch 1/500\n",
      "715/715 [==============================] - 10s 8ms/step - loss: 20.3592 - accuracy: 0.4617 - val_loss: 17.8017 - val_accuracy: 0.6807\n",
      "Epoch 2/500\n",
      "715/715 [==============================] - 5s 7ms/step - loss: 17.4836 - accuracy: 0.5867 - val_loss: 15.9017 - val_accuracy: 0.6713\n",
      "Epoch 3/500\n",
      "715/715 [==============================] - 5s 7ms/step - loss: 15.5365 - accuracy: 0.6052 - val_loss: 14.1551 - val_accuracy: 0.7097\n",
      "Epoch 4/500\n",
      "715/715 [==============================] - 5s 7ms/step - loss: 13.9393 - accuracy: 0.6321 - val_loss: 12.7939 - val_accuracy: 0.7039\n",
      "Epoch 5/500\n",
      "715/715 [==============================] - 5s 7ms/step - loss: 12.6086 - accuracy: 0.6438 - val_loss: 11.6323 - val_accuracy: 0.7033\n",
      "Epoch 6/500\n",
      "715/715 [==============================] - 5s 7ms/step - loss: 11.4606 - accuracy: 0.6527 - val_loss: 10.6153 - val_accuracy: 0.7326\n",
      "Epoch 7/500\n",
      "715/715 [==============================] - 5s 7ms/step - loss: 10.4973 - accuracy: 0.6724 - val_loss: 9.7427 - val_accuracy: 0.7215\n",
      "Epoch 8/500\n",
      "715/715 [==============================] - 5s 7ms/step - loss: 9.6448 - accuracy: 0.6757 - val_loss: 8.9926 - val_accuracy: 0.7241\n",
      "Epoch 9/500\n",
      "715/715 [==============================] - 5s 7ms/step - loss: 8.8845 - accuracy: 0.6867 - val_loss: 8.3347 - val_accuracy: 0.7312\n",
      "Epoch 10/500\n",
      "715/715 [==============================] - 5s 7ms/step - loss: 8.2253 - accuracy: 0.6951 - val_loss: 7.7288 - val_accuracy: 0.7329\n",
      "Epoch 11/500\n",
      "715/715 [==============================] - 5s 7ms/step - loss: 7.6443 - accuracy: 0.7021 - val_loss: 7.2263 - val_accuracy: 0.7231\n",
      "Epoch 12/500\n",
      "715/715 [==============================] - 5s 7ms/step - loss: 7.1120 - accuracy: 0.7093 - val_loss: 6.7450 - val_accuracy: 0.7356\n",
      "Epoch 13/500\n",
      "715/715 [==============================] - 5s 7ms/step - loss: 6.6454 - accuracy: 0.7084 - val_loss: 6.3201 - val_accuracy: 0.7332\n",
      "Epoch 14/500\n",
      "715/715 [==============================] - 5s 7ms/step - loss: 6.2160 - accuracy: 0.7206 - val_loss: 5.8700 - val_accuracy: 0.7592\n",
      "Epoch 15/500\n",
      "715/715 [==============================] - 5s 7ms/step - loss: 5.8374 - accuracy: 0.7334 - val_loss: 5.5259 - val_accuracy: 0.7565\n",
      "Epoch 16/500\n",
      "715/715 [==============================] - 5s 7ms/step - loss: 5.5047 - accuracy: 0.7210 - val_loss: 5.2713 - val_accuracy: 0.7407\n",
      "Epoch 17/500\n",
      "715/715 [==============================] - 5s 7ms/step - loss: 5.1608 - accuracy: 0.7416 - val_loss: 4.9471 - val_accuracy: 0.7639\n",
      "Epoch 18/500\n",
      "715/715 [==============================] - 5s 7ms/step - loss: 4.8872 - accuracy: 0.7447 - val_loss: 4.7007 - val_accuracy: 0.7487\n",
      "Epoch 19/500\n",
      "715/715 [==============================] - 5s 7ms/step - loss: 4.6041 - accuracy: 0.7595 - val_loss: 4.4379 - val_accuracy: 0.7619\n",
      "Epoch 20/500\n",
      "715/715 [==============================] - 5s 7ms/step - loss: 4.3678 - accuracy: 0.7596 - val_loss: 4.2080 - val_accuracy: 0.7733\n",
      "Epoch 21/500\n",
      "715/715 [==============================] - 5s 7ms/step - loss: 4.1488 - accuracy: 0.7661 - val_loss: 4.0309 - val_accuracy: 0.7689\n",
      "Epoch 22/500\n",
      "715/715 [==============================] - 5s 7ms/step - loss: 3.9511 - accuracy: 0.7681 - val_loss: 3.8291 - val_accuracy: 0.7804\n",
      "Epoch 23/500\n",
      "715/715 [==============================] - 5s 7ms/step - loss: 3.7550 - accuracy: 0.7778 - val_loss: 3.6421 - val_accuracy: 0.7794\n",
      "Epoch 24/500\n",
      "715/715 [==============================] - 5s 7ms/step - loss: 3.5582 - accuracy: 0.7879 - val_loss: 3.5109 - val_accuracy: 0.7777\n",
      "Epoch 25/500\n",
      "715/715 [==============================] - 5s 7ms/step - loss: 3.4044 - accuracy: 0.7917 - val_loss: 3.3418 - val_accuracy: 0.7898\n",
      "Epoch 26/500\n",
      "715/715 [==============================] - 5s 7ms/step - loss: 3.2741 - accuracy: 0.7831 - val_loss: 3.2508 - val_accuracy: 0.7784\n",
      "Epoch 27/500\n",
      "715/715 [==============================] - 5s 7ms/step - loss: 3.1074 - accuracy: 0.8014 - val_loss: 3.0940 - val_accuracy: 0.7854\n",
      "Epoch 28/500\n",
      "715/715 [==============================] - 5s 7ms/step - loss: 2.9775 - accuracy: 0.8139 - val_loss: 2.9878 - val_accuracy: 0.7851\n",
      "Epoch 29/500\n",
      "715/715 [==============================] - 5s 7ms/step - loss: 2.8402 - accuracy: 0.8154 - val_loss: 2.9134 - val_accuracy: 0.7753\n",
      "Epoch 30/500\n",
      "715/715 [==============================] - 5s 7ms/step - loss: 2.7285 - accuracy: 0.8170 - val_loss: 2.8145 - val_accuracy: 0.7683\n",
      "Epoch 31/500\n",
      "715/715 [==============================] - 5s 7ms/step - loss: 2.6275 - accuracy: 0.8165 - val_loss: 2.7438 - val_accuracy: 0.7629\n",
      "Epoch 32/500\n",
      "715/715 [==============================] - 5s 7ms/step - loss: 2.5153 - accuracy: 0.8321 - val_loss: 2.5911 - val_accuracy: 0.7895\n",
      "Epoch 33/500\n",
      "715/715 [==============================] - 5s 7ms/step - loss: 2.4370 - accuracy: 0.8346 - val_loss: 2.5089 - val_accuracy: 0.7828\n",
      "Epoch 34/500\n",
      "715/715 [==============================] - 5s 7ms/step - loss: 2.3458 - accuracy: 0.8312 - val_loss: 2.4544 - val_accuracy: 0.7858\n",
      "Epoch 35/500\n",
      "715/715 [==============================] - 5s 7ms/step - loss: 2.2451 - accuracy: 0.8433 - val_loss: 2.3683 - val_accuracy: 0.7898\n",
      "Epoch 36/500\n",
      "715/715 [==============================] - 5s 7ms/step - loss: 2.1651 - accuracy: 0.8492 - val_loss: 2.3208 - val_accuracy: 0.7878\n",
      "Epoch 37/500\n",
      "715/715 [==============================] - 5s 7ms/step - loss: 2.0862 - accuracy: 0.8484 - val_loss: 2.2744 - val_accuracy: 0.7821\n",
      "Epoch 38/500\n",
      "715/715 [==============================] - 5s 7ms/step - loss: 2.0131 - accuracy: 0.8570 - val_loss: 2.1918 - val_accuracy: 0.7854\n",
      "Epoch 39/500\n",
      "715/715 [==============================] - 5s 7ms/step - loss: 1.9363 - accuracy: 0.8644 - val_loss: 2.1637 - val_accuracy: 0.7861\n",
      "Epoch 40/500\n",
      "715/715 [==============================] - 5s 7ms/step - loss: 1.8974 - accuracy: 0.8632 - val_loss: 2.0981 - val_accuracy: 0.7858\n",
      "Epoch 41/500\n",
      "715/715 [==============================] - 5s 7ms/step - loss: 1.8303 - accuracy: 0.8700 - val_loss: 2.0355 - val_accuracy: 0.8006\n",
      "Epoch 42/500\n",
      "715/715 [==============================] - 5s 7ms/step - loss: 1.7749 - accuracy: 0.8677 - val_loss: 2.0533 - val_accuracy: 0.7760\n",
      "Epoch 43/500\n",
      "715/715 [==============================] - 5s 7ms/step - loss: 1.7052 - accuracy: 0.8778 - val_loss: 1.9630 - val_accuracy: 0.7932\n",
      "Epoch 44/500\n",
      "715/715 [==============================] - 5s 7ms/step - loss: 1.6507 - accuracy: 0.8895 - val_loss: 1.9634 - val_accuracy: 0.7794\n",
      "Epoch 45/500\n",
      "715/715 [==============================] - 5s 7ms/step - loss: 1.6315 - accuracy: 0.8773 - val_loss: 1.8687 - val_accuracy: 0.7939\n",
      "Epoch 46/500\n",
      "715/715 [==============================] - 5s 7ms/step - loss: 1.5548 - accuracy: 0.8898 - val_loss: 1.8697 - val_accuracy: 0.7892\n",
      "Epoch 47/500\n",
      "715/715 [==============================] - 5s 7ms/step - loss: 1.5275 - accuracy: 0.8951 - val_loss: 1.8286 - val_accuracy: 0.7902\n",
      "Epoch 48/500\n",
      "715/715 [==============================] - 5s 7ms/step - loss: 1.4823 - accuracy: 0.8883 - val_loss: 1.8201 - val_accuracy: 0.8030\n",
      "Epoch 49/500\n",
      "715/715 [==============================] - 5s 7ms/step - loss: 1.4544 - accuracy: 0.8866 - val_loss: 1.8288 - val_accuracy: 0.7817\n",
      "Epoch 50/500\n",
      "715/715 [==============================] - 5s 7ms/step - loss: 1.4036 - accuracy: 0.8982 - val_loss: 1.7293 - val_accuracy: 0.7969\n",
      "Epoch 51/500\n",
      "715/715 [==============================] - 5s 7ms/step - loss: 1.3800 - accuracy: 0.8994 - val_loss: 1.7375 - val_accuracy: 0.7908\n",
      "Epoch 52/500\n",
      "715/715 [==============================] - 5s 7ms/step - loss: 1.3429 - accuracy: 0.9020 - val_loss: 1.7022 - val_accuracy: 0.8030\n",
      "Epoch 53/500\n",
      "715/715 [==============================] - 5s 7ms/step - loss: 1.2954 - accuracy: 0.9081 - val_loss: 1.7334 - val_accuracy: 0.7858\n",
      "Epoch 54/500\n",
      "715/715 [==============================] - 5s 7ms/step - loss: 1.2817 - accuracy: 0.9106 - val_loss: 1.7181 - val_accuracy: 0.7814\n",
      "Epoch 55/500\n",
      "715/715 [==============================] - 5s 7ms/step - loss: 1.2490 - accuracy: 0.9086 - val_loss: 1.7128 - val_accuracy: 0.7925\n",
      "Epoch 56/500\n",
      "715/715 [==============================] - 5s 7ms/step - loss: 1.2198 - accuracy: 0.9133 - val_loss: 1.6558 - val_accuracy: 0.7898\n",
      "Epoch 57/500\n",
      "715/715 [==============================] - 5s 7ms/step - loss: 1.1952 - accuracy: 0.9120 - val_loss: 1.6650 - val_accuracy: 0.7854\n",
      "Epoch 58/500\n",
      "715/715 [==============================] - 5s 7ms/step - loss: 1.1735 - accuracy: 0.9115 - val_loss: 1.6210 - val_accuracy: 0.7918\n",
      "Epoch 59/500\n",
      "715/715 [==============================] - 5s 7ms/step - loss: 1.1369 - accuracy: 0.9189 - val_loss: 1.6329 - val_accuracy: 0.7875\n",
      "Epoch 60/500\n",
      "715/715 [==============================] - 5s 7ms/step - loss: 1.1091 - accuracy: 0.9225 - val_loss: 1.5930 - val_accuracy: 0.7881\n",
      "Epoch 61/500\n",
      "715/715 [==============================] - 5s 7ms/step - loss: 1.0821 - accuracy: 0.9276 - val_loss: 1.5916 - val_accuracy: 0.7858\n",
      "Epoch 62/500\n",
      "715/715 [==============================] - 5s 7ms/step - loss: 1.0557 - accuracy: 0.9253 - val_loss: 1.5827 - val_accuracy: 0.7895\n",
      "Epoch 63/500\n",
      "715/715 [==============================] - 5s 7ms/step - loss: 1.0448 - accuracy: 0.9247 - val_loss: 1.5609 - val_accuracy: 0.7824\n",
      "Epoch 64/500\n",
      "715/715 [==============================] - 5s 7ms/step - loss: 1.0268 - accuracy: 0.9275 - val_loss: 1.5223 - val_accuracy: 0.7908\n",
      "Epoch 65/500\n",
      "715/715 [==============================] - 5s 7ms/step - loss: 1.0008 - accuracy: 0.9330 - val_loss: 1.5102 - val_accuracy: 0.7895\n",
      "Epoch 66/500\n",
      "715/715 [==============================] - 5s 7ms/step - loss: 0.9724 - accuracy: 0.9333 - val_loss: 1.5051 - val_accuracy: 0.7956\n",
      "Epoch 67/500\n",
      "715/715 [==============================] - 5s 7ms/step - loss: 0.9631 - accuracy: 0.9315 - val_loss: 1.4596 - val_accuracy: 0.8060\n",
      "Epoch 68/500\n",
      "715/715 [==============================] - 5s 7ms/step - loss: 0.9342 - accuracy: 0.9368 - val_loss: 1.5363 - val_accuracy: 0.7949\n",
      "Epoch 69/500\n",
      "715/715 [==============================] - 5s 7ms/step - loss: 0.9273 - accuracy: 0.9366 - val_loss: 1.5275 - val_accuracy: 0.7875\n",
      "Epoch 70/500\n",
      "715/715 [==============================] - 5s 7ms/step - loss: 0.8997 - accuracy: 0.9449 - val_loss: 1.5520 - val_accuracy: 0.7625\n",
      "Epoch 71/500\n",
      "715/715 [==============================] - 5s 7ms/step - loss: 0.8920 - accuracy: 0.9361 - val_loss: 1.4332 - val_accuracy: 0.8009\n",
      "Epoch 72/500\n",
      "715/715 [==============================] - 5s 7ms/step - loss: 0.8583 - accuracy: 0.9485 - val_loss: 1.4585 - val_accuracy: 0.7966\n",
      "Epoch 73/500\n",
      "715/715 [==============================] - 5s 7ms/step - loss: 0.8502 - accuracy: 0.9469 - val_loss: 1.4376 - val_accuracy: 0.7865\n",
      "Epoch 74/500\n",
      "715/715 [==============================] - 5s 7ms/step - loss: 0.8304 - accuracy: 0.9469 - val_loss: 1.4569 - val_accuracy: 0.7868\n",
      "Epoch 75/500\n",
      "715/715 [==============================] - 5s 7ms/step - loss: 0.8208 - accuracy: 0.9475 - val_loss: 1.4174 - val_accuracy: 0.7966\n",
      "Epoch 76/500\n",
      "715/715 [==============================] - 5s 7ms/step - loss: 0.8027 - accuracy: 0.9484 - val_loss: 1.4450 - val_accuracy: 0.7912\n",
      "Epoch 77/500\n",
      "715/715 [==============================] - 5s 7ms/step - loss: 0.7901 - accuracy: 0.9537 - val_loss: 1.3974 - val_accuracy: 0.7868\n",
      "Epoch 78/500\n",
      "715/715 [==============================] - 5s 7ms/step - loss: 0.7837 - accuracy: 0.9530 - val_loss: 1.3964 - val_accuracy: 0.7945\n",
      "Epoch 79/500\n",
      "715/715 [==============================] - 5s 7ms/step - loss: 0.7530 - accuracy: 0.9561 - val_loss: 1.4416 - val_accuracy: 0.7962\n",
      "Epoch 80/500\n",
      "715/715 [==============================] - 5s 7ms/step - loss: 0.7466 - accuracy: 0.9540 - val_loss: 1.4075 - val_accuracy: 0.7871\n",
      "Epoch 81/500\n",
      "715/715 [==============================] - 5s 7ms/step - loss: 0.7450 - accuracy: 0.9548 - val_loss: 1.3899 - val_accuracy: 0.7915\n",
      "Epoch 82/500\n",
      "715/715 [==============================] - 5s 7ms/step - loss: 0.7275 - accuracy: 0.9542 - val_loss: 1.3956 - val_accuracy: 0.7915\n",
      "Epoch 83/500\n",
      "715/715 [==============================] - 5s 7ms/step - loss: 0.7023 - accuracy: 0.9616 - val_loss: 1.3680 - val_accuracy: 0.7922\n",
      "Epoch 84/500\n",
      "715/715 [==============================] - 5s 7ms/step - loss: 0.7074 - accuracy: 0.9558 - val_loss: 1.3666 - val_accuracy: 0.7969\n",
      "Epoch 85/500\n",
      "715/715 [==============================] - 5s 7ms/step - loss: 0.6912 - accuracy: 0.9584 - val_loss: 1.3755 - val_accuracy: 0.7945\n",
      "Epoch 86/500\n",
      "715/715 [==============================] - 5s 7ms/step - loss: 0.6758 - accuracy: 0.9630 - val_loss: 1.3586 - val_accuracy: 0.7949\n",
      "Epoch 87/500\n",
      "715/715 [==============================] - 5s 7ms/step - loss: 0.6599 - accuracy: 0.9623 - val_loss: 1.3849 - val_accuracy: 0.7868\n",
      "Epoch 88/500\n",
      "715/715 [==============================] - 5s 7ms/step - loss: 0.6566 - accuracy: 0.9601 - val_loss: 1.4107 - val_accuracy: 0.7986\n",
      "Epoch 89/500\n",
      "715/715 [==============================] - 5s 7ms/step - loss: 0.6559 - accuracy: 0.9562 - val_loss: 1.3836 - val_accuracy: 0.7979\n",
      "Epoch 90/500\n",
      "715/715 [==============================] - 5s 7ms/step - loss: 0.6342 - accuracy: 0.9643 - val_loss: 1.3318 - val_accuracy: 0.7878\n",
      "Epoch 91/500\n",
      "715/715 [==============================] - 5s 7ms/step - loss: 0.6287 - accuracy: 0.9620 - val_loss: 1.3640 - val_accuracy: 0.7868\n",
      "Epoch 92/500\n",
      "715/715 [==============================] - 5s 7ms/step - loss: 0.6373 - accuracy: 0.9590 - val_loss: 1.3140 - val_accuracy: 0.7956\n",
      "Epoch 93/500\n",
      "715/715 [==============================] - 5s 7ms/step - loss: 0.6060 - accuracy: 0.9680 - val_loss: 1.3056 - val_accuracy: 0.7908\n",
      "Epoch 94/500\n",
      "715/715 [==============================] - 5s 7ms/step - loss: 0.6105 - accuracy: 0.9643 - val_loss: 1.3149 - val_accuracy: 0.7959\n",
      "Epoch 95/500\n",
      "715/715 [==============================] - 5s 7ms/step - loss: 0.5896 - accuracy: 0.9656 - val_loss: 1.3263 - val_accuracy: 0.7952\n",
      "Epoch 96/500\n",
      "715/715 [==============================] - 5s 7ms/step - loss: 0.5861 - accuracy: 0.9662 - val_loss: 1.2986 - val_accuracy: 0.7989\n",
      "Epoch 97/500\n",
      "715/715 [==============================] - 5s 7ms/step - loss: 0.5707 - accuracy: 0.9695 - val_loss: 1.2728 - val_accuracy: 0.8050\n",
      "Epoch 98/500\n",
      "715/715 [==============================] - 5s 7ms/step - loss: 0.5761 - accuracy: 0.9655 - val_loss: 1.2469 - val_accuracy: 0.8020\n",
      "Epoch 99/500\n",
      "715/715 [==============================] - 5s 7ms/step - loss: 0.5587 - accuracy: 0.9684 - val_loss: 1.2567 - val_accuracy: 0.7982\n",
      "Epoch 100/500\n",
      "715/715 [==============================] - 5s 7ms/step - loss: 0.5581 - accuracy: 0.9689 - val_loss: 1.2859 - val_accuracy: 0.7929\n",
      "Epoch 101/500\n",
      "715/715 [==============================] - 5s 7ms/step - loss: 0.5516 - accuracy: 0.9692 - val_loss: 1.2680 - val_accuracy: 0.8003\n",
      "Epoch 102/500\n",
      "715/715 [==============================] - 5s 7ms/step - loss: 0.5425 - accuracy: 0.9700 - val_loss: 1.2987 - val_accuracy: 0.7976\n",
      "Epoch 103/500\n",
      "715/715 [==============================] - 5s 7ms/step - loss: 0.5195 - accuracy: 0.9739 - val_loss: 1.3098 - val_accuracy: 0.8043\n",
      "Epoch 104/500\n",
      "715/715 [==============================] - 5s 7ms/step - loss: 0.5293 - accuracy: 0.9687 - val_loss: 1.3012 - val_accuracy: 0.8020\n",
      "Epoch 105/500\n",
      "715/715 [==============================] - 5s 7ms/step - loss: 0.5057 - accuracy: 0.9760 - val_loss: 1.2776 - val_accuracy: 0.8046\n",
      "Epoch 106/500\n",
      "715/715 [==============================] - 5s 7ms/step - loss: 0.4901 - accuracy: 0.9813 - val_loss: 1.2524 - val_accuracy: 0.8110\n",
      "Epoch 107/500\n",
      "715/715 [==============================] - 5s 7ms/step - loss: 0.4751 - accuracy: 0.9854 - val_loss: 1.2617 - val_accuracy: 0.8070\n",
      "Epoch 108/500\n",
      "715/715 [==============================] - 5s 7ms/step - loss: 0.4791 - accuracy: 0.9827 - val_loss: 1.2524 - val_accuracy: 0.8077\n",
      "Epoch 109/500\n",
      "715/715 [==============================] - 5s 7ms/step - loss: 0.4631 - accuracy: 0.9882 - val_loss: 1.2606 - val_accuracy: 0.8097\n",
      "Epoch 110/500\n",
      "715/715 [==============================] - 5s 7ms/step - loss: 0.4641 - accuracy: 0.9859 - val_loss: 1.2633 - val_accuracy: 0.8080\n",
      "Epoch 111/500\n",
      "715/715 [==============================] - 5s 7ms/step - loss: 0.4593 - accuracy: 0.9880 - val_loss: 1.2597 - val_accuracy: 0.8121\n",
      "Epoch 112/500\n",
      "715/715 [==============================] - 5s 7ms/step - loss: 0.4583 - accuracy: 0.9877 - val_loss: 1.2548 - val_accuracy: 0.8097\n",
      "Epoch 113/500\n",
      "715/715 [==============================] - 5s 7ms/step - loss: 0.4518 - accuracy: 0.9909 - val_loss: 1.2591 - val_accuracy: 0.8124\n",
      "Epoch 114/500\n",
      "715/715 [==============================] - 5s 7ms/step - loss: 0.4525 - accuracy: 0.9883 - val_loss: 1.2548 - val_accuracy: 0.8100\n",
      "Epoch 115/500\n",
      "715/715 [==============================] - 5s 7ms/step - loss: 0.4537 - accuracy: 0.9875 - val_loss: 1.2492 - val_accuracy: 0.8124\n",
      "Epoch 116/500\n",
      "715/715 [==============================] - 5s 7ms/step - loss: 0.4455 - accuracy: 0.9892 - val_loss: 1.2542 - val_accuracy: 0.8100\n",
      "Epoch 117/500\n",
      "715/715 [==============================] - 5s 7ms/step - loss: 0.4493 - accuracy: 0.9885 - val_loss: 1.2607 - val_accuracy: 0.8104\n",
      "Epoch 118/500\n",
      "715/715 [==============================] - 5s 7ms/step - loss: 0.4442 - accuracy: 0.9893 - val_loss: 1.2608 - val_accuracy: 0.8110\n",
      "Epoch 119/500\n",
      "715/715 [==============================] - 5s 7ms/step - loss: 0.4449 - accuracy: 0.9905 - val_loss: 1.2556 - val_accuracy: 0.8121\n",
      "Epoch 120/500\n",
      "715/715 [==============================] - 5s 7ms/step - loss: 0.4415 - accuracy: 0.9903 - val_loss: 1.2500 - val_accuracy: 0.8141\n",
      "Epoch 121/500\n",
      "715/715 [==============================] - 5s 7ms/step - loss: 0.4411 - accuracy: 0.9904 - val_loss: 1.2598 - val_accuracy: 0.8097\n",
      "Epoch 122/500\n",
      "715/715 [==============================] - 5s 7ms/step - loss: 0.4421 - accuracy: 0.9900 - val_loss: 1.2609 - val_accuracy: 0.8090\n",
      "Epoch 123/500\n",
      "715/715 [==============================] - 5s 8ms/step - loss: 0.4406 - accuracy: 0.9902 - val_loss: 1.2637 - val_accuracy: 0.8100\n",
      "Epoch 124/500\n",
      "715/715 [==============================] - 5s 7ms/step - loss: 0.4423 - accuracy: 0.9896 - val_loss: 1.2592 - val_accuracy: 0.8104\n",
      "Epoch 125/500\n",
      "715/715 [==============================] - 5s 7ms/step - loss: 0.4388 - accuracy: 0.9918 - val_loss: 1.2513 - val_accuracy: 0.8100\n",
      "Epoch 126/500\n",
      "715/715 [==============================] - 5s 7ms/step - loss: 0.4419 - accuracy: 0.9910 - val_loss: 1.2553 - val_accuracy: 0.8104\n",
      "Epoch 127/500\n",
      "715/715 [==============================] - 5s 7ms/step - loss: 0.4422 - accuracy: 0.9909 - val_loss: 1.2594 - val_accuracy: 0.8131\n",
      "Epoch 128/500\n",
      "715/715 [==============================] - 5s 7ms/step - loss: 0.4386 - accuracy: 0.9915 - val_loss: 1.2654 - val_accuracy: 0.8100\n",
      "Epoch 129/500\n",
      "715/715 [==============================] - 5s 7ms/step - loss: 0.4365 - accuracy: 0.9927 - val_loss: 1.2571 - val_accuracy: 0.8097\n",
      "Epoch 130/500\n",
      "715/715 [==============================] - 5s 7ms/step - loss: 0.4437 - accuracy: 0.9906 - val_loss: 1.2574 - val_accuracy: 0.8110\n",
      "Epoch 131/500\n",
      "715/715 [==============================] - 5s 7ms/step - loss: 0.4408 - accuracy: 0.9885 - val_loss: 1.2536 - val_accuracy: 0.8124\n",
      "Epoch 132/500\n",
      "715/715 [==============================] - 5s 7ms/step - loss: 0.4433 - accuracy: 0.9906 - val_loss: 1.2576 - val_accuracy: 0.8094\n",
      "Epoch 133/500\n",
      "715/715 [==============================] - 5s 7ms/step - loss: 0.4427 - accuracy: 0.9898 - val_loss: 1.2550 - val_accuracy: 0.8110\n",
      "Epoch 134/500\n",
      "715/715 [==============================] - 5s 7ms/step - loss: 0.4367 - accuracy: 0.9920 - val_loss: 1.2576 - val_accuracy: 0.8110\n",
      "Epoch 135/500\n",
      "715/715 [==============================] - 5s 7ms/step - loss: 0.4421 - accuracy: 0.9897 - val_loss: 1.2608 - val_accuracy: 0.8100\n",
      "Epoch 00135: early stopping\n",
      "---  Training time in seconds ---697.240318775177 \n"
     ]
    }
   ],
   "source": [
    "start_time = time.time()\n",
    "history_2 = model_cellType.fit(train_datagen2, \n",
    "                               validation_data=(test_img_X2, test_Y2), \n",
    "                               batch_size=BATCH_SIZE, \n",
    "                               epochs=EPOCHS, \n",
    "                               verbose=1,\n",
    "                               callbacks=[reduce_lr, early])\n",
    "\n",
    "print(\"---  Training cellType model in seconds ---%s \" % (time.time() - start_time))"
   ]
  },
  {
   "cell_type": "code",
   "execution_count": null,
   "metadata": {
    "colab": {
     "base_uri": "https://localhost:8080/"
    },
    "id": "QZq5uQdYHA1W",
    "outputId": "6067ed4a-c533-4265-edd1-825242ec06d5"
   },
   "outputs": [
    {
     "name": "stdout",
     "output_type": "stream",
     "text": [
      "BEST_MIDNIGHT_(20/05/2021 18:46:09).h5\n"
     ]
    }
   ],
   "source": [
    "from datetime import datetime\n",
    "dt_string = datetime.now().strftime(\"%d/%m/%Y %H:%M:%S\")\n",
    "export1 = 'BEST_ISCANCEROUS_({ft}).h5'.format(ft=dt_string)\n",
    "export2 = 'BEST_CELLTYPE_({ft}).h5'.format(ft=dt_string)\n",
    "\n",
    "print(export1)\n",
    "print(export2)\n",
    "\n",
    "model_isCancerous.save(export1)\n",
    "model_cellType.save(export2)"
   ]
  },
  {
   "cell_type": "code",
   "execution_count": null,
   "metadata": {
    "colab": {
     "base_uri": "https://localhost:8080/",
     "height": 641
    },
    "id": "vJArn-uEHA1W",
    "outputId": "c5413c6a-2c78-485b-dd03-7bcf3a523201"
   },
   "outputs": [
    {
     "name": "stdout",
     "output_type": "stream",
     "text": [
      "93/93 [==============================] - 0s 4ms/step - loss: 1.2608 - accuracy: 0.8100\n",
      "Validation loss: 1.260782241821289\n",
      "Validation accuracy: 0.8100370764732361\n",
      "Max Validation accuracy: 0.9922202825546265\n"
     ]
    },
    {
     "data": {
      "image/png": "[encoded data removed]",
      "text/plain": [
       "<Figure size 432x288 with 1 Axes>"
      ]
     },
     "metadata": {
      "tags": []
     },
     "output_type": "display_data"
    },
    {
     "data": {
      "image/png": "[encoded data removed]",
      "text/plain": [
       "<Figure size 432x288 with 1 Axes>"
      ]
     },
     "metadata": {
      "tags": []
     },
     "output_type": "display_data"
    }
   ],
   "source": [
    "scores_isCancerous = model_isCancerous.evaluate(test_img_X2, test_Y2, verbose=1)\n",
    "print('Validation loss:', scores_isCancerous[0])\n",
    "print('Validation accuracy:', scores_isCancerous[1])\n",
    "print('Max Validation accuracy:', max(history1.history['accuracy']))\n",
    "\n",
    "# summarize history for accuracy\n",
    "plt.plot(history1.history['accuracy'])\n",
    "plt.plot(history1.history['val_accuracy'])\n",
    "plt.title('Model accuracy')\n",
    "plt.ylabel('Accuracy')\n",
    "plt.xlabel('Epoch')\n",
    "plt.legend(['Train', 'Validation'], loc='upper left')\n",
    "plt.show()\n",
    "# summarize history for loss\n",
    "plt.plot(history1.history['loss'])\n",
    "plt.plot(history1.history['val_loss'])\n",
    "plt.title('Model loss')\n",
    "plt.ylabel('Loss')\n",
    "plt.xlabel('Epoch')\n",
    "plt.legend(['Train', 'Validation'], loc='upper right')\n",
    "plt.show()"
   ]
  },
  {
   "cell_type": "code",
   "execution_count": null,
   "metadata": {
    "id": "45unqWwKGdeN"
   },
   "outputs": [],
   "source": [
    "scores_cellType = model_cellType.evaluate(test_img_X2, test_Y2, verbose=1)\n",
    "print('Validation loss:', scores_cellType[0])\n",
    "print('Validation accuracy:', scores_cellType[1])\n",
    "print('Max Validation accuracy:', max(history2.history['accuracy']))\n",
    "\n",
    "# summarize history for accuracy\n",
    "plt.plot(history2.history['accuracy'])\n",
    "plt.plot(history2.history['val_accuracy'])\n",
    "plt.title('Model accuracy')\n",
    "plt.ylabel('Accuracy')\n",
    "plt.xlabel('Epoch')\n",
    "plt.legend(['Train', 'Validation'], loc='upper left')\n",
    "plt.show()\n",
    "# summarize history for loss\n",
    "plt.plot(history2.history['loss'])\n",
    "plt.plot(history2.history['val_loss'])\n",
    "plt.title('Model loss')\n",
    "plt.ylabel('Loss')\n",
    "plt.xlabel('Epoch')\n",
    "plt.legend(['Train', 'Validation'], loc='upper right')\n",
    "plt.show()"
   ]
  }
 ],
 "metadata": {
  "accelerator": "GPU",
  "colab": {
   "collapsed_sections": [
    "ThY-OK4s58fv",
    "oa7VxhaSHA1Q",
    "qlNALzSZHA1R"
   ],
   "name": "COSC2753 - Assignment 2 - MK Sapiens.ipynb",
   "provenance": [],
   "toc_visible": true
  },
  "kernelspec": {
   "display_name": "Python 3",
   "language": "python",
   "name": "python3"
  },
  "language_info": {
   "codemirror_mode": {
    "name": "ipython",
    "version": 3
   },
   "file_extension": ".py",
   "mimetype": "text/x-python",
   "name": "python",
   "nbconvert_exporter": "python",
   "pygments_lexer": "ipython3",
   "version": "3.8.5"
  },
  "toc": {
   "base_numbering": 1,
   "nav_menu": {},
   "number_sections": false,
   "sideBar": true,
   "skip_h1_title": false,
   "title_cell": "Table of Contents",
   "title_sidebar": "Contents",
   "toc_cell": false,
   "toc_position": {},
   "toc_section_display": true,
   "toc_window_display": true
  }
 },
 "nbformat": 4,
 "nbformat_minor": 1
}
