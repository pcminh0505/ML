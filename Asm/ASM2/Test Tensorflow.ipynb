{
 "cells": [
  {
   "cell_type": "markdown",
   "id": "7bd294c5",
   "metadata": {},
   "source": [
    "## Installation needed"
   ]
  },
  {
   "cell_type": "code",
   "execution_count": 1,
   "id": "6478fcf0",
   "metadata": {
    "ExecuteTime": {
     "end_time": "2021-05-12T04:18:17.366673Z",
     "start_time": "2021-05-12T04:18:17.351708Z"
    }
   },
   "outputs": [],
   "source": [
    "# !pip install tensorflow\n",
    "# !pip install opencv-python\n",
    "# !pip install keras"
   ]
  },
  {
   "cell_type": "markdown",
   "id": "9dbadcf6",
   "metadata": {},
   "source": [
    "## Import libraries"
   ]
  },
  {
   "cell_type": "code",
   "execution_count": 1,
   "id": "f5d362d0",
   "metadata": {
    "ExecuteTime": {
     "end_time": "2021-05-13T07:00:41.646580Z",
     "start_time": "2021-05-13T07:00:34.589257Z"
    }
   },
   "outputs": [
    {
     "name": "stdout",
     "output_type": "stream",
     "text": [
      "Using Tensorflow version: 2.4.1\n"
     ]
    }
   ],
   "source": [
    "import pandas as pd\n",
    "import numpy as np\n",
    "import matplotlib.pyplot as plt\n",
    "%matplotlib inline \n",
    "plt.style.use('dark_background')\n",
    "import seaborn as sns\n",
    "from tqdm import tqdm\n",
    "\n",
    "import cv2\n",
    "import os\n",
    "import tensorflow as tf\n",
    "import sklearn as sk\n",
    "\n",
    "import warnings\n",
    "warnings.filterwarnings('ignore')\n",
    "\n",
    "print('Using Tensorflow version:', tf.__version__)"
   ]
  },
  {
   "cell_type": "markdown",
   "id": "6427ddd4",
   "metadata": {},
   "source": [
    "## Import files"
   ]
  },
  {
   "cell_type": "code",
   "execution_count": 2,
   "id": "4019fb89",
   "metadata": {
    "ExecuteTime": {
     "end_time": "2021-05-13T07:00:41.723407Z",
     "start_time": "2021-05-13T07:00:41.648568Z"
    }
   },
   "outputs": [],
   "source": [
    "main_data = pd.read_csv('data_labels_mainData.csv')\n",
    "extra_data = pd.read_csv('data_labels_extraData.csv')"
   ]
  },
  {
   "cell_type": "code",
   "execution_count": 3,
   "id": "4862c470",
   "metadata": {
    "ExecuteTime": {
     "end_time": "2021-05-13T07:00:41.769804Z",
     "start_time": "2021-05-13T07:00:41.726405Z"
    }
   },
   "outputs": [
    {
     "data": {
      "text/html": [
       "<div>\n",
       "<style scoped>\n",
       "    .dataframe tbody tr th:only-of-type {\n",
       "        vertical-align: middle;\n",
       "    }\n",
       "\n",
       "    .dataframe tbody tr th {\n",
       "        vertical-align: top;\n",
       "    }\n",
       "\n",
       "    .dataframe thead th {\n",
       "        text-align: right;\n",
       "    }\n",
       "</style>\n",
       "<table border=\"1\" class=\"dataframe\">\n",
       "  <thead>\n",
       "    <tr style=\"text-align: right;\">\n",
       "      <th></th>\n",
       "      <th>InstanceID</th>\n",
       "      <th>patientID</th>\n",
       "      <th>ImageName</th>\n",
       "      <th>cellTypeName</th>\n",
       "      <th>cellType</th>\n",
       "      <th>isCancerous</th>\n",
       "    </tr>\n",
       "  </thead>\n",
       "  <tbody>\n",
       "    <tr>\n",
       "      <th>0</th>\n",
       "      <td>22405</td>\n",
       "      <td>1</td>\n",
       "      <td>22405.png</td>\n",
       "      <td>fibroblast</td>\n",
       "      <td>0</td>\n",
       "      <td>0</td>\n",
       "    </tr>\n",
       "    <tr>\n",
       "      <th>1</th>\n",
       "      <td>22406</td>\n",
       "      <td>1</td>\n",
       "      <td>22406.png</td>\n",
       "      <td>fibroblast</td>\n",
       "      <td>0</td>\n",
       "      <td>0</td>\n",
       "    </tr>\n",
       "    <tr>\n",
       "      <th>2</th>\n",
       "      <td>22407</td>\n",
       "      <td>1</td>\n",
       "      <td>22407.png</td>\n",
       "      <td>fibroblast</td>\n",
       "      <td>0</td>\n",
       "      <td>0</td>\n",
       "    </tr>\n",
       "    <tr>\n",
       "      <th>3</th>\n",
       "      <td>22408</td>\n",
       "      <td>1</td>\n",
       "      <td>22408.png</td>\n",
       "      <td>fibroblast</td>\n",
       "      <td>0</td>\n",
       "      <td>0</td>\n",
       "    </tr>\n",
       "    <tr>\n",
       "      <th>4</th>\n",
       "      <td>22409</td>\n",
       "      <td>1</td>\n",
       "      <td>22409.png</td>\n",
       "      <td>fibroblast</td>\n",
       "      <td>0</td>\n",
       "      <td>0</td>\n",
       "    </tr>\n",
       "    <tr>\n",
       "      <th>...</th>\n",
       "      <td>...</td>\n",
       "      <td>...</td>\n",
       "      <td>...</td>\n",
       "      <td>...</td>\n",
       "      <td>...</td>\n",
       "      <td>...</td>\n",
       "    </tr>\n",
       "    <tr>\n",
       "      <th>9891</th>\n",
       "      <td>1625</td>\n",
       "      <td>60</td>\n",
       "      <td>1625.png</td>\n",
       "      <td>epithelial</td>\n",
       "      <td>2</td>\n",
       "      <td>1</td>\n",
       "    </tr>\n",
       "    <tr>\n",
       "      <th>9892</th>\n",
       "      <td>1626</td>\n",
       "      <td>60</td>\n",
       "      <td>1626.png</td>\n",
       "      <td>epithelial</td>\n",
       "      <td>2</td>\n",
       "      <td>1</td>\n",
       "    </tr>\n",
       "    <tr>\n",
       "      <th>9893</th>\n",
       "      <td>1627</td>\n",
       "      <td>60</td>\n",
       "      <td>1627.png</td>\n",
       "      <td>epithelial</td>\n",
       "      <td>2</td>\n",
       "      <td>1</td>\n",
       "    </tr>\n",
       "    <tr>\n",
       "      <th>9894</th>\n",
       "      <td>1628</td>\n",
       "      <td>60</td>\n",
       "      <td>1628.png</td>\n",
       "      <td>epithelial</td>\n",
       "      <td>2</td>\n",
       "      <td>1</td>\n",
       "    </tr>\n",
       "    <tr>\n",
       "      <th>9895</th>\n",
       "      <td>1629</td>\n",
       "      <td>60</td>\n",
       "      <td>1629.png</td>\n",
       "      <td>epithelial</td>\n",
       "      <td>2</td>\n",
       "      <td>1</td>\n",
       "    </tr>\n",
       "  </tbody>\n",
       "</table>\n",
       "<p>9896 rows × 6 columns</p>\n",
       "</div>"
      ],
      "text/plain": [
       "      InstanceID  patientID  ImageName cellTypeName  cellType  isCancerous\n",
       "0          22405          1  22405.png   fibroblast         0            0\n",
       "1          22406          1  22406.png   fibroblast         0            0\n",
       "2          22407          1  22407.png   fibroblast         0            0\n",
       "3          22408          1  22408.png   fibroblast         0            0\n",
       "4          22409          1  22409.png   fibroblast         0            0\n",
       "...          ...        ...        ...          ...       ...          ...\n",
       "9891        1625         60   1625.png   epithelial         2            1\n",
       "9892        1626         60   1626.png   epithelial         2            1\n",
       "9893        1627         60   1627.png   epithelial         2            1\n",
       "9894        1628         60   1628.png   epithelial         2            1\n",
       "9895        1629         60   1629.png   epithelial         2            1\n",
       "\n",
       "[9896 rows x 6 columns]"
      ]
     },
     "execution_count": 3,
     "metadata": {},
     "output_type": "execute_result"
    }
   ],
   "source": [
    "main_data"
   ]
  },
  {
   "cell_type": "code",
   "execution_count": 4,
   "id": "1163d96e",
   "metadata": {
    "ExecuteTime": {
     "end_time": "2021-05-13T07:00:41.784792Z",
     "start_time": "2021-05-13T07:00:41.771799Z"
    }
   },
   "outputs": [
    {
     "data": {
      "text/html": [
       "<div>\n",
       "<style scoped>\n",
       "    .dataframe tbody tr th:only-of-type {\n",
       "        vertical-align: middle;\n",
       "    }\n",
       "\n",
       "    .dataframe tbody tr th {\n",
       "        vertical-align: top;\n",
       "    }\n",
       "\n",
       "    .dataframe thead th {\n",
       "        text-align: right;\n",
       "    }\n",
       "</style>\n",
       "<table border=\"1\" class=\"dataframe\">\n",
       "  <thead>\n",
       "    <tr style=\"text-align: right;\">\n",
       "      <th></th>\n",
       "      <th>InstanceID</th>\n",
       "      <th>patientID</th>\n",
       "      <th>ImageName</th>\n",
       "      <th>isCancerous</th>\n",
       "    </tr>\n",
       "  </thead>\n",
       "  <tbody>\n",
       "    <tr>\n",
       "      <th>0</th>\n",
       "      <td>12681</td>\n",
       "      <td>61</td>\n",
       "      <td>12681.png</td>\n",
       "      <td>0</td>\n",
       "    </tr>\n",
       "    <tr>\n",
       "      <th>1</th>\n",
       "      <td>12682</td>\n",
       "      <td>61</td>\n",
       "      <td>12682.png</td>\n",
       "      <td>0</td>\n",
       "    </tr>\n",
       "    <tr>\n",
       "      <th>2</th>\n",
       "      <td>12683</td>\n",
       "      <td>61</td>\n",
       "      <td>12683.png</td>\n",
       "      <td>0</td>\n",
       "    </tr>\n",
       "    <tr>\n",
       "      <th>3</th>\n",
       "      <td>12684</td>\n",
       "      <td>61</td>\n",
       "      <td>12684.png</td>\n",
       "      <td>0</td>\n",
       "    </tr>\n",
       "    <tr>\n",
       "      <th>4</th>\n",
       "      <td>12685</td>\n",
       "      <td>61</td>\n",
       "      <td>12685.png</td>\n",
       "      <td>0</td>\n",
       "    </tr>\n",
       "    <tr>\n",
       "      <th>...</th>\n",
       "      <td>...</td>\n",
       "      <td>...</td>\n",
       "      <td>...</td>\n",
       "      <td>...</td>\n",
       "    </tr>\n",
       "    <tr>\n",
       "      <th>10379</th>\n",
       "      <td>20028</td>\n",
       "      <td>99</td>\n",
       "      <td>20028.png</td>\n",
       "      <td>0</td>\n",
       "    </tr>\n",
       "    <tr>\n",
       "      <th>10380</th>\n",
       "      <td>20029</td>\n",
       "      <td>99</td>\n",
       "      <td>20029.png</td>\n",
       "      <td>0</td>\n",
       "    </tr>\n",
       "    <tr>\n",
       "      <th>10381</th>\n",
       "      <td>20030</td>\n",
       "      <td>99</td>\n",
       "      <td>20030.png</td>\n",
       "      <td>0</td>\n",
       "    </tr>\n",
       "    <tr>\n",
       "      <th>10382</th>\n",
       "      <td>20031</td>\n",
       "      <td>99</td>\n",
       "      <td>20031.png</td>\n",
       "      <td>0</td>\n",
       "    </tr>\n",
       "    <tr>\n",
       "      <th>10383</th>\n",
       "      <td>20032</td>\n",
       "      <td>99</td>\n",
       "      <td>20032.png</td>\n",
       "      <td>0</td>\n",
       "    </tr>\n",
       "  </tbody>\n",
       "</table>\n",
       "<p>10384 rows × 4 columns</p>\n",
       "</div>"
      ],
      "text/plain": [
       "       InstanceID  patientID  ImageName  isCancerous\n",
       "0           12681         61  12681.png            0\n",
       "1           12682         61  12682.png            0\n",
       "2           12683         61  12683.png            0\n",
       "3           12684         61  12684.png            0\n",
       "4           12685         61  12685.png            0\n",
       "...           ...        ...        ...          ...\n",
       "10379       20028         99  20028.png            0\n",
       "10380       20029         99  20029.png            0\n",
       "10381       20030         99  20030.png            0\n",
       "10382       20031         99  20031.png            0\n",
       "10383       20032         99  20032.png            0\n",
       "\n",
       "[10384 rows x 4 columns]"
      ]
     },
     "execution_count": 4,
     "metadata": {},
     "output_type": "execute_result"
    }
   ],
   "source": [
    "extra_data"
   ]
  },
  {
   "cell_type": "markdown",
   "id": "fa6d33b7",
   "metadata": {},
   "source": [
    "## Image inspect"
   ]
  },
  {
   "cell_type": "code",
   "execution_count": 24,
   "id": "c37301ba",
   "metadata": {
    "ExecuteTime": {
     "end_time": "2021-05-13T07:30:34.456990Z",
     "start_time": "2021-05-13T07:30:34.419405Z"
    }
   },
   "outputs": [
    {
     "name": "stdout",
     "output_type": "stream",
     "text": [
      "['22405.png', '22406.png', '22407.png', '22408.png']\n",
      "['22417.png', '22418.png', '22419.png', '22420.png']\n",
      "['276.png', '277.png', '278.png', '279.png']\n",
      "['22423.png', '22424.png', '19061.png', '19062.png']\n"
     ]
    }
   ],
   "source": [
    "# Prepare some image of each class\n",
    "cell0 = main_data['ImageName'].loc[main_data['cellType'] == 0][:4].tolist()\n",
    "cell1 = main_data['ImageName'].loc[main_data['cellType'] == 1][:4].tolist()\n",
    "cell2 = main_data['ImageName'].loc[main_data['cellType'] == 2][:4].tolist()\n",
    "cell3 = main_data['ImageName'].loc[main_data['cellType'] == 3][:4].tolist()\n",
    "\n",
    "print(cell0)\n",
    "print(cell1)\n",
    "print(cell2)\n",
    "print(cell3)"
   ]
  },
  {
   "cell_type": "code",
   "execution_count": 37,
   "id": "27601606",
   "metadata": {
    "ExecuteTime": {
     "end_time": "2021-05-13T07:49:37.278925Z",
     "start_time": "2021-05-13T07:49:35.762241Z"
    }
   },
   "outputs": [
    {
     "data": {
      "image/png": "[encoded data removed]",
      "text/plain": [
       "<Figure size 432x288 with 4 Axes>"
      ]
     },
     "metadata": {},
     "output_type": "display_data"
    },
    {
     "data": {
      "image/png": "[encoded data removed]",
      "text/plain": [
       "<Figure size 432x288 with 4 Axes>"
      ]
     },
     "metadata": {},
     "output_type": "display_data"
    },
    {
     "data": {
      "image/png": "[encoded data removed]",
      "text/plain": [
       "<Figure size 432x288 with 4 Axes>"
      ]
     },
     "metadata": {},
     "output_type": "display_data"
    },
    {
     "data": {
      "image/png": "[encoded data removed]",
      "text/plain": [
       "<Figure size 432x288 with 4 Axes>"
      ]
     },
     "metadata": {},
     "output_type": "display_data"
    }
   ],
   "source": [
    "# CHANGE THE DIRECTORY IN YOUR LOCAL MACHINE\n",
    "directory = r\"C:\\Users\\luong\\Documents\\GitHub\\ML\\Asm\\ASM2\\patch_images\"\n",
    "\n",
    "for i in range (4):\n",
    "    cell_0 = cv2.imread(os.path.join(directory, cell0[i]))\n",
    "    cell_1 = cv2.imread(os.path.join(directory, cell1[i]))\n",
    "    cell_2 = cv2.imread(os.path.join(directory, cell2[i]))\n",
    "    cell_3 = cv2.imread(os.path.join(directory, cell3[i]))\n",
    "\n",
    "    fig, ((ax1, ax2), (ax3, ax4)) = plt.subplots(2, 2)\n",
    "    \n",
    "    ax1.title.set_text(\"Cell 0: Fibroblast \")\n",
    "    ax1.imshow(cell_0)\n",
    "    \n",
    "    ax2.title.set_text(\"Cell 1: Inflammatory\")\n",
    "    ax2.imshow(cell_1)\n",
    "    \n",
    "    ax3.title.set_text(\"Cell 2: Epithelial \")\n",
    "    ax3.imshow(cell_2)\n",
    "    \n",
    "    ax4.title.set_text(\"Cell 3: Others\")\n",
    "    ax4.imshow(cell_3)\n",
    "\n",
    "    for ax in fig.get_axes():\n",
    "        ax.label_outer()"
   ]
  },
  {
   "cell_type": "markdown",
   "id": "8825e559",
   "metadata": {},
   "source": [
    "## Prepare data"
   ]
  },
  {
   "cell_type": "code",
   "execution_count": 38,
   "id": "4896a980",
   "metadata": {
    "ExecuteTime": {
     "end_time": "2021-05-13T07:58:16.712098Z",
     "start_time": "2021-05-13T07:58:16.428189Z"
    }
   },
   "outputs": [
    {
     "name": "stdout",
     "output_type": "stream",
     "text": [
      "Train data : 5304, Val Data: 1326, Test Data: 3266\n"
     ]
    }
   ],
   "source": [
    "from sklearn.model_selection import train_test_split\n",
    "X = main_data['ImageName']\n",
    "y = main_data['cellType']\n",
    "\n",
    "train_X, test_X, train_Y, test_Y = train_test_split(X, y, test_size=0.33)\n",
    "train_X, val_X, train_Y, val_Y = train_test_split(train_X, train_Y, test_size=0.2)\n",
    "\n",
    "print(\"Train data : {}, Val Data: {}, Test Data: {}\".format(train_X.shape[0], val_X.shape[0], test_X.shape[0]))"
   ]
  },
  {
   "cell_type": "code",
   "execution_count": 39,
   "id": "575898ad",
   "metadata": {
    "ExecuteTime": {
     "end_time": "2021-05-13T07:58:19.483947Z",
     "start_time": "2021-05-13T07:58:19.472725Z"
    }
   },
   "outputs": [],
   "source": [
    "train_Y = train_Y.ravel()\n",
    "val_Y = val_Y.ravel()\n",
    "test_Y = test_Y.ravel()"
   ]
  },
  {
   "cell_type": "markdown",
   "id": "9576ba96",
   "metadata": {},
   "source": [
    "## Transfer to image array"
   ]
  },
  {
   "cell_type": "code",
   "execution_count": 40,
   "id": "60469feb",
   "metadata": {
    "ExecuteTime": {
     "end_time": "2021-05-13T07:58:22.440816Z",
     "start_time": "2021-05-13T07:58:22.427286Z"
    }
   },
   "outputs": [],
   "source": [
    "def create_train_data(directory, img_list):\n",
    "    IMAGE_SIZE = 27\n",
    "    train_data = []\n",
    "    for img in tqdm(img_list, desc='Extracting Image Progress'):\n",
    "        path = os.path.join(directory, img)\n",
    "        img = cv2.resize(cv2.imread(path), (IMAGE_SIZE,IMAGE_SIZE))\n",
    "        train_data.append(np.array(img))\n",
    "    print(\"Successfully import images!\")\n",
    "    # Convert to np.array and normalize pixel values to be between 0 and 1 \n",
    "    return np.array(train_data).astype('float32') / 255.0 "
   ]
  },
  {
   "cell_type": "code",
   "execution_count": 42,
   "id": "11efceda",
   "metadata": {
    "ExecuteTime": {
     "end_time": "2021-05-13T07:59:39.045121Z",
     "start_time": "2021-05-13T07:59:37.531238Z"
    }
   },
   "outputs": [
    {
     "name": "stderr",
     "output_type": "stream",
     "text": [
      "Extracting Image Progress: 100%|█████████████████████████████████████████████████| 5304/5304 [00:00<00:00, 6776.30it/s]\n",
      "Extracting Image Progress:  46%|██████████████████████▉                           | 608/1326 [00:00<00:00, 6073.16it/s]"
     ]
    },
    {
     "name": "stdout",
     "output_type": "stream",
     "text": [
      "Successfully import images!\n"
     ]
    },
    {
     "name": "stderr",
     "output_type": "stream",
     "text": [
      "Extracting Image Progress: 100%|█████████████████████████████████████████████████| 1326/1326 [00:00<00:00, 6940.68it/s]\n",
      "Extracting Image Progress:  20%|██████████                                        | 655/3266 [00:00<00:00, 6527.19it/s]"
     ]
    },
    {
     "name": "stdout",
     "output_type": "stream",
     "text": [
      "Successfully import images!\n"
     ]
    },
    {
     "name": "stderr",
     "output_type": "stream",
     "text": [
      "Extracting Image Progress: 100%|█████████████████████████████████████████████████| 3266/3266 [00:00<00:00, 7754.45it/s]"
     ]
    },
    {
     "name": "stdout",
     "output_type": "stream",
     "text": [
      "Successfully import images!\n"
     ]
    },
    {
     "name": "stderr",
     "output_type": "stream",
     "text": [
      "\n"
     ]
    }
   ],
   "source": [
    "# CHANGE THE PATH TO IMAGE FOLDER IN YOUR LOCAL DEVICE!\n",
    "path = r\"C:\\Users\\luong\\Documents\\GitHub\\ML\\Asm\\ASM2\\patch_images\"\n",
    "\n",
    "train_X_img = create_train_data(path, train_X.tolist())\n",
    "val_X_img = create_train_data(path, val_X.tolist())\n",
    "test_X_img = create_train_data(path, test_X.tolist())"
   ]
  },
  {
   "cell_type": "code",
   "execution_count": 46,
   "id": "0e42d6d4",
   "metadata": {
    "ExecuteTime": {
     "end_time": "2021-05-13T08:00:42.053580Z",
     "start_time": "2021-05-13T08:00:42.035056Z"
    }
   },
   "outputs": [],
   "source": [
    "# Data augmentation\n",
    "from tensorflow.keras.preprocessing.image import ImageDataGenerator\n",
    "train_datagen = ImageDataGenerator(featurewise_center=True,\n",
    "                                   featurewise_std_normalization=True, \n",
    "                                   rotation_range=20, \n",
    "                                   shear_range=0.2, \n",
    "                                   zoom_range=0.2, \n",
    "                                   horizontal_flip=True, \n",
    "                                   fill_mode='nearest', \n",
    "                                   width_shift_range=0.2, \n",
    "                                   height_shift_range=0.2)"
   ]
  },
  {
   "cell_type": "code",
   "execution_count": 47,
   "id": "6d72b8ef",
   "metadata": {
    "ExecuteTime": {
     "end_time": "2021-05-13T08:45:06.043142Z",
     "start_time": "2021-05-13T08:45:05.945354Z"
    }
   },
   "outputs": [],
   "source": [
    "train_it = train_datagen.flow(train_X_img, train_Y)"
   ]
  },
  {
   "cell_type": "code",
   "execution_count": 60,
   "id": "fea66f9b",
   "metadata": {
    "ExecuteTime": {
     "end_time": "2021-05-13T09:12:08.262357Z",
     "start_time": "2021-05-13T09:12:07.717655Z"
    }
   },
   "outputs": [
    {
     "name": "stdout",
     "output_type": "stream",
     "text": [
      "Model: \"sequential_3\"\n",
      "_________________________________________________________________\n",
      "Layer (type)                 Output Shape              Param #   \n",
      "=================================================================\n",
      "conv2d_9 (Conv2D)            (None, 27, 27, 32)        896       \n",
      "_________________________________________________________________\n",
      "batch_normalization_11 (Batc (None, 27, 27, 32)        128       \n",
      "_________________________________________________________________\n",
      "conv2d_10 (Conv2D)           (None, 25, 25, 32)        9248      \n",
      "_________________________________________________________________\n",
      "batch_normalization_12 (Batc (None, 25, 25, 32)        128       \n",
      "_________________________________________________________________\n",
      "max_pooling2d_4 (MaxPooling2 (None, 12, 12, 32)        0         \n",
      "_________________________________________________________________\n",
      "conv2d_11 (Conv2D)           (None, 12, 12, 64)        18496     \n",
      "_________________________________________________________________\n",
      "batch_normalization_13 (Batc (None, 12, 12, 64)        256       \n",
      "_________________________________________________________________\n",
      "conv2d_12 (Conv2D)           (None, 10, 10, 64)        36928     \n",
      "_________________________________________________________________\n",
      "batch_normalization_14 (Batc (None, 10, 10, 64)        256       \n",
      "_________________________________________________________________\n",
      "max_pooling2d_5 (MaxPooling2 (None, 5, 5, 64)          0         \n",
      "_________________________________________________________________\n",
      "flatten_2 (Flatten)          (None, 1600)              0         \n",
      "_________________________________________________________________\n",
      "dense_4 (Dense)              (None, 512)               819712    \n",
      "_________________________________________________________________\n",
      "batch_normalization_15 (Batc (None, 512)               2048      \n",
      "_________________________________________________________________\n",
      "dropout_2 (Dropout)          (None, 512)               0         \n",
      "_________________________________________________________________\n",
      "dense_5 (Dense)              (None, 512)               262656    \n",
      "_________________________________________________________________\n",
      "batch_normalization_16 (Batc (None, 512)               2048      \n",
      "_________________________________________________________________\n",
      "dropout_3 (Dropout)          (None, 512)               0         \n",
      "_________________________________________________________________\n",
      "dense_6 (Dense)              (None, 4)                 2052      \n",
      "=================================================================\n",
      "Total params: 1,154,852\n",
      "Trainable params: 1,152,420\n",
      "Non-trainable params: 2,432\n",
      "_________________________________________________________________\n"
     ]
    }
   ],
   "source": [
    "from tensorflow.keras.models import Sequential\n",
    "from tensorflow.keras.layers import Dense, Conv2D, MaxPooling2D , Flatten, BatchNormalization, Dropout\n",
    "\n",
    "model = Sequential()\n",
    "model.add(Conv2D(32, (3, 3), activation='relu', padding='same', input_shape=(27,27, 3)))\n",
    "model.add(BatchNormalization())\n",
    "model.add(Conv2D(32, (3, 3), activation='relu'))\n",
    "model.add(BatchNormalization())\n",
    "model.add(MaxPooling2D(pool_size=(2, 2)))\n",
    "\n",
    "model.add(Conv2D(64, (3, 3), activation='relu', padding='same'))\n",
    "model.add(BatchNormalization())\n",
    "model.add(Conv2D(64, (3, 3), activation='relu'))\n",
    "model.add(BatchNormalization())\n",
    "model.add(MaxPooling2D(pool_size=(2, 2)))\n",
    "\n",
    "model.add(Flatten())\n",
    "model.add(Dense(512, activation='relu'))\n",
    "model.add(BatchNormalization())\n",
    "model.add(Dropout(0.2))\n",
    "model.add(Dense(512, activation='relu'))\n",
    "model.add(BatchNormalization())\n",
    "model.add(Dropout(0.2))\n",
    "model.add(Dense(4, activation='softmax'))\n",
    "model.summary()"
   ]
  },
  {
   "cell_type": "code",
   "execution_count": 61,
   "id": "cf8c6db3",
   "metadata": {
    "ExecuteTime": {
     "end_time": "2021-05-13T09:12:14.324383Z",
     "start_time": "2021-05-13T09:12:14.301348Z"
    }
   },
   "outputs": [],
   "source": [
    "from tensorflow.keras.optimizers import Adam\n",
    "\n",
    "opt = Adam(lr=0.000001)\n",
    "model.compile(optimizer = opt , \n",
    "              loss = 'sparse_categorical_crossentropy', \n",
    "              metrics = ['accuracy'])"
   ]
  },
  {
   "cell_type": "code",
   "execution_count": 15,
   "id": "12ee78da",
   "metadata": {
    "ExecuteTime": {
     "end_time": "2021-05-11T10:44:37.466000Z",
     "start_time": "2021-05-11T10:44:37.439725Z"
    }
   },
   "outputs": [
    {
     "name": "stdout",
     "output_type": "stream",
     "text": [
      "Model: \"sequential\"\n",
      "_________________________________________________________________\n",
      "Layer (type)                 Output Shape              Param #   \n",
      "=================================================================\n",
      "conv2d (Conv2D)              (None, 27, 27, 64)        1792      \n",
      "_________________________________________________________________\n",
      "conv2d_1 (Conv2D)            (None, 27, 27, 64)        36928     \n",
      "_________________________________________________________________\n",
      "max_pooling2d (MaxPooling2D) (None, 13, 13, 64)        0         \n",
      "_________________________________________________________________\n",
      "conv2d_2 (Conv2D)            (None, 13, 13, 128)       73856     \n",
      "_________________________________________________________________\n",
      "conv2d_3 (Conv2D)            (None, 13, 13, 128)       147584    \n",
      "_________________________________________________________________\n",
      "max_pooling2d_1 (MaxPooling2 (None, 6, 6, 128)         0         \n",
      "_________________________________________________________________\n",
      "conv2d_4 (Conv2D)            (None, 6, 6, 256)         295168    \n",
      "_________________________________________________________________\n",
      "conv2d_5 (Conv2D)            (None, 6, 6, 256)         590080    \n",
      "_________________________________________________________________\n",
      "conv2d_6 (Conv2D)            (None, 6, 6, 256)         590080    \n",
      "_________________________________________________________________\n",
      "max_pooling2d_2 (MaxPooling2 (None, 3, 3, 256)         0         \n",
      "_________________________________________________________________\n",
      "conv2d_7 (Conv2D)            (None, 3, 3, 512)         1180160   \n",
      "_________________________________________________________________\n",
      "conv2d_8 (Conv2D)            (None, 3, 3, 512)         2359808   \n",
      "_________________________________________________________________\n",
      "conv2d_9 (Conv2D)            (None, 3, 3, 512)         2359808   \n",
      "_________________________________________________________________\n",
      "max_pooling2d_3 (MaxPooling2 (None, 1, 1, 512)         0         \n",
      "_________________________________________________________________\n",
      "flatten (Flatten)            (None, 512)               0         \n",
      "_________________________________________________________________\n",
      "dense (Dense)                (None, 4096)              2101248   \n",
      "_________________________________________________________________\n",
      "dense_1 (Dense)              (None, 4096)              16781312  \n",
      "_________________________________________________________________\n",
      "dense_2 (Dense)              (None, 4)                 16388     \n",
      "=================================================================\n",
      "Total params: 26,534,212\n",
      "Trainable params: 26,534,212\n",
      "Non-trainable params: 0\n",
      "_________________________________________________________________\n"
     ]
    }
   ],
   "source": [
    "model.summary()"
   ]
  },
  {
   "cell_type": "code",
   "execution_count": 63,
   "id": "2f9036ac",
   "metadata": {
    "ExecuteTime": {
     "end_time": "2021-05-13T09:51:55.955729Z",
     "start_time": "2021-05-13T09:18:55.428327Z"
    }
   },
   "outputs": [
    {
     "name": "stdout",
     "output_type": "stream",
     "text": [
      "WARNING:tensorflow:`period` argument is deprecated. Please use `save_freq` to specify the frequency in number of batches seen.\n",
      "Epoch 1/100\n",
      "166/166 [==============================] - 24s 146ms/step - loss: 1.4009 - accuracy: 0.4683 - val_loss: 1.2118 - val_accuracy: 0.5282\n",
      "WARNING:tensorflow:Can save best model only with val_acc available, skipping.\n",
      "Epoch 2/100\n",
      "166/166 [==============================] - 23s 141ms/step - loss: 1.3752 - accuracy: 0.4721 - val_loss: 1.2002 - val_accuracy: 0.5355\n",
      "WARNING:tensorflow:Can save best model only with val_acc available, skipping.\n",
      "Epoch 3/100\n",
      "166/166 [==============================] - 23s 136ms/step - loss: 1.3497 - accuracy: 0.4804 - val_loss: 1.1934 - val_accuracy: 0.5389\n",
      "WARNING:tensorflow:Can save best model only with val_acc available, skipping.\n",
      "Epoch 4/100\n",
      "166/166 [==============================] - 22s 135ms/step - loss: 1.3301 - accuracy: 0.4864 - val_loss: 1.1793 - val_accuracy: 0.5459\n",
      "WARNING:tensorflow:Can save best model only with val_acc available, skipping.\n",
      "Epoch 5/100\n",
      "166/166 [==============================] - 26s 156ms/step - loss: 1.3116 - accuracy: 0.4926 - val_loss: 1.1606 - val_accuracy: 0.5557\n",
      "WARNING:tensorflow:Can save best model only with val_acc available, skipping.\n",
      "Epoch 6/100\n",
      "166/166 [==============================] - 24s 145ms/step - loss: 1.3134 - accuracy: 0.5068 - val_loss: 1.1515 - val_accuracy: 0.5585\n",
      "WARNING:tensorflow:Can save best model only with val_acc available, skipping.\n",
      "Epoch 7/100\n",
      "166/166 [==============================] - 23s 137ms/step - loss: 1.3136 - accuracy: 0.4960 - val_loss: 1.1323 - val_accuracy: 0.5677\n",
      "WARNING:tensorflow:Can save best model only with val_acc available, skipping.\n",
      "Epoch 8/100\n",
      "166/166 [==============================] - 23s 138ms/step - loss: 1.2929 - accuracy: 0.5166 - val_loss: 1.1299 - val_accuracy: 0.5716\n",
      "WARNING:tensorflow:Can save best model only with val_acc available, skipping.\n",
      "Epoch 9/100\n",
      "166/166 [==============================] - 23s 135ms/step - loss: 1.2736 - accuracy: 0.5177 - val_loss: 1.1250 - val_accuracy: 0.5732\n",
      "WARNING:tensorflow:Can save best model only with val_acc available, skipping.\n",
      "Epoch 10/100\n",
      "166/166 [==============================] - 22s 131ms/step - loss: 1.2590 - accuracy: 0.5243 - val_loss: 1.1136 - val_accuracy: 0.5772\n",
      "WARNING:tensorflow:Can save best model only with val_acc available, skipping.\n",
      "Epoch 11/100\n",
      "166/166 [==============================] - 22s 131ms/step - loss: 1.2437 - accuracy: 0.5189 - val_loss: 1.0986 - val_accuracy: 0.5814\n",
      "WARNING:tensorflow:Can save best model only with val_acc available, skipping.\n",
      "Epoch 12/100\n",
      "166/166 [==============================] - 23s 141ms/step - loss: 1.2463 - accuracy: 0.5281 - val_loss: 1.0893 - val_accuracy: 0.5873\n",
      "WARNING:tensorflow:Can save best model only with val_acc available, skipping.\n",
      "Epoch 13/100\n",
      "166/166 [==============================] - 22s 133ms/step - loss: 1.2423 - accuracy: 0.5296 - val_loss: 1.0857 - val_accuracy: 0.5897\n",
      "WARNING:tensorflow:Can save best model only with val_acc available, skipping.\n",
      "Epoch 14/100\n",
      "166/166 [==============================] - 22s 134ms/step - loss: 1.2353 - accuracy: 0.5417 - val_loss: 1.0751 - val_accuracy: 0.5928\n",
      "WARNING:tensorflow:Can save best model only with val_acc available, skipping.\n",
      "Epoch 15/100\n",
      "166/166 [==============================] - 23s 136ms/step - loss: 1.2078 - accuracy: 0.5475 - val_loss: 1.0645 - val_accuracy: 0.5974\n",
      "WARNING:tensorflow:Can save best model only with val_acc available, skipping.\n",
      "Epoch 16/100\n",
      "166/166 [==============================] - 22s 131ms/step - loss: 1.2075 - accuracy: 0.5428 - val_loss: 1.0518 - val_accuracy: 0.6035\n",
      "WARNING:tensorflow:Can save best model only with val_acc available, skipping.\n",
      "Epoch 17/100\n",
      "166/166 [==============================] - 22s 134ms/step - loss: 1.1985 - accuracy: 0.5535 - val_loss: 1.0512 - val_accuracy: 0.6038\n",
      "WARNING:tensorflow:Can save best model only with val_acc available, skipping.\n",
      "Epoch 18/100\n",
      "166/166 [==============================] - 24s 144ms/step - loss: 1.1959 - accuracy: 0.5505 - val_loss: 1.0459 - val_accuracy: 0.6053\n",
      "WARNING:tensorflow:Can save best model only with val_acc available, skipping.\n",
      "Epoch 19/100\n",
      "166/166 [==============================] - 24s 142ms/step - loss: 1.1811 - accuracy: 0.5509 - val_loss: 1.0333 - val_accuracy: 0.6093\n",
      "WARNING:tensorflow:Can save best model only with val_acc available, skipping.\n",
      "Epoch 20/100\n",
      "166/166 [==============================] - 24s 142ms/step - loss: 1.1840 - accuracy: 0.5620 - val_loss: 1.0223 - val_accuracy: 0.6170\n",
      "WARNING:tensorflow:Can save best model only with val_acc available, skipping.\n",
      "Epoch 21/100\n",
      "166/166 [==============================] - 24s 143ms/step - loss: 1.1546 - accuracy: 0.5630 - val_loss: 1.0228 - val_accuracy: 0.6164\n",
      "WARNING:tensorflow:Can save best model only with val_acc available, skipping.\n",
      "Epoch 22/100\n",
      "166/166 [==============================] - 23s 140ms/step - loss: 1.1568 - accuracy: 0.5639 - val_loss: 1.0177 - val_accuracy: 0.6179\n",
      "WARNING:tensorflow:Can save best model only with val_acc available, skipping.\n",
      "Epoch 23/100\n",
      "166/166 [==============================] - 22s 130ms/step - loss: 1.1459 - accuracy: 0.5639 - val_loss: 1.0068 - val_accuracy: 0.6206\n",
      "WARNING:tensorflow:Can save best model only with val_acc available, skipping.\n",
      "Epoch 24/100\n",
      "166/166 [==============================] - 23s 137ms/step - loss: 1.1575 - accuracy: 0.5630 - val_loss: 1.0049 - val_accuracy: 0.6228\n",
      "WARNING:tensorflow:Can save best model only with val_acc available, skipping.\n",
      "Epoch 25/100\n",
      "166/166 [==============================] - 23s 137ms/step - loss: 1.1617 - accuracy: 0.5743 - val_loss: 1.0054 - val_accuracy: 0.6237\n",
      "WARNING:tensorflow:Can save best model only with val_acc available, skipping.\n",
      "Epoch 26/100\n",
      "166/166 [==============================] - 23s 137ms/step - loss: 1.1392 - accuracy: 0.5741 - val_loss: 1.0026 - val_accuracy: 0.6252\n",
      "WARNING:tensorflow:Can save best model only with val_acc available, skipping.\n",
      "Epoch 27/100\n",
      "166/166 [==============================] - 22s 132ms/step - loss: 1.1256 - accuracy: 0.5826 - val_loss: 0.9914 - val_accuracy: 0.6252\n",
      "WARNING:tensorflow:Can save best model only with val_acc available, skipping.\n",
      "Epoch 28/100\n",
      "166/166 [==============================] - 23s 139ms/step - loss: 1.1533 - accuracy: 0.5686 - val_loss: 0.9850 - val_accuracy: 0.6317\n",
      "WARNING:tensorflow:Can save best model only with val_acc available, skipping.\n",
      "Epoch 29/100\n",
      "166/166 [==============================] - 24s 144ms/step - loss: 1.1372 - accuracy: 0.5788 - val_loss: 0.9831 - val_accuracy: 0.6310\n",
      "WARNING:tensorflow:Can save best model only with val_acc available, skipping.\n",
      "Epoch 30/100\n",
      "166/166 [==============================] - 18s 108ms/step - loss: 1.1598 - accuracy: 0.5716 - val_loss: 0.9787 - val_accuracy: 0.6317\n",
      "WARNING:tensorflow:Can save best model only with val_acc available, skipping.\n",
      "Epoch 31/100\n",
      "166/166 [==============================] - 20s 118ms/step - loss: 1.1224 - accuracy: 0.5843 - val_loss: 0.9721 - val_accuracy: 0.6353\n",
      "WARNING:tensorflow:Can save best model only with val_acc available, skipping.\n",
      "Epoch 32/100\n",
      "166/166 [==============================] - 19s 116ms/step - loss: 1.1309 - accuracy: 0.5699 - val_loss: 0.9713 - val_accuracy: 0.6366\n",
      "WARNING:tensorflow:Can save best model only with val_acc available, skipping.\n",
      "Epoch 33/100\n",
      "166/166 [==============================] - 23s 137ms/step - loss: 1.1099 - accuracy: 0.5882 - val_loss: 0.9626 - val_accuracy: 0.6375\n",
      "WARNING:tensorflow:Can save best model only with val_acc available, skipping.\n",
      "Epoch 34/100\n",
      "166/166 [==============================] - 19s 112ms/step - loss: 1.1411 - accuracy: 0.5813 - val_loss: 0.9588 - val_accuracy: 0.6390\n",
      "WARNING:tensorflow:Can save best model only with val_acc available, skipping.\n",
      "Epoch 35/100\n",
      "166/166 [==============================] - 18s 109ms/step - loss: 1.1035 - accuracy: 0.5926 - val_loss: 0.9608 - val_accuracy: 0.6415\n",
      "WARNING:tensorflow:Can save best model only with val_acc available, skipping.\n",
      "Epoch 36/100\n",
      "166/166 [==============================] - 20s 123ms/step - loss: 1.0643 - accuracy: 0.5950 - val_loss: 0.9559 - val_accuracy: 0.6405\n",
      "WARNING:tensorflow:Can save best model only with val_acc available, skipping.\n"
     ]
    },
    {
     "name": "stdout",
     "output_type": "stream",
     "text": [
      "Epoch 37/100\n",
      "166/166 [==============================] - 20s 123ms/step - loss: 1.1067 - accuracy: 0.5880 - val_loss: 0.9470 - val_accuracy: 0.6433\n",
      "WARNING:tensorflow:Can save best model only with val_acc available, skipping.\n",
      "Epoch 38/100\n",
      "166/166 [==============================] - 19s 116ms/step - loss: 1.0933 - accuracy: 0.5952 - val_loss: 0.9428 - val_accuracy: 0.6421\n",
      "WARNING:tensorflow:Can save best model only with val_acc available, skipping.\n",
      "Epoch 39/100\n",
      "166/166 [==============================] - 18s 110ms/step - loss: 1.0950 - accuracy: 0.5965 - val_loss: 0.9476 - val_accuracy: 0.6433\n",
      "WARNING:tensorflow:Can save best model only with val_acc available, skipping.\n",
      "Epoch 40/100\n",
      "166/166 [==============================] - 19s 117ms/step - loss: 1.0941 - accuracy: 0.5924 - val_loss: 0.9369 - val_accuracy: 0.6464\n",
      "WARNING:tensorflow:Can save best model only with val_acc available, skipping.\n",
      "Epoch 41/100\n",
      "166/166 [==============================] - 20s 121ms/step - loss: 1.0626 - accuracy: 0.6018 - val_loss: 0.9355 - val_accuracy: 0.6482\n",
      "WARNING:tensorflow:Can save best model only with val_acc available, skipping.\n",
      "Epoch 42/100\n",
      "166/166 [==============================] - 20s 121ms/step - loss: 1.0831 - accuracy: 0.5975 - val_loss: 0.9350 - val_accuracy: 0.6457\n",
      "WARNING:tensorflow:Can save best model only with val_acc available, skipping.\n",
      "Epoch 43/100\n",
      "166/166 [==============================] - 19s 115ms/step - loss: 1.0819 - accuracy: 0.6001 - val_loss: 0.9379 - val_accuracy: 0.6473\n",
      "WARNING:tensorflow:Can save best model only with val_acc available, skipping.\n",
      "Epoch 44/100\n",
      "166/166 [==============================] - 20s 122ms/step - loss: 1.0460 - accuracy: 0.6129 - val_loss: 0.9325 - val_accuracy: 0.6482\n",
      "WARNING:tensorflow:Can save best model only with val_acc available, skipping.\n",
      "Epoch 45/100\n",
      "166/166 [==============================] - 19s 116ms/step - loss: 1.0945 - accuracy: 0.5977 - val_loss: 0.9303 - val_accuracy: 0.6506\n",
      "WARNING:tensorflow:Can save best model only with val_acc available, skipping.\n",
      "Epoch 46/100\n",
      "166/166 [==============================] - 17s 101ms/step - loss: 1.0870 - accuracy: 0.5999 - val_loss: 0.9259 - val_accuracy: 0.6500\n",
      "WARNING:tensorflow:Can save best model only with val_acc available, skipping.\n",
      "Epoch 47/100\n",
      "166/166 [==============================] - 18s 107ms/step - loss: 1.0421 - accuracy: 0.6186 - val_loss: 0.9286 - val_accuracy: 0.6540\n",
      "WARNING:tensorflow:Can save best model only with val_acc available, skipping.\n",
      "Epoch 48/100\n",
      "166/166 [==============================] - 19s 112ms/step - loss: 1.0602 - accuracy: 0.6078 - val_loss: 0.9210 - val_accuracy: 0.6546\n",
      "WARNING:tensorflow:Can save best model only with val_acc available, skipping.\n",
      "Epoch 49/100\n",
      "166/166 [==============================] - 17s 101ms/step - loss: 1.0572 - accuracy: 0.5992 - val_loss: 0.9198 - val_accuracy: 0.6568\n",
      "WARNING:tensorflow:Can save best model only with val_acc available, skipping.\n",
      "Epoch 50/100\n",
      "166/166 [==============================] - 17s 102ms/step - loss: 1.0688 - accuracy: 0.6094 - val_loss: 0.9191 - val_accuracy: 0.6546\n",
      "WARNING:tensorflow:Can save best model only with val_acc available, skipping.\n",
      "Epoch 51/100\n",
      "166/166 [==============================] - 18s 107ms/step - loss: 1.0579 - accuracy: 0.6041 - val_loss: 0.9147 - val_accuracy: 0.6568\n",
      "WARNING:tensorflow:Can save best model only with val_acc available, skipping.\n",
      "Epoch 52/100\n",
      "166/166 [==============================] - 18s 106ms/step - loss: 1.0663 - accuracy: 0.6124 - val_loss: 0.9087 - val_accuracy: 0.6611\n",
      "WARNING:tensorflow:Can save best model only with val_acc available, skipping.\n",
      "Epoch 53/100\n",
      "166/166 [==============================] - 18s 110ms/step - loss: 1.0405 - accuracy: 0.6167 - val_loss: 0.9093 - val_accuracy: 0.6629\n",
      "WARNING:tensorflow:Can save best model only with val_acc available, skipping.\n",
      "Epoch 54/100\n",
      "166/166 [==============================] - 18s 111ms/step - loss: 1.0404 - accuracy: 0.6094 - val_loss: 0.9062 - val_accuracy: 0.6607\n",
      "WARNING:tensorflow:Can save best model only with val_acc available, skipping.\n",
      "Epoch 55/100\n",
      "166/166 [==============================] - 20s 119ms/step - loss: 1.0430 - accuracy: 0.6175 - val_loss: 0.9030 - val_accuracy: 0.6626\n",
      "WARNING:tensorflow:Can save best model only with val_acc available, skipping.\n",
      "Epoch 56/100\n",
      "166/166 [==============================] - 20s 119ms/step - loss: 1.0432 - accuracy: 0.6231 - val_loss: 0.9037 - val_accuracy: 0.6617\n",
      "WARNING:tensorflow:Can save best model only with val_acc available, skipping.\n",
      "Epoch 57/100\n",
      "166/166 [==============================] - 18s 111ms/step - loss: 1.0119 - accuracy: 0.6271 - val_loss: 0.8964 - val_accuracy: 0.6629\n",
      "WARNING:tensorflow:Can save best model only with val_acc available, skipping.\n",
      "Epoch 58/100\n",
      "166/166 [==============================] - 17s 105ms/step - loss: 1.0199 - accuracy: 0.6269 - val_loss: 0.8991 - val_accuracy: 0.6620\n",
      "WARNING:tensorflow:Can save best model only with val_acc available, skipping.\n",
      "Epoch 59/100\n",
      "166/166 [==============================] - 17s 101ms/step - loss: 1.0540 - accuracy: 0.6005 - val_loss: 0.8977 - val_accuracy: 0.6626\n",
      "WARNING:tensorflow:Can save best model only with val_acc available, skipping.\n",
      "Epoch 60/100\n",
      "166/166 [==============================] - 18s 105ms/step - loss: 1.0239 - accuracy: 0.6163 - val_loss: 0.8938 - val_accuracy: 0.6641\n",
      "WARNING:tensorflow:Can save best model only with val_acc available, skipping.\n",
      "Epoch 61/100\n",
      "166/166 [==============================] - 17s 102ms/step - loss: 1.0244 - accuracy: 0.6210 - val_loss: 0.8891 - val_accuracy: 0.6638\n",
      "WARNING:tensorflow:Can save best model only with val_acc available, skipping.\n",
      "Epoch 62/100\n",
      "166/166 [==============================] - 17s 103ms/step - loss: 1.0248 - accuracy: 0.6182 - val_loss: 0.8872 - val_accuracy: 0.6675\n",
      "WARNING:tensorflow:Can save best model only with val_acc available, skipping.\n",
      "Epoch 63/100\n",
      "166/166 [==============================] - 18s 111ms/step - loss: 1.0439 - accuracy: 0.6148 - val_loss: 0.8852 - val_accuracy: 0.6693\n",
      "WARNING:tensorflow:Can save best model only with val_acc available, skipping.\n",
      "Epoch 64/100\n",
      "166/166 [==============================] - 18s 106ms/step - loss: 1.0403 - accuracy: 0.6143 - val_loss: 0.8850 - val_accuracy: 0.6666\n",
      "WARNING:tensorflow:Can save best model only with val_acc available, skipping.\n",
      "Epoch 65/100\n",
      "166/166 [==============================] - 18s 105ms/step - loss: 1.0073 - accuracy: 0.6205 - val_loss: 0.8875 - val_accuracy: 0.6653\n",
      "WARNING:tensorflow:Can save best model only with val_acc available, skipping.\n",
      "Epoch 66/100\n",
      "166/166 [==============================] - 18s 107ms/step - loss: 1.0213 - accuracy: 0.6227 - val_loss: 0.8839 - val_accuracy: 0.6656\n",
      "WARNING:tensorflow:Can save best model only with val_acc available, skipping.\n",
      "Epoch 67/100\n",
      "166/166 [==============================] - 17s 104ms/step - loss: 1.0234 - accuracy: 0.6259 - val_loss: 0.8812 - val_accuracy: 0.6693\n",
      "WARNING:tensorflow:Can save best model only with val_acc available, skipping.\n",
      "Epoch 68/100\n",
      "166/166 [==============================] - 18s 106ms/step - loss: 1.0060 - accuracy: 0.6288 - val_loss: 0.8810 - val_accuracy: 0.6687\n",
      "WARNING:tensorflow:Can save best model only with val_acc available, skipping.\n",
      "Epoch 69/100\n",
      "166/166 [==============================] - 18s 107ms/step - loss: 1.0231 - accuracy: 0.6278 - val_loss: 0.8751 - val_accuracy: 0.6739\n",
      "WARNING:tensorflow:Can save best model only with val_acc available, skipping.\n",
      "Epoch 70/100\n",
      "166/166 [==============================] - 17s 105ms/step - loss: 0.9940 - accuracy: 0.6301 - val_loss: 0.8767 - val_accuracy: 0.6745\n",
      "WARNING:tensorflow:Can save best model only with val_acc available, skipping.\n",
      "Epoch 71/100\n",
      "166/166 [==============================] - 17s 104ms/step - loss: 1.0261 - accuracy: 0.6227 - val_loss: 0.8703 - val_accuracy: 0.6739\n",
      "WARNING:tensorflow:Can save best model only with val_acc available, skipping.\n",
      "Epoch 72/100\n",
      "166/166 [==============================] - 18s 111ms/step - loss: 1.0233 - accuracy: 0.6275 - val_loss: 0.8756 - val_accuracy: 0.6712\n",
      "WARNING:tensorflow:Can save best model only with val_acc available, skipping.\n",
      "Epoch 73/100\n"
     ]
    },
    {
     "name": "stdout",
     "output_type": "stream",
     "text": [
      "166/166 [==============================] - 18s 109ms/step - loss: 0.9802 - accuracy: 0.6414 - val_loss: 0.8713 - val_accuracy: 0.6748\n",
      "WARNING:tensorflow:Can save best model only with val_acc available, skipping.\n",
      "Epoch 74/100\n",
      "166/166 [==============================] - 18s 107ms/step - loss: 1.0040 - accuracy: 0.6276 - val_loss: 0.8692 - val_accuracy: 0.6736\n",
      "WARNING:tensorflow:Can save best model only with val_acc available, skipping.\n",
      "Epoch 75/100\n",
      "166/166 [==============================] - 19s 112ms/step - loss: 0.9898 - accuracy: 0.6267 - val_loss: 0.8669 - val_accuracy: 0.6770\n",
      "WARNING:tensorflow:Can save best model only with val_acc available, skipping.\n",
      "Epoch 76/100\n",
      "166/166 [==============================] - 18s 109ms/step - loss: 1.0206 - accuracy: 0.6333 - val_loss: 0.8676 - val_accuracy: 0.6782\n",
      "WARNING:tensorflow:Can save best model only with val_acc available, skipping.\n",
      "Epoch 77/100\n",
      "166/166 [==============================] - 18s 109ms/step - loss: 1.0235 - accuracy: 0.6212 - val_loss: 0.8601 - val_accuracy: 0.6776\n",
      "WARNING:tensorflow:Can save best model only with val_acc available, skipping.\n",
      "Epoch 78/100\n",
      "166/166 [==============================] - 18s 110ms/step - loss: 1.0229 - accuracy: 0.6307 - val_loss: 0.8627 - val_accuracy: 0.6764\n",
      "WARNING:tensorflow:Can save best model only with val_acc available, skipping.\n",
      "Epoch 79/100\n",
      "166/166 [==============================] - 18s 110ms/step - loss: 1.0193 - accuracy: 0.6152 - val_loss: 0.8634 - val_accuracy: 0.6776\n",
      "WARNING:tensorflow:Can save best model only with val_acc available, skipping.\n",
      "Epoch 80/100\n",
      "166/166 [==============================] - 18s 109ms/step - loss: 1.0006 - accuracy: 0.6388 - val_loss: 0.8603 - val_accuracy: 0.6782\n",
      "WARNING:tensorflow:Can save best model only with val_acc available, skipping.\n",
      "Epoch 81/100\n",
      "166/166 [==============================] - 19s 115ms/step - loss: 0.9892 - accuracy: 0.6373 - val_loss: 0.8604 - val_accuracy: 0.6788\n",
      "WARNING:tensorflow:Can save best model only with val_acc available, skipping.\n",
      "Epoch 82/100\n",
      "166/166 [==============================] - 19s 114ms/step - loss: 1.0067 - accuracy: 0.6340 - val_loss: 0.8592 - val_accuracy: 0.6785\n",
      "WARNING:tensorflow:Can save best model only with val_acc available, skipping.\n",
      "Epoch 83/100\n",
      "166/166 [==============================] - 18s 110ms/step - loss: 0.9960 - accuracy: 0.6376 - val_loss: 0.8524 - val_accuracy: 0.6794\n",
      "WARNING:tensorflow:Can save best model only with val_acc available, skipping.\n",
      "Epoch 84/100\n",
      "166/166 [==============================] - 18s 109ms/step - loss: 0.9863 - accuracy: 0.6442 - val_loss: 0.8517 - val_accuracy: 0.6794\n",
      "WARNING:tensorflow:Can save best model only with val_acc available, skipping.\n",
      "Epoch 85/100\n",
      "166/166 [==============================] - 18s 110ms/step - loss: 0.9817 - accuracy: 0.6348 - val_loss: 0.8573 - val_accuracy: 0.6794\n",
      "WARNING:tensorflow:Can save best model only with val_acc available, skipping.\n",
      "Epoch 86/100\n",
      "166/166 [==============================] - 18s 109ms/step - loss: 0.9642 - accuracy: 0.6380 - val_loss: 0.8508 - val_accuracy: 0.6819\n",
      "WARNING:tensorflow:Can save best model only with val_acc available, skipping.\n",
      "Epoch 87/100\n",
      "166/166 [==============================] - 18s 108ms/step - loss: 0.9992 - accuracy: 0.6401 - val_loss: 0.8500 - val_accuracy: 0.6828\n",
      "WARNING:tensorflow:Can save best model only with val_acc available, skipping.\n",
      "Epoch 88/100\n",
      "166/166 [==============================] - 18s 111ms/step - loss: 1.0038 - accuracy: 0.6271 - val_loss: 0.8468 - val_accuracy: 0.6825\n",
      "WARNING:tensorflow:Can save best model only with val_acc available, skipping.\n",
      "Epoch 89/100\n",
      "166/166 [==============================] - 19s 114ms/step - loss: 0.9961 - accuracy: 0.6290 - val_loss: 0.8469 - val_accuracy: 0.6852\n",
      "WARNING:tensorflow:Can save best model only with val_acc available, skipping.\n",
      "Epoch 90/100\n",
      "166/166 [==============================] - 19s 112ms/step - loss: 0.9969 - accuracy: 0.6344 - val_loss: 0.8447 - val_accuracy: 0.6840\n",
      "WARNING:tensorflow:Can save best model only with val_acc available, skipping.\n",
      "Epoch 91/100\n",
      "166/166 [==============================] - 19s 116ms/step - loss: 0.9881 - accuracy: 0.6384 - val_loss: 0.8441 - val_accuracy: 0.6834\n",
      "WARNING:tensorflow:Can save best model only with val_acc available, skipping.\n",
      "Epoch 92/100\n",
      "166/166 [==============================] - 19s 115ms/step - loss: 0.9919 - accuracy: 0.6386 - val_loss: 0.8422 - val_accuracy: 0.6843\n",
      "WARNING:tensorflow:Can save best model only with val_acc available, skipping.\n",
      "Epoch 93/100\n",
      "166/166 [==============================] - 19s 115ms/step - loss: 0.9687 - accuracy: 0.6399 - val_loss: 0.8393 - val_accuracy: 0.6834\n",
      "WARNING:tensorflow:Can save best model only with val_acc available, skipping.\n",
      "Epoch 94/100\n",
      "166/166 [==============================] - 19s 115ms/step - loss: 0.9846 - accuracy: 0.6418 - val_loss: 0.8395 - val_accuracy: 0.6859\n",
      "WARNING:tensorflow:Can save best model only with val_acc available, skipping.\n",
      "Epoch 95/100\n",
      "166/166 [==============================] - 18s 109ms/step - loss: 0.9706 - accuracy: 0.6403 - val_loss: 0.8397 - val_accuracy: 0.6825\n",
      "WARNING:tensorflow:Can save best model only with val_acc available, skipping.\n",
      "Epoch 96/100\n",
      "166/166 [==============================] - 18s 110ms/step - loss: 0.9710 - accuracy: 0.6422 - val_loss: 0.8396 - val_accuracy: 0.6840\n",
      "WARNING:tensorflow:Can save best model only with val_acc available, skipping.\n",
      "Epoch 97/100\n",
      "166/166 [==============================] - 19s 114ms/step - loss: 0.9876 - accuracy: 0.6342 - val_loss: 0.8343 - val_accuracy: 0.6859\n",
      "WARNING:tensorflow:Can save best model only with val_acc available, skipping.\n",
      "Epoch 98/100\n",
      "166/166 [==============================] - 18s 111ms/step - loss: 0.9395 - accuracy: 0.6550 - val_loss: 0.8318 - val_accuracy: 0.6868\n",
      "WARNING:tensorflow:Can save best model only with val_acc available, skipping.\n",
      "Epoch 99/100\n",
      "166/166 [==============================] - 18s 109ms/step - loss: 0.9631 - accuracy: 0.6450 - val_loss: 0.8297 - val_accuracy: 0.6865\n",
      "WARNING:tensorflow:Can save best model only with val_acc available, skipping.\n",
      "Epoch 100/100\n",
      "166/166 [==============================] - 19s 113ms/step - loss: 0.9596 - accuracy: 0.6463 - val_loss: 0.8316 - val_accuracy: 0.6904\n",
      "WARNING:tensorflow:Can save best model only with val_acc available, skipping.\n"
     ]
    }
   ],
   "source": [
    "from tensorflow.keras.callbacks import ModelCheckpoint, EarlyStopping\n",
    "checkpoint = ModelCheckpoint(\"RCC\", \n",
    "                             monitor='val_acc',\n",
    "                             verbose=1, \n",
    "                             save_best_only=True, \n",
    "                             save_weights_only=False, \n",
    "                             mode='auto', period=1)\n",
    "\n",
    "early = EarlyStopping(monitor='accuracy', min_delta=0, patience=20, verbose=1, mode='auto')\n",
    "\n",
    "hist = model.fit(train_it, \n",
    "                 validation_data = (test_X_img, test_Y), \n",
    "                 batch_size = 32, \n",
    "                 epochs = 100, \n",
    "                 verbose=1,\n",
    "                 callbacks=[early,checkpoint])"
   ]
  },
  {
   "cell_type": "code",
   "execution_count": 64,
   "id": "1e06e848",
   "metadata": {
    "ExecuteTime": {
     "end_time": "2021-05-13T09:52:37.363807Z",
     "start_time": "2021-05-13T09:52:16.162696Z"
    }
   },
   "outputs": [
    {
     "name": "stdout",
     "output_type": "stream",
     "text": [
      "INFO:tensorflow:Assets written to: Baseline RCCNet\\assets\n"
     ]
    }
   ],
   "source": [
    "model.save('Baseline RCCNet')"
   ]
  },
  {
   "cell_type": "code",
   "execution_count": 81,
   "id": "56d4477e",
   "metadata": {
    "ExecuteTime": {
     "end_time": "2021-05-13T10:14:08.351162Z",
     "start_time": "2021-05-13T10:14:07.625512Z"
    }
   },
   "outputs": [
    {
     "data": {
      "image/png": "[encoded data removed]",
      "text/plain": [
       "<Figure size 432x288 with 1 Axes>"
      ]
     },
     "metadata": {},
     "output_type": "display_data"
    },
    {
     "data": {
      "image/png": "[encoded data removed]",
      "text/plain": [
       "<Figure size 432x288 with 1 Axes>"
      ]
     },
     "metadata": {},
     "output_type": "display_data"
    }
   ],
   "source": [
    "# Summarize history for accuracy\n",
    "plt.plot(hist.history['accuracy'])\n",
    "plt.plot(hist.history['val_accuracy'])\n",
    "plt.title('model accuracy')\n",
    "plt.ylabel('Accuracy')\n",
    "plt.xlabel('epoch')\n",
    "plt.legend(['train', 'test'], loc='upper left')\n",
    "plt.show()\n",
    "# Summarize history for loss\n",
    "plt.plot(hist.history['loss'])\n",
    "plt.plot(hist.history['val_loss'])\n",
    "plt.title('model loss')\n",
    "plt.ylabel('loss')\n",
    "plt.xlabel('epoch')\n",
    "plt.legend(['train', 'test'], loc='upper right')\n",
    "plt.show()"
   ]
  },
  {
   "cell_type": "code",
   "execution_count": 79,
   "id": "84fc9203",
   "metadata": {
    "ExecuteTime": {
     "end_time": "2021-05-13T10:12:50.058817Z",
     "start_time": "2021-05-13T10:12:48.393800Z"
    }
   },
   "outputs": [
    {
     "name": "stdout",
     "output_type": "stream",
     "text": [
      "              precision    recall  f1-score   support\n",
      "\n",
      "           0       0.66      0.50      0.57       606\n",
      "           1       0.63      0.71      0.66       840\n",
      "           2       0.84      0.85      0.84      1334\n",
      "           3       0.44      0.45      0.45       486\n",
      "\n",
      "    accuracy                           0.69      3266\n",
      "   macro avg       0.64      0.63      0.63      3266\n",
      "weighted avg       0.69      0.69      0.69      3266\n",
      "\n"
     ]
    }
   ],
   "source": [
    "from sklearn.metrics import classification_report\n",
    "pred = model.predict_classes(test_X_img)\n",
    "pred.reshape(1,-1)[0]\n",
    "print(classification_report(test_Y, pred))"
   ]
  },
  {
   "cell_type": "code",
   "execution_count": null,
   "id": "da27e2e0",
   "metadata": {},
   "outputs": [],
   "source": []
  }
 ],
 "metadata": {
  "kernelspec": {
   "display_name": "Python 3",
   "language": "python",
   "name": "python3"
  },
  "language_info": {
   "codemirror_mode": {
    "name": "ipython",
    "version": 3
   },
   "file_extension": ".py",
   "mimetype": "text/x-python",
   "name": "python",
   "nbconvert_exporter": "python",
   "pygments_lexer": "ipython3",
   "version": "3.8.8"
  },
  "toc": {
   "base_numbering": 1,
   "nav_menu": {},
   "number_sections": false,
   "sideBar": true,
   "skip_h1_title": false,
   "title_cell": "Table of Contents",
   "title_sidebar": "Contents",
   "toc_cell": false,
   "toc_position": {},
   "toc_section_display": true,
   "toc_window_display": false
  }
 },
 "nbformat": 4,
 "nbformat_minor": 5
}
