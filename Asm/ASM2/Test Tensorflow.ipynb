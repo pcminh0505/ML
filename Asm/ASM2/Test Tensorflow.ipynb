{
 "cells": [
  {
   "cell_type": "markdown",
   "metadata": {},
   "source": [
    "## Installation needed"
   ]
  },
  {
   "cell_type": "code",
   "execution_count": 1,
   "metadata": {
    "ExecuteTime": {
     "end_time": "2021-05-09T12:21:30.177959Z",
     "start_time": "2021-05-09T12:21:30.163996Z"
    }
   },
   "outputs": [],
   "source": [
    "# !pip install tensorflow\n",
    "# !pip install opencv-python"
   ]
  },
  {
   "cell_type": "markdown",
   "metadata": {},
   "source": [
    "## Import libraries"
   ]
  },
  {
   "cell_type": "code",
   "execution_count": 2,
   "metadata": {
    "ExecuteTime": {
     "end_time": "2021-05-09T12:21:42.057100Z",
     "start_time": "2021-05-09T12:21:30.179954Z"
    }
   },
   "outputs": [
    {
     "name": "stdout",
     "output_type": "stream",
     "text": [
      "Using Tensorflow version: 2.4.1\n"
     ]
    }
   ],
   "source": [
    "import pandas as pd\n",
    "import numpy as np\n",
    "import matplotlib.pyplot as plt\n",
    "%matplotlib inline \n",
    "plt.style.use('dark_background')\n",
    "import seaborn as sns\n",
    "from tqdm import tqdm\n",
    "\n",
    "import cv2\n",
    "import os\n",
    "import tensorflow as tf\n",
    "import sklearn as sk\n",
    "\n",
    "import warnings\n",
    "warnings.filterwarnings('ignore')\n",
    "\n",
    "print('Using Tensorflow version:', tf.__version__)"
   ]
  },
  {
   "cell_type": "code",
   "execution_count": 3,
   "metadata": {
    "ExecuteTime": {
     "end_time": "2021-05-09T12:21:42.117938Z",
     "start_time": "2021-05-09T12:21:42.058097Z"
    }
   },
   "outputs": [],
   "source": [
    "main_data = pd.read_csv('data_labels_mainData.csv')\n",
    "extra_data = pd.read_csv('data_labels_extraData.csv')"
   ]
  },
  {
   "cell_type": "code",
   "execution_count": 4,
   "metadata": {
    "ExecuteTime": {
     "end_time": "2021-05-09T12:21:42.148855Z",
     "start_time": "2021-05-09T12:21:42.120930Z"
    }
   },
   "outputs": [
    {
     "data": {
      "text/html": [
       "<div>\n",
       "<style scoped>\n",
       "    .dataframe tbody tr th:only-of-type {\n",
       "        vertical-align: middle;\n",
       "    }\n",
       "\n",
       "    .dataframe tbody tr th {\n",
       "        vertical-align: top;\n",
       "    }\n",
       "\n",
       "    .dataframe thead th {\n",
       "        text-align: right;\n",
       "    }\n",
       "</style>\n",
       "<table border=\"1\" class=\"dataframe\">\n",
       "  <thead>\n",
       "    <tr style=\"text-align: right;\">\n",
       "      <th></th>\n",
       "      <th>InstanceID</th>\n",
       "      <th>patientID</th>\n",
       "      <th>ImageName</th>\n",
       "      <th>cellTypeName</th>\n",
       "      <th>cellType</th>\n",
       "      <th>isCancerous</th>\n",
       "    </tr>\n",
       "  </thead>\n",
       "  <tbody>\n",
       "    <tr>\n",
       "      <th>0</th>\n",
       "      <td>22405</td>\n",
       "      <td>1</td>\n",
       "      <td>22405.png</td>\n",
       "      <td>fibroblast</td>\n",
       "      <td>0</td>\n",
       "      <td>0</td>\n",
       "    </tr>\n",
       "    <tr>\n",
       "      <th>1</th>\n",
       "      <td>22406</td>\n",
       "      <td>1</td>\n",
       "      <td>22406.png</td>\n",
       "      <td>fibroblast</td>\n",
       "      <td>0</td>\n",
       "      <td>0</td>\n",
       "    </tr>\n",
       "    <tr>\n",
       "      <th>2</th>\n",
       "      <td>22407</td>\n",
       "      <td>1</td>\n",
       "      <td>22407.png</td>\n",
       "      <td>fibroblast</td>\n",
       "      <td>0</td>\n",
       "      <td>0</td>\n",
       "    </tr>\n",
       "    <tr>\n",
       "      <th>3</th>\n",
       "      <td>22408</td>\n",
       "      <td>1</td>\n",
       "      <td>22408.png</td>\n",
       "      <td>fibroblast</td>\n",
       "      <td>0</td>\n",
       "      <td>0</td>\n",
       "    </tr>\n",
       "    <tr>\n",
       "      <th>4</th>\n",
       "      <td>22409</td>\n",
       "      <td>1</td>\n",
       "      <td>22409.png</td>\n",
       "      <td>fibroblast</td>\n",
       "      <td>0</td>\n",
       "      <td>0</td>\n",
       "    </tr>\n",
       "    <tr>\n",
       "      <th>...</th>\n",
       "      <td>...</td>\n",
       "      <td>...</td>\n",
       "      <td>...</td>\n",
       "      <td>...</td>\n",
       "      <td>...</td>\n",
       "      <td>...</td>\n",
       "    </tr>\n",
       "    <tr>\n",
       "      <th>9891</th>\n",
       "      <td>1625</td>\n",
       "      <td>60</td>\n",
       "      <td>1625.png</td>\n",
       "      <td>epithelial</td>\n",
       "      <td>2</td>\n",
       "      <td>1</td>\n",
       "    </tr>\n",
       "    <tr>\n",
       "      <th>9892</th>\n",
       "      <td>1626</td>\n",
       "      <td>60</td>\n",
       "      <td>1626.png</td>\n",
       "      <td>epithelial</td>\n",
       "      <td>2</td>\n",
       "      <td>1</td>\n",
       "    </tr>\n",
       "    <tr>\n",
       "      <th>9893</th>\n",
       "      <td>1627</td>\n",
       "      <td>60</td>\n",
       "      <td>1627.png</td>\n",
       "      <td>epithelial</td>\n",
       "      <td>2</td>\n",
       "      <td>1</td>\n",
       "    </tr>\n",
       "    <tr>\n",
       "      <th>9894</th>\n",
       "      <td>1628</td>\n",
       "      <td>60</td>\n",
       "      <td>1628.png</td>\n",
       "      <td>epithelial</td>\n",
       "      <td>2</td>\n",
       "      <td>1</td>\n",
       "    </tr>\n",
       "    <tr>\n",
       "      <th>9895</th>\n",
       "      <td>1629</td>\n",
       "      <td>60</td>\n",
       "      <td>1629.png</td>\n",
       "      <td>epithelial</td>\n",
       "      <td>2</td>\n",
       "      <td>1</td>\n",
       "    </tr>\n",
       "  </tbody>\n",
       "</table>\n",
       "<p>9896 rows × 6 columns</p>\n",
       "</div>"
      ],
      "text/plain": [
       "      InstanceID  patientID  ImageName cellTypeName  cellType  isCancerous\n",
       "0          22405          1  22405.png   fibroblast         0            0\n",
       "1          22406          1  22406.png   fibroblast         0            0\n",
       "2          22407          1  22407.png   fibroblast         0            0\n",
       "3          22408          1  22408.png   fibroblast         0            0\n",
       "4          22409          1  22409.png   fibroblast         0            0\n",
       "...          ...        ...        ...          ...       ...          ...\n",
       "9891        1625         60   1625.png   epithelial         2            1\n",
       "9892        1626         60   1626.png   epithelial         2            1\n",
       "9893        1627         60   1627.png   epithelial         2            1\n",
       "9894        1628         60   1628.png   epithelial         2            1\n",
       "9895        1629         60   1629.png   epithelial         2            1\n",
       "\n",
       "[9896 rows x 6 columns]"
      ]
     },
     "execution_count": 4,
     "metadata": {},
     "output_type": "execute_result"
    }
   ],
   "source": [
    "main_data"
   ]
  },
  {
   "cell_type": "code",
   "execution_count": 5,
   "metadata": {
    "ExecuteTime": {
     "end_time": "2021-05-09T12:21:42.164813Z",
     "start_time": "2021-05-09T12:21:42.150850Z"
    }
   },
   "outputs": [
    {
     "data": {
      "text/html": [
       "<div>\n",
       "<style scoped>\n",
       "    .dataframe tbody tr th:only-of-type {\n",
       "        vertical-align: middle;\n",
       "    }\n",
       "\n",
       "    .dataframe tbody tr th {\n",
       "        vertical-align: top;\n",
       "    }\n",
       "\n",
       "    .dataframe thead th {\n",
       "        text-align: right;\n",
       "    }\n",
       "</style>\n",
       "<table border=\"1\" class=\"dataframe\">\n",
       "  <thead>\n",
       "    <tr style=\"text-align: right;\">\n",
       "      <th></th>\n",
       "      <th>InstanceID</th>\n",
       "      <th>patientID</th>\n",
       "      <th>ImageName</th>\n",
       "      <th>isCancerous</th>\n",
       "    </tr>\n",
       "  </thead>\n",
       "  <tbody>\n",
       "    <tr>\n",
       "      <th>0</th>\n",
       "      <td>12681</td>\n",
       "      <td>61</td>\n",
       "      <td>12681.png</td>\n",
       "      <td>0</td>\n",
       "    </tr>\n",
       "    <tr>\n",
       "      <th>1</th>\n",
       "      <td>12682</td>\n",
       "      <td>61</td>\n",
       "      <td>12682.png</td>\n",
       "      <td>0</td>\n",
       "    </tr>\n",
       "    <tr>\n",
       "      <th>2</th>\n",
       "      <td>12683</td>\n",
       "      <td>61</td>\n",
       "      <td>12683.png</td>\n",
       "      <td>0</td>\n",
       "    </tr>\n",
       "    <tr>\n",
       "      <th>3</th>\n",
       "      <td>12684</td>\n",
       "      <td>61</td>\n",
       "      <td>12684.png</td>\n",
       "      <td>0</td>\n",
       "    </tr>\n",
       "    <tr>\n",
       "      <th>4</th>\n",
       "      <td>12685</td>\n",
       "      <td>61</td>\n",
       "      <td>12685.png</td>\n",
       "      <td>0</td>\n",
       "    </tr>\n",
       "    <tr>\n",
       "      <th>...</th>\n",
       "      <td>...</td>\n",
       "      <td>...</td>\n",
       "      <td>...</td>\n",
       "      <td>...</td>\n",
       "    </tr>\n",
       "    <tr>\n",
       "      <th>10379</th>\n",
       "      <td>20028</td>\n",
       "      <td>99</td>\n",
       "      <td>20028.png</td>\n",
       "      <td>0</td>\n",
       "    </tr>\n",
       "    <tr>\n",
       "      <th>10380</th>\n",
       "      <td>20029</td>\n",
       "      <td>99</td>\n",
       "      <td>20029.png</td>\n",
       "      <td>0</td>\n",
       "    </tr>\n",
       "    <tr>\n",
       "      <th>10381</th>\n",
       "      <td>20030</td>\n",
       "      <td>99</td>\n",
       "      <td>20030.png</td>\n",
       "      <td>0</td>\n",
       "    </tr>\n",
       "    <tr>\n",
       "      <th>10382</th>\n",
       "      <td>20031</td>\n",
       "      <td>99</td>\n",
       "      <td>20031.png</td>\n",
       "      <td>0</td>\n",
       "    </tr>\n",
       "    <tr>\n",
       "      <th>10383</th>\n",
       "      <td>20032</td>\n",
       "      <td>99</td>\n",
       "      <td>20032.png</td>\n",
       "      <td>0</td>\n",
       "    </tr>\n",
       "  </tbody>\n",
       "</table>\n",
       "<p>10384 rows × 4 columns</p>\n",
       "</div>"
      ],
      "text/plain": [
       "       InstanceID  patientID  ImageName  isCancerous\n",
       "0           12681         61  12681.png            0\n",
       "1           12682         61  12682.png            0\n",
       "2           12683         61  12683.png            0\n",
       "3           12684         61  12684.png            0\n",
       "4           12685         61  12685.png            0\n",
       "...           ...        ...        ...          ...\n",
       "10379       20028         99  20028.png            0\n",
       "10380       20029         99  20029.png            0\n",
       "10381       20030         99  20030.png            0\n",
       "10382       20031         99  20031.png            0\n",
       "10383       20032         99  20032.png            0\n",
       "\n",
       "[10384 rows x 4 columns]"
      ]
     },
     "execution_count": 5,
     "metadata": {},
     "output_type": "execute_result"
    }
   ],
   "source": [
    "extra_data"
   ]
  },
  {
   "cell_type": "code",
   "execution_count": 6,
   "metadata": {
    "ExecuteTime": {
     "end_time": "2021-05-09T12:21:42.179773Z",
     "start_time": "2021-05-09T12:21:42.165810Z"
    }
   },
   "outputs": [
    {
     "name": "stdout",
     "output_type": "stream",
     "text": [
      "['22405.png', '22406.png', '22407.png', '22408.png', '22409.png']\n",
      "['12681.png', '12682.png', '12683.png', '12684.png', '12685.png']\n"
     ]
    }
   ],
   "source": [
    "main_img_list = main_data['ImageName'].tolist()\n",
    "extra_img_list = extra_data['ImageName'].tolist()\n",
    "\n",
    "print(main_img_list[:5])\n",
    "print(extra_img_list[:5])"
   ]
  },
  {
   "cell_type": "code",
   "execution_count": 7,
   "metadata": {
    "ExecuteTime": {
     "end_time": "2021-05-09T12:21:42.194732Z",
     "start_time": "2021-05-09T12:21:42.182765Z"
    }
   },
   "outputs": [],
   "source": [
    "def create_train_data(directory, img_list):\n",
    "    IMAGE_SIZE = 27\n",
    "    train_data = []\n",
    "    for img in tqdm(img_list, desc='Extracting Image Progress'):\n",
    "        path = os.path.join(directory, img)\n",
    "        img = cv2.resize(cv2.imread(path), (IMAGE_SIZE,IMAGE_SIZE))\n",
    "        train_data.append(np.array(img))\n",
    "    print(\"Successfully import images!\")\n",
    "    # Convert to np.array and normalize pixel values to be between 0 and 1 \n",
    "    return np.array(train_data) / 255.0 "
   ]
  },
  {
   "cell_type": "code",
   "execution_count": 8,
   "metadata": {
    "ExecuteTime": {
     "end_time": "2021-05-09T12:21:45.535104Z",
     "start_time": "2021-05-09T12:21:42.196727Z"
    }
   },
   "outputs": [
    {
     "name": "stderr",
     "output_type": "stream",
     "text": [
      "Extracting Image Progress: 100%|█████████████████████████████████████████████████| 9896/9896 [00:03<00:00, 3053.72it/s]"
     ]
    },
    {
     "name": "stdout",
     "output_type": "stream",
     "text": [
      "Successfully import images!\n"
     ]
    },
    {
     "name": "stderr",
     "output_type": "stream",
     "text": [
      "\n"
     ]
    }
   ],
   "source": [
    "# CHANGE THE PATH TO IMAGE FOLDER IN YOUR LOCAL DEVICE!\n",
    "path = r\"C:\\Users\\Dell\\Documents\\GitHub\\ML\\Asm\\ASM2\\patch_images\"\n",
    "X_main = create_train_data(path, main_img_list)"
   ]
  },
  {
   "cell_type": "code",
   "execution_count": 9,
   "metadata": {
    "ExecuteTime": {
     "end_time": "2021-05-09T12:21:45.566041Z",
     "start_time": "2021-05-09T12:21:45.537098Z"
    }
   },
   "outputs": [
    {
     "data": {
      "text/plain": [
       "array([[[[0.92941176, 0.83529412, 0.94901961],\n",
       "         [0.91372549, 0.81960784, 0.9372549 ],\n",
       "         [0.89803922, 0.80392157, 0.92156863],\n",
       "         ...,\n",
       "         [0.88627451, 0.76078431, 0.91764706],\n",
       "         [0.89803922, 0.76862745, 0.92941176],\n",
       "         [0.89803922, 0.76470588, 0.92941176]],\n",
       "\n",
       "        [[0.8745098 , 0.78039216, 0.90196078],\n",
       "         [0.8627451 , 0.76470588, 0.88627451],\n",
       "         [0.86666667, 0.76470588, 0.88627451],\n",
       "         ...,\n",
       "         [0.89803922, 0.76470588, 0.92941176],\n",
       "         [0.92941176, 0.79607843, 0.96078431],\n",
       "         [0.87058824, 0.7372549 , 0.90196078]],\n",
       "\n",
       "        [[0.86666667, 0.76078431, 0.89019608],\n",
       "         [0.82745098, 0.71764706, 0.84705882],\n",
       "         [0.85098039, 0.74117647, 0.87058824],\n",
       "         ...,\n",
       "         [0.91372549, 0.77647059, 0.94509804],\n",
       "         [0.89803922, 0.75686275, 0.9254902 ],\n",
       "         [0.8627451 , 0.7254902 , 0.89411765]],\n",
       "\n",
       "        ...,\n",
       "\n",
       "        [[0.88627451, 0.7372549 , 0.90588235],\n",
       "         [0.82352941, 0.6745098 , 0.84313725],\n",
       "         [0.8       , 0.65490196, 0.81960784],\n",
       "         ...,\n",
       "         [0.87843137, 0.69411765, 0.87843137],\n",
       "         [0.78431373, 0.6       , 0.78431373],\n",
       "         [0.81176471, 0.63137255, 0.81176471]],\n",
       "\n",
       "        [[0.92156863, 0.78039216, 0.95686275],\n",
       "         [0.80784314, 0.66666667, 0.83529412],\n",
       "         [0.85098039, 0.69019608, 0.86666667],\n",
       "         ...,\n",
       "         [0.82745098, 0.64705882, 0.83137255],\n",
       "         [0.76470588, 0.58039216, 0.76470588],\n",
       "         [0.84705882, 0.66666667, 0.84313725]],\n",
       "\n",
       "        [[0.93333333, 0.77647059, 0.94509804],\n",
       "         [0.88235294, 0.72941176, 0.90196078],\n",
       "         [0.81960784, 0.70588235, 0.8745098 ],\n",
       "         ...,\n",
       "         [0.76078431, 0.59215686, 0.78823529],\n",
       "         [0.68627451, 0.51764706, 0.70980392],\n",
       "         [0.74509804, 0.57647059, 0.76470588]]],\n",
       "\n",
       "\n",
       "       [[[0.82745098, 0.68627451, 0.86666667],\n",
       "         [0.82745098, 0.68627451, 0.87843137],\n",
       "         [0.85882353, 0.72156863, 0.91372549],\n",
       "         ...,\n",
       "         [0.94117647, 0.84313725, 0.94117647],\n",
       "         [0.94509804, 0.85490196, 0.94509804],\n",
       "         [0.94117647, 0.85490196, 0.94509804]],\n",
       "\n",
       "        [[0.76862745, 0.6       , 0.78823529],\n",
       "         [0.77254902, 0.6       , 0.80392157],\n",
       "         [0.85882353, 0.69803922, 0.89803922],\n",
       "         ...,\n",
       "         [0.92156863, 0.81960784, 0.92156863],\n",
       "         [0.97254902, 0.87843137, 0.97647059],\n",
       "         [0.96078431, 0.87058824, 0.96470588]],\n",
       "\n",
       "        [[0.77254902, 0.57647059, 0.77254902],\n",
       "         [0.78823529, 0.58039216, 0.79215686],\n",
       "         [0.85490196, 0.6627451 , 0.87058824],\n",
       "         ...,\n",
       "         [0.87058824, 0.76470588, 0.86666667],\n",
       "         [0.9254902 , 0.82745098, 0.9254902 ],\n",
       "         [0.90196078, 0.80784314, 0.90196078]],\n",
       "\n",
       "        ...,\n",
       "\n",
       "        [[0.69411765, 0.43529412, 0.64705882],\n",
       "         [0.63137255, 0.37647059, 0.59215686],\n",
       "         [0.78039216, 0.57647059, 0.78823529],\n",
       "         ...,\n",
       "         [0.8745098 , 0.76862745, 0.89803922],\n",
       "         [0.88235294, 0.78039216, 0.90980392],\n",
       "         [0.85098039, 0.74509804, 0.87843137]],\n",
       "\n",
       "        [[0.65882353, 0.37254902, 0.58431373],\n",
       "         [0.65098039, 0.37647059, 0.59215686],\n",
       "         [0.75294118, 0.54117647, 0.74901961],\n",
       "         ...,\n",
       "         [0.90588235, 0.80784314, 0.9372549 ],\n",
       "         [0.91372549, 0.81960784, 0.94901961],\n",
       "         [0.88627451, 0.78823529, 0.92156863]],\n",
       "\n",
       "        [[0.69803922, 0.38823529, 0.60392157],\n",
       "         [0.67843137, 0.39215686, 0.60784314],\n",
       "         [0.71764706, 0.49803922, 0.70196078],\n",
       "         ...,\n",
       "         [0.90588235, 0.81176471, 0.94117647],\n",
       "         [0.93333333, 0.83529412, 0.96862745],\n",
       "         [0.95686275, 0.85882353, 0.99215686]]],\n",
       "\n",
       "\n",
       "       [[[0.96862745, 0.95294118, 0.96862745],\n",
       "         [0.96470588, 0.94901961, 0.97254902],\n",
       "         [0.95686275, 0.9372549 , 0.96862745],\n",
       "         ...,\n",
       "         [0.65490196, 0.39607843, 0.59607843],\n",
       "         [0.63921569, 0.37647059, 0.58039216],\n",
       "         [0.6627451 , 0.4       , 0.60392157]],\n",
       "\n",
       "        [[0.97254902, 0.95686275, 0.97254902],\n",
       "         [0.98039216, 0.96078431, 0.98431373],\n",
       "         [0.96862745, 0.94901961, 0.98039216],\n",
       "         ...,\n",
       "         [0.7254902 , 0.4627451 , 0.67058824],\n",
       "         [0.63137255, 0.37647059, 0.58039216],\n",
       "         [0.67843137, 0.42352941, 0.62745098]],\n",
       "\n",
       "        [[0.96078431, 0.94509804, 0.95686275],\n",
       "         [0.96078431, 0.94509804, 0.96470588],\n",
       "         [0.96470588, 0.94901961, 0.97647059],\n",
       "         ...,\n",
       "         [0.88627451, 0.65490196, 0.85882353],\n",
       "         [0.7372549 , 0.50196078, 0.70588235],\n",
       "         [0.68627451, 0.45098039, 0.65098039]],\n",
       "\n",
       "        ...,\n",
       "\n",
       "        [[0.89803922, 0.81960784, 0.89019608],\n",
       "         [0.89411765, 0.81176471, 0.89019608],\n",
       "         [0.90196078, 0.81568627, 0.89803922],\n",
       "         ...,\n",
       "         [0.74117647, 0.50196078, 0.71764706],\n",
       "         [0.72156863, 0.48235294, 0.70196078],\n",
       "         [0.84705882, 0.60784314, 0.83137255]],\n",
       "\n",
       "        [[0.90588235, 0.82352941, 0.89411765],\n",
       "         [0.90588235, 0.82352941, 0.90196078],\n",
       "         [0.89803922, 0.81568627, 0.90196078],\n",
       "         ...,\n",
       "         [0.67058824, 0.44313725, 0.65490196],\n",
       "         [0.76078431, 0.5372549 , 0.75294118],\n",
       "         [0.87058824, 0.65098039, 0.87058824]],\n",
       "\n",
       "        [[0.89019608, 0.80784314, 0.87843137],\n",
       "         [0.8745098 , 0.79215686, 0.87058824],\n",
       "         [0.8745098 , 0.79215686, 0.87843137],\n",
       "         ...,\n",
       "         [0.68627451, 0.41960784, 0.63529412],\n",
       "         [0.78431373, 0.52941176, 0.74509804],\n",
       "         [0.76470588, 0.52941176, 0.74509804]]],\n",
       "\n",
       "\n",
       "       ...,\n",
       "\n",
       "\n",
       "       [[[0.75686275, 0.55294118, 0.68627451],\n",
       "         [0.81960784, 0.65882353, 0.76862745],\n",
       "         [0.87058824, 0.7372549 , 0.83921569],\n",
       "         ...,\n",
       "         [0.91372549, 0.76470588, 0.89803922],\n",
       "         [0.82352941, 0.64313725, 0.78039216],\n",
       "         [0.79607843, 0.59215686, 0.72941176]],\n",
       "\n",
       "        [[0.89411765, 0.69411765, 0.82745098],\n",
       "         [0.92156863, 0.76862745, 0.8745098 ],\n",
       "         [0.94509804, 0.83137255, 0.91372549],\n",
       "         ...,\n",
       "         [0.88627451, 0.72941176, 0.8745098 ],\n",
       "         [0.85098039, 0.67058824, 0.81176471],\n",
       "         [0.84705882, 0.64313725, 0.78431373]],\n",
       "\n",
       "        [[1.        , 0.90588235, 1.        ],\n",
       "         [1.        , 0.90588235, 1.        ],\n",
       "         [0.98823529, 0.84313725, 0.94901961],\n",
       "         ...,\n",
       "         [0.85490196, 0.68627451, 0.83921569],\n",
       "         [0.84313725, 0.6627451 , 0.81176471],\n",
       "         [0.83137255, 0.63137255, 0.78431373]],\n",
       "\n",
       "        ...,\n",
       "\n",
       "        [[0.85098039, 0.65098039, 0.82745098],\n",
       "         [0.89019608, 0.6745098 , 0.85490196],\n",
       "         [0.84705882, 0.61568627, 0.8       ],\n",
       "         ...,\n",
       "         [0.98039216, 0.78823529, 0.92941176],\n",
       "         [0.98039216, 0.78431373, 0.92156863],\n",
       "         [0.9372549 , 0.70980392, 0.85490196]],\n",
       "\n",
       "        [[0.79215686, 0.56470588, 0.75294118],\n",
       "         [0.73333333, 0.50196078, 0.69411765],\n",
       "         [0.74509804, 0.51372549, 0.70588235],\n",
       "         ...,\n",
       "         [0.98039216, 0.78431373, 0.91764706],\n",
       "         [0.99607843, 0.85490196, 0.97254902],\n",
       "         [0.96078431, 0.82352941, 0.9372549 ]],\n",
       "\n",
       "        [[0.76862745, 0.54117647, 0.7254902 ],\n",
       "         [0.7372549 , 0.50980392, 0.69803922],\n",
       "         [0.76078431, 0.5372549 , 0.72941176],\n",
       "         ...,\n",
       "         [0.73333333, 0.51764706, 0.6627451 ],\n",
       "         [0.85490196, 0.69411765, 0.81960784],\n",
       "         [0.94509804, 0.80392157, 0.91764706]]],\n",
       "\n",
       "\n",
       "       [[[0.90980392, 0.79215686, 0.89019608],\n",
       "         [0.75686275, 0.57254902, 0.69019608],\n",
       "         [0.76862745, 0.57254902, 0.71764706],\n",
       "         ...,\n",
       "         [0.84313725, 0.61568627, 0.79607843],\n",
       "         [0.83529412, 0.61568627, 0.78823529],\n",
       "         [0.83137255, 0.63137255, 0.79607843]],\n",
       "\n",
       "        [[1.        , 0.96862745, 1.        ],\n",
       "         [0.94901961, 0.83137255, 0.92156863],\n",
       "         [0.7372549 , 0.59215686, 0.70588235],\n",
       "         ...,\n",
       "         [0.8627451 , 0.61960784, 0.78823529],\n",
       "         [0.87843137, 0.64705882, 0.81176471],\n",
       "         [0.87843137, 0.67058824, 0.82745098]],\n",
       "\n",
       "        [[0.99215686, 0.96470588, 0.98823529],\n",
       "         [1.        , 0.96862745, 0.99215686],\n",
       "         [0.95686275, 0.88235294, 0.94901961],\n",
       "         ...,\n",
       "         [0.90196078, 0.68627451, 0.83921569],\n",
       "         [0.88235294, 0.6745098 , 0.82352941],\n",
       "         [0.80392157, 0.6       , 0.74509804]],\n",
       "\n",
       "        ...,\n",
       "\n",
       "        [[0.83137255, 0.68235294, 0.84313725],\n",
       "         [0.85490196, 0.70980392, 0.8627451 ],\n",
       "         [0.87058824, 0.72941176, 0.8745098 ],\n",
       "         ...,\n",
       "         [0.63137255, 0.36470588, 0.50588235],\n",
       "         [0.74117647, 0.49019608, 0.62745098],\n",
       "         [0.8       , 0.56862745, 0.70196078]],\n",
       "\n",
       "        [[0.77254902, 0.61960784, 0.77647059],\n",
       "         [0.79607843, 0.64705882, 0.8       ],\n",
       "         [0.86666667, 0.72156863, 0.87058824],\n",
       "         ...,\n",
       "         [0.85098039, 0.56862745, 0.68627451],\n",
       "         [0.79215686, 0.53333333, 0.6627451 ],\n",
       "         [0.64705882, 0.40392157, 0.54509804]],\n",
       "\n",
       "        [[0.77254902, 0.62352941, 0.76862745],\n",
       "         [0.83921569, 0.69019608, 0.83921569],\n",
       "         [0.89019608, 0.74117647, 0.89019608],\n",
       "         ...,\n",
       "         [1.        , 0.76078431, 0.89019608],\n",
       "         [0.79215686, 0.55294118, 0.69411765],\n",
       "         [0.63137255, 0.39607843, 0.54509804]]],\n",
       "\n",
       "\n",
       "       [[[0.86666667, 0.70588235, 0.81960784],\n",
       "         [1.        , 0.90588235, 0.98823529],\n",
       "         [1.        , 0.94509804, 0.98823529],\n",
       "         ...,\n",
       "         [0.89803922, 0.8       , 0.89411765],\n",
       "         [0.8627451 , 0.73333333, 0.86666667],\n",
       "         [0.8627451 , 0.71372549, 0.87843137]],\n",
       "\n",
       "        [[0.94901961, 0.80784314, 0.90980392],\n",
       "         [0.96862745, 0.87058824, 0.94901961],\n",
       "         [0.97647059, 0.91372549, 0.97647059],\n",
       "         ...,\n",
       "         [0.85490196, 0.7254902 , 0.85490196],\n",
       "         [0.8745098 , 0.70980392, 0.85882353],\n",
       "         [0.83921569, 0.64705882, 0.81176471]],\n",
       "\n",
       "        [[0.78823529, 0.6627451 , 0.75686275],\n",
       "         [0.89803922, 0.79215686, 0.88235294],\n",
       "         [0.88627451, 0.79607843, 0.88627451],\n",
       "         ...,\n",
       "         [0.81568627, 0.65882353, 0.81176471],\n",
       "         [0.73333333, 0.5372549 , 0.69803922],\n",
       "         [0.71764706, 0.49019608, 0.65098039]],\n",
       "\n",
       "        ...,\n",
       "\n",
       "        [[0.62352941, 0.34509804, 0.49019608],\n",
       "         [0.71372549, 0.50588235, 0.63137255],\n",
       "         [0.81176471, 0.67843137, 0.78823529],\n",
       "         ...,\n",
       "         [0.76078431, 0.5254902 , 0.70980392],\n",
       "         [0.83921569, 0.63921569, 0.8       ],\n",
       "         [0.93333333, 0.78039216, 0.90980392]],\n",
       "\n",
       "        [[0.69411765, 0.43921569, 0.58823529],\n",
       "         [0.74509804, 0.54509804, 0.68235294],\n",
       "         [0.83529412, 0.69019608, 0.81176471],\n",
       "         ...,\n",
       "         [0.83137255, 0.59215686, 0.76078431],\n",
       "         [0.84313725, 0.64313725, 0.79215686],\n",
       "         [0.88235294, 0.74117647, 0.85490196]],\n",
       "\n",
       "        [[0.81176471, 0.60784314, 0.75294118],\n",
       "         [0.88235294, 0.74509804, 0.85490196],\n",
       "         [0.99215686, 0.90588235, 0.98431373],\n",
       "         ...,\n",
       "         [0.68235294, 0.44313725, 0.6       ],\n",
       "         [0.84313725, 0.65098039, 0.78431373],\n",
       "         [0.94117647, 0.80392157, 0.90588235]]]])"
      ]
     },
     "execution_count": 9,
     "metadata": {},
     "output_type": "execute_result"
    }
   ],
   "source": [
    "X_main "
   ]
  },
  {
   "cell_type": "code",
   "execution_count": 10,
   "metadata": {
    "ExecuteTime": {
     "end_time": "2021-05-09T12:21:45.783457Z",
     "start_time": "2021-05-09T12:21:45.568033Z"
    }
   },
   "outputs": [
    {
     "data": {
      "text/plain": [
       "<matplotlib.image.AxesImage at 0x1fa28d9b7f0>"
      ]
     },
     "execution_count": 10,
     "metadata": {},
     "output_type": "execute_result"
    },
    {
     "data": {
      "image/png": "[encoded data removed]",
      "text/plain": [
       "<Figure size 432x288 with 1 Axes>"
      ]
     },
     "metadata": {},
     "output_type": "display_data"
    }
   ],
   "source": [
    "plt.imshow(X_main[0])"
   ]
  },
  {
   "cell_type": "code",
   "execution_count": 11,
   "metadata": {
    "ExecuteTime": {
     "end_time": "2021-05-09T12:21:45.799414Z",
     "start_time": "2021-05-09T12:21:45.785452Z"
    }
   },
   "outputs": [
    {
     "data": {
      "text/plain": [
       "array([0, 0, 0, ..., 2, 2, 2], dtype=int64)"
      ]
     },
     "execution_count": 11,
     "metadata": {},
     "output_type": "execute_result"
    }
   ],
   "source": [
    "y_main =  main_data['cellType'].ravel()\n",
    "y_main"
   ]
  }
 ],
 "metadata": {
  "kernelspec": {
   "display_name": "Python 3",
   "language": "python",
   "name": "python3"
  },
  "language_info": {
   "codemirror_mode": {
    "name": "ipython",
    "version": 3
   },
   "file_extension": ".py",
   "mimetype": "text/x-python",
   "name": "python",
   "nbconvert_exporter": "python",
   "pygments_lexer": "ipython3",
   "version": "3.8.5"
  },
  "toc": {
   "base_numbering": 1,
   "nav_menu": {},
   "number_sections": false,
   "sideBar": true,
   "skip_h1_title": false,
   "title_cell": "Table of Contents",
   "title_sidebar": "Contents",
   "toc_cell": false,
   "toc_position": {},
   "toc_section_display": true,
   "toc_window_display": false
  }
 },
 "nbformat": 4,
 "nbformat_minor": 5
}
