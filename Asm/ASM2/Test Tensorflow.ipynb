{
 "cells": [
  {
   "cell_type": "markdown",
   "metadata": {},
   "source": [
    "## Installation needed"
   ]
  },
  {
   "cell_type": "code",
   "execution_count": 1,
   "metadata": {
    "ExecuteTime": {
     "end_time": "2021-05-12T04:18:17.366673Z",
     "start_time": "2021-05-12T04:18:17.351708Z"
    }
   },
   "outputs": [],
   "source": [
    "# !pip install tensorflow\n",
    "# !pip install opencv-python\n",
    "# !pip install keras"
   ]
  },
  {
   "cell_type": "markdown",
   "metadata": {},
   "source": [
    "## Import libraries"
   ]
  },
  {
   "cell_type": "code",
   "execution_count": 1,
   "metadata": {
    "ExecuteTime": {
     "end_time": "2021-05-13T07:00:41.646580Z",
     "start_time": "2021-05-13T07:00:34.589257Z"
    }
   },
   "outputs": [
    {
     "name": "stdout",
     "output_type": "stream",
     "text": [
      "Using Tensorflow version: 2.4.1\n"
     ]
    }
   ],
   "source": [
    "import pandas as pd\n",
    "import numpy as np\n",
    "import matplotlib.pyplot as plt\n",
    "%matplotlib inline \n",
    "plt.style.use('dark_background')\n",
    "import seaborn as sns\n",
    "from tqdm import tqdm\n",
    "\n",
    "import cv2\n",
    "import os\n",
    "import tensorflow as tf\n",
    "import sklearn as sk\n",
    "\n",
    "import warnings\n",
    "warnings.filterwarnings('ignore')\n",
    "\n",
    "print('Using Tensorflow version:', tf.__version__)"
   ]
  },
  {
   "cell_type": "markdown",
   "metadata": {},
   "source": [
    "## Import files"
   ]
  },
  {
   "cell_type": "code",
   "execution_count": 2,
   "metadata": {
    "ExecuteTime": {
     "end_time": "2021-05-13T07:00:41.723407Z",
     "start_time": "2021-05-13T07:00:41.648568Z"
    }
   },
   "outputs": [],
   "source": [
    "main_data = pd.read_csv('data_labels_mainData.csv')\n",
    "extra_data = pd.read_csv('data_labels_extraData.csv')"
   ]
  },
  {
   "cell_type": "code",
   "execution_count": 3,
   "metadata": {
    "ExecuteTime": {
     "end_time": "2021-05-13T07:00:41.769804Z",
     "start_time": "2021-05-13T07:00:41.726405Z"
    }
   },
   "outputs": [
    {
     "data": {
      "text/html": [
       "<div>\n",
       "<style scoped>\n",
       "    .dataframe tbody tr th:only-of-type {\n",
       "        vertical-align: middle;\n",
       "    }\n",
       "\n",
       "    .dataframe tbody tr th {\n",
       "        vertical-align: top;\n",
       "    }\n",
       "\n",
       "    .dataframe thead th {\n",
       "        text-align: right;\n",
       "    }\n",
       "</style>\n",
       "<table border=\"1\" class=\"dataframe\">\n",
       "  <thead>\n",
       "    <tr style=\"text-align: right;\">\n",
       "      <th></th>\n",
       "      <th>InstanceID</th>\n",
       "      <th>patientID</th>\n",
       "      <th>ImageName</th>\n",
       "      <th>cellTypeName</th>\n",
       "      <th>cellType</th>\n",
       "      <th>isCancerous</th>\n",
       "    </tr>\n",
       "  </thead>\n",
       "  <tbody>\n",
       "    <tr>\n",
       "      <th>0</th>\n",
       "      <td>22405</td>\n",
       "      <td>1</td>\n",
       "      <td>22405.png</td>\n",
       "      <td>fibroblast</td>\n",
       "      <td>0</td>\n",
       "      <td>0</td>\n",
       "    </tr>\n",
       "    <tr>\n",
       "      <th>1</th>\n",
       "      <td>22406</td>\n",
       "      <td>1</td>\n",
       "      <td>22406.png</td>\n",
       "      <td>fibroblast</td>\n",
       "      <td>0</td>\n",
       "      <td>0</td>\n",
       "    </tr>\n",
       "    <tr>\n",
       "      <th>2</th>\n",
       "      <td>22407</td>\n",
       "      <td>1</td>\n",
       "      <td>22407.png</td>\n",
       "      <td>fibroblast</td>\n",
       "      <td>0</td>\n",
       "      <td>0</td>\n",
       "    </tr>\n",
       "    <tr>\n",
       "      <th>3</th>\n",
       "      <td>22408</td>\n",
       "      <td>1</td>\n",
       "      <td>22408.png</td>\n",
       "      <td>fibroblast</td>\n",
       "      <td>0</td>\n",
       "      <td>0</td>\n",
       "    </tr>\n",
       "    <tr>\n",
       "      <th>4</th>\n",
       "      <td>22409</td>\n",
       "      <td>1</td>\n",
       "      <td>22409.png</td>\n",
       "      <td>fibroblast</td>\n",
       "      <td>0</td>\n",
       "      <td>0</td>\n",
       "    </tr>\n",
       "    <tr>\n",
       "      <th>...</th>\n",
       "      <td>...</td>\n",
       "      <td>...</td>\n",
       "      <td>...</td>\n",
       "      <td>...</td>\n",
       "      <td>...</td>\n",
       "      <td>...</td>\n",
       "    </tr>\n",
       "    <tr>\n",
       "      <th>9891</th>\n",
       "      <td>1625</td>\n",
       "      <td>60</td>\n",
       "      <td>1625.png</td>\n",
       "      <td>epithelial</td>\n",
       "      <td>2</td>\n",
       "      <td>1</td>\n",
       "    </tr>\n",
       "    <tr>\n",
       "      <th>9892</th>\n",
       "      <td>1626</td>\n",
       "      <td>60</td>\n",
       "      <td>1626.png</td>\n",
       "      <td>epithelial</td>\n",
       "      <td>2</td>\n",
       "      <td>1</td>\n",
       "    </tr>\n",
       "    <tr>\n",
       "      <th>9893</th>\n",
       "      <td>1627</td>\n",
       "      <td>60</td>\n",
       "      <td>1627.png</td>\n",
       "      <td>epithelial</td>\n",
       "      <td>2</td>\n",
       "      <td>1</td>\n",
       "    </tr>\n",
       "    <tr>\n",
       "      <th>9894</th>\n",
       "      <td>1628</td>\n",
       "      <td>60</td>\n",
       "      <td>1628.png</td>\n",
       "      <td>epithelial</td>\n",
       "      <td>2</td>\n",
       "      <td>1</td>\n",
       "    </tr>\n",
       "    <tr>\n",
       "      <th>9895</th>\n",
       "      <td>1629</td>\n",
       "      <td>60</td>\n",
       "      <td>1629.png</td>\n",
       "      <td>epithelial</td>\n",
       "      <td>2</td>\n",
       "      <td>1</td>\n",
       "    </tr>\n",
       "  </tbody>\n",
       "</table>\n",
       "<p>9896 rows × 6 columns</p>\n",
       "</div>"
      ],
      "text/plain": [
       "      InstanceID  patientID  ImageName cellTypeName  cellType  isCancerous\n",
       "0          22405          1  22405.png   fibroblast         0            0\n",
       "1          22406          1  22406.png   fibroblast         0            0\n",
       "2          22407          1  22407.png   fibroblast         0            0\n",
       "3          22408          1  22408.png   fibroblast         0            0\n",
       "4          22409          1  22409.png   fibroblast         0            0\n",
       "...          ...        ...        ...          ...       ...          ...\n",
       "9891        1625         60   1625.png   epithelial         2            1\n",
       "9892        1626         60   1626.png   epithelial         2            1\n",
       "9893        1627         60   1627.png   epithelial         2            1\n",
       "9894        1628         60   1628.png   epithelial         2            1\n",
       "9895        1629         60   1629.png   epithelial         2            1\n",
       "\n",
       "[9896 rows x 6 columns]"
      ]
     },
     "execution_count": 3,
     "metadata": {},
     "output_type": "execute_result"
    }
   ],
   "source": [
    "main_data"
   ]
  },
  {
   "cell_type": "code",
   "execution_count": 4,
   "metadata": {
    "ExecuteTime": {
     "end_time": "2021-05-13T07:00:41.784792Z",
     "start_time": "2021-05-13T07:00:41.771799Z"
    }
   },
   "outputs": [
    {
     "data": {
      "text/html": [
       "<div>\n",
       "<style scoped>\n",
       "    .dataframe tbody tr th:only-of-type {\n",
       "        vertical-align: middle;\n",
       "    }\n",
       "\n",
       "    .dataframe tbody tr th {\n",
       "        vertical-align: top;\n",
       "    }\n",
       "\n",
       "    .dataframe thead th {\n",
       "        text-align: right;\n",
       "    }\n",
       "</style>\n",
       "<table border=\"1\" class=\"dataframe\">\n",
       "  <thead>\n",
       "    <tr style=\"text-align: right;\">\n",
       "      <th></th>\n",
       "      <th>InstanceID</th>\n",
       "      <th>patientID</th>\n",
       "      <th>ImageName</th>\n",
       "      <th>isCancerous</th>\n",
       "    </tr>\n",
       "  </thead>\n",
       "  <tbody>\n",
       "    <tr>\n",
       "      <th>0</th>\n",
       "      <td>12681</td>\n",
       "      <td>61</td>\n",
       "      <td>12681.png</td>\n",
       "      <td>0</td>\n",
       "    </tr>\n",
       "    <tr>\n",
       "      <th>1</th>\n",
       "      <td>12682</td>\n",
       "      <td>61</td>\n",
       "      <td>12682.png</td>\n",
       "      <td>0</td>\n",
       "    </tr>\n",
       "    <tr>\n",
       "      <th>2</th>\n",
       "      <td>12683</td>\n",
       "      <td>61</td>\n",
       "      <td>12683.png</td>\n",
       "      <td>0</td>\n",
       "    </tr>\n",
       "    <tr>\n",
       "      <th>3</th>\n",
       "      <td>12684</td>\n",
       "      <td>61</td>\n",
       "      <td>12684.png</td>\n",
       "      <td>0</td>\n",
       "    </tr>\n",
       "    <tr>\n",
       "      <th>4</th>\n",
       "      <td>12685</td>\n",
       "      <td>61</td>\n",
       "      <td>12685.png</td>\n",
       "      <td>0</td>\n",
       "    </tr>\n",
       "    <tr>\n",
       "      <th>...</th>\n",
       "      <td>...</td>\n",
       "      <td>...</td>\n",
       "      <td>...</td>\n",
       "      <td>...</td>\n",
       "    </tr>\n",
       "    <tr>\n",
       "      <th>10379</th>\n",
       "      <td>20028</td>\n",
       "      <td>99</td>\n",
       "      <td>20028.png</td>\n",
       "      <td>0</td>\n",
       "    </tr>\n",
       "    <tr>\n",
       "      <th>10380</th>\n",
       "      <td>20029</td>\n",
       "      <td>99</td>\n",
       "      <td>20029.png</td>\n",
       "      <td>0</td>\n",
       "    </tr>\n",
       "    <tr>\n",
       "      <th>10381</th>\n",
       "      <td>20030</td>\n",
       "      <td>99</td>\n",
       "      <td>20030.png</td>\n",
       "      <td>0</td>\n",
       "    </tr>\n",
       "    <tr>\n",
       "      <th>10382</th>\n",
       "      <td>20031</td>\n",
       "      <td>99</td>\n",
       "      <td>20031.png</td>\n",
       "      <td>0</td>\n",
       "    </tr>\n",
       "    <tr>\n",
       "      <th>10383</th>\n",
       "      <td>20032</td>\n",
       "      <td>99</td>\n",
       "      <td>20032.png</td>\n",
       "      <td>0</td>\n",
       "    </tr>\n",
       "  </tbody>\n",
       "</table>\n",
       "<p>10384 rows × 4 columns</p>\n",
       "</div>"
      ],
      "text/plain": [
       "       InstanceID  patientID  ImageName  isCancerous\n",
       "0           12681         61  12681.png            0\n",
       "1           12682         61  12682.png            0\n",
       "2           12683         61  12683.png            0\n",
       "3           12684         61  12684.png            0\n",
       "4           12685         61  12685.png            0\n",
       "...           ...        ...        ...          ...\n",
       "10379       20028         99  20028.png            0\n",
       "10380       20029         99  20029.png            0\n",
       "10381       20030         99  20030.png            0\n",
       "10382       20031         99  20031.png            0\n",
       "10383       20032         99  20032.png            0\n",
       "\n",
       "[10384 rows x 4 columns]"
      ]
     },
     "execution_count": 4,
     "metadata": {},
     "output_type": "execute_result"
    }
   ],
   "source": [
    "extra_data"
   ]
  },
  {
   "cell_type": "markdown",
   "metadata": {},
   "source": [
    "## Image inspect"
   ]
  },
  {
   "cell_type": "code",
   "execution_count": 5,
   "metadata": {
    "ExecuteTime": {
     "end_time": "2021-05-13T07:30:34.456990Z",
     "start_time": "2021-05-13T07:30:34.419405Z"
    }
   },
   "outputs": [
    {
     "name": "stdout",
     "output_type": "stream",
     "text": [
      "['22405.png', '22406.png', '22407.png', '22408.png']\n",
      "['22417.png', '22418.png', '22419.png', '22420.png']\n",
      "['276.png', '277.png', '278.png', '279.png']\n",
      "['22423.png', '22424.png', '19061.png', '19062.png']\n"
     ]
    }
   ],
   "source": [
    "# Prepare some image of each class\n",
    "cell0 = main_data['ImageName'].loc[main_data['cellType'] == 0][:4].tolist()\n",
    "cell1 = main_data['ImageName'].loc[main_data['cellType'] == 1][:4].tolist()\n",
    "cell2 = main_data['ImageName'].loc[main_data['cellType'] == 2][:4].tolist()\n",
    "cell3 = main_data['ImageName'].loc[main_data['cellType'] == 3][:4].tolist()\n",
    "\n",
    "print(cell0)\n",
    "print(cell1)\n",
    "print(cell2)\n",
    "print(cell3)"
   ]
  },
  {
   "cell_type": "code",
   "execution_count": 6,
   "metadata": {
    "ExecuteTime": {
     "end_time": "2021-05-13T07:49:37.278925Z",
     "start_time": "2021-05-13T07:49:35.762241Z"
    }
   },
   "outputs": [
    {
     "data": {
      "image/png": "[encoded data removed]",
      "text/plain": [
       "<Figure size 432x288 with 4 Axes>"
      ]
     },
     "metadata": {},
     "output_type": "display_data"
    },
    {
     "data": {
      "image/png": "[encoded data removed]",
      "text/plain": [
       "<Figure size 432x288 with 4 Axes>"
      ]
     },
     "metadata": {},
     "output_type": "display_data"
    },
    {
     "data": {
      "image/png": "[encoded data removed]",
      "text/plain": [
       "<Figure size 432x288 with 4 Axes>"
      ]
     },
     "metadata": {},
     "output_type": "display_data"
    },
    {
     "data": {
      "image/png": "[encoded data removed]",
      "text/plain": [
       "<Figure size 432x288 with 4 Axes>"
      ]
     },
     "metadata": {},
     "output_type": "display_data"
    }
   ],
   "source": [
    "# CHANGE THE DIRECTORY IN YOUR LOCAL MACHINE\n",
    "# Minh: C:\\Users\\luong\\Documents\\GitHub\\ML\\Asm\\ASM2\\patch_images\n",
    "directory = r\"C:\\Users\\User\\Desktop\\RMIT\\Cloud - GitHub\\Minh\\ML\\Asm\\ASM2\\patch_images\"\n",
    "\n",
    "for i in range (4):\n",
    "    cell_0 = cv2.imread(os.path.join(directory, cell0[i]))\n",
    "    cell_1 = cv2.imread(os.path.join(directory, cell1[i]))\n",
    "    cell_2 = cv2.imread(os.path.join(directory, cell2[i]))\n",
    "    cell_3 = cv2.imread(os.path.join(directory, cell3[i]))\n",
    "\n",
    "    fig, ((ax1, ax2), (ax3, ax4)) = plt.subplots(2, 2)\n",
    "    \n",
    "    ax1.title.set_text(\"Cell 0: Fibroblast \")\n",
    "    ax1.imshow(cell_0)\n",
    "    \n",
    "    ax2.title.set_text(\"Cell 1: Inflammatory\")\n",
    "    ax2.imshow(cell_1)\n",
    "    \n",
    "    ax3.title.set_text(\"Cell 2: Epithelial \")\n",
    "    ax3.imshow(cell_2)\n",
    "    \n",
    "    ax4.title.set_text(\"Cell 3: Others\")\n",
    "    ax4.imshow(cell_3)\n",
    "\n",
    "    for ax in fig.get_axes():\n",
    "        ax.label_outer()"
   ]
  },
  {
   "cell_type": "markdown",
   "metadata": {},
   "source": [
    "## Prepare data"
   ]
  },
  {
   "cell_type": "code",
   "execution_count": 7,
   "metadata": {
    "ExecuteTime": {
     "end_time": "2021-05-13T07:58:16.712098Z",
     "start_time": "2021-05-13T07:58:16.428189Z"
    }
   },
   "outputs": [
    {
     "name": "stdout",
     "output_type": "stream",
     "text": [
      "Train data : 5304, Val Data: 1326, Test Data: 3266\n"
     ]
    }
   ],
   "source": [
    "from sklearn.model_selection import train_test_split\n",
    "X = main_data['ImageName']\n",
    "y = main_data['cellType']\n",
    "\n",
    "train_X, test_X, train_Y, test_Y = train_test_split(X, y, test_size=0.33)\n",
    "train_X, val_X, train_Y, val_Y = train_test_split(train_X, train_Y, test_size=0.2)\n",
    "\n",
    "print(\"Train data : {}, Val Data: {}, Test Data: {}\".format(train_X.shape[0], val_X.shape[0], test_X.shape[0]))"
   ]
  },
  {
   "cell_type": "code",
   "execution_count": 8,
   "metadata": {
    "ExecuteTime": {
     "end_time": "2021-05-13T07:58:19.483947Z",
     "start_time": "2021-05-13T07:58:19.472725Z"
    }
   },
   "outputs": [],
   "source": [
    "train_Y = train_Y.ravel()\n",
    "val_Y = val_Y.ravel()\n",
    "test_Y = test_Y.ravel()"
   ]
  },
  {
   "cell_type": "markdown",
   "metadata": {},
   "source": [
    "## Transfer to image array"
   ]
  },
  {
   "cell_type": "code",
   "execution_count": 9,
   "metadata": {
    "ExecuteTime": {
     "end_time": "2021-05-13T07:58:22.440816Z",
     "start_time": "2021-05-13T07:58:22.427286Z"
    }
   },
   "outputs": [],
   "source": [
    "def create_train_data(directory, img_list):\n",
    "    IMAGE_SIZE = 27\n",
    "    train_data = []\n",
    "    for img in tqdm(img_list, desc='Extracting Image Progress'):\n",
    "        path = os.path.join(directory, img)\n",
    "        img = cv2.resize(cv2.imread(path), (IMAGE_SIZE,IMAGE_SIZE))\n",
    "        train_data.append(np.array(img))\n",
    "    print(\"Successfully import images!\")\n",
    "    # Convert to np.array and normalize pixel values to be between 0 and 1 \n",
    "    return np.array(train_data).astype('float32') / 255.0 "
   ]
  },
  {
   "cell_type": "code",
   "execution_count": 10,
   "metadata": {
    "ExecuteTime": {
     "end_time": "2021-05-13T07:59:39.045121Z",
     "start_time": "2021-05-13T07:59:37.531238Z"
    }
   },
   "outputs": [
    {
     "name": "stderr",
     "output_type": "stream",
     "text": [
      "Extracting Image Progress: 100%|██████████| 5304/5304 [00:01<00:00, 3437.62it/s]\n",
      "Extracting Image Progress:  25%|██▌       | 332/1326 [00:00<00:00, 3319.62it/s]"
     ]
    },
    {
     "name": "stdout",
     "output_type": "stream",
     "text": [
      "Successfully import images!\n"
     ]
    },
    {
     "name": "stderr",
     "output_type": "stream",
     "text": [
      "Extracting Image Progress: 100%|██████████| 1326/1326 [00:00<00:00, 3428.73it/s]\n",
      "Extracting Image Progress:  22%|██▏       | 723/3266 [00:00<00:00, 3585.34it/s]"
     ]
    },
    {
     "name": "stdout",
     "output_type": "stream",
     "text": [
      "Successfully import images!\n"
     ]
    },
    {
     "name": "stderr",
     "output_type": "stream",
     "text": [
      "Extracting Image Progress: 100%|██████████| 3266/3266 [00:00<00:00, 3455.28it/s]"
     ]
    },
    {
     "name": "stdout",
     "output_type": "stream",
     "text": [
      "Successfully import images!\n"
     ]
    },
    {
     "name": "stderr",
     "output_type": "stream",
     "text": [
      "\n"
     ]
    }
   ],
   "source": [
    "# CHANGE THE PATH TO IMAGE FOLDER IN YOUR LOCAL DEVICE!\n",
    "# Minh: C:\\Users\\luong\\Documents\\GitHub\\ML\\Asm\\ASM2\\patch_images\n",
    "path = r\"C:\\Users\\User\\Desktop\\RMIT\\Cloud - GitHub\\Minh\\ML\\Asm\\ASM2\\patch_images\"\n",
    "\n",
    "train_X_img = create_train_data(path, train_X.tolist())\n",
    "val_X_img = create_train_data(path, val_X.tolist())\n",
    "test_X_img = create_train_data(path, test_X.tolist())"
   ]
  },
  {
   "cell_type": "code",
   "execution_count": 11,
   "metadata": {
    "ExecuteTime": {
     "end_time": "2021-05-13T08:00:42.053580Z",
     "start_time": "2021-05-13T08:00:42.035056Z"
    }
   },
   "outputs": [],
   "source": [
    "# Data augmentation\n",
    "from tensorflow.keras.preprocessing.image import ImageDataGenerator\n",
    "train_datagen = ImageDataGenerator(featurewise_center=True,\n",
    "                                   featurewise_std_normalization=True, \n",
    "                                   rotation_range=20, \n",
    "                                   shear_range=0.2, \n",
    "                                   zoom_range=0.2, \n",
    "                                   horizontal_flip=True, \n",
    "                                   fill_mode='nearest', \n",
    "                                   width_shift_range=0.2, \n",
    "                                   height_shift_range=0.2)"
   ]
  },
  {
   "cell_type": "code",
   "execution_count": 12,
   "metadata": {
    "ExecuteTime": {
     "end_time": "2021-05-13T08:45:06.043142Z",
     "start_time": "2021-05-13T08:45:05.945354Z"
    }
   },
   "outputs": [],
   "source": [
    "train_it = train_datagen.flow(train_X_img, train_Y)"
   ]
  },
  {
   "cell_type": "code",
   "execution_count": 13,
   "metadata": {
    "ExecuteTime": {
     "end_time": "2021-05-13T09:12:08.262357Z",
     "start_time": "2021-05-13T09:12:07.717655Z"
    }
   },
   "outputs": [
    {
     "name": "stdout",
     "output_type": "stream",
     "text": [
      "Model: \"sequential\"\n",
      "_________________________________________________________________\n",
      "Layer (type)                 Output Shape              Param #   \n",
      "=================================================================\n",
      "conv2d (Conv2D)              (None, 27, 27, 32)        896       \n",
      "_________________________________________________________________\n",
      "batch_normalization (BatchNo (None, 27, 27, 32)        128       \n",
      "_________________________________________________________________\n",
      "conv2d_1 (Conv2D)            (None, 25, 25, 32)        9248      \n",
      "_________________________________________________________________\n",
      "batch_normalization_1 (Batch (None, 25, 25, 32)        128       \n",
      "_________________________________________________________________\n",
      "max_pooling2d (MaxPooling2D) (None, 12, 12, 32)        0         \n",
      "_________________________________________________________________\n",
      "conv2d_2 (Conv2D)            (None, 12, 12, 64)        18496     \n",
      "_________________________________________________________________\n",
      "batch_normalization_2 (Batch (None, 12, 12, 64)        256       \n",
      "_________________________________________________________________\n",
      "conv2d_3 (Conv2D)            (None, 10, 10, 64)        36928     \n",
      "_________________________________________________________________\n",
      "batch_normalization_3 (Batch (None, 10, 10, 64)        256       \n",
      "_________________________________________________________________\n",
      "max_pooling2d_1 (MaxPooling2 (None, 5, 5, 64)          0         \n",
      "_________________________________________________________________\n",
      "flatten (Flatten)            (None, 1600)              0         \n",
      "_________________________________________________________________\n",
      "dense (Dense)                (None, 512)               819712    \n",
      "_________________________________________________________________\n",
      "batch_normalization_4 (Batch (None, 512)               2048      \n",
      "_________________________________________________________________\n",
      "dropout (Dropout)            (None, 512)               0         \n",
      "_________________________________________________________________\n",
      "dense_1 (Dense)              (None, 512)               262656    \n",
      "_________________________________________________________________\n",
      "batch_normalization_5 (Batch (None, 512)               2048      \n",
      "_________________________________________________________________\n",
      "dropout_1 (Dropout)          (None, 512)               0         \n",
      "_________________________________________________________________\n",
      "dense_2 (Dense)              (None, 4)                 2052      \n",
      "=================================================================\n",
      "Total params: 1,154,852\n",
      "Trainable params: 1,152,420\n",
      "Non-trainable params: 2,432\n",
      "_________________________________________________________________\n"
     ]
    }
   ],
   "source": [
    "from tensorflow.keras.models import Sequential\n",
    "from tensorflow.keras.layers import Dense, Conv2D, MaxPooling2D , Flatten, BatchNormalization, Dropout\n",
    "\n",
    "model = Sequential()\n",
    "model.add(Conv2D(32, (3, 3), activation='relu', padding='same', input_shape=(27,27, 3)))\n",
    "model.add(BatchNormalization())\n",
    "model.add(Conv2D(32, (3, 3), activation='relu'))\n",
    "model.add(BatchNormalization())\n",
    "model.add(MaxPooling2D(pool_size=(2, 2)))\n",
    "\n",
    "model.add(Conv2D(64, (3, 3), activation='relu', padding='same'))\n",
    "model.add(BatchNormalization())\n",
    "model.add(Conv2D(64, (3, 3), activation='relu'))\n",
    "model.add(BatchNormalization())\n",
    "model.add(MaxPooling2D(pool_size=(2, 2)))\n",
    "\n",
    "model.add(Flatten())\n",
    "model.add(Dense(512, activation='relu'))\n",
    "model.add(BatchNormalization())\n",
    "model.add(Dropout(0.2))\n",
    "model.add(Dense(512, activation='relu'))\n",
    "model.add(BatchNormalization())\n",
    "model.add(Dropout(0.2))\n",
    "model.add(Dense(4, activation='softmax'))\n",
    "model.summary()"
   ]
  },
  {
   "cell_type": "code",
   "execution_count": 14,
   "metadata": {
    "ExecuteTime": {
     "end_time": "2021-05-13T09:12:14.324383Z",
     "start_time": "2021-05-13T09:12:14.301348Z"
    }
   },
   "outputs": [],
   "source": [
    "from tensorflow.keras.optimizers import Adam\n",
    "\n",
    "opt = Adam(lr=0.000001)\n",
    "model.compile(optimizer = opt , \n",
    "              loss = 'sparse_categorical_crossentropy', \n",
    "              metrics = ['accuracy'])"
   ]
  },
  {
   "cell_type": "code",
   "execution_count": 15,
   "metadata": {
    "ExecuteTime": {
     "end_time": "2021-05-11T10:44:37.466000Z",
     "start_time": "2021-05-11T10:44:37.439725Z"
    }
   },
   "outputs": [
    {
     "name": "stdout",
     "output_type": "stream",
     "text": [
      "Model: \"sequential\"\n",
      "_________________________________________________________________\n",
      "Layer (type)                 Output Shape              Param #   \n",
      "=================================================================\n",
      "conv2d (Conv2D)              (None, 27, 27, 32)        896       \n",
      "_________________________________________________________________\n",
      "batch_normalization (BatchNo (None, 27, 27, 32)        128       \n",
      "_________________________________________________________________\n",
      "conv2d_1 (Conv2D)            (None, 25, 25, 32)        9248      \n",
      "_________________________________________________________________\n",
      "batch_normalization_1 (Batch (None, 25, 25, 32)        128       \n",
      "_________________________________________________________________\n",
      "max_pooling2d (MaxPooling2D) (None, 12, 12, 32)        0         \n",
      "_________________________________________________________________\n",
      "conv2d_2 (Conv2D)            (None, 12, 12, 64)        18496     \n",
      "_________________________________________________________________\n",
      "batch_normalization_2 (Batch (None, 12, 12, 64)        256       \n",
      "_________________________________________________________________\n",
      "conv2d_3 (Conv2D)            (None, 10, 10, 64)        36928     \n",
      "_________________________________________________________________\n",
      "batch_normalization_3 (Batch (None, 10, 10, 64)        256       \n",
      "_________________________________________________________________\n",
      "max_pooling2d_1 (MaxPooling2 (None, 5, 5, 64)          0         \n",
      "_________________________________________________________________\n",
      "flatten (Flatten)            (None, 1600)              0         \n",
      "_________________________________________________________________\n",
      "dense (Dense)                (None, 512)               819712    \n",
      "_________________________________________________________________\n",
      "batch_normalization_4 (Batch (None, 512)               2048      \n",
      "_________________________________________________________________\n",
      "dropout (Dropout)            (None, 512)               0         \n",
      "_________________________________________________________________\n",
      "dense_1 (Dense)              (None, 512)               262656    \n",
      "_________________________________________________________________\n",
      "batch_normalization_5 (Batch (None, 512)               2048      \n",
      "_________________________________________________________________\n",
      "dropout_1 (Dropout)          (None, 512)               0         \n",
      "_________________________________________________________________\n",
      "dense_2 (Dense)              (None, 4)                 2052      \n",
      "=================================================================\n",
      "Total params: 1,154,852\n",
      "Trainable params: 1,152,420\n",
      "Non-trainable params: 2,432\n",
      "_________________________________________________________________\n"
     ]
    }
   ],
   "source": [
    "model.summary()"
   ]
  },
  {
   "cell_type": "code",
   "execution_count": 16,
   "metadata": {
    "ExecuteTime": {
     "end_time": "2021-05-13T09:51:55.955729Z",
     "start_time": "2021-05-13T09:18:55.428327Z"
    }
   },
   "outputs": [
    {
     "name": "stdout",
     "output_type": "stream",
     "text": [
      "WARNING:tensorflow:`period` argument is deprecated. Please use `save_freq` to specify the frequency in number of batches seen.\n",
      "Epoch 1/200\n",
      "166/166 [==============================] - 11s 58ms/step - loss: 2.0647 - accuracy: 0.2607 - val_loss: 2.1344 - val_accuracy: 0.1412\n",
      "WARNING:tensorflow:Can save best model only with val_acc available, skipping.\n",
      "Epoch 2/200\n",
      "166/166 [==============================] - 9s 53ms/step - loss: 1.8958 - accuracy: 0.3107 - val_loss: 1.6023 - val_accuracy: 0.2407\n",
      "WARNING:tensorflow:Can save best model only with val_acc available, skipping.\n",
      "Epoch 3/200\n",
      "166/166 [==============================] - 9s 53ms/step - loss: 1.7578 - accuracy: 0.3428 - val_loss: 1.3687 - val_accuracy: 0.3965\n",
      "WARNING:tensorflow:Can save best model only with val_acc available, skipping.\n",
      "Epoch 4/200\n",
      "166/166 [==============================] - 9s 53ms/step - loss: 1.6442 - accuracy: 0.3731 - val_loss: 1.3789 - val_accuracy: 0.4284\n",
      "WARNING:tensorflow:Can save best model only with val_acc available, skipping.\n",
      "Epoch 5/200\n",
      "166/166 [==============================] - 9s 52ms/step - loss: 1.5822 - accuracy: 0.4001 - val_loss: 1.3850 - val_accuracy: 0.4461\n",
      "WARNING:tensorflow:Can save best model only with val_acc available, skipping.\n",
      "Epoch 6/200\n",
      "166/166 [==============================] - 9s 53ms/step - loss: 1.5568 - accuracy: 0.4186 - val_loss: 1.3651 - val_accuracy: 0.4577\n",
      "WARNING:tensorflow:Can save best model only with val_acc available, skipping.\n",
      "Epoch 7/200\n",
      "166/166 [==============================] - 9s 53ms/step - loss: 1.4449 - accuracy: 0.4632 - val_loss: 1.3408 - val_accuracy: 0.4727\n",
      "WARNING:tensorflow:Can save best model only with val_acc available, skipping.\n",
      "Epoch 8/200\n",
      "166/166 [==============================] - 9s 54ms/step - loss: 1.4585 - accuracy: 0.4541 - val_loss: 1.3159 - val_accuracy: 0.4804\n",
      "WARNING:tensorflow:Can save best model only with val_acc available, skipping.\n",
      "Epoch 9/200\n",
      "166/166 [==============================] - 9s 53ms/step - loss: 1.4049 - accuracy: 0.4713 - val_loss: 1.2978 - val_accuracy: 0.4881\n",
      "WARNING:tensorflow:Can save best model only with val_acc available, skipping.\n",
      "Epoch 10/200\n",
      "166/166 [==============================] - 9s 53ms/step - loss: 1.3791 - accuracy: 0.4824 - val_loss: 1.2786 - val_accuracy: 0.4994\n",
      "WARNING:tensorflow:Can save best model only with val_acc available, skipping.\n",
      "Epoch 11/200\n",
      "166/166 [==============================] - 9s 53ms/step - loss: 1.3658 - accuracy: 0.4934 - val_loss: 1.2686 - val_accuracy: 0.5070\n",
      "WARNING:tensorflow:Can save best model only with val_acc available, skipping.\n",
      "Epoch 12/200\n",
      "166/166 [==============================] - 9s 53ms/step - loss: 1.3543 - accuracy: 0.4864 - val_loss: 1.2533 - val_accuracy: 0.5144\n",
      "WARNING:tensorflow:Can save best model only with val_acc available, skipping.\n",
      "Epoch 13/200\n",
      "166/166 [==============================] - 9s 53ms/step - loss: 1.3283 - accuracy: 0.5003 - val_loss: 1.2471 - val_accuracy: 0.5171\n",
      "WARNING:tensorflow:Can save best model only with val_acc available, skipping.\n",
      "Epoch 14/200\n",
      "166/166 [==============================] - 9s 53ms/step - loss: 1.2897 - accuracy: 0.5142 - val_loss: 1.2351 - val_accuracy: 0.5288\n",
      "WARNING:tensorflow:Can save best model only with val_acc available, skipping.\n",
      "Epoch 15/200\n",
      "166/166 [==============================] - 9s 55ms/step - loss: 1.2785 - accuracy: 0.5342 - val_loss: 1.2186 - val_accuracy: 0.5358\n",
      "WARNING:tensorflow:Can save best model only with val_acc available, skipping.\n",
      "Epoch 16/200\n",
      "166/166 [==============================] - 9s 54ms/step - loss: 1.2968 - accuracy: 0.5277 - val_loss: 1.2214 - val_accuracy: 0.5392\n",
      "WARNING:tensorflow:Can save best model only with val_acc available, skipping.\n",
      "Epoch 17/200\n",
      "166/166 [==============================] - 10s 58ms/step - loss: 1.2410 - accuracy: 0.5423 - val_loss: 1.2057 - val_accuracy: 0.5447\n",
      "WARNING:tensorflow:Can save best model only with val_acc available, skipping.\n",
      "Epoch 18/200\n",
      "166/166 [==============================] - 9s 57ms/step - loss: 1.2474 - accuracy: 0.5356 - val_loss: 1.2068 - val_accuracy: 0.5456\n",
      "WARNING:tensorflow:Can save best model only with val_acc available, skipping.\n",
      "Epoch 19/200\n",
      "166/166 [==============================] - 9s 53ms/step - loss: 1.2360 - accuracy: 0.5484 - val_loss: 1.1948 - val_accuracy: 0.5499\n",
      "WARNING:tensorflow:Can save best model only with val_acc available, skipping.\n",
      "Epoch 20/200\n",
      "166/166 [==============================] - 8s 51ms/step - loss: 1.2862 - accuracy: 0.5409 - val_loss: 1.1813 - val_accuracy: 0.5554\n",
      "WARNING:tensorflow:Can save best model only with val_acc available, skipping.\n",
      "Epoch 21/200\n",
      "166/166 [==============================] - 8s 50ms/step - loss: 1.1992 - accuracy: 0.5536 - val_loss: 1.1788 - val_accuracy: 0.5557\n",
      "WARNING:tensorflow:Can save best model only with val_acc available, skipping.\n",
      "Epoch 22/200\n",
      "166/166 [==============================] - 8s 50ms/step - loss: 1.2002 - accuracy: 0.5495 - val_loss: 1.1715 - val_accuracy: 0.5585\n",
      "WARNING:tensorflow:Can save best model only with val_acc available, skipping.\n",
      "Epoch 23/200\n",
      "166/166 [==============================] - 8s 49ms/step - loss: 1.2425 - accuracy: 0.5532 - val_loss: 1.1660 - val_accuracy: 0.5625\n",
      "WARNING:tensorflow:Can save best model only with val_acc available, skipping.\n",
      "Epoch 24/200\n",
      "166/166 [==============================] - 8s 50ms/step - loss: 1.2220 - accuracy: 0.5623 - val_loss: 1.1615 - val_accuracy: 0.5618\n",
      "WARNING:tensorflow:Can save best model only with val_acc available, skipping.\n",
      "Epoch 25/200\n",
      "166/166 [==============================] - 8s 50ms/step - loss: 1.2458 - accuracy: 0.5441 - val_loss: 1.1535 - val_accuracy: 0.5686\n",
      "WARNING:tensorflow:Can save best model only with val_acc available, skipping.\n",
      "Epoch 26/200\n",
      "166/166 [==============================] - 8s 50ms/step - loss: 1.2007 - accuracy: 0.5616 - val_loss: 1.1497 - val_accuracy: 0.5680\n",
      "WARNING:tensorflow:Can save best model only with val_acc available, skipping.\n",
      "Epoch 27/200\n",
      "166/166 [==============================] - 8s 49ms/step - loss: 1.1985 - accuracy: 0.5643 - val_loss: 1.1360 - val_accuracy: 0.5729\n",
      "WARNING:tensorflow:Can save best model only with val_acc available, skipping.\n",
      "Epoch 28/200\n",
      "166/166 [==============================] - 8s 51ms/step - loss: 1.2100 - accuracy: 0.5611 - val_loss: 1.1346 - val_accuracy: 0.5738\n",
      "WARNING:tensorflow:Can save best model only with val_acc available, skipping.\n",
      "Epoch 29/200\n",
      "166/166 [==============================] - 9s 51ms/step - loss: 1.1917 - accuracy: 0.5766 - val_loss: 1.1276 - val_accuracy: 0.5756\n",
      "WARNING:tensorflow:Can save best model only with val_acc available, skipping.\n",
      "Epoch 30/200\n",
      "166/166 [==============================] - 8s 51ms/step - loss: 1.2332 - accuracy: 0.5571 - val_loss: 1.1305 - val_accuracy: 0.5787\n",
      "WARNING:tensorflow:Can save best model only with val_acc available, skipping.\n",
      "Epoch 31/200\n",
      "166/166 [==============================] - 8s 51ms/step - loss: 1.1679 - accuracy: 0.5763 - val_loss: 1.1265 - val_accuracy: 0.5790\n",
      "WARNING:tensorflow:Can save best model only with val_acc available, skipping.\n",
      "Epoch 32/200\n",
      "166/166 [==============================] - 8s 51ms/step - loss: 1.1414 - accuracy: 0.5845 - val_loss: 1.1172 - val_accuracy: 0.5839\n",
      "WARNING:tensorflow:Can save best model only with val_acc available, skipping.\n",
      "Epoch 33/200\n",
      "166/166 [==============================] - 8s 50ms/step - loss: 1.1707 - accuracy: 0.5717 - val_loss: 1.1237 - val_accuracy: 0.5821\n",
      "WARNING:tensorflow:Can save best model only with val_acc available, skipping.\n",
      "Epoch 34/200\n",
      "166/166 [==============================] - 8s 50ms/step - loss: 1.1442 - accuracy: 0.5960 - val_loss: 1.1131 - val_accuracy: 0.5860\n",
      "WARNING:tensorflow:Can save best model only with val_acc available, skipping.\n",
      "Epoch 35/200\n",
      "166/166 [==============================] - 9s 51ms/step - loss: 1.2022 - accuracy: 0.5706 - val_loss: 1.1053 - val_accuracy: 0.5882\n",
      "WARNING:tensorflow:Can save best model only with val_acc available, skipping.\n",
      "Epoch 36/200\n",
      "166/166 [==============================] - 9s 51ms/step - loss: 1.1394 - accuracy: 0.5766 - val_loss: 1.1014 - val_accuracy: 0.5915\n",
      "WARNING:tensorflow:Can save best model only with val_acc available, skipping.\n",
      "Epoch 37/200\n"
     ]
    },
    {
     "name": "stdout",
     "output_type": "stream",
     "text": [
      "166/166 [==============================] - 8s 50ms/step - loss: 1.0973 - accuracy: 0.6030 - val_loss: 1.0920 - val_accuracy: 0.5940\n",
      "WARNING:tensorflow:Can save best model only with val_acc available, skipping.\n",
      "Epoch 38/200\n",
      "166/166 [==============================] - 8s 50ms/step - loss: 1.1390 - accuracy: 0.5862 - val_loss: 1.0883 - val_accuracy: 0.5968\n",
      "WARNING:tensorflow:Can save best model only with val_acc available, skipping.\n",
      "Epoch 39/200\n",
      "166/166 [==============================] - 8s 49ms/step - loss: 1.1331 - accuracy: 0.5849 - val_loss: 1.0752 - val_accuracy: 0.6010\n",
      "WARNING:tensorflow:Can save best model only with val_acc available, skipping.\n",
      "Epoch 40/200\n",
      "166/166 [==============================] - 8s 50ms/step - loss: 1.1654 - accuracy: 0.5784 - val_loss: 1.0793 - val_accuracy: 0.6013\n",
      "WARNING:tensorflow:Can save best model only with val_acc available, skipping.\n",
      "Epoch 41/200\n",
      "166/166 [==============================] - 8s 51ms/step - loss: 1.1154 - accuracy: 0.5928 - val_loss: 1.0839 - val_accuracy: 0.5983\n",
      "WARNING:tensorflow:Can save best model only with val_acc available, skipping.\n",
      "Epoch 42/200\n",
      "166/166 [==============================] - 8s 51ms/step - loss: 1.1697 - accuracy: 0.5790 - val_loss: 1.0836 - val_accuracy: 0.6001\n",
      "WARNING:tensorflow:Can save best model only with val_acc available, skipping.\n",
      "Epoch 43/200\n",
      "166/166 [==============================] - 9s 52ms/step - loss: 1.0780 - accuracy: 0.6059 - val_loss: 1.0605 - val_accuracy: 0.6081\n",
      "WARNING:tensorflow:Can save best model only with val_acc available, skipping.\n",
      "Epoch 44/200\n",
      "166/166 [==============================] - 9s 52ms/step - loss: 1.1630 - accuracy: 0.5839 - val_loss: 1.0621 - val_accuracy: 0.6078\n",
      "WARNING:tensorflow:Can save best model only with val_acc available, skipping.\n",
      "Epoch 45/200\n",
      "166/166 [==============================] - 8s 51ms/step - loss: 1.0886 - accuracy: 0.6056 - val_loss: 1.0543 - val_accuracy: 0.6081\n",
      "WARNING:tensorflow:Can save best model only with val_acc available, skipping.\n",
      "Epoch 46/200\n",
      "166/166 [==============================] - 8s 51ms/step - loss: 1.1241 - accuracy: 0.5914 - val_loss: 1.0543 - val_accuracy: 0.6078\n",
      "WARNING:tensorflow:Can save best model only with val_acc available, skipping.\n",
      "Epoch 47/200\n",
      "166/166 [==============================] - 8s 51ms/step - loss: 1.0908 - accuracy: 0.5998 - val_loss: 1.0498 - val_accuracy: 0.6078\n",
      "WARNING:tensorflow:Can save best model only with val_acc available, skipping.\n",
      "Epoch 48/200\n",
      "166/166 [==============================] - 8s 51ms/step - loss: 1.0694 - accuracy: 0.6061 - val_loss: 1.0380 - val_accuracy: 0.6133\n",
      "WARNING:tensorflow:Can save best model only with val_acc available, skipping.\n",
      "Epoch 49/200\n",
      "166/166 [==============================] - 9s 52ms/step - loss: 1.1241 - accuracy: 0.6140 - val_loss: 1.0343 - val_accuracy: 0.6145\n",
      "WARNING:tensorflow:Can save best model only with val_acc available, skipping.\n",
      "Epoch 50/200\n",
      "166/166 [==============================] - 9s 52ms/step - loss: 1.1300 - accuracy: 0.5944 - val_loss: 1.0362 - val_accuracy: 0.6170\n",
      "WARNING:tensorflow:Can save best model only with val_acc available, skipping.\n",
      "Epoch 51/200\n",
      "166/166 [==============================] - 10s 58ms/step - loss: 1.1095 - accuracy: 0.6076 - val_loss: 1.0335 - val_accuracy: 0.6176\n",
      "WARNING:tensorflow:Can save best model only with val_acc available, skipping.\n",
      "Epoch 52/200\n",
      "166/166 [==============================] - 9s 54ms/step - loss: 1.0788 - accuracy: 0.6088 - val_loss: 1.0286 - val_accuracy: 0.6176\n",
      "WARNING:tensorflow:Can save best model only with val_acc available, skipping.\n",
      "Epoch 53/200\n",
      "166/166 [==============================] - 9s 54ms/step - loss: 1.0477 - accuracy: 0.6270 - val_loss: 1.0234 - val_accuracy: 0.6185\n",
      "WARNING:tensorflow:Can save best model only with val_acc available, skipping.\n",
      "Epoch 54/200\n",
      "166/166 [==============================] - 9s 53ms/step - loss: 1.0829 - accuracy: 0.5992 - val_loss: 1.0236 - val_accuracy: 0.6179\n",
      "WARNING:tensorflow:Can save best model only with val_acc available, skipping.\n",
      "Epoch 55/200\n",
      "166/166 [==============================] - 8s 51ms/step - loss: 1.0990 - accuracy: 0.5987 - val_loss: 1.0286 - val_accuracy: 0.6176\n",
      "WARNING:tensorflow:Can save best model only with val_acc available, skipping.\n",
      "Epoch 56/200\n",
      "166/166 [==============================] - 8s 51ms/step - loss: 1.1074 - accuracy: 0.6056 - val_loss: 1.0127 - val_accuracy: 0.6237\n",
      "WARNING:tensorflow:Can save best model only with val_acc available, skipping.\n",
      "Epoch 57/200\n",
      "166/166 [==============================] - 8s 51ms/step - loss: 1.0766 - accuracy: 0.6158 - val_loss: 1.0083 - val_accuracy: 0.6228\n",
      "WARNING:tensorflow:Can save best model only with val_acc available, skipping.\n",
      "Epoch 58/200\n",
      "166/166 [==============================] - 9s 51ms/step - loss: 1.0980 - accuracy: 0.6027 - val_loss: 1.0025 - val_accuracy: 0.6265\n",
      "WARNING:tensorflow:Can save best model only with val_acc available, skipping.\n",
      "Epoch 59/200\n",
      "166/166 [==============================] - 9s 53ms/step - loss: 1.0676 - accuracy: 0.6134 - val_loss: 0.9998 - val_accuracy: 0.6298\n",
      "WARNING:tensorflow:Can save best model only with val_acc available, skipping.\n",
      "Epoch 60/200\n",
      "166/166 [==============================] - 9s 51ms/step - loss: 1.0949 - accuracy: 0.6078 - val_loss: 0.9988 - val_accuracy: 0.6323\n",
      "WARNING:tensorflow:Can save best model only with val_acc available, skipping.\n",
      "Epoch 61/200\n",
      "166/166 [==============================] - 8s 51ms/step - loss: 1.0535 - accuracy: 0.6101 - val_loss: 0.9974 - val_accuracy: 0.6274\n",
      "WARNING:tensorflow:Can save best model only with val_acc available, skipping.\n",
      "Epoch 62/200\n",
      "166/166 [==============================] - 9s 51ms/step - loss: 1.1083 - accuracy: 0.6010 - val_loss: 0.9856 - val_accuracy: 0.6347\n",
      "WARNING:tensorflow:Can save best model only with val_acc available, skipping.\n",
      "Epoch 63/200\n",
      "166/166 [==============================] - 8s 51ms/step - loss: 1.1089 - accuracy: 0.6084 - val_loss: 0.9846 - val_accuracy: 0.6341\n",
      "WARNING:tensorflow:Can save best model only with val_acc available, skipping.\n",
      "Epoch 64/200\n",
      "166/166 [==============================] - 8s 51ms/step - loss: 1.0721 - accuracy: 0.6000 - val_loss: 0.9814 - val_accuracy: 0.6347\n",
      "WARNING:tensorflow:Can save best model only with val_acc available, skipping.\n",
      "Epoch 65/200\n",
      "166/166 [==============================] - 8s 51ms/step - loss: 1.0894 - accuracy: 0.6022 - val_loss: 0.9750 - val_accuracy: 0.6378\n",
      "WARNING:tensorflow:Can save best model only with val_acc available, skipping.\n",
      "Epoch 66/200\n",
      "166/166 [==============================] - 9s 51ms/step - loss: 1.0486 - accuracy: 0.6106 - val_loss: 0.9750 - val_accuracy: 0.6381\n",
      "WARNING:tensorflow:Can save best model only with val_acc available, skipping.\n",
      "Epoch 67/200\n",
      "166/166 [==============================] - 9s 51ms/step - loss: 1.0880 - accuracy: 0.6004 - val_loss: 0.9739 - val_accuracy: 0.6366\n",
      "WARNING:tensorflow:Can save best model only with val_acc available, skipping.\n",
      "Epoch 68/200\n",
      "166/166 [==============================] - 9s 54ms/step - loss: 1.0894 - accuracy: 0.6147 - val_loss: 0.9698 - val_accuracy: 0.6384\n",
      "WARNING:tensorflow:Can save best model only with val_acc available, skipping.\n",
      "Epoch 69/200\n",
      "166/166 [==============================] - 9s 53ms/step - loss: 1.0401 - accuracy: 0.6315 - val_loss: 0.9598 - val_accuracy: 0.6436\n",
      "WARNING:tensorflow:Can save best model only with val_acc available, skipping.\n",
      "Epoch 70/200\n",
      "166/166 [==============================] - 9s 51ms/step - loss: 1.0712 - accuracy: 0.6033 - val_loss: 0.9647 - val_accuracy: 0.6421\n",
      "WARNING:tensorflow:Can save best model only with val_acc available, skipping.\n",
      "Epoch 71/200\n",
      "166/166 [==============================] - 9s 52ms/step - loss: 1.0811 - accuracy: 0.6148 - val_loss: 0.9599 - val_accuracy: 0.6421\n",
      "WARNING:tensorflow:Can save best model only with val_acc available, skipping.\n",
      "Epoch 72/200\n",
      "166/166 [==============================] - 8s 51ms/step - loss: 1.0119 - accuracy: 0.6321 - val_loss: 0.9563 - val_accuracy: 0.6430\n",
      "WARNING:tensorflow:Can save best model only with val_acc available, skipping.\n",
      "Epoch 73/200\n",
      "166/166 [==============================] - 9s 52ms/step - loss: 1.0588 - accuracy: 0.6204 - val_loss: 0.9574 - val_accuracy: 0.6427\n",
      "WARNING:tensorflow:Can save best model only with val_acc available, skipping.\n"
     ]
    },
    {
     "name": "stdout",
     "output_type": "stream",
     "text": [
      "Epoch 74/200\n",
      "166/166 [==============================] - 8s 51ms/step - loss: 1.0402 - accuracy: 0.6292 - val_loss: 0.9527 - val_accuracy: 0.6436\n",
      "WARNING:tensorflow:Can save best model only with val_acc available, skipping.\n",
      "Epoch 75/200\n",
      "166/166 [==============================] - 9s 51ms/step - loss: 1.0751 - accuracy: 0.6114 - val_loss: 0.9541 - val_accuracy: 0.6427\n",
      "WARNING:tensorflow:Can save best model only with val_acc available, skipping.\n",
      "Epoch 76/200\n",
      "166/166 [==============================] - 8s 51ms/step - loss: 1.0633 - accuracy: 0.6169 - val_loss: 0.9538 - val_accuracy: 0.6433\n",
      "WARNING:tensorflow:Can save best model only with val_acc available, skipping.\n",
      "Epoch 77/200\n",
      "166/166 [==============================] - 9s 51ms/step - loss: 1.0383 - accuracy: 0.6234 - val_loss: 0.9441 - val_accuracy: 0.6488\n",
      "WARNING:tensorflow:Can save best model only with val_acc available, skipping.\n",
      "Epoch 78/200\n",
      "166/166 [==============================] - 8s 51ms/step - loss: 1.0705 - accuracy: 0.6153 - val_loss: 0.9436 - val_accuracy: 0.6473\n",
      "WARNING:tensorflow:Can save best model only with val_acc available, skipping.\n",
      "Epoch 79/200\n",
      "166/166 [==============================] - 8s 51ms/step - loss: 1.0525 - accuracy: 0.6336 - val_loss: 0.9458 - val_accuracy: 0.6513\n",
      "WARNING:tensorflow:Can save best model only with val_acc available, skipping.\n",
      "Epoch 80/200\n",
      "166/166 [==============================] - 9s 53ms/step - loss: 1.0493 - accuracy: 0.6294 - val_loss: 0.9380 - val_accuracy: 0.6503\n",
      "WARNING:tensorflow:Can save best model only with val_acc available, skipping.\n",
      "Epoch 81/200\n",
      "166/166 [==============================] - 9s 53ms/step - loss: 1.0319 - accuracy: 0.6299 - val_loss: 0.9336 - val_accuracy: 0.6525\n",
      "WARNING:tensorflow:Can save best model only with val_acc available, skipping.\n",
      "Epoch 82/200\n",
      "166/166 [==============================] - 9s 56ms/step - loss: 1.0365 - accuracy: 0.6209 - val_loss: 0.9338 - val_accuracy: 0.6522\n",
      "WARNING:tensorflow:Can save best model only with val_acc available, skipping.\n",
      "Epoch 83/200\n",
      "166/166 [==============================] - 10s 58ms/step - loss: 1.0124 - accuracy: 0.6258 - val_loss: 0.9284 - val_accuracy: 0.6522\n",
      "WARNING:tensorflow:Can save best model only with val_acc available, skipping.\n",
      "Epoch 84/200\n",
      "166/166 [==============================] - 10s 60ms/step - loss: 1.0361 - accuracy: 0.6285 - val_loss: 0.9239 - val_accuracy: 0.6528\n",
      "WARNING:tensorflow:Can save best model only with val_acc available, skipping.\n",
      "Epoch 85/200\n",
      "166/166 [==============================] - 10s 57ms/step - loss: 1.0197 - accuracy: 0.6373 - val_loss: 0.9316 - val_accuracy: 0.6500\n",
      "WARNING:tensorflow:Can save best model only with val_acc available, skipping.\n",
      "Epoch 86/200\n",
      "166/166 [==============================] - 10s 57ms/step - loss: 1.0595 - accuracy: 0.6198 - val_loss: 0.9221 - val_accuracy: 0.6540\n",
      "WARNING:tensorflow:Can save best model only with val_acc available, skipping.\n",
      "Epoch 87/200\n",
      "166/166 [==============================] - 9s 54ms/step - loss: 1.0300 - accuracy: 0.6227 - val_loss: 0.9241 - val_accuracy: 0.6546\n",
      "WARNING:tensorflow:Can save best model only with val_acc available, skipping.\n",
      "Epoch 88/200\n",
      "166/166 [==============================] - 9s 51ms/step - loss: 1.0184 - accuracy: 0.6269 - val_loss: 0.9255 - val_accuracy: 0.6522\n",
      "WARNING:tensorflow:Can save best model only with val_acc available, skipping.\n",
      "Epoch 89/200\n",
      "166/166 [==============================] - 10s 59ms/step - loss: 1.0713 - accuracy: 0.6043 - val_loss: 0.9161 - val_accuracy: 0.6583\n",
      "WARNING:tensorflow:Can save best model only with val_acc available, skipping.\n",
      "Epoch 90/200\n",
      "166/166 [==============================] - 9s 54ms/step - loss: 1.0243 - accuracy: 0.6215 - val_loss: 0.9213 - val_accuracy: 0.6558\n",
      "WARNING:tensorflow:Can save best model only with val_acc available, skipping.\n",
      "Epoch 91/200\n",
      "166/166 [==============================] - 9s 53ms/step - loss: 1.0031 - accuracy: 0.6387 - val_loss: 0.9172 - val_accuracy: 0.6583\n",
      "WARNING:tensorflow:Can save best model only with val_acc available, skipping.\n",
      "Epoch 92/200\n",
      "166/166 [==============================] - 8s 50ms/step - loss: 0.9975 - accuracy: 0.6305 - val_loss: 0.9112 - val_accuracy: 0.6614\n",
      "WARNING:tensorflow:Can save best model only with val_acc available, skipping.\n",
      "Epoch 93/200\n",
      "166/166 [==============================] - 9s 51ms/step - loss: 1.0138 - accuracy: 0.6364 - val_loss: 0.9076 - val_accuracy: 0.6611\n",
      "WARNING:tensorflow:Can save best model only with val_acc available, skipping.\n",
      "Epoch 94/200\n",
      "166/166 [==============================] - 9s 51ms/step - loss: 1.0073 - accuracy: 0.6318 - val_loss: 0.9109 - val_accuracy: 0.6586\n",
      "WARNING:tensorflow:Can save best model only with val_acc available, skipping.\n",
      "Epoch 95/200\n",
      "166/166 [==============================] - 8s 51ms/step - loss: 1.0441 - accuracy: 0.6145 - val_loss: 0.9064 - val_accuracy: 0.6617\n",
      "WARNING:tensorflow:Can save best model only with val_acc available, skipping.\n",
      "Epoch 96/200\n",
      "166/166 [==============================] - 9s 53ms/step - loss: 1.0212 - accuracy: 0.6252 - val_loss: 0.9074 - val_accuracy: 0.6623\n",
      "WARNING:tensorflow:Can save best model only with val_acc available, skipping.\n",
      "Epoch 97/200\n",
      "166/166 [==============================] - 8s 51ms/step - loss: 1.0033 - accuracy: 0.6347 - val_loss: 0.9035 - val_accuracy: 0.6611\n",
      "WARNING:tensorflow:Can save best model only with val_acc available, skipping.\n",
      "Epoch 98/200\n",
      "166/166 [==============================] - 9s 51ms/step - loss: 1.0000 - accuracy: 0.6312 - val_loss: 0.8977 - val_accuracy: 0.6632\n",
      "WARNING:tensorflow:Can save best model only with val_acc available, skipping.\n",
      "Epoch 99/200\n",
      "166/166 [==============================] - 8s 51ms/step - loss: 0.9657 - accuracy: 0.6431 - val_loss: 0.8938 - val_accuracy: 0.6623\n",
      "WARNING:tensorflow:Can save best model only with val_acc available, skipping.\n",
      "Epoch 100/200\n",
      "166/166 [==============================] - 9s 55ms/step - loss: 1.0484 - accuracy: 0.6186 - val_loss: 0.8949 - val_accuracy: 0.6663\n",
      "WARNING:tensorflow:Can save best model only with val_acc available, skipping.\n",
      "Epoch 101/200\n",
      "166/166 [==============================] - 9s 54ms/step - loss: 1.0293 - accuracy: 0.6285 - val_loss: 0.8869 - val_accuracy: 0.6669\n",
      "WARNING:tensorflow:Can save best model only with val_acc available, skipping.\n",
      "Epoch 102/200\n",
      "166/166 [==============================] - 9s 53ms/step - loss: 1.0281 - accuracy: 0.6293 - val_loss: 0.8884 - val_accuracy: 0.6663\n",
      "WARNING:tensorflow:Can save best model only with val_acc available, skipping.\n",
      "Epoch 103/200\n",
      "166/166 [==============================] - 9s 51ms/step - loss: 1.0255 - accuracy: 0.6244 - val_loss: 0.8885 - val_accuracy: 0.6641\n",
      "WARNING:tensorflow:Can save best model only with val_acc available, skipping.\n",
      "Epoch 104/200\n",
      "166/166 [==============================] - 9s 51ms/step - loss: 0.9854 - accuracy: 0.6513 - val_loss: 0.8888 - val_accuracy: 0.6656\n",
      "WARNING:tensorflow:Can save best model only with val_acc available, skipping.\n",
      "Epoch 105/200\n",
      "166/166 [==============================] - 8s 51ms/step - loss: 1.0133 - accuracy: 0.6225 - val_loss: 0.8842 - val_accuracy: 0.6660\n",
      "WARNING:tensorflow:Can save best model only with val_acc available, skipping.\n",
      "Epoch 106/200\n",
      "166/166 [==============================] - 9s 52ms/step - loss: 0.9942 - accuracy: 0.6352 - val_loss: 0.8814 - val_accuracy: 0.6666\n",
      "WARNING:tensorflow:Can save best model only with val_acc available, skipping.\n",
      "Epoch 107/200\n",
      "166/166 [==============================] - 9s 52ms/step - loss: 0.9944 - accuracy: 0.6329 - val_loss: 0.8873 - val_accuracy: 0.6644\n",
      "WARNING:tensorflow:Can save best model only with val_acc available, skipping.\n",
      "Epoch 108/200\n",
      "166/166 [==============================] - 9s 52ms/step - loss: 1.0341 - accuracy: 0.6159 - val_loss: 0.8796 - val_accuracy: 0.6705\n",
      "WARNING:tensorflow:Can save best model only with val_acc available, skipping.\n",
      "Epoch 109/200\n",
      "166/166 [==============================] - 9s 53ms/step - loss: 1.0163 - accuracy: 0.6247 - val_loss: 0.8834 - val_accuracy: 0.6647\n",
      "WARNING:tensorflow:Can save best model only with val_acc available, skipping.\n",
      "Epoch 110/200\n",
      "166/166 [==============================] - 8s 51ms/step - loss: 0.9748 - accuracy: 0.6419 - val_loss: 0.8801 - val_accuracy: 0.6681\n",
      "WARNING:tensorflow:Can save best model only with val_acc available, skipping.\n"
     ]
    },
    {
     "name": "stdout",
     "output_type": "stream",
     "text": [
      "Epoch 111/200\n",
      "166/166 [==============================] - 9s 52ms/step - loss: 0.9888 - accuracy: 0.6404 - val_loss: 0.8774 - val_accuracy: 0.6699\n",
      "WARNING:tensorflow:Can save best model only with val_acc available, skipping.\n",
      "Epoch 112/200\n",
      "166/166 [==============================] - 9s 54ms/step - loss: 0.9610 - accuracy: 0.6516 - val_loss: 0.8760 - val_accuracy: 0.6672\n",
      "WARNING:tensorflow:Can save best model only with val_acc available, skipping.\n",
      "Epoch 113/200\n",
      "166/166 [==============================] - 9s 52ms/step - loss: 0.9758 - accuracy: 0.6315 - val_loss: 0.8702 - val_accuracy: 0.6751\n",
      "WARNING:tensorflow:Can save best model only with val_acc available, skipping.\n",
      "Epoch 114/200\n",
      "166/166 [==============================] - 8s 51ms/step - loss: 0.9949 - accuracy: 0.6401 - val_loss: 0.8694 - val_accuracy: 0.6739\n",
      "WARNING:tensorflow:Can save best model only with val_acc available, skipping.\n",
      "Epoch 115/200\n",
      "166/166 [==============================] - 9s 53ms/step - loss: 0.9723 - accuracy: 0.6459 - val_loss: 0.8656 - val_accuracy: 0.6742\n",
      "WARNING:tensorflow:Can save best model only with val_acc available, skipping.\n",
      "Epoch 116/200\n",
      "166/166 [==============================] - 9s 54ms/step - loss: 1.0117 - accuracy: 0.6298 - val_loss: 0.8691 - val_accuracy: 0.6748\n",
      "WARNING:tensorflow:Can save best model only with val_acc available, skipping.\n",
      "Epoch 117/200\n",
      "166/166 [==============================] - 9s 54ms/step - loss: 0.9491 - accuracy: 0.6476 - val_loss: 0.8666 - val_accuracy: 0.6770\n",
      "WARNING:tensorflow:Can save best model only with val_acc available, skipping.\n",
      "Epoch 118/200\n",
      "166/166 [==============================] - 9s 53ms/step - loss: 0.9532 - accuracy: 0.6487 - val_loss: 0.8685 - val_accuracy: 0.6739\n",
      "WARNING:tensorflow:Can save best model only with val_acc available, skipping.\n",
      "Epoch 119/200\n",
      "166/166 [==============================] - 9s 53ms/step - loss: 0.9461 - accuracy: 0.6444 - val_loss: 0.8636 - val_accuracy: 0.6754\n",
      "WARNING:tensorflow:Can save best model only with val_acc available, skipping.\n",
      "Epoch 120/200\n",
      "166/166 [==============================] - 9s 56ms/step - loss: 0.9853 - accuracy: 0.6521 - val_loss: 0.8632 - val_accuracy: 0.6761\n",
      "WARNING:tensorflow:Can save best model only with val_acc available, skipping.\n",
      "Epoch 121/200\n",
      "166/166 [==============================] - 9s 53ms/step - loss: 0.9972 - accuracy: 0.6298 - val_loss: 0.8657 - val_accuracy: 0.6702\n",
      "WARNING:tensorflow:Can save best model only with val_acc available, skipping.\n",
      "Epoch 122/200\n",
      "166/166 [==============================] - 9s 53ms/step - loss: 0.9794 - accuracy: 0.6356 - val_loss: 0.8572 - val_accuracy: 0.6758\n",
      "WARNING:tensorflow:Can save best model only with val_acc available, skipping.\n",
      "Epoch 123/200\n",
      "166/166 [==============================] - 9s 53ms/step - loss: 0.9695 - accuracy: 0.6504 - val_loss: 0.8598 - val_accuracy: 0.6751\n",
      "WARNING:tensorflow:Can save best model only with val_acc available, skipping.\n",
      "Epoch 124/200\n",
      "166/166 [==============================] - 9s 53ms/step - loss: 0.9909 - accuracy: 0.6374 - val_loss: 0.8581 - val_accuracy: 0.6782\n",
      "WARNING:tensorflow:Can save best model only with val_acc available, skipping.\n",
      "Epoch 125/200\n",
      "166/166 [==============================] - 9s 52ms/step - loss: 0.9890 - accuracy: 0.6399 - val_loss: 0.8511 - val_accuracy: 0.6797\n",
      "WARNING:tensorflow:Can save best model only with val_acc available, skipping.\n",
      "Epoch 126/200\n",
      "166/166 [==============================] - 9s 52ms/step - loss: 0.9402 - accuracy: 0.6519 - val_loss: 0.8497 - val_accuracy: 0.6813\n",
      "WARNING:tensorflow:Can save best model only with val_acc available, skipping.\n",
      "Epoch 127/200\n",
      "166/166 [==============================] - 8s 51ms/step - loss: 1.0028 - accuracy: 0.6312 - val_loss: 0.8508 - val_accuracy: 0.6806\n",
      "WARNING:tensorflow:Can save best model only with val_acc available, skipping.\n",
      "Epoch 128/200\n",
      "166/166 [==============================] - 8s 51ms/step - loss: 1.0169 - accuracy: 0.6234 - val_loss: 0.8527 - val_accuracy: 0.6779\n",
      "WARNING:tensorflow:Can save best model only with val_acc available, skipping.\n",
      "Epoch 129/200\n",
      "166/166 [==============================] - 9s 52ms/step - loss: 0.9512 - accuracy: 0.6440 - val_loss: 0.8506 - val_accuracy: 0.6797\n",
      "WARNING:tensorflow:Can save best model only with val_acc available, skipping.\n",
      "Epoch 130/200\n",
      "166/166 [==============================] - 9s 52ms/step - loss: 0.9538 - accuracy: 0.6501 - val_loss: 0.8484 - val_accuracy: 0.6806\n",
      "WARNING:tensorflow:Can save best model only with val_acc available, skipping.\n",
      "Epoch 131/200\n",
      "166/166 [==============================] - 9s 53ms/step - loss: 0.9781 - accuracy: 0.6464 - val_loss: 0.8442 - val_accuracy: 0.6822\n",
      "WARNING:tensorflow:Can save best model only with val_acc available, skipping.\n",
      "Epoch 132/200\n",
      "166/166 [==============================] - 9s 55ms/step - loss: 0.9547 - accuracy: 0.6498 - val_loss: 0.8460 - val_accuracy: 0.6797\n",
      "WARNING:tensorflow:Can save best model only with val_acc available, skipping.\n",
      "Epoch 133/200\n",
      "166/166 [==============================] - 9s 55ms/step - loss: 0.9841 - accuracy: 0.6384 - val_loss: 0.8448 - val_accuracy: 0.6825\n",
      "WARNING:tensorflow:Can save best model only with val_acc available, skipping.\n",
      "Epoch 134/200\n",
      "166/166 [==============================] - 9s 55ms/step - loss: 0.9909 - accuracy: 0.6316 - val_loss: 0.8447 - val_accuracy: 0.6840\n",
      "WARNING:tensorflow:Can save best model only with val_acc available, skipping.\n",
      "Epoch 135/200\n",
      "166/166 [==============================] - 9s 54ms/step - loss: 0.9703 - accuracy: 0.6444 - val_loss: 0.8463 - val_accuracy: 0.6819\n",
      "WARNING:tensorflow:Can save best model only with val_acc available, skipping.\n",
      "Epoch 00135: early stopping\n"
     ]
    }
   ],
   "source": [
    "from tensorflow.keras.callbacks import ModelCheckpoint, EarlyStopping\n",
    "checkpoint = ModelCheckpoint(\"RCC\", \n",
    "                             monitor='val_acc',\n",
    "                             verbose=1, \n",
    "                             save_best_only=True, \n",
    "                             save_weights_only=False, \n",
    "                             mode='auto', period=1)\n",
    "\n",
    "early = EarlyStopping(monitor='accuracy', min_delta=0, patience=20, verbose=1, mode='auto')\n",
    "\n",
    "hist = model.fit(train_it, \n",
    "                 validation_data = (test_X_img, test_Y), \n",
    "                 batch_size = 32, \n",
    "                 epochs = 200, \n",
    "                 verbose=1,\n",
    "                 callbacks=[early,checkpoint])"
   ]
  },
  {
   "cell_type": "code",
   "execution_count": 17,
   "metadata": {
    "ExecuteTime": {
     "end_time": "2021-05-13T09:52:37.363807Z",
     "start_time": "2021-05-13T09:52:16.162696Z"
    }
   },
   "outputs": [
    {
     "name": "stdout",
     "output_type": "stream",
     "text": [
      "INFO:tensorflow:Assets written to: Baseline RCCNet\\assets\n"
     ]
    }
   ],
   "source": [
    "model.save('Baseline RCCNet')"
   ]
  },
  {
   "cell_type": "code",
   "execution_count": 18,
   "metadata": {
    "ExecuteTime": {
     "end_time": "2021-05-13T10:14:08.351162Z",
     "start_time": "2021-05-13T10:14:07.625512Z"
    }
   },
   "outputs": [
    {
     "data": {
      "image/png": "[encoded data removed]",
      "text/plain": [
       "<Figure size 432x288 with 1 Axes>"
      ]
     },
     "metadata": {},
     "output_type": "display_data"
    },
    {
     "data": {
      "image/png": "[encoded data removed]",
      "text/plain": [
       "<Figure size 432x288 with 1 Axes>"
      ]
     },
     "metadata": {},
     "output_type": "display_data"
    }
   ],
   "source": [
    "# Summarize history for accuracy\n",
    "plt.plot(hist.history['accuracy'])\n",
    "plt.plot(hist.history['val_accuracy'])\n",
    "plt.title('model accuracy')\n",
    "plt.ylabel('Accuracy')\n",
    "plt.xlabel('epoch')\n",
    "plt.legend(['train', 'test'], loc='upper left')\n",
    "plt.show()\n",
    "# Summarize history for loss\n",
    "plt.plot(hist.history['loss'])\n",
    "plt.plot(hist.history['val_loss'])\n",
    "plt.title('model loss')\n",
    "plt.ylabel('loss')\n",
    "plt.xlabel('epoch')\n",
    "plt.legend(['train', 'test'], loc='upper right')\n",
    "plt.show()"
   ]
  },
  {
   "cell_type": "code",
   "execution_count": 19,
   "metadata": {
    "ExecuteTime": {
     "end_time": "2021-05-13T10:12:50.058817Z",
     "start_time": "2021-05-13T10:12:48.393800Z"
    }
   },
   "outputs": [
    {
     "name": "stdout",
     "output_type": "stream",
     "text": [
      "              precision    recall  f1-score   support\n",
      "\n",
      "           0       0.65      0.51      0.57       611\n",
      "           1       0.58      0.69      0.63       824\n",
      "           2       0.87      0.82      0.84      1371\n",
      "           3       0.44      0.47      0.46       460\n",
      "\n",
      "    accuracy                           0.68      3266\n",
      "   macro avg       0.63      0.62      0.62      3266\n",
      "weighted avg       0.69      0.68      0.68      3266\n",
      "\n"
     ]
    }
   ],
   "source": [
    "from sklearn.metrics import classification_report\n",
    "pred = model.predict_classes(test_X_img)\n",
    "pred.reshape(1,-1)[0]\n",
    "print(classification_report(test_Y, pred))"
   ]
  },
  {
   "cell_type": "code",
   "execution_count": null,
   "metadata": {},
   "outputs": [],
   "source": []
  }
 ],
 "metadata": {
  "kernelspec": {
   "display_name": "Python 3",
   "language": "python",
   "name": "python3"
  },
  "language_info": {
   "codemirror_mode": {
    "name": "ipython",
    "version": 3
   },
   "file_extension": ".py",
   "mimetype": "text/x-python",
   "name": "python",
   "nbconvert_exporter": "python",
   "pygments_lexer": "ipython3",
   "version": "3.8.5"
  },
  "toc": {
   "base_numbering": 1,
   "nav_menu": {},
   "number_sections": false,
   "sideBar": true,
   "skip_h1_title": false,
   "title_cell": "Table of Contents",
   "title_sidebar": "Contents",
   "toc_cell": false,
   "toc_position": {},
   "toc_section_display": true,
   "toc_window_display": false
  }
 },
 "nbformat": 4,
 "nbformat_minor": 5
}
