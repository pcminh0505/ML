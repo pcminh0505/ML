{
 "cells": [
  {
   "cell_type": "markdown",
   "id": "7bd294c5",
   "metadata": {},
   "source": [
    "## Installation needed"
   ]
  },
  {
   "cell_type": "code",
   "execution_count": null,
   "id": "6478fcf0",
   "metadata": {
    "ExecuteTime": {
     "end_time": "2021-05-11T10:08:00.458524Z",
     "start_time": "2021-05-11T10:08:00.446677Z"
    }
   },
   "outputs": [],
   "source": [
    "# !pip install tensorflow\n",
    "# !pip install opencv-python\n",
    "# !pip install keras"
   ]
  },
  {
   "cell_type": "markdown",
   "id": "9dbadcf6",
   "metadata": {},
   "source": [
    "## Import libraries"
   ]
  },
  {
   "cell_type": "code",
   "execution_count": null,
   "id": "f5d362d0",
   "metadata": {
    "ExecuteTime": {
     "end_time": "2021-05-11T10:08:23.921967Z",
     "start_time": "2021-05-11T10:08:00.462147Z"
    }
   },
   "outputs": [],
   "source": [
    "import pandas as pd\n",
    "import numpy as np\n",
    "import matplotlib.pyplot as plt\n",
    "%matplotlib inline \n",
    "plt.style.use('dark_background')\n",
    "import seaborn as sns\n",
    "from tqdm import tqdm\n",
    "\n",
    "import cv2\n",
    "import os\n",
    "import tensorflow as tf\n",
    "import sklearn as sk\n",
    "\n",
    "import warnings\n",
    "warnings.filterwarnings('ignore')\n",
    "\n",
    "print('Using Tensorflow version:', tf.__version__)"
   ]
  },
  {
   "cell_type": "code",
   "execution_count": null,
   "id": "4019fb89",
   "metadata": {
    "ExecuteTime": {
     "end_time": "2021-05-11T10:08:24.121467Z",
     "start_time": "2021-05-11T10:08:23.929416Z"
    }
   },
   "outputs": [],
   "source": [
    "main_data = pd.read_csv('data_labels_mainData.csv')\n",
    "extra_data = pd.read_csv('data_labels_extraData.csv')"
   ]
  },
  {
   "cell_type": "code",
   "execution_count": null,
   "id": "4862c470",
   "metadata": {
    "ExecuteTime": {
     "end_time": "2021-05-11T10:08:24.178490Z",
     "start_time": "2021-05-11T10:08:24.126452Z"
    }
   },
   "outputs": [],
   "source": [
    "main_data"
   ]
  },
  {
   "cell_type": "code",
   "execution_count": null,
   "id": "1163d96e",
   "metadata": {
    "ExecuteTime": {
     "end_time": "2021-05-11T10:08:24.235491Z",
     "start_time": "2021-05-11T10:08:24.182637Z"
    }
   },
   "outputs": [],
   "source": [
    "extra_data"
   ]
  },
  {
   "cell_type": "code",
   "execution_count": null,
   "id": "4896a980",
   "metadata": {
    "ExecuteTime": {
     "end_time": "2021-05-11T10:08:24.404452Z",
     "start_time": "2021-05-11T10:08:24.241520Z"
    }
   },
   "outputs": [],
   "source": [
    "from sklearn.model_selection import train_test_split\n",
    "X = main_data['ImageName']\n",
    "y = main_data['cellType']\n",
    "\n",
    "train_X, test_X, train_Y, test_Y = train_test_split(X, y, test_size=0.33)\n",
    "\n",
    "train_Y = train_Y.astype('float32').ravel()\n",
    "test_Y = test_Y.astype('float32').ravel()"
   ]
  },
  {
   "cell_type": "code",
   "execution_count": null,
   "id": "60469feb",
   "metadata": {
    "ExecuteTime": {
     "end_time": "2021-05-11T10:08:24.432673Z",
     "start_time": "2021-05-11T10:08:24.411740Z"
    }
   },
   "outputs": [],
   "source": [
    "def create_train_data(directory, img_list):\n",
    "    IMAGE_SIZE = 27\n",
    "    train_data = []\n",
    "    for img in tqdm(img_list, desc='Extracting Image Progress'):\n",
    "        path = os.path.join(directory, img)\n",
    "        img = cv2.resize(cv2.imread(path), (IMAGE_SIZE,IMAGE_SIZE))\n",
    "        train_data.append(np.array(img))\n",
    "    print(\"Successfully import images!\")\n",
    "    # Convert to np.array and normalize pixel values to be between 0 and 1 \n",
    "    return np.array(train_data).astype('float32') / 255.0 "
   ]
  },
  {
   "cell_type": "code",
   "execution_count": null,
   "id": "11efceda",
   "metadata": {
    "ExecuteTime": {
     "end_time": "2021-05-11T10:08:43.489785Z",
     "start_time": "2021-05-11T10:08:24.435922Z"
    }
   },
   "outputs": [],
   "source": [
    "# CHANGE THE PATH TO IMAGE FOLDER IN YOUR LOCAL DEVICE!\n",
    "path = r\"C:\\Users\\luong\\Documents\\GitHub\\ML\\Asm\\ASM2\\patch_images\"\n",
    "\n",
    "train_X_img = create_train_data(path, train_X.tolist())\n",
    "test_X_img = create_train_data(path, test_X.tolist())"
   ]
  },
  {
   "cell_type": "code",
   "execution_count": null,
   "id": "4354ded7",
   "metadata": {
    "ExecuteTime": {
     "end_time": "2021-05-11T10:08:43.532657Z",
     "start_time": "2021-05-11T10:08:43.501294Z"
    }
   },
   "outputs": [],
   "source": [
    "train_Y.dtype"
   ]
  },
  {
   "cell_type": "code",
   "execution_count": null,
   "id": "923dae32",
   "metadata": {
    "ExecuteTime": {
     "end_time": "2021-05-11T10:08:44.114312Z",
     "start_time": "2021-05-11T10:08:43.541778Z"
    }
   },
   "outputs": [],
   "source": [
    "plt.imshow(train_X_img[0])"
   ]
  },
  {
   "cell_type": "markdown",
   "id": "4e422032",
   "metadata": {},
   "source": [
    "## VGG16"
   ]
  },
  {
   "cell_type": "code",
   "execution_count": null,
   "id": "b50615f5",
   "metadata": {
    "ExecuteTime": {
     "end_time": "2021-05-11T10:08:44.146667Z",
     "start_time": "2021-05-11T10:08:44.122683Z"
    }
   },
   "outputs": [],
   "source": [
    "from tensorflow.keras.models import Sequential\n",
    "from tensorflow.keras.layers import Dense, Conv2D, MaxPool2D , Flatten\n",
    "from tensorflow.keras.preprocessing.image import ImageDataGenerator"
   ]
  },
  {
   "cell_type": "code",
   "execution_count": null,
   "id": "fea66f9b",
   "metadata": {
    "ExecuteTime": {
     "end_time": "2021-05-11T10:08:45.447984Z",
     "start_time": "2021-05-11T10:08:44.157914Z"
    }
   },
   "outputs": [],
   "source": [
    "model = Sequential()\n",
    "\n",
    "model.add(Conv2D(input_shape=(27,27,3),filters=64,kernel_size=(3,3),padding=\"same\", activation=\"relu\"))\n",
    "model.add(Conv2D(filters=64,kernel_size=(3,3),padding=\"same\", activation=\"relu\"))\n",
    "model.add(MaxPool2D(pool_size=(2,2),strides=(2,2)))\n",
    "\n",
    "model.add(Conv2D(filters=128, kernel_size=(3,3), padding=\"same\", activation=\"relu\"))\n",
    "model.add(Conv2D(filters=128, kernel_size=(3,3), padding=\"same\", activation=\"relu\"))\n",
    "model.add(MaxPool2D(pool_size=(2,2),strides=(2,2)))\n",
    "\n",
    "model.add(Conv2D(filters=256, kernel_size=(3,3), padding=\"same\", activation=\"relu\"))\n",
    "model.add(Conv2D(filters=256, kernel_size=(3,3), padding=\"same\", activation=\"relu\"))\n",
    "model.add(Conv2D(filters=256, kernel_size=(3,3), padding=\"same\", activation=\"relu\"))\n",
    "model.add(MaxPool2D(pool_size=(2,2),strides=(2,2)))\n",
    "\n",
    "model.add(Conv2D(filters=512, kernel_size=(3,3), padding=\"same\", activation=\"relu\"))\n",
    "model.add(Conv2D(filters=512, kernel_size=(3,3), padding=\"same\", activation=\"relu\"))\n",
    "model.add(Conv2D(filters=512, kernel_size=(3,3), padding=\"same\", activation=\"relu\"))\n",
    "model.add(MaxPool2D(pool_size=(2,2),strides=(2,2)))\n",
    "# model.add(Conv2D(filters=512, kernel_size=(3,3), padding=\"same\", activation=\"relu\"))\n",
    "# model.add(Conv2D(filters=512, kernel_size=(3,3), padding=\"same\", activation=\"relu\"))\n",
    "# model.add(Conv2D(filters=512, kernel_size=(3,3), padding=\"same\", activation=\"relu\"))\n",
    "# model.add(MaxPool2D(pool_size=(2,2),strides=(2,2)))"
   ]
  },
  {
   "cell_type": "code",
   "execution_count": null,
   "id": "41fb43fe",
   "metadata": {
    "ExecuteTime": {
     "end_time": "2021-05-11T10:09:12.312445Z",
     "start_time": "2021-05-11T10:09:11.908676Z"
    }
   },
   "outputs": [],
   "source": [
    "model.add(Flatten())\n",
    "model.add(Dense(units=4096,activation=\"relu\"))\n",
    "model.add(Dense(units=4096,activation=\"relu\"))\n",
    "model.add(Dense(units=4, activation=\"softmax\"))"
   ]
  },
  {
   "cell_type": "code",
   "execution_count": null,
   "id": "cf8c6db3",
   "metadata": {
    "ExecuteTime": {
     "end_time": "2021-05-11T10:09:14.463859Z",
     "start_time": "2021-05-11T10:09:14.392895Z"
    }
   },
   "outputs": [],
   "source": [
    "from tensorflow.keras.optimizers import Adam\n",
    "\n",
    "opt = Adam(lr=0.000001)\n",
    "model.compile(optimizer = opt , \n",
    "              loss = 'sparse_categorical_crossentropy', \n",
    "              metrics = ['accuracy'])\n"
   ]
  },
  {
   "cell_type": "code",
   "execution_count": null,
   "id": "12ee78da",
   "metadata": {
    "ExecuteTime": {
     "end_time": "2021-05-11T10:09:17.402910Z",
     "start_time": "2021-05-11T10:09:17.377664Z"
    }
   },
   "outputs": [],
   "source": [
    "model.summary()"
   ]
  },
  {
   "cell_type": "code",
   "execution_count": null,
   "id": "ad81a1bb",
   "metadata": {
    "ExecuteTime": {
     "end_time": "2021-05-11T10:09:18.146298Z",
     "start_time": "2021-05-11T10:09:18.128394Z"
    }
   },
   "outputs": [],
   "source": [
    "train_X_img.shape"
   ]
  },
  {
   "cell_type": "code",
   "execution_count": null,
   "id": "2f9036ac",
   "metadata": {
    "ExecuteTime": {
     "end_time": "2021-05-11T10:10:51.918813Z",
     "start_time": "2021-05-11T10:09:18.551243Z"
    }
   },
   "outputs": [],
   "source": [
    "from tensorflow.keras.callbacks import ModelCheckpoint, EarlyStopping\n",
    "checkpoint = ModelCheckpoint(\"vgg16_1.h5\", \n",
    "                             monitor='val_acc',\n",
    "                             verbose=1, \n",
    "                             save_best_only=True, \n",
    "                             save_weights_only=False, \n",
    "                             mode='auto', period=1)\n",
    "\n",
    "early = EarlyStopping(monitor='val_acc', min_delta=0, patience=20, verbose=1, mode='auto')\n",
    "\n",
    "hist = model.fit(train_X_img ,train_Y, batch_size = 32, epochs = 15, verbose=1, callbacks=[early,checkpoint])"
   ]
  },
  {
   "cell_type": "code",
   "execution_count": null,
   "id": "1e06e848",
   "metadata": {},
   "outputs": [],
   "source": []
  }
 ],
 "metadata": {
  "kernelspec": {
   "display_name": "Python 3",
   "language": "python",
   "name": "python3"
  },
  "language_info": {
   "codemirror_mode": {
    "name": "ipython",
    "version": 3
   },
   "file_extension": ".py",
   "mimetype": "text/x-python",
   "name": "python",
   "nbconvert_exporter": "python",
   "pygments_lexer": "ipython3",
   "version": "3.8.8"
  },
  "toc": {
   "base_numbering": 1,
   "nav_menu": {},
   "number_sections": false,
   "sideBar": true,
   "skip_h1_title": false,
   "title_cell": "Table of Contents",
   "title_sidebar": "Contents",
   "toc_cell": false,
   "toc_position": {},
   "toc_section_display": true,
   "toc_window_display": false
  }
 },
 "nbformat": 4,
 "nbformat_minor": 5
}
