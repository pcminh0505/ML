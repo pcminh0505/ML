{
 "cells": [
  {
   "cell_type": "markdown",
   "id": "7bd294c5",
   "metadata": {},
   "source": [
    "## Installation needed"
   ]
  },
  {
   "cell_type": "code",
   "execution_count": 1,
   "id": "6478fcf0",
   "metadata": {
    "ExecuteTime": {
     "end_time": "2021-05-11T06:59:43.910732Z",
     "start_time": "2021-05-11T06:59:43.896769Z"
    }
   },
   "outputs": [],
   "source": [
    "# !pip install tensorflow\n",
    "# !pip install opencv-python\n",
    "# !pip install keras"
   ]
  },
  {
   "cell_type": "markdown",
   "id": "9dbadcf6",
   "metadata": {},
   "source": [
    "## Import libraries"
   ]
  },
  {
   "cell_type": "code",
   "execution_count": 2,
   "id": "f5d362d0",
   "metadata": {
    "ExecuteTime": {
     "end_time": "2021-05-11T06:59:46.868821Z",
     "start_time": "2021-05-11T06:59:43.912726Z"
    }
   },
   "outputs": [
    {
     "name": "stdout",
     "output_type": "stream",
     "text": [
      "Using Tensorflow version: 2.4.1\n"
     ]
    }
   ],
   "source": [
    "import pandas as pd\n",
    "import numpy as np\n",
    "import matplotlib.pyplot as plt\n",
    "%matplotlib inline \n",
    "plt.style.use('dark_background')\n",
    "import seaborn as sns\n",
    "from tqdm import tqdm\n",
    "\n",
    "import cv2\n",
    "import os\n",
    "import tensorflow as tf\n",
    "import sklearn as sk\n",
    "\n",
    "import warnings\n",
    "warnings.filterwarnings('ignore')\n",
    "\n",
    "print('Using Tensorflow version:', tf.__version__)"
   ]
  },
  {
   "cell_type": "code",
   "execution_count": 3,
   "id": "4019fb89",
   "metadata": {
    "ExecuteTime": {
     "end_time": "2021-05-11T06:59:46.899738Z",
     "start_time": "2021-05-11T06:59:46.869819Z"
    }
   },
   "outputs": [],
   "source": [
    "main_data = pd.read_csv('data_labels_mainData.csv')\n",
    "extra_data = pd.read_csv('data_labels_extraData.csv')"
   ]
  },
  {
   "cell_type": "code",
   "execution_count": 4,
   "id": "4862c470",
   "metadata": {
    "ExecuteTime": {
     "end_time": "2021-05-11T06:59:46.929830Z",
     "start_time": "2021-05-11T06:59:46.900736Z"
    }
   },
   "outputs": [
    {
     "data": {
      "text/html": [
       "<div>\n",
       "<style scoped>\n",
       "    .dataframe tbody tr th:only-of-type {\n",
       "        vertical-align: middle;\n",
       "    }\n",
       "\n",
       "    .dataframe tbody tr th {\n",
       "        vertical-align: top;\n",
       "    }\n",
       "\n",
       "    .dataframe thead th {\n",
       "        text-align: right;\n",
       "    }\n",
       "</style>\n",
       "<table border=\"1\" class=\"dataframe\">\n",
       "  <thead>\n",
       "    <tr style=\"text-align: right;\">\n",
       "      <th></th>\n",
       "      <th>InstanceID</th>\n",
       "      <th>patientID</th>\n",
       "      <th>ImageName</th>\n",
       "      <th>cellTypeName</th>\n",
       "      <th>cellType</th>\n",
       "      <th>isCancerous</th>\n",
       "    </tr>\n",
       "  </thead>\n",
       "  <tbody>\n",
       "    <tr>\n",
       "      <th>0</th>\n",
       "      <td>22405</td>\n",
       "      <td>1</td>\n",
       "      <td>22405.png</td>\n",
       "      <td>fibroblast</td>\n",
       "      <td>0</td>\n",
       "      <td>0</td>\n",
       "    </tr>\n",
       "    <tr>\n",
       "      <th>1</th>\n",
       "      <td>22406</td>\n",
       "      <td>1</td>\n",
       "      <td>22406.png</td>\n",
       "      <td>fibroblast</td>\n",
       "      <td>0</td>\n",
       "      <td>0</td>\n",
       "    </tr>\n",
       "    <tr>\n",
       "      <th>2</th>\n",
       "      <td>22407</td>\n",
       "      <td>1</td>\n",
       "      <td>22407.png</td>\n",
       "      <td>fibroblast</td>\n",
       "      <td>0</td>\n",
       "      <td>0</td>\n",
       "    </tr>\n",
       "    <tr>\n",
       "      <th>3</th>\n",
       "      <td>22408</td>\n",
       "      <td>1</td>\n",
       "      <td>22408.png</td>\n",
       "      <td>fibroblast</td>\n",
       "      <td>0</td>\n",
       "      <td>0</td>\n",
       "    </tr>\n",
       "    <tr>\n",
       "      <th>4</th>\n",
       "      <td>22409</td>\n",
       "      <td>1</td>\n",
       "      <td>22409.png</td>\n",
       "      <td>fibroblast</td>\n",
       "      <td>0</td>\n",
       "      <td>0</td>\n",
       "    </tr>\n",
       "    <tr>\n",
       "      <th>...</th>\n",
       "      <td>...</td>\n",
       "      <td>...</td>\n",
       "      <td>...</td>\n",
       "      <td>...</td>\n",
       "      <td>...</td>\n",
       "      <td>...</td>\n",
       "    </tr>\n",
       "    <tr>\n",
       "      <th>9891</th>\n",
       "      <td>1625</td>\n",
       "      <td>60</td>\n",
       "      <td>1625.png</td>\n",
       "      <td>epithelial</td>\n",
       "      <td>2</td>\n",
       "      <td>1</td>\n",
       "    </tr>\n",
       "    <tr>\n",
       "      <th>9892</th>\n",
       "      <td>1626</td>\n",
       "      <td>60</td>\n",
       "      <td>1626.png</td>\n",
       "      <td>epithelial</td>\n",
       "      <td>2</td>\n",
       "      <td>1</td>\n",
       "    </tr>\n",
       "    <tr>\n",
       "      <th>9893</th>\n",
       "      <td>1627</td>\n",
       "      <td>60</td>\n",
       "      <td>1627.png</td>\n",
       "      <td>epithelial</td>\n",
       "      <td>2</td>\n",
       "      <td>1</td>\n",
       "    </tr>\n",
       "    <tr>\n",
       "      <th>9894</th>\n",
       "      <td>1628</td>\n",
       "      <td>60</td>\n",
       "      <td>1628.png</td>\n",
       "      <td>epithelial</td>\n",
       "      <td>2</td>\n",
       "      <td>1</td>\n",
       "    </tr>\n",
       "    <tr>\n",
       "      <th>9895</th>\n",
       "      <td>1629</td>\n",
       "      <td>60</td>\n",
       "      <td>1629.png</td>\n",
       "      <td>epithelial</td>\n",
       "      <td>2</td>\n",
       "      <td>1</td>\n",
       "    </tr>\n",
       "  </tbody>\n",
       "</table>\n",
       "<p>9896 rows × 6 columns</p>\n",
       "</div>"
      ],
      "text/plain": [
       "      InstanceID  patientID  ImageName cellTypeName  cellType  isCancerous\n",
       "0          22405          1  22405.png   fibroblast         0            0\n",
       "1          22406          1  22406.png   fibroblast         0            0\n",
       "2          22407          1  22407.png   fibroblast         0            0\n",
       "3          22408          1  22408.png   fibroblast         0            0\n",
       "4          22409          1  22409.png   fibroblast         0            0\n",
       "...          ...        ...        ...          ...       ...          ...\n",
       "9891        1625         60   1625.png   epithelial         2            1\n",
       "9892        1626         60   1626.png   epithelial         2            1\n",
       "9893        1627         60   1627.png   epithelial         2            1\n",
       "9894        1628         60   1628.png   epithelial         2            1\n",
       "9895        1629         60   1629.png   epithelial         2            1\n",
       "\n",
       "[9896 rows x 6 columns]"
      ]
     },
     "execution_count": 4,
     "metadata": {},
     "output_type": "execute_result"
    }
   ],
   "source": [
    "main_data"
   ]
  },
  {
   "cell_type": "code",
   "execution_count": 5,
   "id": "1163d96e",
   "metadata": {
    "ExecuteTime": {
     "end_time": "2021-05-11T06:59:46.945617Z",
     "start_time": "2021-05-11T06:59:46.930656Z"
    }
   },
   "outputs": [
    {
     "data": {
      "text/html": [
       "<div>\n",
       "<style scoped>\n",
       "    .dataframe tbody tr th:only-of-type {\n",
       "        vertical-align: middle;\n",
       "    }\n",
       "\n",
       "    .dataframe tbody tr th {\n",
       "        vertical-align: top;\n",
       "    }\n",
       "\n",
       "    .dataframe thead th {\n",
       "        text-align: right;\n",
       "    }\n",
       "</style>\n",
       "<table border=\"1\" class=\"dataframe\">\n",
       "  <thead>\n",
       "    <tr style=\"text-align: right;\">\n",
       "      <th></th>\n",
       "      <th>InstanceID</th>\n",
       "      <th>patientID</th>\n",
       "      <th>ImageName</th>\n",
       "      <th>isCancerous</th>\n",
       "    </tr>\n",
       "  </thead>\n",
       "  <tbody>\n",
       "    <tr>\n",
       "      <th>0</th>\n",
       "      <td>12681</td>\n",
       "      <td>61</td>\n",
       "      <td>12681.png</td>\n",
       "      <td>0</td>\n",
       "    </tr>\n",
       "    <tr>\n",
       "      <th>1</th>\n",
       "      <td>12682</td>\n",
       "      <td>61</td>\n",
       "      <td>12682.png</td>\n",
       "      <td>0</td>\n",
       "    </tr>\n",
       "    <tr>\n",
       "      <th>2</th>\n",
       "      <td>12683</td>\n",
       "      <td>61</td>\n",
       "      <td>12683.png</td>\n",
       "      <td>0</td>\n",
       "    </tr>\n",
       "    <tr>\n",
       "      <th>3</th>\n",
       "      <td>12684</td>\n",
       "      <td>61</td>\n",
       "      <td>12684.png</td>\n",
       "      <td>0</td>\n",
       "    </tr>\n",
       "    <tr>\n",
       "      <th>4</th>\n",
       "      <td>12685</td>\n",
       "      <td>61</td>\n",
       "      <td>12685.png</td>\n",
       "      <td>0</td>\n",
       "    </tr>\n",
       "    <tr>\n",
       "      <th>...</th>\n",
       "      <td>...</td>\n",
       "      <td>...</td>\n",
       "      <td>...</td>\n",
       "      <td>...</td>\n",
       "    </tr>\n",
       "    <tr>\n",
       "      <th>10379</th>\n",
       "      <td>20028</td>\n",
       "      <td>99</td>\n",
       "      <td>20028.png</td>\n",
       "      <td>0</td>\n",
       "    </tr>\n",
       "    <tr>\n",
       "      <th>10380</th>\n",
       "      <td>20029</td>\n",
       "      <td>99</td>\n",
       "      <td>20029.png</td>\n",
       "      <td>0</td>\n",
       "    </tr>\n",
       "    <tr>\n",
       "      <th>10381</th>\n",
       "      <td>20030</td>\n",
       "      <td>99</td>\n",
       "      <td>20030.png</td>\n",
       "      <td>0</td>\n",
       "    </tr>\n",
       "    <tr>\n",
       "      <th>10382</th>\n",
       "      <td>20031</td>\n",
       "      <td>99</td>\n",
       "      <td>20031.png</td>\n",
       "      <td>0</td>\n",
       "    </tr>\n",
       "    <tr>\n",
       "      <th>10383</th>\n",
       "      <td>20032</td>\n",
       "      <td>99</td>\n",
       "      <td>20032.png</td>\n",
       "      <td>0</td>\n",
       "    </tr>\n",
       "  </tbody>\n",
       "</table>\n",
       "<p>10384 rows × 4 columns</p>\n",
       "</div>"
      ],
      "text/plain": [
       "       InstanceID  patientID  ImageName  isCancerous\n",
       "0           12681         61  12681.png            0\n",
       "1           12682         61  12682.png            0\n",
       "2           12683         61  12683.png            0\n",
       "3           12684         61  12684.png            0\n",
       "4           12685         61  12685.png            0\n",
       "...           ...        ...        ...          ...\n",
       "10379       20028         99  20028.png            0\n",
       "10380       20029         99  20029.png            0\n",
       "10381       20030         99  20030.png            0\n",
       "10382       20031         99  20031.png            0\n",
       "10383       20032         99  20032.png            0\n",
       "\n",
       "[10384 rows x 4 columns]"
      ]
     },
     "execution_count": 5,
     "metadata": {},
     "output_type": "execute_result"
    }
   ],
   "source": [
    "extra_data"
   ]
  },
  {
   "cell_type": "code",
   "execution_count": 6,
   "id": "aeeda69e",
   "metadata": {
    "ExecuteTime": {
     "end_time": "2021-05-11T06:59:47.008448Z",
     "start_time": "2021-05-11T06:59:46.947611Z"
    }
   },
   "outputs": [],
   "source": [
    "from sklearn.model_selection import train_test_split\n",
    "X = main_data['ImageName']\n",
    "y = main_data['cellType']\n",
    "\n",
    "train_X, test_X, train_Y, test_Y = train_test_split(X, y, test_size=0.33)\n",
    "\n",
    "train_Y = train_Y.ravel()"
   ]
  },
  {
   "cell_type": "code",
   "execution_count": 7,
   "id": "60469feb",
   "metadata": {
    "ExecuteTime": {
     "end_time": "2021-05-11T06:59:47.024559Z",
     "start_time": "2021-05-11T06:59:47.010443Z"
    }
   },
   "outputs": [],
   "source": [
    "def create_train_data(directory, img_list):\n",
    "    IMAGE_SIZE = 27\n",
    "    train_data = []\n",
    "    for img in tqdm(img_list, desc='Extracting Image Progress'):\n",
    "        path = os.path.join(directory, img)\n",
    "        img = cv2.resize(cv2.imread(path), (IMAGE_SIZE,IMAGE_SIZE))\n",
    "        train_data.append(np.array(img))\n",
    "    print(\"Successfully import images!\")\n",
    "    # Convert to np.array and normalize pixel values to be between 0 and 1 \n",
    "    return np.array(train_data) / 255.0 "
   ]
  },
  {
   "cell_type": "code",
   "execution_count": 8,
   "id": "11efceda",
   "metadata": {
    "ExecuteTime": {
     "end_time": "2021-05-11T06:59:48.401725Z",
     "start_time": "2021-05-11T06:59:47.027407Z"
    }
   },
   "outputs": [
    {
     "name": "stderr",
     "output_type": "stream",
     "text": [
      "Extracting Image Progress: 100%|█████████████████████████████████████████████████| 6630/6630 [00:00<00:00, 7811.65it/s]\n",
      "Extracting Image Progress:  22%|███████████                                       | 719/3266 [00:00<00:00, 7119.97it/s]"
     ]
    },
    {
     "name": "stdout",
     "output_type": "stream",
     "text": [
      "Successfully import images!\n"
     ]
    },
    {
     "name": "stderr",
     "output_type": "stream",
     "text": [
      "Extracting Image Progress: 100%|█████████████████████████████████████████████████| 3266/3266 [00:00<00:00, 7181.42it/s]"
     ]
    },
    {
     "name": "stdout",
     "output_type": "stream",
     "text": [
      "Successfully import images!\n"
     ]
    },
    {
     "name": "stderr",
     "output_type": "stream",
     "text": [
      "\n"
     ]
    }
   ],
   "source": [
    "# CHANGE THE PATH TO IMAGE FOLDER IN YOUR LOCAL DEVICE!\n",
    "path = r\"C:\\Users\\luong\\Documents\\GitHub\\ML\\Asm\\ASM2\\patch_images\"\n",
    "\n",
    "train_X_img = create_train_data(path, train_X.tolist())\n",
    "test_X_img = create_train_data(path, test_X.tolist())"
   ]
  },
  {
   "cell_type": "code",
   "execution_count": 9,
   "id": "4354ded7",
   "metadata": {
    "ExecuteTime": {
     "end_time": "2021-05-11T06:59:48.417681Z",
     "start_time": "2021-05-11T06:59:48.403716Z"
    }
   },
   "outputs": [
    {
     "data": {
      "text/plain": [
       "array([[[[0.6627451 , 0.37647059, 0.63529412],\n",
       "         [0.69411765, 0.39215686, 0.65882353],\n",
       "         [0.67058824, 0.39607843, 0.65882353],\n",
       "         ...,\n",
       "         [0.8627451 , 0.65882353, 0.87843137],\n",
       "         [0.85882353, 0.6627451 , 0.87058824],\n",
       "         [0.76862745, 0.55686275, 0.77254902]],\n",
       "\n",
       "        [[0.69019608, 0.40392157, 0.6745098 ],\n",
       "         [0.60784314, 0.25490196, 0.53333333],\n",
       "         [0.54509804, 0.23529412, 0.51372549],\n",
       "         ...,\n",
       "         [0.77647059, 0.57647059, 0.78039216],\n",
       "         [0.85098039, 0.67058824, 0.8627451 ],\n",
       "         [0.90980392, 0.72941176, 0.92941176]],\n",
       "\n",
       "        [[0.67843137, 0.41568627, 0.69019608],\n",
       "         [0.55686275, 0.24705882, 0.53333333],\n",
       "         [0.52156863, 0.25490196, 0.53333333],\n",
       "         ...,\n",
       "         [0.76470588, 0.57647059, 0.77647059],\n",
       "         [0.86666667, 0.6627451 , 0.86666667],\n",
       "         [0.99215686, 0.78431373, 0.95686275]],\n",
       "\n",
       "        ...,\n",
       "\n",
       "        [[0.58039216, 0.24313725, 0.4627451 ],\n",
       "         [0.5254902 , 0.20392157, 0.43137255],\n",
       "         [0.43137255, 0.18823529, 0.38823529],\n",
       "         ...,\n",
       "         [0.98039216, 0.83921569, 0.98039216],\n",
       "         [1.        , 0.90588235, 1.        ],\n",
       "         [1.        , 0.92156863, 1.        ]],\n",
       "\n",
       "        [[0.52156863, 0.19607843, 0.40392157],\n",
       "         [0.5254902 , 0.2       , 0.41176471],\n",
       "         [0.4745098 , 0.22745098, 0.42352941],\n",
       "         ...,\n",
       "         [0.96862745, 0.80784314, 0.95294118],\n",
       "         [0.99215686, 0.87843137, 0.99607843],\n",
       "         [0.87843137, 0.63529412, 0.8       ]],\n",
       "\n",
       "        [[0.60784314, 0.28627451, 0.49411765],\n",
       "         [0.55686275, 0.21568627, 0.41960784],\n",
       "         [0.4745098 , 0.19215686, 0.37647059],\n",
       "         ...,\n",
       "         [0.78823529, 0.54509804, 0.73333333],\n",
       "         [0.77647059, 0.54509804, 0.7254902 ],\n",
       "         [0.69411765, 0.40392157, 0.59607843]]],\n",
       "\n",
       "\n",
       "       [[[0.92941176, 0.81176471, 0.96470588],\n",
       "         [1.        , 0.94117647, 1.        ],\n",
       "         [0.99607843, 0.90196078, 0.94509804],\n",
       "         ...,\n",
       "         [0.98823529, 0.96078431, 1.        ],\n",
       "         [0.96078431, 0.9372549 , 0.96470588],\n",
       "         [0.96078431, 0.9254902 , 0.95294118]],\n",
       "\n",
       "        [[0.79607843, 0.71764706, 0.9254902 ],\n",
       "         [0.89803922, 0.83137255, 0.98039216],\n",
       "         [1.        , 0.94901961, 1.        ],\n",
       "         ...,\n",
       "         [1.        , 0.98431373, 1.        ],\n",
       "         [0.98039216, 0.94901961, 0.96862745],\n",
       "         [0.96862745, 0.91764706, 0.95294118]],\n",
       "\n",
       "        [[0.78823529, 0.65882353, 0.8745098 ],\n",
       "         [0.89803922, 0.78823529, 0.96470588],\n",
       "         [0.91764706, 0.83137255, 0.94117647],\n",
       "         ...,\n",
       "         [0.94901961, 0.85490196, 0.94901961],\n",
       "         [0.97254902, 0.89411765, 0.97254902],\n",
       "         [0.97647059, 0.90588235, 0.98039216]],\n",
       "\n",
       "        ...,\n",
       "\n",
       "        [[0.62745098, 0.31372549, 0.52156863],\n",
       "         [0.61568627, 0.32941176, 0.52941176],\n",
       "         [0.59215686, 0.32156863, 0.50980392],\n",
       "         ...,\n",
       "         [0.58431373, 0.25098039, 0.46666667],\n",
       "         [0.58431373, 0.25098039, 0.46666667],\n",
       "         [0.5254902 , 0.19607843, 0.41176471]],\n",
       "\n",
       "        [[0.50980392, 0.23529412, 0.4627451 ],\n",
       "         [0.52941176, 0.27058824, 0.4745098 ],\n",
       "         [0.60784314, 0.35686275, 0.52941176],\n",
       "         ...,\n",
       "         [0.55294118, 0.23529412, 0.47058824],\n",
       "         [0.56470588, 0.23137255, 0.4627451 ],\n",
       "         [0.54901961, 0.20392157, 0.42352941]],\n",
       "\n",
       "        [[0.52156863, 0.28235294, 0.4745098 ],\n",
       "         [0.57647059, 0.34509804, 0.52941176],\n",
       "         [0.76078431, 0.54901961, 0.71372549],\n",
       "         ...,\n",
       "         [0.69803922, 0.36078431, 0.56078431],\n",
       "         [0.76862745, 0.40392157, 0.61176471],\n",
       "         [0.70196078, 0.3254902 , 0.52941176]]],\n",
       "\n",
       "\n",
       "       [[[1.        , 0.96862745, 1.        ],\n",
       "         [1.        , 0.96078431, 1.        ],\n",
       "         [0.98823529, 0.94901961, 0.99215686],\n",
       "         ...,\n",
       "         [0.89411765, 0.74901961, 0.94509804],\n",
       "         [0.79607843, 0.63921569, 0.84313725],\n",
       "         [0.74117647, 0.56862745, 0.78823529]],\n",
       "\n",
       "        [[1.        , 0.95294118, 1.        ],\n",
       "         [0.94901961, 0.89411765, 0.97254902],\n",
       "         [0.90980392, 0.85882353, 0.93333333],\n",
       "         ...,\n",
       "         [0.94901961, 0.82352941, 0.98039216],\n",
       "         [0.82745098, 0.67058824, 0.88235294],\n",
       "         [0.75686275, 0.58823529, 0.81176471]],\n",
       "\n",
       "        [[0.96862745, 0.86666667, 0.97647059],\n",
       "         [0.89803922, 0.80392157, 0.91764706],\n",
       "         [0.87058824, 0.77647059, 0.88627451],\n",
       "         ...,\n",
       "         [0.98039216, 0.85098039, 1.        ],\n",
       "         [0.87058824, 0.71372549, 0.9254902 ],\n",
       "         [0.74509804, 0.57647059, 0.79607843]],\n",
       "\n",
       "        ...,\n",
       "\n",
       "        [[0.86666667, 0.61568627, 0.76078431],\n",
       "         [0.72941176, 0.47058824, 0.62352941],\n",
       "         [0.72156863, 0.47843137, 0.64313725],\n",
       "         ...,\n",
       "         [0.98431373, 0.85882353, 1.        ],\n",
       "         [0.97254902, 0.86666667, 0.99215686],\n",
       "         [0.92941176, 0.75686275, 0.96078431]],\n",
       "\n",
       "        [[0.90980392, 0.63921569, 0.78823529],\n",
       "         [0.79607843, 0.51372549, 0.67058824],\n",
       "         [0.75294118, 0.49803922, 0.6627451 ],\n",
       "         ...,\n",
       "         [0.82352941, 0.67843137, 0.8627451 ],\n",
       "         [0.81176471, 0.6745098 , 0.87058824],\n",
       "         [0.74117647, 0.55686275, 0.79215686]],\n",
       "\n",
       "        [[0.75294118, 0.45882353, 0.61568627],\n",
       "         [0.78039216, 0.47058824, 0.63529412],\n",
       "         [0.69411765, 0.42745098, 0.59607843],\n",
       "         ...,\n",
       "         [0.83921569, 0.68235294, 0.8745098 ],\n",
       "         [0.90980392, 0.76470588, 0.95686275],\n",
       "         [0.84705882, 0.67058824, 0.88627451]]],\n",
       "\n",
       "\n",
       "       ...,\n",
       "\n",
       "\n",
       "       [[[0.82745098, 0.5254902 , 0.66666667],\n",
       "         [0.83921569, 0.54509804, 0.68627451],\n",
       "         [0.80392157, 0.50196078, 0.64705882],\n",
       "         ...,\n",
       "         [0.79215686, 0.44313725, 0.57254902],\n",
       "         [0.79215686, 0.44313725, 0.56862745],\n",
       "         [0.75686275, 0.40784314, 0.5372549 ]],\n",
       "\n",
       "        [[0.83529412, 0.51764706, 0.6627451 ],\n",
       "         [0.83529412, 0.52156863, 0.67058824],\n",
       "         [0.82352941, 0.49803922, 0.65098039],\n",
       "         ...,\n",
       "         [0.82352941, 0.48235294, 0.60784314],\n",
       "         [0.76078431, 0.42745098, 0.54901961],\n",
       "         [0.76862745, 0.43137255, 0.55686275]],\n",
       "\n",
       "        [[0.76078431, 0.45098039, 0.59607843],\n",
       "         [0.74901961, 0.43921569, 0.58823529],\n",
       "         [0.77647059, 0.45882353, 0.60784314],\n",
       "         ...,\n",
       "         [0.81960784, 0.47843137, 0.6       ],\n",
       "         [0.87058824, 0.52941176, 0.64705882],\n",
       "         [0.82745098, 0.48235294, 0.60784314]],\n",
       "\n",
       "        ...,\n",
       "\n",
       "        [[0.78823529, 0.47058824, 0.63529412],\n",
       "         [0.76862745, 0.4627451 , 0.63137255],\n",
       "         [0.72156863, 0.44705882, 0.61176471],\n",
       "         ...,\n",
       "         [0.74117647, 0.41176471, 0.49411765],\n",
       "         [0.48627451, 0.11764706, 0.23921569],\n",
       "         [0.56862745, 0.19215686, 0.31372549]],\n",
       "\n",
       "        [[0.85882353, 0.53333333, 0.70588235],\n",
       "         [0.80392157, 0.49019608, 0.6745098 ],\n",
       "         [0.75686275, 0.47058824, 0.64705882],\n",
       "         ...,\n",
       "         [0.52941176, 0.12941176, 0.22352941],\n",
       "         [0.52941176, 0.12941176, 0.25882353],\n",
       "         [0.62352941, 0.23137255, 0.36078431]],\n",
       "\n",
       "        [[0.78039216, 0.45882353, 0.63529412],\n",
       "         [0.76470588, 0.46666667, 0.64705882],\n",
       "         [0.80392157, 0.53333333, 0.69803922],\n",
       "         ...,\n",
       "         [0.56078431, 0.16078431, 0.25882353],\n",
       "         [0.52941176, 0.12941176, 0.25882353],\n",
       "         [0.59215686, 0.2       , 0.33333333]]],\n",
       "\n",
       "\n",
       "       [[[0.82352941, 0.59215686, 0.71764706],\n",
       "         [0.82352941, 0.59215686, 0.72156863],\n",
       "         [0.83137255, 0.58039216, 0.71764706],\n",
       "         ...,\n",
       "         [0.73333333, 0.36862745, 0.50980392],\n",
       "         [0.71764706, 0.34901961, 0.49411765],\n",
       "         [0.62352941, 0.25490196, 0.4       ]],\n",
       "\n",
       "        [[0.79607843, 0.56470588, 0.69411765],\n",
       "         [0.81960784, 0.56862745, 0.70588235],\n",
       "         [0.92156863, 0.68235294, 0.81960784],\n",
       "         ...,\n",
       "         [0.8       , 0.44705882, 0.60392157],\n",
       "         [0.72941176, 0.38823529, 0.55294118],\n",
       "         [0.63529412, 0.30196078, 0.47843137]],\n",
       "\n",
       "        [[0.84705882, 0.62352941, 0.75294118],\n",
       "         [0.78039216, 0.51764706, 0.6627451 ],\n",
       "         [0.85882353, 0.58039216, 0.7254902 ],\n",
       "         ...,\n",
       "         [0.83921569, 0.56470588, 0.71764706],\n",
       "         [0.74901961, 0.47058824, 0.63137255],\n",
       "         [0.67058824, 0.38823529, 0.56078431]],\n",
       "\n",
       "        ...,\n",
       "\n",
       "        [[0.87843137, 0.71372549, 0.87058824],\n",
       "         [0.90980392, 0.76078431, 0.90980392],\n",
       "         [0.91764706, 0.76078431, 0.90980392],\n",
       "         ...,\n",
       "         [0.89411765, 0.70980392, 0.82745098],\n",
       "         [0.87058824, 0.6745098 , 0.79607843],\n",
       "         [0.85098039, 0.63137255, 0.75686275]],\n",
       "\n",
       "        [[0.85882353, 0.6745098 , 0.84705882],\n",
       "         [0.8627451 , 0.68627451, 0.85098039],\n",
       "         [0.94901961, 0.78431373, 0.94117647],\n",
       "         ...,\n",
       "         [0.9254902 , 0.72941176, 0.85098039],\n",
       "         [0.88235294, 0.6627451 , 0.78823529],\n",
       "         [0.89019608, 0.65490196, 0.78039216]],\n",
       "\n",
       "        [[0.81568627, 0.61176471, 0.79215686],\n",
       "         [0.80784314, 0.59607843, 0.77254902],\n",
       "         [0.92156863, 0.70980392, 0.87843137],\n",
       "         ...,\n",
       "         [0.96078431, 0.78039216, 0.89411765],\n",
       "         [0.78039216, 0.57254902, 0.69019608],\n",
       "         [0.93333333, 0.71372549, 0.83529412]]],\n",
       "\n",
       "\n",
       "       [[[0.93333333, 0.85490196, 0.93333333],\n",
       "         [0.91372549, 0.80784314, 0.89803922],\n",
       "         [0.90196078, 0.76078431, 0.8745098 ],\n",
       "         ...,\n",
       "         [0.69019608, 0.43529412, 0.69019608],\n",
       "         [0.75686275, 0.51372549, 0.76078431],\n",
       "         [0.80392157, 0.57647059, 0.80392157]],\n",
       "\n",
       "        [[0.89019608, 0.81176471, 0.89411765],\n",
       "         [0.88627451, 0.76078431, 0.8627451 ],\n",
       "         [0.87843137, 0.70980392, 0.83921569],\n",
       "         ...,\n",
       "         [0.70588235, 0.43137255, 0.68235294],\n",
       "         [0.70196078, 0.43529412, 0.68235294],\n",
       "         [0.71764706, 0.45490196, 0.69411765]],\n",
       "\n",
       "        [[0.9254902 , 0.81568627, 0.92941176],\n",
       "         [0.88235294, 0.74509804, 0.8627451 ],\n",
       "         [0.82745098, 0.65882353, 0.78823529],\n",
       "         ...,\n",
       "         [0.70588235, 0.42745098, 0.64705882],\n",
       "         [0.74117647, 0.4745098 , 0.69411765],\n",
       "         [0.72941176, 0.47843137, 0.69411765]],\n",
       "\n",
       "        ...,\n",
       "\n",
       "        [[0.79607843, 0.69019608, 0.83137255],\n",
       "         [0.77647059, 0.6745098 , 0.81568627],\n",
       "         [0.79215686, 0.69411765, 0.84313725],\n",
       "         ...,\n",
       "         [0.87843137, 0.74901961, 0.9254902 ],\n",
       "         [0.87058824, 0.72941176, 0.91764706],\n",
       "         [0.81960784, 0.66666667, 0.87058824]],\n",
       "\n",
       "        [[0.88627451, 0.74901961, 0.90588235],\n",
       "         [0.83529412, 0.70588235, 0.87058824],\n",
       "         [0.79215686, 0.6627451 , 0.84313725],\n",
       "         ...,\n",
       "         [0.89411765, 0.76078431, 0.9372549 ],\n",
       "         [0.86666667, 0.71372549, 0.90980392],\n",
       "         [0.82352941, 0.64705882, 0.85882353]],\n",
       "\n",
       "        [[0.92156863, 0.74509804, 0.91372549],\n",
       "         [0.96862745, 0.81176471, 0.97647059],\n",
       "         [0.95294118, 0.80784314, 0.97254902],\n",
       "         ...,\n",
       "         [0.88627451, 0.7372549 , 0.91372549],\n",
       "         [0.8627451 , 0.70196078, 0.89411765],\n",
       "         [0.8627451 , 0.69411765, 0.90196078]]]])"
      ]
     },
     "execution_count": 9,
     "metadata": {},
     "output_type": "execute_result"
    }
   ],
   "source": [
    "train_X_img "
   ]
  },
  {
   "cell_type": "code",
   "execution_count": 10,
   "id": "923dae32",
   "metadata": {
    "ExecuteTime": {
     "end_time": "2021-05-11T06:59:48.573292Z",
     "start_time": "2021-05-11T06:59:48.421736Z"
    }
   },
   "outputs": [
    {
     "data": {
      "text/plain": [
       "<matplotlib.image.AxesImage at 0x2b576e1cfd0>"
      ]
     },
     "execution_count": 10,
     "metadata": {},
     "output_type": "execute_result"
    },
    {
     "data": {
      "image/png": "[encoded data removed]",
      "text/plain": [
       "<Figure size 432x288 with 1 Axes>"
      ]
     },
     "metadata": {},
     "output_type": "display_data"
    }
   ],
   "source": [
    "plt.imshow(train_X_img[0])"
   ]
  },
  {
   "cell_type": "markdown",
   "id": "44e99481",
   "metadata": {},
   "source": [
    "## VGG16"
   ]
  },
  {
   "cell_type": "code",
   "execution_count": 17,
   "id": "b649c81f",
   "metadata": {
    "ExecuteTime": {
     "end_time": "2021-05-11T08:41:39.355602Z",
     "start_time": "2021-05-11T08:41:39.346626Z"
    }
   },
   "outputs": [],
   "source": [
    "from tensorflow.keras.models import Sequential\n",
    "from tensorflow.keras.layers import Dense, Conv2D, MaxPool2D , Flatten\n",
    "from tensorflow.keras.preprocessing.image import ImageDataGenerator"
   ]
  },
  {
   "cell_type": "code",
   "execution_count": 33,
   "id": "f30a4699",
   "metadata": {
    "ExecuteTime": {
     "end_time": "2021-05-11T08:57:15.999921Z",
     "start_time": "2021-05-11T08:57:15.051456Z"
    }
   },
   "outputs": [],
   "source": [
    "model = Sequential()\n",
    "\n",
    "model.add(Conv2D(input_shape=(27,27,3),filters=64,kernel_size=(3,3),padding=\"same\", activation=\"relu\"))\n",
    "model.add(Conv2D(filters=64,kernel_size=(3,3),padding=\"same\", activation=\"relu\"))\n",
    "model.add(MaxPool2D(pool_size=(2,2),strides=(2,2)))\n",
    "\n",
    "model.add(Conv2D(filters=128, kernel_size=(3,3), padding=\"same\", activation=\"relu\"))\n",
    "model.add(Conv2D(filters=128, kernel_size=(3,3), padding=\"same\", activation=\"relu\"))\n",
    "model.add(MaxPool2D(pool_size=(2,2),strides=(2,2)))\n",
    "\n",
    "model.add(Conv2D(filters=256, kernel_size=(3,3), padding=\"same\", activation=\"relu\"))\n",
    "model.add(Conv2D(filters=256, kernel_size=(3,3), padding=\"same\", activation=\"relu\"))\n",
    "model.add(Conv2D(filters=256, kernel_size=(3,3), padding=\"same\", activation=\"relu\"))\n",
    "model.add(MaxPool2D(pool_size=(2,2),strides=(2,2)))\n",
    "\n",
    "model.add(Conv2D(filters=512, kernel_size=(3,3), padding=\"same\", activation=\"relu\"))\n",
    "model.add(Conv2D(filters=512, kernel_size=(3,3), padding=\"same\", activation=\"relu\"))\n",
    "model.add(Conv2D(filters=512, kernel_size=(3,3), padding=\"same\", activation=\"relu\"))\n",
    "model.add(MaxPool2D(pool_size=(2,2),strides=(2,2)))\n",
    "# model.add(Conv2D(filters=512, kernel_size=(3,3), padding=\"same\", activation=\"relu\"))\n",
    "# model.add(Conv2D(filters=512, kernel_size=(3,3), padding=\"same\", activation=\"relu\"))\n",
    "# model.add(Conv2D(filters=512, kernel_size=(3,3), padding=\"same\", activation=\"relu\"))\n",
    "# model.add(MaxPool2D(pool_size=(2,2),strides=(2,2)))"
   ]
  },
  {
   "cell_type": "code",
   "execution_count": 35,
   "id": "4af26fa2",
   "metadata": {
    "ExecuteTime": {
     "end_time": "2021-05-11T08:57:28.046996Z",
     "start_time": "2021-05-11T08:57:27.860496Z"
    }
   },
   "outputs": [],
   "source": [
    "model.add(Flatten())\n",
    "model.add(Dense(units=4096,activation=\"relu\"))\n",
    "model.add(Dense(units=4096,activation=\"relu\"))\n",
    "model.add(Dense(units=2, activation=\"softmax\"))"
   ]
  },
  {
   "cell_type": "code",
   "execution_count": 45,
   "id": "04c8df7b",
   "metadata": {
    "ExecuteTime": {
     "end_time": "2021-05-11T09:15:09.769309Z",
     "start_time": "2021-05-11T09:15:09.753154Z"
    }
   },
   "outputs": [],
   "source": [
    "from tensorflow.keras.optimizers import Adam\n",
    "\n",
    "opt = Adam(lr=0.000001)\n",
    "model.compile(optimizer = opt , \n",
    "              loss = tf.keras.losses.SparseCategoricalCrossentropy(from_logits=True) , \n",
    "              metrics = ['accuracy'])\n"
   ]
  },
  {
   "cell_type": "code",
   "execution_count": 37,
   "id": "8266f426",
   "metadata": {
    "ExecuteTime": {
     "end_time": "2021-05-11T08:57:29.440987Z",
     "start_time": "2021-05-11T08:57:29.424314Z"
    }
   },
   "outputs": [
    {
     "name": "stdout",
     "output_type": "stream",
     "text": [
      "Model: \"sequential_4\"\n",
      "_________________________________________________________________\n",
      "Layer (type)                 Output Shape              Param #   \n",
      "=================================================================\n",
      "conv2d_52 (Conv2D)           (None, 27, 27, 64)        1792      \n",
      "_________________________________________________________________\n",
      "conv2d_53 (Conv2D)           (None, 27, 27, 64)        36928     \n",
      "_________________________________________________________________\n",
      "max_pooling2d_20 (MaxPooling (None, 13, 13, 64)        0         \n",
      "_________________________________________________________________\n",
      "conv2d_54 (Conv2D)           (None, 13, 13, 128)       73856     \n",
      "_________________________________________________________________\n",
      "conv2d_55 (Conv2D)           (None, 13, 13, 128)       147584    \n",
      "_________________________________________________________________\n",
      "max_pooling2d_21 (MaxPooling (None, 6, 6, 128)         0         \n",
      "_________________________________________________________________\n",
      "conv2d_56 (Conv2D)           (None, 6, 6, 256)         295168    \n",
      "_________________________________________________________________\n",
      "conv2d_57 (Conv2D)           (None, 6, 6, 256)         590080    \n",
      "_________________________________________________________________\n",
      "conv2d_58 (Conv2D)           (None, 6, 6, 256)         590080    \n",
      "_________________________________________________________________\n",
      "max_pooling2d_22 (MaxPooling (None, 3, 3, 256)         0         \n",
      "_________________________________________________________________\n",
      "conv2d_59 (Conv2D)           (None, 3, 3, 512)         1180160   \n",
      "_________________________________________________________________\n",
      "conv2d_60 (Conv2D)           (None, 3, 3, 512)         2359808   \n",
      "_________________________________________________________________\n",
      "conv2d_61 (Conv2D)           (None, 3, 3, 512)         2359808   \n",
      "_________________________________________________________________\n",
      "max_pooling2d_23 (MaxPooling (None, 1, 1, 512)         0         \n",
      "_________________________________________________________________\n",
      "flatten_2 (Flatten)          (None, 512)               0         \n",
      "_________________________________________________________________\n",
      "dense_6 (Dense)              (None, 4096)              2101248   \n",
      "_________________________________________________________________\n",
      "dense_7 (Dense)              (None, 4096)              16781312  \n",
      "_________________________________________________________________\n",
      "dense_8 (Dense)              (None, 2)                 8194      \n",
      "_________________________________________________________________\n",
      "flatten_3 (Flatten)          (None, 2)                 0         \n",
      "_________________________________________________________________\n",
      "dense_9 (Dense)              (None, 4096)              12288     \n",
      "_________________________________________________________________\n",
      "dense_10 (Dense)             (None, 4096)              16781312  \n",
      "_________________________________________________________________\n",
      "dense_11 (Dense)             (None, 2)                 8194      \n",
      "=================================================================\n",
      "Total params: 43,327,812\n",
      "Trainable params: 43,327,812\n",
      "Non-trainable params: 0\n",
      "_________________________________________________________________\n"
     ]
    }
   ],
   "source": [
    "model.summary()"
   ]
  },
  {
   "cell_type": "code",
   "execution_count": 40,
   "id": "7defb290",
   "metadata": {
    "ExecuteTime": {
     "end_time": "2021-05-11T09:05:28.272929Z",
     "start_time": "2021-05-11T09:05:28.251461Z"
    }
   },
   "outputs": [
    {
     "data": {
      "text/plain": [
       "(6630, 27, 27, 3)"
      ]
     },
     "execution_count": 40,
     "metadata": {},
     "output_type": "execute_result"
    }
   ],
   "source": [
    "train_X_img.shape"
   ]
  },
  {
   "cell_type": "code",
   "execution_count": 46,
   "id": "c9b1f8ae",
   "metadata": {
    "ExecuteTime": {
     "end_time": "2021-05-11T09:15:13.242866Z",
     "start_time": "2021-05-11T09:15:11.885453Z"
    }
   },
   "outputs": [
    {
     "name": "stdout",
     "output_type": "stream",
     "text": [
      "WARNING:tensorflow:`period` argument is deprecated. Please use `save_freq` to specify the frequency in number of batches seen.\n",
      "Epoch 1/15\n"
     ]
    },
    {
     "ename": "InvalidArgumentError",
     "evalue": " Received a label value of 3 which is outside the valid range of [0, 2).  Label values: 2 1 0 2 0 1 0 3 2 2 2 2 2 2 0 0 3 1 2 1 1 1 2 0 0 2 3 3 0 2 0 2\n\t [[node sparse_categorical_crossentropy/SparseSoftmaxCrossEntropyWithLogits/SparseSoftmaxCrossEntropyWithLogits (defined at <ipython-input-46-09aab7fbdee8>:11) ]] [Op:__inference_train_function_4977]\n\nFunction call stack:\ntrain_function\n",
     "output_type": "error",
     "traceback": [
      "\u001b[1;31m---------------------------------------------------------------------------\u001b[0m",
      "\u001b[1;31mInvalidArgumentError\u001b[0m                      Traceback (most recent call last)",
      "\u001b[1;32m<ipython-input-46-09aab7fbdee8>\u001b[0m in \u001b[0;36m<module>\u001b[1;34m\u001b[0m\n\u001b[0;32m      9\u001b[0m \u001b[0mearly\u001b[0m \u001b[1;33m=\u001b[0m \u001b[0mEarlyStopping\u001b[0m\u001b[1;33m(\u001b[0m\u001b[0mmonitor\u001b[0m\u001b[1;33m=\u001b[0m\u001b[1;34m'val_acc'\u001b[0m\u001b[1;33m,\u001b[0m \u001b[0mmin_delta\u001b[0m\u001b[1;33m=\u001b[0m\u001b[1;36m0\u001b[0m\u001b[1;33m,\u001b[0m \u001b[0mpatience\u001b[0m\u001b[1;33m=\u001b[0m\u001b[1;36m20\u001b[0m\u001b[1;33m,\u001b[0m \u001b[0mverbose\u001b[0m\u001b[1;33m=\u001b[0m\u001b[1;36m1\u001b[0m\u001b[1;33m,\u001b[0m \u001b[0mmode\u001b[0m\u001b[1;33m=\u001b[0m\u001b[1;34m'auto'\u001b[0m\u001b[1;33m)\u001b[0m\u001b[1;33m\u001b[0m\u001b[1;33m\u001b[0m\u001b[0m\n\u001b[0;32m     10\u001b[0m \u001b[1;33m\u001b[0m\u001b[0m\n\u001b[1;32m---> 11\u001b[1;33m \u001b[0mhist\u001b[0m \u001b[1;33m=\u001b[0m \u001b[0mmodel\u001b[0m\u001b[1;33m.\u001b[0m\u001b[0mfit\u001b[0m\u001b[1;33m(\u001b[0m\u001b[0mx\u001b[0m\u001b[1;33m=\u001b[0m\u001b[0mtrain_X_img\u001b[0m \u001b[1;33m,\u001b[0m\u001b[0my\u001b[0m\u001b[1;33m=\u001b[0m\u001b[0mtrain_Y\u001b[0m\u001b[1;33m,\u001b[0m \u001b[0mbatch_size\u001b[0m \u001b[1;33m=\u001b[0m \u001b[1;36m32\u001b[0m\u001b[1;33m,\u001b[0m \u001b[0mepochs\u001b[0m \u001b[1;33m=\u001b[0m \u001b[1;36m15\u001b[0m\u001b[1;33m,\u001b[0m \u001b[0mcallbacks\u001b[0m\u001b[1;33m=\u001b[0m\u001b[1;33m[\u001b[0m\u001b[0mearly\u001b[0m\u001b[1;33m,\u001b[0m\u001b[0mcheckpoint\u001b[0m\u001b[1;33m]\u001b[0m\u001b[1;33m)\u001b[0m\u001b[1;33m\u001b[0m\u001b[1;33m\u001b[0m\u001b[0m\n\u001b[0m",
      "\u001b[1;32m~\\anaconda3\\envs\\ImageClassification\\lib\\site-packages\\tensorflow\\python\\keras\\engine\\training.py\u001b[0m in \u001b[0;36mfit\u001b[1;34m(self, x, y, batch_size, epochs, verbose, callbacks, validation_split, validation_data, shuffle, class_weight, sample_weight, initial_epoch, steps_per_epoch, validation_steps, validation_batch_size, validation_freq, max_queue_size, workers, use_multiprocessing)\u001b[0m\n\u001b[0;32m   1098\u001b[0m                 _r=1):\n\u001b[0;32m   1099\u001b[0m               \u001b[0mcallbacks\u001b[0m\u001b[1;33m.\u001b[0m\u001b[0mon_train_batch_begin\u001b[0m\u001b[1;33m(\u001b[0m\u001b[0mstep\u001b[0m\u001b[1;33m)\u001b[0m\u001b[1;33m\u001b[0m\u001b[1;33m\u001b[0m\u001b[0m\n\u001b[1;32m-> 1100\u001b[1;33m               \u001b[0mtmp_logs\u001b[0m \u001b[1;33m=\u001b[0m \u001b[0mself\u001b[0m\u001b[1;33m.\u001b[0m\u001b[0mtrain_function\u001b[0m\u001b[1;33m(\u001b[0m\u001b[0miterator\u001b[0m\u001b[1;33m)\u001b[0m\u001b[1;33m\u001b[0m\u001b[1;33m\u001b[0m\u001b[0m\n\u001b[0m\u001b[0;32m   1101\u001b[0m               \u001b[1;32mif\u001b[0m \u001b[0mdata_handler\u001b[0m\u001b[1;33m.\u001b[0m\u001b[0mshould_sync\u001b[0m\u001b[1;33m:\u001b[0m\u001b[1;33m\u001b[0m\u001b[1;33m\u001b[0m\u001b[0m\n\u001b[0;32m   1102\u001b[0m                 \u001b[0mcontext\u001b[0m\u001b[1;33m.\u001b[0m\u001b[0masync_wait\u001b[0m\u001b[1;33m(\u001b[0m\u001b[1;33m)\u001b[0m\u001b[1;33m\u001b[0m\u001b[1;33m\u001b[0m\u001b[0m\n",
      "\u001b[1;32m~\\anaconda3\\envs\\ImageClassification\\lib\\site-packages\\tensorflow\\python\\eager\\def_function.py\u001b[0m in \u001b[0;36m__call__\u001b[1;34m(self, *args, **kwds)\u001b[0m\n\u001b[0;32m    826\u001b[0m     \u001b[0mtracing_count\u001b[0m \u001b[1;33m=\u001b[0m \u001b[0mself\u001b[0m\u001b[1;33m.\u001b[0m\u001b[0mexperimental_get_tracing_count\u001b[0m\u001b[1;33m(\u001b[0m\u001b[1;33m)\u001b[0m\u001b[1;33m\u001b[0m\u001b[1;33m\u001b[0m\u001b[0m\n\u001b[0;32m    827\u001b[0m     \u001b[1;32mwith\u001b[0m \u001b[0mtrace\u001b[0m\u001b[1;33m.\u001b[0m\u001b[0mTrace\u001b[0m\u001b[1;33m(\u001b[0m\u001b[0mself\u001b[0m\u001b[1;33m.\u001b[0m\u001b[0m_name\u001b[0m\u001b[1;33m)\u001b[0m \u001b[1;32mas\u001b[0m \u001b[0mtm\u001b[0m\u001b[1;33m:\u001b[0m\u001b[1;33m\u001b[0m\u001b[1;33m\u001b[0m\u001b[0m\n\u001b[1;32m--> 828\u001b[1;33m       \u001b[0mresult\u001b[0m \u001b[1;33m=\u001b[0m \u001b[0mself\u001b[0m\u001b[1;33m.\u001b[0m\u001b[0m_call\u001b[0m\u001b[1;33m(\u001b[0m\u001b[1;33m*\u001b[0m\u001b[0margs\u001b[0m\u001b[1;33m,\u001b[0m \u001b[1;33m**\u001b[0m\u001b[0mkwds\u001b[0m\u001b[1;33m)\u001b[0m\u001b[1;33m\u001b[0m\u001b[1;33m\u001b[0m\u001b[0m\n\u001b[0m\u001b[0;32m    829\u001b[0m       \u001b[0mcompiler\u001b[0m \u001b[1;33m=\u001b[0m \u001b[1;34m\"xla\"\u001b[0m \u001b[1;32mif\u001b[0m \u001b[0mself\u001b[0m\u001b[1;33m.\u001b[0m\u001b[0m_experimental_compile\u001b[0m \u001b[1;32melse\u001b[0m \u001b[1;34m\"nonXla\"\u001b[0m\u001b[1;33m\u001b[0m\u001b[1;33m\u001b[0m\u001b[0m\n\u001b[0;32m    830\u001b[0m       \u001b[0mnew_tracing_count\u001b[0m \u001b[1;33m=\u001b[0m \u001b[0mself\u001b[0m\u001b[1;33m.\u001b[0m\u001b[0mexperimental_get_tracing_count\u001b[0m\u001b[1;33m(\u001b[0m\u001b[1;33m)\u001b[0m\u001b[1;33m\u001b[0m\u001b[1;33m\u001b[0m\u001b[0m\n",
      "\u001b[1;32m~\\anaconda3\\envs\\ImageClassification\\lib\\site-packages\\tensorflow\\python\\eager\\def_function.py\u001b[0m in \u001b[0;36m_call\u001b[1;34m(self, *args, **kwds)\u001b[0m\n\u001b[0;32m    886\u001b[0m         \u001b[1;31m# Lifting succeeded, so variables are initialized and we can run the\u001b[0m\u001b[1;33m\u001b[0m\u001b[1;33m\u001b[0m\u001b[1;33m\u001b[0m\u001b[0m\n\u001b[0;32m    887\u001b[0m         \u001b[1;31m# stateless function.\u001b[0m\u001b[1;33m\u001b[0m\u001b[1;33m\u001b[0m\u001b[1;33m\u001b[0m\u001b[0m\n\u001b[1;32m--> 888\u001b[1;33m         \u001b[1;32mreturn\u001b[0m \u001b[0mself\u001b[0m\u001b[1;33m.\u001b[0m\u001b[0m_stateless_fn\u001b[0m\u001b[1;33m(\u001b[0m\u001b[1;33m*\u001b[0m\u001b[0margs\u001b[0m\u001b[1;33m,\u001b[0m \u001b[1;33m**\u001b[0m\u001b[0mkwds\u001b[0m\u001b[1;33m)\u001b[0m\u001b[1;33m\u001b[0m\u001b[1;33m\u001b[0m\u001b[0m\n\u001b[0m\u001b[0;32m    889\u001b[0m     \u001b[1;32melse\u001b[0m\u001b[1;33m:\u001b[0m\u001b[1;33m\u001b[0m\u001b[1;33m\u001b[0m\u001b[0m\n\u001b[0;32m    890\u001b[0m       \u001b[0m_\u001b[0m\u001b[1;33m,\u001b[0m \u001b[0m_\u001b[0m\u001b[1;33m,\u001b[0m \u001b[0m_\u001b[0m\u001b[1;33m,\u001b[0m \u001b[0mfiltered_flat_args\u001b[0m \u001b[1;33m=\u001b[0m\u001b[0;31m \u001b[0m\u001b[0;31m\\\u001b[0m\u001b[1;33m\u001b[0m\u001b[1;33m\u001b[0m\u001b[0m\n",
      "\u001b[1;32m~\\anaconda3\\envs\\ImageClassification\\lib\\site-packages\\tensorflow\\python\\eager\\function.py\u001b[0m in \u001b[0;36m__call__\u001b[1;34m(self, *args, **kwargs)\u001b[0m\n\u001b[0;32m   2940\u001b[0m       (graph_function,\n\u001b[0;32m   2941\u001b[0m        filtered_flat_args) = self._maybe_define_function(args, kwargs)\n\u001b[1;32m-> 2942\u001b[1;33m     return graph_function._call_flat(\n\u001b[0m\u001b[0;32m   2943\u001b[0m         filtered_flat_args, captured_inputs=graph_function.captured_inputs)  # pylint: disable=protected-access\n\u001b[0;32m   2944\u001b[0m \u001b[1;33m\u001b[0m\u001b[0m\n",
      "\u001b[1;32m~\\anaconda3\\envs\\ImageClassification\\lib\\site-packages\\tensorflow\\python\\eager\\function.py\u001b[0m in \u001b[0;36m_call_flat\u001b[1;34m(self, args, captured_inputs, cancellation_manager)\u001b[0m\n\u001b[0;32m   1916\u001b[0m         and executing_eagerly):\n\u001b[0;32m   1917\u001b[0m       \u001b[1;31m# No tape is watching; skip to running the function.\u001b[0m\u001b[1;33m\u001b[0m\u001b[1;33m\u001b[0m\u001b[1;33m\u001b[0m\u001b[0m\n\u001b[1;32m-> 1918\u001b[1;33m       return self._build_call_outputs(self._inference_function.call(\n\u001b[0m\u001b[0;32m   1919\u001b[0m           ctx, args, cancellation_manager=cancellation_manager))\n\u001b[0;32m   1920\u001b[0m     forward_backward = self._select_forward_and_backward_functions(\n",
      "\u001b[1;32m~\\anaconda3\\envs\\ImageClassification\\lib\\site-packages\\tensorflow\\python\\eager\\function.py\u001b[0m in \u001b[0;36mcall\u001b[1;34m(self, ctx, args, cancellation_manager)\u001b[0m\n\u001b[0;32m    553\u001b[0m       \u001b[1;32mwith\u001b[0m \u001b[0m_InterpolateFunctionError\u001b[0m\u001b[1;33m(\u001b[0m\u001b[0mself\u001b[0m\u001b[1;33m)\u001b[0m\u001b[1;33m:\u001b[0m\u001b[1;33m\u001b[0m\u001b[1;33m\u001b[0m\u001b[0m\n\u001b[0;32m    554\u001b[0m         \u001b[1;32mif\u001b[0m \u001b[0mcancellation_manager\u001b[0m \u001b[1;32mis\u001b[0m \u001b[1;32mNone\u001b[0m\u001b[1;33m:\u001b[0m\u001b[1;33m\u001b[0m\u001b[1;33m\u001b[0m\u001b[0m\n\u001b[1;32m--> 555\u001b[1;33m           outputs = execute.execute(\n\u001b[0m\u001b[0;32m    556\u001b[0m               \u001b[0mstr\u001b[0m\u001b[1;33m(\u001b[0m\u001b[0mself\u001b[0m\u001b[1;33m.\u001b[0m\u001b[0msignature\u001b[0m\u001b[1;33m.\u001b[0m\u001b[0mname\u001b[0m\u001b[1;33m)\u001b[0m\u001b[1;33m,\u001b[0m\u001b[1;33m\u001b[0m\u001b[1;33m\u001b[0m\u001b[0m\n\u001b[0;32m    557\u001b[0m               \u001b[0mnum_outputs\u001b[0m\u001b[1;33m=\u001b[0m\u001b[0mself\u001b[0m\u001b[1;33m.\u001b[0m\u001b[0m_num_outputs\u001b[0m\u001b[1;33m,\u001b[0m\u001b[1;33m\u001b[0m\u001b[1;33m\u001b[0m\u001b[0m\n",
      "\u001b[1;32m~\\anaconda3\\envs\\ImageClassification\\lib\\site-packages\\tensorflow\\python\\eager\\execute.py\u001b[0m in \u001b[0;36mquick_execute\u001b[1;34m(op_name, num_outputs, inputs, attrs, ctx, name)\u001b[0m\n\u001b[0;32m     57\u001b[0m   \u001b[1;32mtry\u001b[0m\u001b[1;33m:\u001b[0m\u001b[1;33m\u001b[0m\u001b[1;33m\u001b[0m\u001b[0m\n\u001b[0;32m     58\u001b[0m     \u001b[0mctx\u001b[0m\u001b[1;33m.\u001b[0m\u001b[0mensure_initialized\u001b[0m\u001b[1;33m(\u001b[0m\u001b[1;33m)\u001b[0m\u001b[1;33m\u001b[0m\u001b[1;33m\u001b[0m\u001b[0m\n\u001b[1;32m---> 59\u001b[1;33m     tensors = pywrap_tfe.TFE_Py_Execute(ctx._handle, device_name, op_name,\n\u001b[0m\u001b[0;32m     60\u001b[0m                                         inputs, attrs, num_outputs)\n\u001b[0;32m     61\u001b[0m   \u001b[1;32mexcept\u001b[0m \u001b[0mcore\u001b[0m\u001b[1;33m.\u001b[0m\u001b[0m_NotOkStatusException\u001b[0m \u001b[1;32mas\u001b[0m \u001b[0me\u001b[0m\u001b[1;33m:\u001b[0m\u001b[1;33m\u001b[0m\u001b[1;33m\u001b[0m\u001b[0m\n",
      "\u001b[1;31mInvalidArgumentError\u001b[0m:  Received a label value of 3 which is outside the valid range of [0, 2).  Label values: 2 1 0 2 0 1 0 3 2 2 2 2 2 2 0 0 3 1 2 1 1 1 2 0 0 2 3 3 0 2 0 2\n\t [[node sparse_categorical_crossentropy/SparseSoftmaxCrossEntropyWithLogits/SparseSoftmaxCrossEntropyWithLogits (defined at <ipython-input-46-09aab7fbdee8>:11) ]] [Op:__inference_train_function_4977]\n\nFunction call stack:\ntrain_function\n"
     ]
    }
   ],
   "source": [
    "from tensorflow.keras.callbacks import ModelCheckpoint, EarlyStopping\n",
    "checkpoint = ModelCheckpoint(\"vgg16_1.h5\", \n",
    "                             monitor='val_acc',\n",
    "                             verbose=1, \n",
    "                             save_best_only=True, \n",
    "                             save_weights_only=False, \n",
    "                             mode='auto', period=1)\n",
    "\n",
    "early = EarlyStopping(monitor='val_acc', min_delta=0, patience=20, verbose=1, mode='auto')\n",
    "\n",
    "hist = model.fit(x=train_X_img ,y=train_Y, batch_size = 32, epochs = 15, callbacks=[early,checkpoint])"
   ]
  },
  {
   "cell_type": "code",
   "execution_count": null,
   "id": "881f0ad0",
   "metadata": {},
   "outputs": [],
   "source": []
  }
 ],
 "metadata": {
  "kernelspec": {
   "display_name": "Python 3",
   "language": "python",
   "name": "python3"
  },
  "language_info": {
   "codemirror_mode": {
    "name": "ipython",
    "version": 3
   },
   "file_extension": ".py",
   "mimetype": "text/x-python",
   "name": "python",
   "nbconvert_exporter": "python",
   "pygments_lexer": "ipython3",
   "version": "3.8.8"
  },
  "toc": {
   "base_numbering": 1,
   "nav_menu": {},
   "number_sections": false,
   "sideBar": true,
   "skip_h1_title": false,
   "title_cell": "Table of Contents",
   "title_sidebar": "Contents",
   "toc_cell": false,
   "toc_position": {},
   "toc_section_display": true,
   "toc_window_display": false
  }
 },
 "nbformat": 4,
 "nbformat_minor": 5
}
