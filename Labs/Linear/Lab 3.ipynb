{
 "cells": [
  {
   "cell_type": "code",
   "execution_count": 1,
   "id": "responsible-ivory",
   "metadata": {
    "ExecuteTime": {
     "end_time": "2021-03-24T04:27:45.990860Z",
     "start_time": "2021-03-24T04:27:41.634831Z"
    }
   },
   "outputs": [],
   "source": [
    "import numpy as np\n",
    "import pandas as pd  \n",
    "import matplotlib.pyplot as plt\n",
    "import seaborn as sns \n",
    "import sklearn as sk \n",
    "\n",
    "from matplotlib import style  \n",
    "style.use('dark_background')"
   ]
  },
  {
   "cell_type": "code",
   "execution_count": 2,
   "id": "ahead-australian",
   "metadata": {
    "ExecuteTime": {
     "end_time": "2021-03-24T04:27:46.133335Z",
     "start_time": "2021-03-24T04:27:45.998956Z"
    }
   },
   "outputs": [
    {
     "data": {
      "text/html": [
       "<div>\n",
       "<style scoped>\n",
       "    .dataframe tbody tr th:only-of-type {\n",
       "        vertical-align: middle;\n",
       "    }\n",
       "\n",
       "    .dataframe tbody tr th {\n",
       "        vertical-align: top;\n",
       "    }\n",
       "\n",
       "    .dataframe thead th {\n",
       "        text-align: right;\n",
       "    }\n",
       "</style>\n",
       "<table border=\"1\" class=\"dataframe\">\n",
       "  <thead>\n",
       "    <tr style=\"text-align: right;\">\n",
       "      <th></th>\n",
       "      <th>CRIM</th>\n",
       "      <th>ZN</th>\n",
       "      <th>INDUS</th>\n",
       "      <th>CHAS</th>\n",
       "      <th>NOX</th>\n",
       "      <th>RM</th>\n",
       "      <th>AGE</th>\n",
       "      <th>DIS</th>\n",
       "      <th>RAD</th>\n",
       "      <th>TAX</th>\n",
       "      <th>PTRATIO</th>\n",
       "      <th>B</th>\n",
       "      <th>LSTAT</th>\n",
       "      <th>MEDV</th>\n",
       "    </tr>\n",
       "  </thead>\n",
       "  <tbody>\n",
       "    <tr>\n",
       "      <th>0</th>\n",
       "      <td>0.00632</td>\n",
       "      <td>18.0</td>\n",
       "      <td>2.31</td>\n",
       "      <td>0</td>\n",
       "      <td>0.538</td>\n",
       "      <td>6.575</td>\n",
       "      <td>65.2</td>\n",
       "      <td>4.0900</td>\n",
       "      <td>1</td>\n",
       "      <td>296.0</td>\n",
       "      <td>15.3</td>\n",
       "      <td>396.90</td>\n",
       "      <td>4.98</td>\n",
       "      <td>24.0</td>\n",
       "    </tr>\n",
       "    <tr>\n",
       "      <th>1</th>\n",
       "      <td>0.02731</td>\n",
       "      <td>0.0</td>\n",
       "      <td>7.07</td>\n",
       "      <td>0</td>\n",
       "      <td>0.469</td>\n",
       "      <td>6.421</td>\n",
       "      <td>78.9</td>\n",
       "      <td>4.9671</td>\n",
       "      <td>2</td>\n",
       "      <td>242.0</td>\n",
       "      <td>17.8</td>\n",
       "      <td>396.90</td>\n",
       "      <td>9.14</td>\n",
       "      <td>21.6</td>\n",
       "    </tr>\n",
       "    <tr>\n",
       "      <th>2</th>\n",
       "      <td>0.02729</td>\n",
       "      <td>0.0</td>\n",
       "      <td>7.07</td>\n",
       "      <td>0</td>\n",
       "      <td>0.469</td>\n",
       "      <td>7.185</td>\n",
       "      <td>61.1</td>\n",
       "      <td>4.9671</td>\n",
       "      <td>2</td>\n",
       "      <td>242.0</td>\n",
       "      <td>17.8</td>\n",
       "      <td>392.83</td>\n",
       "      <td>4.03</td>\n",
       "      <td>34.7</td>\n",
       "    </tr>\n",
       "    <tr>\n",
       "      <th>3</th>\n",
       "      <td>0.03237</td>\n",
       "      <td>0.0</td>\n",
       "      <td>2.18</td>\n",
       "      <td>0</td>\n",
       "      <td>0.458</td>\n",
       "      <td>6.998</td>\n",
       "      <td>45.8</td>\n",
       "      <td>6.0622</td>\n",
       "      <td>3</td>\n",
       "      <td>222.0</td>\n",
       "      <td>18.7</td>\n",
       "      <td>394.63</td>\n",
       "      <td>2.94</td>\n",
       "      <td>33.4</td>\n",
       "    </tr>\n",
       "    <tr>\n",
       "      <th>4</th>\n",
       "      <td>0.06905</td>\n",
       "      <td>0.0</td>\n",
       "      <td>2.18</td>\n",
       "      <td>0</td>\n",
       "      <td>0.458</td>\n",
       "      <td>7.147</td>\n",
       "      <td>54.2</td>\n",
       "      <td>6.0622</td>\n",
       "      <td>3</td>\n",
       "      <td>222.0</td>\n",
       "      <td>18.7</td>\n",
       "      <td>396.90</td>\n",
       "      <td>5.33</td>\n",
       "      <td>36.2</td>\n",
       "    </tr>\n",
       "  </tbody>\n",
       "</table>\n",
       "</div>"
      ],
      "text/plain": [
       "      CRIM    ZN  INDUS  CHAS    NOX     RM   AGE     DIS  RAD    TAX  \\\n",
       "0  0.00632  18.0   2.31     0  0.538  6.575  65.2  4.0900    1  296.0   \n",
       "1  0.02731   0.0   7.07     0  0.469  6.421  78.9  4.9671    2  242.0   \n",
       "2  0.02729   0.0   7.07     0  0.469  7.185  61.1  4.9671    2  242.0   \n",
       "3  0.03237   0.0   2.18     0  0.458  6.998  45.8  6.0622    3  222.0   \n",
       "4  0.06905   0.0   2.18     0  0.458  7.147  54.2  6.0622    3  222.0   \n",
       "\n",
       "   PTRATIO       B  LSTAT  MEDV  \n",
       "0     15.3  396.90   4.98  24.0  \n",
       "1     17.8  396.90   9.14  21.6  \n",
       "2     17.8  392.83   4.03  34.7  \n",
       "3     18.7  394.63   2.94  33.4  \n",
       "4     18.7  396.90   5.33  36.2  "
      ]
     },
     "execution_count": 2,
     "metadata": {},
     "output_type": "execute_result"
    }
   ],
   "source": [
    "bostonHousePrice = pd.read_csv('housing.data.csv', sep=\"\\s+\")\n",
    "bostonHousePrice.head()"
   ]
  },
  {
   "cell_type": "code",
   "execution_count": 3,
   "id": "fatal-balloon",
   "metadata": {
    "ExecuteTime": {
     "end_time": "2021-03-24T04:27:46.165187Z",
     "start_time": "2021-03-24T04:27:46.140357Z"
    },
    "scrolled": true
   },
   "outputs": [
    {
     "data": {
      "text/plain": [
       "CRIM       float64\n",
       "ZN         float64\n",
       "INDUS      float64\n",
       "CHAS         int64\n",
       "NOX        float64\n",
       "RM         float64\n",
       "AGE        float64\n",
       "DIS        float64\n",
       "RAD          int64\n",
       "TAX        float64\n",
       "PTRATIO    float64\n",
       "B          float64\n",
       "LSTAT      float64\n",
       "MEDV       float64\n",
       "dtype: object"
      ]
     },
     "execution_count": 3,
     "metadata": {},
     "output_type": "execute_result"
    }
   ],
   "source": [
    "bostonHousePrice.dtypes"
   ]
  },
  {
   "cell_type": "code",
   "execution_count": 4,
   "id": "light-artwork",
   "metadata": {
    "ExecuteTime": {
     "end_time": "2021-03-24T04:27:46.246499Z",
     "start_time": "2021-03-24T04:27:46.172521Z"
    },
    "scrolled": true
   },
   "outputs": [
    {
     "name": "stdout",
     "output_type": "stream",
     "text": [
      "<class 'pandas.core.frame.DataFrame'>\n",
      "RangeIndex: 506 entries, 0 to 505\n",
      "Data columns (total 14 columns):\n",
      " #   Column   Non-Null Count  Dtype  \n",
      "---  ------   --------------  -----  \n",
      " 0   CRIM     506 non-null    float64\n",
      " 1   ZN       506 non-null    float64\n",
      " 2   INDUS    506 non-null    float64\n",
      " 3   CHAS     506 non-null    int64  \n",
      " 4   NOX      506 non-null    float64\n",
      " 5   RM       506 non-null    float64\n",
      " 6   AGE      506 non-null    float64\n",
      " 7   DIS      506 non-null    float64\n",
      " 8   RAD      506 non-null    int64  \n",
      " 9   TAX      506 non-null    float64\n",
      " 10  PTRATIO  506 non-null    float64\n",
      " 11  B        506 non-null    float64\n",
      " 12  LSTAT    506 non-null    float64\n",
      " 13  MEDV     506 non-null    float64\n",
      "dtypes: float64(12), int64(2)\n",
      "memory usage: 55.5 KB\n"
     ]
    }
   ],
   "source": [
    "bostonHousePrice.info()"
   ]
  },
  {
   "cell_type": "markdown",
   "id": "norman-ceramic",
   "metadata": {},
   "source": [
    "If you recall from the last lab, we found that possibly the ‘RM’ (number of rooms) and ‘LSTAT’ (unsure) variables seem to have a \n",
    "\n",
    "linear relationship with the house price (‘MEDV’). Hence, we will try these variables as the independent variable to predict the \n",
    "\n",
    "house price, i.e., the dependent variable. Create an independent variable that is just based on the ‘RM’ column and a dependent \n",
    "\n",
    "variable of ‘MEDV’. Assign the values of the 'RM' column to a variable named 'uniRmX' and assign the values of the 'MEDV' column to \n",
    "\n",
    "a variable named 'Y'."
   ]
  },
  {
   "cell_type": "code",
   "execution_count": 5,
   "id": "defensive-amino",
   "metadata": {
    "ExecuteTime": {
     "end_time": "2021-03-24T04:27:46.291458Z",
     "start_time": "2021-03-24T04:27:46.254568Z"
    }
   },
   "outputs": [],
   "source": [
    "uniRmX = bostonHousePrice['RM']\n",
    "Y = bostonHousePrice['MEDV']"
   ]
  },
  {
   "cell_type": "markdown",
   "id": "scientific-bacteria",
   "metadata": {},
   "source": [
    "* Next, we want to create some data to train the model, and some other data to evaluate how good the model is. We may be tempted to \n",
    "\n",
    "use 100% of the data for training, then select a subset for evaluation (say 20% of the data). However, we will find out later that \n",
    "\n",
    "this isn’t a good idea generally, as the data we use to test is the same we use to train, and likely to cause overfitting and what \n",
    "\n",
    "is called bias. We will discuss this more in a later week, but for now, just note that it isn’t a good idea to do so. \n",
    "\n",
    "\n",
    "\n",
    "* Instead, we will split the data into a training set, which we use to fit the model/hypothesis, and a testing set, which we will use \n",
    "\n",
    "to evaluate the performance of the fitted model/hypothesis. There should be no overlap between the two sets. How we achieve this is \n",
    "\n",
    "typically randomly split the data, say 80% for training and 20% for testing. We can do this ourselves, but like many machine \n",
    "\n",
    "learning functionality these days, they are already implemented, and of course, they are available in the libraries we have \n",
    "\n",
    "imported."
   ]
  },
  {
   "cell_type": "code",
   "execution_count": 6,
   "id": "patent-passenger",
   "metadata": {
    "ExecuteTime": {
     "end_time": "2021-03-24T04:27:46.422975Z",
     "start_time": "2021-03-24T04:27:46.298702Z"
    }
   },
   "outputs": [
    {
     "name": "stdout",
     "output_type": "stream",
     "text": [
      "(404, 1)\n",
      "(102, 1)\n",
      "(404, 1)\n",
      "(102, 1)\n"
     ]
    }
   ],
   "source": [
    "# create testing and training data for RM variable\n",
    "from sklearn.model_selection import train_test_split\n",
    "trainX, testX, trainY, testY = train_test_split(np.array(uniRmX), np.array(Y), test_size=0.2)\n",
    "trainX = trainX.reshape(-1,1)\n",
    "testX = testX.reshape(-1,1)\n",
    "testY = testY.reshape(-1,1)\n",
    "trainY = trainY.reshape(-1,1)\n",
    "print(trainX.shape)\n",
    "print(testX.shape)\n",
    "print(trainY.shape)\n",
    "print(testY.shape)"
   ]
  },
  {
   "cell_type": "code",
   "execution_count": 7,
   "id": "possible-scholarship",
   "metadata": {
    "ExecuteTime": {
     "end_time": "2021-03-24T04:27:46.524224Z",
     "start_time": "2021-03-24T04:27:46.428639Z"
    }
   },
   "outputs": [],
   "source": [
    "from sklearn import linear_model\n",
    "linReg = linear_model.LinearRegression()"
   ]
  },
  {
   "cell_type": "code",
   "execution_count": 8,
   "id": "western-proposal",
   "metadata": {
    "ExecuteTime": {
     "end_time": "2021-03-24T04:27:46.548106Z",
     "start_time": "2021-03-24T04:27:46.530338Z"
    }
   },
   "outputs": [
    {
     "data": {
      "text/plain": [
       "LinearRegression()"
      ]
     },
     "execution_count": 8,
     "metadata": {},
     "output_type": "execute_result"
    }
   ],
   "source": [
    "linReg"
   ]
  },
  {
   "cell_type": "code",
   "execution_count": 9,
   "id": "suspended-costa",
   "metadata": {
    "ExecuteTime": {
     "end_time": "2021-03-24T04:27:46.606276Z",
     "start_time": "2021-03-24T04:27:46.554768Z"
    },
    "scrolled": true
   },
   "outputs": [
    {
     "data": {
      "text/plain": [
       "LinearRegression()"
      ]
     },
     "execution_count": 9,
     "metadata": {},
     "output_type": "execute_result"
    }
   ],
   "source": [
    "linReg.fit(trainX, trainY)"
   ]
  },
  {
   "cell_type": "code",
   "execution_count": 10,
   "id": "alone-comedy",
   "metadata": {
    "ExecuteTime": {
     "end_time": "2021-03-24T04:27:46.627989Z",
     "start_time": "2021-03-24T04:27:46.614890Z"
    }
   },
   "outputs": [
    {
     "name": "stdout",
     "output_type": "stream",
     "text": [
      "Intercept: [-34.68451701]\n",
      "Coefficient/Theta [[9.09771816]]\n"
     ]
    }
   ],
   "source": [
    "print('Intercept:', linReg.intercept_)\n",
    "print('Coefficient/Theta', linReg.coef_)"
   ]
  },
  {
   "cell_type": "code",
   "execution_count": 11,
   "id": "figured-taylor",
   "metadata": {
    "ExecuteTime": {
     "end_time": "2021-03-24T04:27:46.650848Z",
     "start_time": "2021-03-24T04:27:46.637018Z"
    }
   },
   "outputs": [],
   "source": [
    "predYRm = linReg.predict(testX)"
   ]
  },
  {
   "cell_type": "code",
   "execution_count": 12,
   "id": "framed-compilation",
   "metadata": {
    "ExecuteTime": {
     "end_time": "2021-03-24T04:27:46.692415Z",
     "start_time": "2021-03-24T04:27:46.657000Z"
    }
   },
   "outputs": [
    {
     "name": "stdout",
     "output_type": "stream",
     "text": [
      "Mean squared error  41.024985151376704\n"
     ]
    }
   ],
   "source": [
    "from sklearn.metrics import mean_squared_error\n",
    "print('Mean squared error ', mean_squared_error(testY, predYRm))"
   ]
  },
  {
   "cell_type": "code",
   "execution_count": 13,
   "id": "electric-biotechnology",
   "metadata": {
    "ExecuteTime": {
     "end_time": "2021-03-24T04:27:47.339387Z",
     "start_time": "2021-03-24T04:27:46.699326Z"
    },
    "scrolled": true
   },
   "outputs": [
    {
     "data": {
      "text/plain": [
       "[<matplotlib.lines.Line2D at 0x1b3e6288e80>]"
      ]
     },
     "execution_count": 13,
     "metadata": {},
     "output_type": "execute_result"
    },
    {
     "data": {
      "image/png": "[encoded data removed]",
      "text/plain": [
       "<Figure size 432x288 with 1 Axes>"
      ]
     },
     "metadata": {},
     "output_type": "display_data"
    }
   ],
   "source": [
    "plt.scatter(testX, testY, color='red')\n",
    "plt.plot(testX, predYRm, color='blue', linewidth=3)"
   ]
  },
  {
   "cell_type": "code",
   "execution_count": 14,
   "id": "casual-smell",
   "metadata": {
    "ExecuteTime": {
     "end_time": "2021-03-24T04:27:47.691311Z",
     "start_time": "2021-03-24T04:27:47.346370Z"
    },
    "scrolled": true
   },
   "outputs": [
    {
     "data": {
      "text/plain": [
       "<matplotlib.collections.LineCollection at 0x1b3e4246580>"
      ]
     },
     "execution_count": 14,
     "metadata": {},
     "output_type": "execute_result"
    },
    {
     "data": {
      "image/png": "[encoded data removed]",
      "text/plain": [
       "<Figure size 432x288 with 1 Axes>"
      ]
     },
     "metadata": {},
     "output_type": "display_data"
    }
   ],
   "source": [
    "plt.scatter(testX, linReg.predict(testX) - testY, c='g', s=40)\n",
    "plt.hlines(y=0, xmin=3.5, xmax=9)"
   ]
  },
  {
   "cell_type": "markdown",
   "id": "sized-province",
   "metadata": {},
   "source": [
    "**Multivariate Regression**"
   ]
  },
  {
   "cell_type": "code",
   "execution_count": 23,
   "id": "contrary-cement",
   "metadata": {
    "ExecuteTime": {
     "end_time": "2021-03-24T04:31:13.261560Z",
     "start_time": "2021-03-24T04:31:13.251966Z"
    }
   },
   "outputs": [],
   "source": [
    "X = bostonHousePrice.drop('MEDV', axis=1)\n",
    "Y = bostonHousePrice[['MEDV']]"
   ]
  },
  {
   "cell_type": "code",
   "execution_count": 24,
   "id": "pleased-console",
   "metadata": {
    "ExecuteTime": {
     "end_time": "2021-03-24T04:31:14.439388Z",
     "start_time": "2021-03-24T04:31:14.426006Z"
    }
   },
   "outputs": [
    {
     "name": "stdout",
     "output_type": "stream",
     "text": [
      "(480, 13)\n",
      "(26, 13)\n",
      "(480, 1)\n",
      "(26, 1)\n"
     ]
    }
   ],
   "source": [
    "trainX, testX, trainY, testY = train_test_split(np.array(X), np.array(Y), test_size=0.05)\n",
    "print(trainX.shape)\n",
    "print(testX.shape)\n",
    "print(trainY.shape)\n",
    "print(testY.shape)"
   ]
  },
  {
   "cell_type": "code",
   "execution_count": 25,
   "id": "sitting-collaboration",
   "metadata": {
    "ExecuteTime": {
     "end_time": "2021-03-24T04:31:14.610163Z",
     "start_time": "2021-03-24T04:31:14.602806Z"
    }
   },
   "outputs": [],
   "source": [
    "linRegMulti = linear_model.LinearRegression()"
   ]
  },
  {
   "cell_type": "code",
   "execution_count": 26,
   "id": "careful-cream",
   "metadata": {
    "ExecuteTime": {
     "end_time": "2021-03-24T04:31:14.836133Z",
     "start_time": "2021-03-24T04:31:14.807441Z"
    }
   },
   "outputs": [
    {
     "data": {
      "text/plain": [
       "LinearRegression()"
      ]
     },
     "execution_count": 26,
     "metadata": {},
     "output_type": "execute_result"
    }
   ],
   "source": [
    "linRegMulti"
   ]
  },
  {
   "cell_type": "code",
   "execution_count": 27,
   "id": "interpreted-seattle",
   "metadata": {
    "ExecuteTime": {
     "end_time": "2021-03-24T04:31:15.014487Z",
     "start_time": "2021-03-24T04:31:14.998426Z"
    }
   },
   "outputs": [
    {
     "data": {
      "text/plain": [
       "LinearRegression()"
      ]
     },
     "execution_count": 27,
     "metadata": {},
     "output_type": "execute_result"
    }
   ],
   "source": [
    "linRegMulti.fit(trainX, trainY)"
   ]
  },
  {
   "cell_type": "code",
   "execution_count": 28,
   "id": "designing-playlist",
   "metadata": {
    "ExecuteTime": {
     "end_time": "2021-03-24T04:31:15.226713Z",
     "start_time": "2021-03-24T04:31:15.219726Z"
    }
   },
   "outputs": [
    {
     "name": "stdout",
     "output_type": "stream",
     "text": [
      "Intercept: [-34.68451701]\n",
      "Coefficient/Theta [[9.09771816]]\n"
     ]
    }
   ],
   "source": [
    "print('Intercept:', linReg.intercept_)\n",
    "print('Coefficient/Theta', linReg.coef_)"
   ]
  },
  {
   "cell_type": "code",
   "execution_count": 29,
   "id": "designing-chrome",
   "metadata": {
    "ExecuteTime": {
     "end_time": "2021-03-24T04:31:15.991424Z",
     "start_time": "2021-03-24T04:31:15.973431Z"
    }
   },
   "outputs": [
    {
     "name": "stdout",
     "output_type": "stream",
     "text": [
      "Mean squared error  8.689240553997674\n"
     ]
    }
   ],
   "source": [
    "prediction = linRegMulti.predict(testX)\n",
    "print('Mean squared error ', mean_squared_error(testY, prediction))"
   ]
  },
  {
   "cell_type": "code",
   "execution_count": null,
   "id": "revolutionary-stanford",
   "metadata": {},
   "outputs": [],
   "source": []
  },
  {
   "cell_type": "code",
   "execution_count": null,
   "id": "divine-arizona",
   "metadata": {},
   "outputs": [],
   "source": []
  }
 ],
 "metadata": {
  "kernelspec": {
   "display_name": "Python 3",
   "language": "python",
   "name": "python3"
  },
  "language_info": {
   "codemirror_mode": {
    "name": "ipython",
    "version": 3
   },
   "file_extension": ".py",
   "mimetype": "text/x-python",
   "name": "python",
   "nbconvert_exporter": "python",
   "pygments_lexer": "ipython3",
   "version": "3.8.8"
  },
  "toc": {
   "base_numbering": 1,
   "nav_menu": {},
   "number_sections": true,
   "sideBar": true,
   "skip_h1_title": false,
   "title_cell": "Table of Contents",
   "title_sidebar": "Contents",
   "toc_cell": false,
   "toc_position": {},
   "toc_section_display": true,
   "toc_window_display": false
  }
 },
 "nbformat": 4,
 "nbformat_minor": 5
}
