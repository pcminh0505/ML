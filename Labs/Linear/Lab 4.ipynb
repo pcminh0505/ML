{
 "cells": [
  {
   "cell_type": "code",
   "execution_count": 1,
   "id": "adequate-international",
   "metadata": {
    "ExecuteTime": {
     "end_time": "2021-03-31T04:32:12.728594Z",
     "start_time": "2021-03-31T04:32:08.917078Z"
    }
   },
   "outputs": [],
   "source": [
    "import numpy as np\n",
    "import matplotlib.pyplot as plt\n",
    "import seaborn as sns\n",
    "import pandas as pd \n",
    "import sklearn as sk\n",
    "from matplotlib import style  \n",
    "style.use('dark_background')"
   ]
  },
  {
   "cell_type": "markdown",
   "id": "removable-blame",
   "metadata": {},
   "source": [
    "### Read csv file"
   ]
  },
  {
   "cell_type": "code",
   "execution_count": 2,
   "id": "consecutive-wallace",
   "metadata": {
    "ExecuteTime": {
     "end_time": "2021-03-31T04:32:12.803665Z",
     "start_time": "2021-03-31T04:32:12.732518Z"
    }
   },
   "outputs": [
    {
     "data": {
      "text/html": [
       "<div>\n",
       "<style scoped>\n",
       "    .dataframe tbody tr th:only-of-type {\n",
       "        vertical-align: middle;\n",
       "    }\n",
       "\n",
       "    .dataframe tbody tr th {\n",
       "        vertical-align: top;\n",
       "    }\n",
       "\n",
       "    .dataframe thead th {\n",
       "        text-align: right;\n",
       "    }\n",
       "</style>\n",
       "<table border=\"1\" class=\"dataframe\">\n",
       "  <thead>\n",
       "    <tr style=\"text-align: right;\">\n",
       "      <th></th>\n",
       "      <th>CRIM</th>\n",
       "      <th>ZN</th>\n",
       "      <th>INDUS</th>\n",
       "      <th>CHAS</th>\n",
       "      <th>NOX</th>\n",
       "      <th>RM</th>\n",
       "      <th>AGE</th>\n",
       "      <th>DIS</th>\n",
       "      <th>RAD</th>\n",
       "      <th>TAX</th>\n",
       "      <th>PTRATIO</th>\n",
       "      <th>B</th>\n",
       "      <th>LSTAT</th>\n",
       "      <th>MEDV</th>\n",
       "    </tr>\n",
       "  </thead>\n",
       "  <tbody>\n",
       "    <tr>\n",
       "      <th>0</th>\n",
       "      <td>0.00632</td>\n",
       "      <td>18.0</td>\n",
       "      <td>2.31</td>\n",
       "      <td>0</td>\n",
       "      <td>0.538</td>\n",
       "      <td>6.575</td>\n",
       "      <td>65.2</td>\n",
       "      <td>4.0900</td>\n",
       "      <td>1</td>\n",
       "      <td>296.0</td>\n",
       "      <td>15.3</td>\n",
       "      <td>396.90</td>\n",
       "      <td>4.98</td>\n",
       "      <td>24.0</td>\n",
       "    </tr>\n",
       "    <tr>\n",
       "      <th>1</th>\n",
       "      <td>0.02731</td>\n",
       "      <td>0.0</td>\n",
       "      <td>7.07</td>\n",
       "      <td>0</td>\n",
       "      <td>0.469</td>\n",
       "      <td>6.421</td>\n",
       "      <td>78.9</td>\n",
       "      <td>4.9671</td>\n",
       "      <td>2</td>\n",
       "      <td>242.0</td>\n",
       "      <td>17.8</td>\n",
       "      <td>396.90</td>\n",
       "      <td>9.14</td>\n",
       "      <td>21.6</td>\n",
       "    </tr>\n",
       "    <tr>\n",
       "      <th>2</th>\n",
       "      <td>0.02729</td>\n",
       "      <td>0.0</td>\n",
       "      <td>7.07</td>\n",
       "      <td>0</td>\n",
       "      <td>0.469</td>\n",
       "      <td>7.185</td>\n",
       "      <td>61.1</td>\n",
       "      <td>4.9671</td>\n",
       "      <td>2</td>\n",
       "      <td>242.0</td>\n",
       "      <td>17.8</td>\n",
       "      <td>392.83</td>\n",
       "      <td>4.03</td>\n",
       "      <td>34.7</td>\n",
       "    </tr>\n",
       "    <tr>\n",
       "      <th>3</th>\n",
       "      <td>0.03237</td>\n",
       "      <td>0.0</td>\n",
       "      <td>2.18</td>\n",
       "      <td>0</td>\n",
       "      <td>0.458</td>\n",
       "      <td>6.998</td>\n",
       "      <td>45.8</td>\n",
       "      <td>6.0622</td>\n",
       "      <td>3</td>\n",
       "      <td>222.0</td>\n",
       "      <td>18.7</td>\n",
       "      <td>394.63</td>\n",
       "      <td>2.94</td>\n",
       "      <td>33.4</td>\n",
       "    </tr>\n",
       "    <tr>\n",
       "      <th>4</th>\n",
       "      <td>0.06905</td>\n",
       "      <td>0.0</td>\n",
       "      <td>2.18</td>\n",
       "      <td>0</td>\n",
       "      <td>0.458</td>\n",
       "      <td>7.147</td>\n",
       "      <td>54.2</td>\n",
       "      <td>6.0622</td>\n",
       "      <td>3</td>\n",
       "      <td>222.0</td>\n",
       "      <td>18.7</td>\n",
       "      <td>396.90</td>\n",
       "      <td>5.33</td>\n",
       "      <td>36.2</td>\n",
       "    </tr>\n",
       "  </tbody>\n",
       "</table>\n",
       "</div>"
      ],
      "text/plain": [
       "      CRIM    ZN  INDUS  CHAS    NOX     RM   AGE     DIS  RAD    TAX  \\\n",
       "0  0.00632  18.0   2.31     0  0.538  6.575  65.2  4.0900    1  296.0   \n",
       "1  0.02731   0.0   7.07     0  0.469  6.421  78.9  4.9671    2  242.0   \n",
       "2  0.02729   0.0   7.07     0  0.469  7.185  61.1  4.9671    2  242.0   \n",
       "3  0.03237   0.0   2.18     0  0.458  6.998  45.8  6.0622    3  222.0   \n",
       "4  0.06905   0.0   2.18     0  0.458  7.147  54.2  6.0622    3  222.0   \n",
       "\n",
       "   PTRATIO       B  LSTAT  MEDV  \n",
       "0     15.3  396.90   4.98  24.0  \n",
       "1     17.8  396.90   9.14  21.6  \n",
       "2     17.8  392.83   4.03  34.7  \n",
       "3     18.7  394.63   2.94  33.4  \n",
       "4     18.7  396.90   5.33  36.2  "
      ]
     },
     "execution_count": 2,
     "metadata": {},
     "output_type": "execute_result"
    }
   ],
   "source": [
    "df = pd.read_csv('housing.data.csv',sep=\"\\s+\")\n",
    "df.head()"
   ]
  },
  {
   "cell_type": "markdown",
   "id": "certified-gamma",
   "metadata": {},
   "source": [
    "### Create independent variables"
   ]
  },
  {
   "cell_type": "code",
   "execution_count": 3,
   "id": "residential-firmware",
   "metadata": {
    "ExecuteTime": {
     "end_time": "2021-03-31T04:32:12.817496Z",
     "start_time": "2021-03-31T04:32:12.807018Z"
    }
   },
   "outputs": [],
   "source": [
    "X = df['RM']\n",
    "Y = df['MEDV']"
   ]
  },
  {
   "cell_type": "markdown",
   "id": "threaded-contributor",
   "metadata": {},
   "source": [
    "### Split train and test set"
   ]
  },
  {
   "cell_type": "code",
   "execution_count": 4,
   "id": "legislative-stevens",
   "metadata": {
    "ExecuteTime": {
     "end_time": "2021-03-31T04:32:12.967579Z",
     "start_time": "2021-03-31T04:32:12.822557Z"
    }
   },
   "outputs": [
    {
     "name": "stdout",
     "output_type": "stream",
     "text": [
      "(404, 1)\n",
      "(102, 1)\n",
      "(404, 1)\n",
      "(102, 1)\n"
     ]
    }
   ],
   "source": [
    "from sklearn.model_selection import train_test_split\n",
    "trainX, testX, trainY, testY = train_test_split(np.array(X),np.array(Y),test_size = 0.2, random_state = 99, shuffle = True)\n",
    "\n",
    "trainX = trainX.reshape(-1,1)\n",
    "testX = testX.reshape(-1,1)\n",
    "testY = testY.reshape(-1,1)\n",
    "trainY = trainY.reshape(-1,1)\n",
    "\n",
    "print(trainX.shape)\n",
    "print(testX.shape)\n",
    "print(trainY.shape)\n",
    "print(testY.shape)"
   ]
  },
  {
   "cell_type": "markdown",
   "id": "instructional-identifier",
   "metadata": {},
   "source": [
    "## Order 1 Polynominal"
   ]
  },
  {
   "cell_type": "code",
   "execution_count": 5,
   "id": "double-beatles",
   "metadata": {
    "ExecuteTime": {
     "end_time": "2021-03-31T04:32:13.102703Z",
     "start_time": "2021-03-31T04:32:12.972984Z"
    }
   },
   "outputs": [
    {
     "data": {
      "text/plain": [
       "LinearRegression()"
      ]
     },
     "execution_count": 5,
     "metadata": {},
     "output_type": "execute_result"
    }
   ],
   "source": [
    "from sklearn.linear_model import LinearRegression\n",
    "linReg = LinearRegression()\n",
    "\n",
    "linReg\n",
    "\n",
    "linReg.fit(trainX, trainY)"
   ]
  },
  {
   "cell_type": "code",
   "execution_count": 6,
   "id": "together-lucas",
   "metadata": {
    "ExecuteTime": {
     "end_time": "2021-03-31T04:32:13.120846Z",
     "start_time": "2021-03-31T04:32:13.107691Z"
    },
    "scrolled": true
   },
   "outputs": [
    {
     "name": "stdout",
     "output_type": "stream",
     "text": [
      "Intercept: [-35.51592711]\n",
      "Coefficient/Theta [[9.19589002]]\n"
     ]
    }
   ],
   "source": [
    "print('Intercept:', linReg.intercept_)\n",
    "print('Coefficient/Theta', linReg.coef_)"
   ]
  },
  {
   "cell_type": "code",
   "execution_count": 7,
   "id": "adjustable-staff",
   "metadata": {
    "ExecuteTime": {
     "end_time": "2021-03-31T04:32:13.142596Z",
     "start_time": "2021-03-31T04:32:13.129954Z"
    }
   },
   "outputs": [
    {
     "name": "stdout",
     "output_type": "stream",
     "text": [
      "Mean squared error  48.89573259954015\n"
     ]
    }
   ],
   "source": [
    "from sklearn.metrics import mean_squared_error\n",
    "\n",
    "pred_Lin = linReg.predict(testX)\n",
    "print('Mean squared error ', mean_squared_error(testY, pred_Lin))"
   ]
  },
  {
   "cell_type": "markdown",
   "id": "involved-ordering",
   "metadata": {},
   "source": [
    "## Order 4 Polynominal "
   ]
  },
  {
   "cell_type": "code",
   "execution_count": 8,
   "id": "floating-shelter",
   "metadata": {
    "ExecuteTime": {
     "end_time": "2021-03-31T04:32:13.167516Z",
     "start_time": "2021-03-31T04:32:13.150038Z"
    }
   },
   "outputs": [
    {
     "data": {
      "text/plain": [
       "LinearRegression()"
      ]
     },
     "execution_count": 8,
     "metadata": {},
     "output_type": "execute_result"
    }
   ],
   "source": [
    "from sklearn.preprocessing import PolynomialFeatures\n",
    "\n",
    "# Create the Order 4 Polynominal object\n",
    "poly_feat = PolynomialFeatures(degree = 4, include_bias = True)\n",
    "\n",
    "# Use the poly_feat object to transform/fit your features\n",
    "poly_feat.fit(trainX)\n",
    "\n",
    "# Tranform X for train and test set\n",
    "trainX_poly = poly_feat.transform(trainX)\n",
    "testX_poly = poly_feat.transform(testX)\n",
    "\n",
    "# Fit a Order 4 (Linear Regressoin object)\n",
    "linear_4 = LinearRegression()\n",
    "linear_4.fit(trainX_poly, trainY)\n"
   ]
  },
  {
   "cell_type": "code",
   "execution_count": 9,
   "id": "unnecessary-aviation",
   "metadata": {
    "ExecuteTime": {
     "end_time": "2021-03-31T04:32:13.186787Z",
     "start_time": "2021-03-31T04:32:13.173602Z"
    }
   },
   "outputs": [
    {
     "name": "stdout",
     "output_type": "stream",
     "text": [
      "Intercept: [-35.51592711]\n",
      "Coefficient/Theta [[9.19589002]]\n"
     ]
    }
   ],
   "source": [
    "print('Intercept:', linReg.intercept_)\n",
    "print('Coefficient/Theta', linReg.coef_)"
   ]
  },
  {
   "cell_type": "code",
   "execution_count": 10,
   "id": "adopted-needle",
   "metadata": {
    "ExecuteTime": {
     "end_time": "2021-03-31T04:32:13.206161Z",
     "start_time": "2021-03-31T04:32:13.192467Z"
    }
   },
   "outputs": [
    {
     "name": "stdout",
     "output_type": "stream",
     "text": [
      "Mean squared error  47.841368354184965\n"
     ]
    }
   ],
   "source": [
    "pred_4 = linear_4.predict(testX_poly)\n",
    "print('Mean squared error ', mean_squared_error(testY, pred_4))"
   ]
  },
  {
   "cell_type": "markdown",
   "id": "arabic-dairy",
   "metadata": {},
   "source": [
    "## Lasso Polynomial Regression"
   ]
  },
  {
   "cell_type": "code",
   "execution_count": 12,
   "id": "peaceful-fundamental",
   "metadata": {
    "ExecuteTime": {
     "end_time": "2021-03-31T04:44:34.088103Z",
     "start_time": "2021-03-31T04:44:34.049734Z"
    }
   },
   "outputs": [
    {
     "name": "stdout",
     "output_type": "stream",
     "text": [
      "Alpha 0.01 : 43.452825570089935\n",
      "Alpha 0.05 : 45.10427471743117\n",
      "Alpha 0.1 : 49.09674940842307\n",
      "Alpha 0.25 : 73.5947099242971\n",
      "Alpha 0.5 : 94.2823146327446\n",
      "Alpha 0.75 : 94.2823146327446\n",
      "Alpha 1 : 94.2823146327446\n"
     ]
    }
   ],
   "source": [
    "from sklearn.linear_model import Lasso \n",
    "\n",
    "# A list to hold different values of alpha\n",
    "lRegPara = [0.01,0.05,0.1,0.25,0.5,0.75,1]\n",
    "\n",
    "for regPara in lRegPara:\n",
    "    # Create the polynominal regression object\n",
    "    polyLassoReg = Lasso(alpha = regPara, normalize = True)\n",
    "    \n",
    "    # Create, then fit and transform at the same time trainX by using poly_feat object\n",
    "    polyFitTrainX = poly_feat.fit_transform(trainX)\n",
    "    polyFitTestX = poly_feat.fit_transform(testX)\n",
    "    \n",
    "    # Fit the model\n",
    "    polyLassoReg.fit(polyFitTrainX, trainY)\n",
    "    \n",
    "    # Predict\n",
    "    preds = polyLassoReg.predict(polyFitTestX)\n",
    "    \n",
    "    # MSE\n",
    "    mse = mean_squared_error(testY, preds)\n",
    "    print(\"Alpha\",regPara,\":\",mse)\n",
    "    "
   ]
  },
  {
   "cell_type": "markdown",
   "id": "fancy-nation",
   "metadata": {},
   "source": [
    "## K-fold cross validation"
   ]
  },
  {
   "cell_type": "code",
   "execution_count": 14,
   "id": "shaped-backing",
   "metadata": {
    "ExecuteTime": {
     "end_time": "2021-03-31T04:50:00.030047Z",
     "start_time": "2021-03-31T04:50:00.021976Z"
    }
   },
   "outputs": [],
   "source": [
    "from sklearn.model_selection import KFold\n",
    "kFold = KFold(n_splits=5, shuffle=True)"
   ]
  },
  {
   "cell_type": "code",
   "execution_count": null,
   "id": "adolescent-albany",
   "metadata": {},
   "outputs": [],
   "source": []
  }
 ],
 "metadata": {
  "kernelspec": {
   "display_name": "Python 3",
   "language": "python",
   "name": "python3"
  },
  "language_info": {
   "codemirror_mode": {
    "name": "ipython",
    "version": 3
   },
   "file_extension": ".py",
   "mimetype": "text/x-python",
   "name": "python",
   "nbconvert_exporter": "python",
   "pygments_lexer": "ipython3",
   "version": "3.8.8"
  },
  "toc": {
   "base_numbering": 1,
   "nav_menu": {},
   "number_sections": true,
   "sideBar": true,
   "skip_h1_title": false,
   "title_cell": "Table of Contents",
   "title_sidebar": "Contents",
   "toc_cell": false,
   "toc_position": {},
   "toc_section_display": true,
   "toc_window_display": false
  }
 },
 "nbformat": 4,
 "nbformat_minor": 5
}
