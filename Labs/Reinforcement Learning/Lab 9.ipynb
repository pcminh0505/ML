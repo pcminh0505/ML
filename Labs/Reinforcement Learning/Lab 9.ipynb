{
 "cells": [
  {
   "cell_type": "code",
   "execution_count": 1,
   "metadata": {
    "ExecuteTime": {
     "end_time": "2021-05-07T08:33:17.728045Z",
     "start_time": "2021-05-07T08:33:17.324095Z"
    }
   },
   "outputs": [],
   "source": [
    "import matplotlib.pyplot as plt\n",
    "%matplotlib inline\n",
    "from IPython import display\n",
    "import numpy as np\n",
    "import gym"
   ]
  },
  {
   "cell_type": "code",
   "execution_count": 2,
   "metadata": {
    "ExecuteTime": {
     "end_time": "2021-05-07T08:33:18.397119Z",
     "start_time": "2021-05-07T08:33:18.368195Z"
    }
   },
   "outputs": [
    {
     "name": "stdout",
     "output_type": "stream",
     "text": [
      "[-0.5303219  0.       ]\n"
     ]
    }
   ],
   "source": [
    "env = gym.make('MountainCar-v0')\n",
    "state = env.reset()\n",
    "print(state)"
   ]
  },
  {
   "cell_type": "code",
   "execution_count": 3,
   "metadata": {
    "ExecuteTime": {
     "end_time": "2021-05-07T08:33:19.359796Z",
     "start_time": "2021-05-07T08:33:19.341810Z"
    }
   },
   "outputs": [
    {
     "name": "stdout",
     "output_type": "stream",
     "text": [
      "State space:  Box(-1.2000000476837158, 0.6000000238418579, (2,), float32)\n",
      "Action space:  Discrete(3)\n"
     ]
    }
   ],
   "source": [
    "print('State space: ', env.observation_space)\n",
    "print('Action space: ', env.action_space)"
   ]
  },
  {
   "cell_type": "code",
   "execution_count": 4,
   "metadata": {
    "ExecuteTime": {
     "end_time": "2021-05-07T08:33:20.230595Z",
     "start_time": "2021-05-07T08:33:20.222822Z"
    }
   },
   "outputs": [
    {
     "name": "stdout",
     "output_type": "stream",
     "text": [
      "State space Low:  [-1.2  -0.07]\n",
      "State space High:  [0.6  0.07]\n"
     ]
    }
   ],
   "source": [
    "print('State space Low: ', env.observation_space.low)\n",
    "print('State space High: ', env.observation_space.high)"
   ]
  },
  {
   "cell_type": "code",
   "execution_count": 5,
   "metadata": {
    "ExecuteTime": {
     "end_time": "2021-05-07T08:33:21.212497Z",
     "start_time": "2021-05-07T08:33:21.198519Z"
    }
   },
   "outputs": [
    {
     "name": "stdout",
     "output_type": "stream",
     "text": [
      "[19 15]\n"
     ]
    }
   ],
   "source": [
    "num_states = (env.observation_space.high - env.observation_space.low)*np.array([10, 100])\n",
    "num_states = np.round(num_states, 0).astype(int) + 1\n",
    "print(num_states)"
   ]
  },
  {
   "cell_type": "code",
   "execution_count": 6,
   "metadata": {
    "ExecuteTime": {
     "end_time": "2021-05-07T08:33:22.210721Z",
     "start_time": "2021-05-07T08:33:22.194728Z"
    }
   },
   "outputs": [],
   "source": [
    "# Discretize state\n",
    "def discretize_state(state, env_low):\n",
    "    state_adj = (state - env_low)*np.array([10, 100])\n",
    "    state_adj = np.round(state_adj, 0).astype(int)\n",
    "    return state_adj"
   ]
  },
  {
   "cell_type": "code",
   "execution_count": 7,
   "metadata": {
    "ExecuteTime": {
     "end_time": "2021-05-07T08:33:24.253742Z",
     "start_time": "2021-05-07T08:33:24.225669Z"
    }
   },
   "outputs": [],
   "source": [
    "def show_state(env, step=0, info=\"\"):\n",
    "    plt.figure(1)\n",
    "    plt.clf()\n",
    "    plt.imshow(env.render(mode='rgb_array'))\n",
    "    plt.title(\"Step: %d %s\" % (step, info))\n",
    "    plt.axis('off')\n",
    "    display.clear_output(wait=True)\n",
    "    display.display(plt.gcf())"
   ]
  },
  {
   "cell_type": "code",
   "execution_count": 9,
   "metadata": {
    "ExecuteTime": {
     "end_time": "2021-05-07T08:43:59.271073Z",
     "start_time": "2021-05-07T08:43:35.204455Z"
    }
   },
   "outputs": [
    {
     "data": {
      "image/png": "[encoded data removed]",
      "text/plain": [
       "<Figure size 432x288 with 1 Axes>"
      ]
     },
     "metadata": {},
     "output_type": "display_data"
    },
    {
     "data": {
      "image/png": "[encoded data removed]",
      "text/plain": [
       "<Figure size 432x288 with 1 Axes>"
      ]
     },
     "metadata": {
      "needs_background": "light"
     },
     "output_type": "display_data"
    }
   ],
   "source": [
    "env.reset()\n",
    "done = False\n",
    "step_index = 0\n",
    "while done != True:\n",
    "    action = env.action_space.sample() # get a random action from the set of actions\n",
    "    state, reward, done, info = env.step(action) # perform the action and receive new state and reward\n",
    "    d_state = discretize_state(state, env.observation_space.low)\n",
    "    show_state(env, step=step_index, info='State ({},{}) Reward: {}'.format(d_state[0], d_state[1], reward))\n",
    "    step_index = step_index + 1"
   ]
  },
  {
   "cell_type": "code",
   "execution_count": 9,
   "metadata": {
    "ExecuteTime": {
     "end_time": "2021-05-07T08:25:29.903828Z",
     "start_time": "2021-05-07T08:25:25.981009Z"
    }
   },
   "outputs": [
    {
     "name": "stdout",
     "output_type": "stream",
     "text": [
      "Collecting pyglet==1.5.11\n",
      "  Downloading pyglet-1.5.11-py3-none-any.whl (1.1 MB)\n",
      "Installing collected packages: pyglet\n",
      "  Attempting uninstall: pyglet\n",
      "    Found existing installation: pyglet 1.5.0\n",
      "    Uninstalling pyglet-1.5.0:\n",
      "      Successfully uninstalled pyglet-1.5.0\n",
      "Successfully installed pyglet-1.5.11\n"
     ]
    },
    {
     "name": "stderr",
     "output_type": "stream",
     "text": [
      "WARNING: Ignoring invalid distribution -illow (c:\\users\\luong\\anaconda3\\lib\\site-packages)\n",
      "WARNING: Ignoring invalid distribution -illow (c:\\users\\luong\\anaconda3\\lib\\site-packages)\n",
      "WARNING: Ignoring invalid distribution -illow (c:\\users\\luong\\anaconda3\\lib\\site-packages)\n",
      "    WARNING: Ignoring invalid distribution -illow (c:\\users\\luong\\anaconda3\\lib\\site-packages)\n",
      "WARNING: Ignoring invalid distribution -illow (c:\\users\\luong\\anaconda3\\lib\\site-packages)\n",
      "ERROR: pip's dependency resolver does not currently take into account all the packages that are installed. This behaviour is the source of the following dependency conflicts.\n",
      "gym 0.18.0 requires pyglet<=1.5.0,>=1.4.0, but you have pyglet 1.5.11 which is incompatible.\n",
      "WARNING: Ignoring invalid distribution -illow (c:\\users\\luong\\anaconda3\\lib\\site-packages)\n",
      "WARNING: Ignoring invalid distribution -illow (c:\\users\\luong\\anaconda3\\lib\\site-packages)\n"
     ]
    }
   ],
   "source": [
    "# !pip install pyglet==1.5.11"
   ]
  },
  {
   "cell_type": "code",
   "execution_count": 10,
   "metadata": {
    "ExecuteTime": {
     "end_time": "2021-05-07T08:25:29.919814Z",
     "start_time": "2021-05-07T08:25:29.905790Z"
    }
   },
   "outputs": [
    {
     "ename": "IndentationError",
     "evalue": "expected an indented block (<ipython-input-10-a8a4565ca9b2>, line 29)",
     "output_type": "error",
     "traceback": [
      "\u001b[1;36m  File \u001b[1;32m\"<ipython-input-10-a8a4565ca9b2>\"\u001b[1;36m, line \u001b[1;32m29\u001b[0m\n\u001b[1;33m    else:\u001b[0m\n\u001b[1;37m    ^\u001b[0m\n\u001b[1;31mIndentationError\u001b[0m\u001b[1;31m:\u001b[0m expected an indented block\n"
     ]
    }
   ],
   "source": [
    "# Define Q-learning function\n",
    "def QLearning(env, Q, learning, discount, epsilon, episodes):\n",
    "    # Env: The OpenAI gym environment\n",
    "    # Q: Initial Q table\n",
    "    # learning: Learning Rate of Q learing\n",
    "    # discount: discount facotr (gamma)\n",
    "    # epsilon: epsilon for exploration vs exploitation\n",
    "    # episodes: number of episodes to run when learing the Q table\n",
    "    \n",
    "    # Initialize variables to hold rewards\n",
    "    reward_list = []\n",
    "    \n",
    "    # Calculate reduction in epsilon per episode\n",
    "    epsilon_d = (epsilon)/episodes\n",
    "    \n",
    "    for i in range(episodes):\n",
    "        done = False\n",
    "        tot_reward, reward = 0,0\n",
    "        state = env.reset()\n",
    "        \n",
    "        state_adj = discretize_state(state, env.observation_space.low)\n",
    "    \n",
    "        while done != True:   \n",
    "                \n",
    "            # Determine next action - epsilon greedy strategy for explore vs exploitation\n",
    "            if np.random.random() < 1 - epsilon:\n",
    "                # select the best action according to Qtable (exploitation)\n",
    "                # TODO\n",
    "                action = np.argmax(Q[state])\n",
    "            else:\n",
    "                # select a random action (exploration)\n",
    "                # TODO\n",
    "                action = env.action_space.sample()\n",
    "            # Step and Get the next state and reward\n",
    "            # TODO\n",
    "            \n",
    "            \n",
    "            \n",
    "            # Allow for terminal states\n",
    "            if done and state2[0] >= 0.5:\n",
    "                Q[state_adj[0], state_adj[1], action] = reward\n",
    "                \n",
    "            # Update the Q table\n",
    "            else:\n",
    "                # TODO\n",
    "                                      \n",
    "            # Update variables\n",
    "            tot_reward += reward\n",
    "            state_adj = state2_adj\n",
    "        \n",
    "        # Update epsilon\n",
    "        if epsilon > 0:\n",
    "            epsilon -= epsilon_d\n",
    "        \n",
    "        # Track rewards\n",
    "        reward_list.append(tot_reward)\n",
    "        \n",
    "        if (i+1) % 100 == 0:\n",
    "            ave_reward = np.mean(reward_list)\n",
    "            reward_list = []\n",
    "            \n",
    "        # Average reward is the average number of steps that the agent spent to win\n",
    "        if (i+1) % 100 == 0:    \n",
    "            print('Episode {} Average Reward: {} Epsilon {}'.format(i+1, ave_reward, np.round(epsilon,2)))\n",
    "            \n",
    "    env.close()\n",
    "    \n",
    "    return Q"
   ]
  },
  {
   "cell_type": "code",
   "execution_count": null,
   "metadata": {
    "ExecuteTime": {
     "end_time": "2021-05-07T08:25:29.922746Z",
     "start_time": "2021-05-07T08:25:05.261Z"
    }
   },
   "outputs": [],
   "source": [
    "# Initialize Q table randomly\n",
    "Q = np.random.uniform(low = -1, high = 1, size = (num_states[0], num_states[1], env.action_space.n))\n",
    "# Run Q-learning algorithm\n",
    "Q, rewards = QLearning(env, Q, 0.2, 0.9, 0.8, 5000)"
   ]
  },
  {
   "cell_type": "code",
   "execution_count": null,
   "metadata": {
    "ExecuteTime": {
     "end_time": "2021-05-07T08:25:29.923799Z",
     "start_time": "2021-05-07T08:25:05.438Z"
    }
   },
   "outputs": [],
   "source": [
    "state = env.reset()\n",
    "state_adj = discretize_state(state, env.observation_space.low)\n",
    "done = False\n",
    "step_index = 0\n",
    "while done != True:\n",
    "    action = np.argmax(Q[state_adj[0], state_adj[1]]) # Best action using the learned Q table\n",
    "    state, reward, done, info = env.step(action)\n",
    "    state_adj = discretize_state(state, env.observation_space.low)\n",
    "    show_state(env, step=step_index, info='State ({},{}) Reward: {}'.format(d_state[0], d_state[1], reward))\n",
    "    step_index = step_index + 1"
   ]
  },
  {
   "cell_type": "code",
   "execution_count": null,
   "metadata": {},
   "outputs": [],
   "source": []
  },
  {
   "cell_type": "code",
   "execution_count": null,
   "metadata": {},
   "outputs": [],
   "source": []
  }
 ],
 "metadata": {
  "kernelspec": {
   "display_name": "Python 3",
   "language": "python",
   "name": "python3"
  },
  "language_info": {
   "codemirror_mode": {
    "name": "ipython",
    "version": 3
   },
   "file_extension": ".py",
   "mimetype": "text/x-python",
   "name": "python",
   "nbconvert_exporter": "python",
   "pygments_lexer": "ipython3",
   "version": "3.8.5"
  },
  "toc": {
   "base_numbering": 1,
   "nav_menu": {},
   "number_sections": false,
   "sideBar": true,
   "skip_h1_title": false,
   "title_cell": "Table of Contents",
   "title_sidebar": "Contents",
   "toc_cell": false,
   "toc_position": {},
   "toc_section_display": true,
   "toc_window_display": false
  }
 },
 "nbformat": 4,
 "nbformat_minor": 4
}
