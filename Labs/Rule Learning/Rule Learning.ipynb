{
 "cells": [
  {
   "cell_type": "code",
   "execution_count": 1,
   "id": "logical-overhead",
   "metadata": {
    "ExecuteTime": {
     "end_time": "2021-04-28T04:26:07.293202Z",
     "start_time": "2021-04-28T04:26:06.407201Z"
    }
   },
   "outputs": [],
   "source": [
    "import numpy as np\n",
    "import matplotlib.pyplot as plt\n",
    "import seaborn as sns\n",
    "import pandas as pd  \n",
    "import math "
   ]
  },
  {
   "cell_type": "code",
   "execution_count": 2,
   "id": "cellular-frame",
   "metadata": {
    "ExecuteTime": {
     "end_time": "2021-04-28T04:26:07.309163Z",
     "start_time": "2021-04-28T04:26:07.294201Z"
    }
   },
   "outputs": [],
   "source": [
    "sail_data = pd.read_csv('sailing-custom-python.tab', sep=\"\\t\")\n",
    "zoo_data = pd.read_csv('zoo-python.tab', sep=\"\\t\").drop('name',axis = 1)"
   ]
  },
  {
   "cell_type": "markdown",
   "id": "basic-recommendation",
   "metadata": {},
   "source": [
    "## Entropy calculation"
   ]
  },
  {
   "cell_type": "code",
   "execution_count": 3,
   "id": "fiscal-genius",
   "metadata": {
    "ExecuteTime": {
     "end_time": "2021-04-28T04:26:07.325120Z",
     "start_time": "2021-04-28T04:26:07.312152Z"
    }
   },
   "outputs": [],
   "source": [
    "def entropy(data, target):\n",
    "    e_val = 0\n",
    "    size = data.shape[0]\n",
    "    vCounts = pd.value_counts(data[target])\n",
    "    for value in vCounts:\n",
    "        proportion = value / size\n",
    "        e_val = e_val - (proportion * math.log(proportion,2))   \n",
    "    return e_val"
   ]
  },
  {
   "cell_type": "code",
   "execution_count": 5,
   "id": "julian-tablet",
   "metadata": {
    "ExecuteTime": {
     "end_time": "2021-04-28T04:26:10.836424Z",
     "start_time": "2021-04-28T04:26:10.814589Z"
    }
   },
   "outputs": [
    {
     "data": {
      "text/plain": [
       "2.390559682294039"
      ]
     },
     "execution_count": 5,
     "metadata": {},
     "output_type": "execute_result"
    }
   ],
   "source": [
    "print(entropy(sail_data,'Sail'))\n",
    "print(entropy(zoo_data, 'type'))"
   ]
  },
  {
   "cell_type": "markdown",
   "id": "destroyed-movement",
   "metadata": {},
   "source": [
    "## Majority class"
   ]
  },
  {
   "cell_type": "code",
   "execution_count": 6,
   "id": "biblical-final",
   "metadata": {
    "ExecuteTime": {
     "end_time": "2021-04-28T04:30:42.473912Z",
     "start_time": "2021-04-28T04:30:42.461892Z"
    }
   },
   "outputs": [],
   "source": [
    "def majority_class(data, target):\n",
    "    counts = pd.value_counts(data[target])\n",
    "    max_name = counts.idxmax()\n",
    "    return max_name"
   ]
  },
  {
   "cell_type": "code",
   "execution_count": 7,
   "id": "generic-board",
   "metadata": {
    "ExecuteTime": {
     "end_time": "2021-04-28T04:30:51.893352Z",
     "start_time": "2021-04-28T04:30:51.881390Z"
    }
   },
   "outputs": [
    {
     "name": "stdout",
     "output_type": "stream",
     "text": [
      "yes\n",
      "mammal\n"
     ]
    }
   ],
   "source": [
    "print(majority_class(sail_data,'Sail'))\n",
    "print(majority_class(zoo_data, 'type'))"
   ]
  },
  {
   "cell_type": "markdown",
   "id": "sublime-detroit",
   "metadata": {},
   "source": [
    "## Rule Learning"
   ]
  },
  {
   "cell_type": "code",
   "execution_count": null,
   "id": "moral-sullivan",
   "metadata": {},
   "outputs": [],
   "source": [
    "def simple_rule_learner(data, target):\n",
    "    size = data.shape[0]\n",
    "    while size > 0:\n",
    "        if entropy(data) = 0:\n",
    "            print(\"Otherwise =>\", majority_class(data,target))\n",
    "            data = data.iloc[0,0]\n",
    "        else:\n",
    "            best_entropy = entropy(data)\n",
    "            best_attribute = ''\n",
    "            best_value = ''\n",
    "            best_data = data\n",
    "            for col in data.columns:\n",
    "                for value in col:\n",
    "                    vCounts = pd.value_counts(data[attribute])\n",
    "                    for value in vCounts.axes[0]:\n",
    "                        if entropy(data2) < best_entropys:\n",
    "                            best_attribute = col\n",
    "                            best_value = value\n",
    "                            best_data = data2\n",
    "            print(best_value, \"=\", best_attribute, \"=>\", majority_class(best_data,target))\n",
    "            data = data.loc[data[col] != value]\n",
    "            "
   ]
  },
  {
   "cell_type": "code",
   "execution_count": 8,
   "id": "crazy-rally",
   "metadata": {
    "ExecuteTime": {
     "end_time": "2021-04-28T04:50:51.424681Z",
     "start_time": "2021-04-28T04:50:51.412339Z"
    }
   },
   "outputs": [],
   "source": [
    "def simpler_rule_learner(data, target):\n",
    "    all_attributes = set(data.columns)\n",
    "    all_attributes = all_attributes.difference([target,])\n",
    "    \n",
    "    while data.shape[0] > 0:\n",
    "        if entropy(data, target) == 0:\n",
    "            print(\"otherwise =>\", majority_class(data,target))\n",
    "            data = data.iloc[0:0]\n",
    "        else:\n",
    "            best_entropy = entropy(data, target)\n",
    "            best_attribute = ''\n",
    "            best_value = ''\n",
    "            best_data = data\n",
    "            \n",
    "            for attribute in all_attributes:\n",
    "                vCounts = pd.value_counts(data[attribute])\n",
    "                for value in vCounts.axes[0]:\n",
    "                    data2 = data.loc[data[attribute] == value]\n",
    "                    if entropy(data2, target) < best_entropy:\n",
    "                        best_entropy = entropy(data2, target)\n",
    "                        best_attribute = attribute\n",
    "                        best_value = value\n",
    "                        best_data = data2\n",
    "      \n",
    "        print(best_attribute, '=', best_value, '=>', majority_class(best_data,target))\n",
    "        data = data.loc[data[best_attribute] != best_value]           "
   ]
  },
  {
   "cell_type": "code",
   "execution_count": 10,
   "id": "smaller-terminology",
   "metadata": {
    "ExecuteTime": {
     "end_time": "2021-04-28T04:51:10.173032Z",
     "start_time": "2021-04-28T04:51:10.113956Z"
    },
    "scrolled": true
   },
   "outputs": [
    {
     "name": "stdout",
     "output_type": "stream",
     "text": [
      "Company = big => yes\n",
      "Outlook = rainy => no\n",
      "Sailboat = small => yes\n",
      "Company = med => yes\n",
      "otherwise => no\n",
      "Company = med => yes\n"
     ]
    }
   ],
   "source": [
    "simpler_rule_learner(sail_data, 'Sail')"
   ]
  },
  {
   "cell_type": "code",
   "execution_count": 11,
   "id": "experimental-conditioning",
   "metadata": {
    "ExecuteTime": {
     "end_time": "2021-04-28T04:51:30.322354Z",
     "start_time": "2021-04-28T04:51:29.848110Z"
    }
   },
   "outputs": [
    {
     "name": "stdout",
     "output_type": "stream",
     "text": [
      "legs = 8.0 => invertebrate\n",
      "legs = 5.0 => invertebrate\n",
      "feathers = Yes => bird\n",
      "legs = 2.0 => mammal\n",
      "airborne = Yes => insect\n",
      "hair = Yes => mammal\n",
      "domestic = Yes => fish\n",
      "milk = Yes => mammal\n",
      "eggs = No => reptile\n",
      "fins = Yes => fish\n",
      "catsize = Yes => reptile\n",
      "breathes = No => invertebrate\n",
      "legs = 6.0 => insect\n",
      "toothed = No => invertebrate\n",
      "tail = No => amphibian\n",
      "venomous = Yes => reptile\n",
      "legs = 0.0 => reptile\n",
      "aquatic = Yes => amphibian\n",
      "otherwise => reptile\n",
      "aquatic = Yes => amphibian\n"
     ]
    }
   ],
   "source": [
    "simpler_rule_learner(zoo_data, 'type')"
   ]
  }
 ],
 "metadata": {
  "kernelspec": {
   "display_name": "Python 3",
   "language": "python",
   "name": "python3"
  },
  "language_info": {
   "codemirror_mode": {
    "name": "ipython",
    "version": 3
   },
   "file_extension": ".py",
   "mimetype": "text/x-python",
   "name": "python",
   "nbconvert_exporter": "python",
   "pygments_lexer": "ipython3",
   "version": "3.8.8"
  },
  "toc": {
   "base_numbering": 1,
   "nav_menu": {},
   "number_sections": false,
   "sideBar": true,
   "skip_h1_title": false,
   "title_cell": "Table of Contents",
   "title_sidebar": "Contents",
   "toc_cell": false,
   "toc_position": {},
   "toc_section_display": true,
   "toc_window_display": false
  }
 },
 "nbformat": 4,
 "nbformat_minor": 5
}
